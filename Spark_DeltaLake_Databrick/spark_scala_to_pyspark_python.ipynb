{
 "cells": [
  {
   "cell_type": "markdown",
   "metadata": {
    "application/vnd.databricks.v1+cell": {
     "cellMetadata": {},
     "inputWidgets": {},
     "nuid": "66dd529c-4a6b-4852-af09-56722fb18ce6",
     "showTitle": false,
     "tableResultSettingsMap": {},
     "title": ""
    }
   },
   "source": [
    "## python programming language"
   ]
  },
  {
   "cell_type": "code",
   "execution_count": 0,
   "metadata": {
    "application/vnd.databricks.v1+cell": {
     "cellMetadata": {
      "byteLimit": 2048000,
      "rowLimit": 10000
     },
     "inputWidgets": {},
     "nuid": "d0417aa0-7d27-4966-a11e-27041217f56c",
     "showTitle": false,
     "tableResultSettingsMap": {},
     "title": ""
    }
   },
   "outputs": [],
   "source": [
    "df1 = spark.read.format(\"csv\").option(\"header\", \"true\").load(\"dbfs:/FileStore/shared_uploads/mechinelearningai@gmail.com/fight_data.csv\")"
   ]
  },
  {
   "cell_type": "code",
   "execution_count": 0,
   "metadata": {
    "application/vnd.databricks.v1+cell": {
     "cellMetadata": {
      "byteLimit": 2048000,
      "rowLimit": 10000
     },
     "inputWidgets": {},
     "nuid": "531e7335-e4c6-4642-b564-74f4d02a4f1b",
     "showTitle": false,
     "tableResultSettingsMap": {},
     "title": ""
    }
   },
   "outputs": [
    {
     "output_type": "stream",
     "name": "stdout",
     "output_type": "stream",
     "text": [
      "+--------------------+-------------------+-----+\n|   DEST_COUNTRY_NAME|ORIGIN_COUNTRY_NAME|count|\n+--------------------+-------------------+-----+\n|       United States|            Romania|    1|\n|       United States|            Ireland|  264|\n|       United States|              India|   69|\n|               Egypt|      United States|   24|\n|   Equatorial Guinea|      United States|    1|\n|       United States|          Singapore|   25|\n|       United States|            Grenada|   54|\n|          Costa Rica|      United States|  477|\n|             Senegal|      United States|   29|\n|       United States|   Marshall Islands|   44|\n|              Guyana|      United States|   17|\n|       United States|       Sint Maarten|   53|\n|               Malta|      United States|    1|\n|             Bolivia|      United States|   46|\n|            Anguilla|      United States|   21|\n|Turks and Caicos ...|      United States|  136|\n|       United States|        Afghanistan|    2|\n|Saint Vincent and...|      United States|    1|\n|               Italy|      United States|  390|\n|       United States|             Russia|  156|\n+--------------------+-------------------+-----+\nonly showing top 20 rows\n\n"
     ]
    }
   ],
   "source": [
    "df1.show()"
   ]
  },
  {
   "cell_type": "markdown",
   "metadata": {
    "application/vnd.databricks.v1+cell": {
     "cellMetadata": {},
     "inputWidgets": {},
     "nuid": "58a542fa-385f-4c54-bebb-31ece1494eda",
     "showTitle": false,
     "tableResultSettingsMap": {},
     "title": ""
    }
   },
   "source": [
    "#**Read modes in spark**"
   ]
  },
  {
   "cell_type": "code",
   "execution_count": 0,
   "metadata": {
    "application/vnd.databricks.v1+cell": {
     "cellMetadata": {
      "byteLimit": 2048000,
      "rowLimit": 10000
     },
     "inputWidgets": {},
     "nuid": "45c728c6-0641-48d5-86bb-9b6b10ff163a",
     "showTitle": false,
     "tableResultSettingsMap": {},
     "title": ""
    }
   },
   "outputs": [
    {
     "output_type": "display_data",
     "data": {
      "text/html": [
       "\n",
       "            <div>\n",
       "                <p><b>SparkSession - hive</b></p>\n",
       "                \n",
       "        <div>\n",
       "            <p><b>SparkContext</b></p>\n",
       "\n",
       "            <p><a href=\"/?o=4181820806342716#setting/sparkui/1215-041937-zxrmjq1a/driver-254883697382374027\">Spark UI</a></p>\n",
       "\n",
       "            <dl>\n",
       "              <dt>Version</dt>\n",
       "                <dd><code>v3.3.2</code></dd>\n",
       "              <dt>Master</dt>\n",
       "                <dd><code>local[8]</code></dd>\n",
       "              <dt>AppName</dt>\n",
       "                <dd><code>Databricks Shell</code></dd>\n",
       "            </dl>\n",
       "        </div>\n",
       "        \n",
       "            </div>\n",
       "        "
      ]
     },
     "metadata": {
      "application/vnd.databricks.v1+output": {
       "addedWidgets": {},
       "arguments": {},
       "data": "\n            <div>\n                <p><b>SparkSession - hive</b></p>\n                \n        <div>\n            <p><b>SparkContext</b></p>\n\n            <p><a href=\"/?o=4181820806342716#setting/sparkui/1215-041937-zxrmjq1a/driver-254883697382374027\">Spark UI</a></p>\n\n            <dl>\n              <dt>Version</dt>\n                <dd><code>v3.3.2</code></dd>\n              <dt>Master</dt>\n                <dd><code>local[8]</code></dd>\n              <dt>AppName</dt>\n                <dd><code>Databricks Shell</code></dd>\n            </dl>\n        </div>\n        \n            </div>\n        ",
       "datasetInfos": [],
       "metadata": {},
       "removedWidgets": [],
       "textData": null,
       "type": "htmlSandbox"
      }
     },
     "output_type": "display_data"
    }
   ],
   "source": [
    "spark"
   ]
  },
  {
   "cell_type": "code",
   "execution_count": 0,
   "metadata": {
    "application/vnd.databricks.v1+cell": {
     "cellMetadata": {
      "byteLimit": 2048000,
      "rowLimit": 10000
     },
     "inputWidgets": {},
     "nuid": "0323e009-99b6-4d51-ad14-dace7cd81644",
     "showTitle": false,
     "tableResultSettingsMap": {},
     "title": ""
    }
   },
   "outputs": [
    {
     "output_type": "stream",
     "name": "stdout",
     "output_type": "stream",
     "text": [
      "+-----------------+-------------------+-----+\n|              _c0|                _c1|  _c2|\n+-----------------+-------------------+-----+\n|DEST_COUNTRY_NAME|ORIGIN_COUNTRY_NAME|count|\n|    United States|            Romania|    1|\n|    United States|            Ireland|  264|\n|    United States|              India|   69|\n|            Egypt|      United States|   24|\n+-----------------+-------------------+-----+\nonly showing top 5 rows\n\n"
     ]
    }
   ],
   "source": [
    "flight = spark.read.format(\"csv\")\\\n",
    "        .option(\"header\",\"false\")\\\n",
    "        .option(\"inferschema\",\"false\")\\\n",
    "        .option(\"mode\",\"FAILFAST\")\\\n",
    "        .load(\"dbfs:/FileStore/shared_uploads/mechinelearningai@gmail.com/fight_data.csv\")\n",
    "\n",
    "\n",
    "flight.show(5)"
   ]
  },
  {
   "cell_type": "code",
   "execution_count": 0,
   "metadata": {
    "application/vnd.databricks.v1+cell": {
     "cellMetadata": {
      "byteLimit": 2048000,
      "rowLimit": 10000
     },
     "inputWidgets": {},
     "nuid": "d083da24-8a6d-436f-bda3-6ff5e2cbadfc",
     "showTitle": false,
     "tableResultSettingsMap": {},
     "title": ""
    }
   },
   "outputs": [
    {
     "output_type": "stream",
     "name": "stdout",
     "output_type": "stream",
     "text": [
      "root\n |-- _c0: string (nullable = true)\n |-- _c1: string (nullable = true)\n |-- _c2: string (nullable = true)\n\n"
     ]
    }
   ],
   "source": [
    "flight.printSchema()"
   ]
  },
  {
   "cell_type": "code",
   "execution_count": 0,
   "metadata": {
    "application/vnd.databricks.v1+cell": {
     "cellMetadata": {
      "byteLimit": 2048000,
      "rowLimit": 10000
     },
     "inputWidgets": {},
     "nuid": "d619c545-e9ab-4ebd-a855-30648564f58f",
     "showTitle": false,
     "tableResultSettingsMap": {},
     "title": ""
    }
   },
   "outputs": [
    {
     "output_type": "stream",
     "name": "stdout",
     "output_type": "stream",
     "text": [
      "+-----------------+-------------------+-----+\n|DEST_COUNTRY_NAME|ORIGIN_COUNTRY_NAME|count|\n+-----------------+-------------------+-----+\n|    United States|            Romania|    1|\n|    United States|            Ireland|  264|\n|    United States|              India|   69|\n|            Egypt|      United States|   24|\n|Equatorial Guinea|      United States|    1|\n+-----------------+-------------------+-----+\nonly showing top 5 rows\n\n"
     ]
    }
   ],
   "source": [
    "flight_df = spark.read.format(\"csv\")\\\n",
    "        .option(\"header\",\"true\")\\\n",
    "        .option(\"inferschema\",\"false\")\\\n",
    "        .option(\"mode\",\"FAILFAST\")\\\n",
    "        .load(\"dbfs:/FileStore/shared_uploads/mechinelearningai@gmail.com/fight_data.csv\")\n",
    "\n",
    "\n",
    "flight_df.show(5)"
   ]
  },
  {
   "cell_type": "code",
   "execution_count": 0,
   "metadata": {
    "application/vnd.databricks.v1+cell": {
     "cellMetadata": {
      "byteLimit": 2048000,
      "rowLimit": 10000
     },
     "inputWidgets": {},
     "nuid": "0c81692f-34ae-4bbe-a31e-6e5d04f713e9",
     "showTitle": false,
     "tableResultSettingsMap": {},
     "title": ""
    }
   },
   "outputs": [
    {
     "output_type": "stream",
     "name": "stdout",
     "output_type": "stream",
     "text": [
      "root\n |-- DEST_COUNTRY_NAME: string (nullable = true)\n |-- ORIGIN_COUNTRY_NAME: string (nullable = true)\n |-- count: string (nullable = true)\n\n"
     ]
    }
   ],
   "source": [
    "flight_df.printSchema()"
   ]
  },
  {
   "cell_type": "code",
   "execution_count": 0,
   "metadata": {
    "application/vnd.databricks.v1+cell": {
     "cellMetadata": {
      "byteLimit": 2048000,
      "rowLimit": 10000
     },
     "inputWidgets": {},
     "nuid": "e05a443c-153d-456f-a3ec-2e6adc3ea538",
     "showTitle": false,
     "tableResultSettingsMap": {},
     "title": ""
    }
   },
   "outputs": [
    {
     "output_type": "stream",
     "name": "stdout",
     "output_type": "stream",
     "text": [
      "+-----------------+-------------------+-----+\n|DEST_COUNTRY_NAME|ORIGIN_COUNTRY_NAME|count|\n+-----------------+-------------------+-----+\n|    United States|            Romania|    1|\n|    United States|            Ireland|  264|\n|    United States|              India|   69|\n|            Egypt|      United States|   24|\n|Equatorial Guinea|      United States|    1|\n+-----------------+-------------------+-----+\nonly showing top 5 rows\n\n"
     ]
    }
   ],
   "source": [
    "flight_df_schema = spark.read.format(\"csv\")\\\n",
    "        .option(\"header\",\"true\")\\\n",
    "        .option(\"inferschema\",\"true\")\\\n",
    "        .option(\"mode\",\"FAILFAST\")\\\n",
    "        .load(\"dbfs:/FileStore/shared_uploads/mechinelearningai@gmail.com/fight_data.csv\")\n",
    "\n",
    "\n",
    "flight_df_schema.show(5)"
   ]
  },
  {
   "cell_type": "code",
   "execution_count": 0,
   "metadata": {
    "application/vnd.databricks.v1+cell": {
     "cellMetadata": {
      "byteLimit": 2048000,
      "rowLimit": 10000
     },
     "inputWidgets": {},
     "nuid": "57ea5617-ad14-4c94-b806-3936d93e9ee9",
     "showTitle": false,
     "tableResultSettingsMap": {},
     "title": ""
    }
   },
   "outputs": [
    {
     "output_type": "stream",
     "name": "stdout",
     "output_type": "stream",
     "text": [
      "root\n |-- DEST_COUNTRY_NAME: string (nullable = true)\n |-- ORIGIN_COUNTRY_NAME: string (nullable = true)\n |-- count: integer (nullable = true)\n\n"
     ]
    }
   ],
   "source": [
    "flight_df_schema.printSchema()"
   ]
  },
  {
   "cell_type": "markdown",
   "metadata": {
    "application/vnd.databricks.v1+cell": {
     "cellMetadata": {},
     "inputWidgets": {},
     "nuid": "780d43e5-5c76-4138-87bd-2ef12445e845",
     "showTitle": false,
     "tableResultSettingsMap": {},
     "title": ""
    }
   },
   "source": [
    "## scala programming language"
   ]
  },
  {
   "cell_type": "code",
   "execution_count": 0,
   "metadata": {
    "application/vnd.databricks.v1+cell": {
     "cellMetadata": {
      "byteLimit": 2048000,
      "rowLimit": 10000
     },
     "inputWidgets": {},
     "nuid": "1fbf001f-00f5-4118-ae6e-3200fad4c1a4",
     "showTitle": false,
     "tableResultSettingsMap": {},
     "title": ""
    }
   },
   "outputs": [
    {
     "output_type": "display_data",
     "data": {
      "text/html": [
       "<style scoped>\n",
       "  .ansiout {\n",
       "    display: block;\n",
       "    unicode-bidi: embed;\n",
       "    white-space: pre-wrap;\n",
       "    word-wrap: break-word;\n",
       "    word-break: break-all;\n",
       "    font-family: \"Menlo\", \"Monaco\", \"Consolas\", \"Ubuntu Mono\", \"Source Code Pro\", monospace;\n",
       "    font-size: 13px;\n",
       "    color: #555;\n",
       "    margin-left: 4px;\n",
       "    line-height: 19px;\n",
       "  }\n",
       "</style>\n",
       "<div class=\"ansiout\">+-----------------+-------------------+-----+\n",
       "DEST_COUNTRY_NAME|ORIGIN_COUNTRY_NAME|count|\n",
       "+-----------------+-------------------+-----+\n",
       "    United States|            Romania|    1|\n",
       "    United States|            Ireland|  264|\n",
       "    United States|              India|   69|\n",
       "            Egypt|      United States|   24|\n",
       "Equatorial Guinea|      United States|    1|\n",
       "+-----------------+-------------------+-----+\n",
       "only showing top 5 rows\n",
       "\n",
       "import org.apache.spark.sql.SparkSession\n",
       "spark: org.apache.spark.sql.SparkSession = org.apache.spark.sql.SparkSession@5ae2dedf\n",
       "flight_df_scala: org.apache.spark.sql.DataFrame = [DEST_COUNTRY_NAME: string, ORIGIN_COUNTRY_NAME: string ... 1 more field]\n",
       "</div>"
      ]
     },
     "metadata": {
      "application/vnd.databricks.v1+output": {
       "addedWidgets": {},
       "arguments": {},
       "data": "<div class=\"ansiout\">+-----------------+-------------------+-----+\n|DEST_COUNTRY_NAME|ORIGIN_COUNTRY_NAME|count|\n+-----------------+-------------------+-----+\n|    United States|            Romania|    1|\n|    United States|            Ireland|  264|\n|    United States|              India|   69|\n|            Egypt|      United States|   24|\n|Equatorial Guinea|      United States|    1|\n+-----------------+-------------------+-----+\nonly showing top 5 rows\n\nimport org.apache.spark.sql.SparkSession\nspark: org.apache.spark.sql.SparkSession = org.apache.spark.sql.SparkSession@5ae2dedf\nflight_df_scala: org.apache.spark.sql.DataFrame = [DEST_COUNTRY_NAME: string, ORIGIN_COUNTRY_NAME: string ... 1 more field]\n</div>",
       "datasetInfos": [
        {
         "name": "flight_df_scala",
         "schema": {
          "fields": [
           {
            "metadata": {},
            "name": "DEST_COUNTRY_NAME",
            "nullable": true,
            "type": "string"
           },
           {
            "metadata": {},
            "name": "ORIGIN_COUNTRY_NAME",
            "nullable": true,
            "type": "string"
           },
           {
            "metadata": {},
            "name": "count",
            "nullable": true,
            "type": "integer"
           }
          ],
          "type": "struct"
         },
         "tableIdentifier": null,
         "typeStr": "org.apache.spark.sql.DataFrame"
        }
       ],
       "metadata": {
        "isDbfsCommandResult": false
       },
       "removedWidgets": [],
       "type": "html"
      }
     },
     "output_type": "display_data"
    }
   ],
   "source": [
    "%scala\n",
    "import org.apache.spark.sql.SparkSession\n",
    "\n",
    "// Initialize Spark session\n",
    "val spark = SparkSession.builder()\n",
    "  .appName(\"Flight Data\")\n",
    "  .getOrCreate()\n",
    "\n",
    "// Read the CSV file with specified options\n",
    "val flight_df_scala = spark.read.format(\"csv\")\n",
    "  .option(\"header\", \"true\")\n",
    "  .option(\"inferSchema\", \"true\")\n",
    "  .option(\"mode\", \"FAILFAST\")\n",
    "  .load(\"dbfs:/FileStore/shared_uploads/mechinelearningai@gmail.com/fight_data.csv\")\n",
    "\n",
    "// Show the first 5 rows of the DataFrame\n",
    "flight_df_scala.show(5)"
   ]
  },
  {
   "cell_type": "code",
   "execution_count": 0,
   "metadata": {
    "application/vnd.databricks.v1+cell": {
     "cellMetadata": {
      "byteLimit": 2048000,
      "rowLimit": 10000
     },
     "inputWidgets": {},
     "nuid": "d3977f2e-63bd-4b95-befa-cc5d2377a688",
     "showTitle": false,
     "tableResultSettingsMap": {},
     "title": ""
    }
   },
   "outputs": [
    {
     "output_type": "display_data",
     "data": {
      "text/html": [
       "<style scoped>\n",
       "  .ansiout {\n",
       "    display: block;\n",
       "    unicode-bidi: embed;\n",
       "    white-space: pre-wrap;\n",
       "    word-wrap: break-word;\n",
       "    word-break: break-all;\n",
       "    font-family: \"Menlo\", \"Monaco\", \"Consolas\", \"Ubuntu Mono\", \"Source Code Pro\", monospace;\n",
       "    font-size: 13px;\n",
       "    color: #555;\n",
       "    margin-left: 4px;\n",
       "    line-height: 19px;\n",
       "  }\n",
       "</style>\n",
       "<div class=\"ansiout\">root\n",
       "-- DEST_COUNTRY_NAME: string (nullable = true)\n",
       "-- ORIGIN_COUNTRY_NAME: string (nullable = true)\n",
       "-- count: integer (nullable = true)\n",
       "\n",
       "</div>"
      ]
     },
     "metadata": {
      "application/vnd.databricks.v1+output": {
       "addedWidgets": {},
       "arguments": {},
       "data": "<div class=\"ansiout\">root\n |-- DEST_COUNTRY_NAME: string (nullable = true)\n |-- ORIGIN_COUNTRY_NAME: string (nullable = true)\n |-- count: integer (nullable = true)\n\n</div>",
       "datasetInfos": [],
       "metadata": {
        "isDbfsCommandResult": false
       },
       "removedWidgets": [],
       "type": "html"
      }
     },
     "output_type": "display_data"
    }
   ],
   "source": [
    "%scala\n",
    "flight_df_scala.printSchema()"
   ]
  },
  {
   "cell_type": "markdown",
   "metadata": {
    "application/vnd.databricks.v1+cell": {
     "cellMetadata": {},
     "inputWidgets": {},
     "nuid": "d472116b-3a93-4e34-9235-f6f824005ee3",
     "showTitle": false,
     "tableResultSettingsMap": {},
     "title": ""
    }
   },
   "source": [
    "## schema in spark with Python "
   ]
  },
  {
   "cell_type": "code",
   "execution_count": 0,
   "metadata": {
    "application/vnd.databricks.v1+cell": {
     "cellMetadata": {
      "byteLimit": 2048000,
      "rowLimit": 10000
     },
     "inputWidgets": {},
     "nuid": "3a721fd0-e771-40d8-91c4-4b144953d85a",
     "showTitle": false,
     "tableResultSettingsMap": {},
     "title": ""
    }
   },
   "outputs": [
    {
     "output_type": "stream",
     "name": "stdout",
     "output_type": "stream",
     "text": [
      "+-----------------+-------------------+-----+\n|DEST_COUNTRY_NAME|ORIGIN_COUNTRY_NAME|count|\n+-----------------+-------------------+-----+\n|    United States|            Romania|    1|\n|    United States|            Ireland|  264|\n|    United States|              India|   69|\n|            Egypt|      United States|   24|\n|Equatorial Guinea|      United States|    1|\n+-----------------+-------------------+-----+\nonly showing top 5 rows\n\n"
     ]
    }
   ],
   "source": [
    "flight_my_schema = spark.read.format(\"csv\")\\\n",
    "        .option(\"header\",\"true\")\\\n",
    "        .option(\"inferschema\",\"false\")\\\n",
    "        .schema(my_schema)\\\n",
    "        .option(\"mode\",\"FAILFAST\")\\\n",
    "        .load(\"dbfs:/FileStore/shared_uploads/mechinelearningai@gmail.com/fight_data.csv\")\n",
    "\n",
    "\n",
    "flight_my_schema.show(5)"
   ]
  },
  {
   "cell_type": "code",
   "execution_count": 0,
   "metadata": {
    "application/vnd.databricks.v1+cell": {
     "cellMetadata": {
      "byteLimit": 2048000,
      "rowLimit": 10000
     },
     "inputWidgets": {},
     "nuid": "540f02ae-5565-4592-b4c8-341ab5bc888c",
     "showTitle": false,
     "tableResultSettingsMap": {},
     "title": ""
    }
   },
   "outputs": [
    {
     "output_type": "stream",
     "name": "stdout",
     "output_type": "stream",
     "text": [
      "+-----------------+-------------------+-----+\n|DEST_COUNTRY_NAME|ORIGIN_COUNTRY_NAME|count|\n+-----------------+-------------------+-----+\n|    United States|            Romania|    1|\n|    United States|            Ireland|  264|\n|    United States|              India|   69|\n|            Egypt|      United States|   24|\n|Equatorial Guinea|      United States|    1|\n+-----------------+-------------------+-----+\nonly showing top 5 rows\n\n"
     ]
    }
   ],
   "source": [
    "from pyspark.sql.types import StructType, StructField, StringType, IntegerType \n",
    "\n",
    "# Define the schema\n",
    "my_schema = StructType([\n",
    "    StructField(\"DEST_COUNTRY_NAME\", StringType(), True),\n",
    "    StructField(\"ORIGIN_COUNTRY_NAME\", StringType(), True),\n",
    "    StructField(\"count\", IntegerType(), True)\n",
    "])\n",
    "\n",
    "\n",
    "###########################\n",
    "flight_my_schema = spark.read.format(\"csv\")\\\n",
    "        .option(\"header\",\"true\")\\\n",
    "        .option(\"inferschema\",\"false\")\\\n",
    "        .schema(my_schema)\\\n",
    "        .option(\"mode\",\"FAILFAST\")\\\n",
    "        .load(\"dbfs:/FileStore/shared_uploads/mechinelearningai@gmail.com/fight_data.csv\")\n",
    "\n",
    "\n",
    "flight_my_schema.show(5)"
   ]
  },
  {
   "cell_type": "markdown",
   "metadata": {
    "application/vnd.databricks.v1+cell": {
     "cellMetadata": {},
     "inputWidgets": {},
     "nuid": "f007c577-a75f-451e-abf6-4501ded03d0f",
     "showTitle": false,
     "tableResultSettingsMap": {},
     "title": ""
    }
   },
   "source": [
    "## drop the index column with python\n"
   ]
  },
  {
   "cell_type": "code",
   "execution_count": 0,
   "metadata": {
    "application/vnd.databricks.v1+cell": {
     "cellMetadata": {
      "byteLimit": 2048000,
      "rowLimit": 10000
     },
     "inputWidgets": {},
     "nuid": "aaea6080-5e6a-405e-9644-e53ae9b59d70",
     "showTitle": false,
     "tableResultSettingsMap": {},
     "title": ""
    }
   },
   "outputs": [
    {
     "output_type": "stream",
     "name": "stdout",
     "output_type": "stream",
     "text": [
      "Original Data:\n+-----------------+-------------------+-----+\n|DEST_COUNTRY_NAME|ORIGIN_COUNTRY_NAME|count|\n+-----------------+-------------------+-----+\n|United States    |Romania            |1    |\n|United States    |Ireland            |264  |\n|United States    |India              |69   |\n|Egypt            |United States      |24   |\n|Equatorial Guinea|United States      |1    |\n+-----------------+-------------------+-----+\nonly showing top 5 rows\n\nFiltered Data:\n+-----------------+-------------------+-----+\n|DEST_COUNTRY_NAME|ORIGIN_COUNTRY_NAME|count|\n+-----------------+-------------------+-----+\n|United States    |India              |69   |\n|Egypt            |United States      |24   |\n|Equatorial Guinea|United States      |1    |\n|United States    |Singapore          |25   |\n|United States    |Grenada            |54   |\n+-----------------+-------------------+-----+\nonly showing top 5 rows\n\n"
     ]
    }
   ],
   "source": [
    "from pyspark.sql.types import StructType, StructField, StringType, IntegerType\n",
    "from pyspark.sql.functions import col, monotonically_increasing_id\n",
    "\n",
    "# Define the schema\n",
    "my_schema = StructType([\n",
    "    StructField(\"DEST_COUNTRY_NAME\", StringType(), True),\n",
    "    StructField(\"ORIGIN_COUNTRY_NAME\", StringType(), True),\n",
    "    StructField(\"count\", IntegerType(), True)\n",
    "])\n",
    "\n",
    "# Load the CSV file using the schema\n",
    "flight_my_schema = spark.read.format(\"csv\")\\\n",
    "    .option(\"header\", \"true\")\\\n",
    "    .option(\"inferschema\", \"false\")\\\n",
    "    .schema(my_schema)\\\n",
    "    .option(\"mode\", \"FAILFAST\")\\\n",
    "    .load(\"dbfs:/FileStore/shared_uploads/mechinelearningai@gmail.com/fight_data.csv\")\n",
    "\n",
    "# Show the first 5 rows of the original data\n",
    "print(\"Original Data:\")\n",
    "flight_my_schema.show(5, truncate=False)\n",
    "\n",
    "# Add an index column\n",
    "indexed = flight_my_schema.withColumn(\"index\", monotonically_increasing_id())\n",
    "\n",
    "# Filter out the first two rows (index > 1) and drop the index column\n",
    "filtered = indexed.filter(col(\"index\") > 1).drop(\"index\")\n",
    "\n",
    "# Show the filtered data\n",
    "print(\"Filtered Data:\")\n",
    "filtered.show(5, truncate=False)\n"
   ]
  },
  {
   "cell_type": "markdown",
   "metadata": {
    "application/vnd.databricks.v1+cell": {
     "cellMetadata": {},
     "inputWidgets": {},
     "nuid": "d5f5f9c1-77eb-4bb3-a9a6-9ff850d5703d",
     "showTitle": false,
     "tableResultSettingsMap": {},
     "title": ""
    }
   },
   "source": [
    "## schema in spark with Scala"
   ]
  },
  {
   "cell_type": "code",
   "execution_count": 0,
   "metadata": {
    "application/vnd.databricks.v1+cell": {
     "cellMetadata": {
      "byteLimit": 2048000,
      "rowLimit": 10000
     },
     "inputWidgets": {},
     "nuid": "a6b993e8-d3b3-40ed-ba04-8971970984c4",
     "showTitle": false,
     "tableResultSettingsMap": {},
     "title": ""
    }
   },
   "outputs": [
    {
     "output_type": "display_data",
     "data": {
      "text/html": [
       "<style scoped>\n",
       "  .ansiout {\n",
       "    display: block;\n",
       "    unicode-bidi: embed;\n",
       "    white-space: pre-wrap;\n",
       "    word-wrap: break-word;\n",
       "    word-break: break-all;\n",
       "    font-family: \"Menlo\", \"Monaco\", \"Consolas\", \"Ubuntu Mono\", \"Source Code Pro\", monospace;\n",
       "    font-size: 13px;\n",
       "    color: #555;\n",
       "    margin-left: 4px;\n",
       "    line-height: 19px;\n",
       "  }\n",
       "</style>\n",
       "<div class=\"ansiout\">+-----------------+-------------------+-----+\n",
       "DEST_COUNTRY_NAME|ORIGIN_COUNTRY_NAME|count|\n",
       "+-----------------+-------------------+-----+\n",
       "    United States|            Romania|    1|\n",
       "    United States|            Ireland|  264|\n",
       "    United States|              India|   69|\n",
       "            Egypt|      United States|   24|\n",
       "Equatorial Guinea|      United States|    1|\n",
       "+-----------------+-------------------+-----+\n",
       "only showing top 5 rows\n",
       "\n",
       "import org.apache.spark.sql.SparkSession\n",
       "import org.apache.spark.sql.types.{StructType, StructField, StringType, IntegerType}\n",
       "spark: org.apache.spark.sql.SparkSession = org.apache.spark.sql.SparkSession@70c95251\n",
       "mySchema: org.apache.spark.sql.types.StructType = StructType(StructField(DEST_COUNTRY_NAME,StringType,true),StructField(ORIGIN_COUNTRY_NAME,StringType,true),StructField(count,IntegerType,true))\n",
       "flightData: org.apache.spark.sql.DataFrame = [DEST_COUNTRY_NAME: string, ORIGIN_COUNTRY_NAME: string ... 1 more field]\n",
       "</div>"
      ]
     },
     "metadata": {
      "application/vnd.databricks.v1+output": {
       "addedWidgets": {},
       "arguments": {},
       "data": "<div class=\"ansiout\">+-----------------+-------------------+-----+\n|DEST_COUNTRY_NAME|ORIGIN_COUNTRY_NAME|count|\n+-----------------+-------------------+-----+\n|    United States|            Romania|    1|\n|    United States|            Ireland|  264|\n|    United States|              India|   69|\n|            Egypt|      United States|   24|\n|Equatorial Guinea|      United States|    1|\n+-----------------+-------------------+-----+\nonly showing top 5 rows\n\nimport org.apache.spark.sql.SparkSession\nimport org.apache.spark.sql.types.{StructType, StructField, StringType, IntegerType}\nspark: org.apache.spark.sql.SparkSession = org.apache.spark.sql.SparkSession@70c95251\nmySchema: org.apache.spark.sql.types.StructType = StructType(StructField(DEST_COUNTRY_NAME,StringType,true),StructField(ORIGIN_COUNTRY_NAME,StringType,true),StructField(count,IntegerType,true))\nflightData: org.apache.spark.sql.DataFrame = [DEST_COUNTRY_NAME: string, ORIGIN_COUNTRY_NAME: string ... 1 more field]\n</div>",
       "datasetInfos": [
        {
         "name": "flightData",
         "schema": {
          "fields": [
           {
            "metadata": {},
            "name": "DEST_COUNTRY_NAME",
            "nullable": true,
            "type": "string"
           },
           {
            "metadata": {},
            "name": "ORIGIN_COUNTRY_NAME",
            "nullable": true,
            "type": "string"
           },
           {
            "metadata": {},
            "name": "count",
            "nullable": true,
            "type": "integer"
           }
          ],
          "type": "struct"
         },
         "tableIdentifier": null,
         "typeStr": "org.apache.spark.sql.DataFrame"
        }
       ],
       "metadata": {
        "isDbfsCommandResult": false
       },
       "removedWidgets": [],
       "type": "html"
      }
     },
     "output_type": "display_data"
    }
   ],
   "source": [
    "%scala\n",
    "import org.apache.spark.sql.SparkSession\n",
    "import org.apache.spark.sql.types.{StructType, StructField, StringType, IntegerType}\n",
    "\n",
    "// Initialize Spark session\n",
    "val spark = SparkSession.builder()\n",
    "  .appName(\"Flight Data\")\n",
    "  .getOrCreate()\n",
    "\n",
    "// Define the schema\n",
    "val mySchema = StructType(Array(\n",
    "    StructField(\"DEST_COUNTRY_NAME\", StringType, true),\n",
    "    StructField(\"ORIGIN_COUNTRY_NAME\", StringType, true),\n",
    "    StructField(\"count\", IntegerType, true)\n",
    "))\n",
    "\n",
    "// Read the CSV file with the defined schema\n",
    "  val flightData = spark.read.format(\"csv\")\n",
    "    .option(\"header\", \"true\") // Use the first row as the header\n",
    "    .option(\"inferSchema\", \"false\") // Do not infer schema\n",
    "    .schema(mySchema) // Use the defined schema\n",
    "    .option(\"mode\", \"FAILFAST\") // Fail fast on any read errors\n",
    "    .load(\"dbfs:/FileStore/shared_uploads/mechinelearningai@gmail.com/fight_data.csv\")\n",
    "\n",
    "  // Show the first 5 rows of the DataFrame\n",
    "  flightData.show(5)"
   ]
  },
  {
   "cell_type": "markdown",
   "metadata": {
    "application/vnd.databricks.v1+cell": {
     "cellMetadata": {},
     "inputWidgets": {},
     "nuid": "b97166da-991d-4540-a910-8eb28607e202",
     "showTitle": false,
     "tableResultSettingsMap": {},
     "title": ""
    }
   },
   "source": [
    "## drop the index with scala "
   ]
  },
  {
   "cell_type": "code",
   "execution_count": 0,
   "metadata": {
    "application/vnd.databricks.v1+cell": {
     "cellMetadata": {
      "byteLimit": 2048000,
      "rowLimit": 10000
     },
     "inputWidgets": {},
     "nuid": "e38e862b-71ff-4d37-a489-aa9d611aaf92",
     "showTitle": false,
     "tableResultSettingsMap": {},
     "title": ""
    }
   },
   "outputs": [
    {
     "output_type": "display_data",
     "data": {
      "text/html": [
       "<style scoped>\n",
       "  .ansiout {\n",
       "    display: block;\n",
       "    unicode-bidi: embed;\n",
       "    white-space: pre-wrap;\n",
       "    word-wrap: break-word;\n",
       "    word-break: break-all;\n",
       "    font-family: \"Menlo\", \"Monaco\", \"Consolas\", \"Ubuntu Mono\", \"Source Code Pro\", monospace;\n",
       "    font-size: 13px;\n",
       "    color: #555;\n",
       "    margin-left: 4px;\n",
       "    line-height: 19px;\n",
       "  }\n",
       "</style>\n",
       "<div class=\"ansiout\">Original Data:\n",
       "+-----------------+-------------------+-----+\n",
       "DEST_COUNTRY_NAME|ORIGIN_COUNTRY_NAME|count|\n",
       "+-----------------+-------------------+-----+\n",
       "United States    |Romania            |1    |\n",
       "United States    |Ireland            |264  |\n",
       "United States    |India              |69   |\n",
       "Egypt            |United States      |24   |\n",
       "Equatorial Guinea|United States      |1    |\n",
       "+-----------------+-------------------+-----+\n",
       "only showing top 5 rows\n",
       "\n",
       "Filtered Data:\n",
       "+-----------------+-------------------+-----+\n",
       "DEST_COUNTRY_NAME|ORIGIN_COUNTRY_NAME|count|\n",
       "+-----------------+-------------------+-----+\n",
       "United States    |India              |69   |\n",
       "Egypt            |United States      |24   |\n",
       "Equatorial Guinea|United States      |1    |\n",
       "United States    |Singapore          |25   |\n",
       "United States    |Grenada            |54   |\n",
       "+-----------------+-------------------+-----+\n",
       "only showing top 5 rows\n",
       "\n",
       "command-1438412362699132:34: warning: method monotonicallyIncreasingId in object functions is deprecated (since 2.0.0): Use monotonically_increasing_id()\n",
       "val indexed = flightData.withColumn(&quot;index&quot;, monotonicallyIncreasingId())\n",
       "                                             ^\n",
       "import org.apache.spark.sql.SparkSession\n",
       "import org.apache.spark.sql.types.{StructType, StructField, StringType, IntegerType}\n",
       "import org.apache.spark.sql.functions.{col, monotonicallyIncreasingId}\n",
       "spark: org.apache.spark.sql.SparkSession = org.apache.spark.sql.SparkSession@70c95251\n",
       "import spark.implicits._\n",
       "mySchema: org.apache.spark.sql.types.StructType = StructType(StructField(DEST_COUNTRY_NAME,StringType,true),StructField(ORIGIN_COUNTRY_NAME,StringType,true),StructField(count,IntegerType,true))\n",
       "flightData: org.apache.spark.sql.DataFrame = [DEST_COUNTRY_NAME: string, ORIGIN_COUNTRY_NAME: string ... 1 more field]\n",
       "indexed: org.apache.spark.sql.DataFrame = [DEST_COUNTRY_NAME: string, ORIGIN_COUNTRY_NAME: string ... 2 more fields]\n",
       "filtered: org.apache.spark.sql.DataFrame = [DEST_COUNTRY_NAME: string, ORIGIN_COUNTRY_NAME: string ... 1 more field]\n",
       "</div>"
      ]
     },
     "metadata": {
      "application/vnd.databricks.v1+output": {
       "addedWidgets": {},
       "arguments": {},
       "data": "<div class=\"ansiout\">Original Data:\n+-----------------+-------------------+-----+\n|DEST_COUNTRY_NAME|ORIGIN_COUNTRY_NAME|count|\n+-----------------+-------------------+-----+\n|United States    |Romania            |1    |\n|United States    |Ireland            |264  |\n|United States    |India              |69   |\n|Egypt            |United States      |24   |\n|Equatorial Guinea|United States      |1    |\n+-----------------+-------------------+-----+\nonly showing top 5 rows\n\nFiltered Data:\n+-----------------+-------------------+-----+\n|DEST_COUNTRY_NAME|ORIGIN_COUNTRY_NAME|count|\n+-----------------+-------------------+-----+\n|United States    |India              |69   |\n|Egypt            |United States      |24   |\n|Equatorial Guinea|United States      |1    |\n|United States    |Singapore          |25   |\n|United States    |Grenada            |54   |\n+-----------------+-------------------+-----+\nonly showing top 5 rows\n\ncommand-1438412362699132:34: warning: method monotonicallyIncreasingId in object functions is deprecated (since 2.0.0): Use monotonically_increasing_id()\nval indexed = flightData.withColumn(&quot;index&quot;, monotonicallyIncreasingId())\n                                             ^\nimport org.apache.spark.sql.SparkSession\nimport org.apache.spark.sql.types.{StructType, StructField, StringType, IntegerType}\nimport org.apache.spark.sql.functions.{col, monotonicallyIncreasingId}\nspark: org.apache.spark.sql.SparkSession = org.apache.spark.sql.SparkSession@70c95251\nimport spark.implicits._\nmySchema: org.apache.spark.sql.types.StructType = StructType(StructField(DEST_COUNTRY_NAME,StringType,true),StructField(ORIGIN_COUNTRY_NAME,StringType,true),StructField(count,IntegerType,true))\nflightData: org.apache.spark.sql.DataFrame = [DEST_COUNTRY_NAME: string, ORIGIN_COUNTRY_NAME: string ... 1 more field]\nindexed: org.apache.spark.sql.DataFrame = [DEST_COUNTRY_NAME: string, ORIGIN_COUNTRY_NAME: string ... 2 more fields]\nfiltered: org.apache.spark.sql.DataFrame = [DEST_COUNTRY_NAME: string, ORIGIN_COUNTRY_NAME: string ... 1 more field]\n</div>",
       "datasetInfos": [],
       "metadata": {
        "isDbfsCommandResult": false
       },
       "removedWidgets": [],
       "type": "html"
      }
     },
     "output_type": "display_data"
    }
   ],
   "source": [
    "%scala\n",
    "import org.apache.spark.sql.SparkSession\n",
    "import org.apache.spark.sql.types.{StructType, StructField, StringType, IntegerType}\n",
    "import org.apache.spark.sql.functions.{col, monotonicallyIncreasingId}\n",
    "\n",
    "// Initialize Spark session\n",
    "val spark = SparkSession.builder()\n",
    "  .appName(\"Flight Data\")\n",
    "  .getOrCreate()\n",
    "\n",
    "import spark.implicits._ // Import implicits for DataFrame conversions\n",
    "\n",
    "// Define the schema\n",
    "val mySchema = StructType(Array(\n",
    "  StructField(\"DEST_COUNTRY_NAME\", StringType, true),\n",
    "  StructField(\"ORIGIN_COUNTRY_NAME\", StringType, true),\n",
    "  StructField(\"count\", IntegerType, true)\n",
    "))\n",
    "\n",
    "// Read the CSV file with the defined schema\n",
    "val flightData = spark.read.format(\"csv\")\n",
    "  .option(\"header\", \"true\") // Use the first row as the header\n",
    "  .option(\"inferSchema\", \"false\") // Do not infer schema\n",
    "  .option(\"delimiter\", \",\") // Set delimiter\n",
    "  .option(\"quote\", \"\\\"\") // Handle quoted strings\n",
    "  .schema(mySchema) // Use the defined schema\n",
    "  .option(\"mode\", \"PERMISSIVE\") // Allow for partial errors\n",
    "  .load(\"dbfs:/FileStore/shared_uploads/mechinelearningai@gmail.com/fight_data.csv\")\n",
    "\n",
    "// Show the first 5 rows of the original data\n",
    "println(\"Original Data:\")\n",
    "flightData.show(5, truncate = false)\n",
    "\n",
    "// Add an index column\n",
    "val indexed = flightData.withColumn(\"index\", monotonicallyIncreasingId())\n",
    "\n",
    "// Filter out the first two rows (index > 2) and drop the index column\n",
    "val filtered = indexed.filter(col(\"index\") > 1).drop(\"index\")\n",
    "\n",
    "// Show the filtered data\n",
    "println(\"Filtered Data:\")\n",
    "filtered.show(5, false)"
   ]
  },
  {
   "cell_type": "code",
   "execution_count": 0,
   "metadata": {
    "application/vnd.databricks.v1+cell": {
     "cellMetadata": {
      "byteLimit": 2048000,
      "rowLimit": 10000
     },
     "inputWidgets": {},
     "nuid": "cd03b466-798b-4986-a82b-7c5a466add8d",
     "showTitle": false,
     "tableResultSettingsMap": {},
     "title": ""
    }
   },
   "outputs": [
    {
     "output_type": "display_data",
     "data": {
      "text/html": [
       "<style scoped>\n",
       "  .ansiout {\n",
       "    display: block;\n",
       "    unicode-bidi: embed;\n",
       "    white-space: pre-wrap;\n",
       "    word-wrap: break-word;\n",
       "    word-break: break-all;\n",
       "    font-family: \"Menlo\", \"Monaco\", \"Consolas\", \"Ubuntu Mono\", \"Source Code Pro\", monospace;\n",
       "    font-size: 13px;\n",
       "    color: #555;\n",
       "    margin-left: 4px;\n",
       "    line-height: 19px;\n",
       "  }\n",
       "</style>\n",
       "<div class=\"ansiout\">hellohi</div>"
      ]
     },
     "metadata": {
      "application/vnd.databricks.v1+output": {
       "addedWidgets": {},
       "arguments": {},
       "data": "<div class=\"ansiout\">hellohi</div>",
       "datasetInfos": [],
       "metadata": {
        "isDbfsCommandResult": false
       },
       "removedWidgets": [],
       "type": "html"
      }
     },
     "output_type": "display_data"
    }
   ],
   "source": [
    "%scala\n",
    "print(\"hello\")\n",
    "print(\"hi\")"
   ]
  },
  {
   "cell_type": "code",
   "execution_count": 0,
   "metadata": {
    "application/vnd.databricks.v1+cell": {
     "cellMetadata": {
      "byteLimit": 2048000,
      "rowLimit": 10000
     },
     "inputWidgets": {},
     "nuid": "5394176e-f2de-4a50-98ac-20bec393d63d",
     "showTitle": false,
     "tableResultSettingsMap": {},
     "title": ""
    }
   },
   "outputs": [
    {
     "output_type": "display_data",
     "data": {
      "text/html": [
       "<style scoped>\n",
       "  .ansiout {\n",
       "    display: block;\n",
       "    unicode-bidi: embed;\n",
       "    white-space: pre-wrap;\n",
       "    word-wrap: break-word;\n",
       "    word-break: break-all;\n",
       "    font-family: \"Menlo\", \"Monaco\", \"Consolas\", \"Ubuntu Mono\", \"Source Code Pro\", monospace;\n",
       "    font-size: 13px;\n",
       "    color: #555;\n",
       "    margin-left: 4px;\n",
       "    line-height: 19px;\n",
       "  }\n",
       "</style>\n",
       "<div class=\"ansiout\">hello\n",
       "hi\n",
       "</div>"
      ]
     },
     "metadata": {
      "application/vnd.databricks.v1+output": {
       "addedWidgets": {},
       "arguments": {},
       "data": "<div class=\"ansiout\">hello\nhi\n</div>",
       "datasetInfos": [],
       "metadata": {
        "isDbfsCommandResult": false
       },
       "removedWidgets": [],
       "type": "html"
      }
     },
     "output_type": "display_data"
    }
   ],
   "source": [
    "%scala\n",
    "println(\"hello\")\n",
    "println(\"hi\")"
   ]
  },
  {
   "cell_type": "code",
   "execution_count": 0,
   "metadata": {
    "application/vnd.databricks.v1+cell": {
     "cellMetadata": {
      "byteLimit": 2048000,
      "rowLimit": 10000
     },
     "inputWidgets": {},
     "nuid": "57ee6c93-06d1-4c0f-bc1c-176c474fe6b6",
     "showTitle": false,
     "tableResultSettingsMap": {},
     "title": ""
    }
   },
   "outputs": [
    {
     "output_type": "display_data",
     "data": {
      "text/html": [
       "<style scoped>\n",
       "  .ansiout {\n",
       "    display: block;\n",
       "    unicode-bidi: embed;\n",
       "    white-space: pre-wrap;\n",
       "    word-wrap: break-word;\n",
       "    word-break: break-all;\n",
       "    font-family: \"Menlo\", \"Monaco\", \"Consolas\", \"Ubuntu Mono\", \"Source Code Pro\", monospace;\n",
       "    font-size: 13px;\n",
       "    color: #555;\n",
       "    margin-left: 4px;\n",
       "    line-height: 19px;\n",
       "  }\n",
       "</style>\n",
       "<div class=\"ansiout\">import org.apache.spark.sql.SparkSession\n",
       "import org.apache.spark.sql.types.{StructType, StructField, StringType, IntegerType}\n",
       "defined object FlightDataApp\n",
       "</div>"
      ]
     },
     "metadata": {
      "application/vnd.databricks.v1+output": {
       "addedWidgets": {},
       "arguments": {},
       "data": "<div class=\"ansiout\">import org.apache.spark.sql.SparkSession\nimport org.apache.spark.sql.types.{StructType, StructField, StringType, IntegerType}\ndefined object FlightDataApp\n</div>",
       "datasetInfos": [],
       "metadata": {
        "isDbfsCommandResult": false
       },
       "removedWidgets": [],
       "type": "html"
      }
     },
     "output_type": "display_data"
    }
   ],
   "source": [
    "%scala\n",
    "import org.apache.spark.sql.SparkSession\n",
    "import org.apache.spark.sql.types.{StructType, StructField, StringType, IntegerType}\n",
    "\n",
    "object FlightDataApp {\n",
    "  def main(args: Array[String]): Unit = {\n",
    "    // Initialize Spark session\n",
    "    val spark = SparkSession.builder()\n",
    "      .appName(\"Flight Data\")\n",
    "      .master(\"local[*]\") // Use all available cores locally\n",
    "      .getOrCreate()\n",
    "\n",
    "    // Define the schema\n",
    "    val mySchema = StructType(Array(\n",
    "      StructField(\"DEST_COUNTRY_NAME\", StringType, true),\n",
    "      StructField(\"ORIGIN_COUNTRY_NAME\", StringType, true),\n",
    "      StructField(\"count\", IntegerType, true)\n",
    "    ))\n",
    "\n",
    "    // Read the CSV file with the defined schema\n",
    "    val flightData = spark.read.format(\"csv\")\n",
    "      .option(\"header\", \"true\") // Use the first row as the header\n",
    "      .option(\"inferSchema\", \"false\") // Do not infer schema\n",
    "      .schema(mySchema) // Use the defined schema\n",
    "      .option(\"mode\", \"FAILFAST\") // Fail fast on any read errors\n",
    "      .load(\"dbfs:/FileStore/shared_uploads/mechinelearningai@gmail.com/fight_data.csv\")\n",
    "\n",
    "    // Show the first 5 rows of the DataFrame\n",
    "    flightData.show(5)\n",
    "\n",
    "    // Stop the Spark session\n",
    "    spark.stop()\n",
    "  }\n",
    "}\n"
   ]
  },
  {
   "cell_type": "markdown",
   "metadata": {
    "application/vnd.databricks.v1+cell": {
     "cellMetadata": {},
     "inputWidgets": {},
     "nuid": "9b5f259f-117e-4d86-aeb5-bdbbb7541d0b",
     "showTitle": false,
     "tableResultSettingsMap": {},
     "title": ""
    }
   },
   "source": [
    "## Handling corrupted records in python\n"
   ]
  },
  {
   "cell_type": "code",
   "execution_count": 0,
   "metadata": {
    "application/vnd.databricks.v1+cell": {
     "cellMetadata": {
      "byteLimit": 2048000,
      "rowLimit": 10000
     },
     "inputWidgets": {},
     "nuid": "26aa8fc2-7105-4df2-bf8c-b3cc4d0e3670",
     "showTitle": false,
     "tableResultSettingsMap": {},
     "title": ""
    }
   },
   "outputs": [],
   "source": [
    "# df1 = spark.read.format(\"csv\").option(\"header\", \"true\").load(\"dbfs:/FileStore/shared_uploads/mechinelearningai@gmail.com/employee.csv\")"
   ]
  },
  {
   "cell_type": "code",
   "execution_count": 0,
   "metadata": {
    "application/vnd.databricks.v1+cell": {
     "cellMetadata": {
      "byteLimit": 2048000,
      "rowLimit": 10000
     },
     "inputWidgets": {},
     "nuid": "65e585d3-0965-4a1c-8b8f-b9e47a38c123",
     "showTitle": false,
     "tableResultSettingsMap": {},
     "title": ""
    }
   },
   "outputs": [
    {
     "output_type": "stream",
     "name": "stdout",
     "output_type": "stream",
     "text": [
      "+---+--------+---+------+------------+--------+\n| id|    name|age|salary|     address| nominee|\n+---+--------+---+------+------------+--------+\n|  1|  Manish| 26| 75000|       bihar|nominee1|\n|  2|  Nikita| 23|100000|uttarpradesh|nominee2|\n|  3|  Pritam| 22|150000|   Bangalore|   India|\n|  4|Prantosh| 17|200000|     Kolkata|   India|\n|  5|  Vikash| 31|300000|        null|nominee5|\n+---+--------+---+------+------------+--------+\n\n"
     ]
    }
   ],
   "source": [
    "employee_df = spark.read.format(\"csv\")\\\n",
    "        .option(\"header\",\"true\")\\\n",
    "        .option(\"inferschema\",\"true\")\\\n",
    "        .option(\"mode\",\"PERMISSIVE\")\\\n",
    "        .load(\"dbfs:/FileStore/shared_uploads/mechinelearningai@gmail.com/employee.csv\")\n",
    "\n",
    "\n",
    "employee_df.show(5)"
   ]
  },
  {
   "cell_type": "code",
   "execution_count": 0,
   "metadata": {
    "application/vnd.databricks.v1+cell": {
     "cellMetadata": {
      "byteLimit": 2048000,
      "rowLimit": 10000
     },
     "inputWidgets": {},
     "nuid": "5ccb6dd7-d6f5-4e01-9d98-9c510080aa13",
     "showTitle": false,
     "tableResultSettingsMap": {},
     "title": ""
    }
   },
   "outputs": [
    {
     "output_type": "stream",
     "name": "stdout",
     "output_type": "stream",
     "text": [
      "+---+------+---+------+------------+--------+\n| id|  name|age|salary|     address| nominee|\n+---+------+---+------+------------+--------+\n|  1|Manish| 26| 75000|       bihar|nominee1|\n|  2|Nikita| 23|100000|uttarpradesh|nominee2|\n|  5|Vikash| 31|300000|        null|nominee5|\n+---+------+---+------+------------+--------+\n\n"
     ]
    }
   ],
   "source": [
    "employee_df = spark.read.format(\"csv\")\\\n",
    "        .option(\"header\",\"true\")\\\n",
    "        .option(\"inferschema\",\"true\")\\\n",
    "        .option(\"mode\",\"DROPMALFORMED\")\\\n",
    "        .load(\"dbfs:/FileStore/shared_uploads/mechinelearningai@gmail.com/employee.csv\")\n",
    "\n",
    "\n",
    "employee_df.show(5)"
   ]
  },
  {
   "cell_type": "code",
   "execution_count": 0,
   "metadata": {
    "application/vnd.databricks.v1+cell": {
     "cellMetadata": {
      "byteLimit": 2048000,
      "rowLimit": 10000
     },
     "inputWidgets": {},
     "nuid": "09fd957e-7308-42cd-a85e-bc1aa75f42b2",
     "showTitle": false,
     "tableResultSettingsMap": {},
     "title": ""
    }
   },
   "outputs": [
    {
     "output_type": "display_data",
     "data": {
      "text/plain": [
       "\u001B[0;31m---------------------------------------------------------------------------\u001B[0m\n",
       "\u001B[0;31mPy4JJavaError\u001B[0m                             Traceback (most recent call last)\n",
       "File \u001B[0;32m<command-1438412362699140>:8\u001B[0m\n",
       "\u001B[1;32m      1\u001B[0m employee_df \u001B[38;5;241m=\u001B[39m spark\u001B[38;5;241m.\u001B[39mread\u001B[38;5;241m.\u001B[39mformat(\u001B[38;5;124m\"\u001B[39m\u001B[38;5;124mcsv\u001B[39m\u001B[38;5;124m\"\u001B[39m)\\\n",
       "\u001B[1;32m      2\u001B[0m         \u001B[38;5;241m.\u001B[39moption(\u001B[38;5;124m\"\u001B[39m\u001B[38;5;124mheader\u001B[39m\u001B[38;5;124m\"\u001B[39m,\u001B[38;5;124m\"\u001B[39m\u001B[38;5;124mtrue\u001B[39m\u001B[38;5;124m\"\u001B[39m)\\\n",
       "\u001B[1;32m      3\u001B[0m         \u001B[38;5;241m.\u001B[39moption(\u001B[38;5;124m\"\u001B[39m\u001B[38;5;124minferschema\u001B[39m\u001B[38;5;124m\"\u001B[39m,\u001B[38;5;124m\"\u001B[39m\u001B[38;5;124mtrue\u001B[39m\u001B[38;5;124m\"\u001B[39m)\\\n",
       "\u001B[1;32m      4\u001B[0m         \u001B[38;5;241m.\u001B[39moption(\u001B[38;5;124m\"\u001B[39m\u001B[38;5;124mmode\u001B[39m\u001B[38;5;124m\"\u001B[39m,\u001B[38;5;124m\"\u001B[39m\u001B[38;5;124mFAILFAST\u001B[39m\u001B[38;5;124m\"\u001B[39m)\\\n",
       "\u001B[1;32m      5\u001B[0m         \u001B[38;5;241m.\u001B[39mload(\u001B[38;5;124m\"\u001B[39m\u001B[38;5;124mdbfs:/FileStore/shared_uploads/mechinelearningai@gmail.com/employee.csv\u001B[39m\u001B[38;5;124m\"\u001B[39m)\n",
       "\u001B[0;32m----> 8\u001B[0m employee_df\u001B[38;5;241m.\u001B[39mshow(\u001B[38;5;241m5\u001B[39m)\n",
       "\n",
       "File \u001B[0;32m/databricks/spark/python/pyspark/instrumentation_utils.py:48\u001B[0m, in \u001B[0;36m_wrap_function.<locals>.wrapper\u001B[0;34m(*args, **kwargs)\u001B[0m\n",
       "\u001B[1;32m     46\u001B[0m start \u001B[38;5;241m=\u001B[39m time\u001B[38;5;241m.\u001B[39mperf_counter()\n",
       "\u001B[1;32m     47\u001B[0m \u001B[38;5;28;01mtry\u001B[39;00m:\n",
       "\u001B[0;32m---> 48\u001B[0m     res \u001B[38;5;241m=\u001B[39m \u001B[43mfunc\u001B[49m\u001B[43m(\u001B[49m\u001B[38;5;241;43m*\u001B[39;49m\u001B[43margs\u001B[49m\u001B[43m,\u001B[49m\u001B[43m \u001B[49m\u001B[38;5;241;43m*\u001B[39;49m\u001B[38;5;241;43m*\u001B[39;49m\u001B[43mkwargs\u001B[49m\u001B[43m)\u001B[49m\n",
       "\u001B[1;32m     49\u001B[0m     logger\u001B[38;5;241m.\u001B[39mlog_success(\n",
       "\u001B[1;32m     50\u001B[0m         module_name, class_name, function_name, time\u001B[38;5;241m.\u001B[39mperf_counter() \u001B[38;5;241m-\u001B[39m start, signature\n",
       "\u001B[1;32m     51\u001B[0m     )\n",
       "\u001B[1;32m     52\u001B[0m     \u001B[38;5;28;01mreturn\u001B[39;00m res\n",
       "\n",
       "File \u001B[0;32m/databricks/spark/python/pyspark/sql/dataframe.py:920\u001B[0m, in \u001B[0;36mDataFrame.show\u001B[0;34m(self, n, truncate, vertical)\u001B[0m\n",
       "\u001B[1;32m    914\u001B[0m     \u001B[38;5;28;01mraise\u001B[39;00m PySparkTypeError(\n",
       "\u001B[1;32m    915\u001B[0m         error_class\u001B[38;5;241m=\u001B[39m\u001B[38;5;124m\"\u001B[39m\u001B[38;5;124mNOT_A_BOOLEAN\u001B[39m\u001B[38;5;124m\"\u001B[39m,\n",
       "\u001B[1;32m    916\u001B[0m         message_parameters\u001B[38;5;241m=\u001B[39m{\u001B[38;5;124m\"\u001B[39m\u001B[38;5;124marg_name\u001B[39m\u001B[38;5;124m\"\u001B[39m: \u001B[38;5;124m\"\u001B[39m\u001B[38;5;124mvertical\u001B[39m\u001B[38;5;124m\"\u001B[39m, \u001B[38;5;124m\"\u001B[39m\u001B[38;5;124marg_type\u001B[39m\u001B[38;5;124m\"\u001B[39m: \u001B[38;5;28mtype\u001B[39m(vertical)\u001B[38;5;241m.\u001B[39m\u001B[38;5;18m__name__\u001B[39m},\n",
       "\u001B[1;32m    917\u001B[0m     )\n",
       "\u001B[1;32m    919\u001B[0m \u001B[38;5;28;01mif\u001B[39;00m \u001B[38;5;28misinstance\u001B[39m(truncate, \u001B[38;5;28mbool\u001B[39m) \u001B[38;5;129;01mand\u001B[39;00m truncate:\n",
       "\u001B[0;32m--> 920\u001B[0m     \u001B[38;5;28mprint\u001B[39m(\u001B[38;5;28;43mself\u001B[39;49m\u001B[38;5;241;43m.\u001B[39;49m\u001B[43m_jdf\u001B[49m\u001B[38;5;241;43m.\u001B[39;49m\u001B[43mshowString\u001B[49m\u001B[43m(\u001B[49m\u001B[43mn\u001B[49m\u001B[43m,\u001B[49m\u001B[43m \u001B[49m\u001B[38;5;241;43m20\u001B[39;49m\u001B[43m,\u001B[49m\u001B[43m \u001B[49m\u001B[43mvertical\u001B[49m\u001B[43m)\u001B[49m)\n",
       "\u001B[1;32m    921\u001B[0m \u001B[38;5;28;01melse\u001B[39;00m:\n",
       "\u001B[1;32m    922\u001B[0m     \u001B[38;5;28;01mtry\u001B[39;00m:\n",
       "\n",
       "File \u001B[0;32m/databricks/spark/python/lib/py4j-0.10.9.5-src.zip/py4j/java_gateway.py:1321\u001B[0m, in \u001B[0;36mJavaMember.__call__\u001B[0;34m(self, *args)\u001B[0m\n",
       "\u001B[1;32m   1315\u001B[0m command \u001B[38;5;241m=\u001B[39m proto\u001B[38;5;241m.\u001B[39mCALL_COMMAND_NAME \u001B[38;5;241m+\u001B[39m\\\n",
       "\u001B[1;32m   1316\u001B[0m     \u001B[38;5;28mself\u001B[39m\u001B[38;5;241m.\u001B[39mcommand_header \u001B[38;5;241m+\u001B[39m\\\n",
       "\u001B[1;32m   1317\u001B[0m     args_command \u001B[38;5;241m+\u001B[39m\\\n",
       "\u001B[1;32m   1318\u001B[0m     proto\u001B[38;5;241m.\u001B[39mEND_COMMAND_PART\n",
       "\u001B[1;32m   1320\u001B[0m answer \u001B[38;5;241m=\u001B[39m \u001B[38;5;28mself\u001B[39m\u001B[38;5;241m.\u001B[39mgateway_client\u001B[38;5;241m.\u001B[39msend_command(command)\n",
       "\u001B[0;32m-> 1321\u001B[0m return_value \u001B[38;5;241m=\u001B[39m \u001B[43mget_return_value\u001B[49m\u001B[43m(\u001B[49m\n",
       "\u001B[1;32m   1322\u001B[0m \u001B[43m    \u001B[49m\u001B[43manswer\u001B[49m\u001B[43m,\u001B[49m\u001B[43m \u001B[49m\u001B[38;5;28;43mself\u001B[39;49m\u001B[38;5;241;43m.\u001B[39;49m\u001B[43mgateway_client\u001B[49m\u001B[43m,\u001B[49m\u001B[43m \u001B[49m\u001B[38;5;28;43mself\u001B[39;49m\u001B[38;5;241;43m.\u001B[39;49m\u001B[43mtarget_id\u001B[49m\u001B[43m,\u001B[49m\u001B[43m \u001B[49m\u001B[38;5;28;43mself\u001B[39;49m\u001B[38;5;241;43m.\u001B[39;49m\u001B[43mname\u001B[49m\u001B[43m)\u001B[49m\n",
       "\u001B[1;32m   1324\u001B[0m \u001B[38;5;28;01mfor\u001B[39;00m temp_arg \u001B[38;5;129;01min\u001B[39;00m temp_args:\n",
       "\u001B[1;32m   1325\u001B[0m     temp_arg\u001B[38;5;241m.\u001B[39m_detach()\n",
       "\n",
       "File \u001B[0;32m/databricks/spark/python/pyspark/errors/exceptions.py:228\u001B[0m, in \u001B[0;36mcapture_sql_exception.<locals>.deco\u001B[0;34m(*a, **kw)\u001B[0m\n",
       "\u001B[1;32m    226\u001B[0m \u001B[38;5;28;01mdef\u001B[39;00m \u001B[38;5;21mdeco\u001B[39m(\u001B[38;5;241m*\u001B[39ma: Any, \u001B[38;5;241m*\u001B[39m\u001B[38;5;241m*\u001B[39mkw: Any) \u001B[38;5;241m-\u001B[39m\u001B[38;5;241m>\u001B[39m Any:\n",
       "\u001B[1;32m    227\u001B[0m     \u001B[38;5;28;01mtry\u001B[39;00m:\n",
       "\u001B[0;32m--> 228\u001B[0m         \u001B[38;5;28;01mreturn\u001B[39;00m \u001B[43mf\u001B[49m\u001B[43m(\u001B[49m\u001B[38;5;241;43m*\u001B[39;49m\u001B[43ma\u001B[49m\u001B[43m,\u001B[49m\u001B[43m \u001B[49m\u001B[38;5;241;43m*\u001B[39;49m\u001B[38;5;241;43m*\u001B[39;49m\u001B[43mkw\u001B[49m\u001B[43m)\u001B[49m\n",
       "\u001B[1;32m    229\u001B[0m     \u001B[38;5;28;01mexcept\u001B[39;00m Py4JJavaError \u001B[38;5;28;01mas\u001B[39;00m e:\n",
       "\u001B[1;32m    230\u001B[0m         converted \u001B[38;5;241m=\u001B[39m convert_exception(e\u001B[38;5;241m.\u001B[39mjava_exception)\n",
       "\n",
       "File \u001B[0;32m/databricks/spark/python/lib/py4j-0.10.9.5-src.zip/py4j/protocol.py:326\u001B[0m, in \u001B[0;36mget_return_value\u001B[0;34m(answer, gateway_client, target_id, name)\u001B[0m\n",
       "\u001B[1;32m    324\u001B[0m value \u001B[38;5;241m=\u001B[39m OUTPUT_CONVERTER[\u001B[38;5;28mtype\u001B[39m](answer[\u001B[38;5;241m2\u001B[39m:], gateway_client)\n",
       "\u001B[1;32m    325\u001B[0m \u001B[38;5;28;01mif\u001B[39;00m answer[\u001B[38;5;241m1\u001B[39m] \u001B[38;5;241m==\u001B[39m REFERENCE_TYPE:\n",
       "\u001B[0;32m--> 326\u001B[0m     \u001B[38;5;28;01mraise\u001B[39;00m Py4JJavaError(\n",
       "\u001B[1;32m    327\u001B[0m         \u001B[38;5;124m\"\u001B[39m\u001B[38;5;124mAn error occurred while calling \u001B[39m\u001B[38;5;132;01m{0}\u001B[39;00m\u001B[38;5;132;01m{1}\u001B[39;00m\u001B[38;5;132;01m{2}\u001B[39;00m\u001B[38;5;124m.\u001B[39m\u001B[38;5;130;01m\\n\u001B[39;00m\u001B[38;5;124m\"\u001B[39m\u001B[38;5;241m.\u001B[39m\n",
       "\u001B[1;32m    328\u001B[0m         \u001B[38;5;28mformat\u001B[39m(target_id, \u001B[38;5;124m\"\u001B[39m\u001B[38;5;124m.\u001B[39m\u001B[38;5;124m\"\u001B[39m, name), value)\n",
       "\u001B[1;32m    329\u001B[0m \u001B[38;5;28;01melse\u001B[39;00m:\n",
       "\u001B[1;32m    330\u001B[0m     \u001B[38;5;28;01mraise\u001B[39;00m Py4JError(\n",
       "\u001B[1;32m    331\u001B[0m         \u001B[38;5;124m\"\u001B[39m\u001B[38;5;124mAn error occurred while calling \u001B[39m\u001B[38;5;132;01m{0}\u001B[39;00m\u001B[38;5;132;01m{1}\u001B[39;00m\u001B[38;5;132;01m{2}\u001B[39;00m\u001B[38;5;124m. Trace:\u001B[39m\u001B[38;5;130;01m\\n\u001B[39;00m\u001B[38;5;132;01m{3}\u001B[39;00m\u001B[38;5;130;01m\\n\u001B[39;00m\u001B[38;5;124m\"\u001B[39m\u001B[38;5;241m.\u001B[39m\n",
       "\u001B[1;32m    332\u001B[0m         \u001B[38;5;28mformat\u001B[39m(target_id, \u001B[38;5;124m\"\u001B[39m\u001B[38;5;124m.\u001B[39m\u001B[38;5;124m\"\u001B[39m, name, value))\n",
       "\n",
       "\u001B[0;31mPy4JJavaError\u001B[0m: An error occurred while calling o603.showString.\n",
       ": org.apache.spark.SparkException: Job aborted due to stage failure: Task 0 in stage 8.0 failed 1 times, most recent failure: Lost task 0.0 in stage 8.0 (TID 8) (ip-10-172-163-0.us-west-2.compute.internal executor driver): com.databricks.sql.io.FileReadException: Error while reading file dbfs:REDACTED_LOCAL_PART@gmail.com/employee.csv.\n",
       "\tat org.apache.spark.sql.execution.datasources.FileScanRDD$$anon$1$$anon$2.logFileNameAndThrow(FileScanRDD.scala:701)\n",
       "\tat org.apache.spark.sql.execution.datasources.FileScanRDD$$anon$1$$anon$2.getNext(FileScanRDD.scala:670)\n",
       "\tat org.apache.spark.util.NextIterator.hasNext(NextIterator.scala:73)\n",
       "\tat org.apache.spark.sql.execution.datasources.FileScanRDD$$anon$1.$anonfun$hasNext$1(FileScanRDD.scala:490)\n",
       "\tat scala.runtime.java8.JFunction0$mcZ$sp.apply(JFunction0$mcZ$sp.java:23)\n",
       "\tat com.databricks.spark.util.ExecutorFrameProfiler$.record(ExecutorFrameProfiler.scala:110)\n",
       "\tat org.apache.spark.sql.execution.datasources.FileScanRDD$$anon$1.hasNext(FileScanRDD.scala:483)\n",
       "\tat scala.collection.Iterator$$anon$10.hasNext(Iterator.scala:460)\n",
       "\tat org.apache.spark.sql.catalyst.expressions.GeneratedClass$GeneratedIteratorForCodegenStage1.processNext(Unknown Source)\n",
       "\tat org.apache.spark.sql.execution.BufferedRowIterator.hasNext(BufferedRowIterator.java:43)\n",
       "\tat org.apache.spark.sql.execution.WholeStageCodegenExec$$anon$1.hasNext(WholeStageCodegenExec.scala:761)\n",
       "\tat org.apache.spark.sql.execution.collect.UnsafeRowBatchUtils$.encodeUnsafeRows(UnsafeRowBatchUtils.scala:82)\n",
       "\tat org.apache.spark.sql.execution.collect.Collector.$anonfun$processFunc$1(Collector.scala:208)\n",
       "\tat org.apache.spark.scheduler.ResultTask.$anonfun$runTask$3(ResultTask.scala:75)\n",
       "\tat com.databricks.spark.util.ExecutorFrameProfiler$.record(ExecutorFrameProfiler.scala:110)\n",
       "\tat org.apache.spark.scheduler.ResultTask.$anonfun$runTask$1(ResultTask.scala:75)\n",
       "\tat com.databricks.spark.util.ExecutorFrameProfiler$.record(ExecutorFrameProfiler.scala:110)\n",
       "\tat org.apache.spark.scheduler.ResultTask.runTask(ResultTask.scala:55)\n",
       "\tat org.apache.spark.scheduler.Task.doRunTask(Task.scala:179)\n",
       "\tat org.apache.spark.scheduler.Task.$anonfun$run$5(Task.scala:142)\n",
       "\tat com.databricks.unity.EmptyHandle$.runWithAndClose(UCSHandle.scala:126)\n",
       "\tat org.apache.spark.scheduler.Task.$anonfun$run$1(Task.scala:142)\n",
       "\tat com.databricks.spark.util.ExecutorFrameProfiler$.record(ExecutorFrameProfiler.scala:110)\n",
       "\tat org.apache.spark.scheduler.Task.run(Task.scala:97)\n",
       "\tat org.apache.spark.executor.Executor$TaskRunner.$anonfun$run$13(Executor.scala:904)\n",
       "\tat org.apache.spark.util.Utils$.tryWithSafeFinally(Utils.scala:1741)\n",
       "\tat org.apache.spark.executor.Executor$TaskRunner.$anonfun$run$4(Executor.scala:907)\n",
       "\tat scala.runtime.java8.JFunction0$mcV$sp.apply(JFunction0$mcV$sp.java:23)\n",
       "\tat com.databricks.spark.util.ExecutorFrameProfiler$.record(ExecutorFrameProfiler.scala:110)\n",
       "\tat org.apache.spark.executor.Executor$TaskRunner.run(Executor.scala:761)\n",
       "\tat java.util.concurrent.ThreadPoolExecutor.runWorker(ThreadPoolExecutor.java:1149)\n",
       "\tat java.util.concurrent.ThreadPoolExecutor$Worker.run(ThreadPoolExecutor.java:624)\n",
       "\tat java.lang.Thread.run(Thread.java:750)\n",
       "Caused by: org.apache.spark.SparkException: Malformed records are detected in record parsing. Parse Mode: FAILFAST. To process malformed records as null result, try setting the option 'mode' as 'PERMISSIVE'.\n",
       "\tat org.apache.spark.sql.errors.QueryExecutionErrors$.malformedRecordsDetectedInRecordParsingError(QueryExecutionErrors.scala:1936)\n",
       "\tat org.apache.spark.sql.catalyst.util.FailureSafeParser.parse(FailureSafeParser.scala:103)\n",
       "\tat org.apache.spark.sql.catalyst.csv.UnivocityParser$.$anonfun$parseIterator$2(UnivocityParser.scala:507)\n",
       "\tat scala.collection.Iterator$$anon$11.nextCur(Iterator.scala:486)\n",
       "\tat scala.collection.Iterator$$anon$11.hasNext(Iterator.scala:492)\n",
       "\tat org.apache.spark.util.CompletionIterator.hasNext(CompletionIterator.scala:31)\n",
       "\tat scala.collection.Iterator$$anon$10.hasNext(Iterator.scala:460)\n",
       "\tat org.apache.spark.sql.execution.datasources.FileScanRDD$$anon$1$$anon$2.getNext(FileScanRDD.scala:616)\n",
       "\t... 31 more\n",
       "Caused by: org.apache.spark.sql.catalyst.util.BadRecordException: org.apache.spark.SparkRuntimeException: [MALFORMED_CSV_RECORD] Malformed CSV record: 3,Pritam,22,150000,Bangalore,India,nominee3\n",
       "Caused by: org.apache.spark.SparkRuntimeException: [MALFORMED_CSV_RECORD] Malformed CSV record: 3,Pritam,22,150000,Bangalore,India,nominee3\n",
       "\tat org.apache.spark.sql.errors.QueryExecutionErrors$.malformedCSVRecordError(QueryExecutionErrors.scala:1703)\n",
       "\tat org.apache.spark.sql.catalyst.csv.UnivocityParser.convert(UnivocityParser.scala:346)\n",
       "\tat org.apache.spark.sql.catalyst.csv.UnivocityParser.$anonfun$parse$2(UnivocityParser.scala:321)\n",
       "\tat org.apache.spark.sql.catalyst.csv.UnivocityParser$.$anonfun$parseIterator$1(UnivocityParser.scala:499)\n",
       "\tat org.apache.spark.sql.catalyst.util.FailureSafeParser.parse(FailureSafeParser.scala:92)\n",
       "\tat org.apache.spark.sql.catalyst.csv.UnivocityParser$.$anonfun$parseIterator$2(UnivocityParser.scala:507)\n",
       "\tat scala.collection.Iterator$$anon$11.nextCur(Iterator.scala:486)\n",
       "\tat scala.collection.Iterator$$anon$11.hasNext(Iterator.scala:492)\n",
       "\tat org.apache.spark.util.CompletionIterator.hasNext(CompletionIterator.scala:31)\n",
       "\tat scala.collection.Iterator$$anon$10.hasNext(Iterator.scala:460)\n",
       "\tat org.apache.spark.sql.execution.datasources.FileScanRDD$$anon$1$$anon$2.getNext(FileScanRDD.scala:616)\n",
       "\tat org.apache.spark.util.NextIterator.hasNext(NextIterator.scala:73)\n",
       "\tat org.apache.spark.sql.execution.datasources.FileScanRDD$$anon$1.$anonfun$hasNext$1(FileScanRDD.scala:490)\n",
       "\tat scala.runtime.java8.JFunction0$mcZ$sp.apply(JFunction0$mcZ$sp.java:23)\n",
       "\tat com.databricks.spark.util.ExecutorFrameProfiler$.record(ExecutorFrameProfiler.scala:110)\n",
       "\tat org.apache.spark.sql.execution.datasources.FileScanRDD$$anon$1.hasNext(FileScanRDD.scala:483)\n",
       "\tat scala.collection.Iterator$$anon$10.hasNext(Iterator.scala:460)\n",
       "\tat org.apache.spark.sql.catalyst.expressions.GeneratedClass$GeneratedIteratorForCodegenStage1.processNext(Unknown Source)\n",
       "\tat org.apache.spark.sql.execution.BufferedRowIterator.hasNext(BufferedRowIterator.java:43)\n",
       "\tat org.apache.spark.sql.execution.WholeStageCodegenExec$$anon$1.hasNext(WholeStageCodegenExec.scala:761)\n",
       "\tat org.apache.spark.sql.execution.collect.UnsafeRowBatchUtils$.encodeUnsafeRows(UnsafeRowBatchUtils.scala:82)\n",
       "\tat org.apache.spark.sql.execution.collect.Collector.$anonfun$processFunc$1(Collector.scala:208)\n",
       "\tat org.apache.spark.scheduler.ResultTask.$anonfun$runTask$3(ResultTask.scala:75)\n",
       "\tat com.databricks.spark.util.ExecutorFrameProfiler$.record(ExecutorFrameProfiler.scala:110)\n",
       "\tat org.apache.spark.scheduler.ResultTask.$anonfun$runTask$1(ResultTask.scala:75)\n",
       "\tat com.databricks.spark.util.ExecutorFrameProfiler$.record(ExecutorFrameProfiler.scala:110)\n",
       "\tat org.apache.spark.scheduler.ResultTask.runTask(ResultTask.scala:55)\n",
       "\tat org.apache.spark.scheduler.Task.doRunTask(Task.scala:179)\n",
       "\tat org.apache.spark.scheduler.Task.$anonfun$run$5(Task.scala:142)\n",
       "\tat com.databricks.unity.EmptyHandle$.runWithAndClose(UCSHandle.scala:126)\n",
       "\tat org.apache.spark.scheduler.Task.$anonfun$run$1(Task.scala:142)\n",
       "\tat com.databricks.spark.util.ExecutorFrameProfiler$.record(ExecutorFrameProfiler.scala:110)\n",
       "\tat org.apache.spark.scheduler.Task.run(Task.scala:97)\n",
       "\tat org.apache.spark.executor.Executor$TaskRunner.$anonfun$run$13(Executor.scala:904)\n",
       "\tat org.apache.spark.util.Utils$.tryWithSafeFinally(Utils.scala:1741)\n",
       "\tat org.apache.spark.executor.Executor$TaskRunner.$anonfun$run$4(Executor.scala:907)\n",
       "\tat scala.runtime.java8.JFunction0$mcV$sp.apply(JFunction0$mcV$sp.java:23)\n",
       "\tat com.databricks.spark.util.ExecutorFrameProfiler$.record(ExecutorFrameProfiler.scala:110)\n",
       "\tat org.apache.spark.executor.Executor$TaskRunner.run(Executor.scala:761)\n",
       "\tat java.util.concurrent.ThreadPoolExecutor.runWorker(ThreadPoolExecutor.java:1149)\n",
       "\tat java.util.concurrent.ThreadPoolExecutor$Worker.run(ThreadPoolExecutor.java:624)\n",
       "\tat java.lang.Thread.run(Thread.java:750)\n",
       "\n",
       "Driver stacktrace:\n",
       "\tat org.apache.spark.scheduler.DAGScheduler.failJobAndIndependentStages(DAGScheduler.scala:3440)\n",
       "\tat org.apache.spark.scheduler.DAGScheduler.$anonfun$abortStage$2(DAGScheduler.scala:3362)\n",
       "\tat org.apache.spark.scheduler.DAGScheduler.$anonfun$abortStage$2$adapted(DAGScheduler.scala:3351)\n",
       "\tat scala.collection.mutable.ResizableArray.foreach(ResizableArray.scala:62)\n",
       "\tat scala.collection.mutable.ResizableArray.foreach$(ResizableArray.scala:55)\n",
       "\tat scala.collection.mutable.ArrayBuffer.foreach(ArrayBuffer.scala:49)\n",
       "\tat org.apache.spark.scheduler.DAGScheduler.abortStage(DAGScheduler.scala:3351)\n",
       "\tat org.apache.spark.scheduler.DAGScheduler.$anonfun$handleTaskSetFailed$1(DAGScheduler.scala:1460)\n",
       "\tat org.apache.spark.scheduler.DAGScheduler.$anonfun$handleTaskSetFailed$1$adapted(DAGScheduler.scala:1460)\n",
       "\tat scala.Option.foreach(Option.scala:407)\n",
       "\tat org.apache.spark.scheduler.DAGScheduler.handleTaskSetFailed(DAGScheduler.scala:1460)\n",
       "\tat org.apache.spark.scheduler.DAGSchedulerEventProcessLoop.doOnReceive(DAGScheduler.scala:3651)\n",
       "\tat org.apache.spark.scheduler.DAGSchedulerEventProcessLoop.onReceive(DAGScheduler.scala:3589)\n",
       "\tat org.apache.spark.scheduler.DAGSchedulerEventProcessLoop.onReceive(DAGScheduler.scala:3577)\n",
       "\tat org.apache.spark.util.EventLoop$$anon$1.run(EventLoop.scala:51)\n",
       "\tat org.apache.spark.scheduler.DAGScheduler.$anonfun$runJob$1(DAGScheduler.scala:1209)\n",
       "\tat scala.runtime.java8.JFunction0$mcV$sp.apply(JFunction0$mcV$sp.java:23)\n",
       "\tat com.databricks.spark.util.FrameProfiler$.record(FrameProfiler.scala:80)\n",
       "\tat org.apache.spark.scheduler.DAGScheduler.runJob(DAGScheduler.scala:1197)\n",
       "\tat org.apache.spark.SparkContext.runJobInternal(SparkContext.scala:2758)\n",
       "\tat org.apache.spark.sql.execution.collect.Collector.$anonfun$runSparkJobs$1(Collector.scala:349)\n",
       "\tat scala.runtime.java8.JFunction0$mcV$sp.apply(JFunction0$mcV$sp.java:23)\n",
       "\tat com.databricks.spark.util.FrameProfiler$.record(FrameProfiler.scala:80)\n",
       "\tat org.apache.spark.sql.execution.collect.Collector.runSparkJobs(Collector.scala:293)\n",
       "\tat org.apache.spark.sql.execution.collect.Collector.collect(Collector.scala:377)\n",
       "\tat org.apache.spark.sql.execution.collect.Collector$.collect(Collector.scala:128)\n",
       "\tat org.apache.spark.sql.execution.collect.Collector$.collect(Collector.scala:135)\n",
       "\tat org.apache.spark.sql.execution.qrc.InternalRowFormat$.collect(cachedSparkResults.scala:122)\n",
       "\tat org.apache.spark.sql.execution.qrc.InternalRowFormat$.collect(cachedSparkResults.scala:110)\n",
       "\tat org.apache.spark.sql.execution.qrc.InternalRowFormat$.collect(cachedSparkResults.scala:92)\n",
       "\tat org.apache.spark.sql.execution.qrc.ResultCacheManager.$anonfun$computeResult$1(ResultCacheManager.scala:537)\n",
       "\tat com.databricks.spark.util.FrameProfiler$.record(FrameProfiler.scala:80)\n",
       "\tat org.apache.spark.sql.execution.qrc.ResultCacheManager.collectResult$1(ResultCacheManager.scala:529)\n",
       "\tat org.apache.spark.sql.execution.qrc.ResultCacheManager.computeResult(ResultCacheManager.scala:549)\n",
       "\tat org.apache.spark.sql.execution.qrc.ResultCacheManager.$anonfun$getOrComputeResultInternal$1(ResultCacheManager.scala:402)\n",
       "\tat scala.Option.getOrElse(Option.scala:189)\n",
       "\tat org.apache.spark.sql.execution.qrc.ResultCacheManager.getOrComputeResultInternal(ResultCacheManager.scala:395)\n",
       "\tat org.apache.spark.sql.execution.qrc.ResultCacheManager.getOrComputeResult(ResultCacheManager.scala:289)\n",
       "\tat org.apache.spark.sql.execution.SparkPlan.$anonfun$executeCollectResult$1(SparkPlan.scala:506)\n",
       "\tat com.databricks.spark.util.FrameProfiler$.record(FrameProfiler.scala:80)\n",
       "\tat org.apache.spark.sql.execution.SparkPlan.executeCollectResult(SparkPlan.scala:503)\n",
       "\tat org.apache.spark.sql.Dataset.collectResult(Dataset.scala:3458)\n",
       "\tat org.apache.spark.sql.Dataset.collectFromPlan(Dataset.scala:4382)\n",
       "\tat org.apache.spark.sql.Dataset.$anonfun$head$1(Dataset.scala:3168)\n",
       "\tat org.apache.spark.sql.Dataset.$anonfun$withAction$3(Dataset.scala:4373)\n",
       "\tat org.apache.spark.sql.execution.QueryExecution$.withInternalError(QueryExecution.scala:841)\n",
       "\tat org.apache.spark.sql.Dataset.$anonfun$withAction$2(Dataset.scala:4371)\n",
       "\tat org.apache.spark.sql.execution.SQLExecution$.$anonfun$withCustomExecutionEnv$9(SQLExecution.scala:258)\n",
       "\tat org.apache.spark.sql.execution.SQLExecution$.withSQLConfPropagated(SQLExecution.scala:448)\n",
       "\tat org.apache.spark.sql.execution.SQLExecution$.$anonfun$withCustomExecutionEnv$1(SQLExecution.scala:203)\n",
       "\tat org.apache.spark.sql.SparkSession.withActive(SparkSession.scala:1073)\n",
       "\tat org.apache.spark.sql.execution.SQLExecution$.withCustomExecutionEnv(SQLExecution.scala:131)\n",
       "\tat org.apache.spark.sql.execution.SQLExecution$.withNewExecutionId(SQLExecution.scala:398)\n",
       "\tat org.apache.spark.sql.Dataset.withAction(Dataset.scala:4371)\n",
       "\tat org.apache.spark.sql.Dataset.head(Dataset.scala:3168)\n",
       "\tat org.apache.spark.sql.Dataset.take(Dataset.scala:3389)\n",
       "\tat org.apache.spark.sql.Dataset.getRows(Dataset.scala:315)\n",
       "\tat org.apache.spark.sql.Dataset.showString(Dataset.scala:354)\n",
       "\tat sun.reflect.NativeMethodAccessorImpl.invoke0(Native Method)\n",
       "\tat sun.reflect.NativeMethodAccessorImpl.invoke(NativeMethodAccessorImpl.java:62)\n",
       "\tat sun.reflect.DelegatingMethodAccessorImpl.invoke(DelegatingMethodAccessorImpl.java:43)\n",
       "\tat java.lang.reflect.Method.invoke(Method.java:498)\n",
       "\tat py4j.reflection.MethodInvoker.invoke(MethodInvoker.java:244)\n",
       "\tat py4j.reflection.ReflectionEngine.invoke(ReflectionEngine.java:380)\n",
       "\tat py4j.Gateway.invoke(Gateway.java:306)\n",
       "\tat py4j.commands.AbstractCommand.invokeMethod(AbstractCommand.java:132)\n",
       "\tat py4j.commands.CallCommand.execute(CallCommand.java:79)\n",
       "\tat py4j.ClientServerConnection.waitForCommands(ClientServerConnection.java:195)\n",
       "\tat py4j.ClientServerConnection.run(ClientServerConnection.java:115)\n",
       "\tat java.lang.Thread.run(Thread.java:750)\n",
       "Caused by: com.databricks.sql.io.FileReadException: Error while reading file dbfs:REDACTED_LOCAL_PART@gmail.com/employee.csv.\n",
       "\tat org.apache.spark.sql.execution.datasources.FileScanRDD$$anon$1$$anon$2.logFileNameAndThrow(FileScanRDD.scala:701)\n",
       "\tat org.apache.spark.sql.execution.datasources.FileScanRDD$$anon$1$$anon$2.getNext(FileScanRDD.scala:670)\n",
       "\tat org.apache.spark.util.NextIterator.hasNext(NextIterator.scala:73)\n",
       "\tat org.apache.spark.sql.execution.datasources.FileScanRDD$$anon$1.$anonfun$hasNext$1(FileScanRDD.scala:490)\n",
       "\tat scala.runtime.java8.JFunction0$mcZ$sp.apply(JFunction0$mcZ$sp.java:23)\n",
       "\tat com.databricks.spark.util.ExecutorFrameProfiler$.record(ExecutorFrameProfiler.scala:110)\n",
       "\tat org.apache.spark.sql.execution.datasources.FileScanRDD$$anon$1.hasNext(FileScanRDD.scala:483)\n",
       "\tat scala.collection.Iterator$$anon$10.hasNext(Iterator.scala:460)\n",
       "\tat org.apache.spark.sql.catalyst.expressions.GeneratedClass$GeneratedIteratorForCodegenStage1.processNext(Unknown Source)\n",
       "\tat org.apache.spark.sql.execution.BufferedRowIterator.hasNext(BufferedRowIterator.java:43)\n",
       "\tat org.apache.spark.sql.execution.WholeStageCodegenExec$$anon$1.hasNext(WholeStageCodegenExec.scala:761)\n",
       "\tat org.apache.spark.sql.execution.collect.UnsafeRowBatchUtils$.encodeUnsafeRows(UnsafeRowBatchUtils.scala:82)\n",
       "\tat org.apache.spark.sql.execution.collect.Collector.$anonfun$processFunc$1(Collector.scala:208)\n",
       "\tat org.apache.spark.scheduler.ResultTask.$anonfun$runTask$3(ResultTask.scala:75)\n",
       "\tat com.databricks.spark.util.ExecutorFrameProfiler$.record(ExecutorFrameProfiler.scala:110)\n",
       "\tat org.apache.spark.scheduler.ResultTask.$anonfun$runTask$1(ResultTask.scala:75)\n",
       "\tat com.databricks.spark.util.ExecutorFrameProfiler$.record(ExecutorFrameProfiler.scala:110)\n",
       "\tat org.apache.spark.scheduler.ResultTask.runTask(ResultTask.scala:55)\n",
       "\tat org.apache.spark.scheduler.Task.doRunTask(Task.scala:179)\n",
       "\tat org.apache.spark.scheduler.Task.$anonfun$run$5(Task.scala:142)\n",
       "\tat com.databricks.unity.EmptyHandle$.runWithAndClose(UCSHandle.scala:126)\n",
       "\tat org.apache.spark.scheduler.Task.$anonfun$run$1(Task.scala:142)\n",
       "\tat com.databricks.spark.util.ExecutorFrameProfiler$.record(ExecutorFrameProfiler.scala:110)\n",
       "\tat org.apache.spark.scheduler.Task.run(Task.scala:97)\n",
       "\tat org.apache.spark.executor.Executor$TaskRunner.$anonfun$run$13(Executor.scala:904)\n",
       "\tat org.apache.spark.util.Utils$.tryWithSafeFinally(Utils.scala:1741)\n",
       "\tat org.apache.spark.executor.Executor$TaskRunner.$anonfun$run$4(Executor.scala:907)\n",
       "\tat scala.runtime.java8.JFunction0$mcV$sp.apply(JFunction0$mcV$sp.java:23)\n",
       "\tat com.databricks.spark.util.ExecutorFrameProfiler$.record(ExecutorFrameProfiler.scala:110)\n",
       "\tat org.apache.spark.executor.Executor$TaskRunner.run(Executor.scala:761)\n",
       "\tat java.util.concurrent.ThreadPoolExecutor.runWorker(ThreadPoolExecutor.java:1149)\n",
       "\tat java.util.concurrent.ThreadPoolExecutor$Worker.run(ThreadPoolExecutor.java:624)\n",
       "\t... 1 more\n",
       "Caused by: org.apache.spark.SparkException: Malformed records are detected in record parsing. Parse Mode: FAILFAST. To process malformed records as null result, try setting the option 'mode' as 'PERMISSIVE'.\n",
       "\tat org.apache.spark.sql.errors.QueryExecutionErrors$.malformedRecordsDetectedInRecordParsingError(QueryExecutionErrors.scala:1936)\n",
       "\tat org.apache.spark.sql.catalyst.util.FailureSafeParser.parse(FailureSafeParser.scala:103)\n",
       "\tat org.apache.spark.sql.catalyst.csv.UnivocityParser$.$anonfun$parseIterator$2(UnivocityParser.scala:507)\n",
       "\tat scala.collection.Iterator$$anon$11.nextCur(Iterator.scala:486)\n",
       "\tat scala.collection.Iterator$$anon$11.hasNext(Iterator.scala:492)\n",
       "\tat org.apache.spark.util.CompletionIterator.hasNext(CompletionIterator.scala:31)\n",
       "\tat scala.collection.Iterator$$anon$10.hasNext(Iterator.scala:460)\n",
       "\tat org.apache.spark.sql.execution.datasources.FileScanRDD$$anon$1$$anon$2.getNext(FileScanRDD.scala:616)\n",
       "\t... 31 more\n",
       "Caused by: org.apache.spark.sql.catalyst.util.BadRecordException: org.apache.spark.SparkRuntimeException: [MALFORMED_CSV_RECORD] Malformed CSV record: 3,Pritam,22,150000,Bangalore,India,nominee3\n",
       "Caused by: org.apache.spark.SparkRuntimeException: [MALFORMED_CSV_RECORD] Malformed CSV record: 3,Pritam,22,150000,Bangalore,India,nominee3\n",
       "\tat org.apache.spark.sql.errors.QueryExecutionErrors$.malformedCSVRecordError(QueryExecutionErrors.scala:1703)\n",
       "\tat org.apache.spark.sql.catalyst.csv.UnivocityParser.convert(UnivocityParser.scala:346)\n",
       "\tat org.apache.spark.sql.catalyst.csv.UnivocityParser.$anonfun$parse$2(UnivocityParser.scala:321)\n",
       "\tat org.apache.spark.sql.catalyst.csv.UnivocityParser$.$anonfun$parseIterator$1(UnivocityParser.scala:499)\n",
       "\tat org.apache.spark.sql.catalyst.util.FailureSafeParser.parse(FailureSafeParser.scala:92)\n",
       "\tat org.apache.spark.sql.catalyst.csv.UnivocityParser$.$anonfun$parseIterator$2(UnivocityParser.scala:507)\n",
       "\tat scala.collection.Iterator$$anon$11.nextCur(Iterator.scala:486)\n",
       "\tat scala.collection.Iterator$$anon$11.hasNext(Iterator.scala:492)\n",
       "\tat org.apache.spark.util.CompletionIterator.hasNext(CompletionIterator.scala:31)\n",
       "\tat scala.collection.Iterator$$anon$10.hasNext(Iterator.scala:460)\n",
       "\tat org.apache.spark.sql.execution.datasources.FileScanRDD$$anon$1$$anon$2.getNext(FileScanRDD.scala:616)\n",
       "\tat org.apache.spark.util.NextIterator.hasNext(NextIterator.scala:73)\n",
       "\tat org.apache.spark.sql.execution.datasources.FileScanRDD$$anon$1.$anonfun$hasNext$1(FileScanRDD.scala:490)\n",
       "\tat scala.runtime.java8.JFunction0$mcZ$sp.apply(JFunction0$mcZ$sp.java:23)\n",
       "\tat com.databricks.spark.util.ExecutorFrameProfiler$.record(ExecutorFrameProfiler.scala:110)\n",
       "\tat org.apache.spark.sql.execution.datasources.FileScanRDD$$anon$1.hasNext(FileScanRDD.scala:483)\n",
       "\tat scala.collection.Iterator$$anon$10.hasNext(Iterator.scala:460)\n",
       "\tat org.apache.spark.sql.catalyst.expressions.GeneratedClass$GeneratedIteratorForCodegenStage1.processNext(Unknown Source)\n",
       "\tat org.apache.spark.sql.execution.BufferedRowIterator.hasNext(BufferedRowIterator.java:43)\n",
       "\tat org.apache.spark.sql.execution.WholeStageCodegenExec$$anon$1.hasNext(WholeStageCodegenExec.scala:761)\n",
       "\tat org.apache.spark.sql.execution.collect.UnsafeRowBatchUtils$.encodeUnsafeRows(UnsafeRowBatchUtils.scala:82)\n",
       "\tat org.apache.spark.sql.execution.collect.Collector.$anonfun$processFunc$1(Collector.scala:208)\n",
       "\tat org.apache.spark.scheduler.ResultTask.$anonfun$runTask$3(ResultTask.scala:75)\n",
       "\tat com.databricks.spark.util.ExecutorFrameProfiler$.record(ExecutorFrameProfiler.scala:110)\n",
       "\tat org.apache.spark.scheduler.ResultTask.$anonfun$runTask$1(ResultTask.scala:75)\n",
       "\tat com.databricks.spark.util.ExecutorFrameProfiler$.record(ExecutorFrameProfiler.scala:110)\n",
       "\tat org.apache.spark.scheduler.ResultTask.runTask(ResultTask.scala:55)\n",
       "\tat org.apache.spark.scheduler.Task.doRunTask(Task.scala:179)\n",
       "\tat org.apache.spark.scheduler.Task.$anonfun$run$5(Task.scala:142)\n",
       "\tat com.databricks.unity.EmptyHandle$.runWithAndClose(UCSHandle.scala:126)\n",
       "\tat org.apache.spark.scheduler.Task.$anonfun$run$1(Task.scala:142)\n",
       "\tat com.databricks.spark.util.ExecutorFrameProfiler$.record(ExecutorFrameProfiler.scala:110)\n",
       "\tat org.apache.spark.scheduler.Task.run(Task.scala:97)\n",
       "\tat org.apache.spark.executor.Executor$TaskRunner.$anonfun$run$13(Executor.scala:904)\n",
       "\tat org.apache.spark.util.Utils$.tryWithSafeFinally(Utils.scala:1741)\n",
       "\tat org.apache.spark.executor.Executor$TaskRunner.$anonfun$run$4(Executor.scala:907)\n",
       "\tat scala.runtime.java8.JFunction0$mcV$sp.apply(JFunction0$mcV$sp.java:23)\n",
       "\tat com.databricks.spark.util.ExecutorFrameProfiler$.record(ExecutorFrameProfiler.scala:110)\n",
       "\tat org.apache.spark.executor.Executor$TaskRunner.run(Executor.scala:761)\n",
       "\tat java.util.concurrent.ThreadPoolExecutor.runWorker(ThreadPoolExecutor.java:1149)\n",
       "\tat java.util.concurrent.ThreadPoolExecutor$Worker.run(ThreadPoolExecutor.java:624)\n",
       "\tat java.lang.Thread.run(Thread.java:750)\n"
      ]
     },
     "metadata": {
      "application/vnd.databricks.v1+output": {
       "arguments": {},
       "data": "\u001B[0;31m---------------------------------------------------------------------------\u001B[0m\n\u001B[0;31mPy4JJavaError\u001B[0m                             Traceback (most recent call last)\nFile \u001B[0;32m<command-1438412362699140>:8\u001B[0m\n\u001B[1;32m      1\u001B[0m employee_df \u001B[38;5;241m=\u001B[39m spark\u001B[38;5;241m.\u001B[39mread\u001B[38;5;241m.\u001B[39mformat(\u001B[38;5;124m\"\u001B[39m\u001B[38;5;124mcsv\u001B[39m\u001B[38;5;124m\"\u001B[39m)\\\n\u001B[1;32m      2\u001B[0m         \u001B[38;5;241m.\u001B[39moption(\u001B[38;5;124m\"\u001B[39m\u001B[38;5;124mheader\u001B[39m\u001B[38;5;124m\"\u001B[39m,\u001B[38;5;124m\"\u001B[39m\u001B[38;5;124mtrue\u001B[39m\u001B[38;5;124m\"\u001B[39m)\\\n\u001B[1;32m      3\u001B[0m         \u001B[38;5;241m.\u001B[39moption(\u001B[38;5;124m\"\u001B[39m\u001B[38;5;124minferschema\u001B[39m\u001B[38;5;124m\"\u001B[39m,\u001B[38;5;124m\"\u001B[39m\u001B[38;5;124mtrue\u001B[39m\u001B[38;5;124m\"\u001B[39m)\\\n\u001B[1;32m      4\u001B[0m         \u001B[38;5;241m.\u001B[39moption(\u001B[38;5;124m\"\u001B[39m\u001B[38;5;124mmode\u001B[39m\u001B[38;5;124m\"\u001B[39m,\u001B[38;5;124m\"\u001B[39m\u001B[38;5;124mFAILFAST\u001B[39m\u001B[38;5;124m\"\u001B[39m)\\\n\u001B[1;32m      5\u001B[0m         \u001B[38;5;241m.\u001B[39mload(\u001B[38;5;124m\"\u001B[39m\u001B[38;5;124mdbfs:/FileStore/shared_uploads/mechinelearningai@gmail.com/employee.csv\u001B[39m\u001B[38;5;124m\"\u001B[39m)\n\u001B[0;32m----> 8\u001B[0m employee_df\u001B[38;5;241m.\u001B[39mshow(\u001B[38;5;241m5\u001B[39m)\n\nFile \u001B[0;32m/databricks/spark/python/pyspark/instrumentation_utils.py:48\u001B[0m, in \u001B[0;36m_wrap_function.<locals>.wrapper\u001B[0;34m(*args, **kwargs)\u001B[0m\n\u001B[1;32m     46\u001B[0m start \u001B[38;5;241m=\u001B[39m time\u001B[38;5;241m.\u001B[39mperf_counter()\n\u001B[1;32m     47\u001B[0m \u001B[38;5;28;01mtry\u001B[39;00m:\n\u001B[0;32m---> 48\u001B[0m     res \u001B[38;5;241m=\u001B[39m \u001B[43mfunc\u001B[49m\u001B[43m(\u001B[49m\u001B[38;5;241;43m*\u001B[39;49m\u001B[43margs\u001B[49m\u001B[43m,\u001B[49m\u001B[43m \u001B[49m\u001B[38;5;241;43m*\u001B[39;49m\u001B[38;5;241;43m*\u001B[39;49m\u001B[43mkwargs\u001B[49m\u001B[43m)\u001B[49m\n\u001B[1;32m     49\u001B[0m     logger\u001B[38;5;241m.\u001B[39mlog_success(\n\u001B[1;32m     50\u001B[0m         module_name, class_name, function_name, time\u001B[38;5;241m.\u001B[39mperf_counter() \u001B[38;5;241m-\u001B[39m start, signature\n\u001B[1;32m     51\u001B[0m     )\n\u001B[1;32m     52\u001B[0m     \u001B[38;5;28;01mreturn\u001B[39;00m res\n\nFile \u001B[0;32m/databricks/spark/python/pyspark/sql/dataframe.py:920\u001B[0m, in \u001B[0;36mDataFrame.show\u001B[0;34m(self, n, truncate, vertical)\u001B[0m\n\u001B[1;32m    914\u001B[0m     \u001B[38;5;28;01mraise\u001B[39;00m PySparkTypeError(\n\u001B[1;32m    915\u001B[0m         error_class\u001B[38;5;241m=\u001B[39m\u001B[38;5;124m\"\u001B[39m\u001B[38;5;124mNOT_A_BOOLEAN\u001B[39m\u001B[38;5;124m\"\u001B[39m,\n\u001B[1;32m    916\u001B[0m         message_parameters\u001B[38;5;241m=\u001B[39m{\u001B[38;5;124m\"\u001B[39m\u001B[38;5;124marg_name\u001B[39m\u001B[38;5;124m\"\u001B[39m: \u001B[38;5;124m\"\u001B[39m\u001B[38;5;124mvertical\u001B[39m\u001B[38;5;124m\"\u001B[39m, \u001B[38;5;124m\"\u001B[39m\u001B[38;5;124marg_type\u001B[39m\u001B[38;5;124m\"\u001B[39m: \u001B[38;5;28mtype\u001B[39m(vertical)\u001B[38;5;241m.\u001B[39m\u001B[38;5;18m__name__\u001B[39m},\n\u001B[1;32m    917\u001B[0m     )\n\u001B[1;32m    919\u001B[0m \u001B[38;5;28;01mif\u001B[39;00m \u001B[38;5;28misinstance\u001B[39m(truncate, \u001B[38;5;28mbool\u001B[39m) \u001B[38;5;129;01mand\u001B[39;00m truncate:\n\u001B[0;32m--> 920\u001B[0m     \u001B[38;5;28mprint\u001B[39m(\u001B[38;5;28;43mself\u001B[39;49m\u001B[38;5;241;43m.\u001B[39;49m\u001B[43m_jdf\u001B[49m\u001B[38;5;241;43m.\u001B[39;49m\u001B[43mshowString\u001B[49m\u001B[43m(\u001B[49m\u001B[43mn\u001B[49m\u001B[43m,\u001B[49m\u001B[43m \u001B[49m\u001B[38;5;241;43m20\u001B[39;49m\u001B[43m,\u001B[49m\u001B[43m \u001B[49m\u001B[43mvertical\u001B[49m\u001B[43m)\u001B[49m)\n\u001B[1;32m    921\u001B[0m \u001B[38;5;28;01melse\u001B[39;00m:\n\u001B[1;32m    922\u001B[0m     \u001B[38;5;28;01mtry\u001B[39;00m:\n\nFile \u001B[0;32m/databricks/spark/python/lib/py4j-0.10.9.5-src.zip/py4j/java_gateway.py:1321\u001B[0m, in \u001B[0;36mJavaMember.__call__\u001B[0;34m(self, *args)\u001B[0m\n\u001B[1;32m   1315\u001B[0m command \u001B[38;5;241m=\u001B[39m proto\u001B[38;5;241m.\u001B[39mCALL_COMMAND_NAME \u001B[38;5;241m+\u001B[39m\\\n\u001B[1;32m   1316\u001B[0m     \u001B[38;5;28mself\u001B[39m\u001B[38;5;241m.\u001B[39mcommand_header \u001B[38;5;241m+\u001B[39m\\\n\u001B[1;32m   1317\u001B[0m     args_command \u001B[38;5;241m+\u001B[39m\\\n\u001B[1;32m   1318\u001B[0m     proto\u001B[38;5;241m.\u001B[39mEND_COMMAND_PART\n\u001B[1;32m   1320\u001B[0m answer \u001B[38;5;241m=\u001B[39m \u001B[38;5;28mself\u001B[39m\u001B[38;5;241m.\u001B[39mgateway_client\u001B[38;5;241m.\u001B[39msend_command(command)\n\u001B[0;32m-> 1321\u001B[0m return_value \u001B[38;5;241m=\u001B[39m \u001B[43mget_return_value\u001B[49m\u001B[43m(\u001B[49m\n\u001B[1;32m   1322\u001B[0m \u001B[43m    \u001B[49m\u001B[43manswer\u001B[49m\u001B[43m,\u001B[49m\u001B[43m \u001B[49m\u001B[38;5;28;43mself\u001B[39;49m\u001B[38;5;241;43m.\u001B[39;49m\u001B[43mgateway_client\u001B[49m\u001B[43m,\u001B[49m\u001B[43m \u001B[49m\u001B[38;5;28;43mself\u001B[39;49m\u001B[38;5;241;43m.\u001B[39;49m\u001B[43mtarget_id\u001B[49m\u001B[43m,\u001B[49m\u001B[43m \u001B[49m\u001B[38;5;28;43mself\u001B[39;49m\u001B[38;5;241;43m.\u001B[39;49m\u001B[43mname\u001B[49m\u001B[43m)\u001B[49m\n\u001B[1;32m   1324\u001B[0m \u001B[38;5;28;01mfor\u001B[39;00m temp_arg \u001B[38;5;129;01min\u001B[39;00m temp_args:\n\u001B[1;32m   1325\u001B[0m     temp_arg\u001B[38;5;241m.\u001B[39m_detach()\n\nFile \u001B[0;32m/databricks/spark/python/pyspark/errors/exceptions.py:228\u001B[0m, in \u001B[0;36mcapture_sql_exception.<locals>.deco\u001B[0;34m(*a, **kw)\u001B[0m\n\u001B[1;32m    226\u001B[0m \u001B[38;5;28;01mdef\u001B[39;00m \u001B[38;5;21mdeco\u001B[39m(\u001B[38;5;241m*\u001B[39ma: Any, \u001B[38;5;241m*\u001B[39m\u001B[38;5;241m*\u001B[39mkw: Any) \u001B[38;5;241m-\u001B[39m\u001B[38;5;241m>\u001B[39m Any:\n\u001B[1;32m    227\u001B[0m     \u001B[38;5;28;01mtry\u001B[39;00m:\n\u001B[0;32m--> 228\u001B[0m         \u001B[38;5;28;01mreturn\u001B[39;00m \u001B[43mf\u001B[49m\u001B[43m(\u001B[49m\u001B[38;5;241;43m*\u001B[39;49m\u001B[43ma\u001B[49m\u001B[43m,\u001B[49m\u001B[43m \u001B[49m\u001B[38;5;241;43m*\u001B[39;49m\u001B[38;5;241;43m*\u001B[39;49m\u001B[43mkw\u001B[49m\u001B[43m)\u001B[49m\n\u001B[1;32m    229\u001B[0m     \u001B[38;5;28;01mexcept\u001B[39;00m Py4JJavaError \u001B[38;5;28;01mas\u001B[39;00m e:\n\u001B[1;32m    230\u001B[0m         converted \u001B[38;5;241m=\u001B[39m convert_exception(e\u001B[38;5;241m.\u001B[39mjava_exception)\n\nFile \u001B[0;32m/databricks/spark/python/lib/py4j-0.10.9.5-src.zip/py4j/protocol.py:326\u001B[0m, in \u001B[0;36mget_return_value\u001B[0;34m(answer, gateway_client, target_id, name)\u001B[0m\n\u001B[1;32m    324\u001B[0m value \u001B[38;5;241m=\u001B[39m OUTPUT_CONVERTER[\u001B[38;5;28mtype\u001B[39m](answer[\u001B[38;5;241m2\u001B[39m:], gateway_client)\n\u001B[1;32m    325\u001B[0m \u001B[38;5;28;01mif\u001B[39;00m answer[\u001B[38;5;241m1\u001B[39m] \u001B[38;5;241m==\u001B[39m REFERENCE_TYPE:\n\u001B[0;32m--> 326\u001B[0m     \u001B[38;5;28;01mraise\u001B[39;00m Py4JJavaError(\n\u001B[1;32m    327\u001B[0m         \u001B[38;5;124m\"\u001B[39m\u001B[38;5;124mAn error occurred while calling \u001B[39m\u001B[38;5;132;01m{0}\u001B[39;00m\u001B[38;5;132;01m{1}\u001B[39;00m\u001B[38;5;132;01m{2}\u001B[39;00m\u001B[38;5;124m.\u001B[39m\u001B[38;5;130;01m\\n\u001B[39;00m\u001B[38;5;124m\"\u001B[39m\u001B[38;5;241m.\u001B[39m\n\u001B[1;32m    328\u001B[0m         \u001B[38;5;28mformat\u001B[39m(target_id, \u001B[38;5;124m\"\u001B[39m\u001B[38;5;124m.\u001B[39m\u001B[38;5;124m\"\u001B[39m, name), value)\n\u001B[1;32m    329\u001B[0m \u001B[38;5;28;01melse\u001B[39;00m:\n\u001B[1;32m    330\u001B[0m     \u001B[38;5;28;01mraise\u001B[39;00m Py4JError(\n\u001B[1;32m    331\u001B[0m         \u001B[38;5;124m\"\u001B[39m\u001B[38;5;124mAn error occurred while calling \u001B[39m\u001B[38;5;132;01m{0}\u001B[39;00m\u001B[38;5;132;01m{1}\u001B[39;00m\u001B[38;5;132;01m{2}\u001B[39;00m\u001B[38;5;124m. Trace:\u001B[39m\u001B[38;5;130;01m\\n\u001B[39;00m\u001B[38;5;132;01m{3}\u001B[39;00m\u001B[38;5;130;01m\\n\u001B[39;00m\u001B[38;5;124m\"\u001B[39m\u001B[38;5;241m.\u001B[39m\n\u001B[1;32m    332\u001B[0m         \u001B[38;5;28mformat\u001B[39m(target_id, \u001B[38;5;124m\"\u001B[39m\u001B[38;5;124m.\u001B[39m\u001B[38;5;124m\"\u001B[39m, name, value))\n\n\u001B[0;31mPy4JJavaError\u001B[0m: An error occurred while calling o603.showString.\n: org.apache.spark.SparkException: Job aborted due to stage failure: Task 0 in stage 8.0 failed 1 times, most recent failure: Lost task 0.0 in stage 8.0 (TID 8) (ip-10-172-163-0.us-west-2.compute.internal executor driver): com.databricks.sql.io.FileReadException: Error while reading file dbfs:REDACTED_LOCAL_PART@gmail.com/employee.csv.\n\tat org.apache.spark.sql.execution.datasources.FileScanRDD$$anon$1$$anon$2.logFileNameAndThrow(FileScanRDD.scala:701)\n\tat org.apache.spark.sql.execution.datasources.FileScanRDD$$anon$1$$anon$2.getNext(FileScanRDD.scala:670)\n\tat org.apache.spark.util.NextIterator.hasNext(NextIterator.scala:73)\n\tat org.apache.spark.sql.execution.datasources.FileScanRDD$$anon$1.$anonfun$hasNext$1(FileScanRDD.scala:490)\n\tat scala.runtime.java8.JFunction0$mcZ$sp.apply(JFunction0$mcZ$sp.java:23)\n\tat com.databricks.spark.util.ExecutorFrameProfiler$.record(ExecutorFrameProfiler.scala:110)\n\tat org.apache.spark.sql.execution.datasources.FileScanRDD$$anon$1.hasNext(FileScanRDD.scala:483)\n\tat scala.collection.Iterator$$anon$10.hasNext(Iterator.scala:460)\n\tat org.apache.spark.sql.catalyst.expressions.GeneratedClass$GeneratedIteratorForCodegenStage1.processNext(Unknown Source)\n\tat org.apache.spark.sql.execution.BufferedRowIterator.hasNext(BufferedRowIterator.java:43)\n\tat org.apache.spark.sql.execution.WholeStageCodegenExec$$anon$1.hasNext(WholeStageCodegenExec.scala:761)\n\tat org.apache.spark.sql.execution.collect.UnsafeRowBatchUtils$.encodeUnsafeRows(UnsafeRowBatchUtils.scala:82)\n\tat org.apache.spark.sql.execution.collect.Collector.$anonfun$processFunc$1(Collector.scala:208)\n\tat org.apache.spark.scheduler.ResultTask.$anonfun$runTask$3(ResultTask.scala:75)\n\tat com.databricks.spark.util.ExecutorFrameProfiler$.record(ExecutorFrameProfiler.scala:110)\n\tat org.apache.spark.scheduler.ResultTask.$anonfun$runTask$1(ResultTask.scala:75)\n\tat com.databricks.spark.util.ExecutorFrameProfiler$.record(ExecutorFrameProfiler.scala:110)\n\tat org.apache.spark.scheduler.ResultTask.runTask(ResultTask.scala:55)\n\tat org.apache.spark.scheduler.Task.doRunTask(Task.scala:179)\n\tat org.apache.spark.scheduler.Task.$anonfun$run$5(Task.scala:142)\n\tat com.databricks.unity.EmptyHandle$.runWithAndClose(UCSHandle.scala:126)\n\tat org.apache.spark.scheduler.Task.$anonfun$run$1(Task.scala:142)\n\tat com.databricks.spark.util.ExecutorFrameProfiler$.record(ExecutorFrameProfiler.scala:110)\n\tat org.apache.spark.scheduler.Task.run(Task.scala:97)\n\tat org.apache.spark.executor.Executor$TaskRunner.$anonfun$run$13(Executor.scala:904)\n\tat org.apache.spark.util.Utils$.tryWithSafeFinally(Utils.scala:1741)\n\tat org.apache.spark.executor.Executor$TaskRunner.$anonfun$run$4(Executor.scala:907)\n\tat scala.runtime.java8.JFunction0$mcV$sp.apply(JFunction0$mcV$sp.java:23)\n\tat com.databricks.spark.util.ExecutorFrameProfiler$.record(ExecutorFrameProfiler.scala:110)\n\tat org.apache.spark.executor.Executor$TaskRunner.run(Executor.scala:761)\n\tat java.util.concurrent.ThreadPoolExecutor.runWorker(ThreadPoolExecutor.java:1149)\n\tat java.util.concurrent.ThreadPoolExecutor$Worker.run(ThreadPoolExecutor.java:624)\n\tat java.lang.Thread.run(Thread.java:750)\nCaused by: org.apache.spark.SparkException: Malformed records are detected in record parsing. Parse Mode: FAILFAST. To process malformed records as null result, try setting the option 'mode' as 'PERMISSIVE'.\n\tat org.apache.spark.sql.errors.QueryExecutionErrors$.malformedRecordsDetectedInRecordParsingError(QueryExecutionErrors.scala:1936)\n\tat org.apache.spark.sql.catalyst.util.FailureSafeParser.parse(FailureSafeParser.scala:103)\n\tat org.apache.spark.sql.catalyst.csv.UnivocityParser$.$anonfun$parseIterator$2(UnivocityParser.scala:507)\n\tat scala.collection.Iterator$$anon$11.nextCur(Iterator.scala:486)\n\tat scala.collection.Iterator$$anon$11.hasNext(Iterator.scala:492)\n\tat org.apache.spark.util.CompletionIterator.hasNext(CompletionIterator.scala:31)\n\tat scala.collection.Iterator$$anon$10.hasNext(Iterator.scala:460)\n\tat org.apache.spark.sql.execution.datasources.FileScanRDD$$anon$1$$anon$2.getNext(FileScanRDD.scala:616)\n\t... 31 more\nCaused by: org.apache.spark.sql.catalyst.util.BadRecordException: org.apache.spark.SparkRuntimeException: [MALFORMED_CSV_RECORD] Malformed CSV record: 3,Pritam,22,150000,Bangalore,India,nominee3\nCaused by: org.apache.spark.SparkRuntimeException: [MALFORMED_CSV_RECORD] Malformed CSV record: 3,Pritam,22,150000,Bangalore,India,nominee3\n\tat org.apache.spark.sql.errors.QueryExecutionErrors$.malformedCSVRecordError(QueryExecutionErrors.scala:1703)\n\tat org.apache.spark.sql.catalyst.csv.UnivocityParser.convert(UnivocityParser.scala:346)\n\tat org.apache.spark.sql.catalyst.csv.UnivocityParser.$anonfun$parse$2(UnivocityParser.scala:321)\n\tat org.apache.spark.sql.catalyst.csv.UnivocityParser$.$anonfun$parseIterator$1(UnivocityParser.scala:499)\n\tat org.apache.spark.sql.catalyst.util.FailureSafeParser.parse(FailureSafeParser.scala:92)\n\tat org.apache.spark.sql.catalyst.csv.UnivocityParser$.$anonfun$parseIterator$2(UnivocityParser.scala:507)\n\tat scala.collection.Iterator$$anon$11.nextCur(Iterator.scala:486)\n\tat scala.collection.Iterator$$anon$11.hasNext(Iterator.scala:492)\n\tat org.apache.spark.util.CompletionIterator.hasNext(CompletionIterator.scala:31)\n\tat scala.collection.Iterator$$anon$10.hasNext(Iterator.scala:460)\n\tat org.apache.spark.sql.execution.datasources.FileScanRDD$$anon$1$$anon$2.getNext(FileScanRDD.scala:616)\n\tat org.apache.spark.util.NextIterator.hasNext(NextIterator.scala:73)\n\tat org.apache.spark.sql.execution.datasources.FileScanRDD$$anon$1.$anonfun$hasNext$1(FileScanRDD.scala:490)\n\tat scala.runtime.java8.JFunction0$mcZ$sp.apply(JFunction0$mcZ$sp.java:23)\n\tat com.databricks.spark.util.ExecutorFrameProfiler$.record(ExecutorFrameProfiler.scala:110)\n\tat org.apache.spark.sql.execution.datasources.FileScanRDD$$anon$1.hasNext(FileScanRDD.scala:483)\n\tat scala.collection.Iterator$$anon$10.hasNext(Iterator.scala:460)\n\tat org.apache.spark.sql.catalyst.expressions.GeneratedClass$GeneratedIteratorForCodegenStage1.processNext(Unknown Source)\n\tat org.apache.spark.sql.execution.BufferedRowIterator.hasNext(BufferedRowIterator.java:43)\n\tat org.apache.spark.sql.execution.WholeStageCodegenExec$$anon$1.hasNext(WholeStageCodegenExec.scala:761)\n\tat org.apache.spark.sql.execution.collect.UnsafeRowBatchUtils$.encodeUnsafeRows(UnsafeRowBatchUtils.scala:82)\n\tat org.apache.spark.sql.execution.collect.Collector.$anonfun$processFunc$1(Collector.scala:208)\n\tat org.apache.spark.scheduler.ResultTask.$anonfun$runTask$3(ResultTask.scala:75)\n\tat com.databricks.spark.util.ExecutorFrameProfiler$.record(ExecutorFrameProfiler.scala:110)\n\tat org.apache.spark.scheduler.ResultTask.$anonfun$runTask$1(ResultTask.scala:75)\n\tat com.databricks.spark.util.ExecutorFrameProfiler$.record(ExecutorFrameProfiler.scala:110)\n\tat org.apache.spark.scheduler.ResultTask.runTask(ResultTask.scala:55)\n\tat org.apache.spark.scheduler.Task.doRunTask(Task.scala:179)\n\tat org.apache.spark.scheduler.Task.$anonfun$run$5(Task.scala:142)\n\tat com.databricks.unity.EmptyHandle$.runWithAndClose(UCSHandle.scala:126)\n\tat org.apache.spark.scheduler.Task.$anonfun$run$1(Task.scala:142)\n\tat com.databricks.spark.util.ExecutorFrameProfiler$.record(ExecutorFrameProfiler.scala:110)\n\tat org.apache.spark.scheduler.Task.run(Task.scala:97)\n\tat org.apache.spark.executor.Executor$TaskRunner.$anonfun$run$13(Executor.scala:904)\n\tat org.apache.spark.util.Utils$.tryWithSafeFinally(Utils.scala:1741)\n\tat org.apache.spark.executor.Executor$TaskRunner.$anonfun$run$4(Executor.scala:907)\n\tat scala.runtime.java8.JFunction0$mcV$sp.apply(JFunction0$mcV$sp.java:23)\n\tat com.databricks.spark.util.ExecutorFrameProfiler$.record(ExecutorFrameProfiler.scala:110)\n\tat org.apache.spark.executor.Executor$TaskRunner.run(Executor.scala:761)\n\tat java.util.concurrent.ThreadPoolExecutor.runWorker(ThreadPoolExecutor.java:1149)\n\tat java.util.concurrent.ThreadPoolExecutor$Worker.run(ThreadPoolExecutor.java:624)\n\tat java.lang.Thread.run(Thread.java:750)\n\nDriver stacktrace:\n\tat org.apache.spark.scheduler.DAGScheduler.failJobAndIndependentStages(DAGScheduler.scala:3440)\n\tat org.apache.spark.scheduler.DAGScheduler.$anonfun$abortStage$2(DAGScheduler.scala:3362)\n\tat org.apache.spark.scheduler.DAGScheduler.$anonfun$abortStage$2$adapted(DAGScheduler.scala:3351)\n\tat scala.collection.mutable.ResizableArray.foreach(ResizableArray.scala:62)\n\tat scala.collection.mutable.ResizableArray.foreach$(ResizableArray.scala:55)\n\tat scala.collection.mutable.ArrayBuffer.foreach(ArrayBuffer.scala:49)\n\tat org.apache.spark.scheduler.DAGScheduler.abortStage(DAGScheduler.scala:3351)\n\tat org.apache.spark.scheduler.DAGScheduler.$anonfun$handleTaskSetFailed$1(DAGScheduler.scala:1460)\n\tat org.apache.spark.scheduler.DAGScheduler.$anonfun$handleTaskSetFailed$1$adapted(DAGScheduler.scala:1460)\n\tat scala.Option.foreach(Option.scala:407)\n\tat org.apache.spark.scheduler.DAGScheduler.handleTaskSetFailed(DAGScheduler.scala:1460)\n\tat org.apache.spark.scheduler.DAGSchedulerEventProcessLoop.doOnReceive(DAGScheduler.scala:3651)\n\tat org.apache.spark.scheduler.DAGSchedulerEventProcessLoop.onReceive(DAGScheduler.scala:3589)\n\tat org.apache.spark.scheduler.DAGSchedulerEventProcessLoop.onReceive(DAGScheduler.scala:3577)\n\tat org.apache.spark.util.EventLoop$$anon$1.run(EventLoop.scala:51)\n\tat org.apache.spark.scheduler.DAGScheduler.$anonfun$runJob$1(DAGScheduler.scala:1209)\n\tat scala.runtime.java8.JFunction0$mcV$sp.apply(JFunction0$mcV$sp.java:23)\n\tat com.databricks.spark.util.FrameProfiler$.record(FrameProfiler.scala:80)\n\tat org.apache.spark.scheduler.DAGScheduler.runJob(DAGScheduler.scala:1197)\n\tat org.apache.spark.SparkContext.runJobInternal(SparkContext.scala:2758)\n\tat org.apache.spark.sql.execution.collect.Collector.$anonfun$runSparkJobs$1(Collector.scala:349)\n\tat scala.runtime.java8.JFunction0$mcV$sp.apply(JFunction0$mcV$sp.java:23)\n\tat com.databricks.spark.util.FrameProfiler$.record(FrameProfiler.scala:80)\n\tat org.apache.spark.sql.execution.collect.Collector.runSparkJobs(Collector.scala:293)\n\tat org.apache.spark.sql.execution.collect.Collector.collect(Collector.scala:377)\n\tat org.apache.spark.sql.execution.collect.Collector$.collect(Collector.scala:128)\n\tat org.apache.spark.sql.execution.collect.Collector$.collect(Collector.scala:135)\n\tat org.apache.spark.sql.execution.qrc.InternalRowFormat$.collect(cachedSparkResults.scala:122)\n\tat org.apache.spark.sql.execution.qrc.InternalRowFormat$.collect(cachedSparkResults.scala:110)\n\tat org.apache.spark.sql.execution.qrc.InternalRowFormat$.collect(cachedSparkResults.scala:92)\n\tat org.apache.spark.sql.execution.qrc.ResultCacheManager.$anonfun$computeResult$1(ResultCacheManager.scala:537)\n\tat com.databricks.spark.util.FrameProfiler$.record(FrameProfiler.scala:80)\n\tat org.apache.spark.sql.execution.qrc.ResultCacheManager.collectResult$1(ResultCacheManager.scala:529)\n\tat org.apache.spark.sql.execution.qrc.ResultCacheManager.computeResult(ResultCacheManager.scala:549)\n\tat org.apache.spark.sql.execution.qrc.ResultCacheManager.$anonfun$getOrComputeResultInternal$1(ResultCacheManager.scala:402)\n\tat scala.Option.getOrElse(Option.scala:189)\n\tat org.apache.spark.sql.execution.qrc.ResultCacheManager.getOrComputeResultInternal(ResultCacheManager.scala:395)\n\tat org.apache.spark.sql.execution.qrc.ResultCacheManager.getOrComputeResult(ResultCacheManager.scala:289)\n\tat org.apache.spark.sql.execution.SparkPlan.$anonfun$executeCollectResult$1(SparkPlan.scala:506)\n\tat com.databricks.spark.util.FrameProfiler$.record(FrameProfiler.scala:80)\n\tat org.apache.spark.sql.execution.SparkPlan.executeCollectResult(SparkPlan.scala:503)\n\tat org.apache.spark.sql.Dataset.collectResult(Dataset.scala:3458)\n\tat org.apache.spark.sql.Dataset.collectFromPlan(Dataset.scala:4382)\n\tat org.apache.spark.sql.Dataset.$anonfun$head$1(Dataset.scala:3168)\n\tat org.apache.spark.sql.Dataset.$anonfun$withAction$3(Dataset.scala:4373)\n\tat org.apache.spark.sql.execution.QueryExecution$.withInternalError(QueryExecution.scala:841)\n\tat org.apache.spark.sql.Dataset.$anonfun$withAction$2(Dataset.scala:4371)\n\tat org.apache.spark.sql.execution.SQLExecution$.$anonfun$withCustomExecutionEnv$9(SQLExecution.scala:258)\n\tat org.apache.spark.sql.execution.SQLExecution$.withSQLConfPropagated(SQLExecution.scala:448)\n\tat org.apache.spark.sql.execution.SQLExecution$.$anonfun$withCustomExecutionEnv$1(SQLExecution.scala:203)\n\tat org.apache.spark.sql.SparkSession.withActive(SparkSession.scala:1073)\n\tat org.apache.spark.sql.execution.SQLExecution$.withCustomExecutionEnv(SQLExecution.scala:131)\n\tat org.apache.spark.sql.execution.SQLExecution$.withNewExecutionId(SQLExecution.scala:398)\n\tat org.apache.spark.sql.Dataset.withAction(Dataset.scala:4371)\n\tat org.apache.spark.sql.Dataset.head(Dataset.scala:3168)\n\tat org.apache.spark.sql.Dataset.take(Dataset.scala:3389)\n\tat org.apache.spark.sql.Dataset.getRows(Dataset.scala:315)\n\tat org.apache.spark.sql.Dataset.showString(Dataset.scala:354)\n\tat sun.reflect.NativeMethodAccessorImpl.invoke0(Native Method)\n\tat sun.reflect.NativeMethodAccessorImpl.invoke(NativeMethodAccessorImpl.java:62)\n\tat sun.reflect.DelegatingMethodAccessorImpl.invoke(DelegatingMethodAccessorImpl.java:43)\n\tat java.lang.reflect.Method.invoke(Method.java:498)\n\tat py4j.reflection.MethodInvoker.invoke(MethodInvoker.java:244)\n\tat py4j.reflection.ReflectionEngine.invoke(ReflectionEngine.java:380)\n\tat py4j.Gateway.invoke(Gateway.java:306)\n\tat py4j.commands.AbstractCommand.invokeMethod(AbstractCommand.java:132)\n\tat py4j.commands.CallCommand.execute(CallCommand.java:79)\n\tat py4j.ClientServerConnection.waitForCommands(ClientServerConnection.java:195)\n\tat py4j.ClientServerConnection.run(ClientServerConnection.java:115)\n\tat java.lang.Thread.run(Thread.java:750)\nCaused by: com.databricks.sql.io.FileReadException: Error while reading file dbfs:REDACTED_LOCAL_PART@gmail.com/employee.csv.\n\tat org.apache.spark.sql.execution.datasources.FileScanRDD$$anon$1$$anon$2.logFileNameAndThrow(FileScanRDD.scala:701)\n\tat org.apache.spark.sql.execution.datasources.FileScanRDD$$anon$1$$anon$2.getNext(FileScanRDD.scala:670)\n\tat org.apache.spark.util.NextIterator.hasNext(NextIterator.scala:73)\n\tat org.apache.spark.sql.execution.datasources.FileScanRDD$$anon$1.$anonfun$hasNext$1(FileScanRDD.scala:490)\n\tat scala.runtime.java8.JFunction0$mcZ$sp.apply(JFunction0$mcZ$sp.java:23)\n\tat com.databricks.spark.util.ExecutorFrameProfiler$.record(ExecutorFrameProfiler.scala:110)\n\tat org.apache.spark.sql.execution.datasources.FileScanRDD$$anon$1.hasNext(FileScanRDD.scala:483)\n\tat scala.collection.Iterator$$anon$10.hasNext(Iterator.scala:460)\n\tat org.apache.spark.sql.catalyst.expressions.GeneratedClass$GeneratedIteratorForCodegenStage1.processNext(Unknown Source)\n\tat org.apache.spark.sql.execution.BufferedRowIterator.hasNext(BufferedRowIterator.java:43)\n\tat org.apache.spark.sql.execution.WholeStageCodegenExec$$anon$1.hasNext(WholeStageCodegenExec.scala:761)\n\tat org.apache.spark.sql.execution.collect.UnsafeRowBatchUtils$.encodeUnsafeRows(UnsafeRowBatchUtils.scala:82)\n\tat org.apache.spark.sql.execution.collect.Collector.$anonfun$processFunc$1(Collector.scala:208)\n\tat org.apache.spark.scheduler.ResultTask.$anonfun$runTask$3(ResultTask.scala:75)\n\tat com.databricks.spark.util.ExecutorFrameProfiler$.record(ExecutorFrameProfiler.scala:110)\n\tat org.apache.spark.scheduler.ResultTask.$anonfun$runTask$1(ResultTask.scala:75)\n\tat com.databricks.spark.util.ExecutorFrameProfiler$.record(ExecutorFrameProfiler.scala:110)\n\tat org.apache.spark.scheduler.ResultTask.runTask(ResultTask.scala:55)\n\tat org.apache.spark.scheduler.Task.doRunTask(Task.scala:179)\n\tat org.apache.spark.scheduler.Task.$anonfun$run$5(Task.scala:142)\n\tat com.databricks.unity.EmptyHandle$.runWithAndClose(UCSHandle.scala:126)\n\tat org.apache.spark.scheduler.Task.$anonfun$run$1(Task.scala:142)\n\tat com.databricks.spark.util.ExecutorFrameProfiler$.record(ExecutorFrameProfiler.scala:110)\n\tat org.apache.spark.scheduler.Task.run(Task.scala:97)\n\tat org.apache.spark.executor.Executor$TaskRunner.$anonfun$run$13(Executor.scala:904)\n\tat org.apache.spark.util.Utils$.tryWithSafeFinally(Utils.scala:1741)\n\tat org.apache.spark.executor.Executor$TaskRunner.$anonfun$run$4(Executor.scala:907)\n\tat scala.runtime.java8.JFunction0$mcV$sp.apply(JFunction0$mcV$sp.java:23)\n\tat com.databricks.spark.util.ExecutorFrameProfiler$.record(ExecutorFrameProfiler.scala:110)\n\tat org.apache.spark.executor.Executor$TaskRunner.run(Executor.scala:761)\n\tat java.util.concurrent.ThreadPoolExecutor.runWorker(ThreadPoolExecutor.java:1149)\n\tat java.util.concurrent.ThreadPoolExecutor$Worker.run(ThreadPoolExecutor.java:624)\n\t... 1 more\nCaused by: org.apache.spark.SparkException: Malformed records are detected in record parsing. Parse Mode: FAILFAST. To process malformed records as null result, try setting the option 'mode' as 'PERMISSIVE'.\n\tat org.apache.spark.sql.errors.QueryExecutionErrors$.malformedRecordsDetectedInRecordParsingError(QueryExecutionErrors.scala:1936)\n\tat org.apache.spark.sql.catalyst.util.FailureSafeParser.parse(FailureSafeParser.scala:103)\n\tat org.apache.spark.sql.catalyst.csv.UnivocityParser$.$anonfun$parseIterator$2(UnivocityParser.scala:507)\n\tat scala.collection.Iterator$$anon$11.nextCur(Iterator.scala:486)\n\tat scala.collection.Iterator$$anon$11.hasNext(Iterator.scala:492)\n\tat org.apache.spark.util.CompletionIterator.hasNext(CompletionIterator.scala:31)\n\tat scala.collection.Iterator$$anon$10.hasNext(Iterator.scala:460)\n\tat org.apache.spark.sql.execution.datasources.FileScanRDD$$anon$1$$anon$2.getNext(FileScanRDD.scala:616)\n\t... 31 more\nCaused by: org.apache.spark.sql.catalyst.util.BadRecordException: org.apache.spark.SparkRuntimeException: [MALFORMED_CSV_RECORD] Malformed CSV record: 3,Pritam,22,150000,Bangalore,India,nominee3\nCaused by: org.apache.spark.SparkRuntimeException: [MALFORMED_CSV_RECORD] Malformed CSV record: 3,Pritam,22,150000,Bangalore,India,nominee3\n\tat org.apache.spark.sql.errors.QueryExecutionErrors$.malformedCSVRecordError(QueryExecutionErrors.scala:1703)\n\tat org.apache.spark.sql.catalyst.csv.UnivocityParser.convert(UnivocityParser.scala:346)\n\tat org.apache.spark.sql.catalyst.csv.UnivocityParser.$anonfun$parse$2(UnivocityParser.scala:321)\n\tat org.apache.spark.sql.catalyst.csv.UnivocityParser$.$anonfun$parseIterator$1(UnivocityParser.scala:499)\n\tat org.apache.spark.sql.catalyst.util.FailureSafeParser.parse(FailureSafeParser.scala:92)\n\tat org.apache.spark.sql.catalyst.csv.UnivocityParser$.$anonfun$parseIterator$2(UnivocityParser.scala:507)\n\tat scala.collection.Iterator$$anon$11.nextCur(Iterator.scala:486)\n\tat scala.collection.Iterator$$anon$11.hasNext(Iterator.scala:492)\n\tat org.apache.spark.util.CompletionIterator.hasNext(CompletionIterator.scala:31)\n\tat scala.collection.Iterator$$anon$10.hasNext(Iterator.scala:460)\n\tat org.apache.spark.sql.execution.datasources.FileScanRDD$$anon$1$$anon$2.getNext(FileScanRDD.scala:616)\n\tat org.apache.spark.util.NextIterator.hasNext(NextIterator.scala:73)\n\tat org.apache.spark.sql.execution.datasources.FileScanRDD$$anon$1.$anonfun$hasNext$1(FileScanRDD.scala:490)\n\tat scala.runtime.java8.JFunction0$mcZ$sp.apply(JFunction0$mcZ$sp.java:23)\n\tat com.databricks.spark.util.ExecutorFrameProfiler$.record(ExecutorFrameProfiler.scala:110)\n\tat org.apache.spark.sql.execution.datasources.FileScanRDD$$anon$1.hasNext(FileScanRDD.scala:483)\n\tat scala.collection.Iterator$$anon$10.hasNext(Iterator.scala:460)\n\tat org.apache.spark.sql.catalyst.expressions.GeneratedClass$GeneratedIteratorForCodegenStage1.processNext(Unknown Source)\n\tat org.apache.spark.sql.execution.BufferedRowIterator.hasNext(BufferedRowIterator.java:43)\n\tat org.apache.spark.sql.execution.WholeStageCodegenExec$$anon$1.hasNext(WholeStageCodegenExec.scala:761)\n\tat org.apache.spark.sql.execution.collect.UnsafeRowBatchUtils$.encodeUnsafeRows(UnsafeRowBatchUtils.scala:82)\n\tat org.apache.spark.sql.execution.collect.Collector.$anonfun$processFunc$1(Collector.scala:208)\n\tat org.apache.spark.scheduler.ResultTask.$anonfun$runTask$3(ResultTask.scala:75)\n\tat com.databricks.spark.util.ExecutorFrameProfiler$.record(ExecutorFrameProfiler.scala:110)\n\tat org.apache.spark.scheduler.ResultTask.$anonfun$runTask$1(ResultTask.scala:75)\n\tat com.databricks.spark.util.ExecutorFrameProfiler$.record(ExecutorFrameProfiler.scala:110)\n\tat org.apache.spark.scheduler.ResultTask.runTask(ResultTask.scala:55)\n\tat org.apache.spark.scheduler.Task.doRunTask(Task.scala:179)\n\tat org.apache.spark.scheduler.Task.$anonfun$run$5(Task.scala:142)\n\tat com.databricks.unity.EmptyHandle$.runWithAndClose(UCSHandle.scala:126)\n\tat org.apache.spark.scheduler.Task.$anonfun$run$1(Task.scala:142)\n\tat com.databricks.spark.util.ExecutorFrameProfiler$.record(ExecutorFrameProfiler.scala:110)\n\tat org.apache.spark.scheduler.Task.run(Task.scala:97)\n\tat org.apache.spark.executor.Executor$TaskRunner.$anonfun$run$13(Executor.scala:904)\n\tat org.apache.spark.util.Utils$.tryWithSafeFinally(Utils.scala:1741)\n\tat org.apache.spark.executor.Executor$TaskRunner.$anonfun$run$4(Executor.scala:907)\n\tat scala.runtime.java8.JFunction0$mcV$sp.apply(JFunction0$mcV$sp.java:23)\n\tat com.databricks.spark.util.ExecutorFrameProfiler$.record(ExecutorFrameProfiler.scala:110)\n\tat org.apache.spark.executor.Executor$TaskRunner.run(Executor.scala:761)\n\tat java.util.concurrent.ThreadPoolExecutor.runWorker(ThreadPoolExecutor.java:1149)\n\tat java.util.concurrent.ThreadPoolExecutor$Worker.run(ThreadPoolExecutor.java:624)\n\tat java.lang.Thread.run(Thread.java:750)\n",
       "errorSummary": "org.apache.spark.SparkException: Job aborted due to stage failure: Task 0 in stage 8.0 failed 1 times, most recent failure: Lost task 0.0 in stage 8.0 (TID 8) (ip-10-172-163-0.us-west-2.compute.internal executor driver): com.databricks.sql.io.FileReadException: Error while reading file dbfs:REDACTED_LOCAL_PART@gmail.com/employee.csv.",
       "errorTraceType": "ansi",
       "metadata": {},
       "type": "ipynbError"
      }
     },
     "output_type": "display_data"
    }
   ],
   "source": [
    "employee_df = spark.read.format(\"csv\")\\\n",
    "        .option(\"header\",\"true\")\\\n",
    "        .option(\"inferschema\",\"true\")\\\n",
    "        .option(\"mode\",\"FAILFAST\")\\\n",
    "        .load(\"dbfs:/FileStore/shared_uploads/mechinelearningai@gmail.com/employee.csv\")\n",
    "\n",
    "\n",
    "employee_df.show(5)"
   ]
  },
  {
   "cell_type": "code",
   "execution_count": 0,
   "metadata": {
    "application/vnd.databricks.v1+cell": {
     "cellMetadata": {
      "byteLimit": 2048000,
      "rowLimit": 10000
     },
     "inputWidgets": {},
     "nuid": "4cb3e6b7-988c-4c1b-b822-4aeb115db7d6",
     "showTitle": false,
     "tableResultSettingsMap": {},
     "title": ""
    }
   },
   "outputs": [],
   "source": [
    "from pyspark.sql.types import StructType, StructField, StringType, IntegerType\n",
    "\n",
    "\n",
    "\n",
    "emp_schema = StructType(\n",
    "                [\n",
    "                    StructField(\"id\",IntegerType(),True),\n",
    "                    StructField(\"name\",StringType(),True),\n",
    "                    StructField(\"age\",IntegerType(),True),\n",
    "                    StructField(\"salary\",IntegerType(),True),\n",
    "                    StructField(\"address\",StringType(),True),\n",
    "                    StructField(\"nominee\",StringType(),True),\n",
    "                    StructField(\"_corrupt_record\",StringType(),True)\n",
    "                ])"
   ]
  },
  {
   "cell_type": "code",
   "execution_count": 0,
   "metadata": {
    "application/vnd.databricks.v1+cell": {
     "cellMetadata": {
      "byteLimit": 2048000,
      "rowLimit": 10000
     },
     "inputWidgets": {},
     "nuid": "30038dc9-8da6-4cb9-98e1-42f489e08e7e",
     "showTitle": false,
     "tableResultSettingsMap": {},
     "title": ""
    }
   },
   "outputs": [
    {
     "output_type": "stream",
     "name": "stdout",
     "output_type": "stream",
     "text": [
      "+---+--------+---+------+------------+--------+-------------------------------------------+\n|id |name    |age|salary|address     |nominee |_corrupt_record                            |\n+---+--------+---+------+------------+--------+-------------------------------------------+\n|1  |Manish  |26 |75000 |bihar       |nominee1|null                                       |\n|2  |Nikita  |23 |100000|uttarpradesh|nominee2|null                                       |\n|3  |Pritam  |22 |150000|Bangalore   |India   |3,Pritam,22,150000,Bangalore,India,nominee3|\n|4  |Prantosh|17 |200000|Kolkata     |India   |4,Prantosh,17,200000,Kolkata,India,nominee4|\n|5  |Vikash  |31 |300000|null        |nominee5|null                                       |\n+---+--------+---+------+------------+--------+-------------------------------------------+\n\n"
     ]
    }
   ],
   "source": [
    "employee_df = spark.read.format(\"csv\")\\\n",
    "        .option(\"header\",\"true\")\\\n",
    "        .option(\"inferschema\",\"true\")\\\n",
    "        .option(\"mode\",\"PERMISSIVE\")\\\n",
    "        .schema(emp_schema)\\\n",
    "        .load(\"dbfs:/FileStore/shared_uploads/mechinelearningai@gmail.com/employee.csv\")\n",
    "\n",
    "\n",
    "employee_df.show(truncate = False)"
   ]
  },
  {
   "cell_type": "code",
   "execution_count": 0,
   "metadata": {
    "application/vnd.databricks.v1+cell": {
     "cellMetadata": {
      "byteLimit": 2048000,
      "rowLimit": 10000
     },
     "inputWidgets": {},
     "nuid": "8e6235db-95fe-4803-ab7e-b720d601a5ea",
     "showTitle": false,
     "tableResultSettingsMap": {},
     "title": ""
    }
   },
   "outputs": [
    {
     "output_type": "stream",
     "name": "stdout",
     "output_type": "stream",
     "text": [
      "+---+------+---+------+------------+--------+---------------+\n|id |name  |age|salary|address     |nominee |_corrupt_record|\n+---+------+---+------+------------+--------+---------------+\n|1  |Manish|26 |75000 |bihar       |nominee1|null           |\n|2  |Nikita|23 |100000|uttarpradesh|nominee2|null           |\n|5  |Vikash|31 |300000|null        |nominee5|null           |\n+---+------+---+------+------------+--------+---------------+\n\n"
     ]
    }
   ],
   "source": [
    "employee_df = spark.read.format(\"csv\")\\\n",
    "        .option(\"header\",\"true\")\\\n",
    "        .option(\"inferschema\",\"true\")\\\n",
    "        .schema(emp_schema)\\\n",
    "        .option(\"badRecordsPath\",\"dbfs:/FileStore/shared_uploads/mechinelearningai@gmail.com/bad_recods\")\\\n",
    "        .load(\"dbfs:/FileStore/shared_uploads/mechinelearningai@gmail.com/employee.csv\")\n",
    "\n",
    "\n",
    "employee_df.show(truncate = False)"
   ]
  },
  {
   "cell_type": "code",
   "execution_count": 0,
   "metadata": {
    "application/vnd.databricks.v1+cell": {
     "cellMetadata": {
      "byteLimit": 2048000,
      "rowLimit": 10000
     },
     "inputWidgets": {},
     "nuid": "61a2bf48-aaf4-44c1-bc1f-68f2d7ab0d24",
     "showTitle": false,
     "tableResultSettingsMap": {},
     "title": ""
    }
   },
   "outputs": [
    {
     "output_type": "display_data",
     "data": {
      "text/html": [
       "<style scoped>\n",
       "  .table-result-container {\n",
       "    max-height: 300px;\n",
       "    overflow: auto;\n",
       "  }\n",
       "  table, th, td {\n",
       "    border: 1px solid black;\n",
       "    border-collapse: collapse;\n",
       "  }\n",
       "  th, td {\n",
       "    padding: 5px;\n",
       "  }\n",
       "  th {\n",
       "    text-align: left;\n",
       "  }\n",
       "</style><div class='table-result-container'><table class='table-result'><thead style='background-color: white'><tr><th>path</th><th>name</th><th>size</th><th>modificationTime</th></tr></thead><tbody><tr><td>dbfs:/FileStore/shared_uploads/mechinelearningai@gmail.com/employee.csv</td><td>employee.csv</td><td>230</td><td>1734016275000</td></tr><tr><td>dbfs:/FileStore/shared_uploads/mechinelearningai@gmail.com/fight_data.csv</td><td>fight_data.csv</td><td>7375</td><td>1733994693000</td></tr></tbody></table></div>"
      ]
     },
     "metadata": {
      "application/vnd.databricks.v1+output": {
       "addedWidgets": {},
       "aggData": [],
       "aggError": "",
       "aggOverflow": false,
       "aggSchema": [],
       "aggSeriesLimitReached": false,
       "aggType": "",
       "arguments": {},
       "columnCustomDisplayInfos": {},
       "data": [
        [
         "dbfs:/FileStore/shared_uploads/mechinelearningai@gmail.com/employee.csv",
         "employee.csv",
         230,
         1734016275000
        ],
        [
         "dbfs:/FileStore/shared_uploads/mechinelearningai@gmail.com/fight_data.csv",
         "fight_data.csv",
         7375,
         1733994693000
        ]
       ],
       "datasetInfos": [],
       "dbfsResultPath": null,
       "isJsonSchema": true,
       "metadata": {
        "isDbfsCommandResult": false
       },
       "overflow": false,
       "plotOptions": {
        "customPlotOptions": {},
        "displayType": "table",
        "pivotAggregation": null,
        "pivotColumns": null,
        "xColumns": null,
        "yColumns": null
       },
       "removedWidgets": [],
       "schema": [
        {
         "metadata": "{}",
         "name": "path",
         "type": "\"string\""
        },
        {
         "metadata": "{}",
         "name": "name",
         "type": "\"string\""
        },
        {
         "metadata": "{}",
         "name": "size",
         "type": "\"long\""
        },
        {
         "metadata": "{}",
         "name": "modificationTime",
         "type": "\"long\""
        }
       ],
       "type": "table"
      }
     },
     "output_type": "display_data"
    }
   ],
   "source": [
    "%fs\n",
    "ls dbfs:/FileStore/shared_uploads/mechinelearningai@gmail.com/"
   ]
  },
  {
   "cell_type": "code",
   "execution_count": 0,
   "metadata": {
    "application/vnd.databricks.v1+cell": {
     "cellMetadata": {
      "byteLimit": 2048000,
      "rowLimit": 10000
     },
     "inputWidgets": {},
     "nuid": "f6a4e624-15e6-42cc-b8f5-20059fbe5382",
     "showTitle": false,
     "tableResultSettingsMap": {},
     "title": ""
    }
   },
   "outputs": [
    {
     "output_type": "display_data",
     "data": {
      "text/html": [
       "<style scoped>\n",
       "  .table-result-container {\n",
       "    max-height: 300px;\n",
       "    overflow: auto;\n",
       "  }\n",
       "  table, th, td {\n",
       "    border: 1px solid black;\n",
       "    border-collapse: collapse;\n",
       "  }\n",
       "  th, td {\n",
       "    padding: 5px;\n",
       "  }\n",
       "  th {\n",
       "    text-align: left;\n",
       "  }\n",
       "</style><div class='table-result-container'><table class='table-result'><thead style='background-color: white'><tr><th>path</th><th>name</th><th>size</th><th>modificationTime</th></tr></thead><tbody><tr><td>dbfs:/FileStore/shared_uploads/mechinelearningai@gmail.com/bad_recods/</td><td>bad_recods/</td><td>0</td><td>0</td></tr><tr><td>dbfs:/FileStore/shared_uploads/mechinelearningai@gmail.com/employee.csv</td><td>employee.csv</td><td>230</td><td>1734016275000</td></tr><tr><td>dbfs:/FileStore/shared_uploads/mechinelearningai@gmail.com/fight_data.csv</td><td>fight_data.csv</td><td>7375</td><td>1733994693000</td></tr></tbody></table></div>"
      ]
     },
     "metadata": {
      "application/vnd.databricks.v1+output": {
       "addedWidgets": {},
       "aggData": [],
       "aggError": "",
       "aggOverflow": false,
       "aggSchema": [],
       "aggSeriesLimitReached": false,
       "aggType": "",
       "arguments": {},
       "columnCustomDisplayInfos": {},
       "data": [
        [
         "dbfs:/FileStore/shared_uploads/mechinelearningai@gmail.com/bad_recods/",
         "bad_recods/",
         0,
         0
        ],
        [
         "dbfs:/FileStore/shared_uploads/mechinelearningai@gmail.com/employee.csv",
         "employee.csv",
         230,
         1734016275000
        ],
        [
         "dbfs:/FileStore/shared_uploads/mechinelearningai@gmail.com/fight_data.csv",
         "fight_data.csv",
         7375,
         1733994693000
        ]
       ],
       "datasetInfos": [],
       "dbfsResultPath": null,
       "isJsonSchema": true,
       "metadata": {
        "isDbfsCommandResult": false
       },
       "overflow": false,
       "plotOptions": {
        "customPlotOptions": {},
        "displayType": "table",
        "pivotAggregation": null,
        "pivotColumns": null,
        "xColumns": null,
        "yColumns": null
       },
       "removedWidgets": [],
       "schema": [
        {
         "metadata": "{}",
         "name": "path",
         "type": "\"string\""
        },
        {
         "metadata": "{}",
         "name": "name",
         "type": "\"string\""
        },
        {
         "metadata": "{}",
         "name": "size",
         "type": "\"long\""
        },
        {
         "metadata": "{}",
         "name": "modificationTime",
         "type": "\"long\""
        }
       ],
       "type": "table"
      }
     },
     "output_type": "display_data"
    }
   ],
   "source": [
    "%fs\n",
    "ls dbfs:/FileStore/shared_uploads/mechinelearningai@gmail.com/"
   ]
  },
  {
   "cell_type": "code",
   "execution_count": 0,
   "metadata": {
    "application/vnd.databricks.v1+cell": {
     "cellMetadata": {
      "byteLimit": 2048000,
      "rowLimit": 10000
     },
     "inputWidgets": {},
     "nuid": "acf45bbc-327a-4f52-bc39-a9096dc943cc",
     "showTitle": false,
     "tableResultSettingsMap": {},
     "title": ""
    }
   },
   "outputs": [
    {
     "output_type": "display_data",
     "data": {
      "text/html": [
       "<style scoped>\n",
       "  .table-result-container {\n",
       "    max-height: 300px;\n",
       "    overflow: auto;\n",
       "  }\n",
       "  table, th, td {\n",
       "    border: 1px solid black;\n",
       "    border-collapse: collapse;\n",
       "  }\n",
       "  th, td {\n",
       "    padding: 5px;\n",
       "  }\n",
       "  th {\n",
       "    text-align: left;\n",
       "  }\n",
       "</style><div class='table-result-container'><table class='table-result'><thead style='background-color: white'><tr><th>path</th><th>name</th><th>size</th><th>modificationTime</th></tr></thead><tbody><tr><td>dbfs:/FileStore/shared_uploads/mechinelearningai@gmail.com/bad_recods/20241212T153958/</td><td>20241212T153958/</td><td>0</td><td>0</td></tr></tbody></table></div>"
      ]
     },
     "metadata": {
      "application/vnd.databricks.v1+output": {
       "addedWidgets": {},
       "aggData": [],
       "aggError": "",
       "aggOverflow": false,
       "aggSchema": [],
       "aggSeriesLimitReached": false,
       "aggType": "",
       "arguments": {},
       "columnCustomDisplayInfos": {},
       "data": [
        [
         "dbfs:/FileStore/shared_uploads/mechinelearningai@gmail.com/bad_recods/20241212T153958/",
         "20241212T153958/",
         0,
         0
        ]
       ],
       "datasetInfos": [],
       "dbfsResultPath": null,
       "isJsonSchema": true,
       "metadata": {
        "isDbfsCommandResult": false
       },
       "overflow": false,
       "plotOptions": {
        "customPlotOptions": {},
        "displayType": "table",
        "pivotAggregation": null,
        "pivotColumns": null,
        "xColumns": null,
        "yColumns": null
       },
       "removedWidgets": [],
       "schema": [
        {
         "metadata": "{}",
         "name": "path",
         "type": "\"string\""
        },
        {
         "metadata": "{}",
         "name": "name",
         "type": "\"string\""
        },
        {
         "metadata": "{}",
         "name": "size",
         "type": "\"long\""
        },
        {
         "metadata": "{}",
         "name": "modificationTime",
         "type": "\"long\""
        }
       ],
       "type": "table"
      }
     },
     "output_type": "display_data"
    }
   ],
   "source": [
    "%fs\n",
    "ls dbfs:/FileStore/shared_uploads/mechinelearningai@gmail.com/bad_recods"
   ]
  },
  {
   "cell_type": "markdown",
   "metadata": {
    "application/vnd.databricks.v1+cell": {
     "cellMetadata": {},
     "inputWidgets": {},
     "nuid": "d3fceaf8-f901-426c-952d-6cfa8b076abe",
     "showTitle": false,
     "tableResultSettingsMap": {},
     "title": ""
    }
   },
   "source": [
    "#Handling corrupted records in Scala"
   ]
  },
  {
   "cell_type": "code",
   "execution_count": 0,
   "metadata": {
    "application/vnd.databricks.v1+cell": {
     "cellMetadata": {
      "byteLimit": 2048000,
      "rowLimit": 10000
     },
     "inputWidgets": {},
     "nuid": "e224f2c5-b648-49cd-b646-5d6ffc3d3cef",
     "showTitle": false,
     "tableResultSettingsMap": {},
     "title": ""
    }
   },
   "outputs": [
    {
     "output_type": "display_data",
     "data": {
      "text/html": [
       "<style scoped>\n",
       "  .ansiout {\n",
       "    display: block;\n",
       "    unicode-bidi: embed;\n",
       "    white-space: pre-wrap;\n",
       "    word-wrap: break-word;\n",
       "    word-break: break-all;\n",
       "    font-family: \"Menlo\", \"Monaco\", \"Consolas\", \"Ubuntu Mono\", \"Source Code Pro\", monospace;\n",
       "    font-size: 13px;\n",
       "    color: #555;\n",
       "    margin-left: 4px;\n",
       "    line-height: 19px;\n",
       "  }\n",
       "</style>\n",
       "<div class=\"ansiout\">+---+--------+---+------+------------+--------+\n",
       " id|    name|age|salary|     address| nominee|\n",
       "+---+--------+---+------+------------+--------+\n",
       "  1|  Manish| 26| 75000|       bihar|nominee1|\n",
       "  2|  Nikita| 23|100000|uttarpradesh|nominee2|\n",
       "  3|  Pritam| 22|150000|   Bangalore|   India|\n",
       "  4|Prantosh| 17|200000|     Kolkata|   India|\n",
       "  5|  Vikash| 31|300000|        null|nominee5|\n",
       "+---+--------+---+------+------------+--------+\n",
       "\n",
       "import org.apache.spark.sql.SparkSession\n",
       "spark: org.apache.spark.sql.SparkSession = org.apache.spark.sql.SparkSession@2d382cb4\n",
       "employee_df: org.apache.spark.sql.DataFrame = [id: int, name: string ... 4 more fields]\n",
       "</div>"
      ]
     },
     "metadata": {
      "application/vnd.databricks.v1+output": {
       "addedWidgets": {},
       "arguments": {},
       "data": "<div class=\"ansiout\">+---+--------+---+------+------------+--------+\n| id|    name|age|salary|     address| nominee|\n+---+--------+---+------+------------+--------+\n|  1|  Manish| 26| 75000|       bihar|nominee1|\n|  2|  Nikita| 23|100000|uttarpradesh|nominee2|\n|  3|  Pritam| 22|150000|   Bangalore|   India|\n|  4|Prantosh| 17|200000|     Kolkata|   India|\n|  5|  Vikash| 31|300000|        null|nominee5|\n+---+--------+---+------+------------+--------+\n\nimport org.apache.spark.sql.SparkSession\nspark: org.apache.spark.sql.SparkSession = org.apache.spark.sql.SparkSession@2d382cb4\nemployee_df: org.apache.spark.sql.DataFrame = [id: int, name: string ... 4 more fields]\n</div>",
       "datasetInfos": [
        {
         "name": "employee_df",
         "schema": {
          "fields": [
           {
            "metadata": {},
            "name": "id",
            "nullable": true,
            "type": "integer"
           },
           {
            "metadata": {},
            "name": "name",
            "nullable": true,
            "type": "string"
           },
           {
            "metadata": {},
            "name": "age",
            "nullable": true,
            "type": "integer"
           },
           {
            "metadata": {},
            "name": "salary",
            "nullable": true,
            "type": "integer"
           },
           {
            "metadata": {},
            "name": "address",
            "nullable": true,
            "type": "string"
           },
           {
            "metadata": {},
            "name": "nominee",
            "nullable": true,
            "type": "string"
           }
          ],
          "type": "struct"
         },
         "tableIdentifier": null,
         "typeStr": "org.apache.spark.sql.DataFrame"
        }
       ],
       "metadata": {
        "isDbfsCommandResult": false
       },
       "removedWidgets": [],
       "type": "html"
      }
     },
     "output_type": "display_data"
    }
   ],
   "source": [
    "%scala\n",
    "// Import necessary Spark libraries\n",
    "import org.apache.spark.sql.SparkSession\n",
    "\n",
    "// Initialize SparkSession\n",
    "val spark = SparkSession.builder()\n",
    "  .appName(\"Employee Data\")\n",
    "  .getOrCreate()\n",
    "\n",
    "// Read the CSV file into a DataFrame\n",
    "val employee_df = spark.read\n",
    "  .format(\"csv\")\n",
    "  .option(\"header\", \"true\")         // File has a header row\n",
    "  .option(\"inferSchema\", \"true\")    // Infer schema automatically\n",
    "  .option(\"mode\", \"PERMISSIVE\")     // Handle corrupted records permissively\n",
    "  .load(\"dbfs:/FileStore/shared_uploads/mechinelearningai@gmail.com/employee.csv\")\n",
    "\n",
    "// Display the first 5 rows of the DataFrame\n",
    "employee_df.show(5)\n"
   ]
  },
  {
   "cell_type": "code",
   "execution_count": 0,
   "metadata": {
    "application/vnd.databricks.v1+cell": {
     "cellMetadata": {
      "byteLimit": 2048000,
      "rowLimit": 10000
     },
     "inputWidgets": {},
     "nuid": "4083de97-7b90-41e9-b9a5-cf11b673767a",
     "showTitle": false,
     "tableResultSettingsMap": {},
     "title": ""
    }
   },
   "outputs": [
    {
     "output_type": "display_data",
     "data": {
      "text/html": [
       "<style scoped>\n",
       "  .ansiout {\n",
       "    display: block;\n",
       "    unicode-bidi: embed;\n",
       "    white-space: pre-wrap;\n",
       "    word-wrap: break-word;\n",
       "    word-break: break-all;\n",
       "    font-family: \"Menlo\", \"Monaco\", \"Consolas\", \"Ubuntu Mono\", \"Source Code Pro\", monospace;\n",
       "    font-size: 13px;\n",
       "    color: #555;\n",
       "    margin-left: 4px;\n",
       "    line-height: 19px;\n",
       "  }\n",
       "</style>\n",
       "<div class=\"ansiout\">+---+------+---+------+------------+--------+\n",
       " id|  name|age|salary|     address| nominee|\n",
       "+---+------+---+------+------------+--------+\n",
       "  1|Manish| 26| 75000|       bihar|nominee1|\n",
       "  2|Nikita| 23|100000|uttarpradesh|nominee2|\n",
       "  5|Vikash| 31|300000|        null|nominee5|\n",
       "+---+------+---+------+------------+--------+\n",
       "\n",
       "import org.apache.spark.sql.SparkSession\n",
       "spark: org.apache.spark.sql.SparkSession = org.apache.spark.sql.SparkSession@2d382cb4\n",
       "employee_df: org.apache.spark.sql.DataFrame = [id: int, name: string ... 4 more fields]\n",
       "</div>"
      ]
     },
     "metadata": {
      "application/vnd.databricks.v1+output": {
       "addedWidgets": {},
       "arguments": {},
       "data": "<div class=\"ansiout\">+---+------+---+------+------------+--------+\n| id|  name|age|salary|     address| nominee|\n+---+------+---+------+------------+--------+\n|  1|Manish| 26| 75000|       bihar|nominee1|\n|  2|Nikita| 23|100000|uttarpradesh|nominee2|\n|  5|Vikash| 31|300000|        null|nominee5|\n+---+------+---+------+------------+--------+\n\nimport org.apache.spark.sql.SparkSession\nspark: org.apache.spark.sql.SparkSession = org.apache.spark.sql.SparkSession@2d382cb4\nemployee_df: org.apache.spark.sql.DataFrame = [id: int, name: string ... 4 more fields]\n</div>",
       "datasetInfos": [
        {
         "name": "employee_df",
         "schema": {
          "fields": [
           {
            "metadata": {},
            "name": "id",
            "nullable": true,
            "type": "integer"
           },
           {
            "metadata": {},
            "name": "name",
            "nullable": true,
            "type": "string"
           },
           {
            "metadata": {},
            "name": "age",
            "nullable": true,
            "type": "integer"
           },
           {
            "metadata": {},
            "name": "salary",
            "nullable": true,
            "type": "integer"
           },
           {
            "metadata": {},
            "name": "address",
            "nullable": true,
            "type": "string"
           },
           {
            "metadata": {},
            "name": "nominee",
            "nullable": true,
            "type": "string"
           }
          ],
          "type": "struct"
         },
         "tableIdentifier": null,
         "typeStr": "org.apache.spark.sql.DataFrame"
        }
       ],
       "metadata": {
        "isDbfsCommandResult": false
       },
       "removedWidgets": [],
       "type": "html"
      }
     },
     "output_type": "display_data"
    }
   ],
   "source": [
    "%scala\n",
    "// Import necessary Spark libraries\n",
    "import org.apache.spark.sql.SparkSession\n",
    "\n",
    "// Initialize SparkSession\n",
    "val spark = SparkSession.builder()\n",
    "  .appName(\"Employee Data\")\n",
    "  .getOrCreate()\n",
    "\n",
    "// Read the CSV file into a DataFrame\n",
    "val employee_df = spark.read\n",
    "  .format(\"csv\")\n",
    "  .option(\"header\", \"true\")         // File has a header row\n",
    "  .option(\"inferSchema\", \"true\")    // Infer schema automatically\n",
    "  .option(\"mode\", \"DROPMALFORMED\")  // Drop malformed records\n",
    "  .load(\"dbfs:/FileStore/shared_uploads/mechinelearningai@gmail.com/employee.csv\")\n",
    "\n",
    "// Display the first 5 rows of the DataFrame\n",
    "employee_df.show(5)\n"
   ]
  },
  {
   "cell_type": "code",
   "execution_count": 0,
   "metadata": {
    "application/vnd.databricks.v1+cell": {
     "cellMetadata": {
      "byteLimit": 2048000,
      "rowLimit": 10000
     },
     "inputWidgets": {},
     "nuid": "56575a7c-24ec-4df2-ad7c-d25556345dab",
     "showTitle": false,
     "tableResultSettingsMap": {},
     "title": ""
    }
   },
   "outputs": [
    {
     "output_type": "display_data",
     "data": {
      "text/html": [
       "<style scoped>\n",
       "  .ansiout {\n",
       "    display: block;\n",
       "    unicode-bidi: embed;\n",
       "    white-space: pre-wrap;\n",
       "    word-wrap: break-word;\n",
       "    word-break: break-all;\n",
       "    font-family: \"Menlo\", \"Monaco\", \"Consolas\", \"Ubuntu Mono\", \"Source Code Pro\", monospace;\n",
       "    font-size: 13px;\n",
       "    color: #555;\n",
       "    margin-left: 4px;\n",
       "    line-height: 19px;\n",
       "  }\n",
       "</style>\n",
       "<div class=\"ansiout\">root\n",
       "-- id: integer (nullable = true)\n",
       "-- name: string (nullable = true)\n",
       "-- age: integer (nullable = true)\n",
       "-- salary: integer (nullable = true)\n",
       "-- address: string (nullable = true)\n",
       "-- nominee: string (nullable = true)\n",
       "-- _corrupt_record: string (nullable = true)\n",
       "\n",
       "import org.apache.spark.sql.types._\n",
       "emp_schema: org.apache.spark.sql.types.StructType = StructType(StructField(id,IntegerType,true),StructField(name,StringType,true),StructField(age,IntegerType,true),StructField(salary,IntegerType,true),StructField(address,StringType,true),StructField(nominee,StringType,true),StructField(_corrupt_record,StringType,true))\n",
       "</div>"
      ]
     },
     "metadata": {
      "application/vnd.databricks.v1+output": {
       "addedWidgets": {},
       "arguments": {},
       "data": "<div class=\"ansiout\">root\n |-- id: integer (nullable = true)\n |-- name: string (nullable = true)\n |-- age: integer (nullable = true)\n |-- salary: integer (nullable = true)\n |-- address: string (nullable = true)\n |-- nominee: string (nullable = true)\n |-- _corrupt_record: string (nullable = true)\n\nimport org.apache.spark.sql.types._\nemp_schema: org.apache.spark.sql.types.StructType = StructType(StructField(id,IntegerType,true),StructField(name,StringType,true),StructField(age,IntegerType,true),StructField(salary,IntegerType,true),StructField(address,StringType,true),StructField(nominee,StringType,true),StructField(_corrupt_record,StringType,true))\n</div>",
       "datasetInfos": [],
       "metadata": {
        "isDbfsCommandResult": false
       },
       "removedWidgets": [],
       "type": "html"
      }
     },
     "output_type": "display_data"
    }
   ],
   "source": [
    "%scala\n",
    "import org.apache.spark.sql.types._\n",
    "\n",
    "// Define the schema using StructType\n",
    "val emp_schema = StructType(\n",
    "  Array(\n",
    "    StructField(\"id\", IntegerType, true),\n",
    "    StructField(\"name\", StringType, true),\n",
    "    StructField(\"age\", IntegerType, true),\n",
    "    StructField(\"salary\", IntegerType, true),\n",
    "    StructField(\"address\", StringType, true),\n",
    "    StructField(\"nominee\", StringType, true),\n",
    "    StructField(\"_corrupt_record\", StringType, true)\n",
    "  )\n",
    ")\n",
    "\n",
    "emp_schema.printTreeString()\n"
   ]
  },
  {
   "cell_type": "markdown",
   "metadata": {
    "application/vnd.databricks.v1+cell": {
     "cellMetadata": {},
     "inputWidgets": {},
     "nuid": "277849bc-fad9-4069-8444-e624dbe67baf",
     "showTitle": false,
     "tableResultSettingsMap": {},
     "title": ""
    }
   },
   "source": [
    "## how to read json file in python\n"
   ]
  },
  {
   "cell_type": "markdown",
   "metadata": {
    "application/vnd.databricks.v1+cell": {
     "cellMetadata": {},
     "inputWidgets": {},
     "nuid": "5a3a586d-d6fa-416a-9ae9-45a95359ba6e",
     "showTitle": false,
     "tableResultSettingsMap": {},
     "title": ""
    }
   },
   "source": [
    "**df1 = spark.read.format(\"json\").load(\"dbfs:/FileStore/shared_uploads/mechinelearningai@gmail.com/single_file.json\")\n",
    "df2 = spark.read.format(\"json\").load(\"dbfs:/FileStore/shared_uploads/mechinelearningai@gmail.com/Multi_line_incorrect.json\")\n",
    "df3 = spark.read.format(\"json\").load(\"dbfs:/FileStore/shared_uploads/mechinelearningai@gmail.com/Multi_line_correct.json\")\n",
    "df4 = spark.read.format(\"json\").load(\"dbfs:/FileStore/shared_uploads/mechinelearningai@gmail.com/line_delimited.json\")\n",
    "df5 = spark.read.format(\"json\").load(\"dbfs:/FileStore/shared_uploads/mechinelearningai@gmail.com/corrupted.json\")**"
   ]
  },
  {
   "cell_type": "markdown",
   "metadata": {
    "application/vnd.databricks.v1+cell": {
     "cellMetadata": {},
     "inputWidgets": {},
     "nuid": "32b2da93-0ea9-4e2f-9ef7-bfae49037df0",
     "showTitle": false,
     "tableResultSettingsMap": {},
     "title": ""
    }
   },
   "source": [
    "#line_delimited.json"
   ]
  },
  {
   "cell_type": "code",
   "execution_count": 0,
   "metadata": {
    "application/vnd.databricks.v1+cell": {
     "cellMetadata": {
      "byteLimit": 2048000,
      "rowLimit": 10000
     },
     "inputWidgets": {},
     "nuid": "b2ae05c8-965a-409f-b9be-cd7cda9b5903",
     "showTitle": false,
     "tableResultSettingsMap": {},
     "title": ""
    }
   },
   "outputs": [
    {
     "output_type": "stream",
     "name": "stdout",
     "output_type": "stream",
     "text": [
      "+---+--------+------+\n|age|    name|salary|\n+---+--------+------+\n| 20|  Manish| 20000|\n| 25|  Nikita| 21000|\n| 16|  Pritam| 22000|\n| 35|Prantosh| 25000|\n| 67|  Vikash| 40000|\n+---+--------+------+\n\n"
     ]
    }
   ],
   "source": [
    "spark.read.format(\"json\")\\\n",
    "                .option(\"inferschema\",\"true\")\\\n",
    "                .option(\"mode\",\"PERMISSIVE\")\\\n",
    "                .load(\"dbfs:/FileStore/shared_uploads/mechinelearningai@gmail.com/line_delimited.json\").show()"
   ]
  },
  {
   "cell_type": "code",
   "execution_count": 0,
   "metadata": {
    "application/vnd.databricks.v1+cell": {
     "cellMetadata": {
      "byteLimit": 2048000,
      "rowLimit": 10000
     },
     "inputWidgets": {},
     "nuid": "183da952-27bc-4912-9940-bc24f6dccee8",
     "showTitle": false,
     "tableResultSettingsMap": {},
     "title": ""
    }
   },
   "outputs": [
    {
     "output_type": "stream",
     "name": "stdout",
     "output_type": "stream",
     "text": [
      "+---+------+--------+------+\n|age|gender|    name|salary|\n+---+------+--------+------+\n| 20|  null|  Manish| 20000|\n| 25|  null|  Nikita| 21000|\n| 16|  null|  Pritam| 22000|\n| 35|  null|Prantosh| 25000|\n| 67|     M|  Vikash| 40000|\n+---+------+--------+------+\n\n"
     ]
    }
   ],
   "source": [
    "spark.read.format(\"json\")\\\n",
    "                .option(\"inferschema\",\"true\")\\\n",
    "                .option(\"mode\",\"PERMISSIVE\")\\\n",
    "                .load(\"dbfs:/FileStore/shared_uploads/mechinelearningai@gmail.com/single_file.json\").show()"
   ]
  },
  {
   "cell_type": "code",
   "execution_count": 0,
   "metadata": {
    "application/vnd.databricks.v1+cell": {
     "cellMetadata": {
      "byteLimit": 2048000,
      "rowLimit": 10000
     },
     "inputWidgets": {},
     "nuid": "d3a835a0-cdf5-4c23-9120-3b8e55dc114d",
     "showTitle": false,
     "tableResultSettingsMap": {},
     "title": ""
    }
   },
   "outputs": [
    {
     "output_type": "stream",
     "name": "stdout",
     "output_type": "stream",
     "text": [
      "+---+--------+------+\n|age|    name|salary|\n+---+--------+------+\n| 20|  Manish| 20000|\n| 25|  Nikita| 21000|\n| 16|  Pritam| 22000|\n| 35|Prantosh| 25000|\n| 67|  Vikash| 40000|\n+---+--------+------+\n\n"
     ]
    }
   ],
   "source": [
    "spark.read.format(\"json\")\\\n",
    "                .option(\"inferschema\",\"true\")\\\n",
    "                .option(\"mode\",\"PERMISSIVE\")\\\n",
    "                .option(\"multiline\",\"True\")\\\n",
    "                .load(\"dbfs:/FileStore/shared_uploads/mechinelearningai@gmail.com/Multi_line_correct.json\").show()"
   ]
  },
  {
   "cell_type": "code",
   "execution_count": 0,
   "metadata": {
    "application/vnd.databricks.v1+cell": {
     "cellMetadata": {
      "byteLimit": 2048000,
      "rowLimit": 10000
     },
     "inputWidgets": {},
     "nuid": "808114a1-8994-45e6-bdfb-69be9880b4a2",
     "showTitle": false,
     "tableResultSettingsMap": {},
     "title": ""
    }
   },
   "outputs": [
    {
     "output_type": "stream",
     "name": "stdout",
     "output_type": "stream",
     "text": [
      "+---+------+------+\n|age|  name|salary|\n+---+------+------+\n| 20|Manish| 20000|\n+---+------+------+\n\n"
     ]
    }
   ],
   "source": [
    "spark.read.format(\"json\")\\\n",
    "                .option(\"inferschema\",\"true\")\\\n",
    "                .option(\"mode\",\"PERMISSIVE\")\\\n",
    "                .option(\"multiline\",\"True\")\\\n",
    "                .load(\"dbfs:/FileStore/shared_uploads/mechinelearningai@gmail.com/Multi_line_incorrect.json\").show()"
   ]
  },
  {
   "cell_type": "code",
   "execution_count": 0,
   "metadata": {
    "application/vnd.databricks.v1+cell": {
     "cellMetadata": {
      "byteLimit": 2048000,
      "rowLimit": 10000
     },
     "inputWidgets": {},
     "nuid": "3fee190c-daf6-4a3d-a615-693c88d4d436",
     "showTitle": false,
     "tableResultSettingsMap": {},
     "title": ""
    }
   },
   "outputs": [
    {
     "output_type": "stream",
     "name": "stdout",
     "output_type": "stream",
     "text": [
      "+----------------------------------------+----+--------+------+\n|_corrupt_record                         |age |name    |salary|\n+----------------------------------------+----+--------+------+\n|null                                    |20  |Manish  |20000 |\n|null                                    |25  |Nikita  |21000 |\n|null                                    |16  |Pritam  |22000 |\n|null                                    |35  |Prantosh|25000 |\n|{\"name\":\"Vikash\",\"age\":67,\"salary\":40000|null|null    |null  |\n+----------------------------------------+----+--------+------+\n\n"
     ]
    }
   ],
   "source": [
    "spark.read.format(\"json\")\\\n",
    "                .option(\"inferschema\",\"true\")\\\n",
    "                .option(\"mode\",\"PERMISSIVE\")\\\n",
    "                .load(\"dbfs:/FileStore/shared_uploads/mechinelearningai@gmail.com/corrupted.json\").show(truncate = False)"
   ]
  },
  {
   "cell_type": "markdown",
   "metadata": {
    "application/vnd.databricks.v1+cell": {
     "cellMetadata": {},
     "inputWidgets": {},
     "nuid": "8b97ddb4-b5f9-4654-9f80-ce276dc13d0d",
     "showTitle": false,
     "tableResultSettingsMap": {},
     "title": ""
    }
   },
   "source": [
    "**df1 = spark.read.format(\"json\").load(\"dbfs:/FileStore/shared_uploads/mechinelearningai@gmail.com/file5.json\")**"
   ]
  },
  {
   "cell_type": "code",
   "execution_count": 0,
   "metadata": {
    "application/vnd.databricks.v1+cell": {
     "cellMetadata": {
      "byteLimit": 2048000,
      "rowLimit": 10000
     },
     "inputWidgets": {},
     "nuid": "5dee004c-2446-43a7-b432-708d447e5530",
     "showTitle": false,
     "tableResultSettingsMap": {},
     "title": ""
    }
   },
   "outputs": [
    {
     "output_type": "stream",
     "name": "stdout",
     "output_type": "stream",
     "text": [
      "+----+-------+--------------------+-------------+-------------+-------------+------+\n|code|message|         restaurants|results_found|results_shown|results_start|status|\n+----+-------+--------------------+-------------+-------------+-------------+------+\n|null|   null|                  []|            0|            0|            1|  null|\n|null|   null|[{{{17066603}, b9...|         6835|           20|            1|  null|\n|null|   null|                  []|            0|            0|            1|  null|\n|null|   null|                  []|            0|            0|            1|  null|\n|null|   null|[{{{17093124}, b9...|         8680|           20|            1|  null|\n|null|   null|                  []|            0|            0|            1|  null|\n|null|   null|                  []|            0|            0|            1|  null|\n|null|   null|[{{{17580142}, b9...|          943|           20|            1|  null|\n|null|   null|                  []|            0|            0|            1|  null|\n|null|   null|                  []|            0|            0|            1|  null|\n|null|   null|[{{{17284158}, b9...|          257|           20|            1|  null|\n|null|   null|                  []|            0|            0|            1|  null|\n|null|   null|                  []|            0|            0|            1|  null|\n|null|   null|[{{{17678233}, b9...|          358|           20|            1|  null|\n|null|   null|                  []|            0|            0|            1|  null|\n|null|   null|                  []|            0|            0|            1|  null|\n|null|   null|[{{{17375047}, b9...|          641|           20|            1|  null|\n|null|   null|                  []|            0|            0|            1|  null|\n|null|   null|                  []|            0|            0|            1|  null|\n|null|   null|[{{{17616590}, b9...|         1613|           20|            1|  null|\n+----+-------+--------------------+-------------+-------------+-------------+------+\nonly showing top 20 rows\n\n"
     ]
    }
   ],
   "source": [
    "# this is Multiline json format\n",
    "spark.read.format(\"json\")\\\n",
    "                .option(\"inferschema\",\"true\")\\\n",
    "                .option(\"mode\",\"PERMISSIVE\")\\\n",
    "                .option(\"multiline\",\"True\")\\\n",
    "                .load(\"dbfs:/FileStore/shared_uploads/mechinelearningai@gmail.com/file5.json\").show()"
   ]
  },
  {
   "cell_type": "markdown",
   "metadata": {
    "application/vnd.databricks.v1+cell": {
     "cellMetadata": {},
     "inputWidgets": {},
     "nuid": "753120c8-dba0-4e02-97e3-7fc713f39944",
     "showTitle": false,
     "tableResultSettingsMap": {},
     "title": ""
    }
   },
   "source": [
    "**df1 = spark.read.format(\"json\").load(\"dbfs:/FileStore/shared_uploads/mechinelearningai@gmail.com/file6.json\")**"
   ]
  },
  {
   "cell_type": "code",
   "execution_count": 0,
   "metadata": {
    "application/vnd.databricks.v1+cell": {
     "cellMetadata": {
      "byteLimit": 2048000,
      "rowLimit": 10000
     },
     "inputWidgets": {},
     "nuid": "0ab6cfe5-f197-43e3-9bb2-e9754bbfefe5",
     "showTitle": false,
     "tableResultSettingsMap": {},
     "title": ""
    }
   },
   "outputs": [
    {
     "output_type": "stream",
     "name": "stdout",
     "output_type": "stream",
     "text": [
      "+----+-------+--------------------+-------------+-------------+-------------+------+\n|code|message|         restaurants|results_found|results_shown|results_start|status|\n+----+-------+--------------------+-------------+-------------+-------------+------+\n|null|   null|                  []|            0|            0|            1|  null|\n|null|   null|[{{{17066603}, b9...|         6835|           20|            1|  null|\n|null|   null|                  []|            0|            0|            1|  null|\n|null|   null|                  []|            0|            0|            1|  null|\n|null|   null|[{{{17093124}, b9...|         8680|           20|            1|  null|\n|null|   null|                  []|            0|            0|            1|  null|\n|null|   null|                  []|            0|            0|            1|  null|\n|null|   null|[{{{17580142}, b9...|          943|           20|            1|  null|\n|null|   null|                  []|            0|            0|            1|  null|\n|null|   null|                  []|            0|            0|            1|  null|\n|null|   null|[{{{17284158}, b9...|          257|           20|            1|  null|\n|null|   null|                  []|            0|            0|            1|  null|\n|null|   null|                  []|            0|            0|            1|  null|\n|null|   null|[{{{17678233}, b9...|          358|           20|            1|  null|\n|null|   null|                  []|            0|            0|            1|  null|\n|null|   null|                  []|            0|            0|            1|  null|\n|null|   null|[{{{17375047}, b9...|          641|           20|            1|  null|\n|null|   null|                  []|            0|            0|            1|  null|\n|null|   null|                  []|            0|            0|            1|  null|\n|null|   null|[{{{17616590}, b9...|         1613|           20|            1|  null|\n+----+-------+--------------------+-------------+-------------+-------------+------+\nonly showing top 20 rows\n\n"
     ]
    }
   ],
   "source": [
    "spark.read.format(\"json\")\\\n",
    "                .option(\"inferschema\",\"true\")\\\n",
    "                .option(\"mode\",\"PERMISSIVE\")\\\n",
    "                .load(\"dbfs:/FileStore/shared_uploads/mechinelearningai@gmail.com/file6.json\").show()"
   ]
  },
  {
   "cell_type": "code",
   "execution_count": 0,
   "metadata": {
    "application/vnd.databricks.v1+cell": {
     "cellMetadata": {
      "byteLimit": 2048000,
      "rowLimit": 10000
     },
     "inputWidgets": {},
     "nuid": "742016fd-f3f9-4f2a-8b5f-ec2170248a4c",
     "showTitle": false,
     "tableResultSettingsMap": {},
     "title": ""
    }
   },
   "outputs": [
    {
     "output_type": "stream",
     "name": "stdout",
     "output_type": "stream",
     "text": [
      "root\n |-- code: long (nullable = true)\n |-- message: string (nullable = true)\n |-- restaurants: array (nullable = true)\n |    |-- element: struct (containsNull = true)\n |    |    |-- restaurant: struct (nullable = true)\n |    |    |    |-- R: struct (nullable = true)\n |    |    |    |    |-- res_id: long (nullable = true)\n |    |    |    |-- apikey: string (nullable = true)\n |    |    |    |-- average_cost_for_two: long (nullable = true)\n |    |    |    |-- cuisines: string (nullable = true)\n |    |    |    |-- currency: string (nullable = true)\n |    |    |    |-- deeplink: string (nullable = true)\n |    |    |    |-- establishment_types: array (nullable = true)\n |    |    |    |    |-- element: string (containsNull = true)\n |    |    |    |-- events_url: string (nullable = true)\n |    |    |    |-- featured_image: string (nullable = true)\n |    |    |    |-- has_online_delivery: long (nullable = true)\n |    |    |    |-- has_table_booking: long (nullable = true)\n |    |    |    |-- id: string (nullable = true)\n |    |    |    |-- is_delivering_now: long (nullable = true)\n |    |    |    |-- location: struct (nullable = true)\n |    |    |    |    |-- address: string (nullable = true)\n |    |    |    |    |-- city: string (nullable = true)\n |    |    |    |    |-- city_id: long (nullable = true)\n |    |    |    |    |-- country_id: long (nullable = true)\n |    |    |    |    |-- latitude: string (nullable = true)\n |    |    |    |    |-- locality: string (nullable = true)\n |    |    |    |    |-- locality_verbose: string (nullable = true)\n |    |    |    |    |-- longitude: string (nullable = true)\n |    |    |    |    |-- zipcode: string (nullable = true)\n |    |    |    |-- menu_url: string (nullable = true)\n |    |    |    |-- name: string (nullable = true)\n |    |    |    |-- offers: array (nullable = true)\n |    |    |    |    |-- element: string (containsNull = true)\n |    |    |    |-- photos_url: string (nullable = true)\n |    |    |    |-- price_range: long (nullable = true)\n |    |    |    |-- switch_to_order_menu: long (nullable = true)\n |    |    |    |-- thumb: string (nullable = true)\n |    |    |    |-- url: string (nullable = true)\n |    |    |    |-- user_rating: struct (nullable = true)\n |    |    |    |    |-- aggregate_rating: string (nullable = true)\n |    |    |    |    |-- rating_color: string (nullable = true)\n |    |    |    |    |-- rating_text: string (nullable = true)\n |    |    |    |    |-- votes: string (nullable = true)\n |-- results_found: long (nullable = true)\n |-- results_shown: long (nullable = true)\n |-- results_start: string (nullable = true)\n |-- status: string (nullable = true)\n\n"
     ]
    }
   ],
   "source": [
    "spark.read.format(\"json\")\\\n",
    "                .option(\"inferschema\",\"true\")\\\n",
    "                .option(\"mode\",\"PERMISSIVE\")\\\n",
    "                .load(\"dbfs:/FileStore/shared_uploads/mechinelearningai@gmail.com/file6.json\").printSchema()"
   ]
  },
  {
   "cell_type": "markdown",
   "metadata": {
    "application/vnd.databricks.v1+cell": {
     "cellMetadata": {},
     "inputWidgets": {},
     "nuid": "b9d11dd5-fbab-4441-ae7e-badee2f1dc2b",
     "showTitle": false,
     "tableResultSettingsMap": {},
     "title": ""
    }
   },
   "source": [
    "## what is Apache Parquet file with python"
   ]
  },
  {
   "cell_type": "markdown",
   "metadata": {
    "application/vnd.databricks.v1+cell": {
     "cellMetadata": {},
     "inputWidgets": {},
     "nuid": "90dfcb19-0bde-49a8-931c-64bd82303fd4",
     "showTitle": false,
     "tableResultSettingsMap": {},
     "title": ""
    }
   },
   "source": [
    "**dbfs:/FileStore/shared_uploads/mechinelearningai@gmail.com/part_r_00000_1a9822ba_b8fb_4d8e_844a_ea30d0801b9e_gz.parquet**"
   ]
  },
  {
   "cell_type": "code",
   "execution_count": 0,
   "metadata": {
    "application/vnd.databricks.v1+cell": {
     "cellMetadata": {
      "byteLimit": 2048000,
      "rowLimit": 10000
     },
     "inputWidgets": {},
     "nuid": "67e68131-28e4-4c8e-b9b6-ad1c0e5ee07c",
     "showTitle": false,
     "tableResultSettingsMap": {},
     "title": ""
    }
   },
   "outputs": [
    {
     "output_type": "stream",
     "name": "stdout",
     "output_type": "stream",
     "text": [
      "+--------------------+-------------------+-----+\n|   DEST_COUNTRY_NAME|ORIGIN_COUNTRY_NAME|count|\n+--------------------+-------------------+-----+\n|       United States|            Romania|    1|\n|       United States|            Ireland|  264|\n|       United States|              India|   69|\n|               Egypt|      United States|   24|\n|   Equatorial Guinea|      United States|    1|\n|       United States|          Singapore|   25|\n|       United States|            Grenada|   54|\n|          Costa Rica|      United States|  477|\n|             Senegal|      United States|   29|\n|       United States|   Marshall Islands|   44|\n|              Guyana|      United States|   17|\n|       United States|       Sint Maarten|   53|\n|               Malta|      United States|    1|\n|             Bolivia|      United States|   46|\n|            Anguilla|      United States|   21|\n|Turks and Caicos ...|      United States|  136|\n|       United States|        Afghanistan|    2|\n|Saint Vincent and...|      United States|    1|\n|               Italy|      United States|  390|\n|       United States|             Russia|  156|\n+--------------------+-------------------+-----+\nonly showing top 20 rows\n\n"
     ]
    }
   ],
   "source": [
    "df = spark.read.parquet(\"dbfs:/FileStore/shared_uploads/mechinelearningai@gmail.com/part_r_00000_1a9822ba_b8fb_4d8e_844a_ea30d0801b9e_gz.parquet\")\n",
    "\n",
    "df.show()"
   ]
  },
  {
   "cell_type": "markdown",
   "metadata": {
    "application/vnd.databricks.v1+cell": {
     "cellMetadata": {},
     "inputWidgets": {},
     "nuid": "3daf232e-0a8c-4ef0-95a7-2172c31ae83e",
     "showTitle": false,
     "tableResultSettingsMap": {},
     "title": ""
    }
   },
   "source": [
    "#what is Apache Parquet file with Scala"
   ]
  },
  {
   "cell_type": "code",
   "execution_count": 0,
   "metadata": {
    "application/vnd.databricks.v1+cell": {
     "cellMetadata": {
      "byteLimit": 2048000,
      "rowLimit": 10000
     },
     "inputWidgets": {},
     "nuid": "1d968dbb-51e3-46ba-b8eb-d056971c4aab",
     "showTitle": false,
     "tableResultSettingsMap": {},
     "title": ""
    }
   },
   "outputs": [
    {
     "output_type": "display_data",
     "data": {
      "text/html": [
       "<style scoped>\n",
       "  .ansiout {\n",
       "    display: block;\n",
       "    unicode-bidi: embed;\n",
       "    white-space: pre-wrap;\n",
       "    word-wrap: break-word;\n",
       "    word-break: break-all;\n",
       "    font-family: \"Menlo\", \"Monaco\", \"Consolas\", \"Ubuntu Mono\", \"Source Code Pro\", monospace;\n",
       "    font-size: 13px;\n",
       "    color: #555;\n",
       "    margin-left: 4px;\n",
       "    line-height: 19px;\n",
       "  }\n",
       "</style>\n",
       "<div class=\"ansiout\">+--------------------+-------------------+-----+\n",
       "   DEST_COUNTRY_NAME|ORIGIN_COUNTRY_NAME|count|\n",
       "+--------------------+-------------------+-----+\n",
       "       United States|            Romania|    1|\n",
       "       United States|            Ireland|  264|\n",
       "       United States|              India|   69|\n",
       "               Egypt|      United States|   24|\n",
       "   Equatorial Guinea|      United States|    1|\n",
       "       United States|          Singapore|   25|\n",
       "       United States|            Grenada|   54|\n",
       "          Costa Rica|      United States|  477|\n",
       "             Senegal|      United States|   29|\n",
       "       United States|   Marshall Islands|   44|\n",
       "              Guyana|      United States|   17|\n",
       "       United States|       Sint Maarten|   53|\n",
       "               Malta|      United States|    1|\n",
       "             Bolivia|      United States|   46|\n",
       "            Anguilla|      United States|   21|\n",
       "Turks and Caicos ...|      United States|  136|\n",
       "       United States|        Afghanistan|    2|\n",
       "Saint Vincent and...|      United States|    1|\n",
       "               Italy|      United States|  390|\n",
       "       United States|             Russia|  156|\n",
       "+--------------------+-------------------+-----+\n",
       "only showing top 20 rows\n",
       "\n",
       "df: org.apache.spark.sql.DataFrame = [DEST_COUNTRY_NAME: string, ORIGIN_COUNTRY_NAME: string ... 1 more field]\n",
       "</div>"
      ]
     },
     "metadata": {
      "application/vnd.databricks.v1+output": {
       "addedWidgets": {},
       "arguments": {},
       "data": "<div class=\"ansiout\">+--------------------+-------------------+-----+\n|   DEST_COUNTRY_NAME|ORIGIN_COUNTRY_NAME|count|\n+--------------------+-------------------+-----+\n|       United States|            Romania|    1|\n|       United States|            Ireland|  264|\n|       United States|              India|   69|\n|               Egypt|      United States|   24|\n|   Equatorial Guinea|      United States|    1|\n|       United States|          Singapore|   25|\n|       United States|            Grenada|   54|\n|          Costa Rica|      United States|  477|\n|             Senegal|      United States|   29|\n|       United States|   Marshall Islands|   44|\n|              Guyana|      United States|   17|\n|       United States|       Sint Maarten|   53|\n|               Malta|      United States|    1|\n|             Bolivia|      United States|   46|\n|            Anguilla|      United States|   21|\n|Turks and Caicos ...|      United States|  136|\n|       United States|        Afghanistan|    2|\n|Saint Vincent and...|      United States|    1|\n|               Italy|      United States|  390|\n|       United States|             Russia|  156|\n+--------------------+-------------------+-----+\nonly showing top 20 rows\n\ndf: org.apache.spark.sql.DataFrame = [DEST_COUNTRY_NAME: string, ORIGIN_COUNTRY_NAME: string ... 1 more field]\n</div>",
       "datasetInfos": [
        {
         "name": "df",
         "schema": {
          "fields": [
           {
            "metadata": {},
            "name": "DEST_COUNTRY_NAME",
            "nullable": true,
            "type": "string"
           },
           {
            "metadata": {},
            "name": "ORIGIN_COUNTRY_NAME",
            "nullable": true,
            "type": "string"
           },
           {
            "metadata": {},
            "name": "count",
            "nullable": true,
            "type": "long"
           }
          ],
          "type": "struct"
         },
         "tableIdentifier": null,
         "typeStr": "org.apache.spark.sql.DataFrame"
        }
       ],
       "metadata": {
        "isDbfsCommandResult": false
       },
       "removedWidgets": [],
       "type": "html"
      }
     },
     "output_type": "display_data"
    }
   ],
   "source": [
    "%scala\n",
    "// Read the Parquet file\n",
    "val df = spark.read.parquet(\"dbfs:/FileStore/shared_uploads/mechinelearningai@gmail.com/part_r_00000_1a9822ba_b8fb_4d8e_844a_ea30d0801b9e_gz.parquet\")\n",
    "\n",
    "// Display the DataFrame\n",
    "df.show()\n"
   ]
  },
  {
   "cell_type": "markdown",
   "metadata": {
    "application/vnd.databricks.v1+cell": {
     "cellMetadata": {},
     "inputWidgets": {},
     "nuid": "27a9ffca-ad08-42a2-83b5-a80e62eaa0cc",
     "showTitle": false,
     "tableResultSettingsMap": {},
     "title": ""
    }
   },
   "source": [
    "#**How to write dataframe to disk in python**"
   ]
  },
  {
   "cell_type": "code",
   "execution_count": 0,
   "metadata": {
    "application/vnd.databricks.v1+cell": {
     "cellMetadata": {
      "byteLimit": 2048000,
      "rowLimit": 10000
     },
     "inputWidgets": {},
     "nuid": "ba60503d-242b-450c-9415-d428c3e87252",
     "showTitle": false,
     "tableResultSettingsMap": {},
     "title": ""
    }
   },
   "outputs": [
    {
     "output_type": "stream",
     "name": "stdout",
     "output_type": "stream",
     "text": [
      "+---+----------+--------+---------+----------+-----------+\n| id|      name|     age|   salary|   address|     gender|\n+---+----------+--------+---------+----------+-----------+\n|  1|    Manish|      26|    75000|     INDIA|          m|\n|  2|    Nikita|      23|   100000|       USA|          f|\n|  3|    Pritam|      22|   150000|     INDIA|          m|\n|  4|  Prantosh|      17|   200000|     JAPAN|          m|\n|  5|    Vikash|      31|   300000|       USA|          m|\n|  6|     Rahul|      55|   300000|     INDIA|          m|\n|  7|      Raju|      67|   540000|       USA|          m|\n|  8|   Praveen|      28|    70000|     JAPAN|          m|\n|  9|       Dev|      32|   150000|     JAPAN|          m|\n| 10|    Sherin|      16|    25000|    RUSSIA|          f|\n| 11|      Ragu|      12|    35000|     INDIA|          f|\n| 12|     Sweta|      43|   200000|     INDIA|          f|\n| 13|   Raushan|      48|   650000|       USA|          m|\n| 14|    Mukesh|      36|    95000|    RUSSIA|          m|\n| 15|   Prakash|      52|   750000|     INDIA|          m|\n+---+----------+--------+---------+----------+-----------+\n\n"
     ]
    }
   ],
   "source": [
    "df1 = spark.read.format(\"csv\").option(\"header\", \"true\").load(\"dbfs:/FileStore/shared_uploads/mechinelearningai@gmail.com/len_8.csv\")\n",
    "df1.show()"
   ]
  },
  {
   "cell_type": "code",
   "execution_count": 0,
   "metadata": {
    "application/vnd.databricks.v1+cell": {
     "cellMetadata": {
      "byteLimit": 2048000,
      "rowLimit": 10000
     },
     "inputWidgets": {},
     "nuid": "68e39aa7-aaff-4e62-b0c2-722c5c155d03",
     "showTitle": false,
     "tableResultSettingsMap": {},
     "title": ""
    }
   },
   "outputs": [],
   "source": [
    "df1.write.format(\"csv\")\\\n",
    "          .option(\"header\",\"true\")\\\n",
    "          .option(\"mode\",\"overwrite\")\\\n",
    "          .option(\"path\",\"dbfs:/FileStore/shared_uploads/     mechinelearningai@gmail.com/csv_write/\")\\\n",
    "            .save()"
   ]
  },
  {
   "cell_type": "code",
   "execution_count": 0,
   "metadata": {
    "application/vnd.databricks.v1+cell": {
     "cellMetadata": {
      "byteLimit": 2048000,
      "rowLimit": 10000
     },
     "inputWidgets": {},
     "nuid": "7a92d4fb-cb67-4d24-886f-6314156d31c5",
     "showTitle": false,
     "tableResultSettingsMap": {},
     "title": ""
    }
   },
   "outputs": [
    {
     "output_type": "stream",
     "name": "stdout",
     "output_type": "stream",
     "text": [
      "Out[6]: [FileInfo(path='dbfs:/FileStore/shared_uploads/     mechinelearningai@gmail.com/csv_write/_SUCCESS', name='_SUCCESS', size=0, modificationTime=1734193759000),\n FileInfo(path='dbfs:/FileStore/shared_uploads/     mechinelearningai@gmail.com/csv_write/_committed_4859565657023037198', name='_committed_4859565657023037198', size=111, modificationTime=1734193759000),\n FileInfo(path='dbfs:/FileStore/shared_uploads/     mechinelearningai@gmail.com/csv_write/_started_4859565657023037198', name='_started_4859565657023037198', size=0, modificationTime=1734193758000),\n FileInfo(path='dbfs:/FileStore/shared_uploads/     mechinelearningai@gmail.com/csv_write/part-00000-tid-4859565657023037198-a31b5ab9-5a66-4d23-8714-9b3256ed68ae-3-1-c000.csv', name='part-00000-tid-4859565657023037198-a31b5ab9-5a66-4d23-8714-9b3256ed68ae-3-1-c000.csv', size=430, modificationTime=1734193758000)]"
     ]
    }
   ],
   "source": [
    "dbutils.fs.ls(\"dbfs:/FileStore/shared_uploads/     mechinelearningai@gmail.com/csv_write/\")"
   ]
  },
  {
   "cell_type": "code",
   "execution_count": 0,
   "metadata": {
    "application/vnd.databricks.v1+cell": {
     "cellMetadata": {
      "byteLimit": 2048000,
      "rowLimit": 10000
     },
     "inputWidgets": {},
     "nuid": "0091b5b2-5f37-4af9-80e4-4af295c64bce",
     "showTitle": false,
     "tableResultSettingsMap": {},
     "title": ""
    }
   },
   "outputs": [],
   "source": [
    "df1.repartition(3).write.format(\"csv\")\\\n",
    "          .option(\"header\",\"true\")\\\n",
    "          .option(\"mode\",\"overwrite\")\\\n",
    "          .option(\"path\",\"dbfs:/FileStore/shared_uploads/     mechinelearningai@gmail.com/csv_write_repaetition/\")\\\n",
    "            .save()"
   ]
  },
  {
   "cell_type": "code",
   "execution_count": 0,
   "metadata": {
    "application/vnd.databricks.v1+cell": {
     "cellMetadata": {
      "byteLimit": 2048000,
      "rowLimit": 10000
     },
     "inputWidgets": {},
     "nuid": "43322a00-ca5b-4529-adb6-72e879db45b9",
     "showTitle": false,
     "tableResultSettingsMap": {},
     "title": ""
    }
   },
   "outputs": [
    {
     "output_type": "stream",
     "name": "stdout",
     "output_type": "stream",
     "text": [
      "Out[8]: [FileInfo(path='dbfs:/FileStore/shared_uploads/     mechinelearningai@gmail.com/csv_write_repaetition/_SUCCESS', name='_SUCCESS', size=0, modificationTime=1734194014000),\n FileInfo(path='dbfs:/FileStore/shared_uploads/     mechinelearningai@gmail.com/csv_write_repaetition/_committed_6865247282531692029', name='_committed_6865247282531692029', size=285, modificationTime=1734194014000),\n FileInfo(path='dbfs:/FileStore/shared_uploads/     mechinelearningai@gmail.com/csv_write_repaetition/_started_6865247282531692029', name='_started_6865247282531692029', size=0, modificationTime=1734194013000),\n FileInfo(path='dbfs:/FileStore/shared_uploads/     mechinelearningai@gmail.com/csv_write_repaetition/part-00000-tid-6865247282531692029-51cf997e-3d0f-4b11-9317-7b7fbcfc1b77-5-1-c000.csv', name='part-00000-tid-6865247282531692029-51cf997e-3d0f-4b11-9317-7b7fbcfc1b77-5-1-c000.csv', size=165, modificationTime=1734194013000),\n FileInfo(path='dbfs:/FileStore/shared_uploads/     mechinelearningai@gmail.com/csv_write_repaetition/part-00001-tid-6865247282531692029-51cf997e-3d0f-4b11-9317-7b7fbcfc1b77-6-1-c000.csv', name='part-00001-tid-6865247282531692029-51cf997e-3d0f-4b11-9317-7b7fbcfc1b77-6-1-c000.csv', size=164, modificationTime=1734194014000),\n FileInfo(path='dbfs:/FileStore/shared_uploads/     mechinelearningai@gmail.com/csv_write_repaetition/part-00002-tid-6865247282531692029-51cf997e-3d0f-4b11-9317-7b7fbcfc1b77-7-1-c000.csv', name='part-00002-tid-6865247282531692029-51cf997e-3d0f-4b11-9317-7b7fbcfc1b77-7-1-c000.csv', size=169, modificationTime=1734194014000)]"
     ]
    }
   ],
   "source": [
    "dbutils.fs.ls(\"dbfs:/FileStore/shared_uploads/     mechinelearningai@gmail.com/csv_write_repaetition/\")"
   ]
  },
  {
   "cell_type": "markdown",
   "metadata": {
    "application/vnd.databricks.v1+cell": {
     "cellMetadata": {},
     "inputWidgets": {},
     "nuid": "272d99b4-9263-4337-8624-f5cb6d6b00c8",
     "showTitle": false,
     "tableResultSettingsMap": {},
     "title": ""
    }
   },
   "source": [
    "# How to write dataframe to disk in Scala"
   ]
  },
  {
   "cell_type": "code",
   "execution_count": 0,
   "metadata": {
    "application/vnd.databricks.v1+cell": {
     "cellMetadata": {},
     "inputWidgets": {},
     "nuid": "30667110-0a5f-42a3-9ec3-d32e1225948b",
     "showTitle": false,
     "tableResultSettingsMap": {},
     "title": ""
    }
   },
   "outputs": [],
   "source": []
  },
  {
   "cell_type": "code",
   "execution_count": 0,
   "metadata": {
    "application/vnd.databricks.v1+cell": {
     "cellMetadata": {},
     "inputWidgets": {},
     "nuid": "c8ca1f91-e076-4107-ad5d-86016cfe4504",
     "showTitle": false,
     "tableResultSettingsMap": {},
     "title": ""
    }
   },
   "outputs": [],
   "source": []
  },
  {
   "cell_type": "markdown",
   "metadata": {
    "application/vnd.databricks.v1+cell": {
     "cellMetadata": {},
     "inputWidgets": {},
     "nuid": "a3e6e491-2a02-469a-bff7-c32cf15a7f4e",
     "showTitle": false,
     "tableResultSettingsMap": {},
     "title": ""
    }
   },
   "source": [
    "#**Partitioning and bucketing in python**"
   ]
  },
  {
   "cell_type": "code",
   "execution_count": 0,
   "metadata": {
    "application/vnd.databricks.v1+cell": {
     "cellMetadata": {
      "byteLimit": 2048000,
      "rowLimit": 10000
     },
     "inputWidgets": {},
     "nuid": "c66190d1-5c21-4a10-b3b7-11c848d757f9",
     "showTitle": false,
     "tableResultSettingsMap": {},
     "title": ""
    }
   },
   "outputs": [
    {
     "output_type": "display_data",
     "data": {
      "text/plain": [
       "\u001B[0;31m---------------------------------------------------------------------------\u001B[0m\n",
       "\u001B[0;31mAnalysisException\u001B[0m                         Traceback (most recent call last)\n",
       "File \u001B[0;32m<command-2437921458481389>:1\u001B[0m\n",
       "\u001B[0;32m----> 1\u001B[0m \u001B[43mdf1\u001B[49m\u001B[38;5;241;43m.\u001B[39;49m\u001B[43mwrite\u001B[49m\u001B[38;5;241;43m.\u001B[39;49m\u001B[43mformat\u001B[49m\u001B[43m(\u001B[49m\u001B[38;5;124;43m\"\u001B[39;49m\u001B[38;5;124;43mcsv\u001B[39;49m\u001B[38;5;124;43m\"\u001B[39;49m\u001B[43m)\u001B[49m\u001B[43m\\\u001B[49m\n",
       "\u001B[1;32m      2\u001B[0m \u001B[43m          \u001B[49m\u001B[38;5;241;43m.\u001B[39;49m\u001B[43moption\u001B[49m\u001B[43m(\u001B[49m\u001B[38;5;124;43m\"\u001B[39;49m\u001B[38;5;124;43mheader\u001B[39;49m\u001B[38;5;124;43m\"\u001B[39;49m\u001B[43m,\u001B[49m\u001B[38;5;124;43m\"\u001B[39;49m\u001B[38;5;124;43mtrue\u001B[39;49m\u001B[38;5;124;43m\"\u001B[39;49m\u001B[43m)\u001B[49m\u001B[43m\\\u001B[49m\n",
       "\u001B[1;32m      3\u001B[0m \u001B[43m          \u001B[49m\u001B[38;5;241;43m.\u001B[39;49m\u001B[43moption\u001B[49m\u001B[43m(\u001B[49m\u001B[38;5;124;43m\"\u001B[39;49m\u001B[38;5;124;43mmode\u001B[39;49m\u001B[38;5;124;43m\"\u001B[39;49m\u001B[43m,\u001B[49m\u001B[38;5;124;43m\"\u001B[39;49m\u001B[38;5;124;43moverwrite\u001B[39;49m\u001B[38;5;124;43m\"\u001B[39;49m\u001B[43m)\u001B[49m\u001B[43m\\\u001B[49m\n",
       "\u001B[1;32m      4\u001B[0m \u001B[43m          \u001B[49m\u001B[38;5;241;43m.\u001B[39;49m\u001B[43moption\u001B[49m\u001B[43m(\u001B[49m\u001B[38;5;124;43m\"\u001B[39;49m\u001B[38;5;124;43mpath\u001B[39;49m\u001B[38;5;124;43m\"\u001B[39;49m\u001B[43m,\u001B[49m\u001B[38;5;124;43m\"\u001B[39;49m\u001B[38;5;124;43mdbfs:/FileStore/shared_uploads/     mechinelearningai@gmail.com/partition_by_address/\u001B[39;49m\u001B[38;5;124;43m\"\u001B[39;49m\u001B[43m)\u001B[49m\u001B[43m\\\u001B[49m\n",
       "\u001B[1;32m      5\u001B[0m \u001B[43m            \u001B[49m\u001B[38;5;241;43m.\u001B[39;49m\u001B[43mpartitionBy\u001B[49m\u001B[43m(\u001B[49m\u001B[38;5;124;43m\"\u001B[39;49m\u001B[38;5;124;43maddress\u001B[39;49m\u001B[38;5;124;43m\"\u001B[39;49m\u001B[43m)\u001B[49m\u001B[43m\\\u001B[49m\n",
       "\u001B[1;32m      6\u001B[0m \u001B[43m            \u001B[49m\u001B[38;5;241;43m.\u001B[39;49m\u001B[43msave\u001B[49m\u001B[43m(\u001B[49m\u001B[43m)\u001B[49m\n",
       "\n",
       "File \u001B[0;32m/databricks/spark/python/pyspark/instrumentation_utils.py:48\u001B[0m, in \u001B[0;36m_wrap_function.<locals>.wrapper\u001B[0;34m(*args, **kwargs)\u001B[0m\n",
       "\u001B[1;32m     46\u001B[0m start \u001B[38;5;241m=\u001B[39m time\u001B[38;5;241m.\u001B[39mperf_counter()\n",
       "\u001B[1;32m     47\u001B[0m \u001B[38;5;28;01mtry\u001B[39;00m:\n",
       "\u001B[0;32m---> 48\u001B[0m     res \u001B[38;5;241m=\u001B[39m \u001B[43mfunc\u001B[49m\u001B[43m(\u001B[49m\u001B[38;5;241;43m*\u001B[39;49m\u001B[43margs\u001B[49m\u001B[43m,\u001B[49m\u001B[43m \u001B[49m\u001B[38;5;241;43m*\u001B[39;49m\u001B[38;5;241;43m*\u001B[39;49m\u001B[43mkwargs\u001B[49m\u001B[43m)\u001B[49m\n",
       "\u001B[1;32m     49\u001B[0m     logger\u001B[38;5;241m.\u001B[39mlog_success(\n",
       "\u001B[1;32m     50\u001B[0m         module_name, class_name, function_name, time\u001B[38;5;241m.\u001B[39mperf_counter() \u001B[38;5;241m-\u001B[39m start, signature\n",
       "\u001B[1;32m     51\u001B[0m     )\n",
       "\u001B[1;32m     52\u001B[0m     \u001B[38;5;28;01mreturn\u001B[39;00m res\n",
       "\n",
       "File \u001B[0;32m/databricks/spark/python/pyspark/sql/readwriter.py:1395\u001B[0m, in \u001B[0;36mDataFrameWriter.save\u001B[0;34m(self, path, format, mode, partitionBy, **options)\u001B[0m\n",
       "\u001B[1;32m   1393\u001B[0m     \u001B[38;5;28mself\u001B[39m\u001B[38;5;241m.\u001B[39mformat(\u001B[38;5;28mformat\u001B[39m)\n",
       "\u001B[1;32m   1394\u001B[0m \u001B[38;5;28;01mif\u001B[39;00m path \u001B[38;5;129;01mis\u001B[39;00m \u001B[38;5;28;01mNone\u001B[39;00m:\n",
       "\u001B[0;32m-> 1395\u001B[0m     \u001B[38;5;28;43mself\u001B[39;49m\u001B[38;5;241;43m.\u001B[39;49m\u001B[43m_jwrite\u001B[49m\u001B[38;5;241;43m.\u001B[39;49m\u001B[43msave\u001B[49m\u001B[43m(\u001B[49m\u001B[43m)\u001B[49m\n",
       "\u001B[1;32m   1396\u001B[0m \u001B[38;5;28;01melse\u001B[39;00m:\n",
       "\u001B[1;32m   1397\u001B[0m     \u001B[38;5;28mself\u001B[39m\u001B[38;5;241m.\u001B[39m_jwrite\u001B[38;5;241m.\u001B[39msave(path)\n",
       "\n",
       "File \u001B[0;32m/databricks/spark/python/lib/py4j-0.10.9.5-src.zip/py4j/java_gateway.py:1321\u001B[0m, in \u001B[0;36mJavaMember.__call__\u001B[0;34m(self, *args)\u001B[0m\n",
       "\u001B[1;32m   1315\u001B[0m command \u001B[38;5;241m=\u001B[39m proto\u001B[38;5;241m.\u001B[39mCALL_COMMAND_NAME \u001B[38;5;241m+\u001B[39m\\\n",
       "\u001B[1;32m   1316\u001B[0m     \u001B[38;5;28mself\u001B[39m\u001B[38;5;241m.\u001B[39mcommand_header \u001B[38;5;241m+\u001B[39m\\\n",
       "\u001B[1;32m   1317\u001B[0m     args_command \u001B[38;5;241m+\u001B[39m\\\n",
       "\u001B[1;32m   1318\u001B[0m     proto\u001B[38;5;241m.\u001B[39mEND_COMMAND_PART\n",
       "\u001B[1;32m   1320\u001B[0m answer \u001B[38;5;241m=\u001B[39m \u001B[38;5;28mself\u001B[39m\u001B[38;5;241m.\u001B[39mgateway_client\u001B[38;5;241m.\u001B[39msend_command(command)\n",
       "\u001B[0;32m-> 1321\u001B[0m return_value \u001B[38;5;241m=\u001B[39m \u001B[43mget_return_value\u001B[49m\u001B[43m(\u001B[49m\n",
       "\u001B[1;32m   1322\u001B[0m \u001B[43m    \u001B[49m\u001B[43manswer\u001B[49m\u001B[43m,\u001B[49m\u001B[43m \u001B[49m\u001B[38;5;28;43mself\u001B[39;49m\u001B[38;5;241;43m.\u001B[39;49m\u001B[43mgateway_client\u001B[49m\u001B[43m,\u001B[49m\u001B[43m \u001B[49m\u001B[38;5;28;43mself\u001B[39;49m\u001B[38;5;241;43m.\u001B[39;49m\u001B[43mtarget_id\u001B[49m\u001B[43m,\u001B[49m\u001B[43m \u001B[49m\u001B[38;5;28;43mself\u001B[39;49m\u001B[38;5;241;43m.\u001B[39;49m\u001B[43mname\u001B[49m\u001B[43m)\u001B[49m\n",
       "\u001B[1;32m   1324\u001B[0m \u001B[38;5;28;01mfor\u001B[39;00m temp_arg \u001B[38;5;129;01min\u001B[39;00m temp_args:\n",
       "\u001B[1;32m   1325\u001B[0m     temp_arg\u001B[38;5;241m.\u001B[39m_detach()\n",
       "\n",
       "File \u001B[0;32m/databricks/spark/python/pyspark/errors/exceptions.py:234\u001B[0m, in \u001B[0;36mcapture_sql_exception.<locals>.deco\u001B[0;34m(*a, **kw)\u001B[0m\n",
       "\u001B[1;32m    230\u001B[0m converted \u001B[38;5;241m=\u001B[39m convert_exception(e\u001B[38;5;241m.\u001B[39mjava_exception)\n",
       "\u001B[1;32m    231\u001B[0m \u001B[38;5;28;01mif\u001B[39;00m \u001B[38;5;129;01mnot\u001B[39;00m \u001B[38;5;28misinstance\u001B[39m(converted, UnknownException):\n",
       "\u001B[1;32m    232\u001B[0m     \u001B[38;5;66;03m# Hide where the exception came from that shows a non-Pythonic\u001B[39;00m\n",
       "\u001B[1;32m    233\u001B[0m     \u001B[38;5;66;03m# JVM exception message.\u001B[39;00m\n",
       "\u001B[0;32m--> 234\u001B[0m     \u001B[38;5;28;01mraise\u001B[39;00m converted \u001B[38;5;28;01mfrom\u001B[39;00m \u001B[38;5;28mNone\u001B[39m\n",
       "\u001B[1;32m    235\u001B[0m \u001B[38;5;28;01melse\u001B[39;00m:\n",
       "\u001B[1;32m    236\u001B[0m     \u001B[38;5;28;01mraise\u001B[39;00m\n",
       "\n",
       "\u001B[0;31mAnalysisException\u001B[0m: Partition column `address` not found in schema struct<id:string, name:string,     age:string,  salary:string,   address:string,    gender:string>."
      ]
     },
     "metadata": {
      "application/vnd.databricks.v1+output": {
       "arguments": {},
       "data": "\u001B[0;31m---------------------------------------------------------------------------\u001B[0m\n\u001B[0;31mAnalysisException\u001B[0m                         Traceback (most recent call last)\nFile \u001B[0;32m<command-2437921458481389>:1\u001B[0m\n\u001B[0;32m----> 1\u001B[0m \u001B[43mdf1\u001B[49m\u001B[38;5;241;43m.\u001B[39;49m\u001B[43mwrite\u001B[49m\u001B[38;5;241;43m.\u001B[39;49m\u001B[43mformat\u001B[49m\u001B[43m(\u001B[49m\u001B[38;5;124;43m\"\u001B[39;49m\u001B[38;5;124;43mcsv\u001B[39;49m\u001B[38;5;124;43m\"\u001B[39;49m\u001B[43m)\u001B[49m\u001B[43m\\\u001B[49m\n\u001B[1;32m      2\u001B[0m \u001B[43m          \u001B[49m\u001B[38;5;241;43m.\u001B[39;49m\u001B[43moption\u001B[49m\u001B[43m(\u001B[49m\u001B[38;5;124;43m\"\u001B[39;49m\u001B[38;5;124;43mheader\u001B[39;49m\u001B[38;5;124;43m\"\u001B[39;49m\u001B[43m,\u001B[49m\u001B[38;5;124;43m\"\u001B[39;49m\u001B[38;5;124;43mtrue\u001B[39;49m\u001B[38;5;124;43m\"\u001B[39;49m\u001B[43m)\u001B[49m\u001B[43m\\\u001B[49m\n\u001B[1;32m      3\u001B[0m \u001B[43m          \u001B[49m\u001B[38;5;241;43m.\u001B[39;49m\u001B[43moption\u001B[49m\u001B[43m(\u001B[49m\u001B[38;5;124;43m\"\u001B[39;49m\u001B[38;5;124;43mmode\u001B[39;49m\u001B[38;5;124;43m\"\u001B[39;49m\u001B[43m,\u001B[49m\u001B[38;5;124;43m\"\u001B[39;49m\u001B[38;5;124;43moverwrite\u001B[39;49m\u001B[38;5;124;43m\"\u001B[39;49m\u001B[43m)\u001B[49m\u001B[43m\\\u001B[49m\n\u001B[1;32m      4\u001B[0m \u001B[43m          \u001B[49m\u001B[38;5;241;43m.\u001B[39;49m\u001B[43moption\u001B[49m\u001B[43m(\u001B[49m\u001B[38;5;124;43m\"\u001B[39;49m\u001B[38;5;124;43mpath\u001B[39;49m\u001B[38;5;124;43m\"\u001B[39;49m\u001B[43m,\u001B[49m\u001B[38;5;124;43m\"\u001B[39;49m\u001B[38;5;124;43mdbfs:/FileStore/shared_uploads/     mechinelearningai@gmail.com/partition_by_address/\u001B[39;49m\u001B[38;5;124;43m\"\u001B[39;49m\u001B[43m)\u001B[49m\u001B[43m\\\u001B[49m\n\u001B[1;32m      5\u001B[0m \u001B[43m            \u001B[49m\u001B[38;5;241;43m.\u001B[39;49m\u001B[43mpartitionBy\u001B[49m\u001B[43m(\u001B[49m\u001B[38;5;124;43m\"\u001B[39;49m\u001B[38;5;124;43maddress\u001B[39;49m\u001B[38;5;124;43m\"\u001B[39;49m\u001B[43m)\u001B[49m\u001B[43m\\\u001B[49m\n\u001B[1;32m      6\u001B[0m \u001B[43m            \u001B[49m\u001B[38;5;241;43m.\u001B[39;49m\u001B[43msave\u001B[49m\u001B[43m(\u001B[49m\u001B[43m)\u001B[49m\n\nFile \u001B[0;32m/databricks/spark/python/pyspark/instrumentation_utils.py:48\u001B[0m, in \u001B[0;36m_wrap_function.<locals>.wrapper\u001B[0;34m(*args, **kwargs)\u001B[0m\n\u001B[1;32m     46\u001B[0m start \u001B[38;5;241m=\u001B[39m time\u001B[38;5;241m.\u001B[39mperf_counter()\n\u001B[1;32m     47\u001B[0m \u001B[38;5;28;01mtry\u001B[39;00m:\n\u001B[0;32m---> 48\u001B[0m     res \u001B[38;5;241m=\u001B[39m \u001B[43mfunc\u001B[49m\u001B[43m(\u001B[49m\u001B[38;5;241;43m*\u001B[39;49m\u001B[43margs\u001B[49m\u001B[43m,\u001B[49m\u001B[43m \u001B[49m\u001B[38;5;241;43m*\u001B[39;49m\u001B[38;5;241;43m*\u001B[39;49m\u001B[43mkwargs\u001B[49m\u001B[43m)\u001B[49m\n\u001B[1;32m     49\u001B[0m     logger\u001B[38;5;241m.\u001B[39mlog_success(\n\u001B[1;32m     50\u001B[0m         module_name, class_name, function_name, time\u001B[38;5;241m.\u001B[39mperf_counter() \u001B[38;5;241m-\u001B[39m start, signature\n\u001B[1;32m     51\u001B[0m     )\n\u001B[1;32m     52\u001B[0m     \u001B[38;5;28;01mreturn\u001B[39;00m res\n\nFile \u001B[0;32m/databricks/spark/python/pyspark/sql/readwriter.py:1395\u001B[0m, in \u001B[0;36mDataFrameWriter.save\u001B[0;34m(self, path, format, mode, partitionBy, **options)\u001B[0m\n\u001B[1;32m   1393\u001B[0m     \u001B[38;5;28mself\u001B[39m\u001B[38;5;241m.\u001B[39mformat(\u001B[38;5;28mformat\u001B[39m)\n\u001B[1;32m   1394\u001B[0m \u001B[38;5;28;01mif\u001B[39;00m path \u001B[38;5;129;01mis\u001B[39;00m \u001B[38;5;28;01mNone\u001B[39;00m:\n\u001B[0;32m-> 1395\u001B[0m     \u001B[38;5;28;43mself\u001B[39;49m\u001B[38;5;241;43m.\u001B[39;49m\u001B[43m_jwrite\u001B[49m\u001B[38;5;241;43m.\u001B[39;49m\u001B[43msave\u001B[49m\u001B[43m(\u001B[49m\u001B[43m)\u001B[49m\n\u001B[1;32m   1396\u001B[0m \u001B[38;5;28;01melse\u001B[39;00m:\n\u001B[1;32m   1397\u001B[0m     \u001B[38;5;28mself\u001B[39m\u001B[38;5;241m.\u001B[39m_jwrite\u001B[38;5;241m.\u001B[39msave(path)\n\nFile \u001B[0;32m/databricks/spark/python/lib/py4j-0.10.9.5-src.zip/py4j/java_gateway.py:1321\u001B[0m, in \u001B[0;36mJavaMember.__call__\u001B[0;34m(self, *args)\u001B[0m\n\u001B[1;32m   1315\u001B[0m command \u001B[38;5;241m=\u001B[39m proto\u001B[38;5;241m.\u001B[39mCALL_COMMAND_NAME \u001B[38;5;241m+\u001B[39m\\\n\u001B[1;32m   1316\u001B[0m     \u001B[38;5;28mself\u001B[39m\u001B[38;5;241m.\u001B[39mcommand_header \u001B[38;5;241m+\u001B[39m\\\n\u001B[1;32m   1317\u001B[0m     args_command \u001B[38;5;241m+\u001B[39m\\\n\u001B[1;32m   1318\u001B[0m     proto\u001B[38;5;241m.\u001B[39mEND_COMMAND_PART\n\u001B[1;32m   1320\u001B[0m answer \u001B[38;5;241m=\u001B[39m \u001B[38;5;28mself\u001B[39m\u001B[38;5;241m.\u001B[39mgateway_client\u001B[38;5;241m.\u001B[39msend_command(command)\n\u001B[0;32m-> 1321\u001B[0m return_value \u001B[38;5;241m=\u001B[39m \u001B[43mget_return_value\u001B[49m\u001B[43m(\u001B[49m\n\u001B[1;32m   1322\u001B[0m \u001B[43m    \u001B[49m\u001B[43manswer\u001B[49m\u001B[43m,\u001B[49m\u001B[43m \u001B[49m\u001B[38;5;28;43mself\u001B[39;49m\u001B[38;5;241;43m.\u001B[39;49m\u001B[43mgateway_client\u001B[49m\u001B[43m,\u001B[49m\u001B[43m \u001B[49m\u001B[38;5;28;43mself\u001B[39;49m\u001B[38;5;241;43m.\u001B[39;49m\u001B[43mtarget_id\u001B[49m\u001B[43m,\u001B[49m\u001B[43m \u001B[49m\u001B[38;5;28;43mself\u001B[39;49m\u001B[38;5;241;43m.\u001B[39;49m\u001B[43mname\u001B[49m\u001B[43m)\u001B[49m\n\u001B[1;32m   1324\u001B[0m \u001B[38;5;28;01mfor\u001B[39;00m temp_arg \u001B[38;5;129;01min\u001B[39;00m temp_args:\n\u001B[1;32m   1325\u001B[0m     temp_arg\u001B[38;5;241m.\u001B[39m_detach()\n\nFile \u001B[0;32m/databricks/spark/python/pyspark/errors/exceptions.py:234\u001B[0m, in \u001B[0;36mcapture_sql_exception.<locals>.deco\u001B[0;34m(*a, **kw)\u001B[0m\n\u001B[1;32m    230\u001B[0m converted \u001B[38;5;241m=\u001B[39m convert_exception(e\u001B[38;5;241m.\u001B[39mjava_exception)\n\u001B[1;32m    231\u001B[0m \u001B[38;5;28;01mif\u001B[39;00m \u001B[38;5;129;01mnot\u001B[39;00m \u001B[38;5;28misinstance\u001B[39m(converted, UnknownException):\n\u001B[1;32m    232\u001B[0m     \u001B[38;5;66;03m# Hide where the exception came from that shows a non-Pythonic\u001B[39;00m\n\u001B[1;32m    233\u001B[0m     \u001B[38;5;66;03m# JVM exception message.\u001B[39;00m\n\u001B[0;32m--> 234\u001B[0m     \u001B[38;5;28;01mraise\u001B[39;00m converted \u001B[38;5;28;01mfrom\u001B[39;00m \u001B[38;5;28mNone\u001B[39m\n\u001B[1;32m    235\u001B[0m \u001B[38;5;28;01melse\u001B[39;00m:\n\u001B[1;32m    236\u001B[0m     \u001B[38;5;28;01mraise\u001B[39;00m\n\n\u001B[0;31mAnalysisException\u001B[0m: Partition column `address` not found in schema struct<id:string, name:string,     age:string,  salary:string,   address:string,    gender:string>.",
       "errorSummary": "<span class='ansi-red-fg'>AnalysisException</span>: Partition column `address` not found in schema struct<id:string, name:string,     age:string,  salary:string,   address:string,    gender:string>.",
       "errorTraceType": "ansi",
       "metadata": {},
       "type": "ipynbError"
      }
     },
     "output_type": "display_data"
    }
   ],
   "source": [
    "df1.write.format(\"csv\")\\\n",
    "          .option(\"header\",\"true\")\\\n",
    "          .option(\"mode\",\"overwrite\")\\\n",
    "          .option(\"path\",\"dbfs:/FileStore/shared_uploads/     mechinelearningai@gmail.com/partition_by_address/\")\\\n",
    "            .partitionBy(\"address\")\\\n",
    "            .save()"
   ]
  },
  {
   "cell_type": "markdown",
   "metadata": {
    "application/vnd.databricks.v1+cell": {
     "cellMetadata": {},
     "inputWidgets": {},
     "nuid": "f2e9d6dc-22cb-4773-83d7-379783eac448",
     "showTitle": false,
     "tableResultSettingsMap": {},
     "title": ""
    }
   },
   "source": [
    "**df1 = spark.read.format(\"csv\").option(\"header\", \"true\").load(\"dbfs:/FileStore/shared_uploads/mechinelearningai@gmail.com/Lec_9.csv\")**"
   ]
  },
  {
   "cell_type": "code",
   "execution_count": 0,
   "metadata": {
    "application/vnd.databricks.v1+cell": {
     "cellMetadata": {
      "byteLimit": 2048000,
      "rowLimit": 10000
     },
     "inputWidgets": {},
     "nuid": "454a643d-5ae5-4750-bdab-c83db3ddb57a",
     "showTitle": false,
     "tableResultSettingsMap": {},
     "title": ""
    }
   },
   "outputs": [],
   "source": [
    "df = spark.read.format(\"csv\")\\\n",
    "                .option(\"header\",\"true\")\\\n",
    "                .option(\"mode\",\"overwrite\")\\\n",
    "                .load(\"dbfs:/FileStore/shared_uploads/mechinelearningai@gmail.com/Lec_9.csv\")"
   ]
  },
  {
   "cell_type": "code",
   "execution_count": 0,
   "metadata": {
    "application/vnd.databricks.v1+cell": {
     "cellMetadata": {
      "byteLimit": 2048000,
      "rowLimit": 10000
     },
     "inputWidgets": {},
     "nuid": "a9d50ab1-c07c-40cc-ab30-d974444247da",
     "showTitle": false,
     "tableResultSettingsMap": {},
     "title": ""
    }
   },
   "outputs": [
    {
     "output_type": "stream",
     "name": "stdout",
     "output_type": "stream",
     "text": [
      "DataFrame[id: string, name: string, age: string, salary: string, address: string, gender: string]\n+---+--------+---+------+-------+------+\n| id|    name|age|salary|address|gender|\n+---+--------+---+------+-------+------+\n|  1|  Manish| 26| 75000|  INDIA|     m|\n|  2|  Nikita| 23|100000|    USA|     f|\n|  3|  Pritam| 22|150000|  INDIA|     m|\n|  4|Prantosh| 17|200000|  JAPAN|     m|\n|  5|  Vikash| 31|300000|    USA|     m|\n|  6|   Rahul| 55|300000|  INDIA|     m|\n|  7|    Raju| 67|540000|    USA|     m|\n|  8| Praveen| 28| 70000|  JAPAN|     m|\n|  9|     Dev| 32|150000|  JAPAN|     m|\n| 10|  Sherin| 16| 25000| RUSSIA|     f|\n| 11|    Ragu| 12| 35000|  INDIA|     f|\n| 12|   Sweta| 43|200000|  INDIA|     f|\n| 13| Raushan| 48|650000|    USA|     m|\n| 14|  Mukesh| 36| 95000| RUSSIA|     m|\n| 15| Prakash| 52|750000|  INDIA|     m|\n+---+--------+---+------+-------+------+\n\n"
     ]
    }
   ],
   "source": [
    "print(df)  # Check if df is a valid DataFrame\n",
    "df.show()  # Display a few rows of the DataFrame\n"
   ]
  },
  {
   "cell_type": "code",
   "execution_count": 0,
   "metadata": {
    "application/vnd.databricks.v1+cell": {
     "cellMetadata": {
      "byteLimit": 2048000,
      "rowLimit": 10000
     },
     "inputWidgets": {},
     "nuid": "47a165d2-b77c-4ea1-9726-6ab04ebe4d4a",
     "showTitle": false,
     "tableResultSettingsMap": {},
     "title": ""
    }
   },
   "outputs": [],
   "source": [
    "df.write.format(\"csv\") \\\n",
    "    .option(\"header\", \"true\") \\\n",
    "    .option(\"mode\", \"overwrite\") \\\n",
    "    .option(\"path\", \"dbfs:/FileStore/shared_uploads/mechinelearningai@gmail.com/partition_by_address/\") \\\n",
    "    .partitionBy(\"address\") \\\n",
    "    .save()\n"
   ]
  },
  {
   "cell_type": "code",
   "execution_count": 0,
   "metadata": {
    "application/vnd.databricks.v1+cell": {
     "cellMetadata": {
      "byteLimit": 2048000,
      "rowLimit": 10000
     },
     "inputWidgets": {},
     "nuid": "6841313f-5ff0-4144-a977-c7d9df89abed",
     "showTitle": false,
     "tableResultSettingsMap": {},
     "title": ""
    }
   },
   "outputs": [
    {
     "output_type": "stream",
     "name": "stdout",
     "output_type": "stream",
     "text": [
      "Out[22]: [FileInfo(path='dbfs:/FileStore/shared_uploads/mechinelearningai@gmail.com/partition_by_address/_SUCCESS', name='_SUCCESS', size=0, modificationTime=1734194994000),\n FileInfo(path='dbfs:/FileStore/shared_uploads/mechinelearningai@gmail.com/partition_by_address/address=INDIA/', name='address=INDIA/', size=0, modificationTime=0),\n FileInfo(path='dbfs:/FileStore/shared_uploads/mechinelearningai@gmail.com/partition_by_address/address=JAPAN/', name='address=JAPAN/', size=0, modificationTime=0),\n FileInfo(path='dbfs:/FileStore/shared_uploads/mechinelearningai@gmail.com/partition_by_address/address=RUSSIA/', name='address=RUSSIA/', size=0, modificationTime=0),\n FileInfo(path='dbfs:/FileStore/shared_uploads/mechinelearningai@gmail.com/partition_by_address/address=USA/', name='address=USA/', size=0, modificationTime=0)]"
     ]
    }
   ],
   "source": [
    "dbutils.fs.ls(\"dbfs:/FileStore/shared_uploads/mechinelearningai@gmail.com/partition_by_address/\")"
   ]
  },
  {
   "cell_type": "code",
   "execution_count": 0,
   "metadata": {
    "application/vnd.databricks.v1+cell": {
     "cellMetadata": {
      "byteLimit": 2048000,
      "rowLimit": 10000
     },
     "inputWidgets": {},
     "nuid": "bb3a100d-517e-4317-8979-f81d7453cfa0",
     "showTitle": false,
     "tableResultSettingsMap": {},
     "title": ""
    }
   },
   "outputs": [
    {
     "output_type": "stream",
     "name": "stdout",
     "output_type": "stream",
     "text": [
      "+---+-------+---+------+------+\n| id|   name|age|salary|gender|\n+---+-------+---+------+------+\n|  1| Manish| 26| 75000|     m|\n|  3| Pritam| 22|150000|     m|\n|  6|  Rahul| 55|300000|     m|\n| 11|   Ragu| 12| 35000|     f|\n| 12|  Sweta| 43|200000|     f|\n| 15|Prakash| 52|750000|     m|\n+---+-------+---+------+------+\n\n"
     ]
    }
   ],
   "source": [
    "india_data = spark.read.format(\"csv\") \\\n",
    "    .option(\"header\", \"true\") \\\n",
    "    .load(\"dbfs:/FileStore/shared_uploads/mechinelearningai@gmail.com/partition_by_address/address=INDIA/\")\n",
    "\n",
    "india_data.show()\n"
   ]
  },
  {
   "cell_type": "code",
   "execution_count": 0,
   "metadata": {
    "application/vnd.databricks.v1+cell": {
     "cellMetadata": {
      "byteLimit": 2048000,
      "rowLimit": 10000
     },
     "inputWidgets": {},
     "nuid": "a9a4eb2a-9e17-4fdf-996f-caaebe018890",
     "showTitle": false,
     "tableResultSettingsMap": {},
     "title": ""
    }
   },
   "outputs": [],
   "source": [
    "df.write.format(\"csv\") \\\n",
    "    .option(\"header\", \"true\") \\\n",
    "    .option(\"mode\", \"overwrite\") \\\n",
    "    .option(\"path\", \"dbfs:/FileStore/shared_uploads/mechinelearningai@gmail.com/partition_by_id/\") \\\n",
    "    .partitionBy(\"id\") \\\n",
    "    .save()\n"
   ]
  },
  {
   "cell_type": "code",
   "execution_count": 0,
   "metadata": {
    "application/vnd.databricks.v1+cell": {
     "cellMetadata": {
      "byteLimit": 2048000,
      "rowLimit": 10000
     },
     "inputWidgets": {},
     "nuid": "131d5cf4-8777-40dd-bc13-11183636dfd6",
     "showTitle": false,
     "tableResultSettingsMap": {},
     "title": ""
    }
   },
   "outputs": [
    {
     "output_type": "stream",
     "name": "stdout",
     "output_type": "stream",
     "text": [
      "Out[25]: [FileInfo(path='dbfs:/FileStore/shared_uploads/mechinelearningai@gmail.com/partition_by_id/_SUCCESS', name='_SUCCESS', size=0, modificationTime=1734195597000),\n FileInfo(path='dbfs:/FileStore/shared_uploads/mechinelearningai@gmail.com/partition_by_id/id=1/', name='id=1/', size=0, modificationTime=0),\n FileInfo(path='dbfs:/FileStore/shared_uploads/mechinelearningai@gmail.com/partition_by_id/id=10/', name='id=10/', size=0, modificationTime=0),\n FileInfo(path='dbfs:/FileStore/shared_uploads/mechinelearningai@gmail.com/partition_by_id/id=11/', name='id=11/', size=0, modificationTime=0),\n FileInfo(path='dbfs:/FileStore/shared_uploads/mechinelearningai@gmail.com/partition_by_id/id=12/', name='id=12/', size=0, modificationTime=0),\n FileInfo(path='dbfs:/FileStore/shared_uploads/mechinelearningai@gmail.com/partition_by_id/id=13/', name='id=13/', size=0, modificationTime=0),\n FileInfo(path='dbfs:/FileStore/shared_uploads/mechinelearningai@gmail.com/partition_by_id/id=14/', name='id=14/', size=0, modificationTime=0),\n FileInfo(path='dbfs:/FileStore/shared_uploads/mechinelearningai@gmail.com/partition_by_id/id=15/', name='id=15/', size=0, modificationTime=0),\n FileInfo(path='dbfs:/FileStore/shared_uploads/mechinelearningai@gmail.com/partition_by_id/id=2/', name='id=2/', size=0, modificationTime=0),\n FileInfo(path='dbfs:/FileStore/shared_uploads/mechinelearningai@gmail.com/partition_by_id/id=3/', name='id=3/', size=0, modificationTime=0),\n FileInfo(path='dbfs:/FileStore/shared_uploads/mechinelearningai@gmail.com/partition_by_id/id=4/', name='id=4/', size=0, modificationTime=0),\n FileInfo(path='dbfs:/FileStore/shared_uploads/mechinelearningai@gmail.com/partition_by_id/id=5/', name='id=5/', size=0, modificationTime=0),\n FileInfo(path='dbfs:/FileStore/shared_uploads/mechinelearningai@gmail.com/partition_by_id/id=6/', name='id=6/', size=0, modificationTime=0),\n FileInfo(path='dbfs:/FileStore/shared_uploads/mechinelearningai@gmail.com/partition_by_id/id=7/', name='id=7/', size=0, modificationTime=0),\n FileInfo(path='dbfs:/FileStore/shared_uploads/mechinelearningai@gmail.com/partition_by_id/id=8/', name='id=8/', size=0, modificationTime=0),\n FileInfo(path='dbfs:/FileStore/shared_uploads/mechinelearningai@gmail.com/partition_by_id/id=9/', name='id=9/', size=0, modificationTime=0)]"
     ]
    }
   ],
   "source": [
    "dbutils.fs.ls(\"dbfs:/FileStore/shared_uploads/mechinelearningai@gmail.com/partition_by_id/\")"
   ]
  },
  {
   "cell_type": "code",
   "execution_count": 0,
   "metadata": {
    "application/vnd.databricks.v1+cell": {
     "cellMetadata": {
      "byteLimit": 2048000,
      "rowLimit": 10000
     },
     "inputWidgets": {},
     "nuid": "4ad4a425-3606-4e96-b19c-7d66823d47e7",
     "showTitle": false,
     "tableResultSettingsMap": {},
     "title": ""
    }
   },
   "outputs": [],
   "source": [
    "df.write.format(\"csv\") \\\n",
    "    .option(\"header\", \"true\") \\\n",
    "    .option(\"mode\", \"overwrite\") \\\n",
    "    .option(\"path\", \"dbfs:/FileStore/shared_uploads/mechinelearningai@gmail.com/partition_by_address_gender/\") \\\n",
    "    .partitionBy(\"address\",\"gender\") \\\n",
    "    .save()"
   ]
  },
  {
   "cell_type": "code",
   "execution_count": 0,
   "metadata": {
    "application/vnd.databricks.v1+cell": {
     "cellMetadata": {
      "byteLimit": 2048000,
      "rowLimit": 10000
     },
     "inputWidgets": {},
     "nuid": "400b484a-b51d-42f2-b74e-1a85648375dc",
     "showTitle": false,
     "tableResultSettingsMap": {},
     "title": ""
    }
   },
   "outputs": [
    {
     "output_type": "stream",
     "name": "stdout",
     "output_type": "stream",
     "text": [
      "Out[27]: [FileInfo(path='dbfs:/FileStore/shared_uploads/mechinelearningai@gmail.com/partition_by_address_gender/_SUCCESS', name='_SUCCESS', size=0, modificationTime=1734196862000),\n FileInfo(path='dbfs:/FileStore/shared_uploads/mechinelearningai@gmail.com/partition_by_address_gender/address=INDIA/', name='address=INDIA/', size=0, modificationTime=0),\n FileInfo(path='dbfs:/FileStore/shared_uploads/mechinelearningai@gmail.com/partition_by_address_gender/address=JAPAN/', name='address=JAPAN/', size=0, modificationTime=0),\n FileInfo(path='dbfs:/FileStore/shared_uploads/mechinelearningai@gmail.com/partition_by_address_gender/address=RUSSIA/', name='address=RUSSIA/', size=0, modificationTime=0),\n FileInfo(path='dbfs:/FileStore/shared_uploads/mechinelearningai@gmail.com/partition_by_address_gender/address=USA/', name='address=USA/', size=0, modificationTime=0)]"
     ]
    }
   ],
   "source": [
    "dbutils.fs.ls(\"dbfs:/FileStore/shared_uploads/mechinelearningai@gmail.com/partition_by_address_gender/\")"
   ]
  },
  {
   "cell_type": "code",
   "execution_count": 0,
   "metadata": {
    "application/vnd.databricks.v1+cell": {
     "cellMetadata": {
      "byteLimit": 2048000,
      "rowLimit": 10000
     },
     "inputWidgets": {},
     "nuid": "7ac305f3-4b10-425c-875e-ecb36e590caf",
     "showTitle": false,
     "tableResultSettingsMap": {},
     "title": ""
    }
   },
   "outputs": [
    {
     "output_type": "stream",
     "name": "stdout",
     "output_type": "stream",
     "text": [
      "+---+-------+---+------+------+\n| id|   name|age|salary|gender|\n+---+-------+---+------+------+\n|  1| Manish| 26| 75000|     m|\n|  3| Pritam| 22|150000|     m|\n|  6|  Rahul| 55|300000|     m|\n| 11|   Ragu| 12| 35000|     f|\n| 12|  Sweta| 43|200000|     f|\n| 15|Prakash| 52|750000|     m|\n+---+-------+---+------+------+\n\n"
     ]
    }
   ],
   "source": [
    "india_data = spark.read.format(\"csv\") \\\n",
    "    .option(\"header\", \"true\") \\\n",
    "    .load(\"dbfs:/FileStore/shared_uploads/mechinelearningai@gmail.com/partition_by_address/address=INDIA/\")\n",
    "\n",
    "india_data.show()"
   ]
  },
  {
   "cell_type": "code",
   "execution_count": 0,
   "metadata": {
    "application/vnd.databricks.v1+cell": {
     "cellMetadata": {
      "byteLimit": 2048000,
      "rowLimit": 10000
     },
     "inputWidgets": {},
     "nuid": "2d8a3f82-5409-40f2-9b8a-6ff47fdde773",
     "showTitle": false,
     "tableResultSettingsMap": {},
     "title": ""
    }
   },
   "outputs": [],
   "source": [
    "df.write.format(\"csv\") \\\n",
    "    .option(\"header\", \"true\") \\\n",
    "    .option(\"mode\", \"overwrite\") \\\n",
    "    .option(\"path\", \"dbfs:/FileStore/shared_uploads/mechinelearningai@gmail.com/bucket_by_id/\") \\\n",
    "    .bucketBy(3,\"id\")\\\n",
    "    .saveAsTable(\"bucket_by_id_table\")"
   ]
  },
  {
   "cell_type": "code",
   "execution_count": 0,
   "metadata": {
    "application/vnd.databricks.v1+cell": {
     "cellMetadata": {
      "byteLimit": 2048000,
      "rowLimit": 10000
     },
     "inputWidgets": {},
     "nuid": "463f7cef-7f5f-414f-9021-225e26950fcf",
     "showTitle": false,
     "tableResultSettingsMap": {},
     "title": ""
    }
   },
   "outputs": [
    {
     "output_type": "stream",
     "name": "stdout",
     "output_type": "stream",
     "text": [
      "Out[34]: [FileInfo(path='dbfs:/FileStore/shared_uploads/mechinelearningai@gmail.com/bucket_by_id/_SUCCESS', name='_SUCCESS', size=0, modificationTime=1734197733000),\n FileInfo(path='dbfs:/FileStore/shared_uploads/mechinelearningai@gmail.com/bucket_by_id/_committed_1055241032637836853', name='_committed_1055241032637836853', size=306, modificationTime=1734197733000),\n FileInfo(path='dbfs:/FileStore/shared_uploads/mechinelearningai@gmail.com/bucket_by_id/_started_1055241032637836853', name='_started_1055241032637836853', size=0, modificationTime=1734197733000),\n FileInfo(path='dbfs:/FileStore/shared_uploads/mechinelearningai@gmail.com/bucket_by_id/part-00000-tid-1055241032637836853-081be8c0-42eb-494d-b9ad-29ec031d129a-36-1_00000.c000.csv', name='part-00000-tid-1055241032637836853-081be8c0-42eb-494d-b9ad-29ec031d129a-36-1_00000.c000.csv', size=239, modificationTime=1734197733000),\n FileInfo(path='dbfs:/FileStore/shared_uploads/mechinelearningai@gmail.com/bucket_by_id/part-00000-tid-1055241032637836853-081be8c0-42eb-494d-b9ad-29ec031d129a-36-2_00001.c000.csv', name='part-00000-tid-1055241032637836853-081be8c0-42eb-494d-b9ad-29ec031d129a-36-2_00001.c000.csv', size=172, modificationTime=1734197733000),\n FileInfo(path='dbfs:/FileStore/shared_uploads/mechinelearningai@gmail.com/bucket_by_id/part-00000-tid-1055241032637836853-081be8c0-42eb-494d-b9ad-29ec031d129a-36-3_00002.c000.csv', name='part-00000-tid-1055241032637836853-081be8c0-42eb-494d-b9ad-29ec031d129a-36-3_00002.c000.csv', size=87, modificationTime=1734197733000)]"
     ]
    }
   ],
   "source": [
    "dbutils.fs.ls(\"dbfs:/FileStore/shared_uploads/mechinelearningai@gmail.com/bucket_by_id/\")"
   ]
  },
  {
   "cell_type": "markdown",
   "metadata": {
    "application/vnd.databricks.v1+cell": {
     "cellMetadata": {},
     "inputWidgets": {},
     "nuid": "e7a24405-566c-46ee-9a42-5c127a95e9e9",
     "showTitle": false,
     "tableResultSettingsMap": {},
     "title": ""
    }
   },
   "source": [
    "#**how to create dataframe in python**"
   ]
  },
  {
   "cell_type": "code",
   "execution_count": 0,
   "metadata": {
    "application/vnd.databricks.v1+cell": {
     "cellMetadata": {
      "byteLimit": 2048000,
      "rowLimit": 10000
     },
     "inputWidgets": {},
     "nuid": "605a7975-6ceb-41e9-a7ab-8eb6cdaf1ea7",
     "showTitle": false,
     "tableResultSettingsMap": {},
     "title": ""
    }
   },
   "outputs": [],
   "source": [
    "my_data = [\n",
    "    (1 , 1),\n",
    "    (2 , 1),\n",
    "    (3 , 1),\n",
    "    (4 , 2),\n",
    "    (5 , 1),\n",
    "    (6 , 2),\n",
    "    (7 , 2)\n",
    "]"
   ]
  },
  {
   "cell_type": "code",
   "execution_count": 0,
   "metadata": {
    "application/vnd.databricks.v1+cell": {
     "cellMetadata": {
      "byteLimit": 2048000,
      "rowLimit": 10000
     },
     "inputWidgets": {},
     "nuid": "e74ca830-e539-4302-bcaf-48d12422b08d",
     "showTitle": false,
     "tableResultSettingsMap": {},
     "title": ""
    }
   },
   "outputs": [],
   "source": [
    "my_schema = ['id','num']"
   ]
  },
  {
   "cell_type": "code",
   "execution_count": 0,
   "metadata": {
    "application/vnd.databricks.v1+cell": {
     "cellMetadata": {
      "byteLimit": 2048000,
      "rowLimit": 10000
     },
     "inputWidgets": {},
     "nuid": "24f7fb3b-f400-4eed-8462-37e2e40facfd",
     "showTitle": false,
     "tableResultSettingsMap": {},
     "title": ""
    }
   },
   "outputs": [
    {
     "output_type": "stream",
     "name": "stdout",
     "output_type": "stream",
     "text": [
      "+---+---+\n| id|num|\n+---+---+\n|  1|  1|\n|  2|  1|\n|  3|  1|\n|  4|  2|\n|  5|  1|\n|  6|  2|\n|  7|  2|\n+---+---+\n\n"
     ]
    }
   ],
   "source": [
    "spark.createDataFrame(data=my_data,schema=my_schema).show()"
   ]
  },
  {
   "cell_type": "markdown",
   "metadata": {
    "application/vnd.databricks.v1+cell": {
     "cellMetadata": {},
     "inputWidgets": {},
     "nuid": "0780841e-05b5-4b46-aaea-787168c840d7",
     "showTitle": false,
     "tableResultSettingsMap": {},
     "title": ""
    }
   },
   "source": [
    "# how to create dataframe in scala"
   ]
  },
  {
   "cell_type": "code",
   "execution_count": 0,
   "metadata": {
    "application/vnd.databricks.v1+cell": {
     "cellMetadata": {
      "byteLimit": 2048000,
      "rowLimit": 10000
     },
     "inputWidgets": {},
     "nuid": "00033f96-4250-480b-b7b3-b24ff5b12bee",
     "showTitle": false,
     "tableResultSettingsMap": {},
     "title": ""
    }
   },
   "outputs": [
    {
     "output_type": "display_data",
     "data": {
      "text/html": [
       "<style scoped>\n",
       "  .ansiout {\n",
       "    display: block;\n",
       "    unicode-bidi: embed;\n",
       "    white-space: pre-wrap;\n",
       "    word-wrap: break-word;\n",
       "    word-break: break-all;\n",
       "    font-family: \"Menlo\", \"Monaco\", \"Consolas\", \"Ubuntu Mono\", \"Source Code Pro\", monospace;\n",
       "    font-size: 13px;\n",
       "    color: #555;\n",
       "    margin-left: 4px;\n",
       "    line-height: 19px;\n",
       "  }\n",
       "</style>\n",
       "<div class=\"ansiout\">import org.apache.spark.sql.Row\n",
       "import org.apache.spark.sql.types.{StructType, StructField, IntegerType}\n",
       "myData: ((Int, Int), (Int, Int), (Int, Int), (Int, Int), (Int, Int), (Int, Int), (Int, Int)) = ((1,1),(2,1),(3,1),(4,2),(5,1),(6,2),(7,2))\n",
       "</div>"
      ]
     },
     "metadata": {
      "application/vnd.databricks.v1+output": {
       "addedWidgets": {},
       "arguments": {},
       "data": "<div class=\"ansiout\">import org.apache.spark.sql.Row\nimport org.apache.spark.sql.types.{StructType, StructField, IntegerType}\nmyData: ((Int, Int), (Int, Int), (Int, Int), (Int, Int), (Int, Int), (Int, Int), (Int, Int)) = ((1,1),(2,1),(3,1),(4,2),(5,1),(6,2),(7,2))\n</div>",
       "datasetInfos": [],
       "metadata": {
        "isDbfsCommandResult": false
       },
       "removedWidgets": [],
       "type": "html"
      }
     },
     "output_type": "display_data"
    }
   ],
   "source": [
    "%scala\n",
    "import org.apache.spark.sql.Row\n",
    "import org.apache.spark.sql.types.{StructType, StructField, IntegerType}\n",
    "\n",
    "\n",
    "\n",
    "val myData = (\n",
    "  (1, 1),\n",
    "  (2, 1),\n",
    "  (3, 1),\n",
    "  (4, 2),\n",
    "  (5, 1),\n",
    "  (6, 2),\n",
    "  (7, 2)\n",
    ")\n"
   ]
  },
  {
   "cell_type": "code",
   "execution_count": 0,
   "metadata": {
    "application/vnd.databricks.v1+cell": {
     "cellMetadata": {
      "byteLimit": 2048000,
      "rowLimit": 10000
     },
     "inputWidgets": {},
     "nuid": "9cddf943-91bc-40f8-bc64-829654dbab7d",
     "showTitle": false,
     "tableResultSettingsMap": {},
     "title": ""
    }
   },
   "outputs": [
    {
     "output_type": "display_data",
     "data": {
      "text/html": [
       "<style scoped>\n",
       "  .ansiout {\n",
       "    display: block;\n",
       "    unicode-bidi: embed;\n",
       "    white-space: pre-wrap;\n",
       "    word-wrap: break-word;\n",
       "    word-break: break-all;\n",
       "    font-family: \"Menlo\", \"Monaco\", \"Consolas\", \"Ubuntu Mono\", \"Source Code Pro\", monospace;\n",
       "    font-size: 13px;\n",
       "    color: #555;\n",
       "    margin-left: 4px;\n",
       "    line-height: 19px;\n",
       "  }\n",
       "</style>\n",
       "<div class=\"ansiout\">schema: org.apache.spark.sql.types.StructType = StructType(StructField(id,IntegerType,true),StructField(num,IntegerType,true))\n",
       "</div>"
      ]
     },
     "metadata": {
      "application/vnd.databricks.v1+output": {
       "addedWidgets": {},
       "arguments": {},
       "data": "<div class=\"ansiout\">schema: org.apache.spark.sql.types.StructType = StructType(StructField(id,IntegerType,true),StructField(num,IntegerType,true))\n</div>",
       "datasetInfos": [],
       "metadata": {
        "isDbfsCommandResult": false
       },
       "removedWidgets": [],
       "type": "html"
      }
     },
     "output_type": "display_data"
    }
   ],
   "source": [
    "%scala\n",
    "val schema = StructType(Array(\n",
    "  StructField(\"id\", IntegerType, nullable = true),\n",
    "  StructField(\"num\", IntegerType, nullable = true)\n",
    "))"
   ]
  },
  {
   "cell_type": "code",
   "execution_count": 0,
   "metadata": {
    "application/vnd.databricks.v1+cell": {
     "cellMetadata": {
      "byteLimit": 2048000,
      "rowLimit": 10000
     },
     "inputWidgets": {},
     "nuid": "0e0a9555-5340-430d-b40a-0678fcc6d88c",
     "showTitle": false,
     "tableResultSettingsMap": {},
     "title": ""
    }
   },
   "outputs": [
    {
     "output_type": "display_data",
     "data": {
      "text/html": [
       "<style scoped>\n",
       "  .ansiout {\n",
       "    display: block;\n",
       "    unicode-bidi: embed;\n",
       "    white-space: pre-wrap;\n",
       "    word-wrap: break-word;\n",
       "    word-break: break-all;\n",
       "    font-family: \"Menlo\", \"Monaco\", \"Consolas\", \"Ubuntu Mono\", \"Source Code Pro\", monospace;\n",
       "    font-size: 13px;\n",
       "    color: #555;\n",
       "    margin-left: 4px;\n",
       "    line-height: 19px;\n",
       "  }\n",
       "</style>"
      ]
     },
     "metadata": {
      "application/vnd.databricks.v1+output": {
       "arguments": {},
       "data": "",
       "errorSummary": "<div class=\"ansiout\">command-405539165512282:1: error: type mismatch;\n found   : ((Int, Int), (Int, Int), (Int, Int), (Int, Int), (Int, Int), (Int, Int), (Int, Int))\n required: Seq[?]\nval df = spark.createDataFrame(spark.sparkContext.parallelize(myData), schema)\n                                                              ^\n</div>",
       "errorTraceType": "html",
       "metadata": {},
       "type": "ipynbError"
      }
     },
     "output_type": "display_data"
    }
   ],
   "source": [
    "%scala\n",
    "val df = spark.createDataFrame(spark.sparkContext.parallelize(myData), schema)\n",
    "df.show()"
   ]
  },
  {
   "cell_type": "code",
   "execution_count": 0,
   "metadata": {
    "application/vnd.databricks.v1+cell": {
     "cellMetadata": {
      "byteLimit": 2048000,
      "rowLimit": 10000
     },
     "inputWidgets": {},
     "nuid": "d3358ebd-40f6-478f-8e92-ec10bb80f1df",
     "showTitle": false,
     "tableResultSettingsMap": {},
     "title": ""
    }
   },
   "outputs": [
    {
     "output_type": "display_data",
     "data": {
      "text/html": [
       "<style scoped>\n",
       "  .ansiout {\n",
       "    display: block;\n",
       "    unicode-bidi: embed;\n",
       "    white-space: pre-wrap;\n",
       "    word-wrap: break-word;\n",
       "    word-break: break-all;\n",
       "    font-family: \"Menlo\", \"Monaco\", \"Consolas\", \"Ubuntu Mono\", \"Source Code Pro\", monospace;\n",
       "    font-size: 13px;\n",
       "    color: #555;\n",
       "    margin-left: 4px;\n",
       "    line-height: 19px;\n",
       "  }\n",
       "</style>\n",
       "<div class=\"ansiout\">+---+---+\n",
       " id|num|\n",
       "+---+---+\n",
       "  1|  1|\n",
       "  2|  1|\n",
       "  3|  1|\n",
       "  4|  2|\n",
       "  5|  1|\n",
       "  6|  2|\n",
       "  7|  2|\n",
       "+---+---+\n",
       "\n",
       "import org.apache.spark.sql.Row\n",
       "import org.apache.spark.sql.types.{StructType, StructField, IntegerType}\n",
       "schema: org.apache.spark.sql.types.StructType = StructType(StructField(id,IntegerType,true),StructField(num,IntegerType,true))\n",
       "myData: Seq[org.apache.spark.sql.Row] = List([1,1], [2,1], [3,1], [4,2], [5,1], [6,2], [7,2])\n",
       "df: org.apache.spark.sql.DataFrame = [id: int, num: int]\n",
       "</div>"
      ]
     },
     "metadata": {
      "application/vnd.databricks.v1+output": {
       "addedWidgets": {},
       "arguments": {},
       "data": "<div class=\"ansiout\">+---+---+\n| id|num|\n+---+---+\n|  1|  1|\n|  2|  1|\n|  3|  1|\n|  4|  2|\n|  5|  1|\n|  6|  2|\n|  7|  2|\n+---+---+\n\nimport org.apache.spark.sql.Row\nimport org.apache.spark.sql.types.{StructType, StructField, IntegerType}\nschema: org.apache.spark.sql.types.StructType = StructType(StructField(id,IntegerType,true),StructField(num,IntegerType,true))\nmyData: Seq[org.apache.spark.sql.Row] = List([1,1], [2,1], [3,1], [4,2], [5,1], [6,2], [7,2])\ndf: org.apache.spark.sql.DataFrame = [id: int, num: int]\n</div>",
       "datasetInfos": [
        {
         "name": "df",
         "schema": {
          "fields": [
           {
            "metadata": {},
            "name": "id",
            "nullable": true,
            "type": "integer"
           },
           {
            "metadata": {},
            "name": "num",
            "nullable": true,
            "type": "integer"
           }
          ],
          "type": "struct"
         },
         "tableIdentifier": null,
         "typeStr": "org.apache.spark.sql.DataFrame"
        }
       ],
       "metadata": {
        "isDbfsCommandResult": false
       },
       "removedWidgets": [],
       "type": "html"
      }
     },
     "output_type": "display_data"
    }
   ],
   "source": [
    "%scala\n",
    "import org.apache.spark.sql.Row\n",
    "import org.apache.spark.sql.types.{StructType, StructField, IntegerType}\n",
    "\n",
    "val schema = StructType(Array(\n",
    "  StructField(\"id\", IntegerType, nullable = true),\n",
    "  StructField(\"num\", IntegerType, nullable = true)\n",
    "))\n",
    "\n",
    "val myData = Seq(\n",
    "  Row(1, 1),\n",
    "  Row(2, 1),\n",
    "  Row(3, 1),\n",
    "  Row(4, 2),\n",
    "  Row(5, 1),\n",
    "  Row(6, 2),\n",
    "  Row(7, 2)\n",
    ")\n",
    "\n",
    "val df = spark.createDataFrame(spark.sparkContext.parallelize(myData), schema)\n",
    "df.show()\n"
   ]
  },
  {
   "cell_type": "markdown",
   "metadata": {
    "application/vnd.databricks.v1+cell": {
     "cellMetadata": {},
     "inputWidgets": {},
     "nuid": "2c248f8d-e5a6-4a07-a85d-95cc2bbf2062",
     "showTitle": false,
     "tableResultSettingsMap": {},
     "title": ""
    }
   },
   "source": [
    "#**dataframe transformations in python**"
   ]
  },
  {
   "cell_type": "code",
   "execution_count": 0,
   "metadata": {
    "application/vnd.databricks.v1+cell": {
     "cellMetadata": {
      "byteLimit": 2048000,
      "rowLimit": 10000
     },
     "inputWidgets": {},
     "nuid": "ca65c71a-1387-4463-94d0-9dd31e203699",
     "showTitle": false,
     "tableResultSettingsMap": {},
     "title": ""
    }
   },
   "outputs": [
    {
     "output_type": "stream",
     "name": "stdout",
     "output_type": "stream",
     "text": [
      "+---+--------+---+------+------------+--------+\n| id|    name|age|salary|     address| nominee|\n+---+--------+---+------+------------+--------+\n|  1|  Manish| 26| 75000|       bihar|nominee1|\n|  2|  Nikita| 23|100000|uttarpradesh|nominee2|\n|  3|  Pritam| 22|150000|   Bangalore|   India|\n|  4|Prantosh| 17|200000|     Kolkata|   India|\n|  5|  Vikash| 31|300000|        null|nominee5|\n+---+--------+---+------+------------+--------+\n\n"
     ]
    }
   ],
   "source": [
    " employee_df = spark.read.format(\"csv\")\\\n",
    "        .option(\"header\",\"true\")\\\n",
    "        .option(\"inferschema\",\"true\")\\\n",
    "        .option(\"mode\",\"PERMISSIVE\")\\\n",
    "        .load(\"dbfs:/FileStore/shared_uploads/mechinelearningai@gmail.com/employee.csv\")\n",
    "\n",
    "\n",
    "employee_df.show(5)"
   ]
  },
  {
   "cell_type": "code",
   "execution_count": 0,
   "metadata": {
    "application/vnd.databricks.v1+cell": {
     "cellMetadata": {
      "byteLimit": 2048000,
      "rowLimit": 10000
     },
     "inputWidgets": {},
     "nuid": "50a40784-39b8-493b-8b14-3840f3fc86e7",
     "showTitle": false,
     "tableResultSettingsMap": {},
     "title": ""
    }
   },
   "outputs": [
    {
     "output_type": "stream",
     "name": "stdout",
     "output_type": "stream",
     "text": [
      "Out[51]: StructType([StructField('id', IntegerType(), True), StructField('name', StringType(), True), StructField('age', IntegerType(), True), StructField('salary', IntegerType(), True), StructField('address', StringType(), True), StructField('nominee', StringType(), True)])"
     ]
    }
   ],
   "source": [
    "employee_df.schema"
   ]
  },
  {
   "cell_type": "code",
   "execution_count": 0,
   "metadata": {
    "application/vnd.databricks.v1+cell": {
     "cellMetadata": {
      "byteLimit": 2048000,
      "rowLimit": 10000
     },
     "inputWidgets": {},
     "nuid": "20edcf35-a48d-46a5-8a88-b55be5545d7f",
     "showTitle": false,
     "tableResultSettingsMap": {},
     "title": ""
    }
   },
   "outputs": [
    {
     "output_type": "stream",
     "name": "stdout",
     "output_type": "stream",
     "text": [
      "Out[52]: <bound method DataFrame.printSchema of DataFrame[id: int, name: string, age: int, salary: int, address: string, nominee: string]>"
     ]
    }
   ],
   "source": [
    "employee_df.printSchema"
   ]
  },
  {
   "cell_type": "code",
   "execution_count": 0,
   "metadata": {
    "application/vnd.databricks.v1+cell": {
     "cellMetadata": {
      "byteLimit": 2048000,
      "rowLimit": 10000
     },
     "inputWidgets": {},
     "nuid": "cbac7f4e-5cc1-4db5-8701-331afbb7515d",
     "showTitle": false,
     "tableResultSettingsMap": {},
     "title": ""
    }
   },
   "outputs": [
    {
     "output_type": "stream",
     "name": "stdout",
     "output_type": "stream",
     "text": [
      "Out[53]: ['id', 'name', 'age', 'salary', 'address', 'nominee']"
     ]
    }
   ],
   "source": [
    "employee_df.columns"
   ]
  },
  {
   "cell_type": "code",
   "execution_count": 0,
   "metadata": {
    "application/vnd.databricks.v1+cell": {
     "cellMetadata": {
      "byteLimit": 2048000,
      "rowLimit": 10000
     },
     "inputWidgets": {},
     "nuid": "1302a7e0-a7d7-4f32-af40-4ec357f68c02",
     "showTitle": false,
     "tableResultSettingsMap": {},
     "title": ""
    }
   },
   "outputs": [
    {
     "output_type": "stream",
     "name": "stdout",
     "output_type": "stream",
     "text": [
      "+------+\n|salary|\n+------+\n| 75000|\n|100000|\n|150000|\n|200000|\n|300000|\n+------+\n\n"
     ]
    }
   ],
   "source": [
    "# // Assuming employee_df is a DataFrame\n",
    "employee_df.select(\"salary\").show()"
   ]
  },
  {
   "cell_type": "code",
   "execution_count": 0,
   "metadata": {
    "application/vnd.databricks.v1+cell": {
     "cellMetadata": {
      "byteLimit": 2048000,
      "rowLimit": 10000
     },
     "inputWidgets": {},
     "nuid": "7f8a683c-1d38-4fd5-977a-c63c00740ff1",
     "showTitle": false,
     "tableResultSettingsMap": {},
     "title": ""
    }
   },
   "outputs": [
    {
     "output_type": "stream",
     "name": "stdout",
     "output_type": "stream",
     "text": [
      "Total Salary: 825000.0\n"
     ]
    }
   ],
   "source": [
    "from pyspark.sql import SparkSession\n",
    "from pyspark.sql.functions import sum, col\n",
    "\n",
    "# Create Spark session\n",
    "spark = SparkSession.builder.appName(\"Example\").getOrCreate()\n",
    "\n",
    "# Convert the \"salary\" column to a numeric type\n",
    "employee_df = employee_df.withColumn(\"salary\", col(\"salary\").cast(\"float\"))\n",
    "\n",
    "# Calculate the total salary\n",
    "total_salary = employee_df.select(sum(\"salary\")).collect()[0][0]\n",
    "\n",
    "print(f\"Total Salary: {total_salary}\")"
   ]
  },
  {
   "cell_type": "code",
   "execution_count": 0,
   "metadata": {
    "application/vnd.databricks.v1+cell": {
     "cellMetadata": {
      "byteLimit": 2048000,
      "rowLimit": 10000
     },
     "inputWidgets": {},
     "nuid": "864f6263-405d-4830-9d9c-cd45af1c2c06",
     "showTitle": false,
     "tableResultSettingsMap": {},
     "title": ""
    }
   },
   "outputs": [
    {
     "output_type": "stream",
     "name": "stdout",
     "output_type": "stream",
     "text": [
      "Total Salary: 825000.0\n"
     ]
    }
   ],
   "source": [
    "from pyspark.sql import SparkSession\n",
    "from pyspark.sql.functions import sum, col\n",
    "\n",
    "# Create Spark session\n",
    "spark = SparkSession.builder.appName(\"Example\").getOrCreate()\n",
    "\n",
    "# Convert the \"salary\" column to a numeric type\n",
    "employee_df = employee_df.withColumn(\"salary\", col(\"salary\").cast(\"float\"))\n",
    "\n",
    "# Calculate the total salary\n",
    "total_salary = employee_df.select(sum(\"salary\")).collect()[0][0]\n",
    "\n",
    "print(f\"Total Salary: {total_salary}\")"
   ]
  },
  {
   "cell_type": "code",
   "execution_count": 0,
   "metadata": {
    "application/vnd.databricks.v1+cell": {
     "cellMetadata": {
      "byteLimit": 2048000,
      "rowLimit": 10000
     },
     "inputWidgets": {},
     "nuid": "090302f2-ddc9-4cba-a4b6-2286a71c155c",
     "showTitle": false,
     "tableResultSettingsMap": {},
     "title": ""
    }
   },
   "outputs": [
    {
     "output_type": "stream",
     "name": "stdout",
     "output_type": "stream",
     "text": [
      "Maximum Salary: 300000.0\n"
     ]
    }
   ],
   "source": [
    "from pyspark.sql import SparkSession\n",
    "from pyspark.sql.functions import max, col\n",
    "\n",
    "# Create Spark session\n",
    "spark = SparkSession.builder.appName(\"Example\").getOrCreate()\n",
    "\n",
    "# Convert the \"salary\" column to a numeric type if needed\n",
    "employee_df = employee_df.withColumn(\"salary\", col(\"salary\").cast(\"float\"))\n",
    "\n",
    "# Calculate the maximum salary\n",
    "max_salary = employee_df.select(max(\"salary\")).collect()[0][0]\n",
    "\n",
    "print(f\"Maximum Salary: {max_salary}\")"
   ]
  },
  {
   "cell_type": "code",
   "execution_count": 0,
   "metadata": {
    "application/vnd.databricks.v1+cell": {
     "cellMetadata": {
      "byteLimit": 2048000,
      "rowLimit": 10000
     },
     "inputWidgets": {},
     "nuid": "7f4a00a8-8103-4f86-ad90-b280d756f59c",
     "showTitle": false,
     "tableResultSettingsMap": {},
     "title": ""
    }
   },
   "outputs": [
    {
     "output_type": "stream",
     "name": "stdout",
     "output_type": "stream",
     "text": [
      "Maximum Salary: 75000.0\n"
     ]
    }
   ],
   "source": [
    "from pyspark.sql import SparkSession\n",
    "from pyspark.sql.functions import min, col\n",
    "\n",
    "# Create Spark session\n",
    "spark = SparkSession.builder.appName(\"Example\").getOrCreate()\n",
    "\n",
    "# Convert the \"salary\" column to a numeric type if needed\n",
    "employee_df = employee_df.withColumn(\"salary\", col(\"salary\").cast(\"float\"))\n",
    "\n",
    "# Calculate the min salary\n",
    "max_salary = employee_df.select(min(\"salary\")).collect()[0][0]\n",
    "\n",
    "print(f\"Maximum Salary: {max_salary}\")"
   ]
  },
  {
   "cell_type": "code",
   "execution_count": 0,
   "metadata": {
    "application/vnd.databricks.v1+cell": {
     "cellMetadata": {
      "byteLimit": 2048000,
      "rowLimit": 10000
     },
     "inputWidgets": {},
     "nuid": "e1111cbb-1e4d-4f9e-ad5b-6e1d9f5761f7",
     "showTitle": false,
     "tableResultSettingsMap": {},
     "title": ""
    }
   },
   "outputs": [
    {
     "output_type": "stream",
     "name": "stdout",
     "output_type": "stream",
     "text": [
      "+---+--------+--------------------+\n|age|  salary|    age_salary_ratio|\n+---+--------+--------------------+\n| 26| 75000.0|0.034666666666666665|\n| 23|100000.0|               0.023|\n| 22|150000.0|0.014666666666666666|\n| 17|200000.0|              0.0085|\n| 31|300000.0|0.010333333333333333|\n+---+--------+--------------------+\n\n"
     ]
    }
   ],
   "source": [
    "from pyspark.sql import SparkSession\n",
    "from pyspark.sql.functions import col\n",
    "\n",
    "# Create Spark session\n",
    "spark = SparkSession.builder.appName(\"Example\").getOrCreate()\n",
    "\n",
    "# Assuming employee_df is already defined\n",
    "\n",
    "# Calculate (age / salary) * 100\n",
    "result_df = employee_df.withColumn(\"age_salary_ratio\", (col(\"age\") / col(\"salary\")) * 100)\n",
    "\n",
    "# Show the result\n",
    "result_df.select(\"age\", \"salary\", \"age_salary_ratio\").show()"
   ]
  },
  {
   "cell_type": "code",
   "execution_count": 0,
   "metadata": {
    "application/vnd.databricks.v1+cell": {
     "cellMetadata": {
      "byteLimit": 2048000,
      "rowLimit": 10000
     },
     "inputWidgets": {},
     "nuid": "186a6eca-e462-4788-afee-b428841e554e",
     "showTitle": false,
     "tableResultSettingsMap": {},
     "title": ""
    }
   },
   "outputs": [
    {
     "output_type": "stream",
     "name": "stdout",
     "output_type": "stream",
     "text": [
      "+---+------+------------------+\n|age|salary|        age_salary|\n+---+------+------------------+\n| 26| 75000|2884.6153846153848|\n| 23|100000| 4347.826086956522|\n| 22|150000| 6818.181818181818|\n| 17|200000| 11764.70588235294|\n| 31|300000|  9677.41935483871|\n+---+------+------------------+\n\n"
     ]
    }
   ],
   "source": [
    "from pyspark.sql import SparkSession\n",
    "from pyspark.sql.functions import col\n",
    "\n",
    "# Create Spark session\n",
    "spark = SparkSession.builder.appName(\"Example\").getOrCreate()\n",
    "\n",
    "# Assuming employee_df is already defined\n",
    "\n",
    "# Calculate (age / salary) \n",
    "result_df = employee_df.withColumn(\"age_salary\", (col(\"salary\") / col(\"age\")))\n",
    "\n",
    "# Show the result\n",
    "result_df.select(\"age\", \"salary\", \"age_salary\").show()"
   ]
  },
  {
   "cell_type": "code",
   "execution_count": 0,
   "metadata": {
    "application/vnd.databricks.v1+cell": {
     "cellMetadata": {
      "byteLimit": 2048000,
      "rowLimit": 10000
     },
     "inputWidgets": {},
     "nuid": "22c54c11-2c9a-43b5-b398-2ba3b2cbc60c",
     "showTitle": false,
     "tableResultSettingsMap": {},
     "title": ""
    }
   },
   "outputs": [
    {
     "output_type": "stream",
     "name": "stdout",
     "output_type": "stream",
     "text": [
      "+---+------+----------+\n|age|salary|age_salary|\n+---+------+----------+\n| 26| 75000|    2884.6|\n| 23|100000|    4347.8|\n| 22|150000|    6818.2|\n| 17|200000|   11764.7|\n| 31|300000|    9677.4|\n+---+------+----------+\n\n"
     ]
    }
   ],
   "source": [
    "from pyspark.sql import SparkSession\n",
    "from pyspark.sql.functions import col, round\n",
    "\n",
    "# Create Spark session\n",
    "spark = SparkSession.builder.appName(\"Example\").getOrCreate()\n",
    "\n",
    "# Assuming employee_df is already defined\n",
    "\n",
    "# Calculate (age / salary) \n",
    "result_df = employee_df.withColumn(\"age_salary\", round((col(\"salary\") / col(\"age\")),1))\n",
    "\n",
    "# Show the result\n",
    "result_df.select(\"age\", \"salary\", \"age_salary\").show()"
   ]
  },
  {
   "cell_type": "markdown",
   "metadata": {
    "application/vnd.databricks.v1+cell": {
     "cellMetadata": {},
     "inputWidgets": {},
     "nuid": "5df6e60f-af58-403d-98b4-71c8991ee47e",
     "showTitle": false,
     "tableResultSettingsMap": {},
     "title": ""
    }
   },
   "source": [
    "# This code convert with scala code"
   ]
  },
  {
   "cell_type": "code",
   "execution_count": 0,
   "metadata": {
    "application/vnd.databricks.v1+cell": {
     "cellMetadata": {
      "byteLimit": 2048000,
      "rowLimit": 10000
     },
     "inputWidgets": {},
     "nuid": "36b1d18e-41fe-4778-82ec-fbd0eafa4714",
     "showTitle": false,
     "tableResultSettingsMap": {},
     "title": ""
    }
   },
   "outputs": [
    {
     "output_type": "display_data",
     "data": {
      "text/html": [
       "<style scoped>\n",
       "  .ansiout {\n",
       "    display: block;\n",
       "    unicode-bidi: embed;\n",
       "    white-space: pre-wrap;\n",
       "    word-wrap: break-word;\n",
       "    word-break: break-all;\n",
       "    font-family: \"Menlo\", \"Monaco\", \"Consolas\", \"Ubuntu Mono\", \"Source Code Pro\", monospace;\n",
       "    font-size: 13px;\n",
       "    color: #555;\n",
       "    margin-left: 4px;\n",
       "    line-height: 19px;\n",
       "  }\n",
       "</style>\n",
       "<div class=\"ansiout\">+---+------+----------+\n",
       "age|salary|age_salary|\n",
       "+---+------+----------+\n",
       " 26| 75000|    2884.6|\n",
       " 23|100000|    4347.8|\n",
       " 22|150000|    6818.2|\n",
       " 17|200000|   11764.7|\n",
       " 31|300000|    9677.4|\n",
       "+---+------+----------+\n",
       "\n",
       "import org.apache.spark.sql.SparkSession\n",
       "import org.apache.spark.sql.functions.{col, round}\n",
       "spark: org.apache.spark.sql.SparkSession = org.apache.spark.sql.SparkSession@2d382cb4\n",
       "result_df: org.apache.spark.sql.DataFrame = [id: int, name: string ... 5 more fields]\n",
       "</div>"
      ]
     },
     "metadata": {
      "application/vnd.databricks.v1+output": {
       "addedWidgets": {},
       "arguments": {},
       "data": "<div class=\"ansiout\">+---+------+----------+\n|age|salary|age_salary|\n+---+------+----------+\n| 26| 75000|    2884.6|\n| 23|100000|    4347.8|\n| 22|150000|    6818.2|\n| 17|200000|   11764.7|\n| 31|300000|    9677.4|\n+---+------+----------+\n\nimport org.apache.spark.sql.SparkSession\nimport org.apache.spark.sql.functions.{col, round}\nspark: org.apache.spark.sql.SparkSession = org.apache.spark.sql.SparkSession@2d382cb4\nresult_df: org.apache.spark.sql.DataFrame = [id: int, name: string ... 5 more fields]\n</div>",
       "datasetInfos": [
        {
         "name": "result_df",
         "schema": {
          "fields": [
           {
            "metadata": {},
            "name": "id",
            "nullable": true,
            "type": "integer"
           },
           {
            "metadata": {},
            "name": "name",
            "nullable": true,
            "type": "string"
           },
           {
            "metadata": {},
            "name": "age",
            "nullable": true,
            "type": "integer"
           },
           {
            "metadata": {},
            "name": "salary",
            "nullable": true,
            "type": "integer"
           },
           {
            "metadata": {},
            "name": "address",
            "nullable": true,
            "type": "string"
           },
           {
            "metadata": {},
            "name": "nominee",
            "nullable": true,
            "type": "string"
           },
           {
            "metadata": {},
            "name": "age_salary",
            "nullable": true,
            "type": "double"
           }
          ],
          "type": "struct"
         },
         "tableIdentifier": null,
         "typeStr": "org.apache.spark.sql.DataFrame"
        }
       ],
       "metadata": {
        "isDbfsCommandResult": false
       },
       "removedWidgets": [],
       "type": "html"
      }
     },
     "output_type": "display_data"
    }
   ],
   "source": [
    "%scala\n",
    "import org.apache.spark.sql.SparkSession\n",
    "import org.apache.spark.sql.functions.{col, round}\n",
    "\n",
    "val spark = SparkSession.builder.appName(\"Example\").getOrCreate()\n",
    "\n",
    "// Assuming employee_df is already defined\n",
    "\n",
    "// Calculate (age / salary) \n",
    "val result_df = employee_df.withColumn(\"age_salary\", round(col(\"salary\") / col(\"age\"), 1))\n",
    "\n",
    "// Show the result\n",
    "result_df.select(\"age\", \"salary\", \"age_salary\").show()\n"
   ]
  },
  {
   "cell_type": "markdown",
   "metadata": {
    "application/vnd.databricks.v1+cell": {
     "cellMetadata": {},
     "inputWidgets": {},
     "nuid": "fa9543aa-f65a-4c14-8be2-685faa40591f",
     "showTitle": false,
     "tableResultSettingsMap": {},
     "title": ""
    }
   },
   "source": [
    "# Continue code"
   ]
  },
  {
   "cell_type": "code",
   "execution_count": 0,
   "metadata": {
    "application/vnd.databricks.v1+cell": {
     "cellMetadata": {
      "byteLimit": 2048000,
      "rowLimit": 10000
     },
     "inputWidgets": {},
     "nuid": "0117ea47-6d1d-4a52-82cd-87f17fda1b8f",
     "showTitle": false,
     "tableResultSettingsMap": {},
     "title": ""
    }
   },
   "outputs": [
    {
     "output_type": "stream",
     "name": "stdout",
     "output_type": "stream",
     "text": [
      "+---+--------+---+------+------------+--------+\n| id|    name|age|salary|     address| nominee|\n+---+--------+---+------+------------+--------+\n|  1|  Manish| 26| 75000|       bihar|nominee1|\n|  2|  Nikita| 23|100000|uttarpradesh|nominee2|\n|  3|  Pritam| 22|150000|   Bangalore|   India|\n|  4|Prantosh| 17|200000|     Kolkata|   India|\n|  5|  Vikash| 31|300000|        null|nominee5|\n+---+--------+---+------+------------+--------+\n\n"
     ]
    }
   ],
   "source": [
    " employee_df = spark.read.format(\"csv\")\\\n",
    "        .option(\"header\",\"true\")\\\n",
    "        .option(\"inferschema\",\"true\")\\\n",
    "        .option(\"mode\",\"PERMISSIVE\")\\\n",
    "        .load(\"dbfs:/FileStore/shared_uploads/mechinelearningai@gmail.com/employee.csv\")\n",
    "\n",
    "\n",
    "employee_df.show(5)"
   ]
  },
  {
   "cell_type": "code",
   "execution_count": 0,
   "metadata": {
    "application/vnd.databricks.v1+cell": {
     "cellMetadata": {
      "byteLimit": 2048000,
      "rowLimit": 10000
     },
     "inputWidgets": {},
     "nuid": "5793bca4-3ee9-40cd-b133-08660a90c06b",
     "showTitle": false,
     "tableResultSettingsMap": {},
     "title": ""
    }
   },
   "outputs": [
    {
     "output_type": "stream",
     "name": "stdout",
     "output_type": "stream",
     "text": [
      "root\n |-- id: integer (nullable = true)\n |-- name: string (nullable = true)\n |-- age: integer (nullable = true)\n |-- salary: integer (nullable = true)\n |-- address: string (nullable = true)\n |-- nominee: string (nullable = true)\n\n"
     ]
    }
   ],
   "source": [
    "employee_df.printSchema()"
   ]
  },
  {
   "cell_type": "code",
   "execution_count": 0,
   "metadata": {
    "application/vnd.databricks.v1+cell": {
     "cellMetadata": {
      "byteLimit": 2048000,
      "rowLimit": 10000
     },
     "inputWidgets": {},
     "nuid": "15a29ab9-5adf-40bf-a406-a1a7c4933e02",
     "showTitle": false,
     "tableResultSettingsMap": {},
     "title": ""
    }
   },
   "outputs": [
    {
     "output_type": "stream",
     "name": "stdout",
     "output_type": "stream",
     "text": [
      "+--------+\n|    name|\n+--------+\n|  Manish|\n|  Nikita|\n|  Pritam|\n|Prantosh|\n|  Vikash|\n+--------+\n\n"
     ]
    }
   ],
   "source": [
    "employee_df.select('name').show()"
   ]
  },
  {
   "cell_type": "code",
   "execution_count": 0,
   "metadata": {
    "application/vnd.databricks.v1+cell": {
     "cellMetadata": {
      "byteLimit": 2048000,
      "rowLimit": 10000
     },
     "inputWidgets": {},
     "nuid": "3ad2ff56-18bd-4c3d-ba16-16ed2c63cbfb",
     "showTitle": false,
     "tableResultSettingsMap": {},
     "title": ""
    }
   },
   "outputs": [
    {
     "output_type": "stream",
     "name": "stdout",
     "output_type": "stream",
     "text": [
      "+--------+\n|    name|\n+--------+\n|  Manish|\n|  Nikita|\n|  Pritam|\n|Prantosh|\n|  Vikash|\n+--------+\n\n"
     ]
    }
   ],
   "source": [
    "from pyspark.sql.functions import *\n",
    "from pyspark.sql.types import * \n",
    "employee_df.select(col('name')).show()"
   ]
  },
  {
   "cell_type": "code",
   "execution_count": 0,
   "metadata": {
    "application/vnd.databricks.v1+cell": {
     "cellMetadata": {
      "byteLimit": 2048000,
      "rowLimit": 10000
     },
     "inputWidgets": {},
     "nuid": "597405aa-63b7-49d6-8f22-6011adffe731",
     "showTitle": false,
     "tableResultSettingsMap": {},
     "title": ""
    }
   },
   "outputs": [
    {
     "output_type": "display_data",
     "data": {
      "text/plain": [
       "\u001B[0;31m---------------------------------------------------------------------------\u001B[0m\n",
       "\u001B[0;31mAnalysisException\u001B[0m                         Traceback (most recent call last)\n",
       "File \u001B[0;32m<command-687541412142204>:1\u001B[0m\n",
       "\u001B[0;32m----> 1\u001B[0m \u001B[43memployee_df\u001B[49m\u001B[38;5;241;43m.\u001B[39;49m\u001B[43mselect\u001B[49m\u001B[43m(\u001B[49m\u001B[38;5;124;43m'\u001B[39;49m\u001B[38;5;124;43mid + 5\u001B[39;49m\u001B[38;5;124;43m'\u001B[39;49m\u001B[43m)\u001B[49m\u001B[38;5;241m.\u001B[39mshow()\n",
       "\n",
       "File \u001B[0;32m/databricks/spark/python/pyspark/instrumentation_utils.py:48\u001B[0m, in \u001B[0;36m_wrap_function.<locals>.wrapper\u001B[0;34m(*args, **kwargs)\u001B[0m\n",
       "\u001B[1;32m     46\u001B[0m start \u001B[38;5;241m=\u001B[39m time\u001B[38;5;241m.\u001B[39mperf_counter()\n",
       "\u001B[1;32m     47\u001B[0m \u001B[38;5;28;01mtry\u001B[39;00m:\n",
       "\u001B[0;32m---> 48\u001B[0m     res \u001B[38;5;241m=\u001B[39m \u001B[43mfunc\u001B[49m\u001B[43m(\u001B[49m\u001B[38;5;241;43m*\u001B[39;49m\u001B[43margs\u001B[49m\u001B[43m,\u001B[49m\u001B[43m \u001B[49m\u001B[38;5;241;43m*\u001B[39;49m\u001B[38;5;241;43m*\u001B[39;49m\u001B[43mkwargs\u001B[49m\u001B[43m)\u001B[49m\n",
       "\u001B[1;32m     49\u001B[0m     logger\u001B[38;5;241m.\u001B[39mlog_success(\n",
       "\u001B[1;32m     50\u001B[0m         module_name, class_name, function_name, time\u001B[38;5;241m.\u001B[39mperf_counter() \u001B[38;5;241m-\u001B[39m start, signature\n",
       "\u001B[1;32m     51\u001B[0m     )\n",
       "\u001B[1;32m     52\u001B[0m     \u001B[38;5;28;01mreturn\u001B[39;00m res\n",
       "\n",
       "File \u001B[0;32m/databricks/spark/python/pyspark/sql/dataframe.py:3023\u001B[0m, in \u001B[0;36mDataFrame.select\u001B[0;34m(self, *cols)\u001B[0m\n",
       "\u001B[1;32m   2978\u001B[0m \u001B[38;5;28;01mdef\u001B[39;00m \u001B[38;5;21mselect\u001B[39m(\u001B[38;5;28mself\u001B[39m, \u001B[38;5;241m*\u001B[39mcols: \u001B[38;5;124m\"\u001B[39m\u001B[38;5;124mColumnOrName\u001B[39m\u001B[38;5;124m\"\u001B[39m) \u001B[38;5;241m-\u001B[39m\u001B[38;5;241m>\u001B[39m \u001B[38;5;124m\"\u001B[39m\u001B[38;5;124mDataFrame\u001B[39m\u001B[38;5;124m\"\u001B[39m:  \u001B[38;5;66;03m# type: ignore[misc]\u001B[39;00m\n",
       "\u001B[1;32m   2979\u001B[0m     \u001B[38;5;124;03m\"\"\"Projects a set of expressions and returns a new :class:`DataFrame`.\u001B[39;00m\n",
       "\u001B[1;32m   2980\u001B[0m \n",
       "\u001B[1;32m   2981\u001B[0m \u001B[38;5;124;03m    .. versionadded:: 1.3.0\u001B[39;00m\n",
       "\u001B[0;32m   (...)\u001B[0m\n",
       "\u001B[1;32m   3021\u001B[0m \u001B[38;5;124;03m    +-----+---+\u001B[39;00m\n",
       "\u001B[1;32m   3022\u001B[0m \u001B[38;5;124;03m    \"\"\"\u001B[39;00m\n",
       "\u001B[0;32m-> 3023\u001B[0m     jdf \u001B[38;5;241m=\u001B[39m \u001B[38;5;28;43mself\u001B[39;49m\u001B[38;5;241;43m.\u001B[39;49m\u001B[43m_jdf\u001B[49m\u001B[38;5;241;43m.\u001B[39;49m\u001B[43mselect\u001B[49m\u001B[43m(\u001B[49m\u001B[38;5;28;43mself\u001B[39;49m\u001B[38;5;241;43m.\u001B[39;49m\u001B[43m_jcols\u001B[49m\u001B[43m(\u001B[49m\u001B[38;5;241;43m*\u001B[39;49m\u001B[43mcols\u001B[49m\u001B[43m)\u001B[49m\u001B[43m)\u001B[49m\n",
       "\u001B[1;32m   3024\u001B[0m     \u001B[38;5;28;01mreturn\u001B[39;00m DataFrame(jdf, \u001B[38;5;28mself\u001B[39m\u001B[38;5;241m.\u001B[39msparkSession)\n",
       "\n",
       "File \u001B[0;32m/databricks/spark/python/lib/py4j-0.10.9.5-src.zip/py4j/java_gateway.py:1321\u001B[0m, in \u001B[0;36mJavaMember.__call__\u001B[0;34m(self, *args)\u001B[0m\n",
       "\u001B[1;32m   1315\u001B[0m command \u001B[38;5;241m=\u001B[39m proto\u001B[38;5;241m.\u001B[39mCALL_COMMAND_NAME \u001B[38;5;241m+\u001B[39m\\\n",
       "\u001B[1;32m   1316\u001B[0m     \u001B[38;5;28mself\u001B[39m\u001B[38;5;241m.\u001B[39mcommand_header \u001B[38;5;241m+\u001B[39m\\\n",
       "\u001B[1;32m   1317\u001B[0m     args_command \u001B[38;5;241m+\u001B[39m\\\n",
       "\u001B[1;32m   1318\u001B[0m     proto\u001B[38;5;241m.\u001B[39mEND_COMMAND_PART\n",
       "\u001B[1;32m   1320\u001B[0m answer \u001B[38;5;241m=\u001B[39m \u001B[38;5;28mself\u001B[39m\u001B[38;5;241m.\u001B[39mgateway_client\u001B[38;5;241m.\u001B[39msend_command(command)\n",
       "\u001B[0;32m-> 1321\u001B[0m return_value \u001B[38;5;241m=\u001B[39m \u001B[43mget_return_value\u001B[49m\u001B[43m(\u001B[49m\n",
       "\u001B[1;32m   1322\u001B[0m \u001B[43m    \u001B[49m\u001B[43manswer\u001B[49m\u001B[43m,\u001B[49m\u001B[43m \u001B[49m\u001B[38;5;28;43mself\u001B[39;49m\u001B[38;5;241;43m.\u001B[39;49m\u001B[43mgateway_client\u001B[49m\u001B[43m,\u001B[49m\u001B[43m \u001B[49m\u001B[38;5;28;43mself\u001B[39;49m\u001B[38;5;241;43m.\u001B[39;49m\u001B[43mtarget_id\u001B[49m\u001B[43m,\u001B[49m\u001B[43m \u001B[49m\u001B[38;5;28;43mself\u001B[39;49m\u001B[38;5;241;43m.\u001B[39;49m\u001B[43mname\u001B[49m\u001B[43m)\u001B[49m\n",
       "\u001B[1;32m   1324\u001B[0m \u001B[38;5;28;01mfor\u001B[39;00m temp_arg \u001B[38;5;129;01min\u001B[39;00m temp_args:\n",
       "\u001B[1;32m   1325\u001B[0m     temp_arg\u001B[38;5;241m.\u001B[39m_detach()\n",
       "\n",
       "File \u001B[0;32m/databricks/spark/python/pyspark/errors/exceptions.py:234\u001B[0m, in \u001B[0;36mcapture_sql_exception.<locals>.deco\u001B[0;34m(*a, **kw)\u001B[0m\n",
       "\u001B[1;32m    230\u001B[0m converted \u001B[38;5;241m=\u001B[39m convert_exception(e\u001B[38;5;241m.\u001B[39mjava_exception)\n",
       "\u001B[1;32m    231\u001B[0m \u001B[38;5;28;01mif\u001B[39;00m \u001B[38;5;129;01mnot\u001B[39;00m \u001B[38;5;28misinstance\u001B[39m(converted, UnknownException):\n",
       "\u001B[1;32m    232\u001B[0m     \u001B[38;5;66;03m# Hide where the exception came from that shows a non-Pythonic\u001B[39;00m\n",
       "\u001B[1;32m    233\u001B[0m     \u001B[38;5;66;03m# JVM exception message.\u001B[39;00m\n",
       "\u001B[0;32m--> 234\u001B[0m     \u001B[38;5;28;01mraise\u001B[39;00m converted \u001B[38;5;28;01mfrom\u001B[39;00m \u001B[38;5;28mNone\u001B[39m\n",
       "\u001B[1;32m    235\u001B[0m \u001B[38;5;28;01melse\u001B[39;00m:\n",
       "\u001B[1;32m    236\u001B[0m     \u001B[38;5;28;01mraise\u001B[39;00m\n",
       "\n",
       "\u001B[0;31mAnalysisException\u001B[0m: [UNRESOLVED_COLUMN.WITH_SUGGESTION] A column or function parameter with name `id + 5` cannot be resolved. Did you mean one of the following? [`id`, `address`, `age`, `name`, `nominee`].;\n",
       "'Project ['id + 5]\n",
       "+- Relation [id#232,name#233,age#234,salary#235,address#236,nominee#237] csv\n"
      ]
     },
     "metadata": {
      "application/vnd.databricks.v1+output": {
       "arguments": {},
       "data": "\u001B[0;31m---------------------------------------------------------------------------\u001B[0m\n\u001B[0;31mAnalysisException\u001B[0m                         Traceback (most recent call last)\nFile \u001B[0;32m<command-687541412142204>:1\u001B[0m\n\u001B[0;32m----> 1\u001B[0m \u001B[43memployee_df\u001B[49m\u001B[38;5;241;43m.\u001B[39;49m\u001B[43mselect\u001B[49m\u001B[43m(\u001B[49m\u001B[38;5;124;43m'\u001B[39;49m\u001B[38;5;124;43mid + 5\u001B[39;49m\u001B[38;5;124;43m'\u001B[39;49m\u001B[43m)\u001B[49m\u001B[38;5;241m.\u001B[39mshow()\n\nFile \u001B[0;32m/databricks/spark/python/pyspark/instrumentation_utils.py:48\u001B[0m, in \u001B[0;36m_wrap_function.<locals>.wrapper\u001B[0;34m(*args, **kwargs)\u001B[0m\n\u001B[1;32m     46\u001B[0m start \u001B[38;5;241m=\u001B[39m time\u001B[38;5;241m.\u001B[39mperf_counter()\n\u001B[1;32m     47\u001B[0m \u001B[38;5;28;01mtry\u001B[39;00m:\n\u001B[0;32m---> 48\u001B[0m     res \u001B[38;5;241m=\u001B[39m \u001B[43mfunc\u001B[49m\u001B[43m(\u001B[49m\u001B[38;5;241;43m*\u001B[39;49m\u001B[43margs\u001B[49m\u001B[43m,\u001B[49m\u001B[43m \u001B[49m\u001B[38;5;241;43m*\u001B[39;49m\u001B[38;5;241;43m*\u001B[39;49m\u001B[43mkwargs\u001B[49m\u001B[43m)\u001B[49m\n\u001B[1;32m     49\u001B[0m     logger\u001B[38;5;241m.\u001B[39mlog_success(\n\u001B[1;32m     50\u001B[0m         module_name, class_name, function_name, time\u001B[38;5;241m.\u001B[39mperf_counter() \u001B[38;5;241m-\u001B[39m start, signature\n\u001B[1;32m     51\u001B[0m     )\n\u001B[1;32m     52\u001B[0m     \u001B[38;5;28;01mreturn\u001B[39;00m res\n\nFile \u001B[0;32m/databricks/spark/python/pyspark/sql/dataframe.py:3023\u001B[0m, in \u001B[0;36mDataFrame.select\u001B[0;34m(self, *cols)\u001B[0m\n\u001B[1;32m   2978\u001B[0m \u001B[38;5;28;01mdef\u001B[39;00m \u001B[38;5;21mselect\u001B[39m(\u001B[38;5;28mself\u001B[39m, \u001B[38;5;241m*\u001B[39mcols: \u001B[38;5;124m\"\u001B[39m\u001B[38;5;124mColumnOrName\u001B[39m\u001B[38;5;124m\"\u001B[39m) \u001B[38;5;241m-\u001B[39m\u001B[38;5;241m>\u001B[39m \u001B[38;5;124m\"\u001B[39m\u001B[38;5;124mDataFrame\u001B[39m\u001B[38;5;124m\"\u001B[39m:  \u001B[38;5;66;03m# type: ignore[misc]\u001B[39;00m\n\u001B[1;32m   2979\u001B[0m     \u001B[38;5;124;03m\"\"\"Projects a set of expressions and returns a new :class:`DataFrame`.\u001B[39;00m\n\u001B[1;32m   2980\u001B[0m \n\u001B[1;32m   2981\u001B[0m \u001B[38;5;124;03m    .. versionadded:: 1.3.0\u001B[39;00m\n\u001B[0;32m   (...)\u001B[0m\n\u001B[1;32m   3021\u001B[0m \u001B[38;5;124;03m    +-----+---+\u001B[39;00m\n\u001B[1;32m   3022\u001B[0m \u001B[38;5;124;03m    \"\"\"\u001B[39;00m\n\u001B[0;32m-> 3023\u001B[0m     jdf \u001B[38;5;241m=\u001B[39m \u001B[38;5;28;43mself\u001B[39;49m\u001B[38;5;241;43m.\u001B[39;49m\u001B[43m_jdf\u001B[49m\u001B[38;5;241;43m.\u001B[39;49m\u001B[43mselect\u001B[49m\u001B[43m(\u001B[49m\u001B[38;5;28;43mself\u001B[39;49m\u001B[38;5;241;43m.\u001B[39;49m\u001B[43m_jcols\u001B[49m\u001B[43m(\u001B[49m\u001B[38;5;241;43m*\u001B[39;49m\u001B[43mcols\u001B[49m\u001B[43m)\u001B[49m\u001B[43m)\u001B[49m\n\u001B[1;32m   3024\u001B[0m     \u001B[38;5;28;01mreturn\u001B[39;00m DataFrame(jdf, \u001B[38;5;28mself\u001B[39m\u001B[38;5;241m.\u001B[39msparkSession)\n\nFile \u001B[0;32m/databricks/spark/python/lib/py4j-0.10.9.5-src.zip/py4j/java_gateway.py:1321\u001B[0m, in \u001B[0;36mJavaMember.__call__\u001B[0;34m(self, *args)\u001B[0m\n\u001B[1;32m   1315\u001B[0m command \u001B[38;5;241m=\u001B[39m proto\u001B[38;5;241m.\u001B[39mCALL_COMMAND_NAME \u001B[38;5;241m+\u001B[39m\\\n\u001B[1;32m   1316\u001B[0m     \u001B[38;5;28mself\u001B[39m\u001B[38;5;241m.\u001B[39mcommand_header \u001B[38;5;241m+\u001B[39m\\\n\u001B[1;32m   1317\u001B[0m     args_command \u001B[38;5;241m+\u001B[39m\\\n\u001B[1;32m   1318\u001B[0m     proto\u001B[38;5;241m.\u001B[39mEND_COMMAND_PART\n\u001B[1;32m   1320\u001B[0m answer \u001B[38;5;241m=\u001B[39m \u001B[38;5;28mself\u001B[39m\u001B[38;5;241m.\u001B[39mgateway_client\u001B[38;5;241m.\u001B[39msend_command(command)\n\u001B[0;32m-> 1321\u001B[0m return_value \u001B[38;5;241m=\u001B[39m \u001B[43mget_return_value\u001B[49m\u001B[43m(\u001B[49m\n\u001B[1;32m   1322\u001B[0m \u001B[43m    \u001B[49m\u001B[43manswer\u001B[49m\u001B[43m,\u001B[49m\u001B[43m \u001B[49m\u001B[38;5;28;43mself\u001B[39;49m\u001B[38;5;241;43m.\u001B[39;49m\u001B[43mgateway_client\u001B[49m\u001B[43m,\u001B[49m\u001B[43m \u001B[49m\u001B[38;5;28;43mself\u001B[39;49m\u001B[38;5;241;43m.\u001B[39;49m\u001B[43mtarget_id\u001B[49m\u001B[43m,\u001B[49m\u001B[43m \u001B[49m\u001B[38;5;28;43mself\u001B[39;49m\u001B[38;5;241;43m.\u001B[39;49m\u001B[43mname\u001B[49m\u001B[43m)\u001B[49m\n\u001B[1;32m   1324\u001B[0m \u001B[38;5;28;01mfor\u001B[39;00m temp_arg \u001B[38;5;129;01min\u001B[39;00m temp_args:\n\u001B[1;32m   1325\u001B[0m     temp_arg\u001B[38;5;241m.\u001B[39m_detach()\n\nFile \u001B[0;32m/databricks/spark/python/pyspark/errors/exceptions.py:234\u001B[0m, in \u001B[0;36mcapture_sql_exception.<locals>.deco\u001B[0;34m(*a, **kw)\u001B[0m\n\u001B[1;32m    230\u001B[0m converted \u001B[38;5;241m=\u001B[39m convert_exception(e\u001B[38;5;241m.\u001B[39mjava_exception)\n\u001B[1;32m    231\u001B[0m \u001B[38;5;28;01mif\u001B[39;00m \u001B[38;5;129;01mnot\u001B[39;00m \u001B[38;5;28misinstance\u001B[39m(converted, UnknownException):\n\u001B[1;32m    232\u001B[0m     \u001B[38;5;66;03m# Hide where the exception came from that shows a non-Pythonic\u001B[39;00m\n\u001B[1;32m    233\u001B[0m     \u001B[38;5;66;03m# JVM exception message.\u001B[39;00m\n\u001B[0;32m--> 234\u001B[0m     \u001B[38;5;28;01mraise\u001B[39;00m converted \u001B[38;5;28;01mfrom\u001B[39;00m \u001B[38;5;28mNone\u001B[39m\n\u001B[1;32m    235\u001B[0m \u001B[38;5;28;01melse\u001B[39;00m:\n\u001B[1;32m    236\u001B[0m     \u001B[38;5;28;01mraise\u001B[39;00m\n\n\u001B[0;31mAnalysisException\u001B[0m: [UNRESOLVED_COLUMN.WITH_SUGGESTION] A column or function parameter with name `id + 5` cannot be resolved. Did you mean one of the following? [`id`, `address`, `age`, `name`, `nominee`].;\n'Project ['id + 5]\n+- Relation [id#232,name#233,age#234,salary#235,address#236,nominee#237] csv\n",
       "errorSummary": "<span class='ansi-red-fg'>AnalysisException</span>: [UNRESOLVED_COLUMN.WITH_SUGGESTION] A column or function parameter with name `id + 5` cannot be resolved. Did you mean one of the following? [`id`, `address`, `age`, `name`, `nominee`].;\n'Project ['id + 5]\n+- Relation [id#232,name#233,age#234,salary#235,address#236,nominee#237] csv\n",
       "errorTraceType": "ansi",
       "metadata": {},
       "type": "ipynbError"
      }
     },
     "output_type": "display_data"
    }
   ],
   "source": [
    "employee_df.select('id + 5').show()"
   ]
  },
  {
   "cell_type": "code",
   "execution_count": 0,
   "metadata": {
    "application/vnd.databricks.v1+cell": {
     "cellMetadata": {
      "byteLimit": 2048000,
      "rowLimit": 10000
     },
     "inputWidgets": {},
     "nuid": "f805a07e-8786-4483-a0f7-ccdf4d0ff9ef",
     "showTitle": false,
     "tableResultSettingsMap": {},
     "title": ""
    }
   },
   "outputs": [
    {
     "output_type": "stream",
     "name": "stdout",
     "output_type": "stream",
     "text": [
      "+--------+\n|(id + 5)|\n+--------+\n|       6|\n|       7|\n|       8|\n|       9|\n|      10|\n+--------+\n\n"
     ]
    }
   ],
   "source": [
    "employee_df.select(col('id') + 5).show()"
   ]
  },
  {
   "cell_type": "code",
   "execution_count": 0,
   "metadata": {
    "application/vnd.databricks.v1+cell": {
     "cellMetadata": {
      "byteLimit": 2048000,
      "rowLimit": 10000
     },
     "inputWidgets": {},
     "nuid": "1fd5ca12-9dac-443b-b49b-cb2efa3afe7f",
     "showTitle": false,
     "tableResultSettingsMap": {},
     "title": ""
    }
   },
   "outputs": [
    {
     "output_type": "stream",
     "name": "stdout",
     "output_type": "stream",
     "text": [
      "+---+--------+---+\n| id|    name|age|\n+---+--------+---+\n|  1|  Manish| 26|\n|  2|  Nikita| 23|\n|  3|  Pritam| 22|\n|  4|Prantosh| 17|\n|  5|  Vikash| 31|\n+---+--------+---+\n\n"
     ]
    }
   ],
   "source": [
    "employee_df.select(\"id\",\"name\",\"age\").show()"
   ]
  },
  {
   "cell_type": "code",
   "execution_count": 0,
   "metadata": {
    "application/vnd.databricks.v1+cell": {
     "cellMetadata": {
      "byteLimit": 2048000,
      "rowLimit": 10000
     },
     "inputWidgets": {},
     "nuid": "bce06d01-0bd9-41d2-a9a9-868d4ac4de99",
     "showTitle": false,
     "tableResultSettingsMap": {},
     "title": ""
    }
   },
   "outputs": [
    {
     "output_type": "stream",
     "name": "stdout",
     "output_type": "stream",
     "text": [
      "+---+--------+------+------------+\n| id|    name|salary|     address|\n+---+--------+------+------------+\n|  1|  Manish| 75000|       bihar|\n|  2|  Nikita|100000|uttarpradesh|\n|  3|  Pritam|150000|   Bangalore|\n|  4|Prantosh|200000|     Kolkata|\n|  5|  Vikash|300000|        null|\n+---+--------+------+------------+\n\n"
     ]
    }
   ],
   "source": [
    "employee_df.select(\"id\",col(\"name\"),employee_df[\"salary\"],employee_df.address).show()"
   ]
  },
  {
   "cell_type": "markdown",
   "metadata": {
    "application/vnd.databricks.v1+cell": {
     "cellMetadata": {},
     "inputWidgets": {},
     "nuid": "a5196332-72bc-4bd5-87d5-e0442a7799ec",
     "showTitle": false,
     "tableResultSettingsMap": {},
     "title": ""
    }
   },
   "source": [
    "expression"
   ]
  },
  {
   "cell_type": "code",
   "execution_count": 0,
   "metadata": {
    "application/vnd.databricks.v1+cell": {
     "cellMetadata": {
      "byteLimit": 2048000,
      "rowLimit": 10000
     },
     "inputWidgets": {},
     "nuid": "91410552-6db8-42ea-ad73-ac20228f13fb",
     "showTitle": false,
     "tableResultSettingsMap": {},
     "title": ""
    }
   },
   "outputs": [
    {
     "output_type": "stream",
     "name": "stdout",
     "output_type": "stream",
     "text": [
      "+--------+\n|(id + 5)|\n+--------+\n|       6|\n|       7|\n|       8|\n|       9|\n|      10|\n+--------+\n\n"
     ]
    }
   ],
   "source": [
    "employee_df.select(expr('id + 5')).show()"
   ]
  },
  {
   "cell_type": "code",
   "execution_count": 0,
   "metadata": {
    "application/vnd.databricks.v1+cell": {
     "cellMetadata": {
      "byteLimit": 2048000,
      "rowLimit": 10000
     },
     "inputWidgets": {},
     "nuid": "39ff78c2-d09e-47c4-baca-659e258baefa",
     "showTitle": false,
     "tableResultSettingsMap": {},
     "title": ""
    }
   },
   "outputs": [
    {
     "output_type": "stream",
     "name": "stdout",
     "output_type": "stream",
     "text": [
      "+---------+\n|id_plus_5|\n+---------+\n|        6|\n|        7|\n|        8|\n|        9|\n|       10|\n+---------+\n\n"
     ]
    }
   ],
   "source": [
    "employee_df.select(expr('id + 5').alias('id_plus_5')).show()"
   ]
  },
  {
   "cell_type": "code",
   "execution_count": 0,
   "metadata": {
    "application/vnd.databricks.v1+cell": {
     "cellMetadata": {
      "byteLimit": 2048000,
      "rowLimit": 10000
     },
     "inputWidgets": {},
     "nuid": "0fd39be7-d298-4681-a0f0-68cad2336e78",
     "showTitle": false,
     "tableResultSettingsMap": {},
     "title": ""
    }
   },
   "outputs": [
    {
     "output_type": "stream",
     "name": "stdout",
     "output_type": "stream",
     "text": [
      "+-----------+-------------+------------------+\n|employee_id|employee_name|         full_info|\n+-----------+-------------+------------------+\n|          1|       Manish|       Manishbihar|\n|          2|       Nikita|Nikitauttarpradesh|\n|          3|       Pritam|   PritamBangalore|\n|          4|     Prantosh|   PrantoshKolkata|\n|          5|       Vikash|              null|\n+-----------+-------------+------------------+\n\n"
     ]
    }
   ],
   "source": [
    "employee_df.select(expr(\"id as employee_id\"),expr(\"name as employee_name\"),expr(\"concat(name, address) as full_info\")).show()"
   ]
  },
  {
   "cell_type": "code",
   "execution_count": 0,
   "metadata": {
    "application/vnd.databricks.v1+cell": {
     "cellMetadata": {
      "byteLimit": 2048000,
      "rowLimit": 10000
     },
     "inputWidgets": {},
     "nuid": "c6788249-4eae-489b-b9df-72f7522ab46f",
     "showTitle": false,
     "tableResultSettingsMap": {},
     "title": ""
    }
   },
   "outputs": [
    {
     "output_type": "stream",
     "name": "stdout",
     "output_type": "stream",
     "text": [
      "+-----------+-------------+-------------------+\n|employee_id|employee_name|          full_info|\n+-----------+-------------+-------------------+\n|          1|       Manish|       Manish bihar|\n|          2|       Nikita|Nikita uttarpradesh|\n|          3|       Pritam|   Pritam Bangalore|\n|          4|     Prantosh|   Prantosh Kolkata|\n|          5|       Vikash|               null|\n+-----------+-------------+-------------------+\n\n"
     ]
    }
   ],
   "source": [
    " employee_df.select(\n",
    "    expr(\"id as employee_id\"),\n",
    "    expr(\"name as employee_name\"),\n",
    "    concat(expr(\"name\"), lit(\" \"), expr(\"address\")).alias(\"full_info\")  # Add space between name and address\n",
    ").show()"
   ]
  },
  {
   "cell_type": "code",
   "execution_count": 0,
   "metadata": {
    "application/vnd.databricks.v1+cell": {
     "cellMetadata": {
      "byteLimit": 2048000,
      "rowLimit": 10000
     },
     "inputWidgets": {},
     "nuid": "dbf6634d-c8fa-41b6-b74d-44504e9b6432",
     "showTitle": false,
     "tableResultSettingsMap": {},
     "title": ""
    }
   },
   "outputs": [
    {
     "output_type": "stream",
     "name": "stdout",
     "output_type": "stream",
     "text": [
      "+---+--------+---+------+------------+--------+\n| id|    name|age|salary|     address| nominee|\n+---+--------+---+------+------------+--------+\n|  1|  Manish| 26| 75000|       bihar|nominee1|\n|  2|  Nikita| 23|100000|uttarpradesh|nominee2|\n|  3|  Pritam| 22|150000|   Bangalore|   India|\n|  4|Prantosh| 17|200000|     Kolkata|   India|\n|  5|  Vikash| 31|300000|        null|nominee5|\n+---+--------+---+------+------------+--------+\n\n"
     ]
    }
   ],
   "source": [
    "employee_df.select(\"*\").show()"
   ]
  },
  {
   "cell_type": "markdown",
   "metadata": {
    "application/vnd.databricks.v1+cell": {
     "cellMetadata": {},
     "inputWidgets": {},
     "nuid": "b24641b3-101b-48b0-95dd-982868b7d2d9",
     "showTitle": false,
     "tableResultSettingsMap": {},
     "title": ""
    }
   },
   "source": [
    "CODE SCALA"
   ]
  },
  {
   "cell_type": "code",
   "execution_count": 0,
   "metadata": {
    "application/vnd.databricks.v1+cell": {
     "cellMetadata": {
      "byteLimit": 2048000,
      "rowLimit": 10000
     },
     "inputWidgets": {},
     "nuid": "5eca3358-09d4-4c88-ae6f-cf5fa425bd83",
     "showTitle": false,
     "tableResultSettingsMap": {},
     "title": ""
    }
   },
   "outputs": [
    {
     "output_type": "display_data",
     "data": {
      "text/html": [
       "<style scoped>\n",
       "  .ansiout {\n",
       "    display: block;\n",
       "    unicode-bidi: embed;\n",
       "    white-space: pre-wrap;\n",
       "    word-wrap: break-word;\n",
       "    word-break: break-all;\n",
       "    font-family: \"Menlo\", \"Monaco\", \"Consolas\", \"Ubuntu Mono\", \"Source Code Pro\", monospace;\n",
       "    font-size: 13px;\n",
       "    color: #555;\n",
       "    margin-left: 4px;\n",
       "    line-height: 19px;\n",
       "  }\n",
       "</style>\n",
       "<div class=\"ansiout\">+-----------+-------------+-------------------+\n",
       "employee_id|employee_name|          full_info|\n",
       "+-----------+-------------+-------------------+\n",
       "          1|       Manish|       Manish bihar|\n",
       "          2|       Nikita|Nikita uttarpradesh|\n",
       "          3|       Pritam|   Pritam Bangalore|\n",
       "          4|     Prantosh|   Prantosh Kolkata|\n",
       "          5|       Vikash|               null|\n",
       "+-----------+-------------+-------------------+\n",
       "\n",
       "import org.apache.spark.sql.functions.{expr, concat, lit}\n",
       "</div>"
      ]
     },
     "metadata": {
      "application/vnd.databricks.v1+output": {
       "addedWidgets": {},
       "arguments": {},
       "data": "<div class=\"ansiout\">+-----------+-------------+-------------------+\n|employee_id|employee_name|          full_info|\n+-----------+-------------+-------------------+\n|          1|       Manish|       Manish bihar|\n|          2|       Nikita|Nikita uttarpradesh|\n|          3|       Pritam|   Pritam Bangalore|\n|          4|     Prantosh|   Prantosh Kolkata|\n|          5|       Vikash|               null|\n+-----------+-------------+-------------------+\n\nimport org.apache.spark.sql.functions.{expr, concat, lit}\n</div>",
       "datasetInfos": [],
       "metadata": {
        "isDbfsCommandResult": false
       },
       "removedWidgets": [],
       "type": "html"
      }
     },
     "output_type": "display_data"
    }
   ],
   "source": [
    "\n",
    "%scala\n",
    "import org.apache.spark.sql.functions.{expr, concat, lit}\n",
    "\n",
    "// \n",
    "employee_df.select(\n",
    "  expr(\"id as employee_id\"),\n",
    "  expr(\"name as employee_name\"),\n",
    "  concat(expr(\"name\"), lit(\" \"), expr(\"address\")).alias(\"full_info\")  // Add space between name and address\n",
    ").show()"
   ]
  },
  {
   "cell_type": "markdown",
   "metadata": {
    "application/vnd.databricks.v1+cell": {
     "cellMetadata": {},
     "inputWidgets": {},
     "nuid": "12021709-048f-4696-937f-b8aeea5e0661",
     "showTitle": false,
     "tableResultSettingsMap": {},
     "title": ""
    }
   },
   "source": [
    "Spark SQL"
   ]
  },
  {
   "cell_type": "code",
   "execution_count": 0,
   "metadata": {
    "application/vnd.databricks.v1+cell": {
     "cellMetadata": {
      "byteLimit": 2048000,
      "rowLimit": 10000
     },
     "inputWidgets": {},
     "nuid": "c86ecaf3-2600-4974-9437-b416b629cedd",
     "showTitle": false,
     "tableResultSettingsMap": {},
     "title": ""
    }
   },
   "outputs": [],
   "source": [
    "employee_df.createOrReplaceTempView(\"emplooyee_tbl\")"
   ]
  },
  {
   "cell_type": "code",
   "execution_count": 0,
   "metadata": {
    "application/vnd.databricks.v1+cell": {
     "cellMetadata": {
      "byteLimit": 2048000,
      "rowLimit": 10000
     },
     "inputWidgets": {},
     "nuid": "3ff316e4-0f07-4156-89f1-693e03e0c90b",
     "showTitle": false,
     "tableResultSettingsMap": {},
     "title": ""
    }
   },
   "outputs": [
    {
     "output_type": "stream",
     "name": "stdout",
     "output_type": "stream",
     "text": [
      "+---+--------+---+------+------------+--------+\n| id|    name|age|salary|     address| nominee|\n+---+--------+---+------+------------+--------+\n|  1|  Manish| 26| 75000|       bihar|nominee1|\n|  2|  Nikita| 23|100000|uttarpradesh|nominee2|\n|  3|  Pritam| 22|150000|   Bangalore|   India|\n|  4|Prantosh| 17|200000|     Kolkata|   India|\n|  5|  Vikash| 31|300000|        null|nominee5|\n+---+--------+---+------+------------+--------+\n\n"
     ]
    }
   ],
   "source": [
    "spark.sql(\"\"\"\n",
    "\n",
    "select * from emplooyee_tbl\n",
    "\n",
    "\"\"\").show()"
   ]
  },
  {
   "cell_type": "code",
   "execution_count": 0,
   "metadata": {
    "application/vnd.databricks.v1+cell": {
     "cellMetadata": {
      "byteLimit": 2048000,
      "rowLimit": 10000
     },
     "inputWidgets": {},
     "nuid": "4850072a-8ca0-45e8-907f-e60d7e8b8b49",
     "showTitle": false,
     "tableResultSettingsMap": {},
     "title": ""
    }
   },
   "outputs": [
    {
     "output_type": "stream",
     "name": "stdout",
     "output_type": "stream",
     "text": [
      "+----------+\n|sum_salary|\n+----------+\n|    825000|\n+----------+\n\n"
     ]
    }
   ],
   "source": [
    "spark.sql(\"\"\"\n",
    "          \n",
    "          select sum(salary) as sum_salary from emplooyee_tbl\n",
    "          \n",
    "          \"\"\").show()"
   ]
  },
  {
   "cell_type": "code",
   "execution_count": 0,
   "metadata": {
    "application/vnd.databricks.v1+cell": {
     "cellMetadata": {
      "byteLimit": 2048000,
      "rowLimit": 10000
     },
     "inputWidgets": {},
     "nuid": "e57c2725-efd2-44ba-8bc1-ad4d8c34f4e7",
     "showTitle": false,
     "tableResultSettingsMap": {},
     "title": ""
    }
   },
   "outputs": [
    {
     "output_type": "stream",
     "name": "stdout",
     "output_type": "stream",
     "text": [
      "+--------+---+------------+\n|    name|age|     address|\n+--------+---+------------+\n|  Manish| 26|       bihar|\n|  Nikita| 23|uttarpradesh|\n|  Pritam| 22|   Bangalore|\n|Prantosh| 17|     Kolkata|\n|  Vikash| 31|        null|\n+--------+---+------------+\n\n"
     ]
    }
   ],
   "source": [
    "spark.sql(\"\"\"\n",
    "          \n",
    "select name,age,address from emplooyee_tbl\n",
    "\n",
    "          \"\"\").show()"
   ]
  },
  {
   "cell_type": "code",
   "execution_count": 0,
   "metadata": {
    "application/vnd.databricks.v1+cell": {
     "cellMetadata": {
      "byteLimit": 2048000,
      "rowLimit": 10000
     },
     "inputWidgets": {},
     "nuid": "1aae23bf-e9ff-4e6c-981d-d750bd37894b",
     "showTitle": false,
     "tableResultSettingsMap": {},
     "title": ""
    }
   },
   "outputs": [],
   "source": [
    "from pyspark.sql.functions import *\n",
    "from pyspark.sql.types import * "
   ]
  },
  {
   "cell_type": "code",
   "execution_count": 0,
   "metadata": {
    "application/vnd.databricks.v1+cell": {
     "cellMetadata": {
      "byteLimit": 2048000,
      "rowLimit": 10000
     },
     "inputWidgets": {},
     "nuid": "9b8dcd67-5bde-4492-b1a3-28393f3dd51b",
     "showTitle": false,
     "tableResultSettingsMap": {},
     "title": ""
    }
   },
   "outputs": [
    {
     "output_type": "stream",
     "name": "stdout",
     "output_type": "stream",
     "text": [
      "+-----------+--------+---+\n|employee_id|    name|age|\n+-----------+--------+---+\n|          1|  Manish| 26|\n|          2|  Nikita| 23|\n|          3|  Pritam| 22|\n|          4|Prantosh| 17|\n|          5|  Vikash| 31|\n+-----------+--------+---+\n\n"
     ]
    }
   ],
   "source": [
    " employee_df.select(col(\"id\").alias(\"employee_id\"),\"name\",\"age\").show()"
   ]
  },
  {
   "cell_type": "code",
   "execution_count": 0,
   "metadata": {
    "application/vnd.databricks.v1+cell": {
     "cellMetadata": {
      "byteLimit": 2048000,
      "rowLimit": 10000
     },
     "inputWidgets": {},
     "nuid": "1c8d42dc-701f-4307-89a8-1bc1298f4f09",
     "showTitle": false,
     "tableResultSettingsMap": {},
     "title": ""
    }
   },
   "outputs": [
    {
     "output_type": "stream",
     "name": "stdout",
     "output_type": "stream",
     "text": [
      "+---+--------+---+------+-------+--------+\n| id|    name|age|salary|address| nominee|\n+---+--------+---+------+-------+--------+\n|  4|Prantosh| 17|200000|Kolkata|   India|\n|  5|  Vikash| 31|300000|   null|nominee5|\n+---+--------+---+------+-------+--------+\n\n"
     ]
    }
   ],
   "source": [
    "employee_df.filter(col(\"salary\")>150000).show()"
   ]
  },
  {
   "cell_type": "code",
   "execution_count": 0,
   "metadata": {
    "application/vnd.databricks.v1+cell": {
     "cellMetadata": {
      "byteLimit": 2048000,
      "rowLimit": 10000
     },
     "inputWidgets": {},
     "nuid": "8d1197fe-2ef3-4f37-845f-6e6b9872e616",
     "showTitle": false,
     "tableResultSettingsMap": {},
     "title": ""
    }
   },
   "outputs": [
    {
     "output_type": "stream",
     "name": "stdout",
     "output_type": "stream",
     "text": [
      "+---+--------+---+------+-------+--------+\n| id|    name|age|salary|address| nominee|\n+---+--------+---+------+-------+--------+\n|  4|Prantosh| 17|200000|Kolkata|   India|\n|  5|  Vikash| 31|300000|   null|nominee5|\n+---+--------+---+------+-------+--------+\n\n"
     ]
    }
   ],
   "source": [
    "employee_df.where(col(\"salary\")>150000).show()"
   ]
  },
  {
   "cell_type": "code",
   "execution_count": 0,
   "metadata": {
    "application/vnd.databricks.v1+cell": {
     "cellMetadata": {
      "byteLimit": 2048000,
      "rowLimit": 10000
     },
     "inputWidgets": {},
     "nuid": "de51d0df-1f17-4179-b1fc-a32a17826e01",
     "showTitle": false,
     "tableResultSettingsMap": {},
     "title": ""
    }
   },
   "outputs": [
    {
     "output_type": "stream",
     "name": "stdout",
     "output_type": "stream",
     "text": [
      "+---+--------+---+------+-------+-------+\n| id|    name|age|salary|address|nominee|\n+---+--------+---+------+-------+-------+\n|  4|Prantosh| 17|200000|Kolkata|  India|\n+---+--------+---+------+-------+-------+\n\n"
     ]
    }
   ],
   "source": [
    "employee_df.filter((col(\"salary\")>150000) & (col(\"age\")<18)).show()"
   ]
  },
  {
   "cell_type": "markdown",
   "metadata": {
    "application/vnd.databricks.v1+cell": {
     "cellMetadata": {},
     "inputWidgets": {},
     "nuid": "6917e290-acf2-4360-9168-aa6b5700a83d",
     "showTitle": false,
     "tableResultSettingsMap": {},
     "title": ""
    }
   },
   "source": [
    "SCALA CODE\n"
   ]
  },
  {
   "cell_type": "code",
   "execution_count": 0,
   "metadata": {
    "application/vnd.databricks.v1+cell": {
     "cellMetadata": {
      "byteLimit": 2048000,
      "rowLimit": 10000
     },
     "inputWidgets": {},
     "nuid": "9a14d691-1dbb-4d4a-a89e-eda0be209d76",
     "showTitle": false,
     "tableResultSettingsMap": {},
     "title": ""
    }
   },
   "outputs": [
    {
     "output_type": "display_data",
     "data": {
      "text/html": [
       "<style scoped>\n",
       "  .ansiout {\n",
       "    display: block;\n",
       "    unicode-bidi: embed;\n",
       "    white-space: pre-wrap;\n",
       "    word-wrap: break-word;\n",
       "    word-break: break-all;\n",
       "    font-family: \"Menlo\", \"Monaco\", \"Consolas\", \"Ubuntu Mono\", \"Source Code Pro\", monospace;\n",
       "    font-size: 13px;\n",
       "    color: #555;\n",
       "    margin-left: 4px;\n",
       "    line-height: 19px;\n",
       "  }\n",
       "</style>\n",
       "<div class=\"ansiout\">+---+----+---+------+-------+-------+\n",
       " id|name|age|salary|address|nominee|\n",
       "+---+----+---+------+-------+-------+\n",
       "+---+----+---+------+-------+-------+\n",
       "\n",
       "</div>"
      ]
     },
     "metadata": {
      "application/vnd.databricks.v1+output": {
       "addedWidgets": {},
       "arguments": {},
       "data": "<div class=\"ansiout\">+---+----+---+------+-------+-------+\n| id|name|age|salary|address|nominee|\n+---+----+---+------+-------+-------+\n+---+----+---+------+-------+-------+\n\n</div>",
       "datasetInfos": [],
       "metadata": {
        "isDbfsCommandResult": false
       },
       "removedWidgets": [],
       "type": "html"
      }
     },
     "output_type": "display_data"
    }
   ],
   "source": [
    "%scala\n",
    "employee_df.filter((col(\"salary\") > 150000) && (col(\"age\") < 18)).show()\n"
   ]
  },
  {
   "cell_type": "code",
   "execution_count": 0,
   "metadata": {
    "application/vnd.databricks.v1+cell": {
     "cellMetadata": {
      "byteLimit": 2048000,
      "rowLimit": 10000
     },
     "inputWidgets": {},
     "nuid": "7184adac-3534-4000-9a87-85d52f50d7a4",
     "showTitle": false,
     "tableResultSettingsMap": {},
     "title": ""
    }
   },
   "outputs": [
    {
     "output_type": "stream",
     "name": "stdout",
     "output_type": "stream",
     "text": [
      "+---+--------+---+------+------------+--------+---------+\n| id|    name|age|salary|     address| nominee|last_name|\n+---+--------+---+------+------------+--------+---------+\n|  1|  Manish| 26| 75000|       bihar|nominee1|    kumar|\n|  2|  Nikita| 23|100000|uttarpradesh|nominee2|    kumar|\n|  3|  Pritam| 22|150000|   Bangalore|   India|    kumar|\n|  4|Prantosh| 17|200000|     Kolkata|   India|    kumar|\n|  5|  Vikash| 31|300000|        null|nominee5|    kumar|\n+---+--------+---+------+------------+--------+---------+\n\n"
     ]
    }
   ],
   "source": [
    "employee_df.select(\"*\", lit(\"kumar\").alias(\"last_name\")).show()"
   ]
  },
  {
   "cell_type": "code",
   "execution_count": 0,
   "metadata": {
    "application/vnd.databricks.v1+cell": {
     "cellMetadata": {
      "byteLimit": 2048000,
      "rowLimit": 10000
     },
     "inputWidgets": {},
     "nuid": "e0a526aa-58b3-4b2d-8104-aab9b87dbdc6",
     "showTitle": false,
     "tableResultSettingsMap": {},
     "title": ""
    }
   },
   "outputs": [
    {
     "output_type": "stream",
     "name": "stdout",
     "output_type": "stream",
     "text": [
      "+---+--------+---+------+------------+--------+---------+--------------+\n| id|    name|age|salary|     address| nominee|last_name|     full_name|\n+---+--------+---+------+------------+--------+---------+--------------+\n|  1|  Manish| 26| 75000|       bihar|nominee1|    kumar|  Manish kumar|\n|  2|  Nikita| 23|100000|uttarpradesh|nominee2|    kumar|  Nikita kumar|\n|  3|  Pritam| 22|150000|   Bangalore|   India|    kumar|  Pritam kumar|\n|  4|Prantosh| 17|200000|     Kolkata|   India|    kumar|Prantosh kumar|\n|  5|  Vikash| 31|300000|        null|nominee5|    kumar|  Vikash kumar|\n+---+--------+---+------+------------+--------+---------+--------------+\n\n"
     ]
    }
   ],
   "source": [
    "df.show()"
   ]
  },
  {
   "cell_type": "code",
   "execution_count": 0,
   "metadata": {
    "application/vnd.databricks.v1+cell": {
     "cellMetadata": {
      "byteLimit": 2048000,
      "rowLimit": 10000
     },
     "inputWidgets": {},
     "nuid": "56b78588-5b62-47a9-bfb9-63156cf53de6",
     "showTitle": false,
     "tableResultSettingsMap": {},
     "title": ""
    }
   },
   "outputs": [],
   "source": [
    "df = employee_df.select(\"*\", lit(\"kumar\").alias(\"last_name\"),concat(expr(\"name\"), lit(\" \"), expr(\"last_name\")).alias(\"full_name\"))"
   ]
  },
  {
   "cell_type": "code",
   "execution_count": 0,
   "metadata": {
    "application/vnd.databricks.v1+cell": {
     "cellMetadata": {
      "byteLimit": 2048000,
      "rowLimit": 10000
     },
     "inputWidgets": {},
     "nuid": "46c4ed81-ec44-4c68-95b9-c827fae62ef1",
     "showTitle": false,
     "tableResultSettingsMap": {},
     "title": ""
    }
   },
   "outputs": [
    {
     "output_type": "stream",
     "name": "stdout",
     "output_type": "stream",
     "text": [
      "+---+--------+---+------+------------+--------+---------+--------------+\n| id|    name|age|salary|     address| nominee|last_name|     full_name|\n+---+--------+---+------+------------+--------+---------+--------------+\n|  1|  Manish| 26| 75000|       bihar|nominee1|    kumar|  Manish kumar|\n|  2|  Nikita| 23|100000|uttarpradesh|nominee2|    kumar|  Nikita kumar|\n|  3|  Pritam| 22|150000|   Bangalore|   India|    kumar|  Pritam kumar|\n|  4|Prantosh| 17|200000|     Kolkata|   India|    kumar|Prantosh kumar|\n|  5|  Vikash| 31|300000|        null|nominee5|    kumar|  Vikash kumar|\n+---+--------+---+------+------------+--------+---------+--------------+\n\n"
     ]
    }
   ],
   "source": [
    "df.show()"
   ]
  },
  {
   "cell_type": "code",
   "execution_count": 0,
   "metadata": {
    "application/vnd.databricks.v1+cell": {
     "cellMetadata": {
      "byteLimit": 2048000,
      "rowLimit": 10000
     },
     "inputWidgets": {},
     "nuid": "6d3c5e15-b3a7-4064-b654-7440bd554394",
     "showTitle": false,
     "tableResultSettingsMap": {},
     "title": ""
    }
   },
   "outputs": [
    {
     "output_type": "stream",
     "name": "stdout",
     "output_type": "stream",
     "text": [
      "root\n |-- id: integer (nullable = true)\n |-- name: string (nullable = true)\n |-- age: integer (nullable = true)\n |-- salary: integer (nullable = true)\n |-- address: string (nullable = true)\n |-- nominee: string (nullable = true)\n |-- last_name: string (nullable = false)\n |-- full_name: string (nullable = true)\n\n"
     ]
    }
   ],
   "source": [
    "df.printSchema()"
   ]
  },
  {
   "cell_type": "code",
   "execution_count": 0,
   "metadata": {
    "application/vnd.databricks.v1+cell": {
     "cellMetadata": {},
     "inputWidgets": {},
     "nuid": "d7c2c7ab-470e-402d-bec1-a6f830e167cd",
     "showTitle": false,
     "tableResultSettingsMap": {},
     "title": ""
    }
   },
   "outputs": [],
   "source": [
    "employee_df"
   ]
  },
  {
   "cell_type": "code",
   "execution_count": 0,
   "metadata": {
    "application/vnd.databricks.v1+cell": {
     "cellMetadata": {
      "byteLimit": 2048000,
      "rowLimit": 10000
     },
     "inputWidgets": {},
     "nuid": "ae9ae89a-0bc1-42e5-a916-a6691e8e06ea",
     "showTitle": false,
     "tableResultSettingsMap": {},
     "title": ""
    }
   },
   "outputs": [
    {
     "output_type": "stream",
     "name": "stdout",
     "output_type": "stream",
     "text": [
      "+--------------+\n|     full_name|\n+--------------+\n|  Manish kumar|\n|  Nikita kumar|\n|  Pritam kumar|\n|Prantosh kumar|\n|  Vikash kumar|\n+--------------+\n\n"
     ]
    }
   ],
   "source": [
    "df.select(concat(expr(\"name\"), lit(\" \"), expr(\"last_name\")).alias(\"full_name\")).show()"
   ]
  },
  {
   "cell_type": "code",
   "execution_count": 0,
   "metadata": {
    "application/vnd.databricks.v1+cell": {
     "cellMetadata": {
      "byteLimit": 2048000,
      "rowLimit": 10000
     },
     "inputWidgets": {},
     "nuid": "9ef32876-078e-4479-9168-85a96bc8ed2f",
     "showTitle": false,
     "tableResultSettingsMap": {},
     "title": ""
    }
   },
   "outputs": [
    {
     "output_type": "stream",
     "name": "stdout",
     "output_type": "stream",
     "text": [
      "+---+--------+---+------+------------+--------+--------+\n| id|    name|age|salary|     address| nominee|sur_name|\n+---+--------+---+------+------------+--------+--------+\n|  1|  Manish| 26| 75000|       bihar|nominee1|   singh|\n|  2|  Nikita| 23|100000|uttarpradesh|nominee2|   singh|\n|  3|  Pritam| 22|150000|   Bangalore|   India|   singh|\n|  4|Prantosh| 17|200000|     Kolkata|   India|   singh|\n|  5|  Vikash| 31|300000|        null|nominee5|   singh|\n+---+--------+---+------+------------+--------+--------+\n\n"
     ]
    }
   ],
   "source": [
    "employee_df.withColumn(\"sur_name\",lit(\"singh\")).show()"
   ]
  },
  {
   "cell_type": "code",
   "execution_count": 0,
   "metadata": {
    "application/vnd.databricks.v1+cell": {
     "cellMetadata": {
      "byteLimit": 2048000,
      "rowLimit": 10000
     },
     "inputWidgets": {},
     "nuid": "f11b1db3-5e11-47d9-b72a-475960e56cf0",
     "showTitle": false,
     "tableResultSettingsMap": {},
     "title": ""
    }
   },
   "outputs": [
    {
     "output_type": "stream",
     "name": "stdout",
     "output_type": "stream",
     "text": [
      "+---+--------+---+------+------------+--------+--------+--------------+\n| id|    name|age|salary|     address| nominee|sur_name|     full_name|\n+---+--------+---+------+------------+--------+--------+--------------+\n|  1|  Manish| 26| 75000|       bihar|nominee1|   singh|  Manish singh|\n|  2|  Nikita| 23|100000|uttarpradesh|nominee2|   singh|  Nikita singh|\n|  3|  Pritam| 22|150000|   Bangalore|   India|   singh|  Pritam singh|\n|  4|Prantosh| 17|200000|     Kolkata|   India|   singh|Prantosh singh|\n|  5|  Vikash| 31|300000|        null|nominee5|   singh|  Vikash singh|\n+---+--------+---+------+------------+--------+--------+--------------+\n\n"
     ]
    }
   ],
   "source": [
    "# Assuming employee_df is already defined\n",
    "\n",
    "# Add the \"sur_name\" column and then create \"full_name\"\n",
    "result_df = employee_df.withColumn(\"sur_name\", lit(\"singh\")) \\\n",
    "    .withColumn(\"full_name\", concat(expr(\"name\"), lit(\" \"), expr(\"sur_name\")))\n",
    "\n",
    "# Show the result\n",
    "#result_df.select(\"name\", \"sur_name\", \"full_name\").show()\n",
    "result_df.show()"
   ]
  },
  {
   "cell_type": "code",
   "execution_count": 0,
   "metadata": {
    "application/vnd.databricks.v1+cell": {
     "cellMetadata": {
      "byteLimit": 2048000,
      "rowLimit": 10000
     },
     "inputWidgets": {},
     "nuid": "14219ea4-8525-4804-8e6d-42b15675aa6e",
     "showTitle": false,
     "tableResultSettingsMap": {},
     "title": ""
    }
   },
   "outputs": [
    {
     "output_type": "stream",
     "name": "stdout",
     "output_type": "stream",
     "text": [
      "root\n |-- id: integer (nullable = true)\n |-- name: string (nullable = true)\n |-- age: integer (nullable = true)\n |-- salary: integer (nullable = true)\n |-- address: string (nullable = true)\n |-- nominee: string (nullable = true)\n |-- sur_name: string (nullable = false)\n |-- full_name: string (nullable = true)\n\n"
     ]
    }
   ],
   "source": [
    "result_df.printSchema()"
   ]
  },
  {
   "cell_type": "code",
   "execution_count": 0,
   "metadata": {
    "application/vnd.databricks.v1+cell": {
     "cellMetadata": {
      "byteLimit": 2048000,
      "rowLimit": 10000
     },
     "inputWidgets": {},
     "nuid": "f22a3579-5708-491e-848f-3210a2874e0f",
     "showTitle": false,
     "tableResultSettingsMap": {},
     "title": ""
    }
   },
   "outputs": [],
   "source": [
    "new_employess = employee_df.withColumnRenamed(\"id\",\"employee_id\")"
   ]
  },
  {
   "cell_type": "code",
   "execution_count": 0,
   "metadata": {
    "application/vnd.databricks.v1+cell": {
     "cellMetadata": {
      "byteLimit": 2048000,
      "rowLimit": 10000
     },
     "inputWidgets": {},
     "nuid": "5c6913c9-caea-4cfc-b1ac-e3f5dbc6dabf",
     "showTitle": false,
     "tableResultSettingsMap": {},
     "title": ""
    }
   },
   "outputs": [
    {
     "output_type": "stream",
     "name": "stdout",
     "output_type": "stream",
     "text": [
      "+-----------+--------+---+------+------------+--------+\n|employee_id|    name|age|salary|     address| nominee|\n+-----------+--------+---+------+------------+--------+\n|          1|  Manish| 26| 75000|       bihar|nominee1|\n|          2|  Nikita| 23|100000|uttarpradesh|nominee2|\n|          3|  Pritam| 22|150000|   Bangalore|   India|\n|          4|Prantosh| 17|200000|     Kolkata|   India|\n|          5|  Vikash| 31|300000|        null|nominee5|\n+-----------+--------+---+------+------------+--------+\n\n"
     ]
    }
   ],
   "source": [
    "new_employess.show()"
   ]
  },
  {
   "cell_type": "code",
   "execution_count": 0,
   "metadata": {
    "application/vnd.databricks.v1+cell": {
     "cellMetadata": {
      "byteLimit": 2048000,
      "rowLimit": 10000
     },
     "inputWidgets": {},
     "nuid": "8763f27b-3ca3-4aa6-8a19-37014f79b22b",
     "showTitle": false,
     "tableResultSettingsMap": {},
     "title": ""
    }
   },
   "outputs": [
    {
     "output_type": "stream",
     "name": "stdout",
     "output_type": "stream",
     "text": [
      "root\n |-- id: integer (nullable = true)\n |-- name: string (nullable = true)\n |-- age: integer (nullable = true)\n |-- salary: integer (nullable = true)\n |-- address: string (nullable = true)\n |-- nominee: string (nullable = true)\n\n"
     ]
    }
   ],
   "source": [
    "employee_df.printSchema()"
   ]
  },
  {
   "cell_type": "code",
   "execution_count": 0,
   "metadata": {
    "application/vnd.databricks.v1+cell": {
     "cellMetadata": {
      "byteLimit": 2048000,
      "rowLimit": 10000
     },
     "inputWidgets": {},
     "nuid": "bcdad3f3-1f34-42bc-843a-dc72e7e74c3f",
     "showTitle": false,
     "tableResultSettingsMap": {},
     "title": ""
    }
   },
   "outputs": [
    {
     "output_type": "stream",
     "name": "stdout",
     "output_type": "stream",
     "text": [
      "root\n |-- id: string (nullable = true)\n |-- name: string (nullable = true)\n |-- age: integer (nullable = true)\n |-- salary: long (nullable = true)\n |-- address: string (nullable = true)\n |-- nominee: string (nullable = true)\n\n"
     ]
    }
   ],
   "source": [
    "employee_df.withColumn(\"id\",col(\"id\").cast(\"string\"))\\\n",
    "            .withColumn(\"salary\",col(\"salary\").cast(\"long\"))\\\n",
    "    .printSchema()"
   ]
  },
  {
   "cell_type": "code",
   "execution_count": 0,
   "metadata": {
    "application/vnd.databricks.v1+cell": {
     "cellMetadata": {
      "byteLimit": 2048000,
      "rowLimit": 10000
     },
     "inputWidgets": {},
     "nuid": "22c504e4-8a23-4e82-9405-036503a8be9b",
     "showTitle": false,
     "tableResultSettingsMap": {},
     "title": ""
    }
   },
   "outputs": [
    {
     "output_type": "stream",
     "name": "stdout",
     "output_type": "stream",
     "text": [
      "+---+------+------------+--------+\n|age|salary|     address| nominee|\n+---+------+------------+--------+\n| 26| 75000|       bihar|nominee1|\n| 23|100000|uttarpradesh|nominee2|\n| 22|150000|   Bangalore|   India|\n| 17|200000|     Kolkata|   India|\n| 31|300000|        null|nominee5|\n+---+------+------------+--------+\n\n"
     ]
    }
   ],
   "source": [
    "employee_df.drop(\"id\",col(\"name\")).show()"
   ]
  },
  {
   "cell_type": "code",
   "execution_count": 0,
   "metadata": {
    "application/vnd.databricks.v1+cell": {
     "cellMetadata": {
      "byteLimit": 2048000,
      "rowLimit": 10000
     },
     "inputWidgets": {},
     "nuid": "2d1570fa-e590-4526-b6c6-2b652319d766",
     "showTitle": false,
     "tableResultSettingsMap": {},
     "title": ""
    }
   },
   "outputs": [
    {
     "output_type": "stream",
     "name": "stdout",
     "output_type": "stream",
     "text": [
      "+--------+---+------+------------+--------+\n|    name|age|salary|     address| nominee|\n+--------+---+------+------------+--------+\n|  Manish| 26| 75000|       bihar|nominee1|\n|  Nikita| 23|100000|uttarpradesh|nominee2|\n|  Pritam| 22|150000|   Bangalore|   India|\n|Prantosh| 17|200000|     Kolkata|   India|\n|  Vikash| 31|300000|        null|nominee5|\n+--------+---+------+------------+--------+\n\n"
     ]
    }
   ],
   "source": [
    "employee_df.drop(col(\"id\")).show()"
   ]
  },
  {
   "cell_type": "markdown",
   "metadata": {
    "application/vnd.databricks.v1+cell": {
     "cellMetadata": {},
     "inputWidgets": {},
     "nuid": "43a31486-892e-4b27-9417-863f6dfe1402",
     "showTitle": false,
     "tableResultSettingsMap": {},
     "title": ""
    }
   },
   "source": [
    "Spark SQL"
   ]
  },
  {
   "cell_type": "code",
   "execution_count": 0,
   "metadata": {
    "application/vnd.databricks.v1+cell": {
     "cellMetadata": {
      "byteLimit": 2048000,
      "rowLimit": 10000
     },
     "inputWidgets": {},
     "nuid": "13220e1f-5558-40dd-9b56-733faa625afb",
     "showTitle": false,
     "tableResultSettingsMap": {},
     "title": ""
    }
   },
   "outputs": [],
   "source": [
    "employee_df.createOrReplaceTempView(\"employee_tbl\")"
   ]
  },
  {
   "cell_type": "code",
   "execution_count": 0,
   "metadata": {
    "application/vnd.databricks.v1+cell": {
     "cellMetadata": {
      "byteLimit": 2048000,
      "rowLimit": 10000
     },
     "inputWidgets": {},
     "nuid": "ecb7c2c7-d2f8-4fd5-9039-0f52fab60de8",
     "showTitle": false,
     "tableResultSettingsMap": {},
     "title": ""
    }
   },
   "outputs": [
    {
     "output_type": "stream",
     "name": "stdout",
     "output_type": "stream",
     "text": [
      "+---+--------+---+------+-------+-------+\n| id|    name|age|salary|address|nominee|\n+---+--------+---+------+-------+-------+\n|  4|Prantosh| 17|200000|Kolkata|  India|\n+---+--------+---+------+-------+-------+\n\n"
     ]
    }
   ],
   "source": [
    "spark.sql(\"\"\"\n",
    "          \n",
    "          select * from employee_tbl where salary > 150000 and age < 18\n",
    "\n",
    "          \"\"\").show()"
   ]
  },
  {
   "cell_type": "code",
   "execution_count": 0,
   "metadata": {
    "application/vnd.databricks.v1+cell": {
     "cellMetadata": {
      "byteLimit": 2048000,
      "rowLimit": 10000
     },
     "inputWidgets": {},
     "nuid": "f5271e88-b536-4b8b-804e-bbe77e3f061d",
     "showTitle": false,
     "tableResultSettingsMap": {},
     "title": ""
    }
   },
   "outputs": [
    {
     "output_type": "stream",
     "name": "stdout",
     "output_type": "stream",
     "text": [
      "+---+--------+---+------+-------+-------+---------+-------------+-----------+\n| id|    name|age|salary|address|nominee|last_name|    full_name|employee_id|\n+---+--------+---+------+-------+-------+---------+-------------+-----------+\n|  4|Prantosh| 17|200000|Kolkata|  India|    kumar|Prantoshkumar|          4|\n+---+--------+---+------+-------+-------+---------+-------------+-----------+\n\n"
     ]
    }
   ],
   "source": [
    "spark.sql(\"\"\"\n",
    "          \n",
    "          select *, \"kumar\" as last_name,concat(name,last_name) as full_name, id as employee_id from employee_tbl where salary > 150000 and age < 18\n",
    "\n",
    "          \"\"\").show()"
   ]
  },
  {
   "cell_type": "code",
   "execution_count": 0,
   "metadata": {
    "application/vnd.databricks.v1+cell": {
     "cellMetadata": {
      "byteLimit": 2048000,
      "rowLimit": 10000
     },
     "inputWidgets": {},
     "nuid": "c7b36b32-ba58-4baf-b2fe-ae1dbc3da9a3",
     "showTitle": false,
     "tableResultSettingsMap": {},
     "title": ""
    }
   },
   "outputs": [
    {
     "output_type": "stream",
     "name": "stdout",
     "output_type": "stream",
     "text": [
      "+---+--------+---+------+-------+-------+---------+--------------+-----------+\n| id|    name|age|salary|address|nominee|last_name|     full_name|employee_id|\n+---+--------+---+------+-------+-------+---------+--------------+-----------+\n|  4|Prantosh| 17|200000|Kolkata|  India|    kumar|Prantosh kumar|          4|\n+---+--------+---+------+-------+-------+---------+--------------+-----------+\n\n"
     ]
    }
   ],
   "source": [
    "# Using Spark SQL\n",
    "spark.sql(\"\"\"\n",
    "    SELECT *, \n",
    "           \"kumar\" AS last_name, \n",
    "           CONCAT(name, \" \", last_name) AS full_name, \n",
    "           id AS employee_id \n",
    "    FROM employee_tbl \n",
    "    WHERE salary > 150000 AND age < 18\n",
    "\"\"\").show()"
   ]
  },
  {
   "cell_type": "code",
   "execution_count": 0,
   "metadata": {
    "application/vnd.databricks.v1+cell": {
     "cellMetadata": {
      "byteLimit": 2048000,
      "rowLimit": 10000
     },
     "inputWidgets": {},
     "nuid": "a9ed8efd-a3fa-4745-a59e-0046afb053e9",
     "showTitle": false,
     "tableResultSettingsMap": {},
     "title": ""
    }
   },
   "outputs": [
    {
     "output_type": "stream",
     "name": "stdout",
     "output_type": "stream",
     "text": [
      "root\n |-- id: integer (nullable = true)\n |-- name: string (nullable = true)\n |-- age: integer (nullable = true)\n |-- salary: integer (nullable = true)\n |-- address: string (nullable = true)\n |-- nominee: string (nullable = true)\n |-- last_name: string (nullable = false)\n |-- full_name: string (nullable = true)\n |-- id: string (nullable = true)\n\n"
     ]
    }
   ],
   "source": [
    "# Using Spark SQL\n",
    "spark.sql(\"\"\"\n",
    "    SELECT *, \n",
    "           \"kumar\" AS last_name, \n",
    "           CONCAT(name, \" \", last_name) AS full_name, \n",
    "           cast(id as STRING) \n",
    "    FROM employee_tbl \n",
    "    WHERE salary > 150000 AND age < 18\n",
    "\"\"\").printSchema()"
   ]
  },
  {
   "cell_type": "code",
   "execution_count": 0,
   "metadata": {
    "application/vnd.databricks.v1+cell": {
     "cellMetadata": {
      "byteLimit": 2048000,
      "rowLimit": 10000
     },
     "inputWidgets": {},
     "nuid": "de77099b-b31f-498b-87ba-dbacbcec20ed",
     "showTitle": false,
     "tableResultSettingsMap": {},
     "title": ""
    }
   },
   "outputs": [
    {
     "output_type": "stream",
     "name": "stdout",
     "output_type": "stream",
     "text": [
      "root\n |-- last_name: string (nullable = false)\n |-- full_name: string (nullable = true)\n |-- id: string (nullable = true)\n\n"
     ]
    }
   ],
   "source": [
    "# Using Spark SQL\n",
    "spark.sql(\"\"\"\n",
    "    SELECT \n",
    "           \"kumar\" AS last_name, \n",
    "           CONCAT(name, \" \", last_name) AS full_name, \n",
    "           cast(id as STRING) \n",
    "    FROM employee_tbl \n",
    "    WHERE salary > 150000 AND age < 18\n",
    "\"\"\").printSchema()"
   ]
  },
  {
   "cell_type": "code",
   "execution_count": 0,
   "metadata": {
    "application/vnd.databricks.v1+cell": {
     "cellMetadata": {
      "byteLimit": 2048000,
      "rowLimit": 10000
     },
     "inputWidgets": {},
     "nuid": "36f21c34-bd22-415f-be4e-d3f7cbed75fc",
     "showTitle": false,
     "tableResultSettingsMap": {},
     "title": ""
    }
   },
   "outputs": [],
   "source": [
    "# Using Spark SQL\n",
    "df = spark.sql(\"\"\"\n",
    "    SELECT \n",
    "           \"kumar\" AS last_name, \n",
    "           CONCAT(name, \" \", last_name) AS full_name, \n",
    "           cast(id as STRING) \n",
    "    FROM employee_tbl \n",
    "    WHERE salary > 150000 AND age < 18\n",
    "\"\"\")"
   ]
  },
  {
   "cell_type": "code",
   "execution_count": 0,
   "metadata": {
    "application/vnd.databricks.v1+cell": {
     "cellMetadata": {
      "byteLimit": 2048000,
      "rowLimit": 10000
     },
     "inputWidgets": {},
     "nuid": "61c2d567-5d19-4ad2-9d3b-835e496543b7",
     "showTitle": false,
     "tableResultSettingsMap": {},
     "title": ""
    }
   },
   "outputs": [
    {
     "output_type": "stream",
     "name": "stdout",
     "output_type": "stream",
     "text": [
      "root\n |-- last_name: string (nullable = false)\n |-- full_name: string (nullable = true)\n |-- id: string (nullable = true)\n\n"
     ]
    }
   ],
   "source": [
    "df.printSchema()"
   ]
  },
  {
   "cell_type": "markdown",
   "metadata": {
    "application/vnd.databricks.v1+cell": {
     "cellMetadata": {},
     "inputWidgets": {},
     "nuid": "d2648a1e-058f-4bd6-b667-92cb2dc12a37",
     "showTitle": false,
     "tableResultSettingsMap": {},
     "title": ""
    }
   },
   "source": [
    "#***union vs unionAll with python***"
   ]
  },
  {
   "cell_type": "code",
   "execution_count": 0,
   "metadata": {
    "application/vnd.databricks.v1+cell": {
     "cellMetadata": {
      "byteLimit": 2048000,
      "rowLimit": 10000
     },
     "inputWidgets": {},
     "nuid": "2eb359e8-a1cb-4bc2-adb0-2fa5ba706633",
     "showTitle": false,
     "tableResultSettingsMap": {},
     "title": ""
    }
   },
   "outputs": [
    {
     "output_type": "stream",
     "name": "stdout",
     "output_type": "stream",
     "text": [
      "+---+------+-----+-------+\n| id|  Name|  sal|mngr_id|\n+---+------+-----+-------+\n| 10|  Anil|50000|     18|\n| 11| Vikas|75000|     16|\n| 12| Nisha|40000|     18|\n| 13| Nidhi|60000|     17|\n| 14| Priya|80000|     18|\n| 15| Mohit|45000|     18|\n| 16|Rajesh|90000|     10|\n| 17| Raman|55000|     16|\n| 18|   Sam|65000|     17|\n+---+------+-----+-------+\n\n"
     ]
    }
   ],
   "source": [
    "# Define the data\n",
    "data = [\n",
    "    (10, 'Anil', 50000, 18),\n",
    "    (11, 'Vikas', 75000, 16),\n",
    "    (12, 'Nisha', 40000, 18),\n",
    "    (13, 'Nidhi', 60000, 17),\n",
    "    (14, 'Priya', 80000, 18),\n",
    "    (15, 'Mohit', 45000, 18),\n",
    "    (16, 'Rajesh', 90000, 10),\n",
    "    (17, 'Raman', 55000, 16),\n",
    "    (18, 'Sam', 65000, 17)\n",
    "]\n",
    "\n",
    "# Define the schema\n",
    "columns = [\"id\", \"Name\", \"sal\", \"mngr_id\"]\n",
    "\n",
    "# Create the DataFrame\n",
    "manager_df = spark.createDataFrame(data, schema=columns)\n",
    "\n",
    "# Show the DataFrame\n",
    "manager_df.show()"
   ]
  },
  {
   "cell_type": "code",
   "execution_count": 0,
   "metadata": {
    "application/vnd.databricks.v1+cell": {
     "cellMetadata": {
      "byteLimit": 2048000,
      "rowLimit": 10000
     },
     "inputWidgets": {},
     "nuid": "258efab1-9d33-43db-acfe-c5c419d4ecf8",
     "showTitle": false,
     "tableResultSettingsMap": {},
     "title": ""
    }
   },
   "outputs": [
    {
     "output_type": "stream",
     "name": "stdout",
     "output_type": "stream",
     "text": [
      "Out[73]: 9"
     ]
    }
   ],
   "source": [
    "manager_df.count()"
   ]
  },
  {
   "cell_type": "code",
   "execution_count": 0,
   "metadata": {
    "application/vnd.databricks.v1+cell": {
     "cellMetadata": {
      "byteLimit": 2048000,
      "rowLimit": 10000
     },
     "inputWidgets": {},
     "nuid": "6fa98f9e-1682-4204-b677-0061aaa25f2f",
     "showTitle": false,
     "tableResultSettingsMap": {},
     "title": ""
    }
   },
   "outputs": [
    {
     "output_type": "stream",
     "name": "stdout",
     "output_type": "stream",
     "text": [
      "+---+-----+-----+-------+\n| id| Name|  sal|mngr_id|\n+---+-----+-----+-------+\n| 19|Sohan|50000|     18|\n| 20| Sima|75000|     17|\n+---+-----+-----+-------+\n\n"
     ]
    }
   ],
   "source": [
    "data1=[(19 ,'Sohan',50000, 18),\n",
    "(20 ,'Sima',75000,  17)]\n",
    "\n",
    "# Define the schema\n",
    "columns = [\"id\", \"Name\", \"sal\", \"mngr_id\"]\n",
    "\n",
    "# Create the DataFrame\n",
    "manager_df1 = spark.createDataFrame(data=data1, schema=columns)\n",
    "\n",
    "# Show the DataFrame\n",
    "manager_df1.show()"
   ]
  },
  {
   "cell_type": "code",
   "execution_count": 0,
   "metadata": {
    "application/vnd.databricks.v1+cell": {
     "cellMetadata": {
      "byteLimit": 2048000,
      "rowLimit": 10000
     },
     "inputWidgets": {},
     "nuid": "b9bca2aa-046e-4f90-bf14-d2bedd31738e",
     "showTitle": false,
     "tableResultSettingsMap": {},
     "title": ""
    }
   },
   "outputs": [
    {
     "output_type": "stream",
     "name": "stdout",
     "output_type": "stream",
     "text": [
      "+---+------+-----+-------+\n| id|  Name|  sal|mngr_id|\n+---+------+-----+-------+\n| 10|  Anil|50000|     18|\n| 11| Vikas|75000|     16|\n| 12| Nisha|40000|     18|\n| 13| Nidhi|60000|     17|\n| 14| Priya|80000|     18|\n| 15| Mohit|45000|     18|\n| 16|Rajesh|90000|     10|\n| 17| Raman|55000|     16|\n| 18|   Sam|65000|     17|\n| 19| Sohan|50000|     18|\n| 20|  Sima|75000|     17|\n+---+------+-----+-------+\n\n"
     ]
    }
   ],
   "source": [
    "manager_df.union(manager_df1).show()"
   ]
  },
  {
   "cell_type": "code",
   "execution_count": 0,
   "metadata": {
    "application/vnd.databricks.v1+cell": {
     "cellMetadata": {
      "byteLimit": 2048000,
      "rowLimit": 10000
     },
     "inputWidgets": {},
     "nuid": "4f741dd4-2af0-4e76-9cdf-ae8ac7b90114",
     "showTitle": false,
     "tableResultSettingsMap": {},
     "title": ""
    }
   },
   "outputs": [
    {
     "output_type": "stream",
     "name": "stdout",
     "output_type": "stream",
     "text": [
      "Out[86]: 11"
     ]
    }
   ],
   "source": [
    "manager_df.union(manager_df1).count()"
   ]
  },
  {
   "cell_type": "code",
   "execution_count": 0,
   "metadata": {
    "application/vnd.databricks.v1+cell": {
     "cellMetadata": {
      "byteLimit": 2048000,
      "rowLimit": 10000
     },
     "inputWidgets": {},
     "nuid": "fb271c9a-9023-480c-9f70-4430baae33e8",
     "showTitle": false,
     "tableResultSettingsMap": {},
     "title": ""
    }
   },
   "outputs": [
    {
     "output_type": "stream",
     "name": "stdout",
     "output_type": "stream",
     "text": [
      "Out[87]: 11"
     ]
    }
   ],
   "source": [
    "manager_df.unionAll(manager_df1).count()"
   ]
  },
  {
   "cell_type": "code",
   "execution_count": 0,
   "metadata": {
    "application/vnd.databricks.v1+cell": {
     "cellMetadata": {
      "byteLimit": 2048000,
      "rowLimit": 10000
     },
     "inputWidgets": {},
     "nuid": "f75c5379-107d-454b-8041-d4add0183cc8",
     "showTitle": false,
     "tableResultSettingsMap": {},
     "title": ""
    }
   },
   "outputs": [
    {
     "output_type": "stream",
     "name": "stdout",
     "output_type": "stream",
     "text": [
      "+---+------+-----+-------+\n| id|  Name|  sal|mngr_id|\n+---+------+-----+-------+\n| 10|  Anil|50000|     18|\n| 11| Vikas|75000|     16|\n| 12| Nisha|40000|     18|\n| 13| Nidhi|60000|     17|\n| 14| Priya|80000|     18|\n| 15| Mohit|45000|     18|\n| 16|Rajesh|90000|     10|\n| 17| Raman|55000|     16|\n| 18|   Sam|65000|     17|\n| 18|   Sam|55000|     17|\n| 18|   Sam|65000|     17|\n+---+------+-----+-------+\n\n"
     ]
    }
   ],
   "source": [
    " # Define the data\n",
    "data = [\n",
    "    (10, 'Anil', 50000, 18),\n",
    "    (11, 'Vikas', 75000, 16),\n",
    "    (12, 'Nisha', 40000, 18),\n",
    "    (13, 'Nidhi', 60000, 17),\n",
    "    (14, 'Priya', 80000, 18),\n",
    "    (15, 'Mohit', 45000, 18),\n",
    "    (16, 'Rajesh', 90000, 10),\n",
    "    (17, 'Raman', 55000, 16),\n",
    "    (18, 'Sam', 65000, 17),\n",
    "    (18, 'Sam', 55000, 17),\n",
    "    (18, 'Sam', 65000, 17)\n",
    "]\n",
    "\n",
    "# Define the schema\n",
    "columns = [\"id\", \"Name\", \"sal\", \"mngr_id\"]\n",
    "\n",
    "# Create the DataFrame\n",
    "duplicate_manager_df = spark.createDataFrame(data, schema=columns)\n",
    "\n",
    "# Show the DataFrame\n",
    "duplicate_manager_df.show()"
   ]
  },
  {
   "cell_type": "code",
   "execution_count": 0,
   "metadata": {
    "application/vnd.databricks.v1+cell": {
     "cellMetadata": {
      "byteLimit": 2048000,
      "rowLimit": 10000
     },
     "inputWidgets": {},
     "nuid": "264f74c7-f5e6-46c0-b706-3576e53c9d0b",
     "showTitle": false,
     "tableResultSettingsMap": {},
     "title": ""
    }
   },
   "outputs": [
    {
     "output_type": "stream",
     "name": "stdout",
     "output_type": "stream",
     "text": [
      "Out[89]: 13"
     ]
    }
   ],
   "source": [
    "duplicate_manager_df.union(manager_df1).count()"
   ]
  },
  {
   "cell_type": "code",
   "execution_count": 0,
   "metadata": {
    "application/vnd.databricks.v1+cell": {
     "cellMetadata": {
      "byteLimit": 2048000,
      "rowLimit": 10000
     },
     "inputWidgets": {},
     "nuid": "be89b995-2bbc-4e89-a30a-9e40a96ab1de",
     "showTitle": false,
     "tableResultSettingsMap": {},
     "title": ""
    }
   },
   "outputs": [
    {
     "output_type": "stream",
     "name": "stdout",
     "output_type": "stream",
     "text": [
      "Out[90]: 13"
     ]
    }
   ],
   "source": [
    "duplicate_manager_df.unionAll(manager_df1).count()"
   ]
  },
  {
   "cell_type": "markdown",
   "metadata": {
    "application/vnd.databricks.v1+cell": {
     "cellMetadata": {},
     "inputWidgets": {},
     "nuid": "6d945aff-b478-4ef9-8652-3687bfe7472a",
     "showTitle": false,
     "tableResultSettingsMap": {},
     "title": ""
    }
   },
   "source": [
    "scala code"
   ]
  },
  {
   "cell_type": "code",
   "execution_count": 0,
   "metadata": {
    "application/vnd.databricks.v1+cell": {
     "cellMetadata": {
      "byteLimit": 2048000,
      "rowLimit": 10000
     },
     "inputWidgets": {},
     "nuid": "270613a5-5b95-46d6-b5ca-b9a6f30f9d1d",
     "showTitle": false,
     "tableResultSettingsMap": {},
     "title": ""
    }
   },
   "outputs": [
    {
     "output_type": "display_data",
     "data": {
      "text/html": [
       "<style scoped>\n",
       "  .ansiout {\n",
       "    display: block;\n",
       "    unicode-bidi: embed;\n",
       "    white-space: pre-wrap;\n",
       "    word-wrap: break-word;\n",
       "    word-break: break-all;\n",
       "    font-family: \"Menlo\", \"Monaco\", \"Consolas\", \"Ubuntu Mono\", \"Source Code Pro\", monospace;\n",
       "    font-size: 13px;\n",
       "    color: #555;\n",
       "    margin-left: 4px;\n",
       "    line-height: 19px;\n",
       "  }\n",
       "</style>\n",
       "<div class=\"ansiout\">+---+------+-----+-------+\n",
       " id|  Name|  sal|mngr_id|\n",
       "+---+------+-----+-------+\n",
       " 10|  Anil|50000|     18|\n",
       " 11| Vikas|75000|     16|\n",
       " 12| Nisha|40000|     18|\n",
       " 13| Nidhi|60000|     17|\n",
       " 14| Priya|80000|     18|\n",
       " 15| Mohit|45000|     18|\n",
       " 16|Rajesh|90000|     10|\n",
       " 17| Raman|55000|     16|\n",
       " 18|   Sam|65000|     17|\n",
       "+---+------+-----+-------+\n",
       "\n",
       "import org.apache.spark.sql.SparkSession\n",
       "import org.apache.spark.sql.Row\n",
       "import org.apache.spark.sql.types.{StructType, StructField, IntegerType, StringType}\n",
       "spark: org.apache.spark.sql.SparkSession = org.apache.spark.sql.SparkSession@2d382cb4\n",
       "data: Seq[(Int, String, Int, Int)] = List((10,Anil,50000,18), (11,Vikas,75000,16), (12,Nisha,40000,18), (13,Nidhi,60000,17), (14,Priya,80000,18), (15,Mohit,45000,18), (16,Rajesh,90000,10), (17,Raman,55000,16), (18,Sam,65000,17))\n",
       "schema: org.apache.spark.sql.types.StructType = StructType(StructField(id,IntegerType,true),StructField(Name,StringType,true),StructField(sal,IntegerType,true),StructField(mngr_id,IntegerType,true))\n",
       "manager_df: org.apache.spark.sql.DataFrame = [id: int, Name: string ... 2 more fields]\n",
       "</div>"
      ]
     },
     "metadata": {
      "application/vnd.databricks.v1+output": {
       "addedWidgets": {},
       "arguments": {},
       "data": "<div class=\"ansiout\">+---+------+-----+-------+\n| id|  Name|  sal|mngr_id|\n+---+------+-----+-------+\n| 10|  Anil|50000|     18|\n| 11| Vikas|75000|     16|\n| 12| Nisha|40000|     18|\n| 13| Nidhi|60000|     17|\n| 14| Priya|80000|     18|\n| 15| Mohit|45000|     18|\n| 16|Rajesh|90000|     10|\n| 17| Raman|55000|     16|\n| 18|   Sam|65000|     17|\n+---+------+-----+-------+\n\nimport org.apache.spark.sql.SparkSession\nimport org.apache.spark.sql.Row\nimport org.apache.spark.sql.types.{StructType, StructField, IntegerType, StringType}\nspark: org.apache.spark.sql.SparkSession = org.apache.spark.sql.SparkSession@2d382cb4\ndata: Seq[(Int, String, Int, Int)] = List((10,Anil,50000,18), (11,Vikas,75000,16), (12,Nisha,40000,18), (13,Nidhi,60000,17), (14,Priya,80000,18), (15,Mohit,45000,18), (16,Rajesh,90000,10), (17,Raman,55000,16), (18,Sam,65000,17))\nschema: org.apache.spark.sql.types.StructType = StructType(StructField(id,IntegerType,true),StructField(Name,StringType,true),StructField(sal,IntegerType,true),StructField(mngr_id,IntegerType,true))\nmanager_df: org.apache.spark.sql.DataFrame = [id: int, Name: string ... 2 more fields]\n</div>",
       "datasetInfos": [
        {
         "name": "manager_df",
         "schema": {
          "fields": [
           {
            "metadata": {},
            "name": "id",
            "nullable": true,
            "type": "integer"
           },
           {
            "metadata": {},
            "name": "Name",
            "nullable": true,
            "type": "string"
           },
           {
            "metadata": {},
            "name": "sal",
            "nullable": true,
            "type": "integer"
           },
           {
            "metadata": {},
            "name": "mngr_id",
            "nullable": true,
            "type": "integer"
           }
          ],
          "type": "struct"
         },
         "tableIdentifier": null,
         "typeStr": "org.apache.spark.sql.DataFrame"
        }
       ],
       "metadata": {
        "isDbfsCommandResult": false
       },
       "removedWidgets": [],
       "type": "html"
      }
     },
     "output_type": "display_data"
    }
   ],
   "source": [
    "%scala\n",
    "import org.apache.spark.sql.SparkSession\n",
    "import org.apache.spark.sql.Row\n",
    "import org.apache.spark.sql.types.{StructType, StructField, IntegerType, StringType}\n",
    "\n",
    "val spark = SparkSession.builder.appName(\"Example\").getOrCreate()\n",
    "\n",
    "// Define the data\n",
    "val data = Seq(\n",
    "  (10, \"Anil\", 50000, 18),\n",
    "  (11, \"Vikas\", 75000, 16),\n",
    "  (12, \"Nisha\", 40000, 18),\n",
    "  (13, \"Nidhi\", 60000, 17),\n",
    "  (14, \"Priya\", 80000, 18),\n",
    "  (15, \"Mohit\", 45000, 18),\n",
    "  (16, \"Rajesh\", 90000, 10),\n",
    "  (17, \"Raman\", 55000, 16),\n",
    "  (18, \"Sam\", 65000, 17)\n",
    ")\n",
    "\n",
    "// Define the schema\n",
    "val schema = StructType(Array(\n",
    "  StructField(\"id\", IntegerType, nullable = true),\n",
    "  StructField(\"Name\", StringType, nullable = true),\n",
    "  StructField(\"sal\", IntegerType, nullable = true),\n",
    "  StructField(\"mngr_id\", IntegerType, nullable = true)\n",
    "))\n",
    "\n",
    "// Create the DataFrame\n",
    "val manager_df = spark.createDataFrame(spark.sparkContext.parallelize(data.map(Row.fromTuple)), schema)\n",
    "\n",
    "// Show the DataFrame\n",
    "manager_df.show()\n"
   ]
  },
  {
   "cell_type": "code",
   "execution_count": 0,
   "metadata": {
    "application/vnd.databricks.v1+cell": {
     "cellMetadata": {
      "byteLimit": 2048000,
      "rowLimit": 10000
     },
     "inputWidgets": {},
     "nuid": "818f64d5-fc7e-4581-8a93-1897482eb33a",
     "showTitle": false,
     "tableResultSettingsMap": {},
     "title": ""
    }
   },
   "outputs": [
    {
     "output_type": "display_data",
     "data": {
      "text/html": [
       "<style scoped>\n",
       "  .ansiout {\n",
       "    display: block;\n",
       "    unicode-bidi: embed;\n",
       "    white-space: pre-wrap;\n",
       "    word-wrap: break-word;\n",
       "    word-break: break-all;\n",
       "    font-family: \"Menlo\", \"Monaco\", \"Consolas\", \"Ubuntu Mono\", \"Source Code Pro\", monospace;\n",
       "    font-size: 13px;\n",
       "    color: #555;\n",
       "    margin-left: 4px;\n",
       "    line-height: 19px;\n",
       "  }\n",
       "</style>\n",
       "<div class=\"ansiout\">res24: Long = 9\n",
       "</div>"
      ]
     },
     "metadata": {
      "application/vnd.databricks.v1+output": {
       "addedWidgets": {},
       "arguments": {},
       "data": "<div class=\"ansiout\">res24: Long = 9\n</div>",
       "datasetInfos": [],
       "metadata": {
        "isDbfsCommandResult": false
       },
       "removedWidgets": [],
       "type": "html"
      }
     },
     "output_type": "display_data"
    }
   ],
   "source": [
    "%scala\n",
    "manager_df.count()"
   ]
  },
  {
   "cell_type": "code",
   "execution_count": 0,
   "metadata": {
    "application/vnd.databricks.v1+cell": {
     "cellMetadata": {
      "byteLimit": 2048000,
      "rowLimit": 10000
     },
     "inputWidgets": {},
     "nuid": "a138bc4b-296d-487c-a107-e9454983af78",
     "showTitle": false,
     "tableResultSettingsMap": {},
     "title": ""
    }
   },
   "outputs": [
    {
     "output_type": "display_data",
     "data": {
      "text/html": [
       "<style scoped>\n",
       "  .ansiout {\n",
       "    display: block;\n",
       "    unicode-bidi: embed;\n",
       "    white-space: pre-wrap;\n",
       "    word-wrap: break-word;\n",
       "    word-break: break-all;\n",
       "    font-family: \"Menlo\", \"Monaco\", \"Consolas\", \"Ubuntu Mono\", \"Source Code Pro\", monospace;\n",
       "    font-size: 13px;\n",
       "    color: #555;\n",
       "    margin-left: 4px;\n",
       "    line-height: 19px;\n",
       "  }\n",
       "</style>\n",
       "<div class=\"ansiout\">+---+-----+-----+-------+\n",
       " id| Name|  sal|mngr_id|\n",
       "+---+-----+-----+-------+\n",
       " 19|Sohan|50000|     18|\n",
       " 20| Sima|75000|     17|\n",
       "+---+-----+-----+-------+\n",
       "\n",
       "import org.apache.spark.sql.SparkSession\n",
       "import org.apache.spark.sql.Row\n",
       "import org.apache.spark.sql.types.{StructType, StructField, IntegerType, StringType}\n",
       "spark: org.apache.spark.sql.SparkSession = org.apache.spark.sql.SparkSession@2d382cb4\n",
       "data1: Seq[(Int, String, Int, Int)] = List((19,Sohan,50000,18), (20,Sima,75000,17))\n",
       "schema: org.apache.spark.sql.types.StructType = StructType(StructField(id,IntegerType,true),StructField(Name,StringType,true),StructField(sal,IntegerType,true),StructField(mngr_id,IntegerType,true))\n",
       "manager_df1: org.apache.spark.sql.DataFrame = [id: int, Name: string ... 2 more fields]\n",
       "</div>"
      ]
     },
     "metadata": {
      "application/vnd.databricks.v1+output": {
       "addedWidgets": {},
       "arguments": {},
       "data": "<div class=\"ansiout\">+---+-----+-----+-------+\n| id| Name|  sal|mngr_id|\n+---+-----+-----+-------+\n| 19|Sohan|50000|     18|\n| 20| Sima|75000|     17|\n+---+-----+-----+-------+\n\nimport org.apache.spark.sql.SparkSession\nimport org.apache.spark.sql.Row\nimport org.apache.spark.sql.types.{StructType, StructField, IntegerType, StringType}\nspark: org.apache.spark.sql.SparkSession = org.apache.spark.sql.SparkSession@2d382cb4\ndata1: Seq[(Int, String, Int, Int)] = List((19,Sohan,50000,18), (20,Sima,75000,17))\nschema: org.apache.spark.sql.types.StructType = StructType(StructField(id,IntegerType,true),StructField(Name,StringType,true),StructField(sal,IntegerType,true),StructField(mngr_id,IntegerType,true))\nmanager_df1: org.apache.spark.sql.DataFrame = [id: int, Name: string ... 2 more fields]\n</div>",
       "datasetInfos": [
        {
         "name": "manager_df1",
         "schema": {
          "fields": [
           {
            "metadata": {},
            "name": "id",
            "nullable": true,
            "type": "integer"
           },
           {
            "metadata": {},
            "name": "Name",
            "nullable": true,
            "type": "string"
           },
           {
            "metadata": {},
            "name": "sal",
            "nullable": true,
            "type": "integer"
           },
           {
            "metadata": {},
            "name": "mngr_id",
            "nullable": true,
            "type": "integer"
           }
          ],
          "type": "struct"
         },
         "tableIdentifier": null,
         "typeStr": "org.apache.spark.sql.DataFrame"
        }
       ],
       "metadata": {
        "isDbfsCommandResult": false
       },
       "removedWidgets": [],
       "type": "html"
      }
     },
     "output_type": "display_data"
    }
   ],
   "source": [
    "%scala\n",
    "import org.apache.spark.sql.SparkSession\n",
    "import org.apache.spark.sql.Row\n",
    "import org.apache.spark.sql.types.{StructType, StructField, IntegerType, StringType}\n",
    "\n",
    "val spark = SparkSession.builder.appName(\"Example\").getOrCreate()\n",
    "\n",
    "// Define the data\n",
    "val data1 = Seq(\n",
    "  (19, \"Sohan\", 50000, 18),\n",
    "  (20, \"Sima\", 75000, 17)\n",
    ")\n",
    "\n",
    "// Define the schema\n",
    "val schema = StructType(Array(\n",
    "  StructField(\"id\", IntegerType, nullable = true),\n",
    "  StructField(\"Name\", StringType, nullable = true),\n",
    "  StructField(\"sal\", IntegerType, nullable = true),\n",
    "  StructField(\"mngr_id\", IntegerType, nullable = true)\n",
    "))\n",
    "\n",
    "// Create the DataFrame\n",
    "val manager_df1 = spark.createDataFrame(spark.sparkContext.parallelize(data1.map(Row.fromTuple)), schema)\n",
    "\n",
    "// Show the DataFrame\n",
    "manager_df1.show()\n"
   ]
  },
  {
   "cell_type": "code",
   "execution_count": 0,
   "metadata": {
    "application/vnd.databricks.v1+cell": {
     "cellMetadata": {
      "byteLimit": 2048000,
      "rowLimit": 10000
     },
     "inputWidgets": {},
     "nuid": "85f30c7e-9dbe-4d8a-be21-9e084e777061",
     "showTitle": false,
     "tableResultSettingsMap": {},
     "title": ""
    }
   },
   "outputs": [
    {
     "output_type": "display_data",
     "data": {
      "text/html": [
       "<style scoped>\n",
       "  .ansiout {\n",
       "    display: block;\n",
       "    unicode-bidi: embed;\n",
       "    white-space: pre-wrap;\n",
       "    word-wrap: break-word;\n",
       "    word-break: break-all;\n",
       "    font-family: \"Menlo\", \"Monaco\", \"Consolas\", \"Ubuntu Mono\", \"Source Code Pro\", monospace;\n",
       "    font-size: 13px;\n",
       "    color: #555;\n",
       "    margin-left: 4px;\n",
       "    line-height: 19px;\n",
       "  }\n",
       "</style>\n",
       "<div class=\"ansiout\">+---+------+-----+-------+\n",
       " id|  Name|  sal|mngr_id|\n",
       "+---+------+-----+-------+\n",
       " 10|  Anil|50000|     18|\n",
       " 11| Vikas|75000|     16|\n",
       " 12| Nisha|40000|     18|\n",
       " 13| Nidhi|60000|     17|\n",
       " 14| Priya|80000|     18|\n",
       " 15| Mohit|45000|     18|\n",
       " 16|Rajesh|90000|     10|\n",
       " 17| Raman|55000|     16|\n",
       " 18|   Sam|65000|     17|\n",
       " 19| Sohan|50000|     18|\n",
       " 20|  Sima|75000|     17|\n",
       "+---+------+-----+-------+\n",
       "\n",
       "</div>"
      ]
     },
     "metadata": {
      "application/vnd.databricks.v1+output": {
       "addedWidgets": {},
       "arguments": {},
       "data": "<div class=\"ansiout\">+---+------+-----+-------+\n| id|  Name|  sal|mngr_id|\n+---+------+-----+-------+\n| 10|  Anil|50000|     18|\n| 11| Vikas|75000|     16|\n| 12| Nisha|40000|     18|\n| 13| Nidhi|60000|     17|\n| 14| Priya|80000|     18|\n| 15| Mohit|45000|     18|\n| 16|Rajesh|90000|     10|\n| 17| Raman|55000|     16|\n| 18|   Sam|65000|     17|\n| 19| Sohan|50000|     18|\n| 20|  Sima|75000|     17|\n+---+------+-----+-------+\n\n</div>",
       "datasetInfos": [],
       "metadata": {
        "isDbfsCommandResult": false
       },
       "removedWidgets": [],
       "type": "html"
      }
     },
     "output_type": "display_data"
    }
   ],
   "source": [
    "%scala\n",
    "manager_df.union(manager_df1).show()\n"
   ]
  },
  {
   "cell_type": "markdown",
   "metadata": {
    "application/vnd.databricks.v1+cell": {
     "cellMetadata": {},
     "inputWidgets": {},
     "nuid": "ec1a1ee2-744b-41b4-96de-565a46fd0d93",
     "showTitle": false,
     "tableResultSettingsMap": {},
     "title": ""
    }
   },
   "source": [
    "spark sql"
   ]
  },
  {
   "cell_type": "code",
   "execution_count": 0,
   "metadata": {
    "application/vnd.databricks.v1+cell": {
     "cellMetadata": {
      "byteLimit": 2048000,
      "rowLimit": 10000
     },
     "inputWidgets": {},
     "nuid": "16daaa51-998a-4e3c-888e-e85a606c123d",
     "showTitle": false,
     "tableResultSettingsMap": {},
     "title": ""
    }
   },
   "outputs": [],
   "source": [
    "manager_df1.createOrReplaceTempView(\"manager_df1_tbl\")\n",
    "duplicate_manager_df.createOrReplaceTempView(\"duplicate_manager_df_tbl\")"
   ]
  },
  {
   "cell_type": "code",
   "execution_count": 0,
   "metadata": {
    "application/vnd.databricks.v1+cell": {
     "cellMetadata": {
      "byteLimit": 2048000,
      "rowLimit": 10000
     },
     "inputWidgets": {},
     "nuid": "275b5ca8-4156-4600-bae5-05aee8667147",
     "showTitle": false,
     "tableResultSettingsMap": {},
     "title": ""
    }
   },
   "outputs": [
    {
     "output_type": "stream",
     "name": "stdout",
     "output_type": "stream",
     "text": [
      "Out[92]: 12"
     ]
    }
   ],
   "source": [
    "spark.sql(\"\"\"\n",
    "          \n",
    "          select * from manager_df1_tbl\n",
    "          union\n",
    "          select * from duplicate_manager_df_tbl\n",
    "          \n",
    "          \"\"\").count()"
   ]
  },
  {
   "cell_type": "code",
   "execution_count": 0,
   "metadata": {
    "application/vnd.databricks.v1+cell": {
     "cellMetadata": {
      "byteLimit": 2048000,
      "rowLimit": 10000
     },
     "inputWidgets": {},
     "nuid": "84e8ce53-eb32-4d00-97de-4f160c5d2216",
     "showTitle": false,
     "tableResultSettingsMap": {},
     "title": ""
    }
   },
   "outputs": [
    {
     "output_type": "stream",
     "name": "stdout",
     "output_type": "stream",
     "text": [
      "Out[93]: 13"
     ]
    }
   ],
   "source": [
    "spark.sql(\"\"\"\n",
    "          \n",
    "          select * from manager_df1_tbl\n",
    "          union all\n",
    "          select * from duplicate_manager_df_tbl\n",
    "          \n",
    "          \"\"\").count()"
   ]
  },
  {
   "cell_type": "code",
   "execution_count": 0,
   "metadata": {
    "application/vnd.databricks.v1+cell": {
     "cellMetadata": {
      "byteLimit": 2048000,
      "rowLimit": 10000
     },
     "inputWidgets": {},
     "nuid": "32c2a638-465f-418e-be68-0c8c39c32942",
     "showTitle": false,
     "tableResultSettingsMap": {},
     "title": ""
    }
   },
   "outputs": [
    {
     "output_type": "stream",
     "name": "stdout",
     "output_type": "stream",
     "text": [
      "Out[94]: 10"
     ]
    }
   ],
   "source": [
    "spark.sql(\"\"\"\n",
    "          \n",
    "          select * from duplicate_manager_df_tbl\n",
    "          union\n",
    "          select * from duplicate_manager_df_tbl\n",
    "          \n",
    "          \"\"\").count()"
   ]
  },
  {
   "cell_type": "code",
   "execution_count": 0,
   "metadata": {
    "application/vnd.databricks.v1+cell": {
     "cellMetadata": {
      "byteLimit": 2048000,
      "rowLimit": 10000
     },
     "inputWidgets": {},
     "nuid": "f3b0bf58-856c-4b12-8913-88665f171f85",
     "showTitle": false,
     "tableResultSettingsMap": {},
     "title": ""
    }
   },
   "outputs": [
    {
     "output_type": "stream",
     "name": "stdout",
     "output_type": "stream",
     "text": [
      "+---+-----+-------+-----+\n| id|  sal|mngr_id| Name|\n+---+-----+-------+-----+\n| 19|50000|     18|Sohan|\n| 20|75000|     17| Sima|\n+---+-----+-------+-----+\n\n"
     ]
    }
   ],
   "source": [
    "wrong_column_data=[(19 ,50000, 18,'Sohan'),\n",
    "(20 ,75000,  17,'Sima')]\n",
    "\n",
    "wrong_schema=[\"id\",\"sal\",\"mngr_id\",\"Name\"]\n",
    "\n",
    "wrong_manager_df=spark.createDataFrame(data=wrong_column_data, schema=wrong_schema)\n",
    "\n",
    "# Show the DataFrame\n",
    "wrong_manager_df.show()"
   ]
  },
  {
   "cell_type": "code",
   "execution_count": 0,
   "metadata": {
    "application/vnd.databricks.v1+cell": {
     "cellMetadata": {
      "byteLimit": 2048000,
      "rowLimit": 10000
     },
     "inputWidgets": {},
     "nuid": "c762a16b-b05f-4677-97e0-03ca05f2325d",
     "showTitle": false,
     "tableResultSettingsMap": {},
     "title": ""
    }
   },
   "outputs": [
    {
     "output_type": "stream",
     "name": "stdout",
     "output_type": "stream",
     "text": [
      "+---+-----+-----+-------+\n| id| Name|  sal|mngr_id|\n+---+-----+-----+-------+\n| 19|Sohan|50000|     18|\n| 20| Sima|75000|     17|\n| 19|50000|   18|  Sohan|\n| 20|75000|   17|   Sima|\n+---+-----+-----+-------+\n\n"
     ]
    }
   ],
   "source": [
    "manager_df1.union(wrong_manager_df).show()"
   ]
  },
  {
   "cell_type": "code",
   "execution_count": 0,
   "metadata": {
    "application/vnd.databricks.v1+cell": {
     "cellMetadata": {
      "byteLimit": 2048000,
      "rowLimit": 10000
     },
     "inputWidgets": {},
     "nuid": "61b74df8-9ebb-427f-a7b4-e1d75a2a9464",
     "showTitle": false,
     "tableResultSettingsMap": {},
     "title": ""
    }
   },
   "outputs": [
    {
     "output_type": "stream",
     "name": "stdout",
     "output_type": "stream",
     "text": [
      "+---+-----+-----+-------+\n| id| Name|  sal|mngr_id|\n+---+-----+-----+-------+\n| 19|Sohan|50000|     18|\n| 20| Sima|75000|     17|\n| 19|Sohan|50000|     18|\n| 20| Sima|75000|     17|\n+---+-----+-----+-------+\n\n"
     ]
    }
   ],
   "source": [
    "manager_df1.unionByName(wrong_manager_df).show()"
   ]
  },
  {
   "cell_type": "code",
   "execution_count": 0,
   "metadata": {
    "application/vnd.databricks.v1+cell": {
     "cellMetadata": {
      "byteLimit": 2048000,
      "rowLimit": 10000
     },
     "inputWidgets": {},
     "nuid": "9018c791-f053-4d64-b85d-805682094926",
     "showTitle": false,
     "tableResultSettingsMap": {},
     "title": ""
    }
   },
   "outputs": [
    {
     "output_type": "stream",
     "name": "stdout",
     "output_type": "stream",
     "text": [
      "+---+-----+-------+-----+-----+\n| id|  sal|mngr_id| Name|bonus|\n+---+-----+-------+-----+-----+\n| 19|50000|     18|Sohan|   10|\n| 20|75000|     17| Sima|   20|\n+---+-----+-------+-----+-----+\n\n"
     ]
    }
   ],
   "source": [
    "wrong_column_data=[(19 ,50000, 18,'Sohan',10),\n",
    "(20 ,75000,  17,'Sima',20)]\n",
    "\n",
    "wrong_schema=[\"id\",\"sal\",\"mngr_id\",\"Name\",\"bonus\"]\n",
    "\n",
    "wrong_manager_df=spark.createDataFrame(data=wrong_column_data, schema=wrong_schema)\n",
    "\n",
    "# Show the DataFrame\n",
    "wrong_manager_df.show()"
   ]
  },
  {
   "cell_type": "code",
   "execution_count": 0,
   "metadata": {
    "application/vnd.databricks.v1+cell": {
     "cellMetadata": {
      "byteLimit": 2048000,
      "rowLimit": 10000
     },
     "inputWidgets": {},
     "nuid": "ccf72bd8-5a12-49ec-a65e-84f93ebe8d33",
     "showTitle": false,
     "tableResultSettingsMap": {},
     "title": ""
    }
   },
   "outputs": [
    {
     "output_type": "display_data",
     "data": {
      "text/plain": [
       "\u001B[0;31m---------------------------------------------------------------------------\u001B[0m\n",
       "\u001B[0;31mAnalysisException\u001B[0m                         Traceback (most recent call last)\n",
       "File \u001B[0;32m<command-1616845809871965>:1\u001B[0m\n",
       "\u001B[0;32m----> 1\u001B[0m \u001B[43mwrong_manager_df\u001B[49m\u001B[38;5;241;43m.\u001B[39;49m\u001B[43munion\u001B[49m\u001B[43m(\u001B[49m\u001B[43mmanager_df1\u001B[49m\u001B[43m)\u001B[49m\u001B[38;5;241m.\u001B[39mshow()\n",
       "\n",
       "File \u001B[0;32m/databricks/spark/python/pyspark/instrumentation_utils.py:48\u001B[0m, in \u001B[0;36m_wrap_function.<locals>.wrapper\u001B[0;34m(*args, **kwargs)\u001B[0m\n",
       "\u001B[1;32m     46\u001B[0m start \u001B[38;5;241m=\u001B[39m time\u001B[38;5;241m.\u001B[39mperf_counter()\n",
       "\u001B[1;32m     47\u001B[0m \u001B[38;5;28;01mtry\u001B[39;00m:\n",
       "\u001B[0;32m---> 48\u001B[0m     res \u001B[38;5;241m=\u001B[39m \u001B[43mfunc\u001B[49m\u001B[43m(\u001B[49m\u001B[38;5;241;43m*\u001B[39;49m\u001B[43margs\u001B[49m\u001B[43m,\u001B[49m\u001B[43m \u001B[49m\u001B[38;5;241;43m*\u001B[39;49m\u001B[38;5;241;43m*\u001B[39;49m\u001B[43mkwargs\u001B[49m\u001B[43m)\u001B[49m\n",
       "\u001B[1;32m     49\u001B[0m     logger\u001B[38;5;241m.\u001B[39mlog_success(\n",
       "\u001B[1;32m     50\u001B[0m         module_name, class_name, function_name, time\u001B[38;5;241m.\u001B[39mperf_counter() \u001B[38;5;241m-\u001B[39m start, signature\n",
       "\u001B[1;32m     51\u001B[0m     )\n",
       "\u001B[1;32m     52\u001B[0m     \u001B[38;5;28;01mreturn\u001B[39;00m res\n",
       "\n",
       "File \u001B[0;32m/databricks/spark/python/pyspark/sql/dataframe.py:3646\u001B[0m, in \u001B[0;36mDataFrame.union\u001B[0;34m(self, other)\u001B[0m\n",
       "\u001B[1;32m   3598\u001B[0m \u001B[38;5;28;01mdef\u001B[39;00m \u001B[38;5;21munion\u001B[39m(\u001B[38;5;28mself\u001B[39m, other: \u001B[38;5;124m\"\u001B[39m\u001B[38;5;124mDataFrame\u001B[39m\u001B[38;5;124m\"\u001B[39m) \u001B[38;5;241m-\u001B[39m\u001B[38;5;241m>\u001B[39m \u001B[38;5;124m\"\u001B[39m\u001B[38;5;124mDataFrame\u001B[39m\u001B[38;5;124m\"\u001B[39m:\n",
       "\u001B[1;32m   3599\u001B[0m     \u001B[38;5;124;03m\"\"\"Return a new :class:`DataFrame` containing union of rows in this and another\u001B[39;00m\n",
       "\u001B[1;32m   3600\u001B[0m \u001B[38;5;124;03m    :class:`DataFrame`.\u001B[39;00m\n",
       "\u001B[1;32m   3601\u001B[0m \n",
       "\u001B[0;32m   (...)\u001B[0m\n",
       "\u001B[1;32m   3644\u001B[0m \u001B[38;5;124;03m    +----+----+----+\u001B[39;00m\n",
       "\u001B[1;32m   3645\u001B[0m \u001B[38;5;124;03m    \"\"\"\u001B[39;00m\n",
       "\u001B[0;32m-> 3646\u001B[0m     \u001B[38;5;28;01mreturn\u001B[39;00m DataFrame(\u001B[38;5;28;43mself\u001B[39;49m\u001B[38;5;241;43m.\u001B[39;49m\u001B[43m_jdf\u001B[49m\u001B[38;5;241;43m.\u001B[39;49m\u001B[43munion\u001B[49m\u001B[43m(\u001B[49m\u001B[43mother\u001B[49m\u001B[38;5;241;43m.\u001B[39;49m\u001B[43m_jdf\u001B[49m\u001B[43m)\u001B[49m, \u001B[38;5;28mself\u001B[39m\u001B[38;5;241m.\u001B[39msparkSession)\n",
       "\n",
       "File \u001B[0;32m/databricks/spark/python/lib/py4j-0.10.9.5-src.zip/py4j/java_gateway.py:1321\u001B[0m, in \u001B[0;36mJavaMember.__call__\u001B[0;34m(self, *args)\u001B[0m\n",
       "\u001B[1;32m   1315\u001B[0m command \u001B[38;5;241m=\u001B[39m proto\u001B[38;5;241m.\u001B[39mCALL_COMMAND_NAME \u001B[38;5;241m+\u001B[39m\\\n",
       "\u001B[1;32m   1316\u001B[0m     \u001B[38;5;28mself\u001B[39m\u001B[38;5;241m.\u001B[39mcommand_header \u001B[38;5;241m+\u001B[39m\\\n",
       "\u001B[1;32m   1317\u001B[0m     args_command \u001B[38;5;241m+\u001B[39m\\\n",
       "\u001B[1;32m   1318\u001B[0m     proto\u001B[38;5;241m.\u001B[39mEND_COMMAND_PART\n",
       "\u001B[1;32m   1320\u001B[0m answer \u001B[38;5;241m=\u001B[39m \u001B[38;5;28mself\u001B[39m\u001B[38;5;241m.\u001B[39mgateway_client\u001B[38;5;241m.\u001B[39msend_command(command)\n",
       "\u001B[0;32m-> 1321\u001B[0m return_value \u001B[38;5;241m=\u001B[39m \u001B[43mget_return_value\u001B[49m\u001B[43m(\u001B[49m\n",
       "\u001B[1;32m   1322\u001B[0m \u001B[43m    \u001B[49m\u001B[43manswer\u001B[49m\u001B[43m,\u001B[49m\u001B[43m \u001B[49m\u001B[38;5;28;43mself\u001B[39;49m\u001B[38;5;241;43m.\u001B[39;49m\u001B[43mgateway_client\u001B[49m\u001B[43m,\u001B[49m\u001B[43m \u001B[49m\u001B[38;5;28;43mself\u001B[39;49m\u001B[38;5;241;43m.\u001B[39;49m\u001B[43mtarget_id\u001B[49m\u001B[43m,\u001B[49m\u001B[43m \u001B[49m\u001B[38;5;28;43mself\u001B[39;49m\u001B[38;5;241;43m.\u001B[39;49m\u001B[43mname\u001B[49m\u001B[43m)\u001B[49m\n",
       "\u001B[1;32m   1324\u001B[0m \u001B[38;5;28;01mfor\u001B[39;00m temp_arg \u001B[38;5;129;01min\u001B[39;00m temp_args:\n",
       "\u001B[1;32m   1325\u001B[0m     temp_arg\u001B[38;5;241m.\u001B[39m_detach()\n",
       "\n",
       "File \u001B[0;32m/databricks/spark/python/pyspark/errors/exceptions.py:234\u001B[0m, in \u001B[0;36mcapture_sql_exception.<locals>.deco\u001B[0;34m(*a, **kw)\u001B[0m\n",
       "\u001B[1;32m    230\u001B[0m converted \u001B[38;5;241m=\u001B[39m convert_exception(e\u001B[38;5;241m.\u001B[39mjava_exception)\n",
       "\u001B[1;32m    231\u001B[0m \u001B[38;5;28;01mif\u001B[39;00m \u001B[38;5;129;01mnot\u001B[39;00m \u001B[38;5;28misinstance\u001B[39m(converted, UnknownException):\n",
       "\u001B[1;32m    232\u001B[0m     \u001B[38;5;66;03m# Hide where the exception came from that shows a non-Pythonic\u001B[39;00m\n",
       "\u001B[1;32m    233\u001B[0m     \u001B[38;5;66;03m# JVM exception message.\u001B[39;00m\n",
       "\u001B[0;32m--> 234\u001B[0m     \u001B[38;5;28;01mraise\u001B[39;00m converted \u001B[38;5;28;01mfrom\u001B[39;00m \u001B[38;5;28mNone\u001B[39m\n",
       "\u001B[1;32m    235\u001B[0m \u001B[38;5;28;01melse\u001B[39;00m:\n",
       "\u001B[1;32m    236\u001B[0m     \u001B[38;5;28;01mraise\u001B[39;00m\n",
       "\n",
       "\u001B[0;31mAnalysisException\u001B[0m: [NUM_COLUMNS_MISMATCH] UNION can only be performed on inputs with the same number of columns, but the first input has 5 columns and the second input has 4 columns.;\n",
       "'Union false, false\n",
       ":- LogicalRDD [id#2919L, sal#2920L, mngr_id#2921L, Name#2922, bonus#2923L], false\n",
       "+- LogicalRDD [id#2496L, Name#2497, sal#2498L, mngr_id#2499L], false\n"
      ]
     },
     "metadata": {
      "application/vnd.databricks.v1+output": {
       "arguments": {},
       "data": "\u001B[0;31m---------------------------------------------------------------------------\u001B[0m\n\u001B[0;31mAnalysisException\u001B[0m                         Traceback (most recent call last)\nFile \u001B[0;32m<command-1616845809871965>:1\u001B[0m\n\u001B[0;32m----> 1\u001B[0m \u001B[43mwrong_manager_df\u001B[49m\u001B[38;5;241;43m.\u001B[39;49m\u001B[43munion\u001B[49m\u001B[43m(\u001B[49m\u001B[43mmanager_df1\u001B[49m\u001B[43m)\u001B[49m\u001B[38;5;241m.\u001B[39mshow()\n\nFile \u001B[0;32m/databricks/spark/python/pyspark/instrumentation_utils.py:48\u001B[0m, in \u001B[0;36m_wrap_function.<locals>.wrapper\u001B[0;34m(*args, **kwargs)\u001B[0m\n\u001B[1;32m     46\u001B[0m start \u001B[38;5;241m=\u001B[39m time\u001B[38;5;241m.\u001B[39mperf_counter()\n\u001B[1;32m     47\u001B[0m \u001B[38;5;28;01mtry\u001B[39;00m:\n\u001B[0;32m---> 48\u001B[0m     res \u001B[38;5;241m=\u001B[39m \u001B[43mfunc\u001B[49m\u001B[43m(\u001B[49m\u001B[38;5;241;43m*\u001B[39;49m\u001B[43margs\u001B[49m\u001B[43m,\u001B[49m\u001B[43m \u001B[49m\u001B[38;5;241;43m*\u001B[39;49m\u001B[38;5;241;43m*\u001B[39;49m\u001B[43mkwargs\u001B[49m\u001B[43m)\u001B[49m\n\u001B[1;32m     49\u001B[0m     logger\u001B[38;5;241m.\u001B[39mlog_success(\n\u001B[1;32m     50\u001B[0m         module_name, class_name, function_name, time\u001B[38;5;241m.\u001B[39mperf_counter() \u001B[38;5;241m-\u001B[39m start, signature\n\u001B[1;32m     51\u001B[0m     )\n\u001B[1;32m     52\u001B[0m     \u001B[38;5;28;01mreturn\u001B[39;00m res\n\nFile \u001B[0;32m/databricks/spark/python/pyspark/sql/dataframe.py:3646\u001B[0m, in \u001B[0;36mDataFrame.union\u001B[0;34m(self, other)\u001B[0m\n\u001B[1;32m   3598\u001B[0m \u001B[38;5;28;01mdef\u001B[39;00m \u001B[38;5;21munion\u001B[39m(\u001B[38;5;28mself\u001B[39m, other: \u001B[38;5;124m\"\u001B[39m\u001B[38;5;124mDataFrame\u001B[39m\u001B[38;5;124m\"\u001B[39m) \u001B[38;5;241m-\u001B[39m\u001B[38;5;241m>\u001B[39m \u001B[38;5;124m\"\u001B[39m\u001B[38;5;124mDataFrame\u001B[39m\u001B[38;5;124m\"\u001B[39m:\n\u001B[1;32m   3599\u001B[0m     \u001B[38;5;124;03m\"\"\"Return a new :class:`DataFrame` containing union of rows in this and another\u001B[39;00m\n\u001B[1;32m   3600\u001B[0m \u001B[38;5;124;03m    :class:`DataFrame`.\u001B[39;00m\n\u001B[1;32m   3601\u001B[0m \n\u001B[0;32m   (...)\u001B[0m\n\u001B[1;32m   3644\u001B[0m \u001B[38;5;124;03m    +----+----+----+\u001B[39;00m\n\u001B[1;32m   3645\u001B[0m \u001B[38;5;124;03m    \"\"\"\u001B[39;00m\n\u001B[0;32m-> 3646\u001B[0m     \u001B[38;5;28;01mreturn\u001B[39;00m DataFrame(\u001B[38;5;28;43mself\u001B[39;49m\u001B[38;5;241;43m.\u001B[39;49m\u001B[43m_jdf\u001B[49m\u001B[38;5;241;43m.\u001B[39;49m\u001B[43munion\u001B[49m\u001B[43m(\u001B[49m\u001B[43mother\u001B[49m\u001B[38;5;241;43m.\u001B[39;49m\u001B[43m_jdf\u001B[49m\u001B[43m)\u001B[49m, \u001B[38;5;28mself\u001B[39m\u001B[38;5;241m.\u001B[39msparkSession)\n\nFile \u001B[0;32m/databricks/spark/python/lib/py4j-0.10.9.5-src.zip/py4j/java_gateway.py:1321\u001B[0m, in \u001B[0;36mJavaMember.__call__\u001B[0;34m(self, *args)\u001B[0m\n\u001B[1;32m   1315\u001B[0m command \u001B[38;5;241m=\u001B[39m proto\u001B[38;5;241m.\u001B[39mCALL_COMMAND_NAME \u001B[38;5;241m+\u001B[39m\\\n\u001B[1;32m   1316\u001B[0m     \u001B[38;5;28mself\u001B[39m\u001B[38;5;241m.\u001B[39mcommand_header \u001B[38;5;241m+\u001B[39m\\\n\u001B[1;32m   1317\u001B[0m     args_command \u001B[38;5;241m+\u001B[39m\\\n\u001B[1;32m   1318\u001B[0m     proto\u001B[38;5;241m.\u001B[39mEND_COMMAND_PART\n\u001B[1;32m   1320\u001B[0m answer \u001B[38;5;241m=\u001B[39m \u001B[38;5;28mself\u001B[39m\u001B[38;5;241m.\u001B[39mgateway_client\u001B[38;5;241m.\u001B[39msend_command(command)\n\u001B[0;32m-> 1321\u001B[0m return_value \u001B[38;5;241m=\u001B[39m \u001B[43mget_return_value\u001B[49m\u001B[43m(\u001B[49m\n\u001B[1;32m   1322\u001B[0m \u001B[43m    \u001B[49m\u001B[43manswer\u001B[49m\u001B[43m,\u001B[49m\u001B[43m \u001B[49m\u001B[38;5;28;43mself\u001B[39;49m\u001B[38;5;241;43m.\u001B[39;49m\u001B[43mgateway_client\u001B[49m\u001B[43m,\u001B[49m\u001B[43m \u001B[49m\u001B[38;5;28;43mself\u001B[39;49m\u001B[38;5;241;43m.\u001B[39;49m\u001B[43mtarget_id\u001B[49m\u001B[43m,\u001B[49m\u001B[43m \u001B[49m\u001B[38;5;28;43mself\u001B[39;49m\u001B[38;5;241;43m.\u001B[39;49m\u001B[43mname\u001B[49m\u001B[43m)\u001B[49m\n\u001B[1;32m   1324\u001B[0m \u001B[38;5;28;01mfor\u001B[39;00m temp_arg \u001B[38;5;129;01min\u001B[39;00m temp_args:\n\u001B[1;32m   1325\u001B[0m     temp_arg\u001B[38;5;241m.\u001B[39m_detach()\n\nFile \u001B[0;32m/databricks/spark/python/pyspark/errors/exceptions.py:234\u001B[0m, in \u001B[0;36mcapture_sql_exception.<locals>.deco\u001B[0;34m(*a, **kw)\u001B[0m\n\u001B[1;32m    230\u001B[0m converted \u001B[38;5;241m=\u001B[39m convert_exception(e\u001B[38;5;241m.\u001B[39mjava_exception)\n\u001B[1;32m    231\u001B[0m \u001B[38;5;28;01mif\u001B[39;00m \u001B[38;5;129;01mnot\u001B[39;00m \u001B[38;5;28misinstance\u001B[39m(converted, UnknownException):\n\u001B[1;32m    232\u001B[0m     \u001B[38;5;66;03m# Hide where the exception came from that shows a non-Pythonic\u001B[39;00m\n\u001B[1;32m    233\u001B[0m     \u001B[38;5;66;03m# JVM exception message.\u001B[39;00m\n\u001B[0;32m--> 234\u001B[0m     \u001B[38;5;28;01mraise\u001B[39;00m converted \u001B[38;5;28;01mfrom\u001B[39;00m \u001B[38;5;28mNone\u001B[39m\n\u001B[1;32m    235\u001B[0m \u001B[38;5;28;01melse\u001B[39;00m:\n\u001B[1;32m    236\u001B[0m     \u001B[38;5;28;01mraise\u001B[39;00m\n\n\u001B[0;31mAnalysisException\u001B[0m: [NUM_COLUMNS_MISMATCH] UNION can only be performed on inputs with the same number of columns, but the first input has 5 columns and the second input has 4 columns.;\n'Union false, false\n:- LogicalRDD [id#2919L, sal#2920L, mngr_id#2921L, Name#2922, bonus#2923L], false\n+- LogicalRDD [id#2496L, Name#2497, sal#2498L, mngr_id#2499L], false\n",
       "errorSummary": "<span class='ansi-red-fg'>AnalysisException</span>: [NUM_COLUMNS_MISMATCH] UNION can only be performed on inputs with the same number of columns, but the first input has 5 columns and the second input has 4 columns.;\n'Union false, false\n:- LogicalRDD [id#2919L, sal#2920L, mngr_id#2921L, Name#2922, bonus#2923L], false\n+- LogicalRDD [id#2496L, Name#2497, sal#2498L, mngr_id#2499L], false\n",
       "errorTraceType": "ansi",
       "metadata": {},
       "type": "ipynbError"
      }
     },
     "output_type": "display_data"
    }
   ],
   "source": [
    "wrong_manager_df.union(manager_df1).show()"
   ]
  },
  {
   "cell_type": "code",
   "execution_count": 0,
   "metadata": {
    "application/vnd.databricks.v1+cell": {
     "cellMetadata": {
      "byteLimit": 2048000,
      "rowLimit": 10000
     },
     "inputWidgets": {},
     "nuid": "8b8913a5-fdf8-4136-b4c5-63564a839c8e",
     "showTitle": false,
     "tableResultSettingsMap": {},
     "title": ""
    }
   },
   "outputs": [
    {
     "output_type": "stream",
     "name": "stdout",
     "output_type": "stream",
     "text": [
      "+---+-----+-------+-----+\n| id|  sal|mngr_id| Name|\n+---+-----+-------+-----+\n| 19|50000|     18|Sohan|\n| 20|75000|     17| Sima|\n| 19|Sohan|  50000|   18|\n| 20| Sima|  75000|   17|\n+---+-----+-------+-----+\n\n"
     ]
    }
   ],
   "source": [
    "wrong_manager_df.select(\"id\",\"sal\",\"mngr_id\",\"Name\").union(manager_df1).show()"
   ]
  },
  {
   "cell_type": "code",
   "execution_count": 0,
   "metadata": {
    "application/vnd.databricks.v1+cell": {
     "cellMetadata": {
      "byteLimit": 2048000,
      "rowLimit": 10000
     },
     "inputWidgets": {},
     "nuid": "c6cd10f3-8b00-42ce-bc54-903a50424c02",
     "showTitle": false,
     "tableResultSettingsMap": {},
     "title": ""
    }
   },
   "outputs": [
    {
     "output_type": "stream",
     "name": "stdout",
     "output_type": "stream",
     "text": [
      "+---+-----+-------+-----+\n| id|  sal|mngr_id|  Nam|\n+---+-----+-------+-----+\n| 19|50000|     18|Sohan|\n| 20|75000|     17| Sima|\n+---+-----+-------+-----+\n\n"
     ]
    }
   ],
   "source": [
    "wrong_column_data2=[(19 ,50000, 18,'Sohan'),\n",
    "(20 ,75000,  17,'Sima')]\n",
    "\n",
    "wrong_schema=[\"id\",\"sal\",\"mngr_id\",\"Nam\"]\n",
    "\n",
    "wrong_manager_df2=spark.createDataFrame(data=wrong_column_data2, schema=wrong_schema)\n",
    "\n",
    "# Show the DataFrame\n",
    "wrong_manager_df2.show()"
   ]
  },
  {
   "cell_type": "code",
   "execution_count": 0,
   "metadata": {
    "application/vnd.databricks.v1+cell": {
     "cellMetadata": {
      "byteLimit": 2048000,
      "rowLimit": 10000
     },
     "inputWidgets": {},
     "nuid": "4397eb82-c1af-4379-9444-b347117999c7",
     "showTitle": false,
     "tableResultSettingsMap": {},
     "title": ""
    }
   },
   "outputs": [
    {
     "output_type": "display_data",
     "data": {
      "text/plain": [
       "\u001B[0;31m---------------------------------------------------------------------------\u001B[0m\n",
       "\u001B[0;31mAnalysisException\u001B[0m                         Traceback (most recent call last)\n",
       "File \u001B[0;32m<command-1616845809871968>:1\u001B[0m\n",
       "\u001B[0;32m----> 1\u001B[0m \u001B[43mwrong_manager_df\u001B[49m\u001B[38;5;241;43m.\u001B[39;49m\u001B[43munionByName\u001B[49m\u001B[43m(\u001B[49m\u001B[43mwrong_manager_df2\u001B[49m\u001B[43m)\u001B[49m\u001B[38;5;241m.\u001B[39mshow()\n",
       "\n",
       "File \u001B[0;32m/databricks/spark/python/pyspark/instrumentation_utils.py:48\u001B[0m, in \u001B[0;36m_wrap_function.<locals>.wrapper\u001B[0;34m(*args, **kwargs)\u001B[0m\n",
       "\u001B[1;32m     46\u001B[0m start \u001B[38;5;241m=\u001B[39m time\u001B[38;5;241m.\u001B[39mperf_counter()\n",
       "\u001B[1;32m     47\u001B[0m \u001B[38;5;28;01mtry\u001B[39;00m:\n",
       "\u001B[0;32m---> 48\u001B[0m     res \u001B[38;5;241m=\u001B[39m \u001B[43mfunc\u001B[49m\u001B[43m(\u001B[49m\u001B[38;5;241;43m*\u001B[39;49m\u001B[43margs\u001B[49m\u001B[43m,\u001B[49m\u001B[43m \u001B[49m\u001B[38;5;241;43m*\u001B[39;49m\u001B[38;5;241;43m*\u001B[39;49m\u001B[43mkwargs\u001B[49m\u001B[43m)\u001B[49m\n",
       "\u001B[1;32m     49\u001B[0m     logger\u001B[38;5;241m.\u001B[39mlog_success(\n",
       "\u001B[1;32m     50\u001B[0m         module_name, class_name, function_name, time\u001B[38;5;241m.\u001B[39mperf_counter() \u001B[38;5;241m-\u001B[39m start, signature\n",
       "\u001B[1;32m     51\u001B[0m     )\n",
       "\u001B[1;32m     52\u001B[0m     \u001B[38;5;28;01mreturn\u001B[39;00m res\n",
       "\n",
       "File \u001B[0;32m/databricks/spark/python/pyspark/sql/dataframe.py:3738\u001B[0m, in \u001B[0;36mDataFrame.unionByName\u001B[0;34m(self, other, allowMissingColumns)\u001B[0m\n",
       "\u001B[1;32m   3682\u001B[0m \u001B[38;5;28;01mdef\u001B[39;00m \u001B[38;5;21munionByName\u001B[39m(\u001B[38;5;28mself\u001B[39m, other: \u001B[38;5;124m\"\u001B[39m\u001B[38;5;124mDataFrame\u001B[39m\u001B[38;5;124m\"\u001B[39m, allowMissingColumns: \u001B[38;5;28mbool\u001B[39m \u001B[38;5;241m=\u001B[39m \u001B[38;5;28;01mFalse\u001B[39;00m) \u001B[38;5;241m-\u001B[39m\u001B[38;5;241m>\u001B[39m \u001B[38;5;124m\"\u001B[39m\u001B[38;5;124mDataFrame\u001B[39m\u001B[38;5;124m\"\u001B[39m:\n",
       "\u001B[1;32m   3683\u001B[0m     \u001B[38;5;124;03m\"\"\"Returns a new :class:`DataFrame` containing union of rows in this and another\u001B[39;00m\n",
       "\u001B[1;32m   3684\u001B[0m \u001B[38;5;124;03m    :class:`DataFrame`.\u001B[39;00m\n",
       "\u001B[1;32m   3685\u001B[0m \n",
       "\u001B[0;32m   (...)\u001B[0m\n",
       "\u001B[1;32m   3736\u001B[0m \u001B[38;5;124;03m    +----+----+----+----+\u001B[39;00m\n",
       "\u001B[1;32m   3737\u001B[0m \u001B[38;5;124;03m    \"\"\"\u001B[39;00m\n",
       "\u001B[0;32m-> 3738\u001B[0m     \u001B[38;5;28;01mreturn\u001B[39;00m DataFrame(\u001B[38;5;28;43mself\u001B[39;49m\u001B[38;5;241;43m.\u001B[39;49m\u001B[43m_jdf\u001B[49m\u001B[38;5;241;43m.\u001B[39;49m\u001B[43munionByName\u001B[49m\u001B[43m(\u001B[49m\u001B[43mother\u001B[49m\u001B[38;5;241;43m.\u001B[39;49m\u001B[43m_jdf\u001B[49m\u001B[43m,\u001B[49m\u001B[43m \u001B[49m\u001B[43mallowMissingColumns\u001B[49m\u001B[43m)\u001B[49m, \u001B[38;5;28mself\u001B[39m\u001B[38;5;241m.\u001B[39msparkSession)\n",
       "\n",
       "File \u001B[0;32m/databricks/spark/python/lib/py4j-0.10.9.5-src.zip/py4j/java_gateway.py:1321\u001B[0m, in \u001B[0;36mJavaMember.__call__\u001B[0;34m(self, *args)\u001B[0m\n",
       "\u001B[1;32m   1315\u001B[0m command \u001B[38;5;241m=\u001B[39m proto\u001B[38;5;241m.\u001B[39mCALL_COMMAND_NAME \u001B[38;5;241m+\u001B[39m\\\n",
       "\u001B[1;32m   1316\u001B[0m     \u001B[38;5;28mself\u001B[39m\u001B[38;5;241m.\u001B[39mcommand_header \u001B[38;5;241m+\u001B[39m\\\n",
       "\u001B[1;32m   1317\u001B[0m     args_command \u001B[38;5;241m+\u001B[39m\\\n",
       "\u001B[1;32m   1318\u001B[0m     proto\u001B[38;5;241m.\u001B[39mEND_COMMAND_PART\n",
       "\u001B[1;32m   1320\u001B[0m answer \u001B[38;5;241m=\u001B[39m \u001B[38;5;28mself\u001B[39m\u001B[38;5;241m.\u001B[39mgateway_client\u001B[38;5;241m.\u001B[39msend_command(command)\n",
       "\u001B[0;32m-> 1321\u001B[0m return_value \u001B[38;5;241m=\u001B[39m \u001B[43mget_return_value\u001B[49m\u001B[43m(\u001B[49m\n",
       "\u001B[1;32m   1322\u001B[0m \u001B[43m    \u001B[49m\u001B[43manswer\u001B[49m\u001B[43m,\u001B[49m\u001B[43m \u001B[49m\u001B[38;5;28;43mself\u001B[39;49m\u001B[38;5;241;43m.\u001B[39;49m\u001B[43mgateway_client\u001B[49m\u001B[43m,\u001B[49m\u001B[43m \u001B[49m\u001B[38;5;28;43mself\u001B[39;49m\u001B[38;5;241;43m.\u001B[39;49m\u001B[43mtarget_id\u001B[49m\u001B[43m,\u001B[49m\u001B[43m \u001B[49m\u001B[38;5;28;43mself\u001B[39;49m\u001B[38;5;241;43m.\u001B[39;49m\u001B[43mname\u001B[49m\u001B[43m)\u001B[49m\n",
       "\u001B[1;32m   1324\u001B[0m \u001B[38;5;28;01mfor\u001B[39;00m temp_arg \u001B[38;5;129;01min\u001B[39;00m temp_args:\n",
       "\u001B[1;32m   1325\u001B[0m     temp_arg\u001B[38;5;241m.\u001B[39m_detach()\n",
       "\n",
       "File \u001B[0;32m/databricks/spark/python/pyspark/errors/exceptions.py:234\u001B[0m, in \u001B[0;36mcapture_sql_exception.<locals>.deco\u001B[0;34m(*a, **kw)\u001B[0m\n",
       "\u001B[1;32m    230\u001B[0m converted \u001B[38;5;241m=\u001B[39m convert_exception(e\u001B[38;5;241m.\u001B[39mjava_exception)\n",
       "\u001B[1;32m    231\u001B[0m \u001B[38;5;28;01mif\u001B[39;00m \u001B[38;5;129;01mnot\u001B[39;00m \u001B[38;5;28misinstance\u001B[39m(converted, UnknownException):\n",
       "\u001B[1;32m    232\u001B[0m     \u001B[38;5;66;03m# Hide where the exception came from that shows a non-Pythonic\u001B[39;00m\n",
       "\u001B[1;32m    233\u001B[0m     \u001B[38;5;66;03m# JVM exception message.\u001B[39;00m\n",
       "\u001B[0;32m--> 234\u001B[0m     \u001B[38;5;28;01mraise\u001B[39;00m converted \u001B[38;5;28;01mfrom\u001B[39;00m \u001B[38;5;28mNone\u001B[39m\n",
       "\u001B[1;32m    235\u001B[0m \u001B[38;5;28;01melse\u001B[39;00m:\n",
       "\u001B[1;32m    236\u001B[0m     \u001B[38;5;28;01mraise\u001B[39;00m\n",
       "\n",
       "\u001B[0;31mAnalysisException\u001B[0m: Cannot resolve column name \"Name\" among (id, sal, mngr_id, Nam)."
      ]
     },
     "metadata": {
      "application/vnd.databricks.v1+output": {
       "arguments": {},
       "data": "\u001B[0;31m---------------------------------------------------------------------------\u001B[0m\n\u001B[0;31mAnalysisException\u001B[0m                         Traceback (most recent call last)\nFile \u001B[0;32m<command-1616845809871968>:1\u001B[0m\n\u001B[0;32m----> 1\u001B[0m \u001B[43mwrong_manager_df\u001B[49m\u001B[38;5;241;43m.\u001B[39;49m\u001B[43munionByName\u001B[49m\u001B[43m(\u001B[49m\u001B[43mwrong_manager_df2\u001B[49m\u001B[43m)\u001B[49m\u001B[38;5;241m.\u001B[39mshow()\n\nFile \u001B[0;32m/databricks/spark/python/pyspark/instrumentation_utils.py:48\u001B[0m, in \u001B[0;36m_wrap_function.<locals>.wrapper\u001B[0;34m(*args, **kwargs)\u001B[0m\n\u001B[1;32m     46\u001B[0m start \u001B[38;5;241m=\u001B[39m time\u001B[38;5;241m.\u001B[39mperf_counter()\n\u001B[1;32m     47\u001B[0m \u001B[38;5;28;01mtry\u001B[39;00m:\n\u001B[0;32m---> 48\u001B[0m     res \u001B[38;5;241m=\u001B[39m \u001B[43mfunc\u001B[49m\u001B[43m(\u001B[49m\u001B[38;5;241;43m*\u001B[39;49m\u001B[43margs\u001B[49m\u001B[43m,\u001B[49m\u001B[43m \u001B[49m\u001B[38;5;241;43m*\u001B[39;49m\u001B[38;5;241;43m*\u001B[39;49m\u001B[43mkwargs\u001B[49m\u001B[43m)\u001B[49m\n\u001B[1;32m     49\u001B[0m     logger\u001B[38;5;241m.\u001B[39mlog_success(\n\u001B[1;32m     50\u001B[0m         module_name, class_name, function_name, time\u001B[38;5;241m.\u001B[39mperf_counter() \u001B[38;5;241m-\u001B[39m start, signature\n\u001B[1;32m     51\u001B[0m     )\n\u001B[1;32m     52\u001B[0m     \u001B[38;5;28;01mreturn\u001B[39;00m res\n\nFile \u001B[0;32m/databricks/spark/python/pyspark/sql/dataframe.py:3738\u001B[0m, in \u001B[0;36mDataFrame.unionByName\u001B[0;34m(self, other, allowMissingColumns)\u001B[0m\n\u001B[1;32m   3682\u001B[0m \u001B[38;5;28;01mdef\u001B[39;00m \u001B[38;5;21munionByName\u001B[39m(\u001B[38;5;28mself\u001B[39m, other: \u001B[38;5;124m\"\u001B[39m\u001B[38;5;124mDataFrame\u001B[39m\u001B[38;5;124m\"\u001B[39m, allowMissingColumns: \u001B[38;5;28mbool\u001B[39m \u001B[38;5;241m=\u001B[39m \u001B[38;5;28;01mFalse\u001B[39;00m) \u001B[38;5;241m-\u001B[39m\u001B[38;5;241m>\u001B[39m \u001B[38;5;124m\"\u001B[39m\u001B[38;5;124mDataFrame\u001B[39m\u001B[38;5;124m\"\u001B[39m:\n\u001B[1;32m   3683\u001B[0m     \u001B[38;5;124;03m\"\"\"Returns a new :class:`DataFrame` containing union of rows in this and another\u001B[39;00m\n\u001B[1;32m   3684\u001B[0m \u001B[38;5;124;03m    :class:`DataFrame`.\u001B[39;00m\n\u001B[1;32m   3685\u001B[0m \n\u001B[0;32m   (...)\u001B[0m\n\u001B[1;32m   3736\u001B[0m \u001B[38;5;124;03m    +----+----+----+----+\u001B[39;00m\n\u001B[1;32m   3737\u001B[0m \u001B[38;5;124;03m    \"\"\"\u001B[39;00m\n\u001B[0;32m-> 3738\u001B[0m     \u001B[38;5;28;01mreturn\u001B[39;00m DataFrame(\u001B[38;5;28;43mself\u001B[39;49m\u001B[38;5;241;43m.\u001B[39;49m\u001B[43m_jdf\u001B[49m\u001B[38;5;241;43m.\u001B[39;49m\u001B[43munionByName\u001B[49m\u001B[43m(\u001B[49m\u001B[43mother\u001B[49m\u001B[38;5;241;43m.\u001B[39;49m\u001B[43m_jdf\u001B[49m\u001B[43m,\u001B[49m\u001B[43m \u001B[49m\u001B[43mallowMissingColumns\u001B[49m\u001B[43m)\u001B[49m, \u001B[38;5;28mself\u001B[39m\u001B[38;5;241m.\u001B[39msparkSession)\n\nFile \u001B[0;32m/databricks/spark/python/lib/py4j-0.10.9.5-src.zip/py4j/java_gateway.py:1321\u001B[0m, in \u001B[0;36mJavaMember.__call__\u001B[0;34m(self, *args)\u001B[0m\n\u001B[1;32m   1315\u001B[0m command \u001B[38;5;241m=\u001B[39m proto\u001B[38;5;241m.\u001B[39mCALL_COMMAND_NAME \u001B[38;5;241m+\u001B[39m\\\n\u001B[1;32m   1316\u001B[0m     \u001B[38;5;28mself\u001B[39m\u001B[38;5;241m.\u001B[39mcommand_header \u001B[38;5;241m+\u001B[39m\\\n\u001B[1;32m   1317\u001B[0m     args_command \u001B[38;5;241m+\u001B[39m\\\n\u001B[1;32m   1318\u001B[0m     proto\u001B[38;5;241m.\u001B[39mEND_COMMAND_PART\n\u001B[1;32m   1320\u001B[0m answer \u001B[38;5;241m=\u001B[39m \u001B[38;5;28mself\u001B[39m\u001B[38;5;241m.\u001B[39mgateway_client\u001B[38;5;241m.\u001B[39msend_command(command)\n\u001B[0;32m-> 1321\u001B[0m return_value \u001B[38;5;241m=\u001B[39m \u001B[43mget_return_value\u001B[49m\u001B[43m(\u001B[49m\n\u001B[1;32m   1322\u001B[0m \u001B[43m    \u001B[49m\u001B[43manswer\u001B[49m\u001B[43m,\u001B[49m\u001B[43m \u001B[49m\u001B[38;5;28;43mself\u001B[39;49m\u001B[38;5;241;43m.\u001B[39;49m\u001B[43mgateway_client\u001B[49m\u001B[43m,\u001B[49m\u001B[43m \u001B[49m\u001B[38;5;28;43mself\u001B[39;49m\u001B[38;5;241;43m.\u001B[39;49m\u001B[43mtarget_id\u001B[49m\u001B[43m,\u001B[49m\u001B[43m \u001B[49m\u001B[38;5;28;43mself\u001B[39;49m\u001B[38;5;241;43m.\u001B[39;49m\u001B[43mname\u001B[49m\u001B[43m)\u001B[49m\n\u001B[1;32m   1324\u001B[0m \u001B[38;5;28;01mfor\u001B[39;00m temp_arg \u001B[38;5;129;01min\u001B[39;00m temp_args:\n\u001B[1;32m   1325\u001B[0m     temp_arg\u001B[38;5;241m.\u001B[39m_detach()\n\nFile \u001B[0;32m/databricks/spark/python/pyspark/errors/exceptions.py:234\u001B[0m, in \u001B[0;36mcapture_sql_exception.<locals>.deco\u001B[0;34m(*a, **kw)\u001B[0m\n\u001B[1;32m    230\u001B[0m converted \u001B[38;5;241m=\u001B[39m convert_exception(e\u001B[38;5;241m.\u001B[39mjava_exception)\n\u001B[1;32m    231\u001B[0m \u001B[38;5;28;01mif\u001B[39;00m \u001B[38;5;129;01mnot\u001B[39;00m \u001B[38;5;28misinstance\u001B[39m(converted, UnknownException):\n\u001B[1;32m    232\u001B[0m     \u001B[38;5;66;03m# Hide where the exception came from that shows a non-Pythonic\u001B[39;00m\n\u001B[1;32m    233\u001B[0m     \u001B[38;5;66;03m# JVM exception message.\u001B[39;00m\n\u001B[0;32m--> 234\u001B[0m     \u001B[38;5;28;01mraise\u001B[39;00m converted \u001B[38;5;28;01mfrom\u001B[39;00m \u001B[38;5;28mNone\u001B[39m\n\u001B[1;32m    235\u001B[0m \u001B[38;5;28;01melse\u001B[39;00m:\n\u001B[1;32m    236\u001B[0m     \u001B[38;5;28;01mraise\u001B[39;00m\n\n\u001B[0;31mAnalysisException\u001B[0m: Cannot resolve column name \"Name\" among (id, sal, mngr_id, Nam).",
       "errorSummary": "<span class='ansi-red-fg'>AnalysisException</span>: Cannot resolve column name \"Name\" among (id, sal, mngr_id, Nam).",
       "errorTraceType": "ansi",
       "metadata": {},
       "type": "ipynbError"
      }
     },
     "output_type": "display_data"
    }
   ],
   "source": [
    "wrong_manager_df.unionByName(wrong_manager_df2).show()"
   ]
  },
  {
   "cell_type": "markdown",
   "metadata": {
    "application/vnd.databricks.v1+cell": {
     "cellMetadata": {},
     "inputWidgets": {},
     "nuid": "c707339e-3db5-4d9e-b513-66dbe2df3ba5",
     "showTitle": false,
     "tableResultSettingsMap": {},
     "title": ""
    }
   },
   "source": [
    "#***if else in pyspark***"
   ]
  },
  {
   "cell_type": "code",
   "execution_count": 0,
   "metadata": {
    "application/vnd.databricks.v1+cell": {
     "cellMetadata": {
      "byteLimit": 2048000,
      "rowLimit": 10000
     },
     "inputWidgets": {},
     "nuid": "9c6899f0-47ee-4586-85ad-efaa55ab5012",
     "showTitle": false,
     "tableResultSettingsMap": {},
     "title": ""
    }
   },
   "outputs": [
    {
     "output_type": "stream",
     "name": "stdout",
     "output_type": "stream",
     "text": [
      "+----+-------+----+------+-------+-----------+\n|  id|   name| age|salary|country|       dept|\n+----+-------+----+------+-------+-----------+\n|   1| manish|  26| 20000|  india|         IT|\n|   2|  rahul|null| 40000|germany|engineering|\n|   3|  pawan|  12| 60000|  india|      sales|\n|   4|roshini|  44|  null|     uk|engineering|\n|   5|raushan|  35| 70000|  india|      sales|\n|   6|   null|  29|200000|     uk|         IT|\n|   7|   adam|  37| 65000|     us|         IT|\n|   8|  chris|  16| 40000|     us|      sales|\n|null|   null|null|  null|   null|       null|\n|   7|   adam|  37| 65000|     us|         IT|\n+----+-------+----+------+-------+-----------+\n\n"
     ]
    }
   ],
   "source": [
    "emp_data = [\n",
    "(1,'manish',26,20000,'india','IT'),\n",
    "(2,'rahul',None,40000,'germany','engineering'),\n",
    "(3,'pawan',12,60000,'india','sales'),\n",
    "(4,'roshini',44,None,'uk','engineering'),\n",
    "(5,'raushan',35,70000,'india','sales'),\n",
    "(6,None,29,200000,'uk','IT'),\n",
    "(7,'adam',37,65000,'us','IT'),\n",
    "(8,'chris',16,40000,'us','sales'),\n",
    "(None,None,None,None,None,None),\n",
    "(7,'adam',37,65000,'us','IT')\n",
    "]\n",
    "\n",
    "\n",
    "wrong_schema=[\"id\",\"name\",\"age\",\"salary\",\"country\",\"dept\"]\n",
    "\n",
    "emp_df=spark.createDataFrame(data=emp_data, schema=wrong_schema)\n",
    "\n",
    "# Show the DataFrame\n",
    "emp_df.show()\n"
   ]
  },
  {
   "cell_type": "code",
   "execution_count": 0,
   "metadata": {
    "application/vnd.databricks.v1+cell": {
     "cellMetadata": {
      "byteLimit": 2048000,
      "rowLimit": 10000
     },
     "inputWidgets": {},
     "nuid": "cdfd6ca8-ea77-4cda-bbc7-a507a1bb284f",
     "showTitle": false,
     "tableResultSettingsMap": {},
     "title": ""
    }
   },
   "outputs": [],
   "source": [
    "emp_df.createOrReplaceTempView(\"table\")"
   ]
  },
  {
   "cell_type": "code",
   "execution_count": 0,
   "metadata": {
    "application/vnd.databricks.v1+cell": {
     "cellMetadata": {
      "byteLimit": 2048000,
      "rowLimit": 10000
     },
     "inputWidgets": {},
     "nuid": "bba7a520-cd0b-4960-b823-bfdf8056c964",
     "showTitle": false,
     "tableResultSettingsMap": {},
     "title": ""
    }
   },
   "outputs": [
    {
     "output_type": "stream",
     "name": "stdout",
     "output_type": "stream",
     "text": [
      "+----+-------+----+------+-------+-----------+-------+\n|  id|   name| age|salary|country|       dept|  adult|\n+----+-------+----+------+-------+-----------+-------+\n|   1| manish|  26| 20000|  india|         IT|    Yes|\n|   2|  rahul|null| 40000|germany|engineering|Novalue|\n|   3|  pawan|  12| 60000|  india|      sales|     No|\n|   4|roshini|  44|  null|     uk|engineering|    Yes|\n|   5|raushan|  35| 70000|  india|      sales|    Yes|\n|   6|   null|  29|200000|     uk|         IT|    Yes|\n|   7|   adam|  37| 65000|     us|         IT|    Yes|\n|   8|  chris|  16| 40000|     us|      sales|     No|\n|null|   null|null|  null|   null|       null|Novalue|\n|   7|   adam|  37| 65000|     us|         IT|    Yes|\n+----+-------+----+------+-------+-----------+-------+\n\n"
     ]
    }
   ],
   "source": [
    "emp_df.withColumn(\"adult\",when(col(\"age\")<18 , \"No\")\n",
    "                            .when(col(\"age\")>18, \"Yes\")\n",
    "                            .otherwise(\"Novalue\")).show()"
   ]
  },
  {
   "cell_type": "code",
   "execution_count": 0,
   "metadata": {
    "application/vnd.databricks.v1+cell": {
     "cellMetadata": {
      "byteLimit": 2048000,
      "rowLimit": 10000
     },
     "inputWidgets": {},
     "nuid": "cb456698-a2f2-469b-8f34-75b2f35fe7ed",
     "showTitle": false,
     "tableResultSettingsMap": {},
     "title": ""
    }
   },
   "outputs": [
    {
     "output_type": "stream",
     "name": "stdout",
     "output_type": "stream",
     "text": [
      "+----+-------+---+------+-------+-----------+-----+\n|  id|   name|age|salary|country|       dept|adult|\n+----+-------+---+------+-------+-----------+-----+\n|   1| manish| 26| 20000|  india|         IT|  Yes|\n|   2|  rahul| 19| 40000|germany|engineering|  Yes|\n|   3|  pawan| 12| 60000|  india|      sales|   No|\n|   4|roshini| 44|  null|     uk|engineering|  Yes|\n|   5|raushan| 35| 70000|  india|      sales|  Yes|\n|   6|   null| 29|200000|     uk|         IT|  Yes|\n|   7|   adam| 37| 65000|     us|         IT|  Yes|\n|   8|  chris| 16| 40000|     us|      sales|   No|\n|null|   null| 19|  null|   null|       null|  Yes|\n|   7|   adam| 37| 65000|     us|         IT|  Yes|\n+----+-------+---+------+-------+-----------+-----+\n\n"
     ]
    }
   ],
   "source": [
    "emp_df.withColumn(\"age\",when(col(\"age\").isNull(),lit(19))\n",
    "                  .otherwise(col(\"age\")))\\\n",
    "        .withColumn(\"adult\",when(col(\"age\")>18,\"Yes\")\n",
    "                    .otherwise(\"No\")).show()"
   ]
  },
  {
   "cell_type": "code",
   "execution_count": 0,
   "metadata": {
    "application/vnd.databricks.v1+cell": {
     "cellMetadata": {
      "byteLimit": 2048000,
      "rowLimit": 10000
     },
     "inputWidgets": {},
     "nuid": "787e7010-239b-4f58-b506-d17b606265a3",
     "showTitle": false,
     "tableResultSettingsMap": {},
     "title": ""
    }
   },
   "outputs": [
    {
     "output_type": "stream",
     "name": "stdout",
     "output_type": "stream",
     "text": [
      "+----+-------+---+------+-------+-----------+-----+\n|  id|   name|age|salary|country|       dept|adult|\n+----+-------+---+------+-------+-----------+-----+\n|   1| manish| 26| 20000|  india|         IT|  Yes|\n|   2|  rahul| 19| 40000|germany|engineering|  Yes|\n|   3|  pawan| 12| 60000|  india|      sales|   No|\n|   4|roshini| 44|  null|     uk|engineering|  Yes|\n|   5|raushan| 35| 70000|  india|      sales|  Yes|\n|   6|   null| 29|200000|     uk|         IT|  Yes|\n|   7|   adam| 37| 65000|     us|         IT|  Yes|\n|   8|  chris| 16| 40000|     us|      sales|   No|\n|null|   null| 19|  null|   null|       null|  Yes|\n|   7|   adam| 37| 65000|     us|         IT|  Yes|\n+----+-------+---+------+-------+-----------+-----+\n\n"
     ]
    }
   ],
   "source": [
    "# poe chatbord\n",
    "emp_df.withColumn(\n",
    "        \"age\", when(col(\"age\").isNull(), lit(19)).otherwise(col(\"age\"))\n",
    "    ).withColumn(\n",
    "        \"adult\", when(col(\"age\") > 18, \"Yes\").otherwise(\"No\")\n",
    "    ).show()"
   ]
  },
  {
   "cell_type": "code",
   "execution_count": 0,
   "metadata": {
    "application/vnd.databricks.v1+cell": {
     "cellMetadata": {
      "byteLimit": 2048000,
      "rowLimit": 10000
     },
     "inputWidgets": {},
     "nuid": "31eae170-8946-4145-8206-8521a0596e19",
     "showTitle": false,
     "tableResultSettingsMap": {},
     "title": ""
    }
   },
   "outputs": [
    {
     "output_type": "stream",
     "name": "stdout",
     "output_type": "stream",
     "text": [
      "+----+-------+----+------+-------+-----------+--------+\n|  id|   name| age|salary|country|       dept|age_wise|\n+----+-------+----+------+-------+-----------+--------+\n|   1| manish|  26| 20000|  india|         IT|     Mid|\n|   2|  rahul|null| 40000|germany|engineering|   Major|\n|   3|  pawan|  12| 60000|  india|      sales|   Major|\n|   4|roshini|  44|  null|     uk|engineering|   Major|\n|   5|raushan|  35| 70000|  india|      sales|   Major|\n|   6|   null|  29|200000|     uk|         IT|     Mid|\n|   7|   adam|  37| 65000|     us|         IT|   Major|\n|   8|  chris|  16| 40000|     us|      sales|   Major|\n|null|   null|null|  null|   null|       null|   Major|\n|   7|   adam|  37| 65000|     us|         IT|   Major|\n+----+-------+----+------+-------+-----------+--------+\n\n"
     ]
    }
   ],
   "source": [
    "emp_df.withColumn(\"age_wise\",when((col(\"age\")>0) & (col     \n",
    "                    (\"age\")<10), \"Minor\")\n",
    "        .when((col(\"age\")>18) & (col(\"age\")<30) , \"Mid\")\n",
    "        .otherwise(\"Major\"))\\\n",
    "        .show()"
   ]
  },
  {
   "cell_type": "markdown",
   "metadata": {
    "application/vnd.databricks.v1+cell": {
     "cellMetadata": {},
     "inputWidgets": {},
     "nuid": "1dd77d99-fc50-41e1-975d-cf2edfb1250c",
     "showTitle": false,
     "tableResultSettingsMap": {},
     "title": ""
    }
   },
   "source": [
    "scala code"
   ]
  },
  {
   "cell_type": "code",
   "execution_count": 0,
   "metadata": {
    "application/vnd.databricks.v1+cell": {
     "cellMetadata": {
      "byteLimit": 2048000,
      "rowLimit": 10000
     },
     "inputWidgets": {},
     "nuid": "6afeee5b-3343-48fb-bf8c-1ea3427deaf0",
     "showTitle": false,
     "tableResultSettingsMap": {},
     "title": ""
    }
   },
   "outputs": [
    {
     "output_type": "display_data",
     "data": {
      "text/html": [
       "<style scoped>\n",
       "  .ansiout {\n",
       "    display: block;\n",
       "    unicode-bidi: embed;\n",
       "    white-space: pre-wrap;\n",
       "    word-wrap: break-word;\n",
       "    word-break: break-all;\n",
       "    font-family: \"Menlo\", \"Monaco\", \"Consolas\", \"Ubuntu Mono\", \"Source Code Pro\", monospace;\n",
       "    font-size: 13px;\n",
       "    color: #555;\n",
       "    margin-left: 4px;\n",
       "    line-height: 19px;\n",
       "  }\n",
       "</style>\n",
       "<div class=\"ansiout\">+---+-------+---+------+-------+-----------+\n",
       " id|   name|age|salary|country|       dept|\n",
       "+---+-------+---+------+-------+-----------+\n",
       "  1| manish| 26| 20000|  india|         IT|\n",
       "  2|  rahul|  0| 40000|germany|engineering|\n",
       "  3|  pawan| 12| 60000|  india|      sales|\n",
       "  4|roshini| 44|     0|     uk|engineering|\n",
       "  5|raushan| 35| 70000|  india|      sales|\n",
       "  6|   null| 29|200000|     uk|         IT|\n",
       "  7|   adam| 37| 65000|     us|         IT|\n",
       "  8|  chris| 16| 40000|     us|      sales|\n",
       "  0|   null|  0|     0|   null|       null|\n",
       "  7|   adam| 37| 65000|     us|         IT|\n",
       "+---+-------+---+------+-------+-----------+\n",
       "\n",
       "+---+-------+---+------+-------+-----------+-----+\n",
       " id|   name|age|salary|country|       dept|adult|\n",
       "+---+-------+---+------+-------+-----------+-----+\n",
       "  1| manish| 26| 20000|  india|         IT|  Yes|\n",
       "  2|  rahul|  0| 40000|germany|engineering|   No|\n",
       "  3|  pawan| 12| 60000|  india|      sales|   No|\n",
       "  4|roshini| 44|     0|     uk|engineering|  Yes|\n",
       "  5|raushan| 35| 70000|  india|      sales|  Yes|\n",
       "  6|   null| 29|200000|     uk|         IT|  Yes|\n",
       "  7|   adam| 37| 65000|     us|         IT|  Yes|\n",
       "  8|  chris| 16| 40000|     us|      sales|   No|\n",
       "  0|   null|  0|     0|   null|       null|   No|\n",
       "  7|   adam| 37| 65000|     us|         IT|  Yes|\n",
       "+---+-------+---+------+-------+-----------+-----+\n",
       "\n",
       "import org.apache.spark.sql.SparkSession\n",
       "import org.apache.spark.sql.functions.{col, when}\n",
       "import org.apache.spark.sql.Row\n",
       "import org.apache.spark.sql.types.{StructType, StructField, IntegerType, StringType}\n",
       "spark: org.apache.spark.sql.SparkSession = org.apache.spark.sql.SparkSession@2d382cb4\n",
       "emp_data: Seq[(Int, String, Int, Int, String, String)] = List((1,manish,26,20000,india,IT), (2,rahul,0,40000,germany,engineering), (3,pawan,12,60000,india,sales), (4,roshini,44,0,uk,engineering), (5,raushan,35,70000,india,sales), (6,null,29,200000,uk,IT), (7,adam,37,65000,us,IT), (8,chris,16,40000,us,sales), (0,null,0,0,null,null), (7,adam,37,65000,us,IT))\n",
       "wrong_schema: org.apache.spark.sql.types.StructType = StructType(StructField(id,IntegerType,true),StructField(name,StringType,true),StructField(age,IntegerType,true),StructField(salary,IntegerType,true),StructField(country,StringType,true),StructField(dept,StringType,true))\n",
       "emp_df: org.apache.spark.sql.DataFrame = [id: int, name: string ... 4 more fields]\n",
       "</div>"
      ]
     },
     "metadata": {
      "application/vnd.databricks.v1+output": {
       "addedWidgets": {},
       "arguments": {},
       "data": "<div class=\"ansiout\">+---+-------+---+------+-------+-----------+\n| id|   name|age|salary|country|       dept|\n+---+-------+---+------+-------+-----------+\n|  1| manish| 26| 20000|  india|         IT|\n|  2|  rahul|  0| 40000|germany|engineering|\n|  3|  pawan| 12| 60000|  india|      sales|\n|  4|roshini| 44|     0|     uk|engineering|\n|  5|raushan| 35| 70000|  india|      sales|\n|  6|   null| 29|200000|     uk|         IT|\n|  7|   adam| 37| 65000|     us|         IT|\n|  8|  chris| 16| 40000|     us|      sales|\n|  0|   null|  0|     0|   null|       null|\n|  7|   adam| 37| 65000|     us|         IT|\n+---+-------+---+------+-------+-----------+\n\n+---+-------+---+------+-------+-----------+-----+\n| id|   name|age|salary|country|       dept|adult|\n+---+-------+---+------+-------+-----------+-----+\n|  1| manish| 26| 20000|  india|         IT|  Yes|\n|  2|  rahul|  0| 40000|germany|engineering|   No|\n|  3|  pawan| 12| 60000|  india|      sales|   No|\n|  4|roshini| 44|     0|     uk|engineering|  Yes|\n|  5|raushan| 35| 70000|  india|      sales|  Yes|\n|  6|   null| 29|200000|     uk|         IT|  Yes|\n|  7|   adam| 37| 65000|     us|         IT|  Yes|\n|  8|  chris| 16| 40000|     us|      sales|   No|\n|  0|   null|  0|     0|   null|       null|   No|\n|  7|   adam| 37| 65000|     us|         IT|  Yes|\n+---+-------+---+------+-------+-----------+-----+\n\nimport org.apache.spark.sql.SparkSession\nimport org.apache.spark.sql.functions.{col, when}\nimport org.apache.spark.sql.Row\nimport org.apache.spark.sql.types.{StructType, StructField, IntegerType, StringType}\nspark: org.apache.spark.sql.SparkSession = org.apache.spark.sql.SparkSession@2d382cb4\nemp_data: Seq[(Int, String, Int, Int, String, String)] = List((1,manish,26,20000,india,IT), (2,rahul,0,40000,germany,engineering), (3,pawan,12,60000,india,sales), (4,roshini,44,0,uk,engineering), (5,raushan,35,70000,india,sales), (6,null,29,200000,uk,IT), (7,adam,37,65000,us,IT), (8,chris,16,40000,us,sales), (0,null,0,0,null,null), (7,adam,37,65000,us,IT))\nwrong_schema: org.apache.spark.sql.types.StructType = StructType(StructField(id,IntegerType,true),StructField(name,StringType,true),StructField(age,IntegerType,true),StructField(salary,IntegerType,true),StructField(country,StringType,true),StructField(dept,StringType,true))\nemp_df: org.apache.spark.sql.DataFrame = [id: int, name: string ... 4 more fields]\n</div>",
       "datasetInfos": [
        {
         "name": "emp_df",
         "schema": {
          "fields": [
           {
            "metadata": {},
            "name": "id",
            "nullable": true,
            "type": "integer"
           },
           {
            "metadata": {},
            "name": "name",
            "nullable": true,
            "type": "string"
           },
           {
            "metadata": {},
            "name": "age",
            "nullable": true,
            "type": "integer"
           },
           {
            "metadata": {},
            "name": "salary",
            "nullable": true,
            "type": "integer"
           },
           {
            "metadata": {},
            "name": "country",
            "nullable": true,
            "type": "string"
           },
           {
            "metadata": {},
            "name": "dept",
            "nullable": true,
            "type": "string"
           }
          ],
          "type": "struct"
         },
         "tableIdentifier": null,
         "typeStr": "org.apache.spark.sql.DataFrame"
        }
       ],
       "metadata": {
        "isDbfsCommandResult": false
       },
       "removedWidgets": [],
       "type": "html"
      }
     },
     "output_type": "display_data"
    }
   ],
   "source": [
    "%scala\n",
    "import org.apache.spark.sql.SparkSession\n",
    "import org.apache.spark.sql.functions.{col, when}\n",
    "import org.apache.spark.sql.Row\n",
    "import org.apache.spark.sql.types.{StructType, StructField, IntegerType, StringType}\n",
    "\n",
    "val spark = SparkSession.builder.appName(\"Example\").getOrCreate()\n",
    "\n",
    "// Define the data\n",
    "val emp_data = Seq(\n",
    "  (1, \"manish\", 26, 20000, \"india\", \"IT\"),\n",
    "  (2, \"rahul\", null.asInstanceOf[Int], 40000, \"germany\", \"engineering\"),\n",
    "  (3, \"pawan\", 12, 60000, \"india\", \"sales\"),\n",
    "  (4, \"roshini\", 44, null.asInstanceOf[Int], \"uk\", \"engineering\"),\n",
    "  (5, \"raushan\", 35, 70000, \"india\", \"sales\"),\n",
    "  (6, null.asInstanceOf[String], 29, 200000, \"uk\", \"IT\"),\n",
    "  (7, \"adam\", 37, 65000, \"us\", \"IT\"),\n",
    "  (8, \"chris\", 16, 40000, \"us\", \"sales\"),\n",
    "  (null.asInstanceOf[Int], null.asInstanceOf[String], null.asInstanceOf[Int], null.asInstanceOf[Int], null.asInstanceOf[String], null.asInstanceOf[String]),\n",
    "  (7, \"adam\", 37, 65000, \"us\", \"IT\")\n",
    ")\n",
    "\n",
    "// Define the schema\n",
    "val wrong_schema = StructType(Array(\n",
    "  StructField(\"id\", IntegerType, nullable = true),\n",
    "  StructField(\"name\", StringType, nullable = true),\n",
    "  StructField(\"age\", IntegerType, nullable = true),\n",
    "  StructField(\"salary\", IntegerType, nullable = true),\n",
    "  StructField(\"country\", StringType, nullable = true),\n",
    "  StructField(\"dept\", StringType, nullable = true)\n",
    "))\n",
    "\n",
    "// Create the DataFrame\n",
    "val emp_df = spark.createDataFrame(spark.sparkContext.parallelize(emp_data.map(Row.fromTuple)), wrong_schema)\n",
    "\n",
    "// Show the DataFrame\n",
    "emp_df.show()\n",
    "\n",
    "// Create a temporary view for SQL queries\n",
    "emp_df.createOrReplaceTempView(\"table\")\n",
    "\n",
    "// Add a new column \"adult\" based on age\n",
    "emp_df.withColumn(\"adult\", when(col(\"age\") < 18, \"No\")\n",
    "  .when(col(\"age\") > 18, \"Yes\")\n",
    "  .otherwise(\"Novalue\"))\n",
    "  .show()\n"
   ]
  },
  {
   "cell_type": "markdown",
   "metadata": {
    "application/vnd.databricks.v1+cell": {
     "cellMetadata": {},
     "inputWidgets": {},
     "nuid": "a0f4c722-35e9-4074-a062-1e633723be92",
     "showTitle": false,
     "tableResultSettingsMap": {},
     "title": ""
    }
   },
   "source": [
    "spark sql code"
   ]
  },
  {
   "cell_type": "code",
   "execution_count": 0,
   "metadata": {
    "application/vnd.databricks.v1+cell": {
     "cellMetadata": {
      "byteLimit": 2048000,
      "rowLimit": 10000
     },
     "inputWidgets": {},
     "nuid": "cb67fed7-dbbd-4354-bbb8-5b6f9d77c5de",
     "showTitle": false,
     "tableResultSettingsMap": {},
     "title": ""
    }
   },
   "outputs": [
    {
     "output_type": "stream",
     "name": "stdout",
     "output_type": "stream",
     "text": [
      "+----+-------+----+------+-------+-----------+-------+\n|  id|   name| age|salary|country|       dept|  adult|\n+----+-------+----+------+-------+-----------+-------+\n|   1| manish|  26| 20000|  india|         IT|  major|\n|   2|  rahul|null| 40000|germany|engineering|novalue|\n|   3|  pawan|  12| 60000|  india|      sales|  minor|\n|   4|roshini|  44|  null|     uk|engineering|  major|\n|   5|raushan|  35| 70000|  india|      sales|  major|\n|   6|   null|  29|200000|     uk|         IT|  major|\n|   7|   adam|  37| 65000|     us|         IT|  major|\n|   8|  chris|  16| 40000|     us|      sales|  minor|\n|null|   null|null|  null|   null|       null|novalue|\n|   7|   adam|  37| 65000|     us|         IT|  major|\n+----+-------+----+------+-------+-----------+-------+\n\n"
     ]
    }
   ],
   "source": [
    "spark.sql(\"\"\"\n",
    "          \n",
    "          select * ,\n",
    "          case when age<18 then \"minor\"\n",
    "          when age>18 then \"major\"\n",
    "          else \"novalue\"\n",
    "          end as adult\n",
    "\n",
    "          from table\n",
    "          \n",
    "          \"\"\").show()"
   ]
  },
  {
   "cell_type": "markdown",
   "metadata": {
    "application/vnd.databricks.v1+cell": {
     "cellMetadata": {},
     "inputWidgets": {},
     "nuid": "14156b61-dc44-45bf-8bb2-dac37b3edd8b",
     "showTitle": false,
     "tableResultSettingsMap": {},
     "title": ""
    }
   },
   "source": [
    "#***Unique & sorted records with python***"
   ]
  },
  {
   "cell_type": "code",
   "execution_count": 0,
   "metadata": {
    "application/vnd.databricks.v1+cell": {
     "cellMetadata": {
      "byteLimit": 2048000,
      "rowLimit": 10000
     },
     "inputWidgets": {},
     "nuid": "7a379a62-8d0c-4ce5-8416-4099b4f8744e",
     "showTitle": false,
     "tableResultSettingsMap": {},
     "title": ""
    }
   },
   "outputs": [
    {
     "output_type": "stream",
     "name": "stdout",
     "output_type": "stream",
     "text": [
      "+---+------+-----+-------+\n| id|  Name|  sal|mngr_id|\n+---+------+-----+-------+\n| 10|  Anil|50000|     18|\n| 11| Vikas|75000|     16|\n| 12| Nisha|40000|     18|\n| 13| Nidhi|60000|     17|\n| 14| Priya|80000|     18|\n| 15| Mohit|45000|     18|\n| 16|Rajesh|90000|     10|\n| 17| Raman|55000|     16|\n| 18|   Sam|65000|     17|\n| 15| Mohit|45000|     18|\n| 13| Nidhi|60000|     17|\n| 14| Priya|90000|     18|\n| 18|   Sam|65000|     17|\n+---+------+-----+-------+\n\n"
     ]
    }
   ],
   "source": [
    "\n",
    "data=[(10 ,'Anil',50000, 18),\n",
    "(11 ,'Vikas',75000,  16),\n",
    "(12 ,'Nisha',40000,  18),\n",
    "(13 ,'Nidhi',60000,  17),\n",
    "(14 ,'Priya',80000,  18),\n",
    "(15 ,'Mohit',45000,  18),\n",
    "(16 ,'Rajesh',90000, 10),\n",
    "(17 ,'Raman',55000, 16),\n",
    "(18 ,'Sam',65000,   17),\n",
    "(15 ,'Mohit',45000,  18),\n",
    "(13 ,'Nidhi',60000,  17),      \n",
    "(14 ,'Priya',90000,  18),  \n",
    "(18 ,'Sam',65000,   17)\n",
    "     ]\n",
    "\n",
    "# Define the schema\n",
    "columns = [\"id\", \"Name\", \"sal\", \"mngr_id\"]\n",
    "\n",
    "# Create the DataFrame\n",
    "manager_df = spark.createDataFrame(data=data, schema=columns)\n",
    "\n",
    "# Show the DataFrame\n",
    "manager_df.show()"
   ]
  },
  {
   "cell_type": "code",
   "execution_count": 0,
   "metadata": {
    "application/vnd.databricks.v1+cell": {
     "cellMetadata": {
      "byteLimit": 2048000,
      "rowLimit": 10000
     },
     "inputWidgets": {},
     "nuid": "25adbe8b-b66d-4f78-8d7a-c8ddcb26ceb8",
     "showTitle": false,
     "tableResultSettingsMap": {},
     "title": ""
    }
   },
   "outputs": [
    {
     "output_type": "stream",
     "name": "stdout",
     "output_type": "stream",
     "text": [
      "root\n |-- id: long (nullable = true)\n |-- Name: string (nullable = true)\n |-- sal: long (nullable = true)\n |-- mngr_id: long (nullable = true)\n\n"
     ]
    }
   ],
   "source": [
    "manager_df.printSchema()"
   ]
  },
  {
   "cell_type": "code",
   "execution_count": 0,
   "metadata": {
    "application/vnd.databricks.v1+cell": {
     "cellMetadata": {
      "byteLimit": 2048000,
      "rowLimit": 10000
     },
     "inputWidgets": {},
     "nuid": "2e767c89-4bf5-4494-8a1f-0d08a9eabdc7",
     "showTitle": false,
     "tableResultSettingsMap": {},
     "title": ""
    }
   },
   "outputs": [
    {
     "output_type": "stream",
     "name": "stdout",
     "output_type": "stream",
     "text": [
      "Out[28]: 13"
     ]
    }
   ],
   "source": [
    "manager_df.count()"
   ]
  },
  {
   "cell_type": "code",
   "execution_count": 0,
   "metadata": {
    "application/vnd.databricks.v1+cell": {
     "cellMetadata": {
      "byteLimit": 2048000,
      "rowLimit": 10000
     },
     "inputWidgets": {},
     "nuid": "0b66c838-f2a7-4a02-b0eb-792f64324295",
     "showTitle": false,
     "tableResultSettingsMap": {},
     "title": ""
    }
   },
   "outputs": [
    {
     "output_type": "stream",
     "name": "stdout",
     "output_type": "stream",
     "text": [
      "+---+------+-----+-------+\n| id|  Name|  sal|mngr_id|\n+---+------+-----+-------+\n| 10|  Anil|50000|     18|\n| 12| Nisha|40000|     18|\n| 11| Vikas|75000|     16|\n| 13| Nidhi|60000|     17|\n| 15| Mohit|45000|     18|\n| 14| Priya|80000|     18|\n| 16|Rajesh|90000|     10|\n| 17| Raman|55000|     16|\n| 18|   Sam|65000|     17|\n| 14| Priya|90000|     18|\n+---+------+-----+-------+\n\n"
     ]
    }
   ],
   "source": [
    "manager_df.distinct().show()"
   ]
  },
  {
   "cell_type": "code",
   "execution_count": 0,
   "metadata": {
    "application/vnd.databricks.v1+cell": {
     "cellMetadata": {
      "byteLimit": 2048000,
      "rowLimit": 10000
     },
     "inputWidgets": {},
     "nuid": "ee0ba604-bdea-47c7-88fd-1506ea394618",
     "showTitle": false,
     "tableResultSettingsMap": {},
     "title": ""
    }
   },
   "outputs": [
    {
     "output_type": "stream",
     "name": "stdout",
     "output_type": "stream",
     "text": [
      "Out[27]: 10"
     ]
    }
   ],
   "source": [
    "manager_df.distinct().count()"
   ]
  },
  {
   "cell_type": "code",
   "execution_count": 0,
   "metadata": {
    "application/vnd.databricks.v1+cell": {
     "cellMetadata": {
      "byteLimit": 2048000,
      "rowLimit": 10000
     },
     "inputWidgets": {},
     "nuid": "76191228-590e-4620-bdc6-0ed6cbf3a71c",
     "showTitle": false,
     "tableResultSettingsMap": {},
     "title": ""
    }
   },
   "outputs": [
    {
     "output_type": "display_data",
     "data": {
      "text/plain": [
       "\u001B[0;31m---------------------------------------------------------------------------\u001B[0m\n",
       "\u001B[0;31mTypeError\u001B[0m                                 Traceback (most recent call last)\n",
       "File \u001B[0;32m<command-1616845809871979>:1\u001B[0m\n",
       "\u001B[0;32m----> 1\u001B[0m \u001B[43mmanager_df\u001B[49m\u001B[38;5;241;43m.\u001B[39;49m\u001B[43mdistinct\u001B[49m\u001B[43m(\u001B[49m\u001B[38;5;124;43m\"\u001B[39;49m\u001B[38;5;124;43mid\u001B[39;49m\u001B[38;5;124;43m\"\u001B[39;49m\u001B[43m,\u001B[49m\u001B[38;5;124;43m\"\u001B[39;49m\u001B[38;5;124;43mname\u001B[39;49m\u001B[38;5;124;43m\"\u001B[39;49m\u001B[43m)\u001B[49m,show()\n",
       "\n",
       "File \u001B[0;32m/databricks/spark/python/pyspark/instrumentation_utils.py:48\u001B[0m, in \u001B[0;36m_wrap_function.<locals>.wrapper\u001B[0;34m(*args, **kwargs)\u001B[0m\n",
       "\u001B[1;32m     46\u001B[0m start \u001B[38;5;241m=\u001B[39m time\u001B[38;5;241m.\u001B[39mperf_counter()\n",
       "\u001B[1;32m     47\u001B[0m \u001B[38;5;28;01mtry\u001B[39;00m:\n",
       "\u001B[0;32m---> 48\u001B[0m     res \u001B[38;5;241m=\u001B[39m \u001B[43mfunc\u001B[49m\u001B[43m(\u001B[49m\u001B[38;5;241;43m*\u001B[39;49m\u001B[43margs\u001B[49m\u001B[43m,\u001B[49m\u001B[43m \u001B[49m\u001B[38;5;241;43m*\u001B[39;49m\u001B[38;5;241;43m*\u001B[39;49m\u001B[43mkwargs\u001B[49m\u001B[43m)\u001B[49m\n",
       "\u001B[1;32m     49\u001B[0m     logger\u001B[38;5;241m.\u001B[39mlog_success(\n",
       "\u001B[1;32m     50\u001B[0m         module_name, class_name, function_name, time\u001B[38;5;241m.\u001B[39mperf_counter() \u001B[38;5;241m-\u001B[39m start, signature\n",
       "\u001B[1;32m     51\u001B[0m     )\n",
       "\u001B[1;32m     52\u001B[0m     \u001B[38;5;28;01mreturn\u001B[39;00m res\n",
       "\n",
       "\u001B[0;31mTypeError\u001B[0m: distinct() takes 1 positional argument but 3 were given"
      ]
     },
     "metadata": {
      "application/vnd.databricks.v1+output": {
       "arguments": {},
       "data": "\u001B[0;31m---------------------------------------------------------------------------\u001B[0m\n\u001B[0;31mTypeError\u001B[0m                                 Traceback (most recent call last)\nFile \u001B[0;32m<command-1616845809871979>:1\u001B[0m\n\u001B[0;32m----> 1\u001B[0m \u001B[43mmanager_df\u001B[49m\u001B[38;5;241;43m.\u001B[39;49m\u001B[43mdistinct\u001B[49m\u001B[43m(\u001B[49m\u001B[38;5;124;43m\"\u001B[39;49m\u001B[38;5;124;43mid\u001B[39;49m\u001B[38;5;124;43m\"\u001B[39;49m\u001B[43m,\u001B[49m\u001B[38;5;124;43m\"\u001B[39;49m\u001B[38;5;124;43mname\u001B[39;49m\u001B[38;5;124;43m\"\u001B[39;49m\u001B[43m)\u001B[49m,show()\n\nFile \u001B[0;32m/databricks/spark/python/pyspark/instrumentation_utils.py:48\u001B[0m, in \u001B[0;36m_wrap_function.<locals>.wrapper\u001B[0;34m(*args, **kwargs)\u001B[0m\n\u001B[1;32m     46\u001B[0m start \u001B[38;5;241m=\u001B[39m time\u001B[38;5;241m.\u001B[39mperf_counter()\n\u001B[1;32m     47\u001B[0m \u001B[38;5;28;01mtry\u001B[39;00m:\n\u001B[0;32m---> 48\u001B[0m     res \u001B[38;5;241m=\u001B[39m \u001B[43mfunc\u001B[49m\u001B[43m(\u001B[49m\u001B[38;5;241;43m*\u001B[39;49m\u001B[43margs\u001B[49m\u001B[43m,\u001B[49m\u001B[43m \u001B[49m\u001B[38;5;241;43m*\u001B[39;49m\u001B[38;5;241;43m*\u001B[39;49m\u001B[43mkwargs\u001B[49m\u001B[43m)\u001B[49m\n\u001B[1;32m     49\u001B[0m     logger\u001B[38;5;241m.\u001B[39mlog_success(\n\u001B[1;32m     50\u001B[0m         module_name, class_name, function_name, time\u001B[38;5;241m.\u001B[39mperf_counter() \u001B[38;5;241m-\u001B[39m start, signature\n\u001B[1;32m     51\u001B[0m     )\n\u001B[1;32m     52\u001B[0m     \u001B[38;5;28;01mreturn\u001B[39;00m res\n\n\u001B[0;31mTypeError\u001B[0m: distinct() takes 1 positional argument but 3 were given",
       "errorSummary": "<span class='ansi-red-fg'>TypeError</span>: distinct() takes 1 positional argument but 3 were given",
       "errorTraceType": "ansi",
       "metadata": {},
       "type": "ipynbError"
      }
     },
     "output_type": "display_data"
    }
   ],
   "source": [
    "manager_df.distinct(\"id\",\"name\"),show()"
   ]
  },
  {
   "cell_type": "code",
   "execution_count": 0,
   "metadata": {
    "application/vnd.databricks.v1+cell": {
     "cellMetadata": {
      "byteLimit": 2048000,
      "rowLimit": 10000
     },
     "inputWidgets": {},
     "nuid": "5c4f1faa-ac89-442d-935f-1d0dd9b20e04",
     "showTitle": false,
     "tableResultSettingsMap": {},
     "title": ""
    }
   },
   "outputs": [
    {
     "output_type": "stream",
     "name": "stdout",
     "output_type": "stream",
     "text": [
      "+---+------+\n| id|  name|\n+---+------+\n| 10|  Anil|\n| 11| Vikas|\n| 12| Nisha|\n| 13| Nidhi|\n| 15| Mohit|\n| 14| Priya|\n| 17| Raman|\n| 16|Rajesh|\n| 18|   Sam|\n+---+------+\n\n"
     ]
    }
   ],
   "source": [
    "manager_df.select(\"id\",\"name\").distinct().show()"
   ]
  },
  {
   "cell_type": "code",
   "execution_count": 0,
   "metadata": {
    "application/vnd.databricks.v1+cell": {
     "cellMetadata": {
      "byteLimit": 2048000,
      "rowLimit": 10000
     },
     "inputWidgets": {},
     "nuid": "ad81cde8-2750-4dc0-8357-6e1f51a59c3d",
     "showTitle": false,
     "tableResultSettingsMap": {},
     "title": ""
    }
   },
   "outputs": [
    {
     "output_type": "stream",
     "name": "stdout",
     "output_type": "stream",
     "text": [
      "+---+------+-----+-------+\n| id|  Name|  sal|mngr_id|\n+---+------+-----+-------+\n| 10|  Anil|50000|     18|\n| 12| Nisha|40000|     18|\n| 11| Vikas|75000|     16|\n| 13| Nidhi|60000|     17|\n| 15| Mohit|45000|     18|\n| 14| Priya|80000|     18|\n| 16|Rajesh|90000|     10|\n| 17| Raman|55000|     16|\n| 18|   Sam|65000|     17|\n| 14| Priya|90000|     18|\n+---+------+-----+-------+\n\n"
     ]
    }
   ],
   "source": [
    "manager_df.drop_duplicates([\"id\",\"name\",\"sal\",\"mngr_id\"]).show()"
   ]
  },
  {
   "cell_type": "code",
   "execution_count": 0,
   "metadata": {
    "application/vnd.databricks.v1+cell": {
     "cellMetadata": {
      "byteLimit": 2048000,
      "rowLimit": 10000
     },
     "inputWidgets": {},
     "nuid": "d78cb04a-d4da-4a91-8ea8-507b1c2198a2",
     "showTitle": false,
     "tableResultSettingsMap": {},
     "title": ""
    }
   },
   "outputs": [
    {
     "output_type": "stream",
     "name": "stdout",
     "output_type": "stream",
     "text": [
      "+---+------+-----+-------+\n| id|  Name|  sal|mngr_id|\n+---+------+-----+-------+\n| 12| Nisha|40000|     18|\n| 15| Mohit|45000|     18|\n| 15| Mohit|45000|     18|\n| 10|  Anil|50000|     18|\n| 17| Raman|55000|     16|\n| 13| Nidhi|60000|     17|\n| 13| Nidhi|60000|     17|\n| 18|   Sam|65000|     17|\n| 18|   Sam|65000|     17|\n| 11| Vikas|75000|     16|\n| 14| Priya|80000|     18|\n| 14| Priya|90000|     18|\n| 16|Rajesh|90000|     10|\n+---+------+-----+-------+\n\n"
     ]
    }
   ],
   "source": [
    "manager_df.sort(col(\"sal\")).show()"
   ]
  },
  {
   "cell_type": "code",
   "execution_count": 0,
   "metadata": {
    "application/vnd.databricks.v1+cell": {
     "cellMetadata": {
      "byteLimit": 2048000,
      "rowLimit": 10000
     },
     "inputWidgets": {},
     "nuid": "25944ab2-8c39-4846-bfc7-af710607cf46",
     "showTitle": false,
     "tableResultSettingsMap": {},
     "title": ""
    }
   },
   "outputs": [
    {
     "output_type": "stream",
     "name": "stdout",
     "output_type": "stream",
     "text": [
      "+---+------+-----+-------+\n| id|  Name|  sal|mngr_id|\n+---+------+-----+-------+\n| 16|Rajesh|90000|     10|\n| 14| Priya|90000|     18|\n| 14| Priya|80000|     18|\n| 11| Vikas|75000|     16|\n| 18|   Sam|65000|     17|\n| 18|   Sam|65000|     17|\n| 13| Nidhi|60000|     17|\n| 13| Nidhi|60000|     17|\n| 17| Raman|55000|     16|\n| 10|  Anil|50000|     18|\n| 15| Mohit|45000|     18|\n| 15| Mohit|45000|     18|\n| 12| Nisha|40000|     18|\n+---+------+-----+-------+\n\n"
     ]
    }
   ],
   "source": [
    "manager_df.sort(col(\"sal\").desc(),col(\"name\").desc()).show()"
   ]
  },
  {
   "cell_type": "code",
   "execution_count": 0,
   "metadata": {
    "application/vnd.databricks.v1+cell": {
     "cellMetadata": {
      "byteLimit": 2048000,
      "rowLimit": 10000
     },
     "inputWidgets": {},
     "nuid": "e05fefcb-e78c-4fc8-8282-0833af460a07",
     "showTitle": false,
     "tableResultSettingsMap": {},
     "title": ""
    }
   },
   "outputs": [
    {
     "output_type": "stream",
     "name": "stdout",
     "output_type": "stream",
     "text": [
      "+---+----+----+\n| id|Name| ref|\n+---+----+----+\n|  1|Will|null|\n|  2|Jane|null|\n|  3|Alex|   2|\n|  4|Bill|null|\n|  5|Zack|   1|\n|  6|Mark|   2|\n+---+----+----+\n\n"
     ]
    }
   ],
   "source": [
    "leet_code_data = [\n",
    "    (1, 'Will', None),\n",
    "    (2, 'Jane', None),\n",
    "    (3, 'Alex', 2),\n",
    "    (4, 'Bill', None),\n",
    "    (5, 'Zack', 1),\n",
    "    (6, 'Mark', 2)\n",
    "]\n",
    "\n",
    "# Define the schema\n",
    "columns = [\"id\", \"Name\", \"ref\"]\n",
    "\n",
    "# Create the DataFrame\n",
    "leet_code = spark.createDataFrame(data=leet_code_data, schema=columns)\n",
    "\n",
    "# Show the DataFrame\n",
    "leet_code.show()"
   ]
  },
  {
   "cell_type": "code",
   "execution_count": 0,
   "metadata": {
    "application/vnd.databricks.v1+cell": {
     "cellMetadata": {
      "byteLimit": 2048000,
      "rowLimit": 10000
     },
     "inputWidgets": {},
     "nuid": "d2b3f54c-434e-4b3d-861a-b8ef402a251b",
     "showTitle": false,
     "tableResultSettingsMap": {},
     "title": ""
    }
   },
   "outputs": [
    {
     "output_type": "stream",
     "name": "stdout",
     "output_type": "stream",
     "text": [
      "+----+\n|name|\n+----+\n|Will|\n|Jane|\n|Bill|\n|Zack|\n+----+\n\n"
     ]
    }
   ],
   "source": [
    "from pyspark.sql import SparkSession\n",
    "from pyspark.sql.functions import col\n",
    "\n",
    "# Initialize Spark session\n",
    "spark = SparkSession.builder \\\n",
    "    .appName(\"Customer Referral\") \\\n",
    "    .getOrCreate()\n",
    "\n",
    "# Sample data\n",
    "data = [\n",
    "    (1, \"Will\", None),\n",
    "    (2, \"Jane\", None),\n",
    "    (3, \"Alex\", 2),\n",
    "    (4, \"Bill\", None),\n",
    "    (5, \"Zack\", 1),\n",
    "    (6, \"Mark\", 2)\n",
    "]\n",
    "\n",
    "# Create DataFrame\n",
    "columns = [\"id\", \"name\", \"referee_id\"]\n",
    "customer_df = spark.createDataFrame(data, columns)\n",
    "\n",
    "# Find ids of customers referred by customer with id = 2\n",
    "referred_ids = customer_df.filter(col(\"referee_id\") == 2).select(\"id\")\n",
    "\n",
    "# Find names of customers not referred by customer with id = 2\n",
    "result_df = customer_df.join(referred_ids, customer_df.id == referred_ids.id, \"left_anti\").select(\"name\")\n",
    "\n",
    "# Show the result\n",
    "result_df.show()"
   ]
  },
  {
   "cell_type": "code",
   "execution_count": 0,
   "metadata": {
    "application/vnd.databricks.v1+cell": {
     "cellMetadata": {
      "byteLimit": 2048000,
      "rowLimit": 10000
     },
     "inputWidgets": {},
     "nuid": "d6545053-904b-4d0e-bf15-40148d83dd12",
     "showTitle": false,
     "tableResultSettingsMap": {},
     "title": ""
    }
   },
   "outputs": [],
   "source": [
    "# Find ids of customers referred by customer with id = 2\n",
    "referred_ids = customer_df.filter(col(\"referee_id\") == 2).select(\"id\")"
   ]
  },
  {
   "cell_type": "code",
   "execution_count": 0,
   "metadata": {
    "application/vnd.databricks.v1+cell": {
     "cellMetadata": {
      "byteLimit": 2048000,
      "rowLimit": 10000
     },
     "inputWidgets": {},
     "nuid": "e72770ac-d7a5-478d-9143-c6b8bd20dc2b",
     "showTitle": false,
     "tableResultSettingsMap": {},
     "title": ""
    }
   },
   "outputs": [
    {
     "output_type": "stream",
     "name": "stdout",
     "output_type": "stream",
     "text": [
      "+---+\n| id|\n+---+\n|  3|\n|  6|\n+---+\n\n"
     ]
    }
   ],
   "source": [
    "referred_ids.show()"
   ]
  },
  {
   "cell_type": "code",
   "execution_count": 0,
   "metadata": {
    "application/vnd.databricks.v1+cell": {
     "cellMetadata": {
      "byteLimit": 2048000,
      "rowLimit": 10000
     },
     "inputWidgets": {},
     "nuid": "5e75c28f-7ee0-42df-bb84-88ccae442139",
     "showTitle": false,
     "tableResultSettingsMap": {},
     "title": ""
    }
   },
   "outputs": [],
   "source": [
    "# Find names of customers not referred by customer with id = 2\n",
    "result_df = customer_df.join(referred_ids, customer_df.id == referred_ids.id, \"left_anti\").select(\"name\")"
   ]
  },
  {
   "cell_type": "code",
   "execution_count": 0,
   "metadata": {
    "application/vnd.databricks.v1+cell": {
     "cellMetadata": {
      "byteLimit": 2048000,
      "rowLimit": 10000
     },
     "inputWidgets": {},
     "nuid": "48dc2baf-2790-42ee-a767-76b12e359d17",
     "showTitle": false,
     "tableResultSettingsMap": {},
     "title": ""
    }
   },
   "outputs": [
    {
     "output_type": "stream",
     "name": "stdout",
     "output_type": "stream",
     "text": [
      "+----+\n|name|\n+----+\n|Will|\n|Jane|\n|Bill|\n|Zack|\n+----+\n\n"
     ]
    }
   ],
   "source": [
    "result_df.show()"
   ]
  },
  {
   "cell_type": "code",
   "execution_count": 0,
   "metadata": {
    "application/vnd.databricks.v1+cell": {
     "cellMetadata": {
      "byteLimit": 2048000,
      "rowLimit": 10000
     },
     "inputWidgets": {},
     "nuid": "3e338682-9c75-4468-a841-9fbf6e971276",
     "showTitle": false,
     "tableResultSettingsMap": {},
     "title": ""
    }
   },
   "outputs": [],
   "source": [
    "# Create a temporary view for SQL queries\n",
    "customer_df.createOrReplaceTempView(\"Customer\")"
   ]
  },
  {
   "cell_type": "code",
   "execution_count": 0,
   "metadata": {
    "application/vnd.databricks.v1+cell": {
     "cellMetadata": {
      "byteLimit": 2048000,
      "rowLimit": 10000
     },
     "inputWidgets": {},
     "nuid": "2d80a370-3036-48ed-8876-65d4fffdb3bd",
     "showTitle": false,
     "tableResultSettingsMap": {},
     "title": ""
    }
   },
   "outputs": [
    {
     "output_type": "stream",
     "name": "stdout",
     "output_type": "stream",
     "text": [
      "+---+----+----------+--------+\n| id|name|referee_id|ref_name|\n+---+----+----------+--------+\n|  1|Will|      null|    Will|\n|  2|Jane|      null|    Jane|\n|  4|Bill|      null|    Bill|\n|  5|Zack|         1|    Zack|\n+---+----+----------+--------+\n\n"
     ]
    }
   ],
   "source": [
    "# Execute the SQL query\n",
    "result_df = spark.sql(\"\"\"\n",
    "    SELECT *, \n",
    "    name as ref_name\n",
    "    FROM Customer\n",
    "    WHERE id NOT IN (\n",
    "        SELECT id \n",
    "        FROM Customer \n",
    "        WHERE referee_id = 2\n",
    "    )\n",
    "\"\"\").show()"
   ]
  },
  {
   "cell_type": "markdown",
   "metadata": {
    "application/vnd.databricks.v1+cell": {
     "cellMetadata": {},
     "inputWidgets": {},
     "nuid": "32e2843a-1986-4e5c-8784-68843f9dd8b2",
     "showTitle": false,
     "tableResultSettingsMap": {},
     "title": ""
    }
   },
   "source": [
    "#***aggregate function | sum,min,max,avg etc with python***"
   ]
  },
  {
   "cell_type": "code",
   "execution_count": 0,
   "metadata": {
    "application/vnd.databricks.v1+cell": {
     "cellMetadata": {
      "byteLimit": 2048000,
      "rowLimit": 10000
     },
     "inputWidgets": {},
     "nuid": "5948eb04-e545-4bca-9523-b98d397d58ab",
     "showTitle": false,
     "tableResultSettingsMap": {},
     "title": ""
    }
   },
   "outputs": [],
   "source": [
    "emp_data = [\n",
    "(1,'manish',26,20000,'india','IT'),\n",
    "(2,'rahul',None,40000,'germany','engineering'),\n",
    "(3,'pawan',12,60000,'india','sales'),\n",
    "(4,'roshini',44,None,'uk','engineering'),\n",
    "(5,'raushan',35,70000,'india','sales'),\n",
    "(6,None,29,200000,'uk','IT'),\n",
    "(7,'adam',37,65000,'us','IT'),\n",
    "(8,'chris',16,40000,'us','sales'),\n",
    "(None,None,None,None,None,None),\n",
    "(7,'adam',37,65000,'us','IT')\n",
    "]\n",
    "\n",
    "\n",
    "# Create DataFrame\n",
    "columns_schema = [\"id\",\"name\",\"age\",\"salary\",\"country\",\"dept\"]\n",
    "emp_df = spark.createDataFrame(data=emp_data , schema=columns_schema)"
   ]
  },
  {
   "cell_type": "code",
   "execution_count": 0,
   "metadata": {
    "application/vnd.databricks.v1+cell": {
     "cellMetadata": {
      "byteLimit": 2048000,
      "rowLimit": 10000
     },
     "inputWidgets": {},
     "nuid": "bb87e220-a129-4eb2-bb81-699b6929e99f",
     "showTitle": false,
     "tableResultSettingsMap": {},
     "title": ""
    }
   },
   "outputs": [
    {
     "output_type": "stream",
     "name": "stdout",
     "output_type": "stream",
     "text": [
      "+----+-------+----+------+-------+-----------+\n|  id|   name| age|salary|country|       dept|\n+----+-------+----+------+-------+-----------+\n|   1| manish|  26| 20000|  india|         IT|\n|   2|  rahul|null| 40000|germany|engineering|\n|   3|  pawan|  12| 60000|  india|      sales|\n|   4|roshini|  44|  null|     uk|engineering|\n|   5|raushan|  35| 70000|  india|      sales|\n|   6|   null|  29|200000|     uk|         IT|\n|   7|   adam|  37| 65000|     us|         IT|\n|   8|  chris|  16| 40000|     us|      sales|\n|null|   null|null|  null|   null|       null|\n|   7|   adam|  37| 65000|     us|         IT|\n+----+-------+----+------+-------+-----------+\n\n"
     ]
    }
   ],
   "source": [
    "emp_df.show()"
   ]
  },
  {
   "cell_type": "code",
   "execution_count": 0,
   "metadata": {
    "application/vnd.databricks.v1+cell": {
     "cellMetadata": {
      "byteLimit": 2048000,
      "rowLimit": 10000
     },
     "inputWidgets": {},
     "nuid": "cdec1df3-07f2-46be-a7d8-0588b6c826b1",
     "showTitle": false,
     "tableResultSettingsMap": {},
     "title": ""
    }
   },
   "outputs": [
    {
     "output_type": "stream",
     "name": "stdout",
     "output_type": "stream",
     "text": [
      "Out[27]: 10"
     ]
    }
   ],
   "source": [
    "emp_df.count()"
   ]
  },
  {
   "cell_type": "code",
   "execution_count": 0,
   "metadata": {
    "application/vnd.databricks.v1+cell": {
     "cellMetadata": {
      "byteLimit": 2048000,
      "rowLimit": 10000
     },
     "inputWidgets": {},
     "nuid": "aa1638b6-8bd7-43cb-81f7-538655430a34",
     "showTitle": false,
     "tableResultSettingsMap": {},
     "title": ""
    }
   },
   "outputs": [
    {
     "output_type": "stream",
     "name": "stdout",
     "output_type": "stream",
     "text": [
      "Unexpected exception formatting exception. Falling back to standard exception\n"
     ]
    },
    {
     "output_type": "stream",
     "name": "stderr",
     "output_type": "stream",
     "text": [
      "Traceback (most recent call last):\n  File \"/databricks/python/lib/python3.9/site-packages/IPython/core/interactiveshell.py\", line 3378, in run_code\n    exec(code_obj, self.user_global_ns, self.user_ns)\n  File \"<command-1616845809871992>\", line 2, in <module>\n    emp_df.select(count(\"name\")).show()\nNameError: name 'count' is not defined\n\nDuring handling of the above exception, another exception occurred:\n\nTraceback (most recent call last):\n  File \"/databricks/python/lib/python3.9/site-packages/IPython/core/interactiveshell.py\", line 1997, in showtraceback\n    stb = self.InteractiveTB.structured_traceback(\n  File \"/databricks/python/lib/python3.9/site-packages/IPython/core/ultratb.py\", line 1112, in structured_traceback\n    return FormattedTB.structured_traceback(\n  File \"/databricks/python/lib/python3.9/site-packages/IPython/core/ultratb.py\", line 1006, in structured_traceback\n    return VerboseTB.structured_traceback(\n  File \"/databricks/python/lib/python3.9/site-packages/IPython/core/ultratb.py\", line 859, in structured_traceback\n    formatted_exception = self.format_exception_as_a_whole(etype, evalue, etb, number_of_lines_of_context,\n  File \"/databricks/python/lib/python3.9/site-packages/IPython/core/ultratb.py\", line 812, in format_exception_as_a_whole\n    frames.append(self.format_record(r))\n  File \"/databricks/python/lib/python3.9/site-packages/IPython/core/ultratb.py\", line 730, in format_record\n    result += ''.join(_format_traceback_lines(frame_info.lines, Colors, self.has_colors, lvals))\n  File \"/databricks/python/lib/python3.9/site-packages/stack_data/utils.py\", line 145, in cached_property_wrapper\n    value = obj.__dict__[self.func.__name__] = self.func(obj)\n  File \"/databricks/python/lib/python3.9/site-packages/stack_data/core.py\", line 698, in lines\n    pieces = self.included_pieces\n  File \"/databricks/python/lib/python3.9/site-packages/stack_data/utils.py\", line 145, in cached_property_wrapper\n    value = obj.__dict__[self.func.__name__] = self.func(obj)\n  File \"/databricks/python/lib/python3.9/site-packages/stack_data/core.py\", line 649, in included_pieces\n    pos = scope_pieces.index(self.executing_piece)\n  File \"/databricks/python/lib/python3.9/site-packages/stack_data/utils.py\", line 145, in cached_property_wrapper\n    value = obj.__dict__[self.func.__name__] = self.func(obj)\n  File \"/databricks/python/lib/python3.9/site-packages/stack_data/core.py\", line 628, in executing_piece\n    return only(\n  File \"/databricks/python/lib/python3.9/site-packages/executing/executing.py\", line 164, in only\n    raise NotOneValueFound('Expected one value, found 0')\nexecuting.executing.NotOneValueFound: Expected one value, found 0\n"
     ]
    },
    {
     "output_type": "display_data",
     "data": {
      "text/plain": [
       ""
      ]
     },
     "metadata": {
      "application/vnd.databricks.v1+output": {
       "arguments": {},
       "data": "",
       "errorSummary": "<span class='ansi-red-fg'>NameError</span>: name 'count' is not defined",
       "errorTraceType": "ansi",
       "metadata": {},
       "type": "ipynbError"
      }
     },
     "output_type": "display_data"
    }
   ],
   "source": [
    "# Count the number of entries in the 'name' column\n",
    "emp_df.select(count(\"name\")).show()"
   ]
  },
  {
   "cell_type": "code",
   "execution_count": 0,
   "metadata": {
    "application/vnd.databricks.v1+cell": {
     "cellMetadata": {
      "byteLimit": 2048000,
      "rowLimit": 10000
     },
     "inputWidgets": {},
     "nuid": "380c1ffc-aa4c-4446-8c4a-e4ca147c55c9",
     "showTitle": false,
     "tableResultSettingsMap": {},
     "title": ""
    }
   },
   "outputs": [
    {
     "output_type": "stream",
     "name": "stdout",
     "output_type": "stream",
     "text": [
      "+----+-------+----+------+-------+-----------+\n|  id|   name| age|salary|country|       dept|\n+----+-------+----+------+-------+-----------+\n|   1| manish|  26| 20000|  india|         IT|\n|   2|  rahul|null| 40000|germany|engineering|\n|   3|  pawan|  12| 60000|  india|      sales|\n|   4|roshini|  44|  null|     uk|engineering|\n|   5|raushan|  35| 70000|  india|      sales|\n|   6|   null|  29|200000|     uk|         IT|\n|   7|   adam|  37| 65000|     us|         IT|\n|   8|  chris|  16| 40000|     us|      sales|\n|null|   null|null|  null|   null|       null|\n|   7|   adam|  37| 65000|     us|         IT|\n+----+-------+----+------+-------+-----------+\n\n"
     ]
    }
   ],
   "source": [
    "from pyspark.sql import SparkSession\n",
    "from pyspark.sql.functions import *\n",
    "from pyspark.sql.types import * \n",
    "\n",
    "# Initialize Spark session\n",
    "spark = SparkSession.builder \\\n",
    "    .appName(\"Employee DataFrame\") \\\n",
    "    .getOrCreate()\n",
    "\n",
    "# Sample employee data\n",
    "emp_data = [\n",
    "    (1, 'manish', 26, 20000, 'india', 'IT'),\n",
    "    (2, 'rahul', None, 40000, 'germany', 'engineering'),\n",
    "    (3, 'pawan', 12, 60000, 'india', 'sales'),\n",
    "    (4, 'roshini', 44, None, 'uk', 'engineering'),\n",
    "    (5, 'raushan', 35, 70000, 'india', 'sales'),\n",
    "    (6, None, 29, 200000, 'uk', 'IT'),\n",
    "    (7, 'adam', 37, 65000, 'us', 'IT'),\n",
    "    (8, 'chris', 16, 40000, 'us', 'sales'),\n",
    "    (None, None, None, None, None, None),\n",
    "    (7, 'adam', 37, 65000, 'us', 'IT')\n",
    "]\n",
    "\n",
    "# Create DataFrame\n",
    "columns_schema = [\"id\", \"name\", \"age\", \"salary\", \"country\", \"dept\"]\n",
    "emp_df = spark.createDataFrame(data=emp_data, schema=columns_schema)\n",
    "\n",
    "# Show the DataFrame\n",
    "emp_df.show()"
   ]
  },
  {
   "cell_type": "code",
   "execution_count": 0,
   "metadata": {
    "application/vnd.databricks.v1+cell": {
     "cellMetadata": {
      "byteLimit": 2048000,
      "rowLimit": 10000
     },
     "inputWidgets": {},
     "nuid": "83b22416-2858-4f5e-985f-fdc0c78848e5",
     "showTitle": false,
     "tableResultSettingsMap": {},
     "title": ""
    }
   },
   "outputs": [
    {
     "output_type": "stream",
     "name": "stdout",
     "output_type": "stream",
     "text": [
      "root\n |-- id: long (nullable = true)\n |-- name: string (nullable = true)\n |-- age: long (nullable = true)\n |-- salary: long (nullable = true)\n |-- country: string (nullable = true)\n |-- dept: string (nullable = true)\n\n"
     ]
    }
   ],
   "source": [
    "emp_df.printSchema()"
   ]
  },
  {
   "cell_type": "code",
   "execution_count": 0,
   "metadata": {
    "application/vnd.databricks.v1+cell": {
     "cellMetadata": {
      "byteLimit": 2048000,
      "rowLimit": 10000
     },
     "inputWidgets": {},
     "nuid": "fd446611-10f1-47ed-bea7-4972c34a0a84",
     "showTitle": false,
     "tableResultSettingsMap": {},
     "title": ""
    }
   },
   "outputs": [
    {
     "output_type": "stream",
     "name": "stdout",
     "output_type": "stream",
     "text": [
      "+-----------+\n|count(name)|\n+-----------+\n|          8|\n+-----------+\n\n"
     ]
    }
   ],
   "source": [
    "from pyspark.sql.functions import count\n",
    "\n",
    "# Count non-null names\n",
    "emp_df.select(count(\"name\")).show()"
   ]
  },
  {
   "cell_type": "code",
   "execution_count": 0,
   "metadata": {
    "application/vnd.databricks.v1+cell": {
     "cellMetadata": {
      "byteLimit": 2048000,
      "rowLimit": 10000
     },
     "inputWidgets": {},
     "nuid": "ee731937-ef21-414e-96b7-af89cf1396e5",
     "showTitle": false,
     "tableResultSettingsMap": {},
     "title": ""
    }
   },
   "outputs": [
    {
     "output_type": "stream",
     "name": "stdout",
     "output_type": "stream",
     "text": [
      "+---+-------+---+------+-------+-----+\n| id|   name|age|salary|country| dept|\n+---+-------+---+------+-------+-----+\n|  3|  pawan| 12| 60000|  india|sales|\n|  5|raushan| 35| 70000|  india|sales|\n|  6|   null| 29|200000|     uk|   IT|\n|  7|   adam| 37| 65000|     us|   IT|\n|  7|   adam| 37| 65000|     us|   IT|\n+---+-------+---+------+-------+-----+\n\n"
     ]
    }
   ],
   "source": [
    "# Filter employees with salary greater than 50000\n",
    "high_salary_df = emp_df.filter(emp_df.salary > 50000)\n",
    "high_salary_df.show()"
   ]
  },
  {
   "cell_type": "code",
   "execution_count": 0,
   "metadata": {
    "application/vnd.databricks.v1+cell": {
     "cellMetadata": {
      "byteLimit": 2048000,
      "rowLimit": 10000
     },
     "inputWidgets": {},
     "nuid": "4cdfb78b-800e-4c8a-89de-0270ed4b0ccd",
     "showTitle": false,
     "tableResultSettingsMap": {},
     "title": ""
    }
   },
   "outputs": [
    {
     "output_type": "stream",
     "name": "stdout",
     "output_type": "stream",
     "text": [
      "+-----------+-----+\n|       dept|count|\n+-----------+-----+\n|         IT|    4|\n|engineering|    2|\n|      sales|    3|\n|       null|    1|\n+-----------+-----+\n\n"
     ]
    }
   ],
   "source": [
    "# Group by department and count employees\n",
    "dept_count_df = emp_df.groupBy(\"dept\").count()\n",
    "dept_count_df.show()"
   ]
  },
  {
   "cell_type": "code",
   "execution_count": 0,
   "metadata": {
    "application/vnd.databricks.v1+cell": {
     "cellMetadata": {
      "byteLimit": 2048000,
      "rowLimit": 10000
     },
     "inputWidgets": {},
     "nuid": "6d375a26-0189-4a44-908a-15847c25f301",
     "showTitle": false,
     "tableResultSettingsMap": {},
     "title": ""
    }
   },
   "outputs": [
    {
     "output_type": "stream",
     "name": "stdout",
     "output_type": "stream",
     "text": [
      "+------------+----------+----------+\n|total_salary|max_salary|min_salary|\n+------------+----------+----------+\n|      560000|    200000|     20000|\n+------------+----------+----------+\n\n"
     ]
    }
   ],
   "source": [
    "emp_df.select(sum(\"salary\").alias(\"total_salary\"),max(\"salary\").alias(\"max_salary\"),min(\"salary\").alias(\"min_salary\")).show()"
   ]
  },
  {
   "cell_type": "code",
   "execution_count": 0,
   "metadata": {
    "application/vnd.databricks.v1+cell": {
     "cellMetadata": {
      "byteLimit": 2048000,
      "rowLimit": 10000
     },
     "inputWidgets": {},
     "nuid": "332efe58-edf0-4f2a-aec6-0f5ed3186725",
     "showTitle": false,
     "tableResultSettingsMap": {},
     "title": ""
    }
   },
   "outputs": [
    {
     "output_type": "stream",
     "name": "stdout",
     "output_type": "stream",
     "text": [
      "+----------+------------+----------+\n|sum_salary|count_salary|avg_salary|\n+----------+------------+----------+\n|    560000|           8|     70000|\n+----------+------------+----------+\n\n"
     ]
    }
   ],
   "source": [
    "emp_df.select(sum(\"salary\").alias(\"sum_salary\"),count(\"salary\").alias(\"count_salary\"),avg(\"salary\").cast(\"int\").alias(\"avg_salary\")).show()"
   ]
  },
  {
   "cell_type": "markdown",
   "metadata": {
    "application/vnd.databricks.v1+cell": {
     "cellMetadata": {},
     "inputWidgets": {},
     "nuid": "b27622bf-68cd-44c9-9f20-b7f109616910",
     "showTitle": false,
     "tableResultSettingsMap": {},
     "title": ""
    }
   },
   "source": [
    "#***group By in pyspark***"
   ]
  },
  {
   "cell_type": "code",
   "execution_count": 0,
   "metadata": {
    "application/vnd.databricks.v1+cell": {
     "cellMetadata": {
      "byteLimit": 2048000,
      "rowLimit": 10000
     },
     "inputWidgets": {},
     "nuid": "f5132286-4278-44fa-a1a2-c218f250b080",
     "showTitle": false,
     "tableResultSettingsMap": {},
     "title": ""
    }
   },
   "outputs": [
    {
     "output_type": "stream",
     "name": "stdout",
     "output_type": "stream",
     "text": [
      "+---+-------+------+---------+\n| id|   name|salary|     dept|\n+---+-------+------+---------+\n|  1| manish| 50000|       IT|\n|  2| vikash| 60000|    sales|\n|  3|raushan| 70000|marketing|\n|  4| mukesh| 80000|       IT|\n|  5| pritam| 90000|    sales|\n|  6| nikita| 45000|marketing|\n|  7| ragini| 55000|marketing|\n|  8| rakesh|100000|       IT|\n|  9| aditya| 65000|       IT|\n| 10|  rahul| 50000|marketing|\n+---+-------+------+---------+\n\n"
     ]
    }
   ],
   "source": [
    "from pyspark.sql import SparkSession\n",
    "from pyspark.sql.functions import *\n",
    "from pyspark.sql.types import * \n",
    "\n",
    "# Initialize Spark session\n",
    "spark = SparkSession.builder \\\n",
    "    .appName(\"Employee DataFrame\") \\\n",
    "    .getOrCreate()\n",
    "\n",
    "# Sample employee data\n",
    "emp_data = [\n",
    "    (1, 'manish', 50000, 'IT'),\n",
    "    (2, 'vikash', 60000, 'sales'),\n",
    "    (3, 'raushan', 70000, 'marketing'),\n",
    "    (4, 'mukesh', 80000, 'IT'),\n",
    "    (5, 'pritam', 90000, 'sales'),\n",
    "    (6, 'nikita', 45000, 'marketing'),\n",
    "    (7, 'ragini', 55000, 'marketing'),\n",
    "    (8, 'rakesh', 100000, 'IT'),\n",
    "    (9, 'aditya', 65000, 'IT'),\n",
    "    (10, 'rahul', 50000, 'marketing')\n",
    "]\n",
    "\n",
    "# Create DataFrame\n",
    "columns_schema = [\"id\", \"name\", \"salary\", \"dept\"]\n",
    "emp_df = spark.createDataFrame(data=emp_data, schema=columns_schema)\n",
    "\n",
    "# Show the DataFrame\n",
    "emp_df.show()"
   ]
  },
  {
   "cell_type": "code",
   "execution_count": 0,
   "metadata": {
    "application/vnd.databricks.v1+cell": {
     "cellMetadata": {
      "byteLimit": 2048000,
      "rowLimit": 10000
     },
     "inputWidgets": {},
     "nuid": "1c92c753-891e-4169-803c-cdc23d24b915",
     "showTitle": false,
     "tableResultSettingsMap": {},
     "title": ""
    }
   },
   "outputs": [
    {
     "output_type": "stream",
     "name": "stdout",
     "output_type": "stream",
     "text": [
      "root\n |-- id: long (nullable = true)\n |-- name: string (nullable = true)\n |-- salary: long (nullable = true)\n |-- dept: string (nullable = true)\n\n"
     ]
    }
   ],
   "source": [
    "emp_df.printSchema()"
   ]
  },
  {
   "cell_type": "code",
   "execution_count": 0,
   "metadata": {
    "application/vnd.databricks.v1+cell": {
     "cellMetadata": {
      "byteLimit": 2048000,
      "rowLimit": 10000
     },
     "inputWidgets": {},
     "nuid": "c25ce506-eedd-4f92-9f9e-957115d9bcd4",
     "showTitle": false,
     "tableResultSettingsMap": {},
     "title": ""
    }
   },
   "outputs": [
    {
     "output_type": "stream",
     "name": "stdout",
     "output_type": "stream",
     "text": [
      "+---------+------------+\n|     dept|total_salary|\n+---------+------------+\n|       IT|      295000|\n|    sales|      150000|\n|marketing|      220000|\n+---------+------------+\n\n"
     ]
    }
   ],
   "source": [
    "# Group by department and sum the salaries\n",
    "result_df = emp_df.groupBy(\"dept\") \\\n",
    "    .agg(sum(\"salary\").alias(\"total_salary\"))\n",
    "\n",
    "# Show the result\n",
    "result_df.show()"
   ]
  },
  {
   "cell_type": "code",
   "execution_count": 0,
   "metadata": {
    "application/vnd.databricks.v1+cell": {
     "cellMetadata": {
      "byteLimit": 2048000,
      "rowLimit": 10000
     },
     "inputWidgets": {},
     "nuid": "cf10635b-3d20-46fa-b8f4-beae41c9e6c9",
     "showTitle": false,
     "tableResultSettingsMap": {},
     "title": ""
    }
   },
   "outputs": [
    {
     "output_type": "stream",
     "name": "stdout",
     "output_type": "stream",
     "text": [
      "+---------+------------+\n|     dept|total_salary|\n+---------+------------+\n|       IT|      295000|\n|    sales|      150000|\n|marketing|      220000|\n+---------+------------+\n\n"
     ]
    }
   ],
   "source": [
    "emp_df.groupBy(\"dept\") \\\n",
    "    .agg(sum(\"salary\").alias(\"total_salary\"))\\\n",
    "    .show()"
   ]
  },
  {
   "cell_type": "code",
   "execution_count": 0,
   "metadata": {
    "application/vnd.databricks.v1+cell": {
     "cellMetadata": {
      "byteLimit": 2048000,
      "rowLimit": 10000
     },
     "inputWidgets": {},
     "nuid": "37d5faae-b230-4f32-98ef-be1e03fc2afc",
     "showTitle": false,
     "tableResultSettingsMap": {},
     "title": ""
    }
   },
   "outputs": [
    {
     "output_type": "stream",
     "name": "stdout",
     "output_type": "stream",
     "text": [
      "+---+-------+------+---------+-------+\n| id|   name|salary|     dept|country|\n+---+-------+------+---------+-------+\n|  1| manish| 50000|       IT|  India|\n|  2| vikash| 60000|    sales|Germany|\n|  3|raushan| 70000|marketing|  India|\n|  4| mukesh| 80000|       IT|     UK|\n|  5| pritam| 90000|    sales|  India|\n|  6| nikita| 45000|marketing|     UK|\n|  7| ragini| 55000|marketing|  India|\n|  8| rakesh|100000|       IT|     US|\n|  9| aditya| 65000|       IT|     US|\n| 10|  rahul| 50000|marketing|  India|\n+---+-------+------+---------+-------+\n\n"
     ]
    }
   ],
   "source": [
    "from pyspark.sql import SparkSession\n",
    "from pyspark.sql.functions import sum, col, when\n",
    "\n",
    "# Initialize Spark session\n",
    "spark = SparkSession.builder \\\n",
    "    .appName(\"Employee Salary Sum\") \\\n",
    "    .getOrCreate()\n",
    "\n",
    "# Sample employee data with country column\n",
    "emp_data = [\n",
    "    (1, 'manish', 50000, 'IT', 'India'),\n",
    "    (2, 'vikash', 60000, 'sales', 'Germany'),\n",
    "    (3, 'raushan', 70000, 'marketing', 'India'),\n",
    "    (4, 'mukesh', 80000, 'IT', 'UK'),\n",
    "    (5, 'pritam', 90000, 'sales', 'India'),\n",
    "    (6, 'nikita', 45000, 'marketing', 'UK'),\n",
    "    (7, 'ragini', 55000, 'marketing', 'India'),\n",
    "    (8, 'rakesh', 100000, 'IT', 'US'),\n",
    "    (9, 'aditya', 65000, 'IT', 'US'),\n",
    "    (10, 'rahul', 50000, 'marketing', 'India')\n",
    "]\n",
    "\n",
    "# Create DataFrame with an additional country column\n",
    "columns_schema = [\"id\", \"name\", \"salary\", \"dept\", \"country\"]\n",
    "emp_df = spark.createDataFrame(data=emp_data, schema=columns_schema)\n",
    "\n",
    "emp_df.show()"
   ]
  },
  {
   "cell_type": "code",
   "execution_count": 0,
   "metadata": {
    "application/vnd.databricks.v1+cell": {
     "cellMetadata": {
      "byteLimit": 2048000,
      "rowLimit": 10000
     },
     "inputWidgets": {},
     "nuid": "03cb62cd-9634-4781-984d-1cf925e4c494",
     "showTitle": false,
     "tableResultSettingsMap": {},
     "title": ""
    }
   },
   "outputs": [
    {
     "output_type": "stream",
     "name": "stdout",
     "output_type": "stream",
     "text": [
      "+---------+-------+------------+\n|     dept|country|total_salary|\n+---------+-------+------------+\n|       IT|  India|       50000|\n|    sales|Germany|       60000|\n|marketing|  India|      175000|\n|       IT|     UK|       80000|\n|    sales|  India|       90000|\n|marketing|     UK|       45000|\n|       IT|     US|      165000|\n+---------+-------+------------+\n\n"
     ]
    }
   ],
   "source": [
    "# Group by department and country and sum the salaries\n",
    "result_df = emp_df.groupBy(\"dept\", \"country\") \\\n",
    "    .agg(sum(\"salary\").alias(\"total_salary\"))\n",
    "\n",
    "# Show the result\n",
    "result_df.show()"
   ]
  },
  {
   "cell_type": "code",
   "execution_count": 0,
   "metadata": {
    "application/vnd.databricks.v1+cell": {
     "cellMetadata": {
      "byteLimit": 2048000,
      "rowLimit": 10000
     },
     "inputWidgets": {},
     "nuid": "cb88de47-33d5-4723-a155-4733dbac5061",
     "showTitle": false,
     "tableResultSettingsMap": {},
     "title": ""
    }
   },
   "outputs": [],
   "source": [
    "emp_df.createOrReplaceTempView(\"employees\")"
   ]
  },
  {
   "cell_type": "code",
   "execution_count": 0,
   "metadata": {
    "application/vnd.databricks.v1+cell": {
     "cellMetadata": {
      "byteLimit": 2048000,
      "rowLimit": 10000
     },
     "inputWidgets": {},
     "nuid": "150f1652-f941-4345-8529-ebee0de6ba8a",
     "showTitle": false,
     "tableResultSettingsMap": {},
     "title": ""
    }
   },
   "outputs": [
    {
     "output_type": "stream",
     "name": "stdout",
     "output_type": "stream",
     "text": [
      "+---------+-------+------------+\n|     dept|country|total_salary|\n+---------+-------+------------+\n|marketing|  India|      175000|\n|       IT|     US|      165000|\n|    sales|  India|       90000|\n|       IT|     UK|       80000|\n|    sales|Germany|       60000|\n|       IT|  India|       50000|\n|marketing|     UK|       45000|\n+---------+-------+------------+\n\n"
     ]
    }
   ],
   "source": [
    "# Execute SQL query to sum salaries by department and country, then order by total_salary descending\n",
    "result_df = spark.sql(\"\"\"\n",
    "    SELECT dept, country, SUM(salary) AS total_salary\n",
    "    FROM employees\n",
    "    GROUP BY dept, country\n",
    "    ORDER BY total_salary DESC\n",
    "\"\"\")\n",
    "\n",
    "# Show the result\n",
    "result_df.show()"
   ]
  },
  {
   "cell_type": "markdown",
   "metadata": {
    "application/vnd.databricks.v1+cell": {
     "cellMetadata": {},
     "inputWidgets": {},
     "nuid": "d467c540-8681-4a6d-b2a6-41f3be58e283",
     "showTitle": false,
     "tableResultSettingsMap": {},
     "title": ""
    }
   },
   "source": [
    "#***join in pyspark***"
   ]
  },
  {
   "cell_type": "code",
   "execution_count": 0,
   "metadata": {
    "application/vnd.databricks.v1+cell": {
     "cellMetadata": {
      "byteLimit": 2048000,
      "rowLimit": 10000
     },
     "inputWidgets": {},
     "nuid": "cd5e28e0-f3e5-417f-a333-56cfbb950daf",
     "showTitle": false,
     "tableResultSettingsMap": {},
     "title": ""
    }
   },
   "outputs": [],
   "source": [
    "from pyspark.sql.functions import *\n",
    "from pyspark.sql.types import * \n",
    "\n",
    "\n"
   ]
  },
  {
   "cell_type": "code",
   "execution_count": 0,
   "metadata": {
    "application/vnd.databricks.v1+cell": {
     "cellMetadata": {
      "byteLimit": 2048000,
      "rowLimit": 10000
     },
     "inputWidgets": {},
     "nuid": "8d493d6c-9001-4da8-9f9b-503e5e31b6ea",
     "showTitle": false,
     "tableResultSettingsMap": {},
     "title": ""
    }
   },
   "outputs": [],
   "source": [
    "\n",
    "customer_data = [(1,'manish','patna',\"30-05-2022\"),\n",
    "(2,'vikash','kolkata',\"12-03-2023\"),\n",
    "(3,'nikita','delhi',\"25-06-2023\"),\n",
    "(4,'rahul','ranchi',\"24-03-2023\"),\n",
    "(5,'mahesh','jaipur',\"22-03-2023\"),\n",
    "(6,'prantosh','kolkata',\"18-10-2022\"),\n",
    "(7,'raman','patna',\"30-12-2022\"),\n",
    "(8,'prakash','ranchi',\"24-02-2023\"),\n",
    "(9,'ragini','kolkata',\"03-03-2023\"),\n",
    "(10,'raushan','jaipur',\"05-02-2023\")]\n",
    "\n",
    "customer_schema=['customer_id','customer_name','address','date_of_joining']\n",
    "\n",
    "customer_df = spark.createDataFrame(data=customer_data , schema=customer_schema)\n",
    "\n",
    "customer_df.createOrReplaceTempView(\"customer_tbl\")"
   ]
  },
  {
   "cell_type": "code",
   "execution_count": 0,
   "metadata": {
    "application/vnd.databricks.v1+cell": {
     "cellMetadata": {
      "byteLimit": 2048000,
      "rowLimit": 10000
     },
     "inputWidgets": {},
     "nuid": "d668361e-00e7-4e70-aaa9-860b182b9c62",
     "showTitle": false,
     "tableResultSettingsMap": {},
     "title": ""
    }
   },
   "outputs": [],
   "source": [
    "sales_data = [(1,22,10,\"01-06-2022\"),\n",
    "(1,27,5,\"03-02-2023\"),\n",
    "(2,5,3,\"01-06-2023\"),\n",
    "(5,22,1,\"22-03-2023\"),\n",
    "(7,22,4,\"03-02-2023\"),\n",
    "(9,5,6,\"03-03-2023\"),\n",
    "(2,1,12,\"15-06-2023\"),\n",
    "(1,56,2,\"25-06-2023\"),\n",
    "(5,12,5,\"15-04-2023\"),\n",
    "(11,12,76,\"12-03-2023\")]\n",
    "\n",
    "sales_schema=['customer_id','product_id','quantity','date_of_purchase']\n",
    "\n",
    "sales_df = spark.createDataFrame(data=sales_data , schema=sales_schema)\n",
    "\n",
    "sales_df.createOrReplaceTempView(\"sales_tbl\")"
   ]
  },
  {
   "cell_type": "code",
   "execution_count": 0,
   "metadata": {
    "application/vnd.databricks.v1+cell": {
     "cellMetadata": {
      "byteLimit": 2048000,
      "rowLimit": 10000
     },
     "inputWidgets": {},
     "nuid": "916926c1-8441-43b8-b493-ee417286f77e",
     "showTitle": false,
     "tableResultSettingsMap": {},
     "title": ""
    }
   },
   "outputs": [],
   "source": [
    "product_data = [(1, 'fanta',20),\n",
    "(2, 'dew',22),\n",
    "(5, 'sprite',40),\n",
    "(7, 'redbull',100),\n",
    "(12,'mazza',45),\n",
    "(22,'coke',27),\n",
    "(25,'limca',21),\n",
    "(27,'pepsi',14),\n",
    "(56,'sting',10)]\n",
    "\n",
    "product_schema=['id','name','price']\n",
    "\n",
    "product_df = spark.createDataFrame(data=product_data , schema=product_schema)\n",
    "\n",
    "product_df.createOrReplaceTempView(\"product_tbl\")"
   ]
  },
  {
   "cell_type": "code",
   "execution_count": 0,
   "metadata": {
    "application/vnd.databricks.v1+cell": {
     "cellMetadata": {
      "byteLimit": 2048000,
      "rowLimit": 10000
     },
     "inputWidgets": {},
     "nuid": "957bf352-bc20-410e-bd49-b6df76227f09",
     "showTitle": false,
     "tableResultSettingsMap": {},
     "title": ""
    }
   },
   "outputs": [
    {
     "output_type": "stream",
     "name": "stdout",
     "output_type": "stream",
     "text": [
      "+-----------+-------------+-------+---------------+\n|customer_id|customer_name|address|date_of_joining|\n+-----------+-------------+-------+---------------+\n|          1|       manish|  patna|     30-05-2022|\n|          2|       vikash|kolkata|     12-03-2023|\n|          3|       nikita|  delhi|     25-06-2023|\n|          4|        rahul| ranchi|     24-03-2023|\n|          5|       mahesh| jaipur|     22-03-2023|\n|          6|     prantosh|kolkata|     18-10-2022|\n|          7|        raman|  patna|     30-12-2022|\n|          8|      prakash| ranchi|     24-02-2023|\n|          9|       ragini|kolkata|     03-03-2023|\n|         10|      raushan| jaipur|     05-02-2023|\n+-----------+-------------+-------+---------------+\n\n"
     ]
    }
   ],
   "source": [
    "customer_df.show()"
   ]
  },
  {
   "cell_type": "code",
   "execution_count": 0,
   "metadata": {
    "application/vnd.databricks.v1+cell": {
     "cellMetadata": {
      "byteLimit": 2048000,
      "rowLimit": 10000
     },
     "inputWidgets": {},
     "nuid": "f218874d-1744-4012-a729-9e4177154305",
     "showTitle": false,
     "tableResultSettingsMap": {},
     "title": ""
    }
   },
   "outputs": [
    {
     "output_type": "stream",
     "name": "stdout",
     "output_type": "stream",
     "text": [
      "+-----------+----------+--------+----------------+\n|customer_id|product_id|quantity|date_of_purchase|\n+-----------+----------+--------+----------------+\n|          1|        22|      10|      01-06-2022|\n|          1|        27|       5|      03-02-2023|\n|          2|         5|       3|      01-06-2023|\n|          5|        22|       1|      22-03-2023|\n|          7|        22|       4|      03-02-2023|\n|          9|         5|       6|      03-03-2023|\n|          2|         1|      12|      15-06-2023|\n|          1|        56|       2|      25-06-2023|\n|          5|        12|       5|      15-04-2023|\n|         11|        12|      76|      12-03-2023|\n+-----------+----------+--------+----------------+\n\n"
     ]
    }
   ],
   "source": [
    "sales_df.show()"
   ]
  },
  {
   "cell_type": "code",
   "execution_count": 0,
   "metadata": {
    "application/vnd.databricks.v1+cell": {
     "cellMetadata": {
      "byteLimit": 2048000,
      "rowLimit": 10000
     },
     "inputWidgets": {},
     "nuid": "3382ff42-a025-4832-98b1-7f410db2af5a",
     "showTitle": false,
     "tableResultSettingsMap": {},
     "title": ""
    }
   },
   "outputs": [
    {
     "output_type": "stream",
     "name": "stdout",
     "output_type": "stream",
     "text": [
      "+-----------+-------------+-------+---------------+-----------+----------+--------+----------------+\n|customer_id|customer_name|address|date_of_joining|customer_id|product_id|quantity|date_of_purchase|\n+-----------+-------------+-------+---------------+-----------+----------+--------+----------------+\n|          1|       manish|  patna|     30-05-2022|          1|        22|      10|      01-06-2022|\n|          1|       manish|  patna|     30-05-2022|          1|        27|       5|      03-02-2023|\n|          1|       manish|  patna|     30-05-2022|          1|        56|       2|      25-06-2023|\n|          2|       vikash|kolkata|     12-03-2023|          2|         5|       3|      01-06-2023|\n|          2|       vikash|kolkata|     12-03-2023|          2|         1|      12|      15-06-2023|\n|          5|       mahesh| jaipur|     22-03-2023|          5|        22|       1|      22-03-2023|\n|          5|       mahesh| jaipur|     22-03-2023|          5|        12|       5|      15-04-2023|\n|          7|        raman|  patna|     30-12-2022|          7|        22|       4|      03-02-2023|\n|          9|       ragini|kolkata|     03-03-2023|          9|         5|       6|      03-03-2023|\n+-----------+-------------+-------+---------------+-----------+----------+--------+----------------+\n\n"
     ]
    }
   ],
   "source": [
    "customer_df.join(sales_df,sales_df[\"customer_id\"]==customer_df[\"customer_id\"],\"inner\").show()"
   ]
  },
  {
   "cell_type": "code",
   "execution_count": 0,
   "metadata": {
    "application/vnd.databricks.v1+cell": {
     "cellMetadata": {
      "byteLimit": 2048000,
      "rowLimit": 10000
     },
     "inputWidgets": {},
     "nuid": "46d3392e-a7e0-421e-bf03-80394c0ed7eb",
     "showTitle": false,
     "tableResultSettingsMap": {},
     "title": ""
    }
   },
   "outputs": [
    {
     "output_type": "stream",
     "name": "stdout",
     "output_type": "stream",
     "text": [
      "+----------+\n|product_id|\n+----------+\n|         1|\n|         5|\n|         5|\n|        12|\n|        22|\n|        22|\n|        22|\n|        27|\n|        56|\n+----------+\n\n"
     ]
    }
   ],
   "source": [
    " customer_df.join(sales_df,sales_df[\"customer_id\"]==customer_df[\"customer_id\"],\"inner\")\\\n",
    "     .select(sales_df[\"product_id\"]).sort(\"product_id\").show()"
   ]
  },
  {
   "cell_type": "code",
   "execution_count": 0,
   "metadata": {
    "application/vnd.databricks.v1+cell": {
     "cellMetadata": {
      "byteLimit": 2048000,
      "rowLimit": 10000
     },
     "inputWidgets": {},
     "nuid": "bcda8a83-5c08-428c-bf5b-a73fc6c2b62f",
     "showTitle": false,
     "tableResultSettingsMap": {},
     "title": ""
    }
   },
   "outputs": [
    {
     "output_type": "stream",
     "name": "stdout",
     "output_type": "stream",
     "text": [
      "+----------+\n|product_id|\n+----------+\n|         1|\n|         5|\n|         5|\n|        12|\n|        22|\n|        22|\n|        22|\n|        27|\n|        56|\n+----------+\n\n"
     ]
    }
   ],
   "source": [
    "# Assuming customer_df and sales_df are already defined DataFrames\n",
    "result_df = customer_df.join(sales_df, on=\"customer_id\", how=\"inner\") \\\n",
    "    .select(sales_df[\"product_id\"]) \\\n",
    "    .orderBy(\"product_id\")\n",
    "\n",
    "# Show the result\n",
    "result_df.show()"
   ]
  },
  {
   "cell_type": "code",
   "execution_count": 0,
   "metadata": {
    "application/vnd.databricks.v1+cell": {
     "cellMetadata": {
      "byteLimit": 2048000,
      "rowLimit": 10000
     },
     "inputWidgets": {},
     "nuid": "c04c4678-ad3f-4c6f-8e06-fb62f8b3f805",
     "showTitle": false,
     "tableResultSettingsMap": {},
     "title": ""
    }
   },
   "outputs": [
    {
     "output_type": "stream",
     "name": "stdout",
     "output_type": "stream",
     "text": [
      "+---+-------+-----+\n| id|   name|price|\n+---+-------+-----+\n|  1|  fanta|   20|\n|  2|    dew|   22|\n|  5| sprite|   40|\n|  7|redbull|  100|\n| 12|  mazza|   45|\n| 22|   coke|   27|\n| 25|  limca|   21|\n| 27|  pepsi|   14|\n| 56|  sting|   10|\n+---+-------+-----+\n\n"
     ]
    }
   ],
   "source": [
    "product_df.show()"
   ]
  },
  {
   "cell_type": "code",
   "execution_count": 0,
   "metadata": {
    "application/vnd.databricks.v1+cell": {
     "cellMetadata": {
      "byteLimit": 2048000,
      "rowLimit": 10000
     },
     "inputWidgets": {},
     "nuid": "a6068910-684f-440d-be36-e476c0c01d69",
     "showTitle": false,
     "tableResultSettingsMap": {},
     "title": ""
    }
   },
   "outputs": [
    {
     "output_type": "display_data",
     "data": {
      "text/plain": [
       "\u001B[0;36m  File \u001B[0;32m<command-448388170835476>:1\u001B[0;36m\u001B[0m\n",
       "\u001B[0;31m    customer_df.join(sales_df,(sales_df[\"customer_id\"]==customer_df[\"customer_id\"])&(sales_df[\"product_id\"]==customer_df[\"product_id\"])\"inner\")\\\u001B[0m\n",
       "\u001B[0m                                                                                                                                       ^\u001B[0m\n",
       "\u001B[0;31mSyntaxError\u001B[0m\u001B[0;31m:\u001B[0m invalid syntax\n"
      ]
     },
     "metadata": {
      "application/vnd.databricks.v1+output": {
       "arguments": {},
       "data": "\u001B[0;36m  File \u001B[0;32m<command-448388170835476>:1\u001B[0;36m\u001B[0m\n\u001B[0;31m    customer_df.join(sales_df,(sales_df[\"customer_id\"]==customer_df[\"customer_id\"])&(sales_df[\"product_id\"]==customer_df[\"product_id\"])\"inner\")\\\u001B[0m\n\u001B[0m                                                                                                                                       ^\u001B[0m\n\u001B[0;31mSyntaxError\u001B[0m\u001B[0;31m:\u001B[0m invalid syntax\n",
       "errorSummary": "<span class='ansi-red-fg'>SyntaxError</span>: invalid syntax (<command-448388170835476>, line 1)",
       "errorTraceType": "ansi",
       "metadata": {},
       "type": "ipynbError"
      }
     },
     "output_type": "display_data"
    }
   ],
   "source": [
    " customer_df.join(sales_df,(sales_df[\"customer_id\"]==customer_df[\"customer_id\"])&(sales_df[\"product_id\"]==customer_df[\"product_id\"])\"inner\")\\\n",
    "     .select(sales_df[\"product_id\"]).sort(\"product_id\").show()"
   ]
  },
  {
   "cell_type": "code",
   "execution_count": 0,
   "metadata": {
    "application/vnd.databricks.v1+cell": {
     "cellMetadata": {
      "byteLimit": 2048000,
      "rowLimit": 10000
     },
     "inputWidgets": {},
     "nuid": "8100fbd3-a58b-4d1d-b7b4-0efde7725f66",
     "showTitle": false,
     "tableResultSettingsMap": {},
     "title": ""
    }
   },
   "outputs": [
    {
     "output_type": "stream",
     "name": "stdout",
     "output_type": "stream",
     "text": [
      "+-----------+-------------+-------+---------------+-----------+----------+--------+----------------+\n|customer_id|customer_name|address|date_of_joining|customer_id|product_id|quantity|date_of_purchase|\n+-----------+-------------+-------+---------------+-----------+----------+--------+----------------+\n|          1|       manish|  patna|     30-05-2022|          1|        56|       2|      25-06-2023|\n|          1|       manish|  patna|     30-05-2022|          1|        27|       5|      03-02-2023|\n|          1|       manish|  patna|     30-05-2022|          1|        22|      10|      01-06-2022|\n|          2|       vikash|kolkata|     12-03-2023|          2|         1|      12|      15-06-2023|\n|          2|       vikash|kolkata|     12-03-2023|          2|         5|       3|      01-06-2023|\n|          3|       nikita|  delhi|     25-06-2023|       null|      null|    null|            null|\n|          5|       mahesh| jaipur|     22-03-2023|          5|        12|       5|      15-04-2023|\n|          5|       mahesh| jaipur|     22-03-2023|          5|        22|       1|      22-03-2023|\n|          4|        rahul| ranchi|     24-03-2023|       null|      null|    null|            null|\n|          6|     prantosh|kolkata|     18-10-2022|       null|      null|    null|            null|\n|          7|        raman|  patna|     30-12-2022|          7|        22|       4|      03-02-2023|\n|          8|      prakash| ranchi|     24-02-2023|       null|      null|    null|            null|\n|          9|       ragini|kolkata|     03-03-2023|          9|         5|       6|      03-03-2023|\n|         10|      raushan| jaipur|     05-02-2023|       null|      null|    null|            null|\n+-----------+-------------+-------+---------------+-----------+----------+--------+----------------+\n\n"
     ]
    }
   ],
   "source": [
    " customer_df.join(sales_df,sales_df[\"customer_id\"]==customer_df[\"customer_id\"],\"left\").show()"
   ]
  },
  {
   "cell_type": "code",
   "execution_count": 0,
   "metadata": {
    "application/vnd.databricks.v1+cell": {
     "cellMetadata": {
      "byteLimit": 2048000,
      "rowLimit": 10000
     },
     "inputWidgets": {},
     "nuid": "a4e9c41b-e967-400e-bffe-69cf4ffc2acf",
     "showTitle": false,
     "tableResultSettingsMap": {},
     "title": ""
    }
   },
   "outputs": [
    {
     "output_type": "display_data",
     "data": {
      "text/plain": [
       "\u001B[0;31m---------------------------------------------------------------------------\u001B[0m\n",
       "\u001B[0;31mIllegalArgumentException\u001B[0m                  Traceback (most recent call last)\n",
       "File \u001B[0;32m<command-448388170835478>:1\u001B[0m\n",
       "\u001B[0;32m----> 1\u001B[0m \u001B[43mcustomer_df\u001B[49m\u001B[38;5;241;43m.\u001B[39;49m\u001B[43mjoin\u001B[49m\u001B[43m(\u001B[49m\u001B[43msales_df\u001B[49m\u001B[43m,\u001B[49m\u001B[43msales_df\u001B[49m\u001B[43m[\u001B[49m\u001B[38;5;124;43m\"\u001B[39;49m\u001B[38;5;124;43mcustomer_id\u001B[39;49m\u001B[38;5;124;43m\"\u001B[39;49m\u001B[43m]\u001B[49m\u001B[38;5;241;43m==\u001B[39;49m\u001B[43mcustomer_df\u001B[49m\u001B[43m[\u001B[49m\u001B[38;5;124;43m\"\u001B[39;49m\u001B[38;5;124;43mcustomer_id\u001B[39;49m\u001B[38;5;124;43m\"\u001B[39;49m\u001B[43m]\u001B[49m\u001B[43m,\u001B[49m\u001B[38;5;124;43m\"\u001B[39;49m\u001B[38;5;124;43mreght\u001B[39;49m\u001B[38;5;124;43m\"\u001B[39;49m\u001B[43m)\u001B[49m\u001B[38;5;241m.\u001B[39mshow()\n",
       "\n",
       "File \u001B[0;32m/databricks/spark/python/pyspark/instrumentation_utils.py:48\u001B[0m, in \u001B[0;36m_wrap_function.<locals>.wrapper\u001B[0;34m(*args, **kwargs)\u001B[0m\n",
       "\u001B[1;32m     46\u001B[0m start \u001B[38;5;241m=\u001B[39m time\u001B[38;5;241m.\u001B[39mperf_counter()\n",
       "\u001B[1;32m     47\u001B[0m \u001B[38;5;28;01mtry\u001B[39;00m:\n",
       "\u001B[0;32m---> 48\u001B[0m     res \u001B[38;5;241m=\u001B[39m \u001B[43mfunc\u001B[49m\u001B[43m(\u001B[49m\u001B[38;5;241;43m*\u001B[39;49m\u001B[43margs\u001B[49m\u001B[43m,\u001B[49m\u001B[43m \u001B[49m\u001B[38;5;241;43m*\u001B[39;49m\u001B[38;5;241;43m*\u001B[39;49m\u001B[43mkwargs\u001B[49m\u001B[43m)\u001B[49m\n",
       "\u001B[1;32m     49\u001B[0m     logger\u001B[38;5;241m.\u001B[39mlog_success(\n",
       "\u001B[1;32m     50\u001B[0m         module_name, class_name, function_name, time\u001B[38;5;241m.\u001B[39mperf_counter() \u001B[38;5;241m-\u001B[39m start, signature\n",
       "\u001B[1;32m     51\u001B[0m     )\n",
       "\u001B[1;32m     52\u001B[0m     \u001B[38;5;28;01mreturn\u001B[39;00m res\n",
       "\n",
       "File \u001B[0;32m/databricks/spark/python/pyspark/sql/dataframe.py:2364\u001B[0m, in \u001B[0;36mDataFrame.join\u001B[0;34m(self, other, on, how)\u001B[0m\n",
       "\u001B[1;32m   2362\u001B[0m         on \u001B[38;5;241m=\u001B[39m \u001B[38;5;28mself\u001B[39m\u001B[38;5;241m.\u001B[39m_jseq([])\n",
       "\u001B[1;32m   2363\u001B[0m     \u001B[38;5;28;01massert\u001B[39;00m \u001B[38;5;28misinstance\u001B[39m(how, \u001B[38;5;28mstr\u001B[39m), \u001B[38;5;124m\"\u001B[39m\u001B[38;5;124mhow should be a string\u001B[39m\u001B[38;5;124m\"\u001B[39m\n",
       "\u001B[0;32m-> 2364\u001B[0m     jdf \u001B[38;5;241m=\u001B[39m \u001B[38;5;28;43mself\u001B[39;49m\u001B[38;5;241;43m.\u001B[39;49m\u001B[43m_jdf\u001B[49m\u001B[38;5;241;43m.\u001B[39;49m\u001B[43mjoin\u001B[49m\u001B[43m(\u001B[49m\u001B[43mother\u001B[49m\u001B[38;5;241;43m.\u001B[39;49m\u001B[43m_jdf\u001B[49m\u001B[43m,\u001B[49m\u001B[43m \u001B[49m\u001B[43mon\u001B[49m\u001B[43m,\u001B[49m\u001B[43m \u001B[49m\u001B[43mhow\u001B[49m\u001B[43m)\u001B[49m\n",
       "\u001B[1;32m   2365\u001B[0m \u001B[38;5;28;01mreturn\u001B[39;00m DataFrame(jdf, \u001B[38;5;28mself\u001B[39m\u001B[38;5;241m.\u001B[39msparkSession)\n",
       "\n",
       "File \u001B[0;32m/databricks/spark/python/lib/py4j-0.10.9.5-src.zip/py4j/java_gateway.py:1321\u001B[0m, in \u001B[0;36mJavaMember.__call__\u001B[0;34m(self, *args)\u001B[0m\n",
       "\u001B[1;32m   1315\u001B[0m command \u001B[38;5;241m=\u001B[39m proto\u001B[38;5;241m.\u001B[39mCALL_COMMAND_NAME \u001B[38;5;241m+\u001B[39m\\\n",
       "\u001B[1;32m   1316\u001B[0m     \u001B[38;5;28mself\u001B[39m\u001B[38;5;241m.\u001B[39mcommand_header \u001B[38;5;241m+\u001B[39m\\\n",
       "\u001B[1;32m   1317\u001B[0m     args_command \u001B[38;5;241m+\u001B[39m\\\n",
       "\u001B[1;32m   1318\u001B[0m     proto\u001B[38;5;241m.\u001B[39mEND_COMMAND_PART\n",
       "\u001B[1;32m   1320\u001B[0m answer \u001B[38;5;241m=\u001B[39m \u001B[38;5;28mself\u001B[39m\u001B[38;5;241m.\u001B[39mgateway_client\u001B[38;5;241m.\u001B[39msend_command(command)\n",
       "\u001B[0;32m-> 1321\u001B[0m return_value \u001B[38;5;241m=\u001B[39m \u001B[43mget_return_value\u001B[49m\u001B[43m(\u001B[49m\n",
       "\u001B[1;32m   1322\u001B[0m \u001B[43m    \u001B[49m\u001B[43manswer\u001B[49m\u001B[43m,\u001B[49m\u001B[43m \u001B[49m\u001B[38;5;28;43mself\u001B[39;49m\u001B[38;5;241;43m.\u001B[39;49m\u001B[43mgateway_client\u001B[49m\u001B[43m,\u001B[49m\u001B[43m \u001B[49m\u001B[38;5;28;43mself\u001B[39;49m\u001B[38;5;241;43m.\u001B[39;49m\u001B[43mtarget_id\u001B[49m\u001B[43m,\u001B[49m\u001B[43m \u001B[49m\u001B[38;5;28;43mself\u001B[39;49m\u001B[38;5;241;43m.\u001B[39;49m\u001B[43mname\u001B[49m\u001B[43m)\u001B[49m\n",
       "\u001B[1;32m   1324\u001B[0m \u001B[38;5;28;01mfor\u001B[39;00m temp_arg \u001B[38;5;129;01min\u001B[39;00m temp_args:\n",
       "\u001B[1;32m   1325\u001B[0m     temp_arg\u001B[38;5;241m.\u001B[39m_detach()\n",
       "\n",
       "File \u001B[0;32m/databricks/spark/python/pyspark/errors/exceptions.py:234\u001B[0m, in \u001B[0;36mcapture_sql_exception.<locals>.deco\u001B[0;34m(*a, **kw)\u001B[0m\n",
       "\u001B[1;32m    230\u001B[0m converted \u001B[38;5;241m=\u001B[39m convert_exception(e\u001B[38;5;241m.\u001B[39mjava_exception)\n",
       "\u001B[1;32m    231\u001B[0m \u001B[38;5;28;01mif\u001B[39;00m \u001B[38;5;129;01mnot\u001B[39;00m \u001B[38;5;28misinstance\u001B[39m(converted, UnknownException):\n",
       "\u001B[1;32m    232\u001B[0m     \u001B[38;5;66;03m# Hide where the exception came from that shows a non-Pythonic\u001B[39;00m\n",
       "\u001B[1;32m    233\u001B[0m     \u001B[38;5;66;03m# JVM exception message.\u001B[39;00m\n",
       "\u001B[0;32m--> 234\u001B[0m     \u001B[38;5;28;01mraise\u001B[39;00m converted \u001B[38;5;28;01mfrom\u001B[39;00m \u001B[38;5;28mNone\u001B[39m\n",
       "\u001B[1;32m    235\u001B[0m \u001B[38;5;28;01melse\u001B[39;00m:\n",
       "\u001B[1;32m    236\u001B[0m     \u001B[38;5;28;01mraise\u001B[39;00m\n",
       "\n",
       "\u001B[0;31mIllegalArgumentException\u001B[0m: Unsupported join type 'reght'. Supported join types include: 'inner', 'outer', 'full', 'fullouter', 'full_outer', 'leftouter', 'left', 'left_outer', 'rightouter', 'right', 'right_outer', 'leftsemi', 'left_semi', 'semi', 'leftanti', 'left_anti', 'anti', 'cross'."
      ]
     },
     "metadata": {
      "application/vnd.databricks.v1+output": {
       "arguments": {},
       "data": "\u001B[0;31m---------------------------------------------------------------------------\u001B[0m\n\u001B[0;31mIllegalArgumentException\u001B[0m                  Traceback (most recent call last)\nFile \u001B[0;32m<command-448388170835478>:1\u001B[0m\n\u001B[0;32m----> 1\u001B[0m \u001B[43mcustomer_df\u001B[49m\u001B[38;5;241;43m.\u001B[39;49m\u001B[43mjoin\u001B[49m\u001B[43m(\u001B[49m\u001B[43msales_df\u001B[49m\u001B[43m,\u001B[49m\u001B[43msales_df\u001B[49m\u001B[43m[\u001B[49m\u001B[38;5;124;43m\"\u001B[39;49m\u001B[38;5;124;43mcustomer_id\u001B[39;49m\u001B[38;5;124;43m\"\u001B[39;49m\u001B[43m]\u001B[49m\u001B[38;5;241;43m==\u001B[39;49m\u001B[43mcustomer_df\u001B[49m\u001B[43m[\u001B[49m\u001B[38;5;124;43m\"\u001B[39;49m\u001B[38;5;124;43mcustomer_id\u001B[39;49m\u001B[38;5;124;43m\"\u001B[39;49m\u001B[43m]\u001B[49m\u001B[43m,\u001B[49m\u001B[38;5;124;43m\"\u001B[39;49m\u001B[38;5;124;43mreght\u001B[39;49m\u001B[38;5;124;43m\"\u001B[39;49m\u001B[43m)\u001B[49m\u001B[38;5;241m.\u001B[39mshow()\n\nFile \u001B[0;32m/databricks/spark/python/pyspark/instrumentation_utils.py:48\u001B[0m, in \u001B[0;36m_wrap_function.<locals>.wrapper\u001B[0;34m(*args, **kwargs)\u001B[0m\n\u001B[1;32m     46\u001B[0m start \u001B[38;5;241m=\u001B[39m time\u001B[38;5;241m.\u001B[39mperf_counter()\n\u001B[1;32m     47\u001B[0m \u001B[38;5;28;01mtry\u001B[39;00m:\n\u001B[0;32m---> 48\u001B[0m     res \u001B[38;5;241m=\u001B[39m \u001B[43mfunc\u001B[49m\u001B[43m(\u001B[49m\u001B[38;5;241;43m*\u001B[39;49m\u001B[43margs\u001B[49m\u001B[43m,\u001B[49m\u001B[43m \u001B[49m\u001B[38;5;241;43m*\u001B[39;49m\u001B[38;5;241;43m*\u001B[39;49m\u001B[43mkwargs\u001B[49m\u001B[43m)\u001B[49m\n\u001B[1;32m     49\u001B[0m     logger\u001B[38;5;241m.\u001B[39mlog_success(\n\u001B[1;32m     50\u001B[0m         module_name, class_name, function_name, time\u001B[38;5;241m.\u001B[39mperf_counter() \u001B[38;5;241m-\u001B[39m start, signature\n\u001B[1;32m     51\u001B[0m     )\n\u001B[1;32m     52\u001B[0m     \u001B[38;5;28;01mreturn\u001B[39;00m res\n\nFile \u001B[0;32m/databricks/spark/python/pyspark/sql/dataframe.py:2364\u001B[0m, in \u001B[0;36mDataFrame.join\u001B[0;34m(self, other, on, how)\u001B[0m\n\u001B[1;32m   2362\u001B[0m         on \u001B[38;5;241m=\u001B[39m \u001B[38;5;28mself\u001B[39m\u001B[38;5;241m.\u001B[39m_jseq([])\n\u001B[1;32m   2363\u001B[0m     \u001B[38;5;28;01massert\u001B[39;00m \u001B[38;5;28misinstance\u001B[39m(how, \u001B[38;5;28mstr\u001B[39m), \u001B[38;5;124m\"\u001B[39m\u001B[38;5;124mhow should be a string\u001B[39m\u001B[38;5;124m\"\u001B[39m\n\u001B[0;32m-> 2364\u001B[0m     jdf \u001B[38;5;241m=\u001B[39m \u001B[38;5;28;43mself\u001B[39;49m\u001B[38;5;241;43m.\u001B[39;49m\u001B[43m_jdf\u001B[49m\u001B[38;5;241;43m.\u001B[39;49m\u001B[43mjoin\u001B[49m\u001B[43m(\u001B[49m\u001B[43mother\u001B[49m\u001B[38;5;241;43m.\u001B[39;49m\u001B[43m_jdf\u001B[49m\u001B[43m,\u001B[49m\u001B[43m \u001B[49m\u001B[43mon\u001B[49m\u001B[43m,\u001B[49m\u001B[43m \u001B[49m\u001B[43mhow\u001B[49m\u001B[43m)\u001B[49m\n\u001B[1;32m   2365\u001B[0m \u001B[38;5;28;01mreturn\u001B[39;00m DataFrame(jdf, \u001B[38;5;28mself\u001B[39m\u001B[38;5;241m.\u001B[39msparkSession)\n\nFile \u001B[0;32m/databricks/spark/python/lib/py4j-0.10.9.5-src.zip/py4j/java_gateway.py:1321\u001B[0m, in \u001B[0;36mJavaMember.__call__\u001B[0;34m(self, *args)\u001B[0m\n\u001B[1;32m   1315\u001B[0m command \u001B[38;5;241m=\u001B[39m proto\u001B[38;5;241m.\u001B[39mCALL_COMMAND_NAME \u001B[38;5;241m+\u001B[39m\\\n\u001B[1;32m   1316\u001B[0m     \u001B[38;5;28mself\u001B[39m\u001B[38;5;241m.\u001B[39mcommand_header \u001B[38;5;241m+\u001B[39m\\\n\u001B[1;32m   1317\u001B[0m     args_command \u001B[38;5;241m+\u001B[39m\\\n\u001B[1;32m   1318\u001B[0m     proto\u001B[38;5;241m.\u001B[39mEND_COMMAND_PART\n\u001B[1;32m   1320\u001B[0m answer \u001B[38;5;241m=\u001B[39m \u001B[38;5;28mself\u001B[39m\u001B[38;5;241m.\u001B[39mgateway_client\u001B[38;5;241m.\u001B[39msend_command(command)\n\u001B[0;32m-> 1321\u001B[0m return_value \u001B[38;5;241m=\u001B[39m \u001B[43mget_return_value\u001B[49m\u001B[43m(\u001B[49m\n\u001B[1;32m   1322\u001B[0m \u001B[43m    \u001B[49m\u001B[43manswer\u001B[49m\u001B[43m,\u001B[49m\u001B[43m \u001B[49m\u001B[38;5;28;43mself\u001B[39;49m\u001B[38;5;241;43m.\u001B[39;49m\u001B[43mgateway_client\u001B[49m\u001B[43m,\u001B[49m\u001B[43m \u001B[49m\u001B[38;5;28;43mself\u001B[39;49m\u001B[38;5;241;43m.\u001B[39;49m\u001B[43mtarget_id\u001B[49m\u001B[43m,\u001B[49m\u001B[43m \u001B[49m\u001B[38;5;28;43mself\u001B[39;49m\u001B[38;5;241;43m.\u001B[39;49m\u001B[43mname\u001B[49m\u001B[43m)\u001B[49m\n\u001B[1;32m   1324\u001B[0m \u001B[38;5;28;01mfor\u001B[39;00m temp_arg \u001B[38;5;129;01min\u001B[39;00m temp_args:\n\u001B[1;32m   1325\u001B[0m     temp_arg\u001B[38;5;241m.\u001B[39m_detach()\n\nFile \u001B[0;32m/databricks/spark/python/pyspark/errors/exceptions.py:234\u001B[0m, in \u001B[0;36mcapture_sql_exception.<locals>.deco\u001B[0;34m(*a, **kw)\u001B[0m\n\u001B[1;32m    230\u001B[0m converted \u001B[38;5;241m=\u001B[39m convert_exception(e\u001B[38;5;241m.\u001B[39mjava_exception)\n\u001B[1;32m    231\u001B[0m \u001B[38;5;28;01mif\u001B[39;00m \u001B[38;5;129;01mnot\u001B[39;00m \u001B[38;5;28misinstance\u001B[39m(converted, UnknownException):\n\u001B[1;32m    232\u001B[0m     \u001B[38;5;66;03m# Hide where the exception came from that shows a non-Pythonic\u001B[39;00m\n\u001B[1;32m    233\u001B[0m     \u001B[38;5;66;03m# JVM exception message.\u001B[39;00m\n\u001B[0;32m--> 234\u001B[0m     \u001B[38;5;28;01mraise\u001B[39;00m converted \u001B[38;5;28;01mfrom\u001B[39;00m \u001B[38;5;28mNone\u001B[39m\n\u001B[1;32m    235\u001B[0m \u001B[38;5;28;01melse\u001B[39;00m:\n\u001B[1;32m    236\u001B[0m     \u001B[38;5;28;01mraise\u001B[39;00m\n\n\u001B[0;31mIllegalArgumentException\u001B[0m: Unsupported join type 'reght'. Supported join types include: 'inner', 'outer', 'full', 'fullouter', 'full_outer', 'leftouter', 'left', 'left_outer', 'rightouter', 'right', 'right_outer', 'leftsemi', 'left_semi', 'semi', 'leftanti', 'left_anti', 'anti', 'cross'.",
       "errorSummary": "<span class='ansi-red-fg'>IllegalArgumentException</span>: Unsupported join type 'reght'. Supported join types include: 'inner', 'outer', 'full', 'fullouter', 'full_outer', 'leftouter', 'left', 'left_outer', 'rightouter', 'right', 'right_outer', 'leftsemi', 'left_semi', 'semi', 'leftanti', 'left_anti', 'anti', 'cross'.",
       "errorTraceType": "ansi",
       "metadata": {},
       "type": "ipynbError"
      }
     },
     "output_type": "display_data"
    }
   ],
   "source": [
    " customer_df.join(sales_df,sales_df[\"customer_id\"]==customer_df[\"customer_id\"],\"reght\").show()"
   ]
  },
  {
   "cell_type": "code",
   "execution_count": 0,
   "metadata": {
    "application/vnd.databricks.v1+cell": {
     "cellMetadata": {
      "byteLimit": 2048000,
      "rowLimit": 10000
     },
     "inputWidgets": {},
     "nuid": "2baed249-402d-4ca5-b756-201029be1a21",
     "showTitle": false,
     "tableResultSettingsMap": {},
     "title": ""
    }
   },
   "outputs": [
    {
     "output_type": "stream",
     "name": "stdout",
     "output_type": "stream",
     "text": [
      "+-----------+-------------+-------+---------------+-----------+----------+--------+----------------+\n|customer_id|customer_name|address|date_of_joining|customer_id|product_id|quantity|date_of_purchase|\n+-----------+-------------+-------+---------------+-----------+----------+--------+----------------+\n|          1|       manish|  patna|     30-05-2022|          1|        22|      10|      01-06-2022|\n|          1|       manish|  patna|     30-05-2022|          1|        27|       5|      03-02-2023|\n|          2|       vikash|kolkata|     12-03-2023|          2|         5|       3|      01-06-2023|\n|          7|        raman|  patna|     30-12-2022|          7|        22|       4|      03-02-2023|\n|          5|       mahesh| jaipur|     22-03-2023|          5|        22|       1|      22-03-2023|\n|          9|       ragini|kolkata|     03-03-2023|          9|         5|       6|      03-03-2023|\n|          2|       vikash|kolkata|     12-03-2023|          2|         1|      12|      15-06-2023|\n|          1|       manish|  patna|     30-05-2022|          1|        56|       2|      25-06-2023|\n|          5|       mahesh| jaipur|     22-03-2023|          5|        12|       5|      15-04-2023|\n|       null|         null|   null|           null|         11|        12|      76|      12-03-2023|\n+-----------+-------------+-------+---------------+-----------+----------+--------+----------------+\n\n"
     ]
    }
   ],
   "source": [
    " customer_df.join(sales_df,sales_df[\"customer_id\"]==customer_df[\"customer_id\"],\"right\").show()"
   ]
  },
  {
   "cell_type": "code",
   "execution_count": 0,
   "metadata": {
    "application/vnd.databricks.v1+cell": {
     "cellMetadata": {
      "byteLimit": 2048000,
      "rowLimit": 10000
     },
     "inputWidgets": {},
     "nuid": "4c17d475-acd4-480c-ad88-7b76d914958b",
     "showTitle": false,
     "tableResultSettingsMap": {},
     "title": ""
    }
   },
   "outputs": [
    {
     "output_type": "stream",
     "name": "stdout",
     "output_type": "stream",
     "text": [
      "+-----------+----------+--------+----------------+---+-------+-----+\n|customer_id|product_id|quantity|date_of_purchase| id|   name|price|\n+-----------+----------+--------+----------------+---+-------+-----+\n|          2|         1|      12|      15-06-2023|  1|  fanta|   20|\n|       null|      null|    null|            null|  2|    dew|   22|\n|          9|         5|       6|      03-03-2023|  5| sprite|   40|\n|          2|         5|       3|      01-06-2023|  5| sprite|   40|\n|       null|      null|    null|            null|  7|redbull|  100|\n|         11|        12|      76|      12-03-2023| 12|  mazza|   45|\n|          5|        12|       5|      15-04-2023| 12|  mazza|   45|\n|          7|        22|       4|      03-02-2023| 22|   coke|   27|\n|          5|        22|       1|      22-03-2023| 22|   coke|   27|\n|          1|        22|      10|      01-06-2022| 22|   coke|   27|\n|       null|      null|    null|            null| 25|  limca|   21|\n|          1|        27|       5|      03-02-2023| 27|  pepsi|   14|\n|          1|        56|       2|      25-06-2023| 56|  sting|   10|\n+-----------+----------+--------+----------------+---+-------+-----+\n\n"
     ]
    }
   ],
   "source": [
    "sales_df.join(product_df,sales_df[\"product_id\"]==product_df[\"id\"],\"right\").show()"
   ]
  },
  {
   "cell_type": "code",
   "execution_count": 0,
   "metadata": {
    "application/vnd.databricks.v1+cell": {
     "cellMetadata": {
      "byteLimit": 2048000,
      "rowLimit": 10000
     },
     "inputWidgets": {},
     "nuid": "e402f39f-400a-4a00-b4fc-919c867dee9d",
     "showTitle": false,
     "tableResultSettingsMap": {},
     "title": ""
    }
   },
   "outputs": [
    {
     "output_type": "stream",
     "name": "stdout",
     "output_type": "stream",
     "text": [
      "+---+-------+-----+-----------+----------+--------+----------------+\n| id|   name|price|customer_id|product_id|quantity|date_of_purchase|\n+---+-------+-----+-----------+----------+--------+----------------+\n|  1|  fanta|   20|          2|         1|      12|      15-06-2023|\n|  2|    dew|   22|       null|      null|    null|            null|\n|  5| sprite|   40|          9|         5|       6|      03-03-2023|\n|  5| sprite|   40|          2|         5|       3|      01-06-2023|\n|  7|redbull|  100|       null|      null|    null|            null|\n| 12|  mazza|   45|         11|        12|      76|      12-03-2023|\n| 12|  mazza|   45|          5|        12|       5|      15-04-2023|\n| 22|   coke|   27|          7|        22|       4|      03-02-2023|\n| 22|   coke|   27|          5|        22|       1|      22-03-2023|\n| 22|   coke|   27|          1|        22|      10|      01-06-2022|\n| 25|  limca|   21|       null|      null|    null|            null|\n| 27|  pepsi|   14|          1|        27|       5|      03-02-2023|\n| 56|  sting|   10|          1|        56|       2|      25-06-2023|\n+---+-------+-----+-----------+----------+--------+----------------+\n\n"
     ]
    }
   ],
   "source": [
    "product_df.join(sales_df,sales_df[\"product_id\"]==product_df[\"id\"],\"left\").show()"
   ]
  },
  {
   "cell_type": "code",
   "execution_count": 0,
   "metadata": {
    "application/vnd.databricks.v1+cell": {
     "cellMetadata": {
      "byteLimit": 2048000,
      "rowLimit": 10000
     },
     "inputWidgets": {},
     "nuid": "f991c4df-c036-4a91-b7f2-122e4d879e47",
     "showTitle": false,
     "tableResultSettingsMap": {},
     "title": ""
    }
   },
   "outputs": [
    {
     "output_type": "stream",
     "name": "stdout",
     "output_type": "stream",
     "text": [
      "+-----------+-------------+-------+---------------+-----------+----------+--------+----------------+\n|customer_id|customer_name|address|date_of_joining|customer_id|product_id|quantity|date_of_purchase|\n+-----------+-------------+-------+---------------+-----------+----------+--------+----------------+\n|          1|       manish|  patna|     30-05-2022|          1|        22|      10|      01-06-2022|\n|          1|       manish|  patna|     30-05-2022|          1|        27|       5|      03-02-2023|\n|          1|       manish|  patna|     30-05-2022|          1|        56|       2|      25-06-2023|\n|          2|       vikash|kolkata|     12-03-2023|          2|         5|       3|      01-06-2023|\n|          2|       vikash|kolkata|     12-03-2023|          2|         1|      12|      15-06-2023|\n|          3|       nikita|  delhi|     25-06-2023|       null|      null|    null|            null|\n|          4|        rahul| ranchi|     24-03-2023|       null|      null|    null|            null|\n|          5|       mahesh| jaipur|     22-03-2023|          5|        22|       1|      22-03-2023|\n|          5|       mahesh| jaipur|     22-03-2023|          5|        12|       5|      15-04-2023|\n|          6|     prantosh|kolkata|     18-10-2022|       null|      null|    null|            null|\n|          7|        raman|  patna|     30-12-2022|          7|        22|       4|      03-02-2023|\n|          8|      prakash| ranchi|     24-02-2023|       null|      null|    null|            null|\n|          9|       ragini|kolkata|     03-03-2023|          9|         5|       6|      03-03-2023|\n|         10|      raushan| jaipur|     05-02-2023|       null|      null|    null|            null|\n|       null|         null|   null|           null|         11|        12|      76|      12-03-2023|\n+-----------+-------------+-------+---------------+-----------+----------+--------+----------------+\n\n"
     ]
    }
   ],
   "source": [
    " customer_df.join(sales_df,sales_df[\"customer_id\"]==customer_df[\"customer_id\"],\"outer\").show()"
   ]
  },
  {
   "cell_type": "code",
   "execution_count": 0,
   "metadata": {
    "application/vnd.databricks.v1+cell": {
     "cellMetadata": {
      "byteLimit": 2048000,
      "rowLimit": 10000
     },
     "inputWidgets": {},
     "nuid": "1d22f485-0de1-4732-8a5f-c63c23836bc8",
     "showTitle": false,
     "tableResultSettingsMap": {},
     "title": ""
    }
   },
   "outputs": [
    {
     "output_type": "stream",
     "name": "stdout",
     "output_type": "stream",
     "text": [
      "+-----------+-------------+-------+---------------+\n|customer_id|customer_name|address|date_of_joining|\n+-----------+-------------+-------+---------------+\n|          1|       manish|  patna|     30-05-2022|\n|          2|       vikash|kolkata|     12-03-2023|\n|          3|       nikita|  delhi|     25-06-2023|\n|          4|        rahul| ranchi|     24-03-2023|\n|          5|       mahesh| jaipur|     22-03-2023|\n|          6|     prantosh|kolkata|     18-10-2022|\n|          7|        raman|  patna|     30-12-2022|\n|          8|      prakash| ranchi|     24-02-2023|\n|          9|       ragini|kolkata|     03-03-2023|\n|         10|      raushan| jaipur|     05-02-2023|\n+-----------+-------------+-------+---------------+\n\n"
     ]
    }
   ],
   "source": [
    "customer_df.show()"
   ]
  },
  {
   "cell_type": "code",
   "execution_count": 0,
   "metadata": {
    "application/vnd.databricks.v1+cell": {
     "cellMetadata": {
      "byteLimit": 2048000,
      "rowLimit": 10000
     },
     "inputWidgets": {},
     "nuid": "e6745580-47d3-433e-8c2d-fc54f89ed325",
     "showTitle": false,
     "tableResultSettingsMap": {},
     "title": ""
    }
   },
   "outputs": [
    {
     "output_type": "stream",
     "name": "stdout",
     "output_type": "stream",
     "text": [
      "+-----------+----------+--------+----------------+\n|customer_id|product_id|quantity|date_of_purchase|\n+-----------+----------+--------+----------------+\n|          1|        22|      10|      01-06-2022|\n|          1|        27|       5|      03-02-2023|\n|          2|         5|       3|      01-06-2023|\n|          5|        22|       1|      22-03-2023|\n|          7|        22|       4|      03-02-2023|\n|          9|         5|       6|      03-03-2023|\n|          2|         1|      12|      15-06-2023|\n|          1|        56|       2|      25-06-2023|\n|          5|        12|       5|      15-04-2023|\n|         11|        12|      76|      12-03-2023|\n+-----------+----------+--------+----------------+\n\n"
     ]
    }
   ],
   "source": [
    "sales_df.show()"
   ]
  },
  {
   "cell_type": "code",
   "execution_count": 0,
   "metadata": {
    "application/vnd.databricks.v1+cell": {
     "cellMetadata": {
      "byteLimit": 2048000,
      "rowLimit": 10000
     },
     "inputWidgets": {},
     "nuid": "0510cce7-565a-4d95-a2e7-68a574aca9ea",
     "showTitle": false,
     "tableResultSettingsMap": {},
     "title": ""
    }
   },
   "outputs": [
    {
     "output_type": "stream",
     "name": "stdout",
     "output_type": "stream",
     "text": [
      "+-----------+-------------+-------+---------------+\n|customer_id|customer_name|address|date_of_joining|\n+-----------+-------------+-------+---------------+\n|          1|       manish|  patna|     30-05-2022|\n|          2|       vikash|kolkata|     12-03-2023|\n|          5|       mahesh| jaipur|     22-03-2023|\n|          7|        raman|  patna|     30-12-2022|\n|          9|       ragini|kolkata|     03-03-2023|\n+-----------+-------------+-------+---------------+\n\n"
     ]
    }
   ],
   "source": [
    " customer_df.join(sales_df,sales_df[\"customer_id\"]==customer_df[\"customer_id\"],\"left_semi\").show()"
   ]
  },
  {
   "cell_type": "code",
   "execution_count": 0,
   "metadata": {
    "application/vnd.databricks.v1+cell": {
     "cellMetadata": {
      "byteLimit": 2048000,
      "rowLimit": 10000
     },
     "inputWidgets": {},
     "nuid": "82911349-364f-4eac-beb2-315613f60a81",
     "showTitle": false,
     "tableResultSettingsMap": {},
     "title": ""
    }
   },
   "outputs": [
    {
     "output_type": "stream",
     "name": "stdout",
     "output_type": "stream",
     "text": [
      "+-----------+-------------+-------+---------------+\n|customer_id|customer_name|address|date_of_joining|\n+-----------+-------------+-------+---------------+\n|          3|       nikita|  delhi|     25-06-2023|\n|          4|        rahul| ranchi|     24-03-2023|\n|          6|     prantosh|kolkata|     18-10-2022|\n|          8|      prakash| ranchi|     24-02-2023|\n|         10|      raushan| jaipur|     05-02-2023|\n+-----------+-------------+-------+---------------+\n\n"
     ]
    }
   ],
   "source": [
    " customer_df.join(sales_df,sales_df[\"customer_id\"]==customer_df[\"customer_id\"],\"left_anti\").show()"
   ]
  },
  {
   "cell_type": "code",
   "execution_count": 0,
   "metadata": {
    "application/vnd.databricks.v1+cell": {
     "cellMetadata": {
      "byteLimit": 2048000,
      "rowLimit": 10000
     },
     "inputWidgets": {},
     "nuid": "378188db-8df3-494d-950f-7da410e2fe07",
     "showTitle": false,
     "tableResultSettingsMap": {},
     "title": ""
    }
   },
   "outputs": [
    {
     "output_type": "stream",
     "name": "stdout",
     "output_type": "stream",
     "text": [
      "+-----------+-------------+-------+---------------+-----------+----------+--------+----------------+\n|customer_id|customer_name|address|date_of_joining|customer_id|product_id|quantity|date_of_purchase|\n+-----------+-------------+-------+---------------+-----------+----------+--------+----------------+\n|          1|       manish|  patna|     30-05-2022|          1|        22|      10|      01-06-2022|\n|          1|       manish|  patna|     30-05-2022|          1|        27|       5|      03-02-2023|\n|          1|       manish|  patna|     30-05-2022|          2|         5|       3|      01-06-2023|\n|          1|       manish|  patna|     30-05-2022|          5|        22|       1|      22-03-2023|\n|          1|       manish|  patna|     30-05-2022|          7|        22|       4|      03-02-2023|\n|          1|       manish|  patna|     30-05-2022|          9|         5|       6|      03-03-2023|\n|          1|       manish|  patna|     30-05-2022|          2|         1|      12|      15-06-2023|\n|          1|       manish|  patna|     30-05-2022|          1|        56|       2|      25-06-2023|\n|          1|       manish|  patna|     30-05-2022|          5|        12|       5|      15-04-2023|\n|          1|       manish|  patna|     30-05-2022|         11|        12|      76|      12-03-2023|\n|          2|       vikash|kolkata|     12-03-2023|          1|        22|      10|      01-06-2022|\n|          2|       vikash|kolkata|     12-03-2023|          1|        27|       5|      03-02-2023|\n|          2|       vikash|kolkata|     12-03-2023|          2|         5|       3|      01-06-2023|\n|          2|       vikash|kolkata|     12-03-2023|          5|        22|       1|      22-03-2023|\n|          2|       vikash|kolkata|     12-03-2023|          7|        22|       4|      03-02-2023|\n|          2|       vikash|kolkata|     12-03-2023|          9|         5|       6|      03-03-2023|\n|          2|       vikash|kolkata|     12-03-2023|          2|         1|      12|      15-06-2023|\n|          2|       vikash|kolkata|     12-03-2023|          1|        56|       2|      25-06-2023|\n|          2|       vikash|kolkata|     12-03-2023|          5|        12|       5|      15-04-2023|\n|          2|       vikash|kolkata|     12-03-2023|         11|        12|      76|      12-03-2023|\n+-----------+-------------+-------+---------------+-----------+----------+--------+----------------+\nonly showing top 20 rows\n\n"
     ]
    }
   ],
   "source": [
    " customer_df.crossJoin(sales_df).show()"
   ]
  },
  {
   "cell_type": "code",
   "execution_count": 0,
   "metadata": {
    "application/vnd.databricks.v1+cell": {
     "cellMetadata": {
      "byteLimit": 2048000,
      "rowLimit": 10000
     },
     "inputWidgets": {},
     "nuid": "700cb149-1546-45f8-950e-92e1d06138ae",
     "showTitle": false,
     "tableResultSettingsMap": {},
     "title": ""
    }
   },
   "outputs": [
    {
     "output_type": "stream",
     "name": "stdout",
     "output_type": "stream",
     "text": [
      "Out[28]: 10"
     ]
    }
   ],
   "source": [
    "customer_df.count()"
   ]
  },
  {
   "cell_type": "code",
   "execution_count": 0,
   "metadata": {
    "application/vnd.databricks.v1+cell": {
     "cellMetadata": {
      "byteLimit": 2048000,
      "rowLimit": 10000
     },
     "inputWidgets": {},
     "nuid": "622c076c-e3aa-4733-92e1-aa28ad78371e",
     "showTitle": false,
     "tableResultSettingsMap": {},
     "title": ""
    }
   },
   "outputs": [
    {
     "output_type": "stream",
     "name": "stdout",
     "output_type": "stream",
     "text": [
      "Out[27]: 10"
     ]
    }
   ],
   "source": [
    "sales_df.count()"
   ]
  },
  {
   "cell_type": "code",
   "execution_count": 0,
   "metadata": {
    "application/vnd.databricks.v1+cell": {
     "cellMetadata": {
      "byteLimit": 2048000,
      "rowLimit": 10000
     },
     "inputWidgets": {},
     "nuid": "045734da-24a2-41a7-9151-3452f35916f7",
     "showTitle": false,
     "tableResultSettingsMap": {},
     "title": ""
    }
   },
   "outputs": [
    {
     "output_type": "stream",
     "name": "stdout",
     "output_type": "stream",
     "text": [
      "Out[25]: 100"
     ]
    }
   ],
   "source": [
    "# crossjoin = customer_df.count() * sales_df.count()\n",
    " customer_df.crossJoin(sales_df).count()"
   ]
  },
  {
   "cell_type": "code",
   "execution_count": 0,
   "metadata": {
    "application/vnd.databricks.v1+cell": {
     "cellMetadata": {
      "byteLimit": 2048000,
      "rowLimit": 10000
     },
     "inputWidgets": {},
     "nuid": "d80c3c14-668a-4a20-b761-f53d2fad7899",
     "showTitle": false,
     "tableResultSettingsMap": {},
     "title": ""
    }
   },
   "outputs": [
    {
     "output_type": "stream",
     "name": "stdout",
     "output_type": "stream",
     "text": [
      "+---------+--------+-------------+--------+\n|firstName|lastName|         city|   state|\n+---------+--------+-------------+--------+\n|    Allen|    Wang|         null|    null|\n|      Bob|   Alice|New York City|New York|\n+---------+--------+-------------+--------+\n\n"
     ]
    }
   ],
   "source": [
    "from pyspark.sql import SparkSession\n",
    "\n",
    "# Create Spark session\n",
    "spark = SparkSession.builder.appName(\"Join Example\").getOrCreate()\n",
    "\n",
    "# Create the Person DataFrame\n",
    "person_data = [\n",
    "    (1, 'Wang', 'Allen'),\n",
    "    (2, 'Alice', 'Bob')\n",
    "]\n",
    "person_columns = [\"personId\", \"lastName\", \"firstName\"]\n",
    "person_df = spark.createDataFrame(person_data, schema=person_columns)\n",
    "\n",
    "# Create the Address DataFrame\n",
    "address_data = [\n",
    "    (1, 2, 'New York City', 'New York'),\n",
    "    (2, 3, 'Leetcode', 'California')\n",
    "]\n",
    "address_columns = [\"addressId\", \"personId\", \"city\", \"state\"]\n",
    "address_df = spark.createDataFrame(address_data, schema=address_columns)\n",
    "\n",
    "# Perform a left join\n",
    "result_df = person_df.join(address_df, on=\"personId\", how=\"left\") \\\n",
    "    .select(\"firstName\", \"lastName\", \"city\", \"state\")\n",
    "\n",
    "# Show the result\n",
    "result_df.show()"
   ]
  },
  {
   "cell_type": "markdown",
   "metadata": {
    "application/vnd.databricks.v1+cell": {
     "cellMetadata": {},
     "inputWidgets": {},
     "nuid": "bd60b1dc-2091-4bcb-9d55-e2665411d040",
     "showTitle": false,
     "tableResultSettingsMap": {},
     "title": ""
    }
   },
   "source": [
    "#***window function in pyspark***"
   ]
  },
  {
   "cell_type": "code",
   "execution_count": 0,
   "metadata": {
    "application/vnd.databricks.v1+cell": {
     "cellMetadata": {
      "byteLimit": 2048000,
      "rowLimit": 10000
     },
     "inputWidgets": {},
     "nuid": "69980154-17fa-44f3-9941-efbc8dd346e5",
     "showTitle": false,
     "tableResultSettingsMap": {},
     "title": ""
    }
   },
   "outputs": [
    {
     "output_type": "stream",
     "name": "stdout",
     "output_type": "stream",
     "text": [
      "+---+--------+------+------+---------+\n| id|    name|salary|gender|     dept|\n+---+--------+------+------+---------+\n|  1|  manish| 50000|     m|       IT|\n|  2|  vikash| 60000|     m|    sales|\n|  3| raushan| 70000|     m|marketing|\n|  4|  mukesh| 80000|     m|       IT|\n|  5|   priti| 90000|     f|    sales|\n|  6|  nikita| 45000|     f|marketing|\n|  7|  ragini| 55000|     f|marketing|\n|  8|   rashi|100000|     f|       IT|\n|  9|  aditya| 65000|     m|       IT|\n| 10|   rahul| 50000|     m|marketing|\n| 11|   rakhi| 50000|     f|       IT|\n| 12|akhilesh| 90000|     m|    sales|\n+---+--------+------+------+---------+\n\n"
     ]
    }
   ],
   "source": [
    "from pyspark.sql.functions import *\n",
    "from pyspark.sql.types import * \n",
    "\n",
    "emp_data = [(1,'manish',50000,'IT','m'),\n",
    "(2,'vikash',60000,'sales','m'),\n",
    "(3,'raushan',70000,'marketing','m'),\n",
    "(4,'mukesh',80000,'IT','m'),\n",
    "(5,'priti',90000,'sales','f'),\n",
    "(6,'nikita',45000,'marketing','f'),\n",
    "(7,'ragini',55000,'marketing','f'),\n",
    "(8,'rashi',100000,'IT','f'),\n",
    "(9,'aditya',65000,'IT','m'),\n",
    "(10,'rahul',50000,'marketing','m'),\n",
    "(11,'rakhi',50000,'IT','f'),\n",
    "(12,'akhilesh',90000,'sales','m')]\n",
    " \n",
    "\n",
    "emp_schema=[\"id\",\"name\",\"salary\",\"dept\",\"gender\"]\n",
    "\n",
    "emp_df = spark.createDataFrame(data=emp_data , schema=emp_schema)\n",
    "\n",
    "emp_df = emp_df.select(\"id\",\"name\",\"salary\",\"gender\",\"dept\")\n",
    "emp_df.show()"
   ]
  },
  {
   "cell_type": "code",
   "execution_count": 0,
   "metadata": {
    "application/vnd.databricks.v1+cell": {
     "cellMetadata": {
      "byteLimit": 2048000,
      "rowLimit": 10000
     },
     "inputWidgets": {},
     "nuid": "d3c494f1-8627-4dfe-b0fc-bd49895a11b2",
     "showTitle": false,
     "tableResultSettingsMap": {},
     "title": ""
    }
   },
   "outputs": [
    {
     "output_type": "stream",
     "name": "stdout",
     "output_type": "stream",
     "text": [
      "+---------+------------+\n|     dept|total_salary|\n+---------+------------+\n|       IT|      345000|\n|marketing|      220000|\n|    sales|      240000|\n+---------+------------+\n\n"
     ]
    }
   ],
   "source": [
    "group =  emp_df.groupBy(\"dept\")\\\n",
    "    .agg(sum(\"salary\").alias(\"total_salary\"))\n",
    "\n",
    "group.show()"
   ]
  },
  {
   "cell_type": "code",
   "execution_count": 0,
   "metadata": {
    "application/vnd.databricks.v1+cell": {
     "cellMetadata": {
      "byteLimit": 2048000,
      "rowLimit": 10000
     },
     "inputWidgets": {},
     "nuid": "af30579e-d763-4a61-ae39-a757de43efcd",
     "showTitle": false,
     "tableResultSettingsMap": {},
     "title": ""
    }
   },
   "outputs": [
    {
     "output_type": "stream",
     "name": "stdout",
     "output_type": "stream",
     "text": [
      "+---+--------+------+------+---------+---------+\n|id |name    |salary|gender|dept     |total_sal|\n+---+--------+------+------+---------+---------+\n|1  |manish  |50000 |m     |IT       |345000   |\n|4  |mukesh  |80000 |m     |IT       |345000   |\n|8  |rashi   |100000|f     |IT       |345000   |\n|9  |aditya  |65000 |m     |IT       |345000   |\n|11 |rakhi   |50000 |f     |IT       |345000   |\n|3  |raushan |70000 |m     |marketing|220000   |\n|6  |nikita  |45000 |f     |marketing|220000   |\n|7  |ragini  |55000 |f     |marketing|220000   |\n|10 |rahul   |50000 |m     |marketing|220000   |\n|2  |vikash  |60000 |m     |sales    |240000   |\n|5  |priti   |90000 |f     |sales    |240000   |\n|12 |akhilesh|90000 |m     |sales    |240000   |\n+---+--------+------+------+---------+---------+\n\n"
     ]
    }
   ],
   "source": [
    "from pyspark.sql import SparkSession\n",
    "from pyspark.sql import Window\n",
    "from pyspark.sql.functions import col, sum\n",
    "\n",
    "window_spec = Window.partitionBy(\"dept\")\n",
    "\n",
    "emp_df.withColumn(\"total_sal\",sum(col(\"salary\")).over(window_spec)).show(truncate=False)"
   ]
  },
  {
   "cell_type": "code",
   "execution_count": 0,
   "metadata": {
    "application/vnd.databricks.v1+cell": {
     "cellMetadata": {
      "byteLimit": 2048000,
      "rowLimit": 10000
     },
     "inputWidgets": {},
     "nuid": "71c9ab00-4962-49e2-9cd2-682b4e836f7d",
     "showTitle": false,
     "tableResultSettingsMap": {},
     "title": ""
    }
   },
   "outputs": [
    {
     "output_type": "stream",
     "name": "stdout",
     "output_type": "stream",
     "text": [
      "+---+--------+------+------+---------+---------+\n|id |name    |salary|gender|dept     |total_sal|\n+---+--------+------+------+---------+---------+\n|1  |manish  |50000 |m     |IT       |345000   |\n|4  |mukesh  |80000 |m     |IT       |345000   |\n|8  |rashi   |100000|f     |IT       |345000   |\n|9  |aditya  |65000 |m     |IT       |345000   |\n|11 |rakhi   |50000 |f     |IT       |345000   |\n|3  |raushan |70000 |m     |marketing|220000   |\n|6  |nikita  |45000 |f     |marketing|220000   |\n|7  |ragini  |55000 |f     |marketing|220000   |\n|10 |rahul   |50000 |m     |marketing|220000   |\n|2  |vikash  |60000 |m     |sales    |240000   |\n|5  |priti   |90000 |f     |sales    |240000   |\n|12 |akhilesh|90000 |m     |sales    |240000   |\n+---+--------+------+------+---------+---------+\n\n"
     ]
    }
   ],
   "source": [
    "# Define the window specification\n",
    "window_spec = Window.partitionBy(\"dept\")\n",
    "\n",
    "# Calculate total salary per department\n",
    "result_df = emp_df.withColumn(\"total_sal\", sum(col(\"salary\")).over(window_spec))\n",
    "\n",
    "# Show the result\n",
    "result_df.show(truncate=False)"
   ]
  },
  {
   "cell_type": "code",
   "execution_count": 0,
   "metadata": {
    "application/vnd.databricks.v1+cell": {
     "cellMetadata": {
      "byteLimit": 2048000,
      "rowLimit": 10000
     },
     "inputWidgets": {},
     "nuid": "e4c1af27-7f2b-46ea-a7c3-115529858181",
     "showTitle": false,
     "tableResultSettingsMap": {},
     "title": ""
    }
   },
   "outputs": [
    {
     "output_type": "stream",
     "name": "stdout",
     "output_type": "stream",
     "text": [
      "+---+--------+------+------+---------+------------+\n| id|    name|salary|gender|     dept|total_salary|\n+---+--------+------+------+---------+------------+\n| 11|   rakhi| 50000|     f|       IT|      345000|\n|  9|  aditya| 65000|     m|       IT|      345000|\n|  8|   rashi|100000|     f|       IT|      345000|\n|  4|  mukesh| 80000|     m|       IT|      345000|\n|  1|  manish| 50000|     m|       IT|      345000|\n| 10|   rahul| 50000|     m|marketing|      220000|\n|  7|  ragini| 55000|     f|marketing|      220000|\n|  6|  nikita| 45000|     f|marketing|      220000|\n|  3| raushan| 70000|     m|marketing|      220000|\n| 12|akhilesh| 90000|     m|    sales|      240000|\n|  5|   priti| 90000|     f|    sales|      240000|\n|  2|  vikash| 60000|     m|    sales|      240000|\n+---+--------+------+------+---------+------------+\n\n"
     ]
    }
   ],
   "source": [
    "# Perform a left join\n",
    "result_dfs = group.join(result_df, on=\"dept\", how=\"left\") \\\n",
    "    .select(\"id\",\"name\", \"salary\", \"gender\",\"dept\", \"total_salary\")\n",
    "\n",
    "# Show the result\n",
    "result_dfs.show()"
   ]
  },
  {
   "cell_type": "code",
   "execution_count": 0,
   "metadata": {
    "application/vnd.databricks.v1+cell": {
     "cellMetadata": {
      "byteLimit": 2048000,
      "rowLimit": 10000
     },
     "inputWidgets": {},
     "nuid": "0000c9fd-73bc-4437-af70-1333302f595b",
     "showTitle": false,
     "tableResultSettingsMap": {},
     "title": ""
    }
   },
   "outputs": [
    {
     "output_type": "stream",
     "name": "stdout",
     "output_type": "stream",
     "text": [
      "+---+--------+------+------+---------+----------+\n|id |name    |salary|gender|dept     |row_number|\n+---+--------+------+------+---------+----------+\n|11 |rakhi   |50000 |f     |IT       |1         |\n|8  |rashi   |100000|f     |IT       |2         |\n|1  |manish  |50000 |m     |IT       |1         |\n|9  |aditya  |65000 |m     |IT       |2         |\n|4  |mukesh  |80000 |m     |IT       |3         |\n|6  |nikita  |45000 |f     |marketing|1         |\n|7  |ragini  |55000 |f     |marketing|2         |\n|10 |rahul   |50000 |m     |marketing|1         |\n|3  |raushan |70000 |m     |marketing|2         |\n|5  |priti   |90000 |f     |sales    |1         |\n|2  |vikash  |60000 |m     |sales    |1         |\n|12 |akhilesh|90000 |m     |sales    |2         |\n+---+--------+------+------+---------+----------+\n\n"
     ]
    }
   ],
   "source": [
    "from pyspark.sql.window import Window\n",
    "\n",
    "window = Window.partitionBy(\"dept\",\"gender\").orderBy(\"salary\")\n",
    "\n",
    "emp_df.withColumn(\"row_number\",row_number().over(window))\\\n",
    "    .show(truncate=False)"
   ]
  },
  {
   "cell_type": "code",
   "execution_count": 0,
   "metadata": {
    "application/vnd.databricks.v1+cell": {
     "cellMetadata": {
      "byteLimit": 2048000,
      "rowLimit": 10000
     },
     "inputWidgets": {},
     "nuid": "3e049566-26a5-48dc-912c-2d7b763f4527",
     "showTitle": false,
     "tableResultSettingsMap": {},
     "title": ""
    }
   },
   "outputs": [
    {
     "output_type": "stream",
     "name": "stdout",
     "output_type": "stream",
     "text": [
      "+---+--------+------+------+---------+----------+----+-----------+\n|id |name    |salary|gender|dept     |row_number|Rank|Desnse_Rank|\n+---+--------+------+------+---------+----------+----+-----------+\n|11 |rakhi   |50000 |f     |IT       |1         |1   |1          |\n|8  |rashi   |100000|f     |IT       |2         |2   |2          |\n|1  |manish  |50000 |m     |IT       |1         |1   |1          |\n|9  |aditya  |65000 |m     |IT       |2         |2   |2          |\n|4  |mukesh  |80000 |m     |IT       |3         |3   |3          |\n|6  |nikita  |45000 |f     |marketing|1         |1   |1          |\n|7  |ragini  |55000 |f     |marketing|2         |2   |2          |\n|10 |rahul   |50000 |m     |marketing|1         |1   |1          |\n|3  |raushan |70000 |m     |marketing|2         |2   |2          |\n|5  |priti   |90000 |f     |sales    |1         |1   |1          |\n|2  |vikash  |60000 |m     |sales    |1         |1   |1          |\n|12 |akhilesh|90000 |m     |sales    |2         |2   |2          |\n+---+--------+------+------+---------+----------+----+-----------+\n\n"
     ]
    }
   ],
   "source": [
    "from pyspark.sql.window import Window\n",
    "\n",
    "window = Window.partitionBy(\"dept\",\"gender\").orderBy(\"salary\")\n",
    "\n",
    "emp_df.withColumn(\"row_number\",row_number().over(window))\\\n",
    "    .withColumn(\"Rank\",rank().over(window))\\\n",
    "    .withColumn(\"Desnse_Rank\",dense_rank().over(window))\\\n",
    "    .show(truncate=False)\n"
   ]
  },
  {
   "cell_type": "code",
   "execution_count": 0,
   "metadata": {
    "application/vnd.databricks.v1+cell": {
     "cellMetadata": {
      "byteLimit": 2048000,
      "rowLimit": 10000
     },
     "inputWidgets": {},
     "nuid": "72330ece-e640-4484-979c-7eef34cafcc9",
     "showTitle": false,
     "tableResultSettingsMap": {},
     "title": ""
    }
   },
   "outputs": [
    {
     "output_type": "stream",
     "name": "stdout",
     "output_type": "stream",
     "text": [
      "+---+--------+------+------+---------+----------+----+-----------+\n|id |name    |salary|gender|dept     |row_number|Rank|Desnse_Rank|\n+---+--------+------+------+---------+----------+----+-----------+\n|1  |manish  |50000 |m     |IT       |1         |1   |1          |\n|11 |rakhi   |50000 |f     |IT       |2         |1   |1          |\n|9  |aditya  |65000 |m     |IT       |3         |3   |2          |\n|4  |mukesh  |80000 |m     |IT       |4         |4   |3          |\n|8  |rashi   |100000|f     |IT       |5         |5   |4          |\n|6  |nikita  |45000 |f     |marketing|1         |1   |1          |\n|10 |rahul   |50000 |m     |marketing|2         |2   |2          |\n|7  |ragini  |55000 |f     |marketing|3         |3   |3          |\n|3  |raushan |70000 |m     |marketing|4         |4   |4          |\n|2  |vikash  |60000 |m     |sales    |1         |1   |1          |\n|5  |priti   |90000 |f     |sales    |2         |2   |2          |\n|12 |akhilesh|90000 |m     |sales    |3         |2   |2          |\n+---+--------+------+------+---------+----------+----+-----------+\n\n"
     ]
    }
   ],
   "source": [
    "from pyspark.sql.window import Window\n",
    "\n",
    "window = Window.partitionBy(\"dept\").orderBy(\"salary\")\n",
    "\n",
    "emp_df.withColumn(\"row_number\",row_number().over(window))\\\n",
    "    .withColumn(\"Rank\",rank().over(window))\\\n",
    "    .withColumn(\"Desnse_Rank\",dense_rank().over(window))\\\n",
    "    .show(truncate=False)"
   ]
  },
  {
   "cell_type": "code",
   "execution_count": 0,
   "metadata": {
    "application/vnd.databricks.v1+cell": {
     "cellMetadata": {
      "byteLimit": 2048000,
      "rowLimit": 10000
     },
     "inputWidgets": {},
     "nuid": "30691316-a3fe-4ab1-b3d8-dfddc5de14bd",
     "showTitle": false,
     "tableResultSettingsMap": {},
     "title": ""
    }
   },
   "outputs": [
    {
     "output_type": "stream",
     "name": "stdout",
     "output_type": "stream",
     "text": [
      "+---+--------+------+------+---------+----------+----+-----------+\n|id |name    |salary|gender|dept     |row_number|Rank|Desnse_Rank|\n+---+--------+------+------+---------+----------+----+-----------+\n|8  |rashi   |100000|f     |IT       |1         |1   |1          |\n|4  |mukesh  |80000 |m     |IT       |2         |2   |2          |\n|3  |raushan |70000 |m     |marketing|1         |1   |1          |\n|7  |ragini  |55000 |f     |marketing|2         |2   |2          |\n|5  |priti   |90000 |f     |sales    |1         |1   |1          |\n|12 |akhilesh|90000 |m     |sales    |2         |1   |1          |\n|2  |vikash  |60000 |m     |sales    |3         |3   |2          |\n+---+--------+------+------+---------+----------+----+-----------+\n\n"
     ]
    }
   ],
   "source": [
    "from pyspark.sql.window import Window\n",
    "\n",
    "window = Window.partitionBy(\"dept\").orderBy(desc(\"salary\"))\n",
    "\n",
    "emp_df.withColumn(\"row_number\",row_number().over(window))\\\n",
    "    .withColumn(\"Rank\",rank().over(window))\\\n",
    "    .withColumn(\"Desnse_Rank\",dense_rank().over(window))\\\n",
    "        .filter(col(\"Desnse_Rank\")<=2)\\\n",
    "    .show(truncate=False)"
   ]
  },
  {
   "cell_type": "code",
   "execution_count": 0,
   "metadata": {
    "application/vnd.databricks.v1+cell": {
     "cellMetadata": {
      "byteLimit": 2048000,
      "rowLimit": 10000
     },
     "inputWidgets": {},
     "nuid": "181b268d-6fa6-4897-95c9-608602e76e1a",
     "showTitle": false,
     "tableResultSettingsMap": {},
     "title": ""
    }
   },
   "outputs": [
    {
     "output_type": "stream",
     "name": "stdout",
     "output_type": "stream",
     "text": [
      "+---+--------+------+------+---------+----------+----+-----------+\n|id |name    |salary|gender|dept     |row_number|Rank|Desnse_Rank|\n+---+--------+------+------+---------+----------+----+-----------+\n|8  |rashi   |100000|f     |IT       |1         |1   |1          |\n|11 |rakhi   |50000 |f     |IT       |2         |2   |2          |\n|4  |mukesh  |80000 |m     |IT       |1         |1   |1          |\n|9  |aditya  |65000 |m     |IT       |2         |2   |2          |\n|7  |ragini  |55000 |f     |marketing|1         |1   |1          |\n|6  |nikita  |45000 |f     |marketing|2         |2   |2          |\n|3  |raushan |70000 |m     |marketing|1         |1   |1          |\n|10 |rahul   |50000 |m     |marketing|2         |2   |2          |\n|5  |priti   |90000 |f     |sales    |1         |1   |1          |\n|12 |akhilesh|90000 |m     |sales    |1         |1   |1          |\n|2  |vikash  |60000 |m     |sales    |2         |2   |2          |\n+---+--------+------+------+---------+----------+----+-----------+\n\n"
     ]
    }
   ],
   "source": [
    "from pyspark.sql.window import Window\n",
    "\n",
    "window = Window.partitionBy(\"dept\",\"gender\").orderBy(desc(\"salary\"))\n",
    "\n",
    "emp_df.withColumn(\"row_number\",row_number().over(window))\\\n",
    "    .withColumn(\"Rank\",rank().over(window))\\\n",
    "    .withColumn(\"Desnse_Rank\",dense_rank().over(window))\\\n",
    "        .filter(col(\"Desnse_Rank\")<=2)\\\n",
    "    .show(truncate=False)"
   ]
  },
  {
   "cell_type": "markdown",
   "metadata": {
    "application/vnd.databricks.v1+cell": {
     "cellMetadata": {},
     "inputWidgets": {},
     "nuid": "cef04dc7-4707-4169-87d9-3323988bfd21",
     "showTitle": false,
     "tableResultSettingsMap": {},
     "title": ""
    }
   },
   "source": [
    "#***lead and lag in spark***"
   ]
  },
  {
   "cell_type": "code",
   "execution_count": 0,
   "metadata": {
    "application/vnd.databricks.v1+cell": {
     "cellMetadata": {
      "byteLimit": 2048000,
      "rowLimit": 10000
     },
     "inputWidgets": {},
     "nuid": "be2cc0c0-8a9e-4382-aaa9-b7a3bdfa212a",
     "showTitle": false,
     "tableResultSettingsMap": {},
     "title": ""
    }
   },
   "outputs": [
    {
     "output_type": "stream",
     "name": "stdout",
     "output_type": "stream",
     "text": [
      "+----------+------------+----------+-------+\n|product_id|product_name|sales_date|sales  |\n+----------+------------+----------+-------+\n|1         |iphone      |01-01-2023|1500000|\n|2         |samsung     |01-01-2023|1100000|\n|3         |oneplus     |01-01-2023|1100000|\n|1         |iphone      |01-02-2023|1300000|\n|2         |samsung     |01-02-2023|1120000|\n|3         |oneplus     |01-02-2023|1120000|\n|1         |iphone      |01-03-2023|1600000|\n|2         |samsung     |01-03-2023|1080000|\n|3         |oneplus     |01-03-2023|1160000|\n|1         |iphone      |01-04-2023|1700000|\n|2         |samsung     |01-04-2023|1800000|\n|3         |oneplus     |01-04-2023|1170000|\n|1         |iphone      |01-05-2023|1200000|\n|2         |samsung     |01-05-2023|980000 |\n|3         |oneplus     |01-05-2023|1175000|\n|1         |iphone      |01-06-2023|1100000|\n|2         |samsung     |01-06-2023|1100000|\n|3         |oneplus     |01-06-2023|1200000|\n+----------+------------+----------+-------+\n\n"
     ]
    }
   ],
   "source": [
    "from pyspark.sql import SparkSession\n",
    "from pyspark.sql.window import Window\n",
    "from pyspark.sql.functions import *\n",
    "from pyspark.sql.types import * \n",
    "\n",
    "# Create Spark session\n",
    "spark = SparkSession.builder.appName(\"Product DataFrame Example\").getOrCreate()\n",
    "\n",
    "# Define the product data\n",
    "product_data = [\n",
    "    (1, \"iphone\", \"01-01-2023\", 1500000),\n",
    "    (2, \"samsung\", \"01-01-2023\", 1100000),\n",
    "    (3, \"oneplus\", \"01-01-2023\", 1100000),\n",
    "    (1, \"iphone\", \"01-02-2023\", 1300000),\n",
    "    (2, \"samsung\", \"01-02-2023\", 1120000),\n",
    "    (3, \"oneplus\", \"01-02-2023\", 1120000),\n",
    "    (1, \"iphone\", \"01-03-2023\", 1600000),\n",
    "    (2, \"samsung\", \"01-03-2023\", 1080000),\n",
    "    (3, \"oneplus\", \"01-03-2023\", 1160000),\n",
    "    (1, \"iphone\", \"01-04-2023\", 1700000),\n",
    "    (2, \"samsung\", \"01-04-2023\", 1800000),\n",
    "    (3, \"oneplus\", \"01-04-2023\", 1170000),\n",
    "    (1, \"iphone\", \"01-05-2023\", 1200000),\n",
    "    (2, \"samsung\", \"01-05-2023\", 980000),\n",
    "    (3, \"oneplus\", \"01-05-2023\", 1175000),\n",
    "    (1, \"iphone\", \"01-06-2023\", 1100000),\n",
    "    (2, \"samsung\", \"01-06-2023\", 1100000),\n",
    "    (3, \"oneplus\", \"01-06-2023\", 1200000)\n",
    "]\n",
    "\n",
    "# Define the schema\n",
    "columns = [\"product_id\", \"product_name\", \"sales_date\", \"sales\"]\n",
    "\n",
    "# Create the DataFrame\n",
    "product_df = spark.createDataFrame(product_data, schema=columns)\n",
    "\n",
    "# Show the DataFrame\n",
    "product_df.show(truncate=False)"
   ]
  },
  {
   "cell_type": "markdown",
   "metadata": {
    "application/vnd.databricks.v1+cell": {
     "cellMetadata": {},
     "inputWidgets": {},
     "nuid": "7b9334d7-1817-4789-acef-6981d1741303",
     "showTitle": false,
     "tableResultSettingsMap": {},
     "title": ""
    }
   },
   "source": [
    "### > ***Q1***"
   ]
  },
  {
   "cell_type": "code",
   "execution_count": 0,
   "metadata": {
    "application/vnd.databricks.v1+cell": {
     "cellMetadata": {
      "byteLimit": 2048000,
      "rowLimit": 10000
     },
     "inputWidgets": {},
     "nuid": "4f9d957e-02e6-433e-b55f-fa1f7300e445",
     "showTitle": false,
     "tableResultSettingsMap": {},
     "title": ""
    }
   },
   "outputs": [
    {
     "output_type": "stream",
     "name": "stdout",
     "output_type": "stream",
     "text": [
      "+----------+------------+----------+-------+---------------------+----------------+\n|product_id|product_name|sales_date|sales  |total_last_six_months|sales_percentage|\n+----------+------------+----------+-------+---------------------+----------------+\n|1         |iphone      |2023-01-01|1500000|1500000              |100.0           |\n|1         |iphone      |2023-01-02|1300000|2800000              |46.43           |\n|1         |iphone      |2023-01-03|1600000|4400000              |36.36           |\n|1         |iphone      |2023-01-04|1700000|6100000              |27.87           |\n|1         |iphone      |2023-01-05|1200000|7300000              |16.44           |\n|1         |iphone      |2023-01-06|1100000|8400000              |13.1            |\n|2         |samsung     |2023-01-01|1100000|1100000              |100.0           |\n|2         |samsung     |2023-01-02|1120000|2220000              |50.45           |\n|2         |samsung     |2023-01-03|1080000|3300000              |32.73           |\n|2         |samsung     |2023-01-04|1800000|5100000              |35.29           |\n|2         |samsung     |2023-01-05|980000 |6080000              |16.12           |\n|2         |samsung     |2023-01-06|1100000|7180000              |15.32           |\n|3         |oneplus     |2023-01-01|1100000|1100000              |100.0           |\n|3         |oneplus     |2023-01-02|1120000|2220000              |50.45           |\n|3         |oneplus     |2023-01-03|1160000|3380000              |34.32           |\n|3         |oneplus     |2023-01-04|1170000|4550000              |25.71           |\n|3         |oneplus     |2023-01-05|1175000|5725000              |20.52           |\n|3         |oneplus     |2023-01-06|1200000|6925000              |17.33           |\n+----------+------------+----------+-------+---------------------+----------------+\n\n"
     ]
    }
   ],
   "source": [
    "# Convert sales_date to a date type\n",
    "from pyspark.sql.functions import to_date\n",
    "\n",
    "product_df = product_df.withColumn(\"sales_date\", to_date(col(\"sales_date\"), \"MM-dd-yyyy\"))\n",
    "\n",
    "# Define the window specification for the last six months\n",
    "window = Window.partitionBy(\"product_id\").orderBy(\"sales_date\").rowsBetween(-5, 0)\n",
    "\n",
    "# Calculate total sales for the last six months\n",
    "total_sales_last_six_months = product_df.withColumn(\"total_last_six_months\", sum(col(\"sales\")).over(window))\n",
    "\n",
    "# Calculate the percentage of sales for each month\n",
    "sales_percentage_df = total_sales_last_six_months.withColumn(\n",
    "    \"sales_percentage\",\n",
    "    round((col(\"sales\") / col(\"total_last_six_months\")) * 100, 2)\n",
    ")\n",
    "\n",
    "# Select relevant columns for output\n",
    "result_df = sales_percentage_df.select(\"product_id\", \"product_name\", \"sales_date\", \"sales\", \"total_last_six_months\", \"sales_percentage\")\n",
    "\n",
    "# Show the result\n",
    "result_df.show(truncate=False)"
   ]
  },
  {
   "cell_type": "code",
   "execution_count": 0,
   "metadata": {
    "application/vnd.databricks.v1+cell": {
     "cellMetadata": {
      "byteLimit": 2048000,
      "rowLimit": 10000
     },
     "inputWidgets": {},
     "nuid": "f288590b-559e-48a2-b4d1-3945bfb41a55",
     "showTitle": false,
     "tableResultSettingsMap": {},
     "title": ""
    }
   },
   "outputs": [
    {
     "output_type": "display_data",
     "data": {
      "text/plain": [
       "\u001B[0;31m---------------------------------------------------------------------------\u001B[0m\n",
       "\u001B[0;31mAttributeError\u001B[0m                            Traceback (most recent call last)\n",
       "File \u001B[0;32m<command-1966221743026792>:1\u001B[0m\n",
       "\u001B[0;32m----> 1\u001B[0m \u001B[43mwindow\u001B[49m\u001B[38;5;241;43m.\u001B[39;49m\u001B[43mshow\u001B[49m()\n",
       "\n",
       "\u001B[0;31mAttributeError\u001B[0m: 'WindowSpec' object has no attribute 'show'"
      ]
     },
     "metadata": {
      "application/vnd.databricks.v1+output": {
       "arguments": {},
       "data": "\u001B[0;31m---------------------------------------------------------------------------\u001B[0m\n\u001B[0;31mAttributeError\u001B[0m                            Traceback (most recent call last)\nFile \u001B[0;32m<command-1966221743026792>:1\u001B[0m\n\u001B[0;32m----> 1\u001B[0m \u001B[43mwindow\u001B[49m\u001B[38;5;241;43m.\u001B[39;49m\u001B[43mshow\u001B[49m()\n\n\u001B[0;31mAttributeError\u001B[0m: 'WindowSpec' object has no attribute 'show'",
       "errorSummary": "<span class='ansi-red-fg'>AttributeError</span>: 'WindowSpec' object has no attribute 'show'",
       "errorTraceType": "ansi",
       "metadata": {},
       "type": "ipynbError"
      }
     },
     "output_type": "display_data"
    }
   ],
   "source": [
    "window.show()"
   ]
  },
  {
   "cell_type": "code",
   "execution_count": 0,
   "metadata": {
    "application/vnd.databricks.v1+cell": {
     "cellMetadata": {
      "byteLimit": 2048000,
      "rowLimit": 10000
     },
     "inputWidgets": {},
     "nuid": "1e2163d1-49e7-4138-82ac-6a8087a6878c",
     "showTitle": false,
     "tableResultSettingsMap": {},
     "title": ""
    }
   },
   "outputs": [
    {
     "output_type": "stream",
     "name": "stdout",
     "output_type": "stream",
     "text": [
      "+----------+------------+----------+-------+\n|product_id|product_name|sales_date|  sales|\n+----------+------------+----------+-------+\n|         1|      iphone|2023-01-01|1500000|\n|         2|     samsung|2023-01-01|1100000|\n|         3|     oneplus|2023-01-01|1100000|\n|         1|      iphone|2023-01-02|1300000|\n|         2|     samsung|2023-01-02|1120000|\n|         3|     oneplus|2023-01-02|1120000|\n|         1|      iphone|2023-01-03|1600000|\n|         2|     samsung|2023-01-03|1080000|\n|         3|     oneplus|2023-01-03|1160000|\n|         1|      iphone|2023-01-04|1700000|\n|         2|     samsung|2023-01-04|1800000|\n|         3|     oneplus|2023-01-04|1170000|\n|         1|      iphone|2023-01-05|1200000|\n|         2|     samsung|2023-01-05| 980000|\n|         3|     oneplus|2023-01-05|1175000|\n|         1|      iphone|2023-01-06|1100000|\n|         2|     samsung|2023-01-06|1100000|\n|         3|     oneplus|2023-01-06|1200000|\n+----------+------------+----------+-------+\n\n"
     ]
    }
   ],
   "source": [
    "product_df.show()"
   ]
  },
  {
   "cell_type": "code",
   "execution_count": 0,
   "metadata": {
    "application/vnd.databricks.v1+cell": {
     "cellMetadata": {
      "byteLimit": 2048000,
      "rowLimit": 10000
     },
     "inputWidgets": {},
     "nuid": "1c49705e-4360-4bf3-9cae-986d285e7e62",
     "showTitle": false,
     "tableResultSettingsMap": {},
     "title": ""
    }
   },
   "outputs": [
    {
     "output_type": "stream",
     "name": "stdout",
     "output_type": "stream",
     "text": [
      "+----------+------------+----------+-------+---------------------+\n|product_id|product_name|sales_date|  sales|total_last_six_months|\n+----------+------------+----------+-------+---------------------+\n|         1|      iphone|2023-01-01|1500000|              1500000|\n|         1|      iphone|2023-01-02|1300000|              2800000|\n|         1|      iphone|2023-01-03|1600000|              4400000|\n|         1|      iphone|2023-01-04|1700000|              6100000|\n|         1|      iphone|2023-01-05|1200000|              7300000|\n|         1|      iphone|2023-01-06|1100000|              8400000|\n|         2|     samsung|2023-01-01|1100000|              1100000|\n|         2|     samsung|2023-01-02|1120000|              2220000|\n|         2|     samsung|2023-01-03|1080000|              3300000|\n|         2|     samsung|2023-01-04|1800000|              5100000|\n|         2|     samsung|2023-01-05| 980000|              6080000|\n|         2|     samsung|2023-01-06|1100000|              7180000|\n|         3|     oneplus|2023-01-01|1100000|              1100000|\n|         3|     oneplus|2023-01-02|1120000|              2220000|\n|         3|     oneplus|2023-01-03|1160000|              3380000|\n|         3|     oneplus|2023-01-04|1170000|              4550000|\n|         3|     oneplus|2023-01-05|1175000|              5725000|\n|         3|     oneplus|2023-01-06|1200000|              6925000|\n+----------+------------+----------+-------+---------------------+\n\n"
     ]
    }
   ],
   "source": [
    "total_sales_last_six_months.show()"
   ]
  },
  {
   "cell_type": "code",
   "execution_count": 0,
   "metadata": {
    "application/vnd.databricks.v1+cell": {
     "cellMetadata": {
      "byteLimit": 2048000,
      "rowLimit": 10000
     },
     "inputWidgets": {},
     "nuid": "4c97ba7a-7473-4730-ab54-021cb15d52aa",
     "showTitle": false,
     "tableResultSettingsMap": {},
     "title": ""
    }
   },
   "outputs": [
    {
     "output_type": "stream",
     "name": "stdout",
     "output_type": "stream",
     "text": [
      "+----------+------------+----------+-------+---------------------+----------------+\n|product_id|product_name|sales_date|  sales|total_last_six_months|sales_percentage|\n+----------+------------+----------+-------+---------------------+----------------+\n|         1|      iphone|2023-01-01|1500000|              1500000|           100.0|\n|         1|      iphone|2023-01-02|1300000|              2800000|           46.43|\n|         1|      iphone|2023-01-03|1600000|              4400000|           36.36|\n|         1|      iphone|2023-01-04|1700000|              6100000|           27.87|\n|         1|      iphone|2023-01-05|1200000|              7300000|           16.44|\n|         1|      iphone|2023-01-06|1100000|              8400000|            13.1|\n|         2|     samsung|2023-01-01|1100000|              1100000|           100.0|\n|         2|     samsung|2023-01-02|1120000|              2220000|           50.45|\n|         2|     samsung|2023-01-03|1080000|              3300000|           32.73|\n|         2|     samsung|2023-01-04|1800000|              5100000|           35.29|\n|         2|     samsung|2023-01-05| 980000|              6080000|           16.12|\n|         2|     samsung|2023-01-06|1100000|              7180000|           15.32|\n|         3|     oneplus|2023-01-01|1100000|              1100000|           100.0|\n|         3|     oneplus|2023-01-02|1120000|              2220000|           50.45|\n|         3|     oneplus|2023-01-03|1160000|              3380000|           34.32|\n|         3|     oneplus|2023-01-04|1170000|              4550000|           25.71|\n|         3|     oneplus|2023-01-05|1175000|              5725000|           20.52|\n|         3|     oneplus|2023-01-06|1200000|              6925000|           17.33|\n+----------+------------+----------+-------+---------------------+----------------+\n\n"
     ]
    }
   ],
   "source": [
    "sales_percentage_df.show()"
   ]
  },
  {
   "cell_type": "markdown",
   "metadata": {
    "application/vnd.databricks.v1+cell": {
     "cellMetadata": {},
     "inputWidgets": {},
     "nuid": "392aee6f-7752-46ef-838c-50e15bb6158c",
     "showTitle": false,
     "tableResultSettingsMap": {},
     "title": ""
    }
   },
   "source": [
    "## ***>Q2***"
   ]
  },
  {
   "cell_type": "code",
   "execution_count": 0,
   "metadata": {
    "application/vnd.databricks.v1+cell": {
     "cellMetadata": {
      "byteLimit": 2048000,
      "rowLimit": 10000
     },
     "inputWidgets": {},
     "nuid": "b166a9c5-0eaa-4146-9440-25b7842b2bd6",
     "showTitle": false,
     "tableResultSettingsMap": {},
     "title": ""
    }
   },
   "outputs": [
    {
     "output_type": "stream",
     "name": "stdout",
     "output_type": "stream",
     "text": [
      "+----------+------------+----------+-------+--------------------+\n|product_id|product_name|sales_date|  sales|previous_month_sales|\n+----------+------------+----------+-------+--------------------+\n|         1|      iphone|2023-01-01|1500000|                null|\n|         1|      iphone|2023-01-02|1300000|             1500000|\n|         1|      iphone|2023-01-03|1600000|             1300000|\n|         1|      iphone|2023-01-04|1700000|             1600000|\n|         1|      iphone|2023-01-05|1200000|             1700000|\n|         1|      iphone|2023-01-06|1100000|             1200000|\n|         2|     samsung|2023-01-01|1100000|                null|\n|         2|     samsung|2023-01-02|1120000|             1100000|\n|         2|     samsung|2023-01-03|1080000|             1120000|\n|         2|     samsung|2023-01-04|1800000|             1080000|\n|         2|     samsung|2023-01-05| 980000|             1800000|\n|         2|     samsung|2023-01-06|1100000|              980000|\n|         3|     oneplus|2023-01-01|1100000|                null|\n|         3|     oneplus|2023-01-02|1120000|             1100000|\n|         3|     oneplus|2023-01-03|1160000|             1120000|\n|         3|     oneplus|2023-01-04|1170000|             1160000|\n|         3|     oneplus|2023-01-05|1175000|             1170000|\n|         3|     oneplus|2023-01-06|1200000|             1175000|\n+----------+------------+----------+-------+--------------------+\n\n"
     ]
    }
   ],
   "source": [
    "window = Window.partitionBy(\"product_id\").orderBy(\"sales_date\")\n",
    "\n",
    "last_month_df = product_df.withColumn(\"previous_month_sales\",lag(col(\"sales\"),1).over(window))\n",
    "\n",
    "last_month_df.show()"
   ]
  },
  {
   "cell_type": "code",
   "execution_count": 0,
   "metadata": {
    "application/vnd.databricks.v1+cell": {
     "cellMetadata": {
      "byteLimit": 2048000,
      "rowLimit": 10000
     },
     "inputWidgets": {},
     "nuid": "acba171b-e2c6-4344-8b97-e7eccc83c70e",
     "showTitle": false,
     "tableResultSettingsMap": {},
     "title": ""
    }
   },
   "outputs": [
    {
     "output_type": "stream",
     "name": "stdout",
     "output_type": "stream",
     "text": [
      "+----------+------------+----------+-------+--------------------+-------------+\n|product_id|product_name|sales_date|  sales|previous_month_sales|per_loss_gain|\n+----------+------------+----------+-------+--------------------+-------------+\n|         1|      iphone|2023-01-01|1500000|                null|         null|\n|         1|      iphone|2023-01-02|1300000|             1500000|       -15.38|\n|         1|      iphone|2023-01-03|1600000|             1300000|        18.75|\n|         1|      iphone|2023-01-04|1700000|             1600000|         5.88|\n|         1|      iphone|2023-01-05|1200000|             1700000|       -41.67|\n|         1|      iphone|2023-01-06|1100000|             1200000|        -9.09|\n|         2|     samsung|2023-01-01|1100000|                null|         null|\n|         2|     samsung|2023-01-02|1120000|             1100000|         1.79|\n|         2|     samsung|2023-01-03|1080000|             1120000|         -3.7|\n|         2|     samsung|2023-01-04|1800000|             1080000|         40.0|\n|         2|     samsung|2023-01-05| 980000|             1800000|       -83.67|\n|         2|     samsung|2023-01-06|1100000|              980000|        10.91|\n|         3|     oneplus|2023-01-01|1100000|                null|         null|\n|         3|     oneplus|2023-01-02|1120000|             1100000|         1.79|\n|         3|     oneplus|2023-01-03|1160000|             1120000|         3.45|\n|         3|     oneplus|2023-01-04|1170000|             1160000|         0.85|\n|         3|     oneplus|2023-01-05|1175000|             1170000|         0.43|\n|         3|     oneplus|2023-01-06|1200000|             1175000|         2.08|\n+----------+------------+----------+-------+--------------------+-------------+\n\n"
     ]
    }
   ],
   "source": [
    "last_month_df.withColumn(\"per_loss_gain\",\n",
    "                         round(((col(\"sales\")-col(\"previous_month_sales\"))/col(\"sales\"))*100,2))\\\n",
    "                        .show()"
   ]
  },
  {
   "cell_type": "code",
   "execution_count": 0,
   "metadata": {
    "application/vnd.databricks.v1+cell": {
     "cellMetadata": {
      "byteLimit": 2048000,
      "rowLimit": 10000
     },
     "inputWidgets": {},
     "nuid": "8ddb55ac-1e1f-4e07-a051-ede07f718790",
     "showTitle": false,
     "tableResultSettingsMap": {},
     "title": ""
    }
   },
   "outputs": [],
   "source": [
    "eda = last_month_df.withColumn(\"per_loss_gain\",\n",
    "                         round(((col(\"sales\")-col(\"previous_month_sales\"))/col(\"sales\"))*100,2))"
   ]
  },
  {
   "cell_type": "code",
   "execution_count": 0,
   "metadata": {
    "application/vnd.databricks.v1+cell": {
     "cellMetadata": {
      "byteLimit": 2048000,
      "rowLimit": 10000
     },
     "inputWidgets": {},
     "nuid": "c116565d-99ae-46e9-9e4f-7925c8bbb1b4",
     "showTitle": false,
     "tableResultSettingsMap": {},
     "title": ""
    }
   },
   "outputs": [
    {
     "output_type": "stream",
     "name": "stdout",
     "output_type": "stream",
     "text": [
      "+------------+----------+-------------+\n|product_name|sales_date|per_loss_gain|\n+------------+----------+-------------+\n|      iphone|2023-01-01|         null|\n|      iphone|2023-01-02|       -15.38|\n|      iphone|2023-01-03|        18.75|\n|      iphone|2023-01-04|         5.88|\n|      iphone|2023-01-05|       -41.67|\n|      iphone|2023-01-06|        -9.09|\n|     samsung|2023-01-01|         null|\n|     samsung|2023-01-02|         1.79|\n|     samsung|2023-01-03|         -3.7|\n|     samsung|2023-01-04|         40.0|\n|     samsung|2023-01-05|       -83.67|\n|     samsung|2023-01-06|        10.91|\n|     oneplus|2023-01-01|         null|\n|     oneplus|2023-01-02|         1.79|\n|     oneplus|2023-01-03|         3.45|\n|     oneplus|2023-01-04|         0.85|\n|     oneplus|2023-01-05|         0.43|\n|     oneplus|2023-01-06|         2.08|\n+------------+----------+-------------+\n\n"
     ]
    }
   ],
   "source": [
    "df = eda.select(\"product_name\",\"sales_date\",\"per_loss_gain\")\n",
    "df.show()"
   ]
  },
  {
   "cell_type": "code",
   "execution_count": 0,
   "metadata": {
    "application/vnd.databricks.v1+cell": {
     "cellMetadata": {
      "byteLimit": 2048000,
      "rowLimit": 10000
     },
     "inputWidgets": {},
     "nuid": "8c1e1b7a-16c3-443c-9579-e368418a502c",
     "showTitle": false,
     "tableResultSettingsMap": {},
     "title": ""
    }
   },
   "outputs": [],
   "source": [
    "# Replace null values with 0\n",
    "df = df.na.fill({\"per_loss_gain\": 0})"
   ]
  },
  {
   "cell_type": "code",
   "execution_count": 0,
   "metadata": {
    "application/vnd.databricks.v1+cell": {
     "cellMetadata": {
      "byteLimit": 2048000,
      "rowLimit": 10000
     },
     "inputWidgets": {},
     "nuid": "aa15aa91-56b9-46a2-9634-8877da6469cf",
     "showTitle": false,
     "tableResultSettingsMap": {},
     "title": ""
    }
   },
   "outputs": [
    {
     "output_type": "display_data",
     "data": {
      "image/png": "[encoded data removed]"
     },
     "metadata": {
      "application/vnd.databricks.v1+output": {
       "addedWidgets": {},
       "arguments": {},
       "data": "data:image/png;base64,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\n",
       "datasetInfos": [],
       "metadata": {},
       "removedWidgets": [],
       "type": "image"
      }
     },
     "output_type": "display_data"
    }
   ],
   "source": [
    "# Convert to Pandas DataFrame for plotting\n",
    "pandas_df = df.toPandas()\n",
    "\n",
    "# Plotting using Matplotlib\n",
    "import matplotlib.pyplot as plt\n",
    "\n",
    "plt.figure(figsize=(10, 5))\n",
    "for product in pandas_df['product_name'].unique():\n",
    "    subset = pandas_df[pandas_df['product_name'] == product]\n",
    "    plt.plot(subset['sales_date'], subset['per_loss_gain'], marker='o', label=product)\n",
    "\n",
    "plt.xlabel('Sales Date')\n",
    "plt.ylabel('Percentage Loss/Gain')\n",
    "plt.title('Percentage Loss/Gain by Product')\n",
    "plt.xticks(rotation=45)\n",
    "plt.axhline(0, color='grey', linewidth=0.8, linestyle='--')  # Add a horizontal line at y=0\n",
    "plt.legend()\n",
    "plt.tight_layout()\n",
    "plt.show()"
   ]
  },
  {
   "cell_type": "code",
   "execution_count": 0,
   "metadata": {
    "application/vnd.databricks.v1+cell": {
     "cellMetadata": {
      "byteLimit": 2048000,
      "rowLimit": 10000
     },
     "inputWidgets": {},
     "nuid": "93309b2f-edea-4ed4-9210-8ffa945fb0bb",
     "showTitle": false,
     "tableResultSettingsMap": {},
     "title": ""
    }
   },
   "outputs": [
    {
     "output_type": "stream",
     "name": "stdout",
     "output_type": "stream",
     "text": [
      "+------------+------------------+\n|product_name|avg(per_loss_gain)|\n+------------+------------------+\n|      iphone|-6.918333333333334|\n|     samsung|-5.778333333333333|\n|     oneplus|1.4333333333333333|\n+------------+------------------+\n\n+------------+----------+-------------+\n|product_name|sales_date|per_loss_gain|\n+------------+----------+-------------+\n|      iphone|2023-01-03|        18.75|\n|      iphone|2023-01-04|         5.88|\n|     samsung|2023-01-02|         1.79|\n|     samsung|2023-01-04|         40.0|\n|     samsung|2023-01-06|        10.91|\n|     oneplus|2023-01-02|         1.79|\n|     oneplus|2023-01-03|         3.45|\n|     oneplus|2023-01-04|         0.85|\n|     oneplus|2023-01-05|         0.43|\n|     oneplus|2023-01-06|         2.08|\n+------------+----------+-------------+\n\n"
     ]
    }
   ],
   "source": [
    "# Summary Statistics\n",
    "mean_loss_gain = df.groupBy('product_name').agg({'per_loss_gain': 'avg'}).show()\n",
    "\n",
    "# Filter Positive Gains\n",
    "positive_gain = df.filter(df['per_loss_gain'] > 0)\n",
    "positive_gain.show()"
   ]
  },
  {
   "cell_type": "code",
   "execution_count": 0,
   "metadata": {
    "application/vnd.databricks.v1+cell": {
     "cellMetadata": {
      "byteLimit": 2048000,
      "rowLimit": 10000
     },
     "inputWidgets": {},
     "nuid": "1e365532-ffeb-4f1b-87dc-e7d8b5e935a3",
     "showTitle": false,
     "tableResultSettingsMap": {},
     "title": ""
    }
   },
   "outputs": [
    {
     "output_type": "display_data",
     "data": {
      "image/png": "[encoded data removed]"
     },
     "metadata": {
      "application/vnd.databricks.v1+output": {
       "addedWidgets": {},
       "arguments": {},
       "data": "data:image/png;base64,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\n",
       "datasetInfos": [],
       "metadata": {},
       "removedWidgets": [],
       "type": "image"
      }
     },
     "output_type": "display_data"
    }
   ],
   "source": [
    "from pyspark.sql import SparkSession\n",
    "import matplotlib.pyplot as plt\n",
    "\n",
    "# Initialize Spark session\n",
    "spark = SparkSession.builder.appName(\"Sales Data\").getOrCreate()\n",
    "\n",
    "# Sample data\n",
    "data = [\n",
    "    (\"iphone\", \"2023-01-01\", None),\n",
    "    (\"iphone\", \"2023-01-02\", -15.38),\n",
    "    (\"iphone\", \"2023-01-03\", 18.75),\n",
    "    (\"iphone\", \"2023-01-04\", 5.88),\n",
    "    (\"iphone\", \"2023-01-05\", -41.67),\n",
    "    (\"iphone\", \"2023-01-06\", -9.09),\n",
    "    (\"samsung\", \"2023-01-01\", None),\n",
    "    (\"samsung\", \"2023-01-02\", 1.79),\n",
    "    (\"samsung\", \"2023-01-03\", -3.7),\n",
    "    (\"samsung\", \"2023-01-04\", 40.0),\n",
    "    (\"samsung\", \"2023-01-05\", -83.67),\n",
    "    (\"samsung\", \"2023-01-06\", 10.91),\n",
    "    (\"oneplus\", \"2023-01-01\", None),\n",
    "    (\"oneplus\", \"2023-01-02\", 1.79),\n",
    "    (\"oneplus\", \"2023-01-03\", 3.45),\n",
    "    (\"oneplus\", \"2023-01-04\", 0.85),\n",
    "    (\"oneplus\", \"2023-01-05\", 0.43),\n",
    "    (\"oneplus\", \"2023-01-06\", 2.08)\n",
    "]\n",
    "\n",
    "# Create DataFrame\n",
    "columns = [\"product_name\", \"sales_date\", \"per_loss_gain\"]\n",
    "df = spark.createDataFrame(data, schema=columns)\n",
    "\n",
    "# Replace null values with 0\n",
    "df = df.na.fill({\"per_loss_gain\": 0})\n",
    "\n",
    "# Convert the sales_date to correct format for plotting\n",
    "df = df.withColumn(\"sales_date\", df[\"sales_date\"].cast(\"date\"))\n",
    "\n",
    "# Convert to Pandas DataFrame for plotting\n",
    "pandas_df = df.toPandas()\n",
    "\n",
    "# Plotting using Matplotlib\n",
    "plt.figure(figsize=(10, 5))\n",
    "for product in pandas_df['product_name'].unique():\n",
    "    subset = pandas_df[pandas_df['product_name'] == product]\n",
    "    plt.plot(subset['sales_date'], subset['per_loss_gain'], marker='o', label=product)\n",
    "\n",
    "plt.xlabel('Sales Date')\n",
    "plt.ylabel('Percentage Loss/Gain')\n",
    "plt.title('Percentage Loss/Gain by Product')\n",
    "plt.xticks(rotation=45)\n",
    "plt.axhline(0, color='grey', linewidth=0.8, linestyle='--')  # Add a horizontal line at y=0\n",
    "plt.legend()\n",
    "plt.tight_layout()\n",
    "plt.show()"
   ]
  },
  {
   "cell_type": "code",
   "execution_count": 0,
   "metadata": {
    "application/vnd.databricks.v1+cell": {
     "cellMetadata": {
      "byteLimit": 2048000,
      "rowLimit": 10000
     },
     "inputWidgets": {},
     "nuid": "b24db29d-4d67-4c4e-8186-954c5dc4c2ad",
     "showTitle": false,
     "tableResultSettingsMap": {},
     "title": ""
    }
   },
   "outputs": [
    {
     "output_type": "stream",
     "name": "stdout",
     "output_type": "stream",
     "text": [
      "+----------+------------+----------+-------+--------------------+\n|product_id|product_name|sales_date|  sales|previous_month_sales|\n+----------+------------+----------+-------+--------------------+\n|         1|      iphone|2023-01-01|1500000|             1300000|\n|         1|      iphone|2023-01-02|1300000|             1600000|\n|         1|      iphone|2023-01-03|1600000|             1700000|\n|         1|      iphone|2023-01-04|1700000|             1200000|\n|         1|      iphone|2023-01-05|1200000|             1100000|\n|         1|      iphone|2023-01-06|1100000|                null|\n|         2|     samsung|2023-01-01|1100000|             1120000|\n|         2|     samsung|2023-01-02|1120000|             1080000|\n|         2|     samsung|2023-01-03|1080000|             1800000|\n|         2|     samsung|2023-01-04|1800000|              980000|\n|         2|     samsung|2023-01-05| 980000|             1100000|\n|         2|     samsung|2023-01-06|1100000|                null|\n|         3|     oneplus|2023-01-01|1100000|             1120000|\n|         3|     oneplus|2023-01-02|1120000|             1160000|\n|         3|     oneplus|2023-01-03|1160000|             1170000|\n|         3|     oneplus|2023-01-04|1170000|             1175000|\n|         3|     oneplus|2023-01-05|1175000|             1200000|\n|         3|     oneplus|2023-01-06|1200000|                null|\n+----------+------------+----------+-------+--------------------+\n\n"
     ]
    }
   ],
   "source": [
    "from pyspark.sql import SparkSession\n",
    "from pyspark.sql import Window\n",
    "from pyspark.sql.functions import col, lead\n",
    "\n",
    "window = Window.partitionBy(\"product_id\").orderBy(\"sales_date\")\n",
    "\n",
    "last_month_df = product_df.withColumn(\"previous_month_sales\",lead(col(\"sales\"),1).over(window))\n",
    "\n",
    "last_month_df.show()"
   ]
  },
  {
   "cell_type": "code",
   "execution_count": 0,
   "metadata": {
    "application/vnd.databricks.v1+cell": {
     "cellMetadata": {
      "byteLimit": 2048000,
      "rowLimit": 10000
     },
     "inputWidgets": {},
     "nuid": "a9be3cc8-d1b2-456d-9681-dd1e697e45f1",
     "showTitle": false,
     "tableResultSettingsMap": {},
     "title": ""
    }
   },
   "outputs": [
    {
     "output_type": "stream",
     "name": "stdout",
     "output_type": "stream",
     "text": [
      "+----------+------------+----------+-------+--------------------+-------------+\n|product_id|product_name|sales_date|  sales|previous_month_sales|per_loss_gain|\n+----------+------------+----------+-------+--------------------+-------------+\n|         1|      iphone|2023-01-01|1500000|             1300000|       200000|\n|         1|      iphone|2023-01-02|1300000|             1600000|      -300000|\n|         1|      iphone|2023-01-03|1600000|             1700000|      -100000|\n|         1|      iphone|2023-01-04|1700000|             1200000|       500000|\n|         1|      iphone|2023-01-05|1200000|             1100000|       100000|\n|         1|      iphone|2023-01-06|1100000|                null|         null|\n|         2|     samsung|2023-01-01|1100000|             1120000|       -20000|\n|         2|     samsung|2023-01-02|1120000|             1080000|        40000|\n|         2|     samsung|2023-01-03|1080000|             1800000|      -720000|\n|         2|     samsung|2023-01-04|1800000|              980000|       820000|\n|         2|     samsung|2023-01-05| 980000|             1100000|      -120000|\n|         2|     samsung|2023-01-06|1100000|                null|         null|\n|         3|     oneplus|2023-01-01|1100000|             1120000|       -20000|\n|         3|     oneplus|2023-01-02|1120000|             1160000|       -40000|\n|         3|     oneplus|2023-01-03|1160000|             1170000|       -10000|\n|         3|     oneplus|2023-01-04|1170000|             1175000|        -5000|\n|         3|     oneplus|2023-01-05|1175000|             1200000|       -25000|\n|         3|     oneplus|2023-01-06|1200000|                null|         null|\n+----------+------------+----------+-------+--------------------+-------------+\n\n"
     ]
    }
   ],
   "source": [
    "last_month_df.withColumn(\"per_loss_gain\",col(\"sales\")-col(\"previous_month_sales\")).show()"
   ]
  },
  {
   "cell_type": "markdown",
   "metadata": {
    "application/vnd.databricks.v1+cell": {
     "cellMetadata": {},
     "inputWidgets": {},
     "nuid": "e5af796a-89f4-4268-aece-cc3fc18f7dd4",
     "showTitle": false,
     "tableResultSettingsMap": {},
     "title": ""
    }
   },
   "source": [
    "#***rows between in pyspark***"
   ]
  },
  {
   "cell_type": "code",
   "execution_count": 0,
   "metadata": {
    "application/vnd.databricks.v1+cell": {
     "cellMetadata": {
      "byteLimit": 2048000,
      "rowLimit": 10000
     },
     "inputWidgets": {},
     "nuid": "9359b3fa-cd1c-4334-b78d-8a5fc00a3ff7",
     "showTitle": false,
     "tableResultSettingsMap": {},
     "title": ""
    }
   },
   "outputs": [
    {
     "output_type": "stream",
     "name": "stdout",
     "output_type": "stream",
     "text": [
      "+----------+------------+----------+-------+\n|product_id|product_name|sales_date|  sales|\n+----------+------------+----------+-------+\n|         2|     samsung|01-01-1995|  11000|\n|         1|      iphone|01-02-2023|1300000|\n|         2|     samsung|01-02-2023|1120000|\n|         3|     oneplus|01-02-2023|1120000|\n|         1|      iphone|01-03-2023|1600000|\n|         2|     samsung|01-03-2023|1080000|\n|         3|     oneplus|01-03-2023|1160000|\n|         1|      iphone|01-01-2006|  15000|\n|         1|      iphone|01-04-2023|1700000|\n|         2|     samsung|01-04-2023|1800000|\n|         3|     oneplus|01-04-2023|1170000|\n|         1|      iphone|01-05-2023|1200000|\n|         2|     samsung|01-05-2023| 980000|\n|         3|     oneplus|01-05-2023|1175000|\n|         1|      iphone|01-06-2023|1100000|\n|         3|     oneplus|01-01-2010|  23000|\n|         2|     samsung|01-06-2023|1100000|\n|         3|     oneplus|01-06-2023|1200000|\n+----------+------------+----------+-------+\n\n"
     ]
    }
   ],
   "source": [
    "from pyspark.sql import SparkSession\n",
    "from pyspark.sql import Window\n",
    "from pyspark.sql.functions import col, first, last\n",
    "\n",
    "\n",
    "product_data = [\n",
    "(2,\"samsung\",\"01-01-1995\",11000),\n",
    "(1,\"iphone\",\"01-02-2023\",1300000),\n",
    "(2,\"samsung\",\"01-02-2023\",1120000),\n",
    "(3,\"oneplus\",\"01-02-2023\",1120000),\n",
    "(1,\"iphone\",\"01-03-2023\",1600000),\n",
    "(2,\"samsung\",\"01-03-2023\",1080000),\n",
    "(3,\"oneplus\",\"01-03-2023\",1160000),\n",
    "(1,\"iphone\",\"01-01-2006\",15000),\n",
    "(1,\"iphone\",\"01-04-2023\",1700000),\n",
    "(2,\"samsung\",\"01-04-2023\",1800000),\n",
    "(3,\"oneplus\",\"01-04-2023\",1170000),\n",
    "(1,\"iphone\",\"01-05-2023\",1200000),\n",
    "(2,\"samsung\",\"01-05-2023\",980000),\n",
    "(3,\"oneplus\",\"01-05-2023\",1175000),\n",
    "(1,\"iphone\",\"01-06-2023\",1100000),\n",
    "(3,\"oneplus\",\"01-01-2010\",23000),\n",
    "(2,\"samsung\",\"01-06-2023\",1100000),\n",
    "(3,\"oneplus\",\"01-06-2023\",1200000)\n",
    "]\n",
    "\n",
    "product_schema=[\"product_id\",\"product_name\",\"sales_date\",\"sales\"]\n",
    "\n",
    "product_df = spark.createDataFrame(data=product_data,schema=product_schema)\n",
    "\n",
    "product_df.show()"
   ]
  },
  {
   "cell_type": "code",
   "execution_count": 0,
   "metadata": {
    "application/vnd.databricks.v1+cell": {
     "cellMetadata": {
      "byteLimit": 2048000,
      "rowLimit": 10000
     },
     "inputWidgets": {},
     "nuid": "249a4c0c-8880-48b9-9c01-06807d297fac",
     "showTitle": false,
     "tableResultSettingsMap": {},
     "title": ""
    }
   },
   "outputs": [],
   "source": [
    "window = Window.partitionBy(\"product_id\").orderBy(\"sales_date\").rowsBetween(Window.unboundedPreceding, Window.unboundedFollowing)"
   ]
  },
  {
   "cell_type": "code",
   "execution_count": 0,
   "metadata": {
    "application/vnd.databricks.v1+cell": {
     "cellMetadata": {
      "byteLimit": 2048000,
      "rowLimit": 10000
     },
     "inputWidgets": {},
     "nuid": "8e996eb0-5f90-4706-a897-aa24cfc6d6c0",
     "showTitle": false,
     "tableResultSettingsMap": {},
     "title": ""
    }
   },
   "outputs": [
    {
     "output_type": "stream",
     "name": "stdout",
     "output_type": "stream",
     "text": [
      "+----------+------------+----------+-------+-----------+----------+\n|product_id|product_name|sales_date|  sales|first_sales|last_sales|\n+----------+------------+----------+-------+-----------+----------+\n|         1|      iphone|01-01-2006|  15000|      15000|   1100000|\n|         1|      iphone|01-02-2023|1300000|      15000|   1100000|\n|         1|      iphone|01-03-2023|1600000|      15000|   1100000|\n|         1|      iphone|01-04-2023|1700000|      15000|   1100000|\n|         1|      iphone|01-05-2023|1200000|      15000|   1100000|\n|         1|      iphone|01-06-2023|1100000|      15000|   1100000|\n|         2|     samsung|01-01-1995|  11000|      11000|   1100000|\n|         2|     samsung|01-02-2023|1120000|      11000|   1100000|\n|         2|     samsung|01-03-2023|1080000|      11000|   1100000|\n|         2|     samsung|01-04-2023|1800000|      11000|   1100000|\n|         2|     samsung|01-05-2023| 980000|      11000|   1100000|\n|         2|     samsung|01-06-2023|1100000|      11000|   1100000|\n|         3|     oneplus|01-01-2010|  23000|      23000|   1200000|\n|         3|     oneplus|01-02-2023|1120000|      23000|   1200000|\n|         3|     oneplus|01-03-2023|1160000|      23000|   1200000|\n|         3|     oneplus|01-04-2023|1170000|      23000|   1200000|\n|         3|     oneplus|01-05-2023|1175000|      23000|   1200000|\n|         3|     oneplus|01-06-2023|1200000|      23000|   1200000|\n+----------+------------+----------+-------+-----------+----------+\n\n"
     ]
    }
   ],
   "source": [
    "product_df.withColumn(\"first_sales\", first(\"sales\").over(window)) \\\n",
    "                       .withColumn(\"last_sales\", last(\"sales\").over(window)).show()"
   ]
  },
  {
   "cell_type": "code",
   "execution_count": 0,
   "metadata": {
    "application/vnd.databricks.v1+cell": {
     "cellMetadata": {
      "byteLimit": 2048000,
      "rowLimit": 10000
     },
     "inputWidgets": {},
     "nuid": "fb57830d-e210-4b40-8b35-c66003165e26",
     "showTitle": false,
     "tableResultSettingsMap": {},
     "title": ""
    }
   },
   "outputs": [
    {
     "output_type": "stream",
     "name": "stdout",
     "output_type": "stream",
     "text": [
      "+---+------+----------+-----+\n| id|  name|      date| time|\n+---+------+----------+-----+\n|  1|manish|11-07-2023|10:20|\n|  1|manish|11-07-2023|11:20|\n|  2|rajesh|11-07-2023|11:20|\n|  1|manish|11-07-2023|11:50|\n|  2|rajesh|11-07-2023|13:20|\n|  1|manish|11-07-2023|19:20|\n|  2|rajesh|11-07-2023|17:20|\n|  1|manish|12-07-2023|10:32|\n|  1|manish|12-07-2023|12:20|\n|  3|vikash|12-07-2023|09:12|\n|  1|manish|12-07-2023|16:23|\n|  3|vikash|12-07-2023|18:08|\n+---+------+----------+-----+\n\n"
     ]
    }
   ],
   "source": [
    "from pyspark.sql import SparkSession\n",
    "from pyspark.sql import Window\n",
    "from pyspark.sql.functions import col, first, last, to_timestamp, concat \n",
    "\n",
    "emp_data = [(1,\"manish\",\"11-07-2023\",\"10:20\"),\n",
    "        (1,\"manish\",\"11-07-2023\",\"11:20\"),\n",
    "        (2,\"rajesh\",\"11-07-2023\",\"11:20\"),\n",
    "        (1,\"manish\",\"11-07-2023\",\"11:50\"),\n",
    "        (2,\"rajesh\",\"11-07-2023\",\"13:20\"),\n",
    "        (1,\"manish\",\"11-07-2023\",\"19:20\"),\n",
    "        (2,\"rajesh\",\"11-07-2023\",\"17:20\"),\n",
    "        (1,\"manish\",\"12-07-2023\",\"10:32\"),\n",
    "        (1,\"manish\",\"12-07-2023\",\"12:20\"),\n",
    "        (3,\"vikash\",\"12-07-2023\",\"09:12\"),\n",
    "        (1,\"manish\",\"12-07-2023\",\"16:23\"),\n",
    "        (3,\"vikash\",\"12-07-2023\",\"18:08\")]\n",
    "\n",
    "emp_schema = [\"id\", \"name\", \"date\", \"time\"]\n",
    "emp_df = spark.createDataFrame(data=emp_data, schema=emp_schema)\n",
    "\n",
    "emp_df.show()"
   ]
  },
  {
   "cell_type": "code",
   "execution_count": 0,
   "metadata": {
    "application/vnd.databricks.v1+cell": {
     "cellMetadata": {
      "byteLimit": 2048000,
      "rowLimit": 10000
     },
     "inputWidgets": {},
     "nuid": "6e112501-8a8d-40af-a25c-979d83a8c518",
     "showTitle": false,
     "tableResultSettingsMap": {},
     "title": ""
    }
   },
   "outputs": [],
   "source": [
    "emp_df=emp_df.withColumn(\"timestamp\",\n",
    "                           from_unixtime(unix_timestamp(expr(\"CONCAT(date, ' ', time)\"), \"dd-MM-yyyy HH:mm\")))\n"
   ]
  },
  {
   "cell_type": "code",
   "execution_count": 0,
   "metadata": {
    "application/vnd.databricks.v1+cell": {
     "cellMetadata": {
      "byteLimit": 2048000,
      "rowLimit": 10000
     },
     "inputWidgets": {},
     "nuid": "934a3b48-e2a6-44b7-8dce-f7d21f901d99",
     "showTitle": false,
     "tableResultSettingsMap": {},
     "title": ""
    }
   },
   "outputs": [
    {
     "output_type": "stream",
     "name": "stdout",
     "output_type": "stream",
     "text": [
      "+---+------+----------+-----+-------------------+\n| id|  name|      date| time|          timestamp|\n+---+------+----------+-----+-------------------+\n|  1|manish|11-07-2023|10:20|2023-07-11 10:20:00|\n|  1|manish|11-07-2023|11:20|2023-07-11 11:20:00|\n|  2|rajesh|11-07-2023|11:20|2023-07-11 11:20:00|\n|  1|manish|11-07-2023|11:50|2023-07-11 11:50:00|\n|  2|rajesh|11-07-2023|13:20|2023-07-11 13:20:00|\n|  1|manish|11-07-2023|19:20|2023-07-11 19:20:00|\n|  2|rajesh|11-07-2023|17:20|2023-07-11 17:20:00|\n|  1|manish|12-07-2023|10:32|2023-07-12 10:32:00|\n|  1|manish|12-07-2023|12:20|2023-07-12 12:20:00|\n|  3|vikash|12-07-2023|09:12|2023-07-12 09:12:00|\n|  1|manish|12-07-2023|16:23|2023-07-12 16:23:00|\n|  3|vikash|12-07-2023|18:08|2023-07-12 18:08:00|\n+---+------+----------+-----+-------------------+\n\n"
     ]
    }
   ],
   "source": [
    "emp_df.show()"
   ]
  },
  {
   "cell_type": "code",
   "execution_count": 0,
   "metadata": {
    "application/vnd.databricks.v1+cell": {
     "cellMetadata": {
      "byteLimit": 2048000,
      "rowLimit": 10000
     },
     "inputWidgets": {},
     "nuid": "161ef1b4-cad4-4b6b-a66b-fc5c4b902191",
     "showTitle": false,
     "tableResultSettingsMap": {},
     "title": ""
    }
   },
   "outputs": [],
   "source": [
    "window = Window.partitionBy(\"id\",\"date\").orderBy(\"date\").rowsBetween(Window.unboundedPreceding, Window.unboundedFollowing)"
   ]
  },
  {
   "cell_type": "code",
   "execution_count": 0,
   "metadata": {
    "application/vnd.databricks.v1+cell": {
     "cellMetadata": {
      "byteLimit": 2048000,
      "rowLimit": 10000
     },
     "inputWidgets": {},
     "nuid": "4ed3ff7d-0510-4012-b91d-6fb2d6bb37f9",
     "showTitle": false,
     "tableResultSettingsMap": {},
     "title": ""
    }
   },
   "outputs": [
    {
     "output_type": "stream",
     "name": "stdout",
     "output_type": "stream",
     "text": [
      "+---+------+----------+-----+-------------------+-------------------+-------------------+-----------------------------------+\n|id |name  |date      |time |timestamp          |login              |logout             |total_time                         |\n+---+------+----------+-----+-------------------+-------------------+-------------------+-----------------------------------+\n|1  |manish|11-07-2023|10:20|2023-07-11 10:20:00|2023-07-11 10:20:00|2023-07-11 19:20:00|INTERVAL '0 09:00:00' DAY TO SECOND|\n|1  |manish|11-07-2023|11:20|2023-07-11 11:20:00|2023-07-11 10:20:00|2023-07-11 19:20:00|INTERVAL '0 09:00:00' DAY TO SECOND|\n|1  |manish|11-07-2023|11:50|2023-07-11 11:50:00|2023-07-11 10:20:00|2023-07-11 19:20:00|INTERVAL '0 09:00:00' DAY TO SECOND|\n|1  |manish|11-07-2023|19:20|2023-07-11 19:20:00|2023-07-11 10:20:00|2023-07-11 19:20:00|INTERVAL '0 09:00:00' DAY TO SECOND|\n|1  |manish|12-07-2023|10:32|2023-07-12 10:32:00|2023-07-12 10:32:00|2023-07-12 16:23:00|INTERVAL '0 05:51:00' DAY TO SECOND|\n|1  |manish|12-07-2023|12:20|2023-07-12 12:20:00|2023-07-12 10:32:00|2023-07-12 16:23:00|INTERVAL '0 05:51:00' DAY TO SECOND|\n|1  |manish|12-07-2023|16:23|2023-07-12 16:23:00|2023-07-12 10:32:00|2023-07-12 16:23:00|INTERVAL '0 05:51:00' DAY TO SECOND|\n|2  |rajesh|11-07-2023|11:20|2023-07-11 11:20:00|2023-07-11 11:20:00|2023-07-11 17:20:00|INTERVAL '0 06:00:00' DAY TO SECOND|\n|2  |rajesh|11-07-2023|13:20|2023-07-11 13:20:00|2023-07-11 11:20:00|2023-07-11 17:20:00|INTERVAL '0 06:00:00' DAY TO SECOND|\n|2  |rajesh|11-07-2023|17:20|2023-07-11 17:20:00|2023-07-11 11:20:00|2023-07-11 17:20:00|INTERVAL '0 06:00:00' DAY TO SECOND|\n|3  |vikash|12-07-2023|09:12|2023-07-12 09:12:00|2023-07-12 09:12:00|2023-07-12 18:08:00|INTERVAL '0 08:56:00' DAY TO SECOND|\n|3  |vikash|12-07-2023|18:08|2023-07-12 18:08:00|2023-07-12 09:12:00|2023-07-12 18:08:00|INTERVAL '0 08:56:00' DAY TO SECOND|\n+---+------+----------+-----+-------------------+-------------------+-------------------+-----------------------------------+\n\n"
     ]
    }
   ],
   "source": [
    "new_df = emp_df.withColumn(\"login\", first(\"timestamp\").over(window))\\\n",
    "                .withColumn(\"logout\",last(\"timestamp\").over(window))\\\n",
    "                    .withColumn(\"login\",to_timestamp(\"login\",\"yyyy-MM-dd HH:mm:ss\"))\\\n",
    "                        .withColumn(\"logout\",to_timestamp(\"logout\",\"yyyy-MM-dd HH:mm:ss\"))\\\n",
    "                            .withColumn(\"total_time\",col(\"logout\")-col(\"login\")).show(truncate = False)"
   ]
  },
  {
   "cell_type": "code",
   "execution_count": 0,
   "metadata": {
    "application/vnd.databricks.v1+cell": {
     "cellMetadata": {
      "byteLimit": 2048000,
      "rowLimit": 10000
     },
     "inputWidgets": {},
     "nuid": "c947807a-32fb-4d0d-9faf-15144896b844",
     "showTitle": false,
     "tableResultSettingsMap": {},
     "title": ""
    }
   },
   "outputs": [
    {
     "output_type": "stream",
     "name": "stdout",
     "output_type": "stream",
     "text": [
      "+---+------+----------+-------------------+-------------------+----------+\n|id |name  |date      |login              |logout             |total_time|\n+---+------+----------+-------------------+-------------------+----------+\n|1  |manish|11-07-2023|2023-07-11 10:20:00|2023-07-11 19:20:00|9.0       |\n|1  |manish|11-07-2023|2023-07-11 10:20:00|2023-07-11 19:20:00|9.0       |\n|1  |manish|11-07-2023|2023-07-11 10:20:00|2023-07-11 19:20:00|9.0       |\n|1  |manish|11-07-2023|2023-07-11 10:20:00|2023-07-11 19:20:00|9.0       |\n|1  |manish|12-07-2023|2023-07-12 10:32:00|2023-07-12 16:23:00|5.85      |\n|1  |manish|12-07-2023|2023-07-12 10:32:00|2023-07-12 16:23:00|5.85      |\n|1  |manish|12-07-2023|2023-07-12 10:32:00|2023-07-12 16:23:00|5.85      |\n|2  |rajesh|11-07-2023|2023-07-11 11:20:00|2023-07-11 17:20:00|6.0       |\n|2  |rajesh|11-07-2023|2023-07-11 11:20:00|2023-07-11 17:20:00|6.0       |\n|2  |rajesh|11-07-2023|2023-07-11 11:20:00|2023-07-11 17:20:00|6.0       |\n|3  |vikash|12-07-2023|2023-07-12 09:12:00|2023-07-12 18:08:00|8.93      |\n|3  |vikash|12-07-2023|2023-07-12 09:12:00|2023-07-12 18:08:00|8.93      |\n+---+------+----------+-------------------+-------------------+----------+\n\n+---+------+----------+----------+\n|id |name  |date      |total_time|\n+---+------+----------+----------+\n|1  |manish|12-07-2023|5.85      |\n|1  |manish|12-07-2023|5.85      |\n|1  |manish|12-07-2023|5.85      |\n|2  |rajesh|11-07-2023|6.0       |\n|2  |rajesh|11-07-2023|6.0       |\n|2  |rajesh|11-07-2023|6.0       |\n+---+------+----------+----------+\n\n+---+------+----------+----------+\n|id |name  |date      |total_time|\n+---+------+----------+----------+\n|1  |manish|11-07-2023|9.0       |\n|1  |manish|11-07-2023|9.0       |\n|1  |manish|11-07-2023|9.0       |\n|1  |manish|11-07-2023|9.0       |\n|3  |vikash|12-07-2023|8.93      |\n|3  |vikash|12-07-2023|8.93      |\n+---+------+----------+----------+\n\n"
     ]
    }
   ],
   "source": [
    "from pyspark.sql import SparkSession, Window\n",
    "from pyspark.sql.functions import col, first, last, to_timestamp, unix_timestamp, expr, when\n",
    "\n",
    "# Initialize Spark session\n",
    "spark = SparkSession.builder \\\n",
    "    .appName(\"Employee Total Time Calculation\") \\\n",
    "    .getOrCreate()\n",
    "\n",
    "# Employee data\n",
    "emp_data = [\n",
    "    (1, \"manish\", \"11-07-2023\", \"10:20\"),\n",
    "    (1, \"manish\", \"11-07-2023\", \"11:20\"),\n",
    "    (2, \"rajesh\", \"11-07-2023\", \"11:20\"),\n",
    "    (1, \"manish\", \"11-07-2023\", \"11:50\"),\n",
    "    (2, \"rajesh\", \"11-07-2023\", \"13:20\"),\n",
    "    (1, \"manish\", \"11-07-2023\", \"19:20\"),\n",
    "    (2, \"rajesh\", \"11-07-2023\", \"17:20\"),\n",
    "    (1, \"manish\", \"12-07-2023\", \"10:32\"),\n",
    "    (1, \"manish\", \"12-07-2023\", \"12:20\"),\n",
    "    (3, \"vikash\", \"12-07-2023\", \"09:12\"),\n",
    "    (1, \"manish\", \"12-07-2023\", \"16:23\"),\n",
    "    (3, \"vikash\", \"12-07-2023\", \"18:08\")\n",
    "]\n",
    "\n",
    "# Define schema\n",
    "emp_schema = [\"id\", \"name\", \"date\", \"time\"]\n",
    "\n",
    "# Create DataFrame\n",
    "emp_df = spark.createDataFrame(data=emp_data, schema=emp_schema)\n",
    "\n",
    "# Create timestamp column\n",
    "emp_df = emp_df.withColumn(\n",
    "    \"timestamp\",\n",
    "    to_timestamp(unix_timestamp(expr(\"CONCAT(date, ' ', time)\"), \"dd-MM-yyyy HH:mm\").cast(\"timestamp\"))\n",
    ")\n",
    "\n",
    "# Define window\n",
    "window = Window.partitionBy(\"id\", \"date\").orderBy(\"timestamp\").rowsBetween(Window.unboundedPreceding, Window.unboundedFollowing)\n",
    "\n",
    "# Calculate login, logout, and total time\n",
    "new_df = emp_df.withColumn(\"login\", first(\"timestamp\").over(window)) \\\n",
    "                .withColumn(\"logout\", last(\"timestamp\").over(window)) \\\n",
    "                .withColumn(\"total_time\", round((col(\"logout\").cast(\"long\") - col(\"login\").cast(\"long\")) / 3600,2))  # Convert seconds to hours\n",
    "\n",
    "# Show the DataFrame with total time\n",
    "new_df.select(\"id\", \"name\", \"date\", \"login\", \"logout\", \"total_time\").show(truncate=False)\n",
    "\n",
    "# Determine who should receive an email\n",
    "emails_to_send = new_df.filter(col(\"total_time\") < 8).select(\"id\", \"name\", \"date\", \"total_time\")\n",
    "\n",
    "\n",
    "# Determine who should receive an good\n",
    "emails_to_good = new_df.filter(col(\"total_time\") >= 8).select(\"id\", \"name\", \"date\", \"total_time\")\n",
    "\n",
    "# Show employees to notify\n",
    "emails_to_send.show(truncate=False)\n",
    "emails_to_good.show(truncate=False)"
   ]
  },
  {
   "cell_type": "code",
   "execution_count": 0,
   "metadata": {
    "application/vnd.databricks.v1+cell": {
     "cellMetadata": {
      "byteLimit": 2048000,
      "rowLimit": 10000
     },
     "inputWidgets": {},
     "nuid": "903986ad-4e8e-4e8a-91e3-efd2f4c03552",
     "showTitle": false,
     "tableResultSettingsMap": {},
     "title": ""
    }
   },
   "outputs": [],
   "source": [
    "from pyspark.sql import SparkSession\n",
    "from pyspark.sql.window import Window\n",
    "from pyspark.sql.functions import *\n",
    "from pyspark.sql.types import * \n",
    "\n",
    "\n",
    "product_data = [\n",
    "(1,\"iphone\",\"01-01-2023\",1500000),\n",
    "(2,\"samsung\",\"01-01-2023\",1100000),\n",
    "(3,\"oneplus\",\"01-01-2023\",1100000),\n",
    "(1,\"iphone\",\"01-02-2023\",1300000),\n",
    "(2,\"samsung\",\"01-02-2023\",1120000),\n",
    "(3,\"oneplus\",\"01-02-2023\",1120000),\n",
    "(1,\"iphone\",\"01-03-2023\",1600000),\n",
    "(2,\"samsung\",\"01-03-2023\",1080000),\n",
    "(3,\"oneplus\",\"01-03-2023\",1160000),\n",
    "(1,\"iphone\",\"01-04-2023\",1700000),\n",
    "(2,\"samsung\",\"01-04-2023\",1800000),\n",
    "(3,\"oneplus\",\"01-04-2023\",1170000),\n",
    "(1,\"iphone\",\"01-05-2023\",1200000),\n",
    "(2,\"samsung\",\"01-05-2023\",980000),\n",
    "(3,\"oneplus\",\"01-05-2023\",1175000),\n",
    "(1,\"iphone\",\"01-06-2023\",1100000),\n",
    "(2,\"samsung\",\"01-06-2023\",1100000),\n",
    "(3,\"oneplus\",\"01-06-2023\",1200000)\n",
    "]\n",
    "\n",
    "product_schema=[\"product_id\",\"product_name\",\"sales_date\",\"sales\"]\n",
    "\n",
    "product_df = spark.createDataFrame(data=product_data,schema=product_schema)\n"
   ]
  },
  {
   "cell_type": "code",
   "execution_count": 0,
   "metadata": {
    "application/vnd.databricks.v1+cell": {
     "cellMetadata": {
      "byteLimit": 2048000,
      "rowLimit": 10000
     },
     "inputWidgets": {},
     "nuid": "6083526a-fe26-40a9-944f-549e8b027eaf",
     "showTitle": false,
     "tableResultSettingsMap": {},
     "title": ""
    }
   },
   "outputs": [
    {
     "output_type": "stream",
     "name": "stdout",
     "output_type": "stream",
     "text": [
      "root\n |-- product_id: long (nullable = true)\n |-- product_name: string (nullable = true)\n |-- sales_date: string (nullable = true)\n |-- sales: long (nullable = true)\n\n"
     ]
    }
   ],
   "source": [
    "# DataFrame এর স্কিমা প্রিন্ট করা\n",
    "product_df.printSchema()\n"
   ]
  },
  {
   "cell_type": "code",
   "execution_count": 0,
   "metadata": {
    "application/vnd.databricks.v1+cell": {
     "cellMetadata": {
      "byteLimit": 2048000,
      "rowLimit": 10000
     },
     "inputWidgets": {},
     "nuid": "cde6abf8-ded3-4d68-a4ff-5dd129b0bf6a",
     "showTitle": false,
     "tableResultSettingsMap": {},
     "title": ""
    }
   },
   "outputs": [
    {
     "output_type": "stream",
     "name": "stdout",
     "output_type": "stream",
     "text": [
      "+----------+------------+----------+-------+-------------+----------------+-----------------+\n|product_id|product_name|sales_date|  sales|sales_date_ts|running_sum_rows|running_sum_range|\n+----------+------------+----------+-------+-------------+----------------+-----------------+\n|         1|      iphone|2023-01-01|1500000|   1672531200|         1500000|          1500000|\n|         1|      iphone|2023-01-02|1300000|   1672617600|         2800000|          2800000|\n|         1|      iphone|2023-01-03|1600000|   1672704000|         4400000|          4400000|\n|         1|      iphone|2023-01-04|1700000|   1672790400|         4600000|          6100000|\n|         1|      iphone|2023-01-05|1200000|   1672876800|         4500000|          7300000|\n|         1|      iphone|2023-01-06|1100000|   1672963200|         4000000|          8400000|\n|         2|     samsung|2023-01-01|1100000|   1672531200|         1100000|          1100000|\n|         2|     samsung|2023-01-02|1120000|   1672617600|         2220000|          2220000|\n|         2|     samsung|2023-01-03|1080000|   1672704000|         3300000|          3300000|\n|         2|     samsung|2023-01-04|1800000|   1672790400|         4000000|          5100000|\n|         2|     samsung|2023-01-05| 980000|   1672876800|         3860000|          6080000|\n|         2|     samsung|2023-01-06|1100000|   1672963200|         3880000|          7180000|\n|         3|     oneplus|2023-01-01|1100000|   1672531200|         1100000|          1100000|\n|         3|     oneplus|2023-01-02|1120000|   1672617600|         2220000|          2220000|\n|         3|     oneplus|2023-01-03|1160000|   1672704000|         3380000|          3380000|\n|         3|     oneplus|2023-01-04|1170000|   1672790400|         3450000|          4550000|\n|         3|     oneplus|2023-01-05|1175000|   1672876800|         3505000|          5725000|\n|         3|     oneplus|2023-01-06|1200000|   1672963200|         3545000|          6925000|\n+----------+------------+----------+-------+-------------+----------------+-----------------+\n\n"
     ]
    }
   ],
   "source": [
    "from pyspark.sql import SparkSession\n",
    "from pyspark.sql.window import Window\n",
    "from pyspark.sql.functions import col, sum, unix_timestamp, to_date\n",
    "\n",
    "# Create a Spark session\n",
    "spark = SparkSession.builder \\\n",
    "    .appName(\"Running Sum Example\") \\\n",
    "    .getOrCreate()\n",
    "\n",
    "# Input data\n",
    "product_data = [\n",
    "    (1, \"iphone\", \"01-01-2023\", 1500000),\n",
    "    (2, \"samsung\", \"01-01-2023\", 1100000),\n",
    "    (3, \"oneplus\", \"01-01-2023\", 1100000),\n",
    "    (1, \"iphone\", \"01-02-2023\", 1300000),\n",
    "    (2, \"samsung\", \"01-02-2023\", 1120000),\n",
    "    (3, \"oneplus\", \"01-02-2023\", 1120000),\n",
    "    (1, \"iphone\", \"01-03-2023\", 1600000),\n",
    "    (2, \"samsung\", \"01-03-2023\", 1080000),\n",
    "    (3, \"oneplus\", \"01-03-2023\", 1160000),\n",
    "    (1, \"iphone\", \"01-04-2023\", 1700000),\n",
    "    (2, \"samsung\", \"01-04-2023\", 1800000),\n",
    "    (3, \"oneplus\", \"01-04-2023\", 1170000),\n",
    "    (1, \"iphone\", \"01-05-2023\", 1200000),\n",
    "    (2, \"samsung\", \"01-05-2023\", 980000),\n",
    "    (3, \"oneplus\", \"01-05-2023\", 1175000),\n",
    "    (1, \"iphone\", \"01-06-2023\", 1100000),\n",
    "    (2, \"samsung\", \"01-06-2023\", 1100000),\n",
    "    (3, \"oneplus\", \"01-06-2023\", 1200000)\n",
    "]\n",
    "\n",
    "# Schema\n",
    "product_schema = [\"product_id\", \"product_name\", \"sales_date\", \"sales\"]\n",
    "\n",
    "# Create DataFrame\n",
    "product_df = spark.createDataFrame(data=product_data, schema=product_schema)\n",
    "\n",
    "# Convert sales_date to DateType\n",
    "product_df = product_df.withColumn(\"sales_date\", to_date(col(\"sales_date\"), \"MM-dd-yyyy\"))\n",
    "\n",
    "# Convert sales_date to timestamp for RANGE operations\n",
    "product_df = product_df.withColumn(\"sales_date_ts\", unix_timestamp(\"sales_date\"))\n",
    "\n",
    "# Define window specifications\n",
    "window_rows = (\n",
    "    Window.partitionBy(\"product_id\")\n",
    "    .orderBy(\"sales_date\")\n",
    "    .rowsBetween(-2, 0)\n",
    ")\n",
    "\n",
    "window_range = (\n",
    "    Window.partitionBy(\"product_id\")\n",
    "    .orderBy(\"sales_date_ts\")\n",
    "    .rangeBetween(-1000000, 0)\n",
    ")\n",
    "\n",
    "# Add running sum columns\n",
    "product_df = product_df.withColumn(\"running_sum_rows\", sum(\"sales\").over(window_rows))\n",
    "product_df = product_df.withColumn(\"running_sum_range\", sum(\"sales\").over(window_range))\n",
    "\n",
    "# Show the results\n",
    "product_df.show()\n"
   ]
  },
  {
   "cell_type": "code",
   "execution_count": 0,
   "metadata": {
    "application/vnd.databricks.v1+cell": {
     "cellMetadata": {
      "byteLimit": 2048000,
      "rowLimit": 10000
     },
     "inputWidgets": {},
     "nuid": "eccf7e1e-871d-401c-81a4-f92fd2f01249",
     "showTitle": false,
     "tableResultSettingsMap": {},
     "title": ""
    }
   },
   "outputs": [
    {
     "output_type": "stream",
     "name": "stdout",
     "output_type": "stream",
     "text": [
      "root\n |-- product_id: long (nullable = true)\n |-- product_name: string (nullable = true)\n |-- sales_date: date (nullable = true)\n |-- sales: long (nullable = true)\n |-- sales_date_ts: long (nullable = true)\n |-- running_sum_rows: long (nullable = true)\n |-- running_sum_range: long (nullable = true)\n\n"
     ]
    }
   ],
   "source": [
    "# DataFrame এর স্কিমা প্রিন্ট করা\n",
    "product_df.printSchema()\n"
   ]
  },
  {
   "cell_type": "markdown",
   "metadata": {
    "application/vnd.databricks.v1+cell": {
     "cellMetadata": {},
     "inputWidgets": {},
     "nuid": "723a52fb-c12f-4532-9527-fa8cf2eddb46",
     "showTitle": false,
     "tableResultSettingsMap": {},
     "title": ""
    }
   },
   "source": [
    "#***flatten nested json in pyspark***"
   ]
  },
  {
   "cell_type": "code",
   "execution_count": 0,
   "metadata": {
    "application/vnd.databricks.v1+cell": {
     "cellMetadata": {
      "byteLimit": 2048000,
      "rowLimit": 10000
     },
     "inputWidgets": {},
     "nuid": "99dba883-824f-45c4-8029-3bafa4b04aec",
     "showTitle": false,
     "tableResultSettingsMap": {},
     "title": ""
    }
   },
   "outputs": [],
   "source": [
    "from pyspark.sql.functions import *\n",
    "from pyspark.sql.types import * "
   ]
  },
  {
   "cell_type": "code",
   "execution_count": 0,
   "metadata": {
    "application/vnd.databricks.v1+cell": {
     "cellMetadata": {
      "byteLimit": 2048000,
      "rowLimit": 10000
     },
     "inputWidgets": {},
     "nuid": "2250c738-9e3b-4fce-938f-e1b0163c6632",
     "showTitle": false,
     "tableResultSettingsMap": {},
     "title": ""
    }
   },
   "outputs": [],
   "source": [
    "# df1 = spark.read.format(\"json\").load(\"dbfs:/FileStore/shared_uploads/mechinelearningai@gmail.com/resturant_json_data.json\")\n",
    "\n",
    "from pyspark.sql.functions import *\n",
    "from pyspark.sql.types import * \n",
    "\n",
    "resturant_json = spark.read.format(\"json\")\\\n",
    "            .option(\"multiline\",\"true\")\\\n",
    "            .option(\"inferschema\",\"true\")\\\n",
    "            .load(\"dbfs:/FileStore/shared_uploads/mechinelearningai@gmail.com/resturant_json_data.json\")"
   ]
  },
  {
   "cell_type": "code",
   "execution_count": 0,
   "metadata": {
    "application/vnd.databricks.v1+cell": {
     "cellMetadata": {
      "byteLimit": 2048000,
      "rowLimit": 10000
     },
     "inputWidgets": {},
     "nuid": "86f196a8-5dd1-47c1-be9f-43c59f49c0f1",
     "showTitle": false,
     "tableResultSettingsMap": {},
     "title": ""
    }
   },
   "outputs": [
    {
     "output_type": "stream",
     "name": "stdout",
     "output_type": "stream",
     "text": [
      "+----+-------+--------------------+-------------+-------------+-------------+------+\n|code|message|         restaurants|results_found|results_shown|results_start|status|\n+----+-------+--------------------+-------------+-------------+-------------+------+\n|null|   null|                  []|            0|            0|            1|  null|\n|null|   null|[{{{17066603}, b9...|         6835|           20|            1|  null|\n|null|   null|                  []|            0|            0|            1|  null|\n|null|   null|                  []|            0|            0|            1|  null|\n|null|   null|[{{{17093124}, b9...|         8680|           20|            1|  null|\n|null|   null|                  []|            0|            0|            1|  null|\n|null|   null|                  []|            0|            0|            1|  null|\n|null|   null|[{{{17580142}, b9...|          943|           20|            1|  null|\n|null|   null|                  []|            0|            0|            1|  null|\n|null|   null|                  []|            0|            0|            1|  null|\n|null|   null|[{{{17284158}, b9...|          257|           20|            1|  null|\n|null|   null|                  []|            0|            0|            1|  null|\n|null|   null|                  []|            0|            0|            1|  null|\n|null|   null|[{{{17678233}, b9...|          358|           20|            1|  null|\n|null|   null|                  []|            0|            0|            1|  null|\n|null|   null|                  []|            0|            0|            1|  null|\n|null|   null|[{{{17375047}, b9...|          641|           20|            1|  null|\n|null|   null|                  []|            0|            0|            1|  null|\n|null|   null|                  []|            0|            0|            1|  null|\n|null|   null|[{{{17616590}, b9...|         1613|           20|            1|  null|\n+----+-------+--------------------+-------------+-------------+-------------+------+\nonly showing top 20 rows\n\n"
     ]
    }
   ],
   "source": [
    "resturant_json.show()"
   ]
  },
  {
   "cell_type": "code",
   "execution_count": 0,
   "metadata": {
    "application/vnd.databricks.v1+cell": {
     "cellMetadata": {
      "byteLimit": 2048000,
      "rowLimit": 10000
     },
     "inputWidgets": {},
     "nuid": "5b41c12e-452d-41d7-bf82-6b5057624e26",
     "showTitle": false,
     "tableResultSettingsMap": {},
     "title": ""
    }
   },
   "outputs": [
    {
     "output_type": "stream",
     "name": "stdout",
     "output_type": "stream",
     "text": [
      "root\n |-- code: long (nullable = true)\n |-- message: string (nullable = true)\n |-- restaurants: array (nullable = true)\n |    |-- element: struct (containsNull = true)\n |    |    |-- restaurant: struct (nullable = true)\n |    |    |    |-- R: struct (nullable = true)\n |    |    |    |    |-- res_id: long (nullable = true)\n |    |    |    |-- apikey: string (nullable = true)\n |    |    |    |-- average_cost_for_two: long (nullable = true)\n |    |    |    |-- cuisines: string (nullable = true)\n |    |    |    |-- currency: string (nullable = true)\n |    |    |    |-- deeplink: string (nullable = true)\n |    |    |    |-- establishment_types: array (nullable = true)\n |    |    |    |    |-- element: string (containsNull = true)\n |    |    |    |-- events_url: string (nullable = true)\n |    |    |    |-- featured_image: string (nullable = true)\n |    |    |    |-- has_online_delivery: long (nullable = true)\n |    |    |    |-- has_table_booking: long (nullable = true)\n |    |    |    |-- id: string (nullable = true)\n |    |    |    |-- is_delivering_now: long (nullable = true)\n |    |    |    |-- location: struct (nullable = true)\n |    |    |    |    |-- address: string (nullable = true)\n |    |    |    |    |-- city: string (nullable = true)\n |    |    |    |    |-- city_id: long (nullable = true)\n |    |    |    |    |-- country_id: long (nullable = true)\n |    |    |    |    |-- latitude: string (nullable = true)\n |    |    |    |    |-- locality: string (nullable = true)\n |    |    |    |    |-- locality_verbose: string (nullable = true)\n |    |    |    |    |-- longitude: string (nullable = true)\n |    |    |    |    |-- zipcode: string (nullable = true)\n |    |    |    |-- menu_url: string (nullable = true)\n |    |    |    |-- name: string (nullable = true)\n |    |    |    |-- offers: array (nullable = true)\n |    |    |    |    |-- element: string (containsNull = true)\n |    |    |    |-- photos_url: string (nullable = true)\n |    |    |    |-- price_range: long (nullable = true)\n |    |    |    |-- switch_to_order_menu: long (nullable = true)\n |    |    |    |-- thumb: string (nullable = true)\n |    |    |    |-- url: string (nullable = true)\n |    |    |    |-- user_rating: struct (nullable = true)\n |    |    |    |    |-- aggregate_rating: string (nullable = true)\n |    |    |    |    |-- rating_color: string (nullable = true)\n |    |    |    |    |-- rating_text: string (nullable = true)\n |    |    |    |    |-- votes: string (nullable = true)\n |-- results_found: long (nullable = true)\n |-- results_shown: long (nullable = true)\n |-- results_start: string (nullable = true)\n |-- status: string (nullable = true)\n\n"
     ]
    }
   ],
   "source": [
    "resturant_json.printSchema()"
   ]
  },
  {
   "cell_type": "code",
   "execution_count": 0,
   "metadata": {
    "application/vnd.databricks.v1+cell": {
     "cellMetadata": {
      "byteLimit": 2048000,
      "rowLimit": 10000
     },
     "inputWidgets": {},
     "nuid": "b56440e0-d603-46dc-853b-a43db0a5e3d0",
     "showTitle": false,
     "tableResultSettingsMap": {},
     "title": ""
    }
   },
   "outputs": [
    {
     "output_type": "stream",
     "name": "stdout",
     "output_type": "stream",
     "text": [
      "root\n |-- code: long (nullable = true)\n |-- message: string (nullable = true)\n |-- results_found: long (nullable = true)\n |-- results_shown: long (nullable = true)\n |-- results_start: string (nullable = true)\n |-- status: string (nullable = true)\n |-- new_restaurants: struct (nullable = true)\n |    |-- restaurant: struct (nullable = true)\n |    |    |-- R: struct (nullable = true)\n |    |    |    |-- res_id: long (nullable = true)\n |    |    |-- apikey: string (nullable = true)\n |    |    |-- average_cost_for_two: long (nullable = true)\n |    |    |-- cuisines: string (nullable = true)\n |    |    |-- currency: string (nullable = true)\n |    |    |-- deeplink: string (nullable = true)\n |    |    |-- establishment_types: array (nullable = true)\n |    |    |    |-- element: string (containsNull = true)\n |    |    |-- events_url: string (nullable = true)\n |    |    |-- featured_image: string (nullable = true)\n |    |    |-- has_online_delivery: long (nullable = true)\n |    |    |-- has_table_booking: long (nullable = true)\n |    |    |-- id: string (nullable = true)\n |    |    |-- is_delivering_now: long (nullable = true)\n |    |    |-- location: struct (nullable = true)\n |    |    |    |-- address: string (nullable = true)\n |    |    |    |-- city: string (nullable = true)\n |    |    |    |-- city_id: long (nullable = true)\n |    |    |    |-- country_id: long (nullable = true)\n |    |    |    |-- latitude: string (nullable = true)\n |    |    |    |-- locality: string (nullable = true)\n |    |    |    |-- locality_verbose: string (nullable = true)\n |    |    |    |-- longitude: string (nullable = true)\n |    |    |    |-- zipcode: string (nullable = true)\n |    |    |-- menu_url: string (nullable = true)\n |    |    |-- name: string (nullable = true)\n |    |    |-- offers: array (nullable = true)\n |    |    |    |-- element: string (containsNull = true)\n |    |    |-- photos_url: string (nullable = true)\n |    |    |-- price_range: long (nullable = true)\n |    |    |-- switch_to_order_menu: long (nullable = true)\n |    |    |-- thumb: string (nullable = true)\n |    |    |-- url: string (nullable = true)\n |    |    |-- user_rating: struct (nullable = true)\n |    |    |    |-- aggregate_rating: string (nullable = true)\n |    |    |    |-- rating_color: string (nullable = true)\n |    |    |    |-- rating_text: string (nullable = true)\n |    |    |    |-- votes: string (nullable = true)\n\n"
     ]
    }
   ],
   "source": [
    "resturant_json.select(\"*\",explode(\"restaurants\").alias(\"new_restaurants\")).drop(\"restaurants\").printSchema()"
   ]
  },
  {
   "cell_type": "code",
   "execution_count": 0,
   "metadata": {
    "application/vnd.databricks.v1+cell": {
     "cellMetadata": {
      "byteLimit": 2048000,
      "rowLimit": 10000
     },
     "inputWidgets": {},
     "nuid": "c1ebdcde-39e8-40df-b472-5340bd423287",
     "showTitle": false,
     "tableResultSettingsMap": {},
     "title": ""
    }
   },
   "outputs": [
    {
     "output_type": "stream",
     "name": "stdout",
     "output_type": "stream",
     "text": [
      "+--------+\n|  res_id|\n+--------+\n|17066603|\n|17059541|\n|17064405|\n|17057797|\n|17057591|\n|17064266|\n|17060516|\n|17060320|\n|17059060|\n|17059012|\n|17060869|\n|17061231|\n|17058534|\n|17057925|\n|17064031|\n|17061237|\n|17061253|\n|17061296|\n|17061205|\n|17057397|\n+--------+\nonly showing top 20 rows\n\n"
     ]
    }
   ],
   "source": [
    "resturant_json.select(\"*\",explode(\"restaurants\").alias(\"new_restaurants\")).drop(\"restaurants\")\\\n",
    "                .select(\"new_restaurants.restaurant.R.res_id\").show()"
   ]
  },
  {
   "cell_type": "code",
   "execution_count": 0,
   "metadata": {
    "application/vnd.databricks.v1+cell": {
     "cellMetadata": {
      "byteLimit": 2048000,
      "rowLimit": 10000
     },
     "inputWidgets": {},
     "nuid": "6d0d67a9-fa1a-4132-a8f0-e2c24e3203e6",
     "showTitle": false,
     "tableResultSettingsMap": {},
     "title": ""
    }
   },
   "outputs": [
    {
     "output_type": "display_data",
     "data": {
      "text/plain": [
       "\u001B[0;31m---------------------------------------------------------------------------\u001B[0m\n",
       "\u001B[0;31mAnalysisException\u001B[0m                         Traceback (most recent call last)\n",
       "File \u001B[0;32m<command-1733041662803272>:1\u001B[0m\n",
       "\u001B[0;32m----> 1\u001B[0m \u001B[43mresturant_json\u001B[49m\u001B[38;5;241;43m.\u001B[39;49m\u001B[43mselect\u001B[49m\u001B[43m(\u001B[49m\u001B[38;5;124;43m\"\u001B[39;49m\u001B[38;5;124;43m*\u001B[39;49m\u001B[38;5;124;43m\"\u001B[39;49m\u001B[43m,\u001B[49m\u001B[43mexplode\u001B[49m\u001B[43m(\u001B[49m\u001B[38;5;124;43m\"\u001B[39;49m\u001B[38;5;124;43mrestaurants\u001B[39;49m\u001B[38;5;124;43m\"\u001B[39;49m\u001B[43m)\u001B[49m\u001B[38;5;241;43m.\u001B[39;49m\u001B[43malias\u001B[49m\u001B[43m(\u001B[49m\u001B[38;5;124;43m\"\u001B[39;49m\u001B[38;5;124;43mnew_restaurants\u001B[39;49m\u001B[38;5;124;43m\"\u001B[39;49m\u001B[43m)\u001B[49m\u001B[43m)\u001B[49m\u001B[38;5;241;43m.\u001B[39;49m\u001B[43mdrop\u001B[49m\u001B[43m(\u001B[49m\u001B[38;5;124;43m\"\u001B[39;49m\u001B[38;5;124;43mrestaurants\u001B[39;49m\u001B[38;5;124;43m\"\u001B[39;49m\u001B[43m)\u001B[49m\u001B[43m\\\u001B[49m\n",
       "\u001B[1;32m      2\u001B[0m \u001B[43m                \u001B[49m\u001B[38;5;241;43m.\u001B[39;49m\u001B[43mselect\u001B[49m\u001B[43m(\u001B[49m\u001B[38;5;124;43m\"\u001B[39;49m\u001B[38;5;124;43m*\u001B[39;49m\u001B[38;5;124;43m\"\u001B[39;49m\u001B[43m,\u001B[49m\u001B[38;5;124;43m\"\u001B[39;49m\u001B[38;5;124;43mnew_restaurants.restaurant.R.res_id\u001B[39;49m\u001B[38;5;124;43m\"\u001B[39;49m\u001B[43m,\u001B[49m\n",
       "\u001B[1;32m      3\u001B[0m \u001B[43m                       \u001B[49m\u001B[43mexplode\u001B[49m\u001B[43m(\u001B[49m\u001B[38;5;124;43m\"\u001B[39;49m\u001B[38;5;124;43mnew_restaurants.restaurant.establishment_types\u001B[39;49m\u001B[38;5;124;43m\"\u001B[39;49m\u001B[43m)\u001B[49m\u001B[38;5;241;43m.\u001B[39;49m\u001B[43malias\u001B[49m\u001B[43m(\u001B[49m\u001B[38;5;124;43m\"\u001B[39;49m\u001B[38;5;124;43mestablishment_types\u001B[39;49m\u001B[38;5;124;43m\"\u001B[39;49m\u001B[43m)\u001B[49m\u001B[43m,\u001B[49m\u001B[43mexplode\u001B[49m\u001B[43m(\u001B[49m\u001B[38;5;124;43m\"\u001B[39;49m\u001B[38;5;124;43mnew_restaurants.restaurant.establishment_types.element\u001B[39;49m\u001B[38;5;124;43m\"\u001B[39;49m\u001B[43m)\u001B[49m\u001B[38;5;241;43m.\u001B[39;49m\u001B[43malias\u001B[49m\u001B[43m(\u001B[49m\u001B[38;5;124;43m\"\u001B[39;49m\u001B[38;5;124;43melement\u001B[39;49m\u001B[38;5;124;43m\"\u001B[39;49m\u001B[43m)\u001B[49m\u001B[43m,\u001B[49m\u001B[38;5;124;43m\"\u001B[39;49m\u001B[38;5;124;43mnew_restaurants.restaurant.name\u001B[39;49m\u001B[38;5;124;43m\"\u001B[39;49m\u001B[43m,\u001B[49m\n",
       "\u001B[1;32m      4\u001B[0m \u001B[43m                       \u001B[49m\u001B[38;5;124;43m\"\u001B[39;49m\u001B[38;5;124;43mnew_restaurants.restaurant.location.address\u001B[39;49m\u001B[38;5;124;43m\"\u001B[39;49m\u001B[43m,\u001B[49m\n",
       "\u001B[1;32m      5\u001B[0m \u001B[43m                       \u001B[49m\u001B[38;5;124;43m\"\u001B[39;49m\u001B[38;5;124;43mnew_restaurants.restaurant.location.city\u001B[39;49m\u001B[38;5;124;43m\"\u001B[39;49m\u001B[43m,\u001B[49m\n",
       "\u001B[1;32m      6\u001B[0m \u001B[43m                       \u001B[49m\u001B[38;5;124;43m\"\u001B[39;49m\u001B[38;5;124;43mnew_restaurants.restaurant.price_range\u001B[39;49m\u001B[38;5;124;43m\"\u001B[39;49m\u001B[43m,\u001B[49m\n",
       "\u001B[1;32m      7\u001B[0m \u001B[43m                       \u001B[49m\u001B[38;5;124;43m\"\u001B[39;49m\u001B[38;5;124;43mnew_restaurants.restaurant.user_rating\u001B[39;49m\u001B[38;5;124;43m\"\u001B[39;49m\n",
       "\u001B[1;32m      8\u001B[0m \u001B[43m                       \u001B[49m\u001B[43m)\u001B[49m\u001B[38;5;241m.\u001B[39mprintSchema()\n",
       "\n",
       "File \u001B[0;32m/databricks/spark/python/pyspark/instrumentation_utils.py:48\u001B[0m, in \u001B[0;36m_wrap_function.<locals>.wrapper\u001B[0;34m(*args, **kwargs)\u001B[0m\n",
       "\u001B[1;32m     46\u001B[0m start \u001B[38;5;241m=\u001B[39m time\u001B[38;5;241m.\u001B[39mperf_counter()\n",
       "\u001B[1;32m     47\u001B[0m \u001B[38;5;28;01mtry\u001B[39;00m:\n",
       "\u001B[0;32m---> 48\u001B[0m     res \u001B[38;5;241m=\u001B[39m \u001B[43mfunc\u001B[49m\u001B[43m(\u001B[49m\u001B[38;5;241;43m*\u001B[39;49m\u001B[43margs\u001B[49m\u001B[43m,\u001B[49m\u001B[43m \u001B[49m\u001B[38;5;241;43m*\u001B[39;49m\u001B[38;5;241;43m*\u001B[39;49m\u001B[43mkwargs\u001B[49m\u001B[43m)\u001B[49m\n",
       "\u001B[1;32m     49\u001B[0m     logger\u001B[38;5;241m.\u001B[39mlog_success(\n",
       "\u001B[1;32m     50\u001B[0m         module_name, class_name, function_name, time\u001B[38;5;241m.\u001B[39mperf_counter() \u001B[38;5;241m-\u001B[39m start, signature\n",
       "\u001B[1;32m     51\u001B[0m     )\n",
       "\u001B[1;32m     52\u001B[0m     \u001B[38;5;28;01mreturn\u001B[39;00m res\n",
       "\n",
       "File \u001B[0;32m/databricks/spark/python/pyspark/sql/dataframe.py:3023\u001B[0m, in \u001B[0;36mDataFrame.select\u001B[0;34m(self, *cols)\u001B[0m\n",
       "\u001B[1;32m   2978\u001B[0m \u001B[38;5;28;01mdef\u001B[39;00m \u001B[38;5;21mselect\u001B[39m(\u001B[38;5;28mself\u001B[39m, \u001B[38;5;241m*\u001B[39mcols: \u001B[38;5;124m\"\u001B[39m\u001B[38;5;124mColumnOrName\u001B[39m\u001B[38;5;124m\"\u001B[39m) \u001B[38;5;241m-\u001B[39m\u001B[38;5;241m>\u001B[39m \u001B[38;5;124m\"\u001B[39m\u001B[38;5;124mDataFrame\u001B[39m\u001B[38;5;124m\"\u001B[39m:  \u001B[38;5;66;03m# type: ignore[misc]\u001B[39;00m\n",
       "\u001B[1;32m   2979\u001B[0m     \u001B[38;5;124;03m\"\"\"Projects a set of expressions and returns a new :class:`DataFrame`.\u001B[39;00m\n",
       "\u001B[1;32m   2980\u001B[0m \n",
       "\u001B[1;32m   2981\u001B[0m \u001B[38;5;124;03m    .. versionadded:: 1.3.0\u001B[39;00m\n",
       "\u001B[0;32m   (...)\u001B[0m\n",
       "\u001B[1;32m   3021\u001B[0m \u001B[38;5;124;03m    +-----+---+\u001B[39;00m\n",
       "\u001B[1;32m   3022\u001B[0m \u001B[38;5;124;03m    \"\"\"\u001B[39;00m\n",
       "\u001B[0;32m-> 3023\u001B[0m     jdf \u001B[38;5;241m=\u001B[39m \u001B[38;5;28;43mself\u001B[39;49m\u001B[38;5;241;43m.\u001B[39;49m\u001B[43m_jdf\u001B[49m\u001B[38;5;241;43m.\u001B[39;49m\u001B[43mselect\u001B[49m\u001B[43m(\u001B[49m\u001B[38;5;28;43mself\u001B[39;49m\u001B[38;5;241;43m.\u001B[39;49m\u001B[43m_jcols\u001B[49m\u001B[43m(\u001B[49m\u001B[38;5;241;43m*\u001B[39;49m\u001B[43mcols\u001B[49m\u001B[43m)\u001B[49m\u001B[43m)\u001B[49m\n",
       "\u001B[1;32m   3024\u001B[0m     \u001B[38;5;28;01mreturn\u001B[39;00m DataFrame(jdf, \u001B[38;5;28mself\u001B[39m\u001B[38;5;241m.\u001B[39msparkSession)\n",
       "\n",
       "File \u001B[0;32m/databricks/spark/python/lib/py4j-0.10.9.5-src.zip/py4j/java_gateway.py:1321\u001B[0m, in \u001B[0;36mJavaMember.__call__\u001B[0;34m(self, *args)\u001B[0m\n",
       "\u001B[1;32m   1315\u001B[0m command \u001B[38;5;241m=\u001B[39m proto\u001B[38;5;241m.\u001B[39mCALL_COMMAND_NAME \u001B[38;5;241m+\u001B[39m\\\n",
       "\u001B[1;32m   1316\u001B[0m     \u001B[38;5;28mself\u001B[39m\u001B[38;5;241m.\u001B[39mcommand_header \u001B[38;5;241m+\u001B[39m\\\n",
       "\u001B[1;32m   1317\u001B[0m     args_command \u001B[38;5;241m+\u001B[39m\\\n",
       "\u001B[1;32m   1318\u001B[0m     proto\u001B[38;5;241m.\u001B[39mEND_COMMAND_PART\n",
       "\u001B[1;32m   1320\u001B[0m answer \u001B[38;5;241m=\u001B[39m \u001B[38;5;28mself\u001B[39m\u001B[38;5;241m.\u001B[39mgateway_client\u001B[38;5;241m.\u001B[39msend_command(command)\n",
       "\u001B[0;32m-> 1321\u001B[0m return_value \u001B[38;5;241m=\u001B[39m \u001B[43mget_return_value\u001B[49m\u001B[43m(\u001B[49m\n",
       "\u001B[1;32m   1322\u001B[0m \u001B[43m    \u001B[49m\u001B[43manswer\u001B[49m\u001B[43m,\u001B[49m\u001B[43m \u001B[49m\u001B[38;5;28;43mself\u001B[39;49m\u001B[38;5;241;43m.\u001B[39;49m\u001B[43mgateway_client\u001B[49m\u001B[43m,\u001B[49m\u001B[43m \u001B[49m\u001B[38;5;28;43mself\u001B[39;49m\u001B[38;5;241;43m.\u001B[39;49m\u001B[43mtarget_id\u001B[49m\u001B[43m,\u001B[49m\u001B[43m \u001B[49m\u001B[38;5;28;43mself\u001B[39;49m\u001B[38;5;241;43m.\u001B[39;49m\u001B[43mname\u001B[49m\u001B[43m)\u001B[49m\n",
       "\u001B[1;32m   1324\u001B[0m \u001B[38;5;28;01mfor\u001B[39;00m temp_arg \u001B[38;5;129;01min\u001B[39;00m temp_args:\n",
       "\u001B[1;32m   1325\u001B[0m     temp_arg\u001B[38;5;241m.\u001B[39m_detach()\n",
       "\n",
       "File \u001B[0;32m/databricks/spark/python/pyspark/errors/exceptions.py:234\u001B[0m, in \u001B[0;36mcapture_sql_exception.<locals>.deco\u001B[0;34m(*a, **kw)\u001B[0m\n",
       "\u001B[1;32m    230\u001B[0m converted \u001B[38;5;241m=\u001B[39m convert_exception(e\u001B[38;5;241m.\u001B[39mjava_exception)\n",
       "\u001B[1;32m    231\u001B[0m \u001B[38;5;28;01mif\u001B[39;00m \u001B[38;5;129;01mnot\u001B[39;00m \u001B[38;5;28misinstance\u001B[39m(converted, UnknownException):\n",
       "\u001B[1;32m    232\u001B[0m     \u001B[38;5;66;03m# Hide where the exception came from that shows a non-Pythonic\u001B[39;00m\n",
       "\u001B[1;32m    233\u001B[0m     \u001B[38;5;66;03m# JVM exception message.\u001B[39;00m\n",
       "\u001B[0;32m--> 234\u001B[0m     \u001B[38;5;28;01mraise\u001B[39;00m converted \u001B[38;5;28;01mfrom\u001B[39;00m \u001B[38;5;28mNone\u001B[39m\n",
       "\u001B[1;32m    235\u001B[0m \u001B[38;5;28;01melse\u001B[39;00m:\n",
       "\u001B[1;32m    236\u001B[0m     \u001B[38;5;28;01mraise\u001B[39;00m\n",
       "\n",
       "\u001B[0;31mAnalysisException\u001B[0m: [UNSUPPORTED_GENERATOR.MULTI_GENERATOR] The generator is not supported: only one generator allowed per SELECT clause but found 2: \"explode(new_restaurants.restaurant.establishment_types)\", \"explode(new_restaurants.restaurant.establishment_types.element)\"."
      ]
     },
     "metadata": {
      "application/vnd.databricks.v1+output": {
       "arguments": {},
       "data": "\u001B[0;31m---------------------------------------------------------------------------\u001B[0m\n\u001B[0;31mAnalysisException\u001B[0m                         Traceback (most recent call last)\nFile \u001B[0;32m<command-1733041662803272>:1\u001B[0m\n\u001B[0;32m----> 1\u001B[0m \u001B[43mresturant_json\u001B[49m\u001B[38;5;241;43m.\u001B[39;49m\u001B[43mselect\u001B[49m\u001B[43m(\u001B[49m\u001B[38;5;124;43m\"\u001B[39;49m\u001B[38;5;124;43m*\u001B[39;49m\u001B[38;5;124;43m\"\u001B[39;49m\u001B[43m,\u001B[49m\u001B[43mexplode\u001B[49m\u001B[43m(\u001B[49m\u001B[38;5;124;43m\"\u001B[39;49m\u001B[38;5;124;43mrestaurants\u001B[39;49m\u001B[38;5;124;43m\"\u001B[39;49m\u001B[43m)\u001B[49m\u001B[38;5;241;43m.\u001B[39;49m\u001B[43malias\u001B[49m\u001B[43m(\u001B[49m\u001B[38;5;124;43m\"\u001B[39;49m\u001B[38;5;124;43mnew_restaurants\u001B[39;49m\u001B[38;5;124;43m\"\u001B[39;49m\u001B[43m)\u001B[49m\u001B[43m)\u001B[49m\u001B[38;5;241;43m.\u001B[39;49m\u001B[43mdrop\u001B[49m\u001B[43m(\u001B[49m\u001B[38;5;124;43m\"\u001B[39;49m\u001B[38;5;124;43mrestaurants\u001B[39;49m\u001B[38;5;124;43m\"\u001B[39;49m\u001B[43m)\u001B[49m\u001B[43m\\\u001B[49m\n\u001B[1;32m      2\u001B[0m \u001B[43m                \u001B[49m\u001B[38;5;241;43m.\u001B[39;49m\u001B[43mselect\u001B[49m\u001B[43m(\u001B[49m\u001B[38;5;124;43m\"\u001B[39;49m\u001B[38;5;124;43m*\u001B[39;49m\u001B[38;5;124;43m\"\u001B[39;49m\u001B[43m,\u001B[49m\u001B[38;5;124;43m\"\u001B[39;49m\u001B[38;5;124;43mnew_restaurants.restaurant.R.res_id\u001B[39;49m\u001B[38;5;124;43m\"\u001B[39;49m\u001B[43m,\u001B[49m\n\u001B[1;32m      3\u001B[0m \u001B[43m                       \u001B[49m\u001B[43mexplode\u001B[49m\u001B[43m(\u001B[49m\u001B[38;5;124;43m\"\u001B[39;49m\u001B[38;5;124;43mnew_restaurants.restaurant.establishment_types\u001B[39;49m\u001B[38;5;124;43m\"\u001B[39;49m\u001B[43m)\u001B[49m\u001B[38;5;241;43m.\u001B[39;49m\u001B[43malias\u001B[49m\u001B[43m(\u001B[49m\u001B[38;5;124;43m\"\u001B[39;49m\u001B[38;5;124;43mestablishment_types\u001B[39;49m\u001B[38;5;124;43m\"\u001B[39;49m\u001B[43m)\u001B[49m\u001B[43m,\u001B[49m\u001B[43mexplode\u001B[49m\u001B[43m(\u001B[49m\u001B[38;5;124;43m\"\u001B[39;49m\u001B[38;5;124;43mnew_restaurants.restaurant.establishment_types.element\u001B[39;49m\u001B[38;5;124;43m\"\u001B[39;49m\u001B[43m)\u001B[49m\u001B[38;5;241;43m.\u001B[39;49m\u001B[43malias\u001B[49m\u001B[43m(\u001B[49m\u001B[38;5;124;43m\"\u001B[39;49m\u001B[38;5;124;43melement\u001B[39;49m\u001B[38;5;124;43m\"\u001B[39;49m\u001B[43m)\u001B[49m\u001B[43m,\u001B[49m\u001B[38;5;124;43m\"\u001B[39;49m\u001B[38;5;124;43mnew_restaurants.restaurant.name\u001B[39;49m\u001B[38;5;124;43m\"\u001B[39;49m\u001B[43m,\u001B[49m\n\u001B[1;32m      4\u001B[0m \u001B[43m                       \u001B[49m\u001B[38;5;124;43m\"\u001B[39;49m\u001B[38;5;124;43mnew_restaurants.restaurant.location.address\u001B[39;49m\u001B[38;5;124;43m\"\u001B[39;49m\u001B[43m,\u001B[49m\n\u001B[1;32m      5\u001B[0m \u001B[43m                       \u001B[49m\u001B[38;5;124;43m\"\u001B[39;49m\u001B[38;5;124;43mnew_restaurants.restaurant.location.city\u001B[39;49m\u001B[38;5;124;43m\"\u001B[39;49m\u001B[43m,\u001B[49m\n\u001B[1;32m      6\u001B[0m \u001B[43m                       \u001B[49m\u001B[38;5;124;43m\"\u001B[39;49m\u001B[38;5;124;43mnew_restaurants.restaurant.price_range\u001B[39;49m\u001B[38;5;124;43m\"\u001B[39;49m\u001B[43m,\u001B[49m\n\u001B[1;32m      7\u001B[0m \u001B[43m                       \u001B[49m\u001B[38;5;124;43m\"\u001B[39;49m\u001B[38;5;124;43mnew_restaurants.restaurant.user_rating\u001B[39;49m\u001B[38;5;124;43m\"\u001B[39;49m\n\u001B[1;32m      8\u001B[0m \u001B[43m                       \u001B[49m\u001B[43m)\u001B[49m\u001B[38;5;241m.\u001B[39mprintSchema()\n\nFile \u001B[0;32m/databricks/spark/python/pyspark/instrumentation_utils.py:48\u001B[0m, in \u001B[0;36m_wrap_function.<locals>.wrapper\u001B[0;34m(*args, **kwargs)\u001B[0m\n\u001B[1;32m     46\u001B[0m start \u001B[38;5;241m=\u001B[39m time\u001B[38;5;241m.\u001B[39mperf_counter()\n\u001B[1;32m     47\u001B[0m \u001B[38;5;28;01mtry\u001B[39;00m:\n\u001B[0;32m---> 48\u001B[0m     res \u001B[38;5;241m=\u001B[39m \u001B[43mfunc\u001B[49m\u001B[43m(\u001B[49m\u001B[38;5;241;43m*\u001B[39;49m\u001B[43margs\u001B[49m\u001B[43m,\u001B[49m\u001B[43m \u001B[49m\u001B[38;5;241;43m*\u001B[39;49m\u001B[38;5;241;43m*\u001B[39;49m\u001B[43mkwargs\u001B[49m\u001B[43m)\u001B[49m\n\u001B[1;32m     49\u001B[0m     logger\u001B[38;5;241m.\u001B[39mlog_success(\n\u001B[1;32m     50\u001B[0m         module_name, class_name, function_name, time\u001B[38;5;241m.\u001B[39mperf_counter() \u001B[38;5;241m-\u001B[39m start, signature\n\u001B[1;32m     51\u001B[0m     )\n\u001B[1;32m     52\u001B[0m     \u001B[38;5;28;01mreturn\u001B[39;00m res\n\nFile \u001B[0;32m/databricks/spark/python/pyspark/sql/dataframe.py:3023\u001B[0m, in \u001B[0;36mDataFrame.select\u001B[0;34m(self, *cols)\u001B[0m\n\u001B[1;32m   2978\u001B[0m \u001B[38;5;28;01mdef\u001B[39;00m \u001B[38;5;21mselect\u001B[39m(\u001B[38;5;28mself\u001B[39m, \u001B[38;5;241m*\u001B[39mcols: \u001B[38;5;124m\"\u001B[39m\u001B[38;5;124mColumnOrName\u001B[39m\u001B[38;5;124m\"\u001B[39m) \u001B[38;5;241m-\u001B[39m\u001B[38;5;241m>\u001B[39m \u001B[38;5;124m\"\u001B[39m\u001B[38;5;124mDataFrame\u001B[39m\u001B[38;5;124m\"\u001B[39m:  \u001B[38;5;66;03m# type: ignore[misc]\u001B[39;00m\n\u001B[1;32m   2979\u001B[0m     \u001B[38;5;124;03m\"\"\"Projects a set of expressions and returns a new :class:`DataFrame`.\u001B[39;00m\n\u001B[1;32m   2980\u001B[0m \n\u001B[1;32m   2981\u001B[0m \u001B[38;5;124;03m    .. versionadded:: 1.3.0\u001B[39;00m\n\u001B[0;32m   (...)\u001B[0m\n\u001B[1;32m   3021\u001B[0m \u001B[38;5;124;03m    +-----+---+\u001B[39;00m\n\u001B[1;32m   3022\u001B[0m \u001B[38;5;124;03m    \"\"\"\u001B[39;00m\n\u001B[0;32m-> 3023\u001B[0m     jdf \u001B[38;5;241m=\u001B[39m \u001B[38;5;28;43mself\u001B[39;49m\u001B[38;5;241;43m.\u001B[39;49m\u001B[43m_jdf\u001B[49m\u001B[38;5;241;43m.\u001B[39;49m\u001B[43mselect\u001B[49m\u001B[43m(\u001B[49m\u001B[38;5;28;43mself\u001B[39;49m\u001B[38;5;241;43m.\u001B[39;49m\u001B[43m_jcols\u001B[49m\u001B[43m(\u001B[49m\u001B[38;5;241;43m*\u001B[39;49m\u001B[43mcols\u001B[49m\u001B[43m)\u001B[49m\u001B[43m)\u001B[49m\n\u001B[1;32m   3024\u001B[0m     \u001B[38;5;28;01mreturn\u001B[39;00m DataFrame(jdf, \u001B[38;5;28mself\u001B[39m\u001B[38;5;241m.\u001B[39msparkSession)\n\nFile \u001B[0;32m/databricks/spark/python/lib/py4j-0.10.9.5-src.zip/py4j/java_gateway.py:1321\u001B[0m, in \u001B[0;36mJavaMember.__call__\u001B[0;34m(self, *args)\u001B[0m\n\u001B[1;32m   1315\u001B[0m command \u001B[38;5;241m=\u001B[39m proto\u001B[38;5;241m.\u001B[39mCALL_COMMAND_NAME \u001B[38;5;241m+\u001B[39m\\\n\u001B[1;32m   1316\u001B[0m     \u001B[38;5;28mself\u001B[39m\u001B[38;5;241m.\u001B[39mcommand_header \u001B[38;5;241m+\u001B[39m\\\n\u001B[1;32m   1317\u001B[0m     args_command \u001B[38;5;241m+\u001B[39m\\\n\u001B[1;32m   1318\u001B[0m     proto\u001B[38;5;241m.\u001B[39mEND_COMMAND_PART\n\u001B[1;32m   1320\u001B[0m answer \u001B[38;5;241m=\u001B[39m \u001B[38;5;28mself\u001B[39m\u001B[38;5;241m.\u001B[39mgateway_client\u001B[38;5;241m.\u001B[39msend_command(command)\n\u001B[0;32m-> 1321\u001B[0m return_value \u001B[38;5;241m=\u001B[39m \u001B[43mget_return_value\u001B[49m\u001B[43m(\u001B[49m\n\u001B[1;32m   1322\u001B[0m \u001B[43m    \u001B[49m\u001B[43manswer\u001B[49m\u001B[43m,\u001B[49m\u001B[43m \u001B[49m\u001B[38;5;28;43mself\u001B[39;49m\u001B[38;5;241;43m.\u001B[39;49m\u001B[43mgateway_client\u001B[49m\u001B[43m,\u001B[49m\u001B[43m \u001B[49m\u001B[38;5;28;43mself\u001B[39;49m\u001B[38;5;241;43m.\u001B[39;49m\u001B[43mtarget_id\u001B[49m\u001B[43m,\u001B[49m\u001B[43m \u001B[49m\u001B[38;5;28;43mself\u001B[39;49m\u001B[38;5;241;43m.\u001B[39;49m\u001B[43mname\u001B[49m\u001B[43m)\u001B[49m\n\u001B[1;32m   1324\u001B[0m \u001B[38;5;28;01mfor\u001B[39;00m temp_arg \u001B[38;5;129;01min\u001B[39;00m temp_args:\n\u001B[1;32m   1325\u001B[0m     temp_arg\u001B[38;5;241m.\u001B[39m_detach()\n\nFile \u001B[0;32m/databricks/spark/python/pyspark/errors/exceptions.py:234\u001B[0m, in \u001B[0;36mcapture_sql_exception.<locals>.deco\u001B[0;34m(*a, **kw)\u001B[0m\n\u001B[1;32m    230\u001B[0m converted \u001B[38;5;241m=\u001B[39m convert_exception(e\u001B[38;5;241m.\u001B[39mjava_exception)\n\u001B[1;32m    231\u001B[0m \u001B[38;5;28;01mif\u001B[39;00m \u001B[38;5;129;01mnot\u001B[39;00m \u001B[38;5;28misinstance\u001B[39m(converted, UnknownException):\n\u001B[1;32m    232\u001B[0m     \u001B[38;5;66;03m# Hide where the exception came from that shows a non-Pythonic\u001B[39;00m\n\u001B[1;32m    233\u001B[0m     \u001B[38;5;66;03m# JVM exception message.\u001B[39;00m\n\u001B[0;32m--> 234\u001B[0m     \u001B[38;5;28;01mraise\u001B[39;00m converted \u001B[38;5;28;01mfrom\u001B[39;00m \u001B[38;5;28mNone\u001B[39m\n\u001B[1;32m    235\u001B[0m \u001B[38;5;28;01melse\u001B[39;00m:\n\u001B[1;32m    236\u001B[0m     \u001B[38;5;28;01mraise\u001B[39;00m\n\n\u001B[0;31mAnalysisException\u001B[0m: [UNSUPPORTED_GENERATOR.MULTI_GENERATOR] The generator is not supported: only one generator allowed per SELECT clause but found 2: \"explode(new_restaurants.restaurant.establishment_types)\", \"explode(new_restaurants.restaurant.establishment_types.element)\".",
       "errorSummary": "<span class='ansi-red-fg'>AnalysisException</span>: [UNSUPPORTED_GENERATOR.MULTI_GENERATOR] The generator is not supported: only one generator allowed per SELECT clause but found 2: \"explode(new_restaurants.restaurant.establishment_types)\", \"explode(new_restaurants.restaurant.establishment_types.element)\".",
       "errorTraceType": "ansi",
       "metadata": {},
       "type": "ipynbError"
      }
     },
     "output_type": "display_data"
    }
   ],
   "source": [
    "resturant_json.select(\"*\",explode(\"restaurants\").alias(\"new_restaurants\")).drop(\"restaurants\")\\\n",
    "                .select(\"*\",\"new_restaurants.restaurant.R.res_id\",\n",
    "                       explode(\"new_restaurants.restaurant.establishment_types\").alias(\"establishment_types\"),explode(\"new_restaurants.restaurant.establishment_types.element\").alias(\"element\"),\"new_restaurants.restaurant.name\",\n",
    "                       \"new_restaurants.restaurant.location.address\",\n",
    "                       \"new_restaurants.restaurant.location.city\",\n",
    "                       \"new_restaurants.restaurant.price_range\",\n",
    "                       \"new_restaurants.restaurant.user_rating\"\n",
    "                       ).printSchema()"
   ]
  },
  {
   "cell_type": "code",
   "execution_count": 0,
   "metadata": {
    "application/vnd.databricks.v1+cell": {
     "cellMetadata": {
      "byteLimit": 2048000,
      "rowLimit": 10000
     },
     "inputWidgets": {},
     "nuid": "03c4eeb5-443f-47c1-813e-f782f47a2851",
     "showTitle": false,
     "tableResultSettingsMap": {},
     "title": ""
    }
   },
   "outputs": [
    {
     "output_type": "stream",
     "name": "stdout",
     "output_type": "stream",
     "text": [
      "root\n |-- code: long (nullable = true)\n |-- message: string (nullable = true)\n |-- restaurants: array (nullable = true)\n |    |-- element: struct (containsNull = true)\n |    |    |-- restaurant: struct (nullable = true)\n |    |    |    |-- R: struct (nullable = true)\n |    |    |    |    |-- res_id: long (nullable = true)\n |    |    |    |-- apikey: string (nullable = true)\n |    |    |    |-- average_cost_for_two: long (nullable = true)\n |    |    |    |-- cuisines: string (nullable = true)\n |    |    |    |-- currency: string (nullable = true)\n |    |    |    |-- deeplink: string (nullable = true)\n |    |    |    |-- establishment_types: array (nullable = true)\n |    |    |    |    |-- element: string (containsNull = true)\n |    |    |    |-- events_url: string (nullable = true)\n |    |    |    |-- featured_image: string (nullable = true)\n |    |    |    |-- has_online_delivery: long (nullable = true)\n |    |    |    |-- has_table_booking: long (nullable = true)\n |    |    |    |-- id: string (nullable = true)\n |    |    |    |-- is_delivering_now: long (nullable = true)\n |    |    |    |-- location: struct (nullable = true)\n |    |    |    |    |-- address: string (nullable = true)\n |    |    |    |    |-- city: string (nullable = true)\n |    |    |    |    |-- city_id: long (nullable = true)\n |    |    |    |    |-- country_id: long (nullable = true)\n |    |    |    |    |-- latitude: string (nullable = true)\n |    |    |    |    |-- locality: string (nullable = true)\n |    |    |    |    |-- locality_verbose: string (nullable = true)\n |    |    |    |    |-- longitude: string (nullable = true)\n |    |    |    |    |-- zipcode: string (nullable = true)\n |    |    |    |-- menu_url: string (nullable = true)\n |    |    |    |-- name: string (nullable = true)\n |    |    |    |-- offers: array (nullable = true)\n |    |    |    |    |-- element: string (containsNull = true)\n |    |    |    |-- photos_url: string (nullable = true)\n |    |    |    |-- price_range: long (nullable = true)\n |    |    |    |-- switch_to_order_menu: long (nullable = true)\n |    |    |    |-- thumb: string (nullable = true)\n |    |    |    |-- url: string (nullable = true)\n |    |    |    |-- user_rating: struct (nullable = true)\n |    |    |    |    |-- aggregate_rating: string (nullable = true)\n |    |    |    |    |-- rating_color: string (nullable = true)\n |    |    |    |    |-- rating_text: string (nullable = true)\n |    |    |    |    |-- votes: string (nullable = true)\n |-- results_found: long (nullable = true)\n |-- results_shown: long (nullable = true)\n |-- results_start: string (nullable = true)\n |-- status: string (nullable = true)\n\n"
     ]
    }
   ],
   "source": [
    "resturant_json.printSchema()"
   ]
  },
  {
   "cell_type": "code",
   "execution_count": 0,
   "metadata": {
    "application/vnd.databricks.v1+cell": {
     "cellMetadata": {
      "byteLimit": 2048000,
      "rowLimit": 10000
     },
     "inputWidgets": {},
     "nuid": "2f4f9d21-e9e1-4c2f-9e67-809b297a7ebd",
     "showTitle": false,
     "tableResultSettingsMap": {},
     "title": ""
    }
   },
   "outputs": [
    {
     "output_type": "stream",
     "name": "stdout",
     "output_type": "stream",
     "text": [
      "+----+-------+-------------+-------------+-------------+------+-------------+------------------------------------+---------------------------------+----------------+----------------------------------------------------+-------+-------------+--------------+------+-----+---------------+-------------+-----------+----------------------------------------------------------------------------------------------+-----------------------------------------------------------------------------------------------------------------------------------------------------+\n|code|message|results_found|results_shown|results_start|status|restaurant_id|restaurant_name                     |cuisines                         |avg_cost_for_two|address                                             |city   |latitude     |longitude     |rating|votes|online_delivery|table_booking|price_range|thumbnail_url                                                                                 |restaurant_url                                                                                                                                       |\n+----+-------+-------------+-------------+-------------+------+-------------+------------------------------------+---------------------------------+----------------+----------------------------------------------------+-------+-------------+--------------+------+-----+---------------+-------------+-----------+----------------------------------------------------------------------------------------------+-----------------------------------------------------------------------------------------------------------------------------------------------------+\n|null|null   |6835         |20           |1            |null  |17066603     |The Coop                            |Southern, Cajun, Soul Food       |25              |610 W Morse Boulevard, Winter Park, FL 32789        |Orlando|28.5973660000|-81.3572190000|3.6   |432  |0              |0            |2          |https://b.zmtcdn.com/data/pictures/3/17066603/3002ed08cd3035bae040503e26b19f93_featured_v2.jpg|https://www.zomato.com/orlando/the-coop-winter-park?utm_source=api_basic_user&utm_medium=api&utm_campaign=v2.1                                       |\n|null|null   |6835         |20           |1            |null  |17059541     |Maggiano's Little Italy             |Italian                          |50              |9101 International Drive,Orlando, FL 32819          |Orlando|28.4332350000|-81.4714470000|4.4   |886  |0              |0            |4          |https://b.zmtcdn.com/data/pictures/1/17059541/50ead37fbc2663d80400c56da8502148_featured_v2.jpg|https://www.zomato.com/orlando/maggianos-little-italy-i-drive-universal?utm_source=api_basic_user&utm_medium=api&utm_campaign=v2.1                   |\n|null|null   |6835         |20           |1            |null  |17064405     |Tako Cheena by Pom Pom              |Asian, Latin American, Vegetarian|10              |932 North Mills Avenue, Orlando, FL 32803           |Orlando|28.5578450000|-81.3645470000|4.4   |570  |0              |0            |1          |https://b.zmtcdn.com/data/pictures/5/17064405/d9046cbf96ed14c27ccb43d67b2d9e14_featured_v2.jpg|https://www.zomato.com/orlando/tako-cheena-by-pom-pom-orlando?utm_source=api_basic_user&utm_medium=api&utm_campaign=v2.1                             |\n|null|null   |6835         |20           |1            |null  |17057797     |Bosphorous Turkish Cuisine          |Mediterranean, Turkish           |40              |108 S Park Ave, Winter Park, FL 32789               |Orlando|28.5976271000|-81.3508344000|4.2   |568  |0              |0            |3          |https://b.zmtcdn.com/data/pictures/7/17057797/6504549ba9a80220f1d891b4fc0f0e72_featured_v2.jpg|https://www.zomato.com/orlando/bosphorous-turkish-cuisine-winter-park?utm_source=api_basic_user&utm_medium=api&utm_campaign=v2.1                     |\n|null|null   |6835         |20           |1            |null  |17057591     |Bahama Breeze Island Grille         |Caribbean                        |45              |8849 International Drive, Orlando, FL 32819         |Orlando|28.4370650000|-81.4715260000|4.3   |910  |0              |0            |3          |https://b.zmtcdn.com/data/pictures/1/17057591/376e721c13fcd49348add84717eab67e_featured_v2.jpg|https://www.zomato.com/orlando/bahama-breeze-island-grille-1-orlando?utm_source=api_basic_user&utm_medium=api&utm_campaign=v2.1                      |\n|null|null   |6835         |20           |1            |null  |17064266     |Hawkers Asian Street Fare           |Asian, Thai                      |35              |1103 N Mills Avenue, Orlando, FL 32803              |Orlando|28.5605050000|-81.3643470000|4.6   |1293 |0              |0            |3          |https://b.zmtcdn.com/data/pictures/6/17064266/76b69fcbffb0870221b7f7232b03166f_featured_v2.jpg|https://www.zomato.com/orlando/hawkers-asian-street-fare-mills-50?utm_source=api_basic_user&utm_medium=api&utm_campaign=v2.1                         |\n|null|null   |6835         |20           |1            |null  |17060516     |Seasons 52 Fresh Grill              |American                         |60              |7700 West Sand Lake Road, Orlando, FL 32819         |Orlando|28.4481750000|-81.4879780000|4.4   |1685 |0              |0            |4          |https://b.zmtcdn.com/data/pictures/6/17060516/411c1bba0a117703e6e5f80f6752563c_featured_v2.jpg|https://www.zomato.com/orlando/seasons-52-fresh-grill-orlando?utm_source=api_basic_user&utm_medium=api&utm_campaign=v2.1                             |\n|null|null   |6835         |20           |1            |null  |17060320     |Raglan Road Irish Pub and Restaurant|Irish                            |50              |1640 E Buena Vista Drive, Lake Buena Vista, FL 32830|Orlando|28.3713380000|-81.5177250000|4.3   |782  |0              |0            |4          |https://b.zmtcdn.com/data/pictures/0/17060320/ebfbbadf30dca1531c050e947739d603_featured_v2.jpg|https://www.zomato.com/orlando/raglan-road-irish-pub-and-restaurant-disney-downtown-disney?utm_source=api_basic_user&utm_medium=api&utm_campaign=v2.1|\n|null|null   |6835         |20           |1            |null  |17059060     |Hillstone                           |                                 |40              |215 South Orlando Avenue, Winter Park, FL 32789     |Orlando|28.5966820000|-81.3652600000|4.4   |1158 |0              |0            |3          |https://b.zmtcdn.com/data/pictures/0/17059060/b0af51eb778682ea5c721f1b21c2a090_featured_v2.jpg|https://www.zomato.com/orlando/hillstone-winter-park?utm_source=api_basic_user&utm_medium=api&utm_campaign=v2.1                                      |\n|null|null   |6835         |20           |1            |null  |17059012     |Hollerbach's Willow Tree Café       |German                           |40              |205 East 1st Street, Sanford, FL 32771              |Orlando|28.8116530000|-81.2668710000|4.8   |1699 |0              |0            |3          |https://b.zmtcdn.com/data/pictures/2/17059012/0f6a19850329458778d121d6201a3eb1_featured_v2.jpg|https://www.zomato.com/orlando/hollerbachs-willow-tree-café-sanford?utm_source=api_basic_user&utm_medium=api&utm_campaign=v2.1                       |\n|null|null   |6835         |20           |1            |null  |17060869     |Texas de Brazil                     |Brazilian, Steak                 |100             |5259 International Drive, Orlando, FL 32819         |Orlando|28.4676808000|-81.4510725000|4.6   |2324 |0              |0            |4          |https://b.zmtcdn.com/data/pictures/9/17060869/b61f8fe7abc9fca9b5ea32accb3d12b5_featured_v2.jpg|https://www.zomato.com/orlando/texas-de-brazil-i-drive-universal?utm_source=api_basic_user&utm_medium=api&utm_campaign=v2.1                          |\n|null|null   |6835         |20           |1            |null  |17061231     |The Ravenous Pig                    |Pub Food                         |40              |565 W Fairbanks Avenue, Winter Park, FL 32789       |Orlando|28.5932970000|-81.3560240000|4.4   |1998 |0              |0            |3          |https://b.zmtcdn.com/data/pictures/1/17061231/05f9f181364ecc7dabaf60d38e357a2a_featured_v2.jpg|https://www.zomato.com/orlando/the-ravenous-pig-winter-park?utm_source=api_basic_user&utm_medium=api&utm_campaign=v2.1                               |\n|null|null   |6835         |20           |1            |null  |17058534     |Earl of Sandwich                    |American, Sandwich, Salad        |35              |1750 E Buena Vista Drive, Lake Buena Vista, FL 32830|Orlando|28.3728580000|-81.5146080000|4.7   |1341 |0              |0            |3          |https://b.zmtcdn.com/data/pictures/4/17058534/5f583655ea7d74aa7b66b288b2a6e492_featured_v2.jpg|https://www.zomato.com/orlando/earl-of-sandwich-disney-downtown-disney?utm_source=api_basic_user&utm_medium=api&utm_campaign=v2.1                    |\n|null|null   |6835         |20           |1            |null  |17057925     |Café Tu Tu Tango                    |New American, Tapas              |40              |8625 International Drive, Orlando, FL 32819         |Orlando|28.4403440000|-81.4699860000|4.6   |1293 |0              |0            |3          |https://b.zmtcdn.com/data/pictures/5/17057925/4ce421a5fd7c1d8b1126bdf5a85356a5_featured_v2.jpg|https://www.zomato.com/orlando/café-tu-tu-tango-orlando?utm_source=api_basic_user&utm_medium=api&utm_campaign=v2.1                                   |\n|null|null   |6835         |20           |1            |null  |17064031     |Tibby's New Orleans Kitchen         |Cajun                            |25              |2203 Aloma Avenue, Winter Park, FL 32792            |Orlando|28.6010880000|-81.3226310000|4.7   |1412 |0              |0            |2          |https://b.zmtcdn.com/data/pictures/1/17064031/92f280390a1e0f2edc00459e658f4c8e_featured_v2.jpg|https://www.zomato.com/orlando/tibbys-new-orleans-kitchen-winter-park?utm_source=api_basic_user&utm_medium=api&utm_campaign=v2.1                     |\n|null|null   |6835         |20           |1            |null  |17061237     |Cevíche Tapas Bar & Restaurant      |Spanish, Tapas                   |40              |125 West Church Street, Orlando, FL 32801           |Orlando|28.5404320000|-81.3810770000|4.4   |981  |0              |0            |3          |                                                                                              |https://www.zomato.com/orlando/cevíche-tapas-bar-restaurant-orlando?utm_source=api_basic_user&utm_medium=api&utm_campaign=v2.1                       |\n|null|null   |6835         |20           |1            |null  |17061253     |Ethos Vegan Kitchen                 |American, Breakfast, Vegetarian  |25              |601-B South New York Avenue, Winter Park, FL 32789  |Orlando|28.5928570000|-81.3529210000|4.4   |797  |0              |0            |2          |https://b.zmtcdn.com/data/pictures/3/17061253/037dcf8accff6de2307d72a82444b465_featured_v2.jpg|https://www.zomato.com/orlando/ethos-vegan-kitchen-winter-park?utm_source=api_basic_user&utm_medium=api&utm_campaign=v2.1                            |\n|null|null   |6835         |20           |1            |null  |17061296     |Pom Pom's Teahouse and Sandwicheria |American, Sandwich, Tea          |25              |67 North Bumby Avenue, Orlando, FL 32803            |Orlando|28.5435710000|-81.3514670000|4.9   |1457 |0              |0            |2          |https://b.zmtcdn.com/data/pictures/6/17061296/062fe0459e4e93bfed0e531995a69e67_featured_v2.jpg|https://www.zomato.com/orlando/pom-poms-teahouse-and-sandwicheria-orlando?utm_source=api_basic_user&utm_medium=api&utm_campaign=v2.1                 |\n|null|null   |6835         |20           |1            |null  |17061205     |Yellow Dog Eats                     |American, BBQ, Sandwich          |35              |1236 Hempel Avenue,Gotha, FL 34786                  |Orlando|28.5275920000|-81.5229870000|4.9   |1252 |0              |0            |3          |https://b.zmtcdn.com/data/pictures/5/17061205/c35c5b58d15d0956839a2220c6b59eee_featured_v2.jpg|https://www.zomato.com/orlando/yellow-dog-eats-windermere?utm_source=api_basic_user&utm_medium=api&utm_campaign=v2.1                                 |\n|null|null   |6835         |20           |1            |null  |17057397     |'Ohana                              |Hawaiian                         |45              |1600 Seven Seas Drive, Lake Buena Vista, FL 32830   |Orlando|28.4054370000|-81.5852260000|4.5   |1151 |0              |0            |3          |https://b.zmtcdn.com/data/pictures/7/17057397/1e5994e28b4dc97ee1e024c0b45d7245_featured_v2.jpg|https://www.zomato.com/orlando/ohana-disney-world-area?utm_source=api_basic_user&utm_medium=api&utm_campaign=v2.1                                    |\n+----+-------+-------------+-------------+-------------+------+-------------+------------------------------------+---------------------------------+----------------+----------------------------------------------------+-------+-------------+--------------+------+-----+---------------+-------------+-----------+----------------------------------------------------------------------------------------------+-----------------------------------------------------------------------------------------------------------------------------------------------------+\nonly showing top 20 rows\n\n"
     ]
    }
   ],
   "source": [
    "from pyspark.sql import SparkSession\n",
    "from pyspark.sql.functions import col, explode\n",
    "\n",
    "# Create Spark session\n",
    "spark = SparkSession.builder.appName(\"Flatten Nested JSON\").getOrCreate()\n",
    "\n",
    "# Sample DataFrame creation (replace with actual DataFrame loading)\n",
    "# Assume `data` is your input JSON data loaded as a DataFrame\n",
    "# Example: data = spark.read.json(\"your_file_path.json\")\n",
    "\n",
    "# Flattening the structure\n",
    "restaurants_df = resturant_json.select(\n",
    "    col(\"code\"),\n",
    "    col(\"message\"),\n",
    "    col(\"results_found\"),\n",
    "    col(\"results_shown\"),\n",
    "    col(\"results_start\"),\n",
    "    col(\"status\"),\n",
    "    explode(\"restaurants\").alias(\"restaurant_info\")\n",
    ").select(\n",
    "    col(\"code\"),\n",
    "    col(\"message\"),\n",
    "    col(\"results_found\"),\n",
    "    col(\"results_shown\"),\n",
    "    col(\"results_start\"),\n",
    "    col(\"status\"),\n",
    "    col(\"restaurant_info.restaurant.R.res_id\").alias(\"restaurant_id\"),\n",
    "    col(\"restaurant_info.restaurant.name\").alias(\"restaurant_name\"),\n",
    "    col(\"restaurant_info.restaurant.cuisines\").alias(\"cuisines\"),\n",
    "    col(\"restaurant_info.restaurant.average_cost_for_two\").alias(\"avg_cost_for_two\"),\n",
    "    col(\"restaurant_info.restaurant.location.address\").alias(\"address\"),\n",
    "    col(\"restaurant_info.restaurant.location.city\").alias(\"city\"),\n",
    "    col(\"restaurant_info.restaurant.location.latitude\").alias(\"latitude\"),\n",
    "    col(\"restaurant_info.restaurant.location.longitude\").alias(\"longitude\"),\n",
    "    col(\"restaurant_info.restaurant.user_rating.aggregate_rating\").alias(\"rating\"),\n",
    "    col(\"restaurant_info.restaurant.user_rating.votes\").alias(\"votes\"),\n",
    "    col(\"restaurant_info.restaurant.has_online_delivery\").alias(\"online_delivery\"),\n",
    "    col(\"restaurant_info.restaurant.has_table_booking\").alias(\"table_booking\"),\n",
    "    col(\"restaurant_info.restaurant.price_range\").alias(\"price_range\"),\n",
    "    col(\"restaurant_info.restaurant.thumb\").alias(\"thumbnail_url\"),\n",
    "    col(\"restaurant_info.restaurant.url\").alias(\"restaurant_url\")\n",
    ")\n",
    "\n",
    "# Show flattened DataFrame\n",
    "restaurants_df.show(truncate=False)"
   ]
  },
  {
   "cell_type": "code",
   "execution_count": 0,
   "metadata": {
    "application/vnd.databricks.v1+cell": {
     "cellMetadata": {
      "byteLimit": 2048000,
      "rowLimit": 10000
     },
     "inputWidgets": {},
     "nuid": "eb0d3bc1-d144-46f7-b93d-ed52d7ffad65",
     "showTitle": false,
     "tableResultSettingsMap": {},
     "title": ""
    }
   },
   "outputs": [
    {
     "output_type": "stream",
     "name": "stdout",
     "output_type": "stream",
     "text": [
      "+-------------+------------------------------------+-------------------+----------------+----------------------------------------------------+-------+------+-----+---------------+-------------+-----------+\n|restaurant_id|restaurant_name                     |establishment_types|avg_cost_for_two|address                                             |city   |rating|votes|online_delivery|table_booking|price_range|\n+-------------+------------------------------------+-------------------+----------------+----------------------------------------------------+-------+------+-----+---------------+-------------+-----------+\n|null         |null                                |null               |null            |null                                                |null   |null  |null |null           |null         |null       |\n|17066603     |The Coop                            |null               |25              |610 W Morse Boulevard, Winter Park, FL 32789        |Orlando|3.6   |432  |0              |0            |2          |\n|17059541     |Maggiano's Little Italy             |null               |50              |9101 International Drive,Orlando, FL 32819          |Orlando|4.4   |886  |0              |0            |4          |\n|17064405     |Tako Cheena by Pom Pom              |null               |10              |932 North Mills Avenue, Orlando, FL 32803           |Orlando|4.4   |570  |0              |0            |1          |\n|17057797     |Bosphorous Turkish Cuisine          |null               |40              |108 S Park Ave, Winter Park, FL 32789               |Orlando|4.2   |568  |0              |0            |3          |\n|17057591     |Bahama Breeze Island Grille         |null               |45              |8849 International Drive, Orlando, FL 32819         |Orlando|4.3   |910  |0              |0            |3          |\n|17064266     |Hawkers Asian Street Fare           |null               |35              |1103 N Mills Avenue, Orlando, FL 32803              |Orlando|4.6   |1293 |0              |0            |3          |\n|17060516     |Seasons 52 Fresh Grill              |null               |60              |7700 West Sand Lake Road, Orlando, FL 32819         |Orlando|4.4   |1685 |0              |0            |4          |\n|17060320     |Raglan Road Irish Pub and Restaurant|null               |50              |1640 E Buena Vista Drive, Lake Buena Vista, FL 32830|Orlando|4.3   |782  |0              |0            |4          |\n|17059060     |Hillstone                           |null               |40              |215 South Orlando Avenue, Winter Park, FL 32789     |Orlando|4.4   |1158 |0              |0            |3          |\n|17059012     |Hollerbach's Willow Tree Café       |null               |40              |205 East 1st Street, Sanford, FL 32771              |Orlando|4.8   |1699 |0              |0            |3          |\n|17060869     |Texas de Brazil                     |null               |100             |5259 International Drive, Orlando, FL 32819         |Orlando|4.6   |2324 |0              |0            |4          |\n|17061231     |The Ravenous Pig                    |null               |40              |565 W Fairbanks Avenue, Winter Park, FL 32789       |Orlando|4.4   |1998 |0              |0            |3          |\n|17058534     |Earl of Sandwich                    |null               |35              |1750 E Buena Vista Drive, Lake Buena Vista, FL 32830|Orlando|4.7   |1341 |0              |0            |3          |\n|17057925     |Café Tu Tu Tango                    |null               |40              |8625 International Drive, Orlando, FL 32819         |Orlando|4.6   |1293 |0              |0            |3          |\n|17064031     |Tibby's New Orleans Kitchen         |null               |25              |2203 Aloma Avenue, Winter Park, FL 32792            |Orlando|4.7   |1412 |0              |0            |2          |\n|17061237     |Cevíche Tapas Bar & Restaurant      |null               |40              |125 West Church Street, Orlando, FL 32801           |Orlando|4.4   |981  |0              |0            |3          |\n|17061253     |Ethos Vegan Kitchen                 |null               |25              |601-B South New York Avenue, Winter Park, FL 32789  |Orlando|4.4   |797  |0              |0            |2          |\n|17061296     |Pom Pom's Teahouse and Sandwicheria |null               |25              |67 North Bumby Avenue, Orlando, FL 32803            |Orlando|4.9   |1457 |0              |0            |2          |\n|17061205     |Yellow Dog Eats                     |null               |35              |1236 Hempel Avenue,Gotha, FL 34786                  |Orlando|4.9   |1252 |0              |0            |3          |\n+-------------+------------------------------------+-------------------+----------------+----------------------------------------------------+-------+------+-----+---------------+-------------+-----------+\nonly showing top 20 rows\n\n"
     ]
    }
   ],
   "source": [
    "from pyspark.sql import SparkSession\n",
    "from pyspark.sql.functions import col, explode\n",
    "\n",
    "# Create Spark session\n",
    "spark = SparkSession.builder.appName(\"Flatten Nested JSON\").getOrCreate()\n",
    "\n",
    "\n",
    "\n",
    "# Flattening the structure\n",
    "restaurants_df = resturant_json.select(\n",
    "    col(\"code\"),\n",
    "    col(\"message\"),\n",
    "    col(\"results_found\"),\n",
    "    col(\"results_shown\"),\n",
    "    col(\"results_start\"),\n",
    "    col(\"status\"),\n",
    "    explode_outer(\"restaurants\").alias(\"restaurant_info\")\n",
    ").select(\n",
    "    col(\"restaurant_info.restaurant.R.res_id\").alias(\"restaurant_id\"),\n",
    "    col(\"restaurant_info.restaurant.name\").alias(\"restaurant_name\"),\n",
    "    explode_outer(col(\"restaurant_info.restaurant.establishment_types\")).alias(\"establishment_types\"),\n",
    "    col(\"restaurant_info.restaurant.average_cost_for_two\").alias(\"avg_cost_for_two\"),\n",
    "    col(\"restaurant_info.restaurant.location.address\").alias(\"address\"),\n",
    "    col(\"restaurant_info.restaurant.location.city\").alias(\"city\"),\n",
    "    \n",
    "    col(\"restaurant_info.restaurant.user_rating.aggregate_rating\").alias(\"rating\"),\n",
    "    col(\"restaurant_info.restaurant.user_rating.votes\").alias(\"votes\"),\n",
    "    col(\"restaurant_info.restaurant.has_online_delivery\").alias(\"online_delivery\"),\n",
    "    col(\"restaurant_info.restaurant.has_table_booking\").alias(\"table_booking\"),\n",
    "    col(\"restaurant_info.restaurant.price_range\").alias(\"price_range\"),\n",
    "\n",
    ")\n",
    "\n",
    "# Show flattened DataFrame\n",
    "restaurants_df.show(truncate=False)\n"
   ]
  },
  {
   "cell_type": "code",
   "execution_count": 0,
   "metadata": {
    "application/vnd.databricks.v1+cell": {
     "cellMetadata": {
      "byteLimit": 2048000,
      "rowLimit": 10000
     },
     "inputWidgets": {},
     "nuid": "ab4735c0-9b08-4233-b3cc-dcc77a04b694",
     "showTitle": false,
     "tableResultSettingsMap": {},
     "title": ""
    }
   },
   "outputs": [
    {
     "output_type": "stream",
     "name": "stdout",
     "output_type": "stream",
     "text": [
      "root\n |-- restaurant_id: long (nullable = true)\n |-- restaurant_name: string (nullable = true)\n |-- establishment_types: string (nullable = true)\n |-- avg_cost_for_two: long (nullable = true)\n |-- address: string (nullable = true)\n |-- city: string (nullable = true)\n |-- rating: string (nullable = true)\n |-- votes: string (nullable = true)\n |-- online_delivery: long (nullable = true)\n |-- table_booking: long (nullable = true)\n |-- price_range: long (nullable = true)\n\n"
     ]
    }
   ],
   "source": [
    "restaurants_df.printSchema()"
   ]
  },
  {
   "cell_type": "code",
   "execution_count": 0,
   "metadata": {
    "application/vnd.databricks.v1+cell": {
     "cellMetadata": {
      "byteLimit": 2048000,
      "rowLimit": 10000
     },
     "inputWidgets": {},
     "nuid": "e2c20382-b210-457e-97dc-bad0546f2bec",
     "showTitle": false,
     "tableResultSettingsMap": {},
     "title": ""
    }
   },
   "outputs": [
    {
     "output_type": "stream",
     "name": "stdout",
     "output_type": "stream",
     "text": [
      "+-------------+------------------------------------+--------------------------+\n|restaurant_id|restaurant_name                     |establishment_type_element|\n+-------------+------------------------------------+--------------------------+\n|null         |null                                |null                      |\n|17066603     |The Coop                            |null                      |\n|17059541     |Maggiano's Little Italy             |null                      |\n|17064405     |Tako Cheena by Pom Pom              |null                      |\n|17057797     |Bosphorous Turkish Cuisine          |null                      |\n|17057591     |Bahama Breeze Island Grille         |null                      |\n|17064266     |Hawkers Asian Street Fare           |null                      |\n|17060516     |Seasons 52 Fresh Grill              |null                      |\n|17060320     |Raglan Road Irish Pub and Restaurant|null                      |\n|17059060     |Hillstone                           |null                      |\n|17059012     |Hollerbach's Willow Tree Café       |null                      |\n|17060869     |Texas de Brazil                     |null                      |\n|17061231     |The Ravenous Pig                    |null                      |\n|17058534     |Earl of Sandwich                    |null                      |\n|17057925     |Café Tu Tu Tango                    |null                      |\n|17064031     |Tibby's New Orleans Kitchen         |null                      |\n|17061237     |Cevíche Tapas Bar & Restaurant      |null                      |\n|17061253     |Ethos Vegan Kitchen                 |null                      |\n|17061296     |Pom Pom's Teahouse and Sandwicheria |null                      |\n|17061205     |Yellow Dog Eats                     |null                      |\n+-------------+------------------------------------+--------------------------+\nonly showing top 20 rows\n\n"
     ]
    }
   ],
   "source": [
    "from pyspark.sql import SparkSession\n",
    "from pyspark.sql.functions import col, explode_outer\n",
    "\n",
    "# Create Spark session\n",
    "spark = SparkSession.builder.appName(\"Flatten Nested JSON\").getOrCreate()\n",
    "\n",
    "# Assume `resturant_json` is the DataFrame holding your JSON data\n",
    "# Flattening the structure\n",
    "restaurants_df = resturant_json.select(\n",
    "    col(\"code\"),\n",
    "    col(\"message\"),\n",
    "    col(\"results_found\"),\n",
    "    col(\"results_shown\"),\n",
    "    col(\"results_start\"),\n",
    "    col(\"status\"),\n",
    "    explode_outer(\"restaurants\").alias(\"restaurant_info\")\n",
    ").select(\n",
    "    col(\"restaurant_info.restaurant.R.res_id\").alias(\"restaurant_id\"),\n",
    "    col(\"restaurant_info.restaurant.name\").alias(\"restaurant_name\"),\n",
    "    explode_outer(col(\"restaurant_info.restaurant.establishment_types\")).alias(\"establishment_type_element\")\n",
    ")\n",
    "\n",
    "# Show flattened DataFrame\n",
    "restaurants_df.show(truncate=False)\n"
   ]
  },
  {
   "cell_type": "code",
   "execution_count": 0,
   "metadata": {
    "application/vnd.databricks.v1+cell": {
     "cellMetadata": {
      "byteLimit": 2048000,
      "rowLimit": 10000
     },
     "inputWidgets": {},
     "nuid": "a1d4b16c-21f8-4e8f-b3e6-af2f680b9341",
     "showTitle": false,
     "tableResultSettingsMap": {},
     "title": ""
    }
   },
   "outputs": [
    {
     "output_type": "stream",
     "name": "stdout",
     "output_type": "stream",
     "text": [
      "root\n |-- restaurant_id: long (nullable = true)\n |-- restaurant_name: string (nullable = true)\n |-- establishment_type_element: string (nullable = true)\n\n"
     ]
    }
   ],
   "source": [
    "restaurants_df.printSchema()"
   ]
  },
  {
   "cell_type": "markdown",
   "metadata": {
    "application/vnd.databricks.v1+cell": {
     "cellMetadata": {},
     "inputWidgets": {},
     "nuid": "d300f46e-d3e1-4fab-90e0-9448f7469e75",
     "showTitle": false,
     "tableResultSettingsMap": {},
     "title": ""
    }
   },
   "source": [
    "#***scala code*** "
   ]
  },
  {
   "cell_type": "code",
   "execution_count": 0,
   "metadata": {
    "application/vnd.databricks.v1+cell": {
     "cellMetadata": {
      "byteLimit": 2048000,
      "rowLimit": 10000
     },
     "inputWidgets": {},
     "nuid": "16438506-92a5-4a50-873e-42fef739c784",
     "showTitle": false,
     "tableResultSettingsMap": {},
     "title": ""
    }
   },
   "outputs": [
    {
     "output_type": "display_data",
     "data": {
      "text/html": [
       "<style scoped>\n",
       "  .ansiout {\n",
       "    display: block;\n",
       "    unicode-bidi: embed;\n",
       "    white-space: pre-wrap;\n",
       "    word-wrap: break-word;\n",
       "    word-break: break-all;\n",
       "    font-family: \"Menlo\", \"Monaco\", \"Consolas\", \"Ubuntu Mono\", \"Source Code Pro\", monospace;\n",
       "    font-size: 13px;\n",
       "    color: #555;\n",
       "    margin-left: 4px;\n",
       "    line-height: 19px;\n",
       "  }\n",
       "</style>\n",
       "<div class=\"ansiout\">+-------------+------------------------------------+--------------------------+\n",
       "restaurant_id|restaurant_name                     |establishment_type_element|\n",
       "+-------------+------------------------------------+--------------------------+\n",
       "null         |null                                |null                      |\n",
       "17066603     |The Coop                            |null                      |\n",
       "17059541     |Maggiano's Little Italy             |null                      |\n",
       "17064405     |Tako Cheena by Pom Pom              |null                      |\n",
       "17057797     |Bosphorous Turkish Cuisine          |null                      |\n",
       "17057591     |Bahama Breeze Island Grille         |null                      |\n",
       "17064266     |Hawkers Asian Street Fare           |null                      |\n",
       "17060516     |Seasons 52 Fresh Grill              |null                      |\n",
       "17060320     |Raglan Road Irish Pub and Restaurant|null                      |\n",
       "17059060     |Hillstone                           |null                      |\n",
       "17059012     |Hollerbach's Willow Tree Café       |null                      |\n",
       "17060869     |Texas de Brazil                     |null                      |\n",
       "17061231     |The Ravenous Pig                    |null                      |\n",
       "17058534     |Earl of Sandwich                    |null                      |\n",
       "17057925     |Café Tu Tu Tango                    |null                      |\n",
       "17064031     |Tibby's New Orleans Kitchen         |null                      |\n",
       "17061237     |Cevíche Tapas Bar &amp; Restaurant      |null                      |\n",
       "17061253     |Ethos Vegan Kitchen                 |null                      |\n",
       "17061296     |Pom Pom's Teahouse and Sandwicheria |null                      |\n",
       "17061205     |Yellow Dog Eats                     |null                      |\n",
       "+-------------+------------------------------------+--------------------------+\n",
       "only showing top 20 rows\n",
       "\n",
       "import org.apache.spark.sql.functions._\n",
       "import org.apache.spark.sql.SparkSession\n",
       "spark: org.apache.spark.sql.SparkSession = org.apache.spark.sql.SparkSession@356ac831\n",
       "restaurantJson: org.apache.spark.sql.DataFrame = [code: bigint, message: string ... 5 more fields]\n",
       "restaurantsDf: org.apache.spark.sql.DataFrame = [restaurant_id: bigint, restaurant_name: string ... 1 more field]\n",
       "</div>"
      ]
     },
     "metadata": {
      "application/vnd.databricks.v1+output": {
       "addedWidgets": {},
       "arguments": {},
       "data": "<div class=\"ansiout\">+-------------+------------------------------------+--------------------------+\n|restaurant_id|restaurant_name                     |establishment_type_element|\n+-------------+------------------------------------+--------------------------+\n|null         |null                                |null                      |\n|17066603     |The Coop                            |null                      |\n|17059541     |Maggiano's Little Italy             |null                      |\n|17064405     |Tako Cheena by Pom Pom              |null                      |\n|17057797     |Bosphorous Turkish Cuisine          |null                      |\n|17057591     |Bahama Breeze Island Grille         |null                      |\n|17064266     |Hawkers Asian Street Fare           |null                      |\n|17060516     |Seasons 52 Fresh Grill              |null                      |\n|17060320     |Raglan Road Irish Pub and Restaurant|null                      |\n|17059060     |Hillstone                           |null                      |\n|17059012     |Hollerbach's Willow Tree Café       |null                      |\n|17060869     |Texas de Brazil                     |null                      |\n|17061231     |The Ravenous Pig                    |null                      |\n|17058534     |Earl of Sandwich                    |null                      |\n|17057925     |Café Tu Tu Tango                    |null                      |\n|17064031     |Tibby's New Orleans Kitchen         |null                      |\n|17061237     |Cevíche Tapas Bar &amp; Restaurant      |null                      |\n|17061253     |Ethos Vegan Kitchen                 |null                      |\n|17061296     |Pom Pom's Teahouse and Sandwicheria |null                      |\n|17061205     |Yellow Dog Eats                     |null                      |\n+-------------+------------------------------------+--------------------------+\nonly showing top 20 rows\n\nimport org.apache.spark.sql.functions._\nimport org.apache.spark.sql.SparkSession\nspark: org.apache.spark.sql.SparkSession = org.apache.spark.sql.SparkSession@356ac831\nrestaurantJson: org.apache.spark.sql.DataFrame = [code: bigint, message: string ... 5 more fields]\nrestaurantsDf: org.apache.spark.sql.DataFrame = [restaurant_id: bigint, restaurant_name: string ... 1 more field]\n</div>",
       "datasetInfos": [
        {
         "name": "restaurantJson",
         "schema": {
          "fields": [
           {
            "metadata": {},
            "name": "code",
            "nullable": true,
            "type": "long"
           },
           {
            "metadata": {},
            "name": "message",
            "nullable": true,
            "type": "string"
           },
           {
            "metadata": {},
            "name": "restaurants",
            "nullable": true,
            "type": {
             "containsNull": true,
             "elementType": {
              "fields": [
               {
                "metadata": {},
                "name": "restaurant",
                "nullable": true,
                "type": {
                 "fields": [
                  {
                   "metadata": {},
                   "name": "R",
                   "nullable": true,
                   "type": {
                    "fields": [
                     {
                      "metadata": {},
                      "name": "res_id",
                      "nullable": true,
                      "type": "long"
                     }
                    ],
                    "type": "struct"
                   }
                  },
                  {
                   "metadata": {},
                   "name": "apikey",
                   "nullable": true,
                   "type": "string"
                  },
                  {
                   "metadata": {},
                   "name": "average_cost_for_two",
                   "nullable": true,
                   "type": "long"
                  },
                  {
                   "metadata": {},
                   "name": "cuisines",
                   "nullable": true,
                   "type": "string"
                  },
                  {
                   "metadata": {},
                   "name": "currency",
                   "nullable": true,
                   "type": "string"
                  },
                  {
                   "metadata": {},
                   "name": "deeplink",
                   "nullable": true,
                   "type": "string"
                  },
                  {
                   "metadata": {},
                   "name": "establishment_types",
                   "nullable": true,
                   "type": {
                    "containsNull": true,
                    "elementType": "string",
                    "type": "array"
                   }
                  },
                  {
                   "metadata": {},
                   "name": "events_url",
                   "nullable": true,
                   "type": "string"
                  },
                  {
                   "metadata": {},
                   "name": "featured_image",
                   "nullable": true,
                   "type": "string"
                  },
                  {
                   "metadata": {},
                   "name": "has_online_delivery",
                   "nullable": true,
                   "type": "long"
                  },
                  {
                   "metadata": {},
                   "name": "has_table_booking",
                   "nullable": true,
                   "type": "long"
                  },
                  {
                   "metadata": {},
                   "name": "id",
                   "nullable": true,
                   "type": "string"
                  },
                  {
                   "metadata": {},
                   "name": "is_delivering_now",
                   "nullable": true,
                   "type": "long"
                  },
                  {
                   "metadata": {},
                   "name": "location",
                   "nullable": true,
                   "type": {
                    "fields": [
                     {
                      "metadata": {},
                      "name": "address",
                      "nullable": true,
                      "type": "string"
                     },
                     {
                      "metadata": {},
                      "name": "city",
                      "nullable": true,
                      "type": "string"
                     },
                     {
                      "metadata": {},
                      "name": "city_id",
                      "nullable": true,
                      "type": "long"
                     },
                     {
                      "metadata": {},
                      "name": "country_id",
                      "nullable": true,
                      "type": "long"
                     },
                     {
                      "metadata": {},
                      "name": "latitude",
                      "nullable": true,
                      "type": "string"
                     },
                     {
                      "metadata": {},
                      "name": "locality",
                      "nullable": true,
                      "type": "string"
                     },
                     {
                      "metadata": {},
                      "name": "locality_verbose",
                      "nullable": true,
                      "type": "string"
                     },
                     {
                      "metadata": {},
                      "name": "longitude",
                      "nullable": true,
                      "type": "string"
                     },
                     {
                      "metadata": {},
                      "name": "zipcode",
                      "nullable": true,
                      "type": "string"
                     }
                    ],
                    "type": "struct"
                   }
                  },
                  {
                   "metadata": {},
                   "name": "menu_url",
                   "nullable": true,
                   "type": "string"
                  },
                  {
                   "metadata": {},
                   "name": "name",
                   "nullable": true,
                   "type": "string"
                  },
                  {
                   "metadata": {},
                   "name": "offers",
                   "nullable": true,
                   "type": {
                    "containsNull": true,
                    "elementType": "string",
                    "type": "array"
                   }
                  },
                  {
                   "metadata": {},
                   "name": "photos_url",
                   "nullable": true,
                   "type": "string"
                  },
                  {
                   "metadata": {},
                   "name": "price_range",
                   "nullable": true,
                   "type": "long"
                  },
                  {
                   "metadata": {},
                   "name": "switch_to_order_menu",
                   "nullable": true,
                   "type": "long"
                  },
                  {
                   "metadata": {},
                   "name": "thumb",
                   "nullable": true,
                   "type": "string"
                  },
                  {
                   "metadata": {},
                   "name": "url",
                   "nullable": true,
                   "type": "string"
                  },
                  {
                   "metadata": {},
                   "name": "user_rating",
                   "nullable": true,
                   "type": {
                    "fields": [
                     {
                      "metadata": {},
                      "name": "aggregate_rating",
                      "nullable": true,
                      "type": "string"
                     },
                     {
                      "metadata": {},
                      "name": "rating_color",
                      "nullable": true,
                      "type": "string"
                     },
                     {
                      "metadata": {},
                      "name": "rating_text",
                      "nullable": true,
                      "type": "string"
                     },
                     {
                      "metadata": {},
                      "name": "votes",
                      "nullable": true,
                      "type": "string"
                     }
                    ],
                    "type": "struct"
                   }
                  }
                 ],
                 "type": "struct"
                }
               }
              ],
              "type": "struct"
             },
             "type": "array"
            }
           },
           {
            "metadata": {},
            "name": "results_found",
            "nullable": true,
            "type": "long"
           },
           {
            "metadata": {},
            "name": "results_shown",
            "nullable": true,
            "type": "long"
           },
           {
            "metadata": {},
            "name": "results_start",
            "nullable": true,
            "type": "string"
           },
           {
            "metadata": {},
            "name": "status",
            "nullable": true,
            "type": "string"
           }
          ],
          "type": "struct"
         },
         "tableIdentifier": null,
         "typeStr": "org.apache.spark.sql.DataFrame"
        },
        {
         "name": "restaurantsDf",
         "schema": {
          "fields": [
           {
            "metadata": {},
            "name": "restaurant_id",
            "nullable": true,
            "type": "long"
           },
           {
            "metadata": {},
            "name": "restaurant_name",
            "nullable": true,
            "type": "string"
           },
           {
            "metadata": {},
            "name": "establishment_type_element",
            "nullable": true,
            "type": "string"
           }
          ],
          "type": "struct"
         },
         "tableIdentifier": null,
         "typeStr": "org.apache.spark.sql.DataFrame"
        }
       ],
       "metadata": {
        "isDbfsCommandResult": false
       },
       "removedWidgets": [],
       "type": "html"
      }
     },
     "output_type": "display_data"
    }
   ],
   "source": [
    "%scala\n",
    "import org.apache.spark.sql.functions._\n",
    "import org.apache.spark.sql.SparkSession\n",
    "\n",
    "// Initialize Spark session\n",
    "val spark = SparkSession.builder()\n",
    "    .appName(\"Restaurant JSON Reader\")\n",
    "    .getOrCreate()\n",
    "\n",
    "// Read JSON data\n",
    "val restaurantJson = spark.read.format(\"json\")\n",
    "    .option(\"multiline\", \"true\")\n",
    "    .option(\"inferschema\", \"true\")\n",
    "    .load(\"dbfs:/FileStore/shared_uploads/mechinelearningai@gmail.com/resturant_json_data.json\")\n",
    "\n",
    "// Flattening the structure\n",
    "val restaurantsDf = restaurantJson.select(\n",
    "    col(\"code\"),\n",
    "    col(\"message\"),\n",
    "    col(\"results_found\"),\n",
    "    col(\"results_shown\"),\n",
    "    col(\"results_start\"),\n",
    "    col(\"status\"),\n",
    "    explode_outer(col(\"restaurants\")).alias(\"restaurant_info\")\n",
    ").select(\n",
    "    col(\"restaurant_info.restaurant.R.res_id\").alias(\"restaurant_id\"),\n",
    "    col(\"restaurant_info.restaurant.name\").alias(\"restaurant_name\"),\n",
    "    explode_outer(col(\"restaurant_info.restaurant.establishment_types\")).alias(\"establishment_type_element\")\n",
    ")\n",
    "\n",
    "// Show flattened DataFrame\n",
    "restaurantsDf.show(truncate = false)"
   ]
  },
  {
   "cell_type": "markdown",
   "metadata": {
    "application/vnd.databricks.v1+cell": {
     "cellMetadata": {},
     "inputWidgets": {},
     "nuid": "db251920-0b14-4028-a678-374a7b774cd9",
     "showTitle": false,
     "tableResultSettingsMap": {},
     "title": ""
    }
   },
   "source": [
    "# ***scd2 in pyspark***"
   ]
  },
  {
   "cell_type": "code",
   "execution_count": 0,
   "metadata": {
    "application/vnd.databricks.v1+cell": {
     "cellMetadata": {
      "byteLimit": 2048000,
      "rowLimit": 10000
     },
     "inputWidgets": {},
     "nuid": "5df2fc82-2d55-43f6-a10f-49b99451bc63",
     "showTitle": false,
     "tableResultSettingsMap": {},
     "title": ""
    }
   },
   "outputs": [],
   "source": [
    "from pyspark.sql.functions import *\n",
    "from pyspark.sql.types import * \n",
    "from pyspark.sql.window import Window"
   ]
  },
  {
   "cell_type": "code",
   "execution_count": 0,
   "metadata": {
    "application/vnd.databricks.v1+cell": {
     "cellMetadata": {
      "byteLimit": 2048000,
      "rowLimit": 10000
     },
     "inputWidgets": {},
     "nuid": "bc854a99-16c8-4192-bc31-c1d0906eebf7",
     "showTitle": false,
     "tableResultSettingsMap": {},
     "title": ""
    }
   },
   "outputs": [],
   "source": [
    "sales_data = [\n",
    "\n",
    "(1,1,'manish','2023-01-16','gurgaon','india',380),\n",
    "(77,1,'manish','2023-03-11','bangalore','india',300),\n",
    "(12,3,'nikita','2023-09-20','delhi','india',127),\n",
    "(54,4,'rakesh','2023-08-10','jaipur','india',321),\n",
    "(65,5,'ayush','2023-09-07','mosco','russia',765),\n",
    "(89,6,'rajat','2023-08-10','jaipur','india',321)\n",
    "]\n",
    "\n",
    "sales_schema = ['sales_id', 'customer_id','customer_name', 'sales_date', 'food_delivery_address','food_delivery_country', 'food_cost']\n",
    "\n",
    "sales_df = spark.createDataFrame(data=sales_data,schema=sales_schema)"
   ]
  },
  {
   "cell_type": "code",
   "execution_count": 0,
   "metadata": {
    "application/vnd.databricks.v1+cell": {
     "cellMetadata": {
      "byteLimit": 2048000,
      "rowLimit": 10000
     },
     "inputWidgets": {},
     "nuid": "4e9dc93e-5185-49c2-b499-0df52280d44b",
     "showTitle": false,
     "tableResultSettingsMap": {},
     "title": ""
    }
   },
   "outputs": [
    {
     "output_type": "stream",
     "name": "stdout",
     "output_type": "stream",
     "text": [
      "+--------+-----------+-------------+----------+---------------------+---------------------+---------+\n|sales_id|customer_id|customer_name|sales_date|food_delivery_address|food_delivery_country|food_cost|\n+--------+-----------+-------------+----------+---------------------+---------------------+---------+\n|       1|          1|       manish|2023-01-16|              gurgaon|                india|      380|\n|      77|          1|       manish|2023-03-11|            bangalore|                india|      300|\n|      12|          3|       nikita|2023-09-20|                delhi|                india|      127|\n|      54|          4|       rakesh|2023-08-10|               jaipur|                india|      321|\n|      65|          5|        ayush|2023-09-07|                mosco|               russia|      765|\n|      89|          6|        rajat|2023-08-10|               jaipur|                india|      321|\n+--------+-----------+-------------+----------+---------------------+---------------------+---------+\n\n"
     ]
    }
   ],
   "source": [
    "sales_df.show()"
   ]
  },
  {
   "cell_type": "code",
   "execution_count": 0,
   "metadata": {
    "application/vnd.databricks.v1+cell": {
     "cellMetadata": {
      "byteLimit": 2048000,
      "rowLimit": 10000
     },
     "inputWidgets": {},
     "nuid": "f138e289-cb91-49c8-9014-e3261483e2bf",
     "showTitle": false,
     "tableResultSettingsMap": {},
     "title": ""
    }
   },
   "outputs": [],
   "source": [
    "customer_dim_data = [\n",
    "\n",
    "(1,'manish','arwal','india','N','2022-09-15','2022-09-25'),\n",
    "(2,'vikash','patna','india','Y','2023-08-12',None),\n",
    "(3,'nikita','delhi','india','Y','2023-09-10',None),\n",
    "(4,'rakesh','jaipur','india','Y','2023-06-10',None),\n",
    "(5,'ayush','NY','USA','Y','2023-06-10',None),\n",
    "(1,'manish','gurgaon','india','Y','2022-09-25',None),\n",
    "]\n",
    "\n",
    "customer_schema= ['id','name','city','country','active','effective_start_date','effective_end_date']\n",
    "\n",
    "customer_dim_df = spark.createDataFrame(data= customer_dim_data,schema=customer_schema)"
   ]
  },
  {
   "cell_type": "code",
   "execution_count": 0,
   "metadata": {
    "application/vnd.databricks.v1+cell": {
     "cellMetadata": {
      "byteLimit": 2048000,
      "rowLimit": 10000
     },
     "inputWidgets": {},
     "nuid": "3e4ca256-dfde-41b1-9be1-f3caa814792f",
     "showTitle": false,
     "tableResultSettingsMap": {},
     "title": ""
    }
   },
   "outputs": [
    {
     "output_type": "stream",
     "name": "stdout",
     "output_type": "stream",
     "text": [
      "+---+------+-------+-------+------+--------------------+------------------+\n| id|  name|   city|country|active|effective_start_date|effective_end_date|\n+---+------+-------+-------+------+--------------------+------------------+\n|  1|manish|  arwal|  india|     N|          2022-09-15|        2022-09-25|\n|  2|vikash|  patna|  india|     Y|          2023-08-12|              null|\n|  3|nikita|  delhi|  india|     Y|          2023-09-10|              null|\n|  4|rakesh| jaipur|  india|     Y|          2023-06-10|              null|\n|  5| ayush|     NY|    USA|     Y|          2023-06-10|              null|\n|  1|manish|gurgaon|  india|     Y|          2022-09-25|              null|\n+---+------+-------+-------+------+--------------------+------------------+\n\n"
     ]
    }
   ],
   "source": [
    "customer_dim_df.show()"
   ]
  },
  {
   "cell_type": "markdown",
   "metadata": {
    "application/vnd.databricks.v1+cell": {
     "cellMetadata": {},
     "inputWidgets": {},
     "nuid": "91d00955-ffe5-4b6d-929a-423a0de64b6e",
     "showTitle": false,
     "tableResultSettingsMap": {},
     "title": ""
    }
   },
   "source": [
    "***join both dataframe to identify changes in address***"
   ]
  },
  {
   "cell_type": "code",
   "execution_count": 0,
   "metadata": {
    "application/vnd.databricks.v1+cell": {
     "cellMetadata": {
      "byteLimit": 2048000,
      "rowLimit": 10000
     },
     "inputWidgets": {},
     "nuid": "32f23b91-5ff5-41dc-a457-7ce722119f1a",
     "showTitle": false,
     "tableResultSettingsMap": {},
     "title": ""
    }
   },
   "outputs": [],
   "source": [
    "joined_data = customer_dim_df.join(sales_df,customer_dim_df[\"id\"]==sales_df[\"customer_id\"],\"left\")"
   ]
  },
  {
   "cell_type": "code",
   "execution_count": 0,
   "metadata": {
    "application/vnd.databricks.v1+cell": {
     "cellMetadata": {
      "byteLimit": 2048000,
      "rowLimit": 10000
     },
     "inputWidgets": {},
     "nuid": "c53235d6-6a24-475c-910f-f1a0bd733bfa",
     "showTitle": false,
     "tableResultSettingsMap": {},
     "title": ""
    }
   },
   "outputs": [
    {
     "output_type": "display_data",
     "data": {
      "text/html": [
       "<style scoped>\n",
       "  .table-result-container {\n",
       "    max-height: 300px;\n",
       "    overflow: auto;\n",
       "  }\n",
       "  table, th, td {\n",
       "    border: 1px solid black;\n",
       "    border-collapse: collapse;\n",
       "  }\n",
       "  th, td {\n",
       "    padding: 5px;\n",
       "  }\n",
       "  th {\n",
       "    text-align: left;\n",
       "  }\n",
       "</style><div class='table-result-container'><table class='table-result'><thead style='background-color: white'><tr><th>id</th><th>name</th><th>city</th><th>country</th><th>active</th><th>effective_start_date</th><th>effective_end_date</th><th>sales_id</th><th>customer_id</th><th>customer_name</th><th>sales_date</th><th>food_delivery_address</th><th>food_delivery_country</th><th>food_cost</th></tr></thead><tbody><tr><td>1</td><td>manish</td><td>arwal</td><td>india</td><td>N</td><td>2022-09-15</td><td>2022-09-25</td><td>77</td><td>1</td><td>manish</td><td>2023-03-11</td><td>bangalore</td><td>india</td><td>300</td></tr><tr><td>1</td><td>manish</td><td>arwal</td><td>india</td><td>N</td><td>2022-09-15</td><td>2022-09-25</td><td>1</td><td>1</td><td>manish</td><td>2023-01-16</td><td>gurgaon</td><td>india</td><td>380</td></tr><tr><td>2</td><td>vikash</td><td>patna</td><td>india</td><td>Y</td><td>2023-08-12</td><td>null</td><td>null</td><td>null</td><td>null</td><td>null</td><td>null</td><td>null</td><td>null</td></tr><tr><td>3</td><td>nikita</td><td>delhi</td><td>india</td><td>Y</td><td>2023-09-10</td><td>null</td><td>12</td><td>3</td><td>nikita</td><td>2023-09-20</td><td>delhi</td><td>india</td><td>127</td></tr><tr><td>4</td><td>rakesh</td><td>jaipur</td><td>india</td><td>Y</td><td>2023-06-10</td><td>null</td><td>54</td><td>4</td><td>rakesh</td><td>2023-08-10</td><td>jaipur</td><td>india</td><td>321</td></tr><tr><td>5</td><td>ayush</td><td>NY</td><td>USA</td><td>Y</td><td>2023-06-10</td><td>null</td><td>65</td><td>5</td><td>ayush</td><td>2023-09-07</td><td>mosco</td><td>russia</td><td>765</td></tr><tr><td>1</td><td>manish</td><td>gurgaon</td><td>india</td><td>Y</td><td>2022-09-25</td><td>null</td><td>77</td><td>1</td><td>manish</td><td>2023-03-11</td><td>bangalore</td><td>india</td><td>300</td></tr><tr><td>1</td><td>manish</td><td>gurgaon</td><td>india</td><td>Y</td><td>2022-09-25</td><td>null</td><td>1</td><td>1</td><td>manish</td><td>2023-01-16</td><td>gurgaon</td><td>india</td><td>380</td></tr></tbody></table></div>"
      ]
     },
     "metadata": {
      "application/vnd.databricks.v1+output": {
       "addedWidgets": {},
       "aggData": [],
       "aggError": "",
       "aggOverflow": false,
       "aggSchema": [],
       "aggSeriesLimitReached": false,
       "aggType": "",
       "arguments": {},
       "columnCustomDisplayInfos": {},
       "data": [
        [
         1,
         "manish",
         "arwal",
         "india",
         "N",
         "2022-09-15",
         "2022-09-25",
         77,
         1,
         "manish",
         "2023-03-11",
         "bangalore",
         "india",
         300
        ],
        [
         1,
         "manish",
         "arwal",
         "india",
         "N",
         "2022-09-15",
         "2022-09-25",
         1,
         1,
         "manish",
         "2023-01-16",
         "gurgaon",
         "india",
         380
        ],
        [
         2,
         "vikash",
         "patna",
         "india",
         "Y",
         "2023-08-12",
         null,
         null,
         null,
         null,
         null,
         null,
         null,
         null
        ],
        [
         3,
         "nikita",
         "delhi",
         "india",
         "Y",
         "2023-09-10",
         null,
         12,
         3,
         "nikita",
         "2023-09-20",
         "delhi",
         "india",
         127
        ],
        [
         4,
         "rakesh",
         "jaipur",
         "india",
         "Y",
         "2023-06-10",
         null,
         54,
         4,
         "rakesh",
         "2023-08-10",
         "jaipur",
         "india",
         321
        ],
        [
         5,
         "ayush",
         "NY",
         "USA",
         "Y",
         "2023-06-10",
         null,
         65,
         5,
         "ayush",
         "2023-09-07",
         "mosco",
         "russia",
         765
        ],
        [
         1,
         "manish",
         "gurgaon",
         "india",
         "Y",
         "2022-09-25",
         null,
         77,
         1,
         "manish",
         "2023-03-11",
         "bangalore",
         "india",
         300
        ],
        [
         1,
         "manish",
         "gurgaon",
         "india",
         "Y",
         "2022-09-25",
         null,
         1,
         1,
         "manish",
         "2023-01-16",
         "gurgaon",
         "india",
         380
        ]
       ],
       "datasetInfos": [],
       "dbfsResultPath": null,
       "isJsonSchema": true,
       "metadata": {},
       "overflow": false,
       "plotOptions": {
        "customPlotOptions": {},
        "displayType": "table",
        "pivotAggregation": null,
        "pivotColumns": null,
        "xColumns": null,
        "yColumns": null
       },
       "removedWidgets": [],
       "schema": [
        {
         "metadata": "{}",
         "name": "id",
         "type": "\"long\""
        },
        {
         "metadata": "{}",
         "name": "name",
         "type": "\"string\""
        },
        {
         "metadata": "{}",
         "name": "city",
         "type": "\"string\""
        },
        {
         "metadata": "{}",
         "name": "country",
         "type": "\"string\""
        },
        {
         "metadata": "{}",
         "name": "active",
         "type": "\"string\""
        },
        {
         "metadata": "{}",
         "name": "effective_start_date",
         "type": "\"string\""
        },
        {
         "metadata": "{}",
         "name": "effective_end_date",
         "type": "\"string\""
        },
        {
         "metadata": "{}",
         "name": "sales_id",
         "type": "\"long\""
        },
        {
         "metadata": "{}",
         "name": "customer_id",
         "type": "\"long\""
        },
        {
         "metadata": "{}",
         "name": "customer_name",
         "type": "\"string\""
        },
        {
         "metadata": "{}",
         "name": "sales_date",
         "type": "\"string\""
        },
        {
         "metadata": "{}",
         "name": "food_delivery_address",
         "type": "\"string\""
        },
        {
         "metadata": "{}",
         "name": "food_delivery_country",
         "type": "\"string\""
        },
        {
         "metadata": "{}",
         "name": "food_cost",
         "type": "\"long\""
        }
       ],
       "type": "table"
      }
     },
     "output_type": "display_data"
    }
   ],
   "source": [
    "display(joined_data)"
   ]
  },
  {
   "cell_type": "code",
   "execution_count": 0,
   "metadata": {
    "application/vnd.databricks.v1+cell": {
     "cellMetadata": {
      "byteLimit": 2048000,
      "rowLimit": 10000
     },
     "inputWidgets": {},
     "nuid": "da091232-8ed3-4314-bbb9-cabbc4f202bf",
     "showTitle": false,
     "tableResultSettingsMap": {},
     "title": ""
    }
   },
   "outputs": [
    {
     "output_type": "stream",
     "name": "stdout",
     "output_type": "stream",
     "text": [
      "+-----------+-------------+---------+---------------------+------+--------------------+------------------+\n|customer_id|customer_name|     city|food_delivery_address|active|effective_start_date|effective_end_date|\n+-----------+-------------+---------+---------------------+------+--------------------+------------------+\n|          1|       manish|bangalore|            bangalore|     Y|          2023-03-11|              null|\n|          5|        ayush|    mosco|                mosco|     Y|          2023-09-07|              null|\n+-----------+-------------+---------+---------------------+------+--------------------+------------------+\n\n"
     ]
    }
   ],
   "source": [
    "new_records_df = joined_data.where(\n",
    "                    (col(\"food_delivery_address\") != col(\"city\")) & (col(\"active\") == \"Y\"))\\\n",
    "                    .withColumn(\"active\",lit(\"Y\"))\\\n",
    "                    .withColumn(\"effective_start_date\",col(\"sales_date\"))\\\n",
    "                    .withColumn(\"effective_end_date\",lit(None))\\\n",
    "                        .select(\n",
    "                            \"customer_id\",\n",
    "                            \"customer_name\",\n",
    "                            col(\"food_delivery_address\").alias(\"city\"),\n",
    "                            \"food_delivery_address\",\n",
    "                            \"active\",\n",
    "                            \"effective_start_date\",\n",
    "                            \"effective_end_date\"\n",
    "                        )\n",
    "new_records_df.show()"
   ]
  },
  {
   "cell_type": "markdown",
   "metadata": {
    "application/vnd.databricks.v1+cell": {
     "cellMetadata": {},
     "inputWidgets": {},
     "nuid": "9f1eba33-79a3-4124-b355-309366e440ef",
     "showTitle": false,
     "tableResultSettingsMap": {},
     "title": ""
    }
   },
   "source": [
    "***update the old records***"
   ]
  },
  {
   "cell_type": "code",
   "execution_count": 0,
   "metadata": {
    "application/vnd.databricks.v1+cell": {
     "cellMetadata": {
      "byteLimit": 2048000,
      "rowLimit": 10000
     },
     "inputWidgets": {},
     "nuid": "4bcaf961-2585-4167-acb3-bd06e6848f01",
     "showTitle": false,
     "tableResultSettingsMap": {},
     "title": ""
    }
   },
   "outputs": [
    {
     "output_type": "stream",
     "name": "stdout",
     "output_type": "stream",
     "text": [
      "+-----------+-------------+-------+---------------------+------+--------------------+------------------+\n|customer_id|customer_name|   city|food_delivery_country|active|effective_start_date|effective_end_date|\n+-----------+-------------+-------+---------------------+------+--------------------+------------------+\n|          1|       manish|gurgaon|                india|     N|          2022-09-25|        2023-03-11|\n|          5|        ayush|     NY|               russia|     N|          2023-06-10|        2023-09-07|\n+-----------+-------------+-------+---------------------+------+--------------------+------------------+\n\n"
     ]
    }
   ],
   "source": [
    "old_records = joined_data.where(\n",
    "                    (col(\"food_delivery_address\") != col(\"city\")) & (col(\"active\") == \"Y\"))\\\n",
    "                    .withColumn(\"active\",lit(\"N\"))\\\n",
    "                    .withColumn(\"effective_end_date\",col(\"sales_date\"))\\\n",
    "                    .select(\n",
    "\n",
    "                      \"customer_id\",\n",
    "                      \"customer_name\",\n",
    "                      \"city\",\n",
    "                      \"food_delivery_country\",\n",
    "                      \"active\",\n",
    "                      \"effective_start_date\",\n",
    "                      \"effective_end_date\"\n",
    "\n",
    "\n",
    "\n",
    "                    )\n",
    "\n",
    "old_records.show()"
   ]
  },
  {
   "cell_type": "markdown",
   "metadata": {
    "application/vnd.databricks.v1+cell": {
     "cellMetadata": {},
     "inputWidgets": {},
     "nuid": "8138536e-e608-47b5-99ca-700fdbfa7cde",
     "showTitle": false,
     "tableResultSettingsMap": {},
     "title": ""
    }
   },
   "source": [
    "***Find out new customers and insert them***"
   ]
  },
  {
   "cell_type": "code",
   "execution_count": 0,
   "metadata": {
    "application/vnd.databricks.v1+cell": {
     "cellMetadata": {
      "byteLimit": 2048000,
      "rowLimit": 10000
     },
     "inputWidgets": {},
     "nuid": "92aa794a-d501-4659-931f-c071d3c0e7fd",
     "showTitle": false,
     "tableResultSettingsMap": {},
     "title": ""
    }
   },
   "outputs": [
    {
     "output_type": "stream",
     "name": "stdout",
     "output_type": "stream",
     "text": [
      "+-----------+-------------+---------------------+---------------------+------+--------------------+------------------+\n|customer_id|customer_name|food_delivery_address|food_delivery_country|active|effective_start_date|effective_end_date|\n+-----------+-------------+---------------------+---------------------+------+--------------------+------------------+\n|          6|        rajat|               jaipur|                india|     Y|          2023-08-10|              null|\n+-----------+-------------+---------------------+---------------------+------+--------------------+------------------+\n\n"
     ]
    }
   ],
   "source": [
    "from pyspark.sql.functions import col, lit\n",
    "\n",
    "# Perform a left join between customer_dim_df and sales_df\n",
    "new_customers = sales_df.join(\n",
    "    customer_dim_df, \n",
    "    sales_df[\"customer_id\"] == customer_dim_df[\"id\"], \n",
    "    \"leftanti\"  # Use leftanti join to find rows in sales_df not present in customer_dim_df\n",
    ").withColumn(\"active\", lit(\"Y\")) \\\n",
    " .withColumn(\"effective_start_date\", col(\"sales_date\")) \\\n",
    " .withColumn(\"effective_end_date\", lit(None)) \\\n",
    " .select(\n",
    "     \"customer_id\",\n",
    "     \"customer_name\",\n",
    "     \"food_delivery_address\",\n",
    "     \"food_delivery_country\",\n",
    "     \"active\",\n",
    "     \"effective_start_date\",\n",
    "     \"effective_end_date\"\n",
    " )\n",
    "\n",
    "# Show the resulting DataFrame\n",
    "new_customers.show()\n"
   ]
  },
  {
   "cell_type": "markdown",
   "metadata": {
    "application/vnd.databricks.v1+cell": {
     "cellMetadata": {},
     "inputWidgets": {},
     "nuid": "e45e9358-c7fb-4ffd-a19d-bb70143d9985",
     "showTitle": false,
     "tableResultSettingsMap": {},
     "title": ""
    }
   },
   "source": [
    "***Merge all records in one DF***"
   ]
  },
  {
   "cell_type": "code",
   "execution_count": 0,
   "metadata": {
    "application/vnd.databricks.v1+cell": {
     "cellMetadata": {
      "byteLimit": 2048000,
      "rowLimit": 10000
     },
     "inputWidgets": {},
     "nuid": "68e05e8b-360e-4eb1-987b-a6b8de1126e0",
     "showTitle": false,
     "tableResultSettingsMap": {},
     "title": ""
    }
   },
   "outputs": [],
   "source": [
    "final_records = customer_dim_df.union(new_records_df).union(old_records).union(new_customers)\n"
   ]
  },
  {
   "cell_type": "code",
   "execution_count": 0,
   "metadata": {
    "application/vnd.databricks.v1+cell": {
     "cellMetadata": {
      "byteLimit": 2048000,
      "rowLimit": 10000
     },
     "inputWidgets": {},
     "nuid": "d4e9fa3e-1ed7-43ba-a805-8832e4ebc7ac",
     "showTitle": false,
     "tableResultSettingsMap": {},
     "title": ""
    }
   },
   "outputs": [
    {
     "output_type": "stream",
     "name": "stdout",
     "output_type": "stream",
     "text": [
      "+---+------+---------+---------+------+--------------------+------------------+\n| id|  name|     city|  country|active|effective_start_date|effective_end_date|\n+---+------+---------+---------+------+--------------------+------------------+\n|  1|manish|    arwal|    india|     N|          2022-09-15|        2022-09-25|\n|  2|vikash|    patna|    india|     Y|          2023-08-12|              null|\n|  3|nikita|    delhi|    india|     Y|          2023-09-10|              null|\n|  4|rakesh|   jaipur|    india|     Y|          2023-06-10|              null|\n|  5| ayush|       NY|      USA|     Y|          2023-06-10|              null|\n|  1|manish|  gurgaon|    india|     Y|          2022-09-25|              null|\n|  1|manish|bangalore|bangalore|     Y|          2023-03-11|              null|\n|  5| ayush|    mosco|    mosco|     Y|          2023-09-07|              null|\n|  1|manish|  gurgaon|    india|     N|          2022-09-25|        2023-03-11|\n|  5| ayush|       NY|   russia|     N|          2023-06-10|        2023-09-07|\n|  6| rajat|   jaipur|    india|     Y|          2023-08-10|              null|\n+---+------+---------+---------+------+--------------------+------------------+\n\n"
     ]
    }
   ],
   "source": [
    "final_records.show()"
   ]
  },
  {
   "cell_type": "code",
   "execution_count": 0,
   "metadata": {
    "application/vnd.databricks.v1+cell": {
     "cellMetadata": {
      "byteLimit": 2048000,
      "rowLimit": 10000
     },
     "inputWidgets": {},
     "nuid": "3c90736f-c7b2-4a41-87ab-535db562f31b",
     "showTitle": false,
     "tableResultSettingsMap": {},
     "title": ""
    }
   },
   "outputs": [
    {
     "output_type": "stream",
     "name": "stdout",
     "output_type": "stream",
     "text": [
      "+---+------+---------+---------+------+--------------------+------------------+\n| id|  name|     city|  country|active|effective_start_date|effective_end_date|\n+---+------+---------+---------+------+--------------------+------------------+\n|  1|manish|  gurgaon|    india|     N|          2022-09-25|        2023-03-11|\n|  1|manish|    arwal|    india|     N|          2022-09-15|        2022-09-25|\n|  1|manish|bangalore|bangalore|     Y|          2023-03-11|              null|\n|  2|vikash|    patna|    india|     Y|          2023-08-12|              null|\n|  3|nikita|    delhi|    india|     Y|          2023-09-10|              null|\n|  4|rakesh|   jaipur|    india|     Y|          2023-06-10|              null|\n|  5| ayush|       NY|   russia|     N|          2023-06-10|        2023-09-07|\n|  5| ayush|    mosco|    mosco|     Y|          2023-09-07|              null|\n|  6| rajat|   jaipur|    india|     Y|          2023-08-10|              null|\n+---+------+---------+---------+------+--------------------+------------------+\n\n"
     ]
    }
   ],
   "source": [
    "# Define a window specification for ranking\n",
    "window = Window.partitionBy(\"id\", \"active\").orderBy(col(\"effective_start_date\").desc())\n",
    "\n",
    "# Apply window function and filter results\n",
    "final_records.withColumn(\"rnk\", rank().over(window)) \\\n",
    "    .filter(~((col(\"active\") == \"Y\") & (col(\"rnk\") >= 2))) \\\n",
    "    .drop(\"rnk\") \\\n",
    "    .show()"
   ]
  },
  {
   "cell_type": "markdown",
   "metadata": {
    "application/vnd.databricks.v1+cell": {
     "cellMetadata": {},
     "inputWidgets": {},
     "nuid": "20aa0185-9ef3-4b4e-9735-3eade4e9167a",
     "showTitle": false,
     "tableResultSettingsMap": {},
     "title": ""
    }
   },
   "source": [
    "# END SPARK"
   ]
  },
  {
   "cell_type": "markdown",
   "metadata": {
    "application/vnd.databricks.v1+cell": {
     "cellMetadata": {},
     "inputWidgets": {},
     "nuid": "89b135fa-5d6e-494c-a3bd-086a4549e9d8",
     "showTitle": false,
     "tableResultSettingsMap": {},
     "title": ""
    }
   },
   "source": [
    "#Delta Table এ ডেটা লেখুন"
   ]
  },
  {
   "cell_type": "code",
   "execution_count": 0,
   "metadata": {
    "application/vnd.databricks.v1+cell": {
     "cellMetadata": {
      "byteLimit": 2048000,
      "rowLimit": 10000
     },
     "inputWidgets": {},
     "nuid": "7b60312f-73c4-4517-b33d-1092884457df",
     "showTitle": false,
     "tableResultSettingsMap": {},
     "title": ""
    }
   },
   "outputs": [],
   "source": [
    "from pyspark.sql import SparkSession\n",
    "from pyspark.sql import functions as F\n",
    "from delta.tables import DeltaTable\n",
    "\n",
    "# Spark session তৈরি করুন Delta Lake সমর্থন সহ\n",
    "spark = SparkSession.builder \\\n",
    "    .appName(\"DeltaLakeEndToEnd\") \\\n",
    "    .config(\"spark.sql.extensions\", \"io.delta.sql.DeltaSparkSessionExtension\") \\\n",
    "    .config(\"spark.sql.catalog.spark_catalog\", \"org.apache.spark.sql.delta.catalog.DeltaCatalog\") \\\n",
    "    .getOrCreate()\n",
    "\n",
    "# প্রথম ডেটা তৈরি করুন\n",
    "data = [\n",
    "    (1, \"John\", 29, \"Engineering\"),\n",
    "    (2, \"Jane\", 34, \"Marketing\"),\n",
    "    (3, \"Sam\", 23, \"Sales\")\n",
    "]\n",
    "\n",
    "# DataFrame তৈরি করুন\n",
    "df = spark.createDataFrame(data, [\"id\", \"name\", \"age\", \"department\"])\n",
    "\n",
    "# Delta table এ ডেটা লিখুন\n",
    "df.write \\\n",
    "    .format(\"delta\") \\\n",
    "    .mode(\"overwrite\") \\\n",
    "    .save(\"/mnt/delta/employee_table\")\n",
    "\n",
    "# অন্যান্য অপারেশন যেমন পড়া, আপডেট, ইনসার্ট, ডিলিট, time travel এর কোড উপরে দেখানো হয়েছে\n"
   ]
  },
  {
   "cell_type": "markdown",
   "metadata": {
    "application/vnd.databricks.v1+cell": {
     "cellMetadata": {},
     "inputWidgets": {},
     "nuid": "caa314d5-6642-490d-80f6-5678bc05c613",
     "showTitle": false,
     "tableResultSettingsMap": {},
     "title": ""
    }
   },
   "source": [
    "#Delta Table থেকে ডেটা পড়ুন"
   ]
  },
  {
   "cell_type": "code",
   "execution_count": 0,
   "metadata": {
    "application/vnd.databricks.v1+cell": {
     "cellMetadata": {
      "byteLimit": 2048000,
      "rowLimit": 10000
     },
     "inputWidgets": {},
     "nuid": "674e840a-0783-4538-9267-fcfb83526467",
     "showTitle": false,
     "tableResultSettingsMap": {},
     "title": ""
    }
   },
   "outputs": [
    {
     "output_type": "stream",
     "name": "stdout",
     "output_type": "stream",
     "text": [
      "+---+----+---+-----------+\n| id|name|age| department|\n+---+----+---+-----------+\n|  1|John| 29|Engineering|\n|  2|Jane| 34|  Marketing|\n|  3| Sam| 23|      Sales|\n+---+----+---+-----------+\n\n"
     ]
    }
   ],
   "source": [
    "# Delta table থেকে ডেটা পড়ুন\n",
    "read_df = spark.read.format(\"delta\").load(\"/mnt/delta/employee_table\")\n",
    "\n",
    "# ডেটা দেখান\n",
    "read_df.show()\n"
   ]
  },
  {
   "cell_type": "markdown",
   "metadata": {
    "application/vnd.databricks.v1+cell": {
     "cellMetadata": {},
     "inputWidgets": {},
     "nuid": "a2df1a67-deef-4079-bcc1-877ce6589c02",
     "showTitle": false,
     "tableResultSettingsMap": {},
     "title": ""
    }
   },
   "source": [
    "# Delta Table এ ডেটা আপডেট করুন"
   ]
  },
  {
   "cell_type": "code",
   "execution_count": 0,
   "metadata": {
    "application/vnd.databricks.v1+cell": {
     "cellMetadata": {
      "byteLimit": 2048000,
      "rowLimit": 10000
     },
     "inputWidgets": {},
     "nuid": "2f559a95-df35-4594-abb5-81d04899de7f",
     "showTitle": false,
     "tableResultSettingsMap": {},
     "title": ""
    }
   },
   "outputs": [
    {
     "output_type": "stream",
     "name": "stdout",
     "output_type": "stream",
     "text": [
      "+---+----+---+-----------+\n| id|name|age| department|\n+---+----+---+-----------+\n|  1|John| 30|Engineering|\n|  2|Jane| 34|  Marketing|\n|  3| Sam| 23|      Sales|\n+---+----+---+-----------+\n\n"
     ]
    }
   ],
   "source": [
    "from delta.tables import DeltaTable\n",
    "\n",
    "# Delta table লোড করুন\n",
    "delta_table = DeltaTable.forPath(spark, \"/mnt/delta/employee_table\")\n",
    "\n",
    "# আপডেট করুন\n",
    "delta_table.update(\n",
    "    condition = \"id = 1\",  # id = 1 হলে আপডেট হবে\n",
    "    set = {\"age\": \"30\"}     # age পরিবর্তন হবে\n",
    ")\n",
    "\n",
    "# আপডেটটি যাচাই করুন\n",
    "delta_table.toDF().show()\n"
   ]
  },
  {
   "cell_type": "markdown",
   "metadata": {
    "application/vnd.databricks.v1+cell": {
     "cellMetadata": {},
     "inputWidgets": {},
     "nuid": "8d08f12a-eeb8-4945-bcfc-caee0ada4db0",
     "showTitle": false,
     "tableResultSettingsMap": {},
     "title": ""
    }
   },
   "source": [
    "# Delta Table থেকে ডেটা ডিলিট করুন"
   ]
  },
  {
   "cell_type": "code",
   "execution_count": 0,
   "metadata": {
    "application/vnd.databricks.v1+cell": {
     "cellMetadata": {
      "byteLimit": 2048000,
      "rowLimit": 10000
     },
     "inputWidgets": {},
     "nuid": "87c0e051-b86c-4db9-ab1d-76191498387f",
     "showTitle": false,
     "tableResultSettingsMap": {},
     "title": ""
    }
   },
   "outputs": [
    {
     "output_type": "stream",
     "name": "stdout",
     "output_type": "stream",
     "text": [
      "+---+----+---+-----------+\n| id|name|age| department|\n+---+----+---+-----------+\n|  1|John| 30|Engineering|\n|  3| Sam| 23|      Sales|\n+---+----+---+-----------+\n\n"
     ]
    }
   ],
   "source": [
    "# age > 30 হলে ডিলিট করুন\n",
    "delta_table.delete(condition = \"age > 30\")\n",
    "\n",
    "# ডিলিট যাচাই করুন\n",
    "delta_table.toDF().show()\n"
   ]
  },
  {
   "cell_type": "markdown",
   "metadata": {
    "application/vnd.databricks.v1+cell": {
     "cellMetadata": {},
     "inputWidgets": {},
     "nuid": "5adce086-63d3-4851-9884-f4cf480cfec5",
     "showTitle": false,
     "tableResultSettingsMap": {},
     "title": ""
    }
   },
   "source": [
    "#  নতুন ডেটা Delta Table এ ইনসার্ট করুন"
   ]
  },
  {
   "cell_type": "code",
   "execution_count": 0,
   "metadata": {
    "application/vnd.databricks.v1+cell": {
     "cellMetadata": {
      "byteLimit": 2048000,
      "rowLimit": 10000
     },
     "inputWidgets": {},
     "nuid": "2435bc7b-d0da-425f-91a0-fe4beb6b8bbf",
     "showTitle": false,
     "tableResultSettingsMap": {},
     "title": ""
    }
   },
   "outputs": [
    {
     "output_type": "stream",
     "name": "stdout",
     "output_type": "stream",
     "text": [
      "+---+-----+---+-----------+\n| id| name|age| department|\n+---+-----+---+-----------+\n|  4| Alex| 28|Engineering|\n|  1| John| 30|Engineering|\n|  3|  Sam| 23|      Sales|\n|  5|Emily| 26|         HR|\n+---+-----+---+-----------+\n\n"
     ]
    }
   ],
   "source": [
    "# নতুন ডেটা ইনসার্ট করুন\n",
    "new_data = [\n",
    "    (4, \"Alex\", 28, \"Engineering\"),\n",
    "    (5, \"Emily\", 26, \"HR\")\n",
    "]\n",
    "\n",
    "# নতুন DataFrame তৈরি করুন\n",
    "new_df = spark.createDataFrame(new_data, [\"id\", \"name\", \"age\", \"department\"])\n",
    "\n",
    "# ডেটা ইনসার্ট করুন\n",
    "new_df.write \\\n",
    "    .format(\"delta\") \\\n",
    "    .mode(\"append\") \\\n",
    "    .save(\"/mnt/delta/employee_table\")\n",
    "\n",
    "# ইনসার্ট যাচাই করুন\n",
    "delta_table.toDF().show()\n"
   ]
  },
  {
   "cell_type": "markdown",
   "metadata": {
    "application/vnd.databricks.v1+cell": {
     "cellMetadata": {},
     "inputWidgets": {},
     "nuid": "6e135776-ec34-4a18-8d5a-186a82c74148",
     "showTitle": false,
     "tableResultSettingsMap": {},
     "title": ""
    }
   },
   "source": [
    "# Time Travel (পূর্ববর্তী ভার্সন থেকে ডেটা পড়া)"
   ]
  },
  {
   "cell_type": "code",
   "execution_count": 0,
   "metadata": {
    "application/vnd.databricks.v1+cell": {
     "cellMetadata": {
      "byteLimit": 2048000,
      "rowLimit": 10000
     },
     "inputWidgets": {},
     "nuid": "c66d8438-a93c-43c5-998a-f6ed22d2e54b",
     "showTitle": false,
     "tableResultSettingsMap": {},
     "title": ""
    }
   },
   "outputs": [
    {
     "output_type": "display_data",
     "data": {
      "text/plain": [
       "\u001B[0;36m  File \u001B[0;32m<command-405539165512260>:5\u001B[0;36m\u001B[0m\n",
       "\u001B[0;31m    .load(\"/mnt/delta/employee_table\")\u001B[0m\n",
       "\u001B[0m    ^\u001B[0m\n",
       "\u001B[0;31mIndentationError\u001B[0m\u001B[0;31m:\u001B[0m unexpected indent\n"
      ]
     },
     "metadata": {
      "application/vnd.databricks.v1+output": {
       "arguments": {},
       "data": "\u001B[0;36m  File \u001B[0;32m<command-405539165512260>:5\u001B[0;36m\u001B[0m\n\u001B[0;31m    .load(\"/mnt/delta/employee_table\")\u001B[0m\n\u001B[0m    ^\u001B[0m\n\u001B[0;31mIndentationError\u001B[0m\u001B[0;31m:\u001B[0m unexpected indent\n",
       "errorSummary": "<span class='ansi-red-fg'>IndentationError</span>: unexpected indent (<command-405539165512260>, line 5)",
       "errorTraceType": "ansi",
       "metadata": {},
       "type": "ipynbError"
      }
     },
     "output_type": "display_data"
    }
   ],
   "source": [
    "# Time Travel (পূর্ববর্তী ভার্সন থেকে ডেটা পড়া)\n",
    "# নির্দিষ্ট ভার্সন থেকে Delta table পড়ুন\n",
    "version_df = spark.read.format(\"delta\") \\\n",
    "    .option(\"versionAsOf\", 0)  # ভার্সন 0 থেকে ডেটা পড়ুন\n",
    "    .load(\"/mnt/delta/employee_table\")\n",
    "\n",
    "version_df.show()\n"
   ]
  },
  {
   "cell_type": "code",
   "execution_count": 0,
   "metadata": {
    "application/vnd.databricks.v1+cell": {
     "cellMetadata": {
      "byteLimit": 2048000,
      "rowLimit": 10000
     },
     "inputWidgets": {},
     "nuid": "8f180606-62d6-4332-8c88-73f38a29713c",
     "showTitle": false,
     "tableResultSettingsMap": {},
     "title": ""
    }
   },
   "outputs": [
    {
     "output_type": "display_data",
     "data": {
      "text/html": [
       "<style scoped>\n",
       "  .table-result-container {\n",
       "    max-height: 300px;\n",
       "    overflow: auto;\n",
       "  }\n",
       "  table, th, td {\n",
       "    border: 1px solid black;\n",
       "    border-collapse: collapse;\n",
       "  }\n",
       "  th, td {\n",
       "    padding: 5px;\n",
       "  }\n",
       "  th {\n",
       "    text-align: left;\n",
       "  }\n",
       "</style><div class='table-result-container'><table class='table-result'><thead style='background-color: white'><tr><th>path</th><th>name</th><th>size</th><th>modificationTime</th></tr></thead><tbody><tr><td>dbfs:/mnt/delta/employee_table/</td><td>employee_table/</td><td>0</td><td>0</td></tr></tbody></table></div>"
      ]
     },
     "metadata": {
      "application/vnd.databricks.v1+output": {
       "addedWidgets": {},
       "aggData": [],
       "aggError": "",
       "aggOverflow": false,
       "aggSchema": [],
       "aggSeriesLimitReached": false,
       "aggType": "",
       "arguments": {},
       "columnCustomDisplayInfos": {},
       "data": [
        [
         "dbfs:/mnt/delta/employee_table/",
         "employee_table/",
         0,
         0
        ]
       ],
       "datasetInfos": [],
       "dbfsResultPath": null,
       "isJsonSchema": true,
       "metadata": {
        "isDbfsCommandResult": false
       },
       "overflow": false,
       "plotOptions": {
        "customPlotOptions": {},
        "displayType": "table",
        "pivotAggregation": null,
        "pivotColumns": null,
        "xColumns": null,
        "yColumns": null
       },
       "removedWidgets": [],
       "schema": [
        {
         "metadata": "{}",
         "name": "path",
         "type": "\"string\""
        },
        {
         "metadata": "{}",
         "name": "name",
         "type": "\"string\""
        },
        {
         "metadata": "{}",
         "name": "size",
         "type": "\"long\""
        },
        {
         "metadata": "{}",
         "name": "modificationTime",
         "type": "\"long\""
        }
       ],
       "type": "table"
      }
     },
     "output_type": "display_data"
    }
   ],
   "source": [
    "%fs\n",
    "ls /mnt/delta/"
   ]
  },
  {
   "cell_type": "code",
   "execution_count": 0,
   "metadata": {
    "application/vnd.databricks.v1+cell": {
     "cellMetadata": {
      "byteLimit": 2048000,
      "rowLimit": 10000
     },
     "inputWidgets": {},
     "nuid": "12238c55-fcb3-48d4-8f67-aaf452d08770",
     "showTitle": false,
     "tableResultSettingsMap": {},
     "title": ""
    }
   },
   "outputs": [
    {
     "output_type": "display_data",
     "data": {
      "text/html": [
       "<style scoped>\n",
       "  .table-result-container {\n",
       "    max-height: 300px;\n",
       "    overflow: auto;\n",
       "  }\n",
       "  table, th, td {\n",
       "    border: 1px solid black;\n",
       "    border-collapse: collapse;\n",
       "  }\n",
       "  th, td {\n",
       "    padding: 5px;\n",
       "  }\n",
       "  th {\n",
       "    text-align: left;\n",
       "  }\n",
       "</style><div class='table-result-container'><table class='table-result'><thead style='background-color: white'><tr><th>path</th><th>name</th><th>size</th><th>modificationTime</th></tr></thead><tbody><tr><td>dbfs:/mnt/delta/employee_table/part-00007-80582459-04f1-4c9e-8c2c-2ec91e6424f2-c000.snappy.parquet</td><td>part-00007-80582459-04f1-4c9e-8c2c-2ec91e6424f2-c000.snappy.parquet</td><td>1330</td><td>1734773946000</td></tr></tbody></table></div>"
      ]
     },
     "metadata": {
      "application/vnd.databricks.v1+output": {
       "addedWidgets": {},
       "aggData": [],
       "aggError": "",
       "aggOverflow": false,
       "aggSchema": [],
       "aggSeriesLimitReached": false,
       "aggType": "",
       "arguments": {},
       "columnCustomDisplayInfos": {},
       "data": [
        [
         "dbfs:/mnt/delta/employee_table/part-00007-80582459-04f1-4c9e-8c2c-2ec91e6424f2-c000.snappy.parquet",
         "part-00007-80582459-04f1-4c9e-8c2c-2ec91e6424f2-c000.snappy.parquet",
         1330,
         1734773946000
        ]
       ],
       "datasetInfos": [],
       "dbfsResultPath": null,
       "isJsonSchema": true,
       "metadata": {
        "isDbfsCommandResult": false
       },
       "overflow": false,
       "plotOptions": {
        "customPlotOptions": {},
        "displayType": "table",
        "pivotAggregation": null,
        "pivotColumns": null,
        "xColumns": null,
        "yColumns": null
       },
       "removedWidgets": [],
       "schema": [
        {
         "metadata": "{}",
         "name": "path",
         "type": "\"string\""
        },
        {
         "metadata": "{}",
         "name": "name",
         "type": "\"string\""
        },
        {
         "metadata": "{}",
         "name": "size",
         "type": "\"long\""
        },
        {
         "metadata": "{}",
         "name": "modificationTime",
         "type": "\"long\""
        }
       ],
       "type": "table"
      }
     },
     "output_type": "display_data"
    }
   ],
   "source": [
    "%fs\n",
    "ls dbfs:/mnt/delta/employee_table/part-00007-80582459-04f1-4c9e-8c2c-2ec91e6424f2-c000.snappy.parquet"
   ]
  },
  {
   "cell_type": "code",
   "execution_count": 0,
   "metadata": {
    "application/vnd.databricks.v1+cell": {
     "cellMetadata": {
      "byteLimit": 2048000,
      "rowLimit": 10000
     },
     "inputWidgets": {},
     "nuid": "c50318dc-a521-4997-be23-1a65908739f3",
     "showTitle": false,
     "tableResultSettingsMap": {},
     "title": ""
    }
   },
   "outputs": [
    {
     "output_type": "stream",
     "name": "stdout",
     "output_type": "stream",
     "text": [
      "+-------+-------------------+----------------+---------------------------+---------+--------------------------------------+----+------------------+--------------------+-----------+-----------------+-------------+-----------------------------------------------------------------------------------------------------------------------------------------------------------------------------------------------------------------------------------------------------------------------------------------------+------------+-----------------------------------+\n|version|timestamp          |userId          |userName                   |operation|operationParameters                   |job |notebook          |clusterId           |readVersion|isolationLevel   |isBlindAppend|operationMetrics                                                                                                                                                                                                                                                                               |userMetadata|engineInfo                         |\n+-------+-------------------+----------------+---------------------------+---------+--------------------------------------+----+------------------+--------------------+-----------+-----------------+-------------+-----------------------------------------------------------------------------------------------------------------------------------------------------------------------------------------------------------------------------------------------------------------------------------------------+------------+-----------------------------------+\n|8      |2024-12-21 09:57:17|7538725952068831|mechinelearningai@gmail.com|WRITE    |{mode -> Append, partitionBy -> []}   |null|{3786295340065344}|1221-052838-nbrm25e7|7          |WriteSerializable|true         |{numFiles -> 2, numOutputRows -> 2, numOutputBytes -> 2704}                                                                                                                                                                                                                                    |null        |Databricks-Runtime/12.2.x-scala2.12|\n|7      |2024-12-21 09:57:12|7538725952068831|mechinelearningai@gmail.com|DELETE   |{predicate -> [\"(age#9645L > 30)\"]}   |null|{3786295340065344}|1221-052838-nbrm25e7|6          |WriteSerializable|false        |{numRemovedFiles -> 1, numRemovedBytes -> 1366, numCopiedRows -> 0, numDeletionVectorsAdded -> 0, numDeletionVectorsRemoved -> 0, numAddedChangeFiles -> 0, executionTimeMs -> 1497, numDeletedRows -> 1, scanTimeMs -> 481, numAddedFiles -> 0, numAddedBytes -> 0, rewriteTimeMs -> 1016}    |null        |Databricks-Runtime/12.2.x-scala2.12|\n|6      |2024-12-21 09:57:07|7538725952068831|mechinelearningai@gmail.com|UPDATE   |{predicate -> [\"(id#9643L = 1)\"]}     |null|{3786295340065344}|1221-052838-nbrm25e7|5          |WriteSerializable|false        |{numRemovedFiles -> 1, numRemovedBytes -> 1380, numCopiedRows -> 0, numDeletionVectorsAdded -> 0, numDeletionVectorsRemoved -> 0, numAddedChangeFiles -> 0, executionTimeMs -> 1411, scanTimeMs -> 684, numAddedFiles -> 1, numUpdatedRows -> 1, numAddedBytes -> 1379, rewriteTimeMs -> 727}  |null        |Databricks-Runtime/12.2.x-scala2.12|\n|5      |2024-12-21 09:57:01|7538725952068831|mechinelearningai@gmail.com|WRITE    |{mode -> Overwrite, partitionBy -> []}|null|{3786295340065344}|1221-052838-nbrm25e7|4          |WriteSerializable|false        |{numFiles -> 3, numOutputRows -> 3, numOutputBytes -> 4076}                                                                                                                                                                                                                                    |null        |Databricks-Runtime/12.2.x-scala2.12|\n|4      |2024-12-21 09:56:08|7538725952068831|mechinelearningai@gmail.com|WRITE    |{mode -> Overwrite, partitionBy -> []}|null|{3786295340065344}|1221-052838-nbrm25e7|3          |WriteSerializable|false        |{numFiles -> 3, numOutputRows -> 3, numOutputBytes -> 4076}                                                                                                                                                                                                                                    |null        |Databricks-Runtime/12.2.x-scala2.12|\n|3      |2024-12-21 09:44:17|7538725952068831|mechinelearningai@gmail.com|WRITE    |{mode -> Append, partitionBy -> []}   |null|{3786295340065344}|1221-052838-nbrm25e7|2          |WriteSerializable|true         |{numFiles -> 2, numOutputRows -> 2, numOutputBytes -> 2704}                                                                                                                                                                                                                                    |null        |Databricks-Runtime/12.2.x-scala2.12|\n|2      |2024-12-21 09:43:34|7538725952068831|mechinelearningai@gmail.com|DELETE   |{predicate -> [\"(age#6117L > 30)\"]}   |null|{3786295340065344}|1221-052838-nbrm25e7|1          |WriteSerializable|false        |{numRemovedFiles -> 1, numRemovedBytes -> 1366, numCopiedRows -> 0, numDeletionVectorsAdded -> 0, numDeletionVectorsRemoved -> 0, numAddedChangeFiles -> 0, executionTimeMs -> 1367, numDeletedRows -> 1, scanTimeMs -> 696, numAddedFiles -> 0, numAddedBytes -> 0, rewriteTimeMs -> 670}     |null        |Databricks-Runtime/12.2.x-scala2.12|\n|1      |2024-12-21 09:42:44|7538725952068831|mechinelearningai@gmail.com|UPDATE   |{predicate -> [\"(id#6115L = 1)\"]}     |null|{3786295340065344}|1221-052838-nbrm25e7|0          |WriteSerializable|false        |{numRemovedFiles -> 1, numRemovedBytes -> 1380, numCopiedRows -> 0, numDeletionVectorsAdded -> 0, numDeletionVectorsRemoved -> 0, numAddedChangeFiles -> 0, executionTimeMs -> 2277, scanTimeMs -> 1199, numAddedFiles -> 1, numUpdatedRows -> 1, numAddedBytes -> 1379, rewriteTimeMs -> 1066}|null        |Databricks-Runtime/12.2.x-scala2.12|\n|0      |2024-12-21 09:39:09|7538725952068831|mechinelearningai@gmail.com|WRITE    |{mode -> Overwrite, partitionBy -> []}|null|{3786295340065344}|1221-052838-nbrm25e7|null       |WriteSerializable|false        |{numFiles -> 3, numOutputRows -> 3, numOutputBytes -> 4076}                                                                                                                                                                                                                                    |null        |Databricks-Runtime/12.2.x-scala2.12|\n+-------+-------------------+----------------+---------------------------+---------+--------------------------------------+----+------------------+--------------------+-----------+-----------------+-------------+-----------------------------------------------------------------------------------------------------------------------------------------------------------------------------------------------------------------------------------------------------------------------------------------------+------------+-----------------------------------+\n\n"
     ]
    }
   ],
   "source": [
    "from delta.tables import DeltaTable\n",
    "\n",
    "# Load the Delta table\n",
    "delta_table = DeltaTable.forPath(spark, \"/mnt/delta/employee_table\")\n",
    "\n",
    "# Get the history of the table (all versions)\n",
    "history_df = delta_table.history()  # Shows the history of changes made to the table\n",
    "history_df.show(truncate=False)\n"
   ]
  },
  {
   "cell_type": "code",
   "execution_count": 0,
   "metadata": {
    "application/vnd.databricks.v1+cell": {
     "cellMetadata": {
      "byteLimit": 2048000,
      "rowLimit": 10000
     },
     "inputWidgets": {},
     "nuid": "003acc0d-a353-4c28-9841-471dab5863e9",
     "showTitle": false,
     "tableResultSettingsMap": {},
     "title": ""
    }
   },
   "outputs": [
    {
     "output_type": "stream",
     "name": "stdout",
     "output_type": "stream",
     "text": [
      "Out[76]: [FileInfo(path='dbfs:/mnt/delta/employee_table/_delta_log/.s3-optimization-0', name='.s3-optimization-0', size=0, modificationTime=1734773948000),\n FileInfo(path='dbfs:/mnt/delta/employee_table/_delta_log/.s3-optimization-1', name='.s3-optimization-1', size=0, modificationTime=1734773948000),\n FileInfo(path='dbfs:/mnt/delta/employee_table/_delta_log/.s3-optimization-2', name='.s3-optimization-2', size=0, modificationTime=1734773948000),\n FileInfo(path='dbfs:/mnt/delta/employee_table/_delta_log/00000000000000000000.crc', name='00000000000000000000.crc', size=3845, modificationTime=1734773954000),\n FileInfo(path='dbfs:/mnt/delta/employee_table/_delta_log/00000000000000000000.json', name='00000000000000000000.json', size=2849, modificationTime=1734773949000),\n FileInfo(path='dbfs:/mnt/delta/employee_table/_delta_log/00000000000000000001.crc', name='00000000000000000001.crc', size=3845, modificationTime=1734774167000),\n FileInfo(path='dbfs:/mnt/delta/employee_table/_delta_log/00000000000000000001.json', name='00000000000000000001.json', size=1709, modificationTime=1734774164000),\n FileInfo(path='dbfs:/mnt/delta/employee_table/_delta_log/00000000000000000002.crc', name='00000000000000000002.crc', size=3263, modificationTime=1734774217000),\n FileInfo(path='dbfs:/mnt/delta/employee_table/_delta_log/00000000000000000002.json', name='00000000000000000002.json', size=1113, modificationTime=1734774214000),\n FileInfo(path='dbfs:/mnt/delta/employee_table/_delta_log/00000000000000000003.crc', name='00000000000000000003.crc', size=4419, modificationTime=1734774259000),\n FileInfo(path='dbfs:/mnt/delta/employee_table/_delta_log/00000000000000000003.json', name='00000000000000000003.json', size=1693, modificationTime=1734774257000),\n FileInfo(path='dbfs:/mnt/delta/employee_table/_delta_log/00000000000000000004.crc', name='00000000000000000004.crc', size=3845, modificationTime=1734774971000),\n FileInfo(path='dbfs:/mnt/delta/employee_table/_delta_log/00000000000000000004.json', name='00000000000000000004.json', size=3740, modificationTime=1734774968000),\n FileInfo(path='dbfs:/mnt/delta/employee_table/_delta_log/00000000000000000005.crc', name='00000000000000000005.crc', size=3845, modificationTime=1734775023000),\n FileInfo(path='dbfs:/mnt/delta/employee_table/_delta_log/00000000000000000005.json', name='00000000000000000005.json', size=3377, modificationTime=1734775021000),\n FileInfo(path='dbfs:/mnt/delta/employee_table/_delta_log/00000000000000000006.crc', name='00000000000000000006.crc', size=3845, modificationTime=1734775029000),\n FileInfo(path='dbfs:/mnt/delta/employee_table/_delta_log/00000000000000000006.json', name='00000000000000000006.json', size=1707, modificationTime=1734775027000),\n FileInfo(path='dbfs:/mnt/delta/employee_table/_delta_log/00000000000000000007.crc', name='00000000000000000007.crc', size=3263, modificationTime=1734775034000),\n FileInfo(path='dbfs:/mnt/delta/employee_table/_delta_log/00000000000000000007.json', name='00000000000000000007.json', size=1114, modificationTime=1734775032000),\n FileInfo(path='dbfs:/mnt/delta/employee_table/_delta_log/00000000000000000008.crc', name='00000000000000000008.crc', size=4419, modificationTime=1734775038000),\n FileInfo(path='dbfs:/mnt/delta/employee_table/_delta_log/00000000000000000008.json', name='00000000000000000008.json', size=1693, modificationTime=1734775037000)]"
     ]
    }
   ],
   "source": [
    "dbutils.fs.ls(\"/mnt/delta/employee_table/_delta_log/\")\n"
   ]
  },
  {
   "cell_type": "code",
   "execution_count": 0,
   "metadata": {
    "application/vnd.databricks.v1+cell": {
     "cellMetadata": {
      "byteLimit": 2048000,
      "rowLimit": 10000
     },
     "inputWidgets": {},
     "nuid": "a9dd299f-0dec-4e54-81c6-3f83e9b9390c",
     "showTitle": false,
     "tableResultSettingsMap": {},
     "title": ""
    }
   },
   "outputs": [
    {
     "output_type": "stream",
     "name": "stdout",
     "output_type": "stream",
     "text": [
      "+---+-----+---+-----------+\n| id| name|age| department|\n+---+-----+---+-----------+\n|  4| Alex| 28|Engineering|\n|  1| John| 30|Engineering|\n|  3|  Sam| 23|      Sales|\n|  5|Emily| 26|         HR|\n+---+-----+---+-----------+\n\n"
     ]
    }
   ],
   "source": [
    "version_df = spark.read.format(\"delta\") \\\n",
    "    .option(\"versionAsOf\", 8) \\\n",
    "    .load(\"/mnt/delta/employee_table\")\n",
    "\n",
    "version_df.show()\n"
   ]
  },
  {
   "cell_type": "markdown",
   "metadata": {
    "application/vnd.databricks.v1+cell": {
     "cellMetadata": {},
     "inputWidgets": {},
     "nuid": "d5cc926e-58cd-42d3-ab0e-11b74efb8147",
     "showTitle": false,
     "tableResultSettingsMap": {},
     "title": ""
    }
   },
   "source": [
    "# অথবা নির্দিষ্ট timestamp দিয়ে:"
   ]
  },
  {
   "cell_type": "code",
   "execution_count": 0,
   "metadata": {
    "application/vnd.databricks.v1+cell": {
     "cellMetadata": {
      "byteLimit": 2048000,
      "rowLimit": 10000
     },
     "inputWidgets": {},
     "nuid": "2c3f6f95-f495-4a01-bb0e-452dbac08382",
     "showTitle": false,
     "tableResultSettingsMap": {},
     "title": ""
    }
   },
   "outputs": [
    {
     "output_type": "display_data",
     "data": {
      "text/plain": [
       "\u001B[0;36m  File \u001B[0;32m<command-405539165512310>:3\u001B[0;36m\u001B[0m\n",
       "\u001B[0;31m    .option(\"timestampAsOf\", \"2024-01-01 12:00:00\") \\\u001B[0m\n",
       "\u001B[0m                                                      \n",
       "^\u001B[0m\n",
       "\u001B[0;31mSyntaxError\u001B[0m\u001B[0;31m:\u001B[0m unexpected character after line continuation character\n"
      ]
     },
     "metadata": {
      "application/vnd.databricks.v1+output": {
       "arguments": {},
       "data": "\u001B[0;36m  File \u001B[0;32m<command-405539165512310>:3\u001B[0;36m\u001B[0m\n\u001B[0;31m    .option(\"timestampAsOf\", \"2024-01-01 12:00:00\") \\\u001B[0m\n\u001B[0m                                                      \n^\u001B[0m\n\u001B[0;31mSyntaxError\u001B[0m\u001B[0;31m:\u001B[0m unexpected character after line continuation character\n",
       "errorSummary": "<span class='ansi-red-fg'>SyntaxError</span>: unexpected character after line continuation character (<command-405539165512310>, line 3)",
       "errorTraceType": "ansi",
       "metadata": {},
       "type": "ipynbError"
      }
     },
     "output_type": "display_data"
    }
   ],
   "source": [
    "# নির্দিষ্ট timestamp থেকে ডেটা পড়ুন\n",
    "timestamp_df = spark.read.format(\"delta\") \\\n",
    "    .option(\"timestampAsOf\", \"2024-01-01 12:00:00\") \\ \n",
    "    .load(\"/mnt/delta/employee_table\")\n",
    "\n",
    "timestamp_df.show()\n"
   ]
  },
  {
   "cell_type": "code",
   "execution_count": 0,
   "metadata": {
    "application/vnd.databricks.v1+cell": {
     "cellMetadata": {
      "byteLimit": 2048000,
      "rowLimit": 10000
     },
     "inputWidgets": {},
     "nuid": "c29d636a-f9ad-42e7-8819-e40e99964b22",
     "showTitle": false,
     "tableResultSettingsMap": {},
     "title": ""
    }
   },
   "outputs": [
    {
     "output_type": "stream",
     "name": "stdout",
     "output_type": "stream",
     "text": [
      "2024-12-21 09:57:17\n"
     ]
    }
   ],
   "source": [
    "from datetime import datetime\n",
    "\n",
    "# Given timestamp in milliseconds\n",
    "timestamp_ms = 1734775037000\n",
    "\n",
    "# Convert to seconds by dividing by 1000\n",
    "timestamp_s = timestamp_ms / 1000\n",
    "\n",
    "# Convert to a human-readable datetime format\n",
    "human_readable = datetime.utcfromtimestamp(timestamp_s).strftime('%Y-%m-%d %H:%M:%S')\n",
    "\n",
    "print(human_readable)\n"
   ]
  },
  {
   "cell_type": "code",
   "execution_count": 0,
   "metadata": {
    "application/vnd.databricks.v1+cell": {
     "cellMetadata": {
      "byteLimit": 2048000,
      "rowLimit": 10000
     },
     "inputWidgets": {},
     "nuid": "ec2631c1-329f-4a75-b87d-88cc2ece4ce9",
     "showTitle": false,
     "tableResultSettingsMap": {},
     "title": ""
    }
   },
   "outputs": [
    {
     "output_type": "stream",
     "name": "stdout",
     "output_type": "stream",
     "text": [
      "+---+-----+---+-----------+\n| id| name|age| department|\n+---+-----+---+-----------+\n|  4| Alex| 28|Engineering|\n|  1| John| 30|Engineering|\n|  3|  Sam| 23|      Sales|\n|  5|Emily| 26|         HR|\n+---+-----+---+-----------+\n\n"
     ]
    }
   ],
   "source": [
    "timestamp_df = spark.read.format(\"delta\") \\\n",
    "    .option(\"timestampAsOf\", \"2024-12-21 09:57:17\") \\\n",
    "    .load(\"/mnt/delta/employee_table\")\n",
    "\n",
    "timestamp_df.show()\n"
   ]
  },
  {
   "cell_type": "markdown",
   "metadata": {
    "application/vnd.databricks.v1+cell": {
     "cellMetadata": {},
     "inputWidgets": {},
     "nuid": "2b07e399-22f2-4d0b-bc4b-f0dffe9bbf52",
     "showTitle": false,
     "tableResultSettingsMap": {},
     "title": ""
    }
   },
   "source": [
    "# Schema Evolution (স্কিমা বিবর্তন)"
   ]
  },
  {
   "cell_type": "code",
   "execution_count": 0,
   "metadata": {
    "application/vnd.databricks.v1+cell": {
     "cellMetadata": {
      "byteLimit": 2048000,
      "rowLimit": 10000
     },
     "inputWidgets": {},
     "nuid": "574587c8-22d0-485f-ad13-334127c39c81",
     "showTitle": false,
     "tableResultSettingsMap": {},
     "title": ""
    }
   },
   "outputs": [
    {
     "output_type": "stream",
     "name": "stdout",
     "output_type": "stream",
     "text": [
      "root\n |-- id: long (nullable = true)\n |-- name: string (nullable = true)\n |-- age: long (nullable = true)\n |-- department: string (nullable = true)\n |-- email: string (nullable = true)\n\n+---+-----+---+-----------+-----------------+\n| id| name|age| department|            email|\n+---+-----+---+-----------+-----------------+\n|  6|Lucas| 31|    Finance|lucas@example.com|\n|  4| Alex| 28|Engineering|             null|\n|  1| John| 30|Engineering|             null|\n|  3|  Sam| 23|      Sales|             null|\n|  5|Emily| 26|         HR|             null|\n+---+-----+---+-----------+-----------------+\n\n"
     ]
    }
   ],
   "source": [
    "# নতুন কলাম 'email' সহ ডেটা\n",
    "new_data_with_schema = [\n",
    "    (6, \"Lucas\", 31, \"Finance\", \"lucas@example.com\")\n",
    "]\n",
    "\n",
    "# নতুন DataFrame তৈরি করুন\n",
    "new_df_with_schema = spark.createDataFrame(new_data_with_schema, [\"id\", \"name\", \"age\", \"department\", \"email\"])\n",
    "\n",
    "# schema evolution সক্রিয় করে ডেটা লিখুন\n",
    "new_df_with_schema.write \\\n",
    "    .format(\"delta\") \\\n",
    "    .mode(\"append\") \\\n",
    "    .option(\"mergeSchema\", \"true\") \\\n",
    "    .save(\"/mnt/delta/employee_table\")\n",
    "\n",
    "# schema পরিবর্তন যাচাই করুন\n",
    "delta_table = DeltaTable.forPath(spark, \"/mnt/delta/employee_table\")\n",
    "delta_table.toDF().printSchema()\n",
    "delta_table.toDF().show()\n",
    "\n"
   ]
  },
  {
   "cell_type": "markdown",
   "metadata": {
    "application/vnd.databricks.v1+cell": {
     "cellMetadata": {},
     "inputWidgets": {},
     "nuid": "c3c23b92-4ff3-4d14-9fe1-d424e94a797b",
     "showTitle": false,
     "tableResultSettingsMap": {},
     "title": ""
    }
   },
   "source": [
    "# Delta Table অপটিমাইজ করুন Z-Ordering সহ"
   ]
  },
  {
   "cell_type": "code",
   "execution_count": 0,
   "metadata": {
    "application/vnd.databricks.v1+cell": {
     "cellMetadata": {
      "byteLimit": 2048000,
      "rowLimit": 10000
     },
     "inputWidgets": {},
     "nuid": "548f5619-54ed-4435-b1bd-fa85a1cae298",
     "showTitle": false,
     "tableResultSettingsMap": {},
     "title": ""
    }
   },
   "outputs": [
    {
     "output_type": "display_data",
     "data": {
      "text/plain": [
       "\u001B[0;31m---------------------------------------------------------------------------\u001B[0m\n",
       "\u001B[0;31mAttributeError\u001B[0m                            Traceback (most recent call last)\n",
       "File \u001B[0;32m<command-405539165512316>:2\u001B[0m\n",
       "\u001B[1;32m      1\u001B[0m \u001B[38;5;66;03m# Delta table অপটিমাইজ করুন Z-ordering এর মাধ্যমে 'department' কলাম অনুযায়ী\u001B[39;00m\n",
       "\u001B[0;32m----> 2\u001B[0m \u001B[43mdelta_table\u001B[49m\u001B[38;5;241;43m.\u001B[39;49m\u001B[43moptimize\u001B[49m\u001B[43m(\u001B[49m\u001B[43m)\u001B[49m\u001B[38;5;241;43m.\u001B[39;49m\u001B[43mzOrderBy\u001B[49m(\u001B[38;5;124m\"\u001B[39m\u001B[38;5;124mdepartment\u001B[39m\u001B[38;5;124m\"\u001B[39m)\n",
       "\n",
       "\u001B[0;31mAttributeError\u001B[0m: 'DeltaOptimizeBuilder' object has no attribute 'zOrderBy'"
      ]
     },
     "metadata": {
      "application/vnd.databricks.v1+output": {
       "arguments": {},
       "data": "\u001B[0;31m---------------------------------------------------------------------------\u001B[0m\n\u001B[0;31mAttributeError\u001B[0m                            Traceback (most recent call last)\nFile \u001B[0;32m<command-405539165512316>:2\u001B[0m\n\u001B[1;32m      1\u001B[0m \u001B[38;5;66;03m# Delta table অপটিমাইজ করুন Z-ordering এর মাধ্যমে 'department' কলাম অনুযায়ী\u001B[39;00m\n\u001B[0;32m----> 2\u001B[0m \u001B[43mdelta_table\u001B[49m\u001B[38;5;241;43m.\u001B[39;49m\u001B[43moptimize\u001B[49m\u001B[43m(\u001B[49m\u001B[43m)\u001B[49m\u001B[38;5;241;43m.\u001B[39;49m\u001B[43mzOrderBy\u001B[49m(\u001B[38;5;124m\"\u001B[39m\u001B[38;5;124mdepartment\u001B[39m\u001B[38;5;124m\"\u001B[39m)\n\n\u001B[0;31mAttributeError\u001B[0m: 'DeltaOptimizeBuilder' object has no attribute 'zOrderBy'",
       "errorSummary": "<span class='ansi-red-fg'>AttributeError</span>: 'DeltaOptimizeBuilder' object has no attribute 'zOrderBy'",
       "errorTraceType": "ansi",
       "metadata": {},
       "type": "ipynbError"
      }
     },
     "output_type": "display_data"
    }
   ],
   "source": [
    "# Delta table অপটিমাইজ করুন Z-ordering এর মাধ্যমে 'department' কলাম অনুযায়ী\n",
    "delta_table.optimize().zOrderBy(\"department\")\n"
   ]
  },
  {
   "cell_type": "markdown",
   "metadata": {
    "application/vnd.databricks.v1+cell": {
     "cellMetadata": {},
     "inputWidgets": {},
     "nuid": "7d6fd9d4-9cc7-4dc8-8a89-fb1ecf22bab0",
     "showTitle": false,
     "tableResultSettingsMap": {},
     "title": ""
    }
   },
   "source": [
    "# পুরনো ভার্সন মুছে ফেলুন (Vacuum)"
   ]
  },
  {
   "cell_type": "code",
   "execution_count": 0,
   "metadata": {
    "application/vnd.databricks.v1+cell": {
     "cellMetadata": {
      "byteLimit": 2048000,
      "rowLimit": 10000
     },
     "inputWidgets": {},
     "nuid": "0b4098f9-91f1-42f6-abc4-3985fd43cec4",
     "showTitle": false,
     "tableResultSettingsMap": {},
     "title": ""
    }
   },
   "outputs": [
    {
     "output_type": "stream",
     "name": "stdout",
     "output_type": "stream",
     "text": [
      "Out[112]: DataFrame[path: string]"
     ]
    }
   ],
   "source": [
    "# ৭ দিন (১৬৮ ঘণ্টা) পুরনো ফাইলগুলি মুছে ফেলুন\n",
    "spark.sql(\"VACUUM '/mnt/delta/employee_table' RETAIN 168 HOURS\")\n"
   ]
  },
  {
   "cell_type": "code",
   "execution_count": 0,
   "metadata": {
    "application/vnd.databricks.v1+cell": {
     "cellMetadata": {
      "byteLimit": 2048000,
      "rowLimit": 10000
     },
     "inputWidgets": {},
     "nuid": "e4fbcb97-c744-495e-b75f-9fb5a52d6d3a",
     "showTitle": false,
     "tableResultSettingsMap": {},
     "title": ""
    }
   },
   "outputs": [
    {
     "output_type": "stream",
     "name": "stdout",
     "output_type": "stream",
     "text": [
      "+---+-----+---+-----------+-----------------+\n| id| name|age| department|            email|\n+---+-----+---+-----------+-----------------+\n|  6|Lucas| 31|    Finance|lucas@example.com|\n|  4| Alex| 28|Engineering|             null|\n|  1| John| 30|Engineering|             null|\n|  5|Emily| 26|         HR|             null|\n|  3|  Sam| 23|      Sales|             null|\n+---+-----+---+-----------+-----------------+\n\nNumber of files remaining in the table: 4\n"
     ]
    }
   ],
   "source": [
    "from delta.tables import DeltaTable\n",
    "\n",
    "# Set the path to your Delta table\n",
    "table_path = '/mnt/delta/employee_table'\n",
    "\n",
    "# Execute the VACUUM command to remove files older than 168 hours (7 days)\n",
    "spark.sql(f\"VACUUM '{table_path}' RETAIN 168 HOURS\")\n",
    "\n",
    "# Verify that the Delta table exists after the vacuum operation\n",
    "delta_table = DeltaTable.forPath(spark, table_path)\n",
    "\n",
    "# Show the table data to verify the contents\n",
    "delta_table.toDF().show()\n",
    "\n",
    "# Optionally, check the number of files remaining in the Delta table\n",
    "file_count = spark.sql(f\"DESCRIBE DETAIL '{table_path}'\").collect()\n",
    "print(f\"Number of files remaining in the table: {file_count[0]['numFiles']}\")\n"
   ]
  },
  {
   "cell_type": "markdown",
   "metadata": {
    "application/vnd.databricks.v1+cell": {
     "cellMetadata": {},
     "inputWidgets": {},
     "nuid": "2bc977c2-dce4-4c5d-8e46-789641ec54a4",
     "showTitle": false,
     "tableResultSettingsMap": {},
     "title": ""
    }
   },
   "source": [
    "বাংলায় ব্যাখ্যা:\n",
    "Delta Lake দিয়ে আপনি ACID ট্রানজেকশন পরিচালনা করতে পারবেন, যেমন আপডেট, ডিলিট, ইনসার্ট, টেম্পোরারি টেবিল ইত্যাদি।\n",
    "Time Travel ফিচার ব্যবহার করে আপনি পূর্ববর্তী ডেটার ভার্সন দেখতে পারেন।\n",
    "Schema Evolution ফিচারটি আপনাকে নতুন কলাম যুক্ত করতে সাহায্য করে।\n",
    "Z-Ordering এবং VACUUM কমান্ড ডেটা অপ্টিমাইজেশন এবং স্টোরেজ ক্লিনআপের জন্য ব্যবহৃত হয়।\n",
    "এটি একটি পূর্ণাঙ্গ Delta Lake ব্যবহারের উদাহরণ যা PySpark এর মাধ্যমে করা হয়েছে।"
   ]
  },
  {
   "cell_type": "markdown",
   "metadata": {
    "application/vnd.databricks.v1+cell": {
     "cellMetadata": {},
     "inputWidgets": {},
     "nuid": "0c9c4103-0366-4767-93d5-3554bd50b53b",
     "showTitle": false,
     "tableResultSettingsMap": {},
     "title": ""
    }
   },
   "source": [
    "# Machine learning code with pyspark"
   ]
  },
  {
   "cell_type": "code",
   "execution_count": 0,
   "metadata": {
    "application/vnd.databricks.v1+cell": {
     "cellMetadata": {
      "byteLimit": 2048000,
      "rowLimit": 10000
     },
     "inputWidgets": {},
     "nuid": "180debaf-66b0-4c62-9515-754c474ac6cf",
     "showTitle": false,
     "tableResultSettingsMap": {},
     "title": ""
    }
   },
   "outputs": [
    {
     "output_type": "display_data",
     "data": {
      "text/plain": [
       "Enter a category (A or B):  B"
      ]
     },
     "metadata": {},
     "output_type": "display_data"
    },
    {
     "output_type": "stream",
     "name": "stdout",
     "output_type": "stream",
     "text": [
      "+--------+----------+\n|category|prediction|\n+--------+----------+\n|       B|       0.0|\n+--------+----------+\n\n"
     ]
    }
   ],
   "source": [
    "from pyspark.sql import SparkSession\n",
    "from pyspark.ml.classification import LogisticRegression\n",
    "from pyspark.ml.feature import VectorAssembler, StringIndexer\n",
    "\n",
    "# Initialize Spark session\n",
    "spark = SparkSession.builder \\\n",
    "    .appName(\"Logistic Regression Example\") \\\n",
    "    .getOrCreate()\n",
    "\n",
    "# Sample data\n",
    "data = [\n",
    "    (0.0, \"A\"),\n",
    "    (1.0, \"B\"),\n",
    "    (1.0, \"A\"),\n",
    "    (0.0, \"B\"),\n",
    "    (1.0, \"A\"),\n",
    "    (0.0, \"B\")\n",
    "]\n",
    "\n",
    "# Create DataFrame\n",
    "df = spark.createDataFrame(data, [\"label\", \"category\"])\n",
    "\n",
    "# Convert categorical variable to numeric\n",
    "indexer = StringIndexer(inputCol=\"category\", outputCol=\"categoryIndex\")\n",
    "indexer_model = indexer.fit(df)  # Fit the StringIndexer to the DataFrame\n",
    "indexed_df = indexer_model.transform(df)  # Transform the DataFrame\n",
    "\n",
    "# Assemble features into a single vector\n",
    "assembler = VectorAssembler(inputCols=[\"categoryIndex\"], outputCol=\"features\")\n",
    "feature_df = assembler.transform(indexed_df)\n",
    "\n",
    "# Split the data into training and test sets\n",
    "training_data, test_data = feature_df.randomSplit([0.7, 0.3])\n",
    "\n",
    "# Create and train the logistic regression model\n",
    "lr = LogisticRegression(maxIter=10, regParam=0.01)\n",
    "model = lr.fit(training_data)\n",
    "\n",
    "# Input system for user data\n",
    "input_category = input(\"Enter a category (A or B): \")\n",
    "\n",
    "# Create a DataFrame for user input\n",
    "user_input = [(0.0, input_category)]\n",
    "user_input_df = spark.createDataFrame(user_input, [\"label\", \"category\"])\n",
    "\n",
    "# Transform user input\n",
    "user_indexed_df = indexer_model.transform(user_input_df)  # Use the fitted model to transform\n",
    "user_feature_df = assembler.transform(user_indexed_df)\n",
    "\n",
    "# Make prediction\n",
    "user_prediction = model.transform(user_feature_df)\n",
    "\n",
    "# Show prediction\n",
    "user_prediction.select(\"category\", \"prediction\").show()"
   ]
  },
  {
   "cell_type": "code",
   "execution_count": 0,
   "metadata": {
    "application/vnd.databricks.v1+cell": {
     "cellMetadata": {},
     "inputWidgets": {},
     "nuid": "5a29d10d-0363-4cf0-a9bf-3d1c5ac55eb0",
     "showTitle": false,
     "tableResultSettingsMap": {},
     "title": ""
    }
   },
   "outputs": [],
   "source": []
  }
 ],
 "metadata": {
  "application/vnd.databricks.v1+notebook": {
   "computePreferences": null,
   "dashboards": [],
   "environmentMetadata": null,
   "language": "python",
   "notebookMetadata": {
    "mostRecentlyExecutedCommandWithImplicitDF": {
     "commandId": 3450634847487964,
     "dataframes": [
      "_sqldf"
     ]
    },
    "pythonIndentUnit": 4
   },
   "notebookName": "spark_scala_to_pyspark_python",
   "widgets": {}
  }
 },
 "nbformat": 4,
 "nbformat_minor": 0
}
